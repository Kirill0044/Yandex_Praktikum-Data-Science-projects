{
 "cells": [
  {
   "cell_type": "markdown",
   "metadata": {
    "toc": true
   },
   "source": [
    "<h1>Содержание<span class=\"tocSkip\"></span></h1>\n",
    "<div class=\"toc\"><ul class=\"toc-item\"><li><span><a href=\"#Шаг-1.-Загрузка-и-обзор-данных.\" data-toc-modified-id=\"Шаг-1.-Загрузка-и-обзор-данных.-1\">Шаг 1. Загрузка и обзор данных.</a></span></li><li><span><a href=\"#Шаг-2.-Предобработка-данных.\" data-toc-modified-id=\"Шаг-2.-Предобработка-данных.-2\">Шаг 2. Предобработка данных.</a></span><ul class=\"toc-item\"><li><span><a href=\"#Шаг-2.1.-Проверка-данных-на-дубликаты.\" data-toc-modified-id=\"Шаг-2.1.-Проверка-данных-на-дубликаты.-2.1\">Шаг 2.1. Проверка данных на дубликаты.</a></span></li><li><span><a href=\"#Шаг-2.2.-Заполнение-пропусков-в-категориальных-данных.\" data-toc-modified-id=\"Шаг-2.2.-Заполнение-пропусков-в-категориальных-данных.-2.2\">Шаг 2.2. Заполнение пропусков в категориальных данных.</a></span><ul class=\"toc-item\"><li><span><a href=\"#Заполнение-пропусков:-&quot;vehicle_type&quot;,-&quot;gearbox&quot;,-&quot;fuel_type&quot;.\" data-toc-modified-id=\"Заполнение-пропусков:-&quot;vehicle_type&quot;,-&quot;gearbox&quot;,-&quot;fuel_type&quot;.-2.2.1\">Заполнение пропусков: \"vehicle_type\", \"gearbox\", \"fuel_type\".</a></span></li><li><span><a href=\"#Заполнение-пропусков:-&quot;model&quot;.\" data-toc-modified-id=\"Заполнение-пропусков:-&quot;model&quot;.-2.2.2\">Заполнение пропусков: \"model\".</a></span></li><li><span><a href=\"#Заполнение-пропусков:-&quot;not_repaired&quot;.\" data-toc-modified-id=\"Заполнение-пропусков:-&quot;not_repaired&quot;.-2.2.3\">Заполнение пропусков: \"not_repaired\".</a></span></li></ul></li><li><span><a href=\"#Шаг-2.3.-Заполнение-пропусков-в-числовых-данных.\" data-toc-modified-id=\"Шаг-2.3.-Заполнение-пропусков-в-числовых-данных.-2.3\">Шаг 2.3. Заполнение пропусков в числовых данных.</a></span><ul class=\"toc-item\"><li><span><a href=\"#Замена-аномальных-значений:-&quot;power&quot;.\" data-toc-modified-id=\"Замена-аномальных-значений:-&quot;power&quot;.-2.3.1\">Замена аномальных значений: \"power\".</a></span></li><li><span><a href=\"#Удаление-аномальных-значений:-&quot;price&quot;.\" data-toc-modified-id=\"Удаление-аномальных-значений:-&quot;price&quot;.-2.3.2\">Удаление аномальных значений: \"price\".</a></span></li><li><span><a href=\"#Удаление-аномальных-значений:-&quot;registration_year&quot;.\" data-toc-modified-id=\"Удаление-аномальных-значений:-&quot;registration_year&quot;.-2.3.3\">Удаление аномальных значений: \"registration_year\".</a></span></li></ul></li><li><span><a href=\"#Шаг-2.4.-Удаление-признаков.\" data-toc-modified-id=\"Шаг-2.4.-Удаление-признаков.-2.4\">Шаг 2.4. Удаление признаков.</a></span></li></ul></li><li><span><a href=\"#Шаг-3.-Подбор-лучшей-модели.\" data-toc-modified-id=\"Шаг-3.-Подбор-лучшей-модели.-3\">Шаг 3. Подбор лучшей модели.</a></span><ul class=\"toc-item\"><li><span><a href=\"#Шаг-3.1.-Подготовка-данных-для-моделей.\" data-toc-modified-id=\"Шаг-3.1.-Подготовка-данных-для-моделей.-3.1\">Шаг 3.1. Подготовка данных для моделей.</a></span></li><li><span><a href=\"#Шаг-3.2.-Создание-функции-для-подбора-лучшей-модели.\" data-toc-modified-id=\"Шаг-3.2.-Создание-функции-для-подбора-лучшей-модели.-3.2\">Шаг 3.2. Создание функции для подбора лучшей модели.</a></span></li><li><span><a href=\"#Шаг-3.3.-Проверка-моделей-на-валидационной-выборке.\" data-toc-modified-id=\"Шаг-3.3.-Проверка-моделей-на-валидационной-выборке.-3.3\">Шаг 3.3. Проверка моделей на валидационной выборке.</a></span></li><li><span><a href=\"#Шаг-3.4.-Проверка-моделей-на-тестовой-выборке.\" data-toc-modified-id=\"Шаг-3.4.-Проверка-моделей-на-тестовой-выборке.-3.4\">Шаг 3.4. Проверка моделей на тестовой выборке.</a></span></li></ul></li><li><span><a href=\"#Шаг-4.-Итоги-исследования.\" data-toc-modified-id=\"Шаг-4.-Итоги-исследования.-4\">Шаг 4. Итоги исследования.</a></span><ul class=\"toc-item\"><li><span><a href=\"#Шаг-4.1.-Описание-хода-исследования.\" data-toc-modified-id=\"Шаг-4.1.-Описание-хода-исследования.-4.1\">Шаг 4.1. Описание хода исследования.</a></span></li><li><span><a href=\"#Шаг-4.2.-Общий-вывод.\" data-toc-modified-id=\"Шаг-4.2.-Общий-вывод.-4.2\">Шаг 4.2. Общий вывод.</a></span></li></ul></li></ul></div>"
   ]
  },
  {
   "cell_type": "markdown",
   "metadata": {},
   "source": [
    "# Определение стоимости автомобилей"
   ]
  },
  {
   "cell_type": "markdown",
   "metadata": {},
   "source": [
    "Сервис по продаже автомобилей с пробегом «Не бит, не крашен» разрабатывает приложение для привлечения новых клиентов. В нём можно быстро узнать рыночную стоимость своего автомобиля. В нашем распоряжении исторические данные: технические характеристики, комплектации и цены автомобилей. Нам нужно построить модель для определения стоимости. \n",
    "\n",
    "Заказчику важны:\n",
    "\n",
    "- качество предсказания;\n",
    "- скорость предсказания;\n",
    "- время обучения."
   ]
  },
  {
   "cell_type": "markdown",
   "metadata": {},
   "source": [
    "**Описание данных:**\n",
    "\n",
    "   - Признаки:\n",
    "    \n",
    "     - \"DateCrawled\" - дата скачивания анкеты из базы\n",
    "     - \"VehicleType\" - тип автомобильного кузова\n",
    "     - \"RegistrationYear\" - год регистрации автомобиля\n",
    "     - \"Gearbox\" - тип коробки передач\n",
    "     - \"Power\" - мощность двигателя (л.с.)\n",
    "     - \"Model\" - модель автомобиля\n",
    "     - \"Kilometer\" - пробег(км)\n",
    "     - \"RegistrationMonth\" - месяц регистрации автомобиля\n",
    "     - \"FuelType\" - тип топлива\n",
    "     - \"Brand\" - марка автомобиля\n",
    "     - \"NotRepaired\" - была машина в ремонте или нет\n",
    "     - \"DateCreated\" - дата создания анкеты\n",
    "     - \"NumberOfPictures\" - количество фотографий автомобиля\n",
    "     - \"PostalCode\" - почтовый индекс владельца анкеты(пользователя)\n",
    "     - \"LastSeen\" - дата последней активности пользователя\n",
    "     \n",
    "   - Целевой признак:\n",
    "   \n",
    "     - \"Price\" - цена(евро)\t"
   ]
  },
  {
   "cell_type": "markdown",
   "metadata": {},
   "source": [
    "##  Шаг 1. Загрузка и обзор данных."
   ]
  },
  {
   "cell_type": "code",
   "execution_count": 1,
   "metadata": {},
   "outputs": [],
   "source": [
    "# импорт библиотеки для предупреждений\n",
    "import warnings\n",
    "warnings.filterwarnings('ignore')"
   ]
  },
  {
   "cell_type": "code",
   "execution_count": 2,
   "metadata": {
    "scrolled": false
   },
   "outputs": [
    {
     "name": "stderr",
     "output_type": "stream",
     "text": [
      "\n",
      "Bad key text.latex.preview in file C:\\Users\\regki\\anaconda3\\envs\\praktikum_env_win_new\\lib\\site-packages\\matplotlib\\mpl-data\\stylelib\\_classic_test.mplstyle, line 123 ('text.latex.preview : False')\n",
      "You probably need to get an updated matplotlibrc file from\n",
      "https://github.com/matplotlib/matplotlib/blob/v3.5.2/matplotlibrc.template\n",
      "or from the matplotlib source distribution\n",
      "\n",
      "Bad key mathtext.fallback_to_cm in file C:\\Users\\regki\\anaconda3\\envs\\praktikum_env_win_new\\lib\\site-packages\\matplotlib\\mpl-data\\stylelib\\_classic_test.mplstyle, line 155 ('mathtext.fallback_to_cm : True  # When True, use symbols from the Computer Modern')\n",
      "You probably need to get an updated matplotlibrc file from\n",
      "https://github.com/matplotlib/matplotlib/blob/v3.5.2/matplotlibrc.template\n",
      "or from the matplotlib source distribution\n",
      "\n",
      "Bad key savefig.jpeg_quality in file C:\\Users\\regki\\anaconda3\\envs\\praktikum_env_win_new\\lib\\site-packages\\matplotlib\\mpl-data\\stylelib\\_classic_test.mplstyle, line 418 ('savefig.jpeg_quality: 95       # when a jpeg is saved, the default quality parameter.')\n",
      "You probably need to get an updated matplotlibrc file from\n",
      "https://github.com/matplotlib/matplotlib/blob/v3.5.2/matplotlibrc.template\n",
      "or from the matplotlib source distribution\n",
      "\n",
      "Bad key keymap.all_axes in file C:\\Users\\regki\\anaconda3\\envs\\praktikum_env_win_new\\lib\\site-packages\\matplotlib\\mpl-data\\stylelib\\_classic_test.mplstyle, line 466 ('keymap.all_axes : a                 # enable all axes')\n",
      "You probably need to get an updated matplotlibrc file from\n",
      "https://github.com/matplotlib/matplotlib/blob/v3.5.2/matplotlibrc.template\n",
      "or from the matplotlib source distribution\n",
      "\n",
      "Bad key animation.avconv_path in file C:\\Users\\regki\\anaconda3\\envs\\praktikum_env_win_new\\lib\\site-packages\\matplotlib\\mpl-data\\stylelib\\_classic_test.mplstyle, line 477 ('animation.avconv_path: avconv     # Path to avconv binary. Without full path')\n",
      "You probably need to get an updated matplotlibrc file from\n",
      "https://github.com/matplotlib/matplotlib/blob/v3.5.2/matplotlibrc.template\n",
      "or from the matplotlib source distribution\n",
      "\n",
      "Bad key animation.avconv_args in file C:\\Users\\regki\\anaconda3\\envs\\praktikum_env_win_new\\lib\\site-packages\\matplotlib\\mpl-data\\stylelib\\_classic_test.mplstyle, line 479 ('animation.avconv_args:            # Additional arguments to pass to avconv')\n",
      "You probably need to get an updated matplotlibrc file from\n",
      "https://github.com/matplotlib/matplotlib/blob/v3.5.2/matplotlibrc.template\n",
      "or from the matplotlib source distribution\n"
     ]
    }
   ],
   "source": [
    "# импорт основных библиотек\n",
    "import pandas as pd\n",
    "import numpy as np\n",
    "import seaborn as sns\n",
    "import matplotlib.pyplot as plt\n",
    "# импорт библиотек моделей \n",
    "from sklearn.dummy import DummyRegressor\n",
    "from catboost import CatBoostRegressor\n",
    "from lightgbm import LGBMRegressor\n",
    "from sklearn.linear_model import LinearRegression\n",
    "from sklearn.tree import DecisionTreeRegressor\n",
    "# импорт библиотек с метриками \n",
    "from sklearn.metrics import mean_squared_error, make_scorer   \n",
    "# импорт методов стандартизации, кодировки, трансформации, разделения выборок и pipline \n",
    "from sklearn.model_selection import train_test_split\n",
    "from sklearn.pipeline import Pipeline\n",
    "from sklearn.preprocessing import StandardScaler, OneHotEncoder\n",
    "from sklearn.compose import ColumnTransformer\n",
    "#импорт GridSearchCV \n",
    "from sklearn.model_selection import GridSearchCV\n",
    "\n",
    "import re\n",
    "\n",
    "from time import time"
   ]
  },
  {
   "cell_type": "code",
   "execution_count": 3,
   "metadata": {
    "scrolled": false
   },
   "outputs": [
    {
     "data": {
      "text/html": [
       "<div>\n",
       "<style scoped>\n",
       "    .dataframe tbody tr th:only-of-type {\n",
       "        vertical-align: middle;\n",
       "    }\n",
       "\n",
       "    .dataframe tbody tr th {\n",
       "        vertical-align: top;\n",
       "    }\n",
       "\n",
       "    .dataframe thead th {\n",
       "        text-align: right;\n",
       "    }\n",
       "</style>\n",
       "<table border=\"1\" class=\"dataframe\">\n",
       "  <thead>\n",
       "    <tr style=\"text-align: right;\">\n",
       "      <th></th>\n",
       "      <th>DateCrawled</th>\n",
       "      <th>Price</th>\n",
       "      <th>VehicleType</th>\n",
       "      <th>RegistrationYear</th>\n",
       "      <th>Gearbox</th>\n",
       "      <th>Power</th>\n",
       "      <th>Model</th>\n",
       "      <th>Kilometer</th>\n",
       "      <th>RegistrationMonth</th>\n",
       "      <th>FuelType</th>\n",
       "      <th>Brand</th>\n",
       "      <th>NotRepaired</th>\n",
       "      <th>DateCreated</th>\n",
       "      <th>NumberOfPictures</th>\n",
       "      <th>PostalCode</th>\n",
       "      <th>LastSeen</th>\n",
       "    </tr>\n",
       "  </thead>\n",
       "  <tbody>\n",
       "    <tr>\n",
       "      <th>0</th>\n",
       "      <td>2016-03-24 11:52:17</td>\n",
       "      <td>480</td>\n",
       "      <td>NaN</td>\n",
       "      <td>1993</td>\n",
       "      <td>manual</td>\n",
       "      <td>0</td>\n",
       "      <td>golf</td>\n",
       "      <td>150000</td>\n",
       "      <td>0</td>\n",
       "      <td>petrol</td>\n",
       "      <td>volkswagen</td>\n",
       "      <td>NaN</td>\n",
       "      <td>2016-03-24</td>\n",
       "      <td>0</td>\n",
       "      <td>70435</td>\n",
       "      <td>2016-04-07 03:16:57</td>\n",
       "    </tr>\n",
       "    <tr>\n",
       "      <th>1</th>\n",
       "      <td>2016-03-24 10:58:45</td>\n",
       "      <td>18300</td>\n",
       "      <td>coupe</td>\n",
       "      <td>2011</td>\n",
       "      <td>manual</td>\n",
       "      <td>190</td>\n",
       "      <td>NaN</td>\n",
       "      <td>125000</td>\n",
       "      <td>5</td>\n",
       "      <td>gasoline</td>\n",
       "      <td>audi</td>\n",
       "      <td>yes</td>\n",
       "      <td>2016-03-24</td>\n",
       "      <td>0</td>\n",
       "      <td>66954</td>\n",
       "      <td>2016-04-07 01:46:50</td>\n",
       "    </tr>\n",
       "    <tr>\n",
       "      <th>2</th>\n",
       "      <td>2016-03-14 12:52:21</td>\n",
       "      <td>9800</td>\n",
       "      <td>suv</td>\n",
       "      <td>2004</td>\n",
       "      <td>auto</td>\n",
       "      <td>163</td>\n",
       "      <td>grand</td>\n",
       "      <td>125000</td>\n",
       "      <td>8</td>\n",
       "      <td>gasoline</td>\n",
       "      <td>jeep</td>\n",
       "      <td>NaN</td>\n",
       "      <td>2016-03-14</td>\n",
       "      <td>0</td>\n",
       "      <td>90480</td>\n",
       "      <td>2016-04-05 12:47:46</td>\n",
       "    </tr>\n",
       "    <tr>\n",
       "      <th>3</th>\n",
       "      <td>2016-03-17 16:54:04</td>\n",
       "      <td>1500</td>\n",
       "      <td>small</td>\n",
       "      <td>2001</td>\n",
       "      <td>manual</td>\n",
       "      <td>75</td>\n",
       "      <td>golf</td>\n",
       "      <td>150000</td>\n",
       "      <td>6</td>\n",
       "      <td>petrol</td>\n",
       "      <td>volkswagen</td>\n",
       "      <td>no</td>\n",
       "      <td>2016-03-17</td>\n",
       "      <td>0</td>\n",
       "      <td>91074</td>\n",
       "      <td>2016-03-17 17:40:17</td>\n",
       "    </tr>\n",
       "    <tr>\n",
       "      <th>4</th>\n",
       "      <td>2016-03-31 17:25:20</td>\n",
       "      <td>3600</td>\n",
       "      <td>small</td>\n",
       "      <td>2008</td>\n",
       "      <td>manual</td>\n",
       "      <td>69</td>\n",
       "      <td>fabia</td>\n",
       "      <td>90000</td>\n",
       "      <td>7</td>\n",
       "      <td>gasoline</td>\n",
       "      <td>skoda</td>\n",
       "      <td>no</td>\n",
       "      <td>2016-03-31</td>\n",
       "      <td>0</td>\n",
       "      <td>60437</td>\n",
       "      <td>2016-04-06 10:17:21</td>\n",
       "    </tr>\n",
       "    <tr>\n",
       "      <th>...</th>\n",
       "      <td>...</td>\n",
       "      <td>...</td>\n",
       "      <td>...</td>\n",
       "      <td>...</td>\n",
       "      <td>...</td>\n",
       "      <td>...</td>\n",
       "      <td>...</td>\n",
       "      <td>...</td>\n",
       "      <td>...</td>\n",
       "      <td>...</td>\n",
       "      <td>...</td>\n",
       "      <td>...</td>\n",
       "      <td>...</td>\n",
       "      <td>...</td>\n",
       "      <td>...</td>\n",
       "      <td>...</td>\n",
       "    </tr>\n",
       "    <tr>\n",
       "      <th>354364</th>\n",
       "      <td>2016-03-21 09:50:58</td>\n",
       "      <td>0</td>\n",
       "      <td>NaN</td>\n",
       "      <td>2005</td>\n",
       "      <td>manual</td>\n",
       "      <td>0</td>\n",
       "      <td>colt</td>\n",
       "      <td>150000</td>\n",
       "      <td>7</td>\n",
       "      <td>petrol</td>\n",
       "      <td>mitsubishi</td>\n",
       "      <td>yes</td>\n",
       "      <td>2016-03-21</td>\n",
       "      <td>0</td>\n",
       "      <td>2694</td>\n",
       "      <td>2016-03-21 10:42:49</td>\n",
       "    </tr>\n",
       "    <tr>\n",
       "      <th>354365</th>\n",
       "      <td>2016-03-14 17:48:27</td>\n",
       "      <td>2200</td>\n",
       "      <td>NaN</td>\n",
       "      <td>2005</td>\n",
       "      <td>NaN</td>\n",
       "      <td>0</td>\n",
       "      <td>NaN</td>\n",
       "      <td>20000</td>\n",
       "      <td>1</td>\n",
       "      <td>NaN</td>\n",
       "      <td>sonstige_autos</td>\n",
       "      <td>NaN</td>\n",
       "      <td>2016-03-14</td>\n",
       "      <td>0</td>\n",
       "      <td>39576</td>\n",
       "      <td>2016-04-06 00:46:52</td>\n",
       "    </tr>\n",
       "    <tr>\n",
       "      <th>354366</th>\n",
       "      <td>2016-03-05 19:56:21</td>\n",
       "      <td>1199</td>\n",
       "      <td>convertible</td>\n",
       "      <td>2000</td>\n",
       "      <td>auto</td>\n",
       "      <td>101</td>\n",
       "      <td>fortwo</td>\n",
       "      <td>125000</td>\n",
       "      <td>3</td>\n",
       "      <td>petrol</td>\n",
       "      <td>smart</td>\n",
       "      <td>no</td>\n",
       "      <td>2016-03-05</td>\n",
       "      <td>0</td>\n",
       "      <td>26135</td>\n",
       "      <td>2016-03-11 18:17:12</td>\n",
       "    </tr>\n",
       "    <tr>\n",
       "      <th>354367</th>\n",
       "      <td>2016-03-19 18:57:12</td>\n",
       "      <td>9200</td>\n",
       "      <td>bus</td>\n",
       "      <td>1996</td>\n",
       "      <td>manual</td>\n",
       "      <td>102</td>\n",
       "      <td>transporter</td>\n",
       "      <td>150000</td>\n",
       "      <td>3</td>\n",
       "      <td>gasoline</td>\n",
       "      <td>volkswagen</td>\n",
       "      <td>no</td>\n",
       "      <td>2016-03-19</td>\n",
       "      <td>0</td>\n",
       "      <td>87439</td>\n",
       "      <td>2016-04-07 07:15:26</td>\n",
       "    </tr>\n",
       "    <tr>\n",
       "      <th>354368</th>\n",
       "      <td>2016-03-20 19:41:08</td>\n",
       "      <td>3400</td>\n",
       "      <td>wagon</td>\n",
       "      <td>2002</td>\n",
       "      <td>manual</td>\n",
       "      <td>100</td>\n",
       "      <td>golf</td>\n",
       "      <td>150000</td>\n",
       "      <td>6</td>\n",
       "      <td>gasoline</td>\n",
       "      <td>volkswagen</td>\n",
       "      <td>NaN</td>\n",
       "      <td>2016-03-20</td>\n",
       "      <td>0</td>\n",
       "      <td>40764</td>\n",
       "      <td>2016-03-24 12:45:21</td>\n",
       "    </tr>\n",
       "  </tbody>\n",
       "</table>\n",
       "<p>354369 rows × 16 columns</p>\n",
       "</div>"
      ],
      "text/plain": [
       "               DateCrawled  Price  VehicleType  RegistrationYear Gearbox  \\\n",
       "0      2016-03-24 11:52:17    480          NaN              1993  manual   \n",
       "1      2016-03-24 10:58:45  18300        coupe              2011  manual   \n",
       "2      2016-03-14 12:52:21   9800          suv              2004    auto   \n",
       "3      2016-03-17 16:54:04   1500        small              2001  manual   \n",
       "4      2016-03-31 17:25:20   3600        small              2008  manual   \n",
       "...                    ...    ...          ...               ...     ...   \n",
       "354364 2016-03-21 09:50:58      0          NaN              2005  manual   \n",
       "354365 2016-03-14 17:48:27   2200          NaN              2005     NaN   \n",
       "354366 2016-03-05 19:56:21   1199  convertible              2000    auto   \n",
       "354367 2016-03-19 18:57:12   9200          bus              1996  manual   \n",
       "354368 2016-03-20 19:41:08   3400        wagon              2002  manual   \n",
       "\n",
       "        Power        Model  Kilometer  RegistrationMonth  FuelType  \\\n",
       "0           0         golf     150000                  0    petrol   \n",
       "1         190          NaN     125000                  5  gasoline   \n",
       "2         163        grand     125000                  8  gasoline   \n",
       "3          75         golf     150000                  6    petrol   \n",
       "4          69        fabia      90000                  7  gasoline   \n",
       "...       ...          ...        ...                ...       ...   \n",
       "354364      0         colt     150000                  7    petrol   \n",
       "354365      0          NaN      20000                  1       NaN   \n",
       "354366    101       fortwo     125000                  3    petrol   \n",
       "354367    102  transporter     150000                  3  gasoline   \n",
       "354368    100         golf     150000                  6  gasoline   \n",
       "\n",
       "                 Brand NotRepaired DateCreated  NumberOfPictures  PostalCode  \\\n",
       "0           volkswagen         NaN  2016-03-24                 0       70435   \n",
       "1                 audi         yes  2016-03-24                 0       66954   \n",
       "2                 jeep         NaN  2016-03-14                 0       90480   \n",
       "3           volkswagen          no  2016-03-17                 0       91074   \n",
       "4                skoda          no  2016-03-31                 0       60437   \n",
       "...                ...         ...         ...               ...         ...   \n",
       "354364      mitsubishi         yes  2016-03-21                 0        2694   \n",
       "354365  sonstige_autos         NaN  2016-03-14                 0       39576   \n",
       "354366           smart          no  2016-03-05                 0       26135   \n",
       "354367      volkswagen          no  2016-03-19                 0       87439   \n",
       "354368      volkswagen         NaN  2016-03-20                 0       40764   \n",
       "\n",
       "                  LastSeen  \n",
       "0      2016-04-07 03:16:57  \n",
       "1      2016-04-07 01:46:50  \n",
       "2      2016-04-05 12:47:46  \n",
       "3      2016-03-17 17:40:17  \n",
       "4      2016-04-06 10:17:21  \n",
       "...                    ...  \n",
       "354364 2016-03-21 10:42:49  \n",
       "354365 2016-04-06 00:46:52  \n",
       "354366 2016-03-11 18:17:12  \n",
       "354367 2016-04-07 07:15:26  \n",
       "354368 2016-03-24 12:45:21  \n",
       "\n",
       "[354369 rows x 16 columns]"
      ]
     },
     "execution_count": 3,
     "metadata": {},
     "output_type": "execute_result"
    }
   ],
   "source": [
    "# чтение файла с датасетом, испульзуя конструкцию try-except, преобразование в формат даты и вывод таблицы\n",
    "try:\n",
    "    df = pd.read_csv('/Users/regki/Downloads/autos.csv', \n",
    "                     parse_dates=['DateCrawled', 'DateCreated', 'LastSeen'])\n",
    "except:\n",
    "    df = pd.read_csv('/datasets/Churn.autos', parse_dates=['DateCrawled', 'DateCreated', 'LastSeen'])\n",
    "df"
   ]
  },
  {
   "cell_type": "code",
   "execution_count": 4,
   "metadata": {},
   "outputs": [
    {
     "name": "stdout",
     "output_type": "stream",
     "text": [
      "<class 'pandas.core.frame.DataFrame'>\n",
      "RangeIndex: 354369 entries, 0 to 354368\n",
      "Data columns (total 16 columns):\n",
      " #   Column             Non-Null Count   Dtype         \n",
      "---  ------             --------------   -----         \n",
      " 0   DateCrawled        354369 non-null  datetime64[ns]\n",
      " 1   Price              354369 non-null  int64         \n",
      " 2   VehicleType        316879 non-null  object        \n",
      " 3   RegistrationYear   354369 non-null  int64         \n",
      " 4   Gearbox            334536 non-null  object        \n",
      " 5   Power              354369 non-null  int64         \n",
      " 6   Model              334664 non-null  object        \n",
      " 7   Kilometer          354369 non-null  int64         \n",
      " 8   RegistrationMonth  354369 non-null  int64         \n",
      " 9   FuelType           321474 non-null  object        \n",
      " 10  Brand              354369 non-null  object        \n",
      " 11  NotRepaired        283215 non-null  object        \n",
      " 12  DateCreated        354369 non-null  datetime64[ns]\n",
      " 13  NumberOfPictures   354369 non-null  int64         \n",
      " 14  PostalCode         354369 non-null  int64         \n",
      " 15  LastSeen           354369 non-null  datetime64[ns]\n",
      "dtypes: datetime64[ns](3), int64(7), object(6)\n",
      "memory usage: 43.3+ MB\n"
     ]
    }
   ],
   "source": [
    "# обзор данных\n",
    "df.info()"
   ]
  },
  {
   "cell_type": "code",
   "execution_count": 5,
   "metadata": {},
   "outputs": [
    {
     "data": {
      "text/plain": [
       "DateCrawled              0\n",
       "Price                    0\n",
       "VehicleType          37490\n",
       "RegistrationYear         0\n",
       "Gearbox              19833\n",
       "Power                    0\n",
       "Model                19705\n",
       "Kilometer                0\n",
       "RegistrationMonth        0\n",
       "FuelType             32895\n",
       "Brand                    0\n",
       "NotRepaired          71154\n",
       "DateCreated              0\n",
       "NumberOfPictures         0\n",
       "PostalCode               0\n",
       "LastSeen                 0\n",
       "dtype: int64"
      ]
     },
     "execution_count": 5,
     "metadata": {},
     "output_type": "execute_result"
    }
   ],
   "source": [
    "# обзор пропусков датасета\n",
    "df.isna().sum()"
   ]
  },
  {
   "cell_type": "markdown",
   "metadata": {},
   "source": [
    "- В датасете 354369 строк с данными и 16 столбцов. 3 столбца с данными в формате даты, 7 столбцов в целочисленном формате и 6 столбцов в строковом.\n",
    "- Уже видна стилистическая ошибка: наименования столбцов в \"верблюжьем регистре\", которые лучше перевести в \"змеиный\". Стиль написания признаков рассморим позже, когда получим уникальные значения в категориальных признаках. \n",
    "- В столбцах с категориями есть пропуски: примерно от 5 до 20 % от общих данных в некоторых из них, следует их устранить для дальнейшего обучения моделей.\n",
    "- Также проверим данные на дубликаты"
   ]
  },
  {
   "cell_type": "code",
   "execution_count": 6,
   "metadata": {},
   "outputs": [],
   "source": [
    "# приведение наименований столбцов в \"змеиный регистр\"\n",
    "df.columns = [re.sub(r'(?<!^)(?=[A-Z])', '_', name).lower() for name in df.columns]"
   ]
  },
  {
   "cell_type": "code",
   "execution_count": 7,
   "metadata": {},
   "outputs": [
    {
     "data": {
      "text/html": [
       "<div>\n",
       "<style scoped>\n",
       "    .dataframe tbody tr th:only-of-type {\n",
       "        vertical-align: middle;\n",
       "    }\n",
       "\n",
       "    .dataframe tbody tr th {\n",
       "        vertical-align: top;\n",
       "    }\n",
       "\n",
       "    .dataframe thead th {\n",
       "        text-align: right;\n",
       "    }\n",
       "</style>\n",
       "<table border=\"1\" class=\"dataframe\">\n",
       "  <thead>\n",
       "    <tr style=\"text-align: right;\">\n",
       "      <th></th>\n",
       "      <th>date_crawled</th>\n",
       "      <th>price</th>\n",
       "      <th>vehicle_type</th>\n",
       "      <th>registration_year</th>\n",
       "      <th>gearbox</th>\n",
       "      <th>power</th>\n",
       "      <th>model</th>\n",
       "      <th>kilometer</th>\n",
       "      <th>registration_month</th>\n",
       "      <th>fuel_type</th>\n",
       "      <th>brand</th>\n",
       "      <th>not_repaired</th>\n",
       "      <th>date_created</th>\n",
       "      <th>number_of_pictures</th>\n",
       "      <th>postal_code</th>\n",
       "      <th>last_seen</th>\n",
       "    </tr>\n",
       "  </thead>\n",
       "  <tbody>\n",
       "    <tr>\n",
       "      <th>0</th>\n",
       "      <td>2016-03-24 11:52:17</td>\n",
       "      <td>480</td>\n",
       "      <td>NaN</td>\n",
       "      <td>1993</td>\n",
       "      <td>manual</td>\n",
       "      <td>0</td>\n",
       "      <td>golf</td>\n",
       "      <td>150000</td>\n",
       "      <td>0</td>\n",
       "      <td>petrol</td>\n",
       "      <td>volkswagen</td>\n",
       "      <td>NaN</td>\n",
       "      <td>2016-03-24</td>\n",
       "      <td>0</td>\n",
       "      <td>70435</td>\n",
       "      <td>2016-04-07 03:16:57</td>\n",
       "    </tr>\n",
       "    <tr>\n",
       "      <th>1</th>\n",
       "      <td>2016-03-24 10:58:45</td>\n",
       "      <td>18300</td>\n",
       "      <td>coupe</td>\n",
       "      <td>2011</td>\n",
       "      <td>manual</td>\n",
       "      <td>190</td>\n",
       "      <td>NaN</td>\n",
       "      <td>125000</td>\n",
       "      <td>5</td>\n",
       "      <td>gasoline</td>\n",
       "      <td>audi</td>\n",
       "      <td>yes</td>\n",
       "      <td>2016-03-24</td>\n",
       "      <td>0</td>\n",
       "      <td>66954</td>\n",
       "      <td>2016-04-07 01:46:50</td>\n",
       "    </tr>\n",
       "    <tr>\n",
       "      <th>2</th>\n",
       "      <td>2016-03-14 12:52:21</td>\n",
       "      <td>9800</td>\n",
       "      <td>suv</td>\n",
       "      <td>2004</td>\n",
       "      <td>auto</td>\n",
       "      <td>163</td>\n",
       "      <td>grand</td>\n",
       "      <td>125000</td>\n",
       "      <td>8</td>\n",
       "      <td>gasoline</td>\n",
       "      <td>jeep</td>\n",
       "      <td>NaN</td>\n",
       "      <td>2016-03-14</td>\n",
       "      <td>0</td>\n",
       "      <td>90480</td>\n",
       "      <td>2016-04-05 12:47:46</td>\n",
       "    </tr>\n",
       "    <tr>\n",
       "      <th>3</th>\n",
       "      <td>2016-03-17 16:54:04</td>\n",
       "      <td>1500</td>\n",
       "      <td>small</td>\n",
       "      <td>2001</td>\n",
       "      <td>manual</td>\n",
       "      <td>75</td>\n",
       "      <td>golf</td>\n",
       "      <td>150000</td>\n",
       "      <td>6</td>\n",
       "      <td>petrol</td>\n",
       "      <td>volkswagen</td>\n",
       "      <td>no</td>\n",
       "      <td>2016-03-17</td>\n",
       "      <td>0</td>\n",
       "      <td>91074</td>\n",
       "      <td>2016-03-17 17:40:17</td>\n",
       "    </tr>\n",
       "    <tr>\n",
       "      <th>4</th>\n",
       "      <td>2016-03-31 17:25:20</td>\n",
       "      <td>3600</td>\n",
       "      <td>small</td>\n",
       "      <td>2008</td>\n",
       "      <td>manual</td>\n",
       "      <td>69</td>\n",
       "      <td>fabia</td>\n",
       "      <td>90000</td>\n",
       "      <td>7</td>\n",
       "      <td>gasoline</td>\n",
       "      <td>skoda</td>\n",
       "      <td>no</td>\n",
       "      <td>2016-03-31</td>\n",
       "      <td>0</td>\n",
       "      <td>60437</td>\n",
       "      <td>2016-04-06 10:17:21</td>\n",
       "    </tr>\n",
       "  </tbody>\n",
       "</table>\n",
       "</div>"
      ],
      "text/plain": [
       "         date_crawled  price vehicle_type  registration_year gearbox  power  \\\n",
       "0 2016-03-24 11:52:17    480          NaN               1993  manual      0   \n",
       "1 2016-03-24 10:58:45  18300        coupe               2011  manual    190   \n",
       "2 2016-03-14 12:52:21   9800          suv               2004    auto    163   \n",
       "3 2016-03-17 16:54:04   1500        small               2001  manual     75   \n",
       "4 2016-03-31 17:25:20   3600        small               2008  manual     69   \n",
       "\n",
       "   model  kilometer  registration_month fuel_type       brand not_repaired  \\\n",
       "0   golf     150000                   0    petrol  volkswagen          NaN   \n",
       "1    NaN     125000                   5  gasoline        audi          yes   \n",
       "2  grand     125000                   8  gasoline        jeep          NaN   \n",
       "3   golf     150000                   6    petrol  volkswagen           no   \n",
       "4  fabia      90000                   7  gasoline       skoda           no   \n",
       "\n",
       "  date_created  number_of_pictures  postal_code           last_seen  \n",
       "0   2016-03-24                   0        70435 2016-04-07 03:16:57  \n",
       "1   2016-03-24                   0        66954 2016-04-07 01:46:50  \n",
       "2   2016-03-14                   0        90480 2016-04-05 12:47:46  \n",
       "3   2016-03-17                   0        91074 2016-03-17 17:40:17  \n",
       "4   2016-03-31                   0        60437 2016-04-06 10:17:21  "
      ]
     },
     "execution_count": 7,
     "metadata": {},
     "output_type": "execute_result"
    }
   ],
   "source": [
    "# обзор верхней части таблицы\n",
    "df.head()"
   ]
  },
  {
   "cell_type": "markdown",
   "metadata": {},
   "source": [
    "## Шаг 2. Предобработка данных."
   ]
  },
  {
   "cell_type": "markdown",
   "metadata": {},
   "source": [
    "### Шаг 2.1. Проверка данных на дубликаты."
   ]
  },
  {
   "cell_type": "markdown",
   "metadata": {},
   "source": [
    "Для дальнейшего удобства предобработки различного типа признаков запишем их по группам в отдельные переменные:"
   ]
  },
  {
   "cell_type": "code",
   "execution_count": 8,
   "metadata": {},
   "outputs": [],
   "source": [
    "# cоздание переменных с различными типами признаков\n",
    "df_categor = df.select_dtypes(include=['object'])\n",
    "df_numeric = df.select_dtypes(include=['int64'])\n",
    "df_date = df.select_dtypes(include=['datetime64[ns]'])"
   ]
  },
  {
   "cell_type": "code",
   "execution_count": 9,
   "metadata": {
    "scrolled": false
   },
   "outputs": [
    {
     "data": {
      "text/html": [
       "<div>\n",
       "<style scoped>\n",
       "    .dataframe tbody tr th:only-of-type {\n",
       "        vertical-align: middle;\n",
       "    }\n",
       "\n",
       "    .dataframe tbody tr th {\n",
       "        vertical-align: top;\n",
       "    }\n",
       "\n",
       "    .dataframe thead th {\n",
       "        text-align: right;\n",
       "    }\n",
       "</style>\n",
       "<table border=\"1\" class=\"dataframe\">\n",
       "  <thead>\n",
       "    <tr style=\"text-align: right;\">\n",
       "      <th></th>\n",
       "      <th>vehicle_type</th>\n",
       "      <th>gearbox</th>\n",
       "      <th>model</th>\n",
       "      <th>fuel_type</th>\n",
       "      <th>brand</th>\n",
       "      <th>not_repaired</th>\n",
       "    </tr>\n",
       "  </thead>\n",
       "  <tbody>\n",
       "    <tr>\n",
       "      <th>0</th>\n",
       "      <td>NaN</td>\n",
       "      <td>manual</td>\n",
       "      <td>golf</td>\n",
       "      <td>petrol</td>\n",
       "      <td>volkswagen</td>\n",
       "      <td>NaN</td>\n",
       "    </tr>\n",
       "    <tr>\n",
       "      <th>1</th>\n",
       "      <td>coupe</td>\n",
       "      <td>manual</td>\n",
       "      <td>NaN</td>\n",
       "      <td>gasoline</td>\n",
       "      <td>audi</td>\n",
       "      <td>yes</td>\n",
       "    </tr>\n",
       "    <tr>\n",
       "      <th>2</th>\n",
       "      <td>suv</td>\n",
       "      <td>auto</td>\n",
       "      <td>grand</td>\n",
       "      <td>gasoline</td>\n",
       "      <td>jeep</td>\n",
       "      <td>NaN</td>\n",
       "    </tr>\n",
       "    <tr>\n",
       "      <th>3</th>\n",
       "      <td>small</td>\n",
       "      <td>manual</td>\n",
       "      <td>golf</td>\n",
       "      <td>petrol</td>\n",
       "      <td>volkswagen</td>\n",
       "      <td>no</td>\n",
       "    </tr>\n",
       "    <tr>\n",
       "      <th>4</th>\n",
       "      <td>small</td>\n",
       "      <td>manual</td>\n",
       "      <td>fabia</td>\n",
       "      <td>gasoline</td>\n",
       "      <td>skoda</td>\n",
       "      <td>no</td>\n",
       "    </tr>\n",
       "  </tbody>\n",
       "</table>\n",
       "</div>"
      ],
      "text/plain": [
       "  vehicle_type gearbox  model fuel_type       brand not_repaired\n",
       "0          NaN  manual   golf    petrol  volkswagen          NaN\n",
       "1        coupe  manual    NaN  gasoline        audi          yes\n",
       "2          suv    auto  grand  gasoline        jeep          NaN\n",
       "3        small  manual   golf    petrol  volkswagen           no\n",
       "4        small  manual  fabia  gasoline       skoda           no"
      ]
     },
     "execution_count": 9,
     "metadata": {},
     "output_type": "execute_result"
    }
   ],
   "source": [
    "# обзор верхней части данных с категориальными переменными\n",
    "df_categor.head()"
   ]
  },
  {
   "cell_type": "code",
   "execution_count": 10,
   "metadata": {
    "scrolled": false
   },
   "outputs": [
    {
     "name": "stdout",
     "output_type": "stream",
     "text": [
      "Уникальные значения в столбце: \"VEHICLE_TYPE\" :\n",
      "\n",
      "['bus' 'convertible' 'coupe' 'other' 'sedan' 'small' 'suv' 'wagon' nan]\n",
      "\n",
      "\n",
      "\n",
      "Уникальные значения в столбце: \"GEARBOX\" :\n",
      "\n",
      "['auto' 'manual' nan]\n",
      "\n",
      "\n",
      "\n",
      "Уникальные значения в столбце: \"MODEL\" :\n",
      "\n",
      "['100' '145' '147' '156' '159' '1_reihe' '1er' '200' '2_reihe' '300c'\n",
      " '3_reihe' '3er' '4_reihe' '500' '5_reihe' '5er' '601' '6_reihe' '6er'\n",
      " '7er' '80' '850' '90' '900' '9000' '911' 'a1' 'a2' 'a3' 'a4' 'a5' 'a6'\n",
      " 'a8' 'a_klasse' 'accord' 'agila' 'alhambra' 'almera' 'altea' 'amarok'\n",
      " 'antara' 'arosa' 'astra' 'auris' 'avensis' 'aveo' 'aygo' 'b_klasse'\n",
      " 'b_max' 'beetle' 'berlingo' 'bora' 'boxster' 'bravo' 'c1' 'c2' 'c3' 'c4'\n",
      " 'c5' 'c_klasse' 'c_max' 'c_reihe' 'caddy' 'calibra' 'captiva' 'carisma'\n",
      " 'carnival' 'cayenne' 'cc' 'ceed' 'charade' 'cherokee' 'citigo' 'civic'\n",
      " 'cl' 'clio' 'clk' 'clubman' 'colt' 'combo' 'cooper' 'cordoba' 'corolla'\n",
      " 'corsa' 'cr_reihe' 'croma' 'crossfire' 'cuore' 'cx_reihe' 'defender'\n",
      " 'delta' 'discovery' 'doblo' 'ducato' 'duster' 'e_klasse' 'elefantino'\n",
      " 'eos' 'escort' 'espace' 'exeo' 'fabia' 'fiesta' 'focus' 'forester'\n",
      " 'forfour' 'fortwo' 'fox' 'freelander' 'fusion' 'g_klasse' 'galant'\n",
      " 'galaxy' 'getz' 'gl' 'glk' 'golf' 'grand' 'i3' 'i_reihe' 'ibiza'\n",
      " 'impreza' 'insignia' 'jazz' 'jetta' 'jimny' 'juke' 'justy' 'ka' 'kadett'\n",
      " 'kaefer' 'kalina' 'kalos' 'kangoo' 'kappa' 'kuga' 'laguna' 'lancer'\n",
      " 'lanos' 'legacy' 'leon' 'lodgy' 'logan' 'lupo' 'lybra' 'm_klasse'\n",
      " 'm_reihe' 'materia' 'matiz' 'megane' 'meriva' 'micra' 'mii' 'modus'\n",
      " 'mondeo' 'move' 'musa' 'mustang' 'mx_reihe' 'navara' 'niva' 'note'\n",
      " 'nubira' 'octavia' 'omega' 'one' 'other' 'outlander' 'pajero' 'panda'\n",
      " 'passat' 'phaeton' 'picanto' 'polo' 'primera' 'ptcruiser' 'punto' 'q3'\n",
      " 'q5' 'q7' 'qashqai' 'r19' 'range_rover' 'range_rover_evoque'\n",
      " 'range_rover_sport' 'rangerover' 'rav' 'rio' 'roadster' 'roomster'\n",
      " 'rx_reihe' 's60' 's_klasse' 's_max' 's_type' 'samara' 'sandero' 'santa'\n",
      " 'scenic' 'scirocco' 'seicento' 'serie_1' 'serie_2' 'serie_3' 'sharan'\n",
      " 'signum' 'sirion' 'sl' 'slk' 'sorento' 'spark' 'spider' 'sportage'\n",
      " 'sprinter' 'stilo' 'superb' 'swift' 'terios' 'tigra' 'tiguan' 'toledo'\n",
      " 'touareg' 'touran' 'transit' 'transporter' 'tt' 'tucson' 'twingo' 'up'\n",
      " 'v40' 'v50' 'v60' 'v70' 'v_klasse' 'vectra' 'verso' 'viano' 'vito'\n",
      " 'vivaro' 'voyager' 'wrangler' 'x_reihe' 'x_trail' 'x_type' 'xc_reihe'\n",
      " 'yaris' 'yeti' 'ypsilon' 'z_reihe' 'zafira' nan]\n",
      "\n",
      "\n",
      "\n",
      "Уникальные значения в столбце: \"FUEL_TYPE\" :\n",
      "\n",
      "['cng' 'electric' 'gasoline' 'hybrid' 'lpg' 'other' 'petrol' nan]\n",
      "\n",
      "\n",
      "\n",
      "Уникальные значения в столбце: \"BRAND\" :\n",
      "\n",
      "['alfa_romeo' 'audi' 'bmw' 'chevrolet' 'chrysler' 'citroen' 'dacia'\n",
      " 'daewoo' 'daihatsu' 'fiat' 'ford' 'honda' 'hyundai' 'jaguar' 'jeep' 'kia'\n",
      " 'lada' 'lancia' 'land_rover' 'mazda' 'mercedes_benz' 'mini' 'mitsubishi'\n",
      " 'nissan' 'opel' 'peugeot' 'porsche' 'renault' 'rover' 'saab' 'seat'\n",
      " 'skoda' 'smart' 'sonstige_autos' 'subaru' 'suzuki' 'toyota' 'trabant'\n",
      " 'volkswagen' 'volvo']\n",
      "\n",
      "\n",
      "\n",
      "Уникальные значения в столбце: \"NOT_REPAIRED\" :\n",
      "\n",
      "['no' 'yes' nan]\n",
      "\n",
      "\n",
      "\n"
     ]
    }
   ],
   "source": [
    "# получение уникальных значений категориальных переменных\n",
    "for i in range(len(df_categor.columns)):\n",
    "    print('Уникальные значения в столбце: \"{}\" :\\n\\n{}'.format(df_categor.columns[i].upper(), \n",
    "                                                               df_categor.iloc[:,i].sort_values().unique()))\n",
    "    print('\\n\\n')"
   ]
  },
  {
   "cell_type": "markdown",
   "metadata": {},
   "source": [
    "Каких-либо аномалий в написании категорий не наблюдается, данные записаны в \"змеином регистре\", поэтому неявных дубликатов не должно быть. Единственное, что категория \"gasoline\" может по смыслу дублировать \"petrol\", скорее всего обе категории означают бензиновый тип мотора. Но мы не будем с этим ничего делать, так как доподлинно не знаем в чем их отличие, кроме того отсутствует дизельный тип мотора."
   ]
  },
  {
   "cell_type": "code",
   "execution_count": 11,
   "metadata": {},
   "outputs": [
    {
     "name": "stdout",
     "output_type": "stream",
     "text": [
      " Количество дубликатов в данных: 4\n"
     ]
    }
   ],
   "source": [
    "# проверка данных на дубликаты\n",
    "print(f' Количество дубликатов в данных: {df.duplicated().sum()}')"
   ]
  },
  {
   "cell_type": "code",
   "execution_count": 12,
   "metadata": {},
   "outputs": [
    {
     "data": {
      "text/html": [
       "<div>\n",
       "<style scoped>\n",
       "    .dataframe tbody tr th:only-of-type {\n",
       "        vertical-align: middle;\n",
       "    }\n",
       "\n",
       "    .dataframe tbody tr th {\n",
       "        vertical-align: top;\n",
       "    }\n",
       "\n",
       "    .dataframe thead th {\n",
       "        text-align: right;\n",
       "    }\n",
       "</style>\n",
       "<table border=\"1\" class=\"dataframe\">\n",
       "  <thead>\n",
       "    <tr style=\"text-align: right;\">\n",
       "      <th></th>\n",
       "      <th>date_crawled</th>\n",
       "      <th>price</th>\n",
       "      <th>vehicle_type</th>\n",
       "      <th>registration_year</th>\n",
       "      <th>gearbox</th>\n",
       "      <th>power</th>\n",
       "      <th>model</th>\n",
       "      <th>kilometer</th>\n",
       "      <th>registration_month</th>\n",
       "      <th>fuel_type</th>\n",
       "      <th>brand</th>\n",
       "      <th>not_repaired</th>\n",
       "      <th>date_created</th>\n",
       "      <th>number_of_pictures</th>\n",
       "      <th>postal_code</th>\n",
       "      <th>last_seen</th>\n",
       "    </tr>\n",
       "  </thead>\n",
       "  <tbody>\n",
       "    <tr>\n",
       "      <th>171088</th>\n",
       "      <td>2016-03-08 18:42:48</td>\n",
       "      <td>1799</td>\n",
       "      <td>coupe</td>\n",
       "      <td>1999</td>\n",
       "      <td>auto</td>\n",
       "      <td>193</td>\n",
       "      <td>clk</td>\n",
       "      <td>20000</td>\n",
       "      <td>7</td>\n",
       "      <td>petrol</td>\n",
       "      <td>mercedes_benz</td>\n",
       "      <td>no</td>\n",
       "      <td>2016-03-08</td>\n",
       "      <td>0</td>\n",
       "      <td>89518</td>\n",
       "      <td>2016-03-09 09:46:57</td>\n",
       "    </tr>\n",
       "    <tr>\n",
       "      <th>231258</th>\n",
       "      <td>2016-03-28 00:56:10</td>\n",
       "      <td>1000</td>\n",
       "      <td>small</td>\n",
       "      <td>2002</td>\n",
       "      <td>manual</td>\n",
       "      <td>83</td>\n",
       "      <td>other</td>\n",
       "      <td>150000</td>\n",
       "      <td>1</td>\n",
       "      <td>petrol</td>\n",
       "      <td>suzuki</td>\n",
       "      <td>no</td>\n",
       "      <td>2016-03-28</td>\n",
       "      <td>0</td>\n",
       "      <td>66589</td>\n",
       "      <td>2016-03-28 08:46:21</td>\n",
       "    </tr>\n",
       "    <tr>\n",
       "      <th>258109</th>\n",
       "      <td>2016-04-03 09:01:15</td>\n",
       "      <td>4699</td>\n",
       "      <td>coupe</td>\n",
       "      <td>2003</td>\n",
       "      <td>auto</td>\n",
       "      <td>218</td>\n",
       "      <td>clk</td>\n",
       "      <td>125000</td>\n",
       "      <td>6</td>\n",
       "      <td>petrol</td>\n",
       "      <td>mercedes_benz</td>\n",
       "      <td>yes</td>\n",
       "      <td>2016-04-03</td>\n",
       "      <td>0</td>\n",
       "      <td>75196</td>\n",
       "      <td>2016-04-07 09:44:54</td>\n",
       "    </tr>\n",
       "    <tr>\n",
       "      <th>325651</th>\n",
       "      <td>2016-03-18 18:46:15</td>\n",
       "      <td>1999</td>\n",
       "      <td>wagon</td>\n",
       "      <td>2001</td>\n",
       "      <td>manual</td>\n",
       "      <td>131</td>\n",
       "      <td>passat</td>\n",
       "      <td>150000</td>\n",
       "      <td>7</td>\n",
       "      <td>gasoline</td>\n",
       "      <td>volkswagen</td>\n",
       "      <td>no</td>\n",
       "      <td>2016-03-18</td>\n",
       "      <td>0</td>\n",
       "      <td>36391</td>\n",
       "      <td>2016-03-18 18:46:15</td>\n",
       "    </tr>\n",
       "  </tbody>\n",
       "</table>\n",
       "</div>"
      ],
      "text/plain": [
       "              date_crawled  price vehicle_type  registration_year gearbox  \\\n",
       "171088 2016-03-08 18:42:48   1799        coupe               1999    auto   \n",
       "231258 2016-03-28 00:56:10   1000        small               2002  manual   \n",
       "258109 2016-04-03 09:01:15   4699        coupe               2003    auto   \n",
       "325651 2016-03-18 18:46:15   1999        wagon               2001  manual   \n",
       "\n",
       "        power   model  kilometer  registration_month fuel_type          brand  \\\n",
       "171088    193     clk      20000                   7    petrol  mercedes_benz   \n",
       "231258     83   other     150000                   1    petrol         suzuki   \n",
       "258109    218     clk     125000                   6    petrol  mercedes_benz   \n",
       "325651    131  passat     150000                   7  gasoline     volkswagen   \n",
       "\n",
       "       not_repaired date_created  number_of_pictures  postal_code  \\\n",
       "171088           no   2016-03-08                   0        89518   \n",
       "231258           no   2016-03-28                   0        66589   \n",
       "258109          yes   2016-04-03                   0        75196   \n",
       "325651           no   2016-03-18                   0        36391   \n",
       "\n",
       "                 last_seen  \n",
       "171088 2016-03-09 09:46:57  \n",
       "231258 2016-03-28 08:46:21  \n",
       "258109 2016-04-07 09:44:54  \n",
       "325651 2016-03-18 18:46:15  "
      ]
     },
     "metadata": {},
     "output_type": "display_data"
    }
   ],
   "source": [
    "# обзор дубликатов в таблице\n",
    "display(df[df.duplicated()])"
   ]
  },
  {
   "cell_type": "code",
   "execution_count": 13,
   "metadata": {},
   "outputs": [
    {
     "name": "stdout",
     "output_type": "stream",
     "text": [
      " Количество дубликатов в данных: 0\n"
     ]
    }
   ],
   "source": [
    "# удаление дубликатов из датасета\n",
    "df = df.drop_duplicates().reset_index(drop=True)\n",
    "print(f' Количество дубликатов в данных: {df.duplicated().sum()}')"
   ]
  },
  {
   "cell_type": "markdown",
   "metadata": {},
   "source": [
    "### Шаг 2.2. Заполнение пропусков в категориальных данных."
   ]
  },
  {
   "cell_type": "markdown",
   "metadata": {},
   "source": [
    "Данные по типу кузова, коробки передач, а также топлива должны быть взаимосвязаны с конкретной моделью автомобиля. Создадим функцию, которая принимает аргументами наименование колонки с пропущенными категориальными данными и наименование группируемых столбцов. Внутри функции столбец с пропусками заполняется в соответствии со сгруппированными данными пропущенных значений по столбцу(в данном случае по модели авто) путем применения методом \"transform\" лямбда-функции, которая сортирует в порядке убывания уже сгруппированные данные и далее выбирает соответствующие группе(модели) самую популярную категорию в столбце с пропущенными значениями.  "
   ]
  },
  {
   "cell_type": "markdown",
   "metadata": {},
   "source": [
    "#### Заполнение пропусков: \"vehicle_type\", \"gearbox\", \"fuel_type\"."
   ]
  },
  {
   "cell_type": "code",
   "execution_count": 14,
   "metadata": {},
   "outputs": [],
   "source": [
    "# создание функции для заполнения пропусков в категориальных данных в соответствии с наименованием модели\n",
    "def fill_pass(column_isna, column_group):\n",
    "    df[column_isna] = df[column_isna].fillna(df.groupby(column_group)[column_isna]\n",
    "                                             .transform(lambda x: x.value_counts().idxmax()))"
   ]
  },
  {
   "cell_type": "code",
   "execution_count": 15,
   "metadata": {},
   "outputs": [],
   "source": [
    "# создание списка с наименованиями столбцов, данные которых заполняем в соответствии с наименованием модели\n",
    "list_cat_depend_model = ['vehicle_type', 'gearbox', 'fuel_type']"
   ]
  },
  {
   "cell_type": "code",
   "execution_count": 16,
   "metadata": {},
   "outputs": [
    {
     "name": "stdout",
     "output_type": "stream",
     "text": [
      "Количество пропущенных значений в данных столбца \"vehicle_type\": 6828\n",
      "\n",
      "\n",
      "Количество пропущенных значений в данных столбца \"gearbox\": 4131\n",
      "\n",
      "\n",
      "Количество пропущенных значений в данных столбца \"fuel_type\": 7163\n",
      "\n",
      "\n"
     ]
    }
   ],
   "source": [
    "# применение в цикле функции для заполнения сгруппированных пропущенных значений в соответствии с наименованием модели \n",
    "for i in range(3):\n",
    "    fill_pass(list_cat_depend_model[i], 'model')\n",
    "    print('Количество пропущенных значений в данных столбца \"{}\": {}'.format(list_cat_depend_model[i],\n",
    "                                                                           df[list_cat_depend_model[i]].isna().sum()))\n",
    "    print('\\n')"
   ]
  },
  {
   "cell_type": "markdown",
   "metadata": {},
   "source": [
    "Пропуски после заполнения все еще есть. Оставшиеся заполним этой же функцией уже исходя из наименования марки автомобиля."
   ]
  },
  {
   "cell_type": "code",
   "execution_count": 17,
   "metadata": {
    "scrolled": true
   },
   "outputs": [
    {
     "name": "stdout",
     "output_type": "stream",
     "text": [
      "Количество пропущенных значений в данных столбца \"vehicle_type\": 0\n",
      "\n",
      "\n",
      "Количество пропущенных значений в данных столбца \"gearbox\": 0\n",
      "\n",
      "\n",
      "Количество пропущенных значений в данных столбца \"fuel_type\": 0\n",
      "\n",
      "\n"
     ]
    }
   ],
   "source": [
    "# применение в цикле функции для заполнения сгруппированных пропущенных значений в соответствии с наименованием марки авто \n",
    "for i in range(3):\n",
    "    fill_pass(list_cat_depend_model[i], 'brand')\n",
    "    print('Количество пропущенных значений в данных столбца \"{}\": {}'.format(list_cat_depend_model[i],\n",
    "                                                                           df[list_cat_depend_model[i]].isna().sum()))\n",
    "    print('\\n')"
   ]
  },
  {
   "cell_type": "markdown",
   "metadata": {},
   "source": [
    "#### Заполнение пропусков: \"model\"."
   ]
  },
  {
   "cell_type": "markdown",
   "metadata": {},
   "source": [
    "Пропущенные значения в данных по модели должны зависеть от наименования марки автомобиля и его мощности мотора. Также создадим функцию аналогичную предыдущей, но изменим параметр в \"value_counts\" на \"dropna=False\"."
   ]
  },
  {
   "cell_type": "code",
   "execution_count": 18,
   "metadata": {},
   "outputs": [],
   "source": [
    "# создание функции для заполнения пропусков в категориальных данных \n",
    "def fill_mod_power(column_isna, column_group):\n",
    "    df[column_isna] = df[column_isna].fillna(df.groupby(column_group)[column_isna]\n",
    "                                             .transform(lambda x: x.value_counts(dropna=False).idxmax()))"
   ]
  },
  {
   "cell_type": "code",
   "execution_count": 19,
   "metadata": {
    "scrolled": false
   },
   "outputs": [],
   "source": [
    "# Применение функции для заполнения пропусков в данных по модели в соответствии с наименованием марки авто и его мощности\n",
    "fill_mod_power('model', ['brand', 'power'])"
   ]
  },
  {
   "cell_type": "markdown",
   "metadata": {},
   "source": [
    "Создадим небольшую функцию для проверки количества пропусков в столбце и вывода этих данных на экран "
   ]
  },
  {
   "cell_type": "code",
   "execution_count": 20,
   "metadata": {},
   "outputs": [],
   "source": [
    "# создание функции для вывода на экран количества пропусков в признаке\n",
    "def isna_column(column):\n",
    "    print(f'Количество пропущенных значений в столбце \"{column}\" : {df[column].isna().sum()}')"
   ]
  },
  {
   "cell_type": "code",
   "execution_count": 21,
   "metadata": {},
   "outputs": [
    {
     "name": "stdout",
     "output_type": "stream",
     "text": [
      "Количество пропущенных значений в столбце \"model\" : 3693\n"
     ]
    }
   ],
   "source": [
    "# вывод на экран количества пропусков в данных по модели\n",
    "isna_column('model')"
   ]
  },
  {
   "cell_type": "markdown",
   "metadata": {},
   "source": [
    "После применения функции пропуски еще присутствуют. Посмотрим марки авто, по которым есть еще пропуски."
   ]
  },
  {
   "cell_type": "code",
   "execution_count": 22,
   "metadata": {},
   "outputs": [],
   "source": [
    "# настройки вывода\n",
    "pd.set_option(\"display.max_rows\", 1000)"
   ]
  },
  {
   "cell_type": "code",
   "execution_count": 23,
   "metadata": {},
   "outputs": [
    {
     "data": {
      "text/plain": [
       "59       sonstige_autos\n",
       "306      sonstige_autos\n",
       "431      sonstige_autos\n",
       "650      sonstige_autos\n",
       "661      sonstige_autos\n",
       "700      sonstige_autos\n",
       "985      sonstige_autos\n",
       "999      sonstige_autos\n",
       "1098     sonstige_autos\n",
       "1106     sonstige_autos\n",
       "1274     sonstige_autos\n",
       "1345     sonstige_autos\n",
       "1405     sonstige_autos\n",
       "1524     sonstige_autos\n",
       "1537     sonstige_autos\n",
       "1744     sonstige_autos\n",
       "1789             nissan\n",
       "1822     sonstige_autos\n",
       "2042               ford\n",
       "2065     sonstige_autos\n",
       "2067     sonstige_autos\n",
       "2077     sonstige_autos\n",
       "2231     sonstige_autos\n",
       "2262     sonstige_autos\n",
       "2273     sonstige_autos\n",
       "2496     sonstige_autos\n",
       "2499     sonstige_autos\n",
       "2503     sonstige_autos\n",
       "2508     sonstige_autos\n",
       "2515     sonstige_autos\n",
       "2790     sonstige_autos\n",
       "3002     sonstige_autos\n",
       "3063     sonstige_autos\n",
       "3243     sonstige_autos\n",
       "3269     sonstige_autos\n",
       "3281               fiat\n",
       "3357     sonstige_autos\n",
       "3398            peugeot\n",
       "3449     sonstige_autos\n",
       "3746              smart\n",
       "3765     sonstige_autos\n",
       "3809     sonstige_autos\n",
       "4043            porsche\n",
       "4130     sonstige_autos\n",
       "4131     sonstige_autos\n",
       "4168     sonstige_autos\n",
       "4292     sonstige_autos\n",
       "4470     sonstige_autos\n",
       "4539     sonstige_autos\n",
       "4682     sonstige_autos\n",
       "4731     sonstige_autos\n",
       "4732     sonstige_autos\n",
       "4930     sonstige_autos\n",
       "5092     sonstige_autos\n",
       "5161     sonstige_autos\n",
       "5219     sonstige_autos\n",
       "5485     sonstige_autos\n",
       "5513             nissan\n",
       "5621     sonstige_autos\n",
       "5924     sonstige_autos\n",
       "6085     sonstige_autos\n",
       "6105     sonstige_autos\n",
       "6160     sonstige_autos\n",
       "6181     sonstige_autos\n",
       "6189     sonstige_autos\n",
       "6266     sonstige_autos\n",
       "6342               seat\n",
       "6514     sonstige_autos\n",
       "6525     sonstige_autos\n",
       "6555     sonstige_autos\n",
       "6580     sonstige_autos\n",
       "6603     sonstige_autos\n",
       "6629     sonstige_autos\n",
       "6762         volkswagen\n",
       "6844     sonstige_autos\n",
       "6863     sonstige_autos\n",
       "6864     sonstige_autos\n",
       "7192     sonstige_autos\n",
       "7248     sonstige_autos\n",
       "7283     sonstige_autos\n",
       "7468     sonstige_autos\n",
       "7720              honda\n",
       "7738     sonstige_autos\n",
       "7742     sonstige_autos\n",
       "7770     sonstige_autos\n",
       "7928     sonstige_autos\n",
       "7953     sonstige_autos\n",
       "8042     sonstige_autos\n",
       "8074     sonstige_autos\n",
       "8221     sonstige_autos\n",
       "8546     sonstige_autos\n",
       "8646     sonstige_autos\n",
       "8714     sonstige_autos\n",
       "8742             lancia\n",
       "8907     sonstige_autos\n",
       "8917     sonstige_autos\n",
       "8926     sonstige_autos\n",
       "9176     sonstige_autos\n",
       "9697             jaguar\n",
       "9755     sonstige_autos\n",
       "9809     sonstige_autos\n",
       "9870     sonstige_autos\n",
       "10002    sonstige_autos\n",
       "10104    sonstige_autos\n",
       "10292            toyota\n",
       "10320    sonstige_autos\n",
       "10428    sonstige_autos\n",
       "10620    sonstige_autos\n",
       "10676    sonstige_autos\n",
       "10738    sonstige_autos\n",
       "10865    sonstige_autos\n",
       "10935    sonstige_autos\n",
       "10981    sonstige_autos\n",
       "11140    sonstige_autos\n",
       "11275    sonstige_autos\n",
       "11388    sonstige_autos\n",
       "11436    sonstige_autos\n",
       "11567    sonstige_autos\n",
       "11673    sonstige_autos\n",
       "11738    sonstige_autos\n",
       "11852    sonstige_autos\n",
       "11963    sonstige_autos\n",
       "12037    sonstige_autos\n",
       "12114    sonstige_autos\n",
       "12317    sonstige_autos\n",
       "12349    sonstige_autos\n",
       "12457    sonstige_autos\n",
       "12507    sonstige_autos\n",
       "12660    sonstige_autos\n",
       "12747    sonstige_autos\n",
       "12910    sonstige_autos\n",
       "12993    sonstige_autos\n",
       "12999    sonstige_autos\n",
       "13061    sonstige_autos\n",
       "13177    sonstige_autos\n",
       "13437    sonstige_autos\n",
       "13532    sonstige_autos\n",
       "13560    sonstige_autos\n",
       "13602    sonstige_autos\n",
       "13630    sonstige_autos\n",
       "13838    sonstige_autos\n",
       "13980    sonstige_autos\n",
       "14101    sonstige_autos\n",
       "14397    sonstige_autos\n",
       "14583    sonstige_autos\n",
       "14640    sonstige_autos\n",
       "14826    sonstige_autos\n",
       "14854             honda\n",
       "14971    sonstige_autos\n",
       "15000    sonstige_autos\n",
       "15147    sonstige_autos\n",
       "15377    sonstige_autos\n",
       "15660    sonstige_autos\n",
       "15673    sonstige_autos\n",
       "15870    sonstige_autos\n",
       "15922    sonstige_autos\n",
       "15924    sonstige_autos\n",
       "16079    sonstige_autos\n",
       "16084    sonstige_autos\n",
       "16197    sonstige_autos\n",
       "16228    sonstige_autos\n",
       "16237    sonstige_autos\n",
       "16251    sonstige_autos\n",
       "16385           renault\n",
       "16408    sonstige_autos\n",
       "16473    sonstige_autos\n",
       "16523    sonstige_autos\n",
       "16635    sonstige_autos\n",
       "16741    sonstige_autos\n",
       "16902    sonstige_autos\n",
       "16986    sonstige_autos\n",
       "17122    sonstige_autos\n",
       "17346    sonstige_autos\n",
       "17480    sonstige_autos\n",
       "17707    sonstige_autos\n",
       "17724    sonstige_autos\n",
       "17903    sonstige_autos\n",
       "17905    sonstige_autos\n",
       "18017    sonstige_autos\n",
       "18051    sonstige_autos\n",
       "18117    sonstige_autos\n",
       "18300    sonstige_autos\n",
       "18310    sonstige_autos\n",
       "18337    sonstige_autos\n",
       "18500    sonstige_autos\n",
       "18587    sonstige_autos\n",
       "18633    sonstige_autos\n",
       "18663    sonstige_autos\n",
       "18751    sonstige_autos\n",
       "18766           citroen\n",
       "18861    sonstige_autos\n",
       "19173    sonstige_autos\n",
       "19244    sonstige_autos\n",
       "19264    sonstige_autos\n",
       "19284    sonstige_autos\n",
       "19429    sonstige_autos\n",
       "19840             mazda\n",
       "19996    sonstige_autos\n",
       "20037              opel\n",
       "20159    sonstige_autos\n",
       "Name: brand, dtype: object"
      ]
     },
     "execution_count": 23,
     "metadata": {},
     "output_type": "execute_result"
    }
   ],
   "source": [
    "# вывод на экран Series с марками авто, по которым есть пропуски модели\n",
    "df[df['model'].isna()]['brand'].head(200)"
   ]
  },
  {
   "cell_type": "code",
   "execution_count": 24,
   "metadata": {},
   "outputs": [
    {
     "data": {
      "text/html": [
       "<div>\n",
       "<style scoped>\n",
       "    .dataframe tbody tr th:only-of-type {\n",
       "        vertical-align: middle;\n",
       "    }\n",
       "\n",
       "    .dataframe tbody tr th {\n",
       "        vertical-align: top;\n",
       "    }\n",
       "\n",
       "    .dataframe thead th {\n",
       "        text-align: right;\n",
       "    }\n",
       "</style>\n",
       "<table border=\"1\" class=\"dataframe\">\n",
       "  <thead>\n",
       "    <tr style=\"text-align: right;\">\n",
       "      <th></th>\n",
       "      <th>date_crawled</th>\n",
       "      <th>price</th>\n",
       "      <th>vehicle_type</th>\n",
       "      <th>registration_year</th>\n",
       "      <th>gearbox</th>\n",
       "      <th>power</th>\n",
       "      <th>model</th>\n",
       "      <th>kilometer</th>\n",
       "      <th>registration_month</th>\n",
       "      <th>fuel_type</th>\n",
       "      <th>brand</th>\n",
       "      <th>not_repaired</th>\n",
       "      <th>date_created</th>\n",
       "      <th>number_of_pictures</th>\n",
       "      <th>postal_code</th>\n",
       "      <th>last_seen</th>\n",
       "    </tr>\n",
       "  </thead>\n",
       "  <tbody>\n",
       "    <tr>\n",
       "      <th>59</th>\n",
       "      <td>2016-03-29 15:48:15</td>\n",
       "      <td>1</td>\n",
       "      <td>suv</td>\n",
       "      <td>1994</td>\n",
       "      <td>manual</td>\n",
       "      <td>286</td>\n",
       "      <td>NaN</td>\n",
       "      <td>150000</td>\n",
       "      <td>11</td>\n",
       "      <td>petrol</td>\n",
       "      <td>sonstige_autos</td>\n",
       "      <td>NaN</td>\n",
       "      <td>2016-03-29</td>\n",
       "      <td>0</td>\n",
       "      <td>53721</td>\n",
       "      <td>2016-04-06 01:44:38</td>\n",
       "    </tr>\n",
       "    <tr>\n",
       "      <th>306</th>\n",
       "      <td>2016-03-21 14:38:37</td>\n",
       "      <td>200</td>\n",
       "      <td>sedan</td>\n",
       "      <td>2009</td>\n",
       "      <td>manual</td>\n",
       "      <td>0</td>\n",
       "      <td>NaN</td>\n",
       "      <td>10000</td>\n",
       "      <td>0</td>\n",
       "      <td>petrol</td>\n",
       "      <td>sonstige_autos</td>\n",
       "      <td>NaN</td>\n",
       "      <td>2016-03-21</td>\n",
       "      <td>0</td>\n",
       "      <td>6493</td>\n",
       "      <td>2016-03-24 02:47:34</td>\n",
       "    </tr>\n",
       "    <tr>\n",
       "      <th>431</th>\n",
       "      <td>2016-03-20 20:45:27</td>\n",
       "      <td>3950</td>\n",
       "      <td>small</td>\n",
       "      <td>2004</td>\n",
       "      <td>auto</td>\n",
       "      <td>5</td>\n",
       "      <td>NaN</td>\n",
       "      <td>70000</td>\n",
       "      <td>5</td>\n",
       "      <td>gasoline</td>\n",
       "      <td>sonstige_autos</td>\n",
       "      <td>no</td>\n",
       "      <td>2016-03-20</td>\n",
       "      <td>0</td>\n",
       "      <td>90562</td>\n",
       "      <td>2016-04-03 04:17:08</td>\n",
       "    </tr>\n",
       "    <tr>\n",
       "      <th>650</th>\n",
       "      <td>2016-03-30 11:55:46</td>\n",
       "      <td>15000</td>\n",
       "      <td>coupe</td>\n",
       "      <td>1971</td>\n",
       "      <td>manual</td>\n",
       "      <td>0</td>\n",
       "      <td>NaN</td>\n",
       "      <td>5000</td>\n",
       "      <td>4</td>\n",
       "      <td>petrol</td>\n",
       "      <td>sonstige_autos</td>\n",
       "      <td>no</td>\n",
       "      <td>2016-03-30</td>\n",
       "      <td>0</td>\n",
       "      <td>51145</td>\n",
       "      <td>2016-04-07 02:45:10</td>\n",
       "    </tr>\n",
       "    <tr>\n",
       "      <th>661</th>\n",
       "      <td>2016-04-01 15:56:27</td>\n",
       "      <td>9900</td>\n",
       "      <td>suv</td>\n",
       "      <td>2000</td>\n",
       "      <td>auto</td>\n",
       "      <td>250</td>\n",
       "      <td>NaN</td>\n",
       "      <td>150000</td>\n",
       "      <td>4</td>\n",
       "      <td>lpg</td>\n",
       "      <td>sonstige_autos</td>\n",
       "      <td>no</td>\n",
       "      <td>2016-04-01</td>\n",
       "      <td>0</td>\n",
       "      <td>17309</td>\n",
       "      <td>2016-04-07 14:56:03</td>\n",
       "    </tr>\n",
       "  </tbody>\n",
       "</table>\n",
       "</div>"
      ],
      "text/plain": [
       "           date_crawled  price vehicle_type  registration_year gearbox  power  \\\n",
       "59  2016-03-29 15:48:15      1          suv               1994  manual    286   \n",
       "306 2016-03-21 14:38:37    200        sedan               2009  manual      0   \n",
       "431 2016-03-20 20:45:27   3950        small               2004    auto      5   \n",
       "650 2016-03-30 11:55:46  15000        coupe               1971  manual      0   \n",
       "661 2016-04-01 15:56:27   9900          suv               2000    auto    250   \n",
       "\n",
       "    model  kilometer  registration_month fuel_type           brand  \\\n",
       "59    NaN     150000                  11    petrol  sonstige_autos   \n",
       "306   NaN      10000                   0    petrol  sonstige_autos   \n",
       "431   NaN      70000                   5  gasoline  sonstige_autos   \n",
       "650   NaN       5000                   4    petrol  sonstige_autos   \n",
       "661   NaN     150000                   4       lpg  sonstige_autos   \n",
       "\n",
       "    not_repaired date_created  number_of_pictures  postal_code  \\\n",
       "59           NaN   2016-03-29                   0        53721   \n",
       "306          NaN   2016-03-21                   0         6493   \n",
       "431           no   2016-03-20                   0        90562   \n",
       "650           no   2016-03-30                   0        51145   \n",
       "661           no   2016-04-01                   0        17309   \n",
       "\n",
       "              last_seen  \n",
       "59  2016-04-06 01:44:38  \n",
       "306 2016-03-24 02:47:34  \n",
       "431 2016-04-03 04:17:08  \n",
       "650 2016-04-07 02:45:10  \n",
       "661 2016-04-07 14:56:03  "
      ]
     },
     "execution_count": 24,
     "metadata": {},
     "output_type": "execute_result"
    }
   ],
   "source": [
    "# вывод верхней части таблицы с наименованиями марки авто \"sonstige_autos\"\n",
    "df[df['brand'] == 'sonstige_autos'].head()"
   ]
  },
  {
   "cell_type": "markdown",
   "metadata": {},
   "source": [
    "В наибольшей степени не заполнены данные моделей по наименованию в марке авто:\"sonstige_autos\", что в переводе с немецкого \"другие автомобили\". Заполним оставшиеся пропуски как \"other\"."
   ]
  },
  {
   "cell_type": "code",
   "execution_count": 25,
   "metadata": {},
   "outputs": [],
   "source": [
    "# заполнение пропусков моделей авто\n",
    "df['model'] = df['model'].fillna('other')"
   ]
  },
  {
   "cell_type": "code",
   "execution_count": 26,
   "metadata": {},
   "outputs": [
    {
     "name": "stdout",
     "output_type": "stream",
     "text": [
      "Количество пропущенных значений в столбце \"model\" : 0\n"
     ]
    }
   ],
   "source": [
    "# вывод на экран количества пропусков в данных по модели\n",
    "isna_column('model')"
   ]
  },
  {
   "cell_type": "markdown",
   "metadata": {},
   "source": [
    "#### Заполнение пропусков: \"not_repaired\"."
   ]
  },
  {
   "cell_type": "code",
   "execution_count": 27,
   "metadata": {},
   "outputs": [],
   "source": [
    "# заполнение пропусков в данных по ремонту авто\n",
    "df['not_repaired'] = df['not_repaired'].fillna('uncknown')"
   ]
  },
  {
   "cell_type": "code",
   "execution_count": 28,
   "metadata": {},
   "outputs": [
    {
     "name": "stdout",
     "output_type": "stream",
     "text": [
      "Количество пропущенных значений в столбце \"not_repaired\" : 0\n"
     ]
    }
   ],
   "source": [
    "# вывод на экран количества пропусков в данных по ремонту авто\n",
    "isna_column('not_repaired')"
   ]
  },
  {
   "cell_type": "markdown",
   "metadata": {},
   "source": [
    "### Шаг 2.3. Заполнение пропусков в числовых данных."
   ]
  },
  {
   "cell_type": "code",
   "execution_count": 29,
   "metadata": {},
   "outputs": [
    {
     "data": {
      "text/html": [
       "<div>\n",
       "<style scoped>\n",
       "    .dataframe tbody tr th:only-of-type {\n",
       "        vertical-align: middle;\n",
       "    }\n",
       "\n",
       "    .dataframe tbody tr th {\n",
       "        vertical-align: top;\n",
       "    }\n",
       "\n",
       "    .dataframe thead th {\n",
       "        text-align: right;\n",
       "    }\n",
       "</style>\n",
       "<table border=\"1\" class=\"dataframe\">\n",
       "  <thead>\n",
       "    <tr style=\"text-align: right;\">\n",
       "      <th></th>\n",
       "      <th>price</th>\n",
       "      <th>registration_year</th>\n",
       "      <th>power</th>\n",
       "      <th>kilometer</th>\n",
       "      <th>registration_month</th>\n",
       "      <th>number_of_pictures</th>\n",
       "      <th>postal_code</th>\n",
       "    </tr>\n",
       "  </thead>\n",
       "  <tbody>\n",
       "    <tr>\n",
       "      <th>count</th>\n",
       "      <td>354369.000000</td>\n",
       "      <td>354369.000000</td>\n",
       "      <td>354369.000000</td>\n",
       "      <td>354369.000000</td>\n",
       "      <td>354369.000000</td>\n",
       "      <td>354369.0</td>\n",
       "      <td>354369.000000</td>\n",
       "    </tr>\n",
       "    <tr>\n",
       "      <th>mean</th>\n",
       "      <td>4416.656776</td>\n",
       "      <td>2004.234448</td>\n",
       "      <td>110.094337</td>\n",
       "      <td>128211.172535</td>\n",
       "      <td>5.714645</td>\n",
       "      <td>0.0</td>\n",
       "      <td>50508.689087</td>\n",
       "    </tr>\n",
       "    <tr>\n",
       "      <th>std</th>\n",
       "      <td>4514.158514</td>\n",
       "      <td>90.227958</td>\n",
       "      <td>189.850405</td>\n",
       "      <td>37905.341530</td>\n",
       "      <td>3.726421</td>\n",
       "      <td>0.0</td>\n",
       "      <td>25783.096248</td>\n",
       "    </tr>\n",
       "    <tr>\n",
       "      <th>min</th>\n",
       "      <td>0.000000</td>\n",
       "      <td>1000.000000</td>\n",
       "      <td>0.000000</td>\n",
       "      <td>5000.000000</td>\n",
       "      <td>0.000000</td>\n",
       "      <td>0.0</td>\n",
       "      <td>1067.000000</td>\n",
       "    </tr>\n",
       "    <tr>\n",
       "      <th>25%</th>\n",
       "      <td>1050.000000</td>\n",
       "      <td>1999.000000</td>\n",
       "      <td>69.000000</td>\n",
       "      <td>125000.000000</td>\n",
       "      <td>3.000000</td>\n",
       "      <td>0.0</td>\n",
       "      <td>30165.000000</td>\n",
       "    </tr>\n",
       "    <tr>\n",
       "      <th>50%</th>\n",
       "      <td>2700.000000</td>\n",
       "      <td>2003.000000</td>\n",
       "      <td>105.000000</td>\n",
       "      <td>150000.000000</td>\n",
       "      <td>6.000000</td>\n",
       "      <td>0.0</td>\n",
       "      <td>49413.000000</td>\n",
       "    </tr>\n",
       "    <tr>\n",
       "      <th>75%</th>\n",
       "      <td>6400.000000</td>\n",
       "      <td>2008.000000</td>\n",
       "      <td>143.000000</td>\n",
       "      <td>150000.000000</td>\n",
       "      <td>9.000000</td>\n",
       "      <td>0.0</td>\n",
       "      <td>71083.000000</td>\n",
       "    </tr>\n",
       "    <tr>\n",
       "      <th>max</th>\n",
       "      <td>20000.000000</td>\n",
       "      <td>9999.000000</td>\n",
       "      <td>20000.000000</td>\n",
       "      <td>150000.000000</td>\n",
       "      <td>12.000000</td>\n",
       "      <td>0.0</td>\n",
       "      <td>99998.000000</td>\n",
       "    </tr>\n",
       "  </tbody>\n",
       "</table>\n",
       "</div>"
      ],
      "text/plain": [
       "               price  registration_year          power      kilometer  \\\n",
       "count  354369.000000      354369.000000  354369.000000  354369.000000   \n",
       "mean     4416.656776        2004.234448     110.094337  128211.172535   \n",
       "std      4514.158514          90.227958     189.850405   37905.341530   \n",
       "min         0.000000        1000.000000       0.000000    5000.000000   \n",
       "25%      1050.000000        1999.000000      69.000000  125000.000000   \n",
       "50%      2700.000000        2003.000000     105.000000  150000.000000   \n",
       "75%      6400.000000        2008.000000     143.000000  150000.000000   \n",
       "max     20000.000000        9999.000000   20000.000000  150000.000000   \n",
       "\n",
       "       registration_month  number_of_pictures    postal_code  \n",
       "count       354369.000000            354369.0  354369.000000  \n",
       "mean             5.714645                 0.0   50508.689087  \n",
       "std              3.726421                 0.0   25783.096248  \n",
       "min              0.000000                 0.0    1067.000000  \n",
       "25%              3.000000                 0.0   30165.000000  \n",
       "50%              6.000000                 0.0   49413.000000  \n",
       "75%              9.000000                 0.0   71083.000000  \n",
       "max             12.000000                 0.0   99998.000000  "
      ]
     },
     "execution_count": 29,
     "metadata": {},
     "output_type": "execute_result"
    }
   ],
   "source": [
    "# вывод на экран среднего и медианного значений, экстремумов, квантилей и стандартного отклонения по числовым признакам\n",
    "df_numeric.describe()"
   ]
  },
  {
   "cell_type": "markdown",
   "metadata": {},
   "source": [
    "- В данных по целевому признаку есть аномальные значения \"0\", наврятли продавать будут бесплатно, хоть 1 евро да укажут. \n",
    "- Мощность, год регистрации явно имеют аномально высокие и низкие значения, которых исходя из элементарной логики не должно быть. \n",
    "- В данных о пробеге не замечено ничего необычного, месяц регистрации имеет аномальное значение: \"0\".\n",
    "- Число картинок во всех данных имеет одно уникальное значение \"0\", значит этот столбец необходимо удалить, он не несет никакой смысловой нагрузки.\n",
    "- Почтовый индекс, судя по всему также не имеет аномальных значений."
   ]
  },
  {
   "cell_type": "markdown",
   "metadata": {},
   "source": [
    "#### Замена аномальных значений: \"power\"."
   ]
  },
  {
   "cell_type": "code",
   "execution_count": 30,
   "metadata": {},
   "outputs": [
    {
     "data": {
      "text/plain": [
       "<AxesSubplot:xlabel='power'>"
      ]
     },
     "execution_count": 30,
     "metadata": {},
     "output_type": "execute_result"
    },
    {
     "data": {
      "image/png": "[encoded data removed]",
      "text/plain": [
       "<Figure size 432x288 with 1 Axes>"
      ]
     },
     "metadata": {
      "needs_background": "light"
     },
     "output_type": "display_data"
    }
   ],
   "source": [
    "# boxplot по мощности авто с ограничением в 1000 л.с.\n",
    "sns.boxplot(data=df[df['power'] < 1000], x='power')"
   ]
  },
  {
   "cell_type": "markdown",
   "metadata": {},
   "source": [
    "Мощность авто в \"0\" л. с., а также выше 800 л. с. посчитаем как аномальную и заменим, как и ранее, значениями у самых популярных сгруппированных данных марки и модели авто. Для начала посчитаем количество таких значений. Чтобы применить функцию, заменим данные значения мощности на \"Nan\"."
   ]
  },
  {
   "cell_type": "code",
   "execution_count": 31,
   "metadata": {},
   "outputs": [
    {
     "data": {
      "text/plain": [
       "40563"
      ]
     },
     "execution_count": 31,
     "metadata": {},
     "output_type": "execute_result"
    }
   ],
   "source": [
    "# подсчет количества аномальных значений мощности\n",
    "df_wrong_power = df.loc[(df['power'] == 0) | (df['power'] > 800)]\n",
    "df_wrong_power['power'].count()"
   ]
  },
  {
   "cell_type": "code",
   "execution_count": 32,
   "metadata": {},
   "outputs": [],
   "source": [
    "#заполнение аномальных значений мощности \"Nan\"\n",
    "df.loc[df_wrong_power.index, 'power'] = np.nan"
   ]
  },
  {
   "cell_type": "code",
   "execution_count": 33,
   "metadata": {},
   "outputs": [
    {
     "name": "stdout",
     "output_type": "stream",
     "text": [
      "Количество пропущенных значений в столбце \"power\" : 40563\n"
     ]
    }
   ],
   "source": [
    "# проверка пропущенных значений мощности\n",
    "isna_column('power')"
   ]
  },
  {
   "cell_type": "code",
   "execution_count": 34,
   "metadata": {},
   "outputs": [
    {
     "data": {
      "text/html": [
       "<div>\n",
       "<style scoped>\n",
       "    .dataframe tbody tr th:only-of-type {\n",
       "        vertical-align: middle;\n",
       "    }\n",
       "\n",
       "    .dataframe tbody tr th {\n",
       "        vertical-align: top;\n",
       "    }\n",
       "\n",
       "    .dataframe thead th {\n",
       "        text-align: right;\n",
       "    }\n",
       "</style>\n",
       "<table border=\"1\" class=\"dataframe\">\n",
       "  <thead>\n",
       "    <tr style=\"text-align: right;\">\n",
       "      <th></th>\n",
       "      <th>date_crawled</th>\n",
       "      <th>price</th>\n",
       "      <th>vehicle_type</th>\n",
       "      <th>registration_year</th>\n",
       "      <th>gearbox</th>\n",
       "      <th>power</th>\n",
       "      <th>model</th>\n",
       "      <th>kilometer</th>\n",
       "      <th>registration_month</th>\n",
       "      <th>fuel_type</th>\n",
       "      <th>brand</th>\n",
       "      <th>not_repaired</th>\n",
       "      <th>date_created</th>\n",
       "      <th>number_of_pictures</th>\n",
       "      <th>postal_code</th>\n",
       "      <th>last_seen</th>\n",
       "    </tr>\n",
       "  </thead>\n",
       "  <tbody>\n",
       "    <tr>\n",
       "      <th>0</th>\n",
       "      <td>2016-03-24 11:52:17</td>\n",
       "      <td>480</td>\n",
       "      <td>sedan</td>\n",
       "      <td>1993</td>\n",
       "      <td>manual</td>\n",
       "      <td>NaN</td>\n",
       "      <td>golf</td>\n",
       "      <td>150000</td>\n",
       "      <td>0</td>\n",
       "      <td>petrol</td>\n",
       "      <td>volkswagen</td>\n",
       "      <td>uncknown</td>\n",
       "      <td>2016-03-24</td>\n",
       "      <td>0</td>\n",
       "      <td>70435</td>\n",
       "      <td>2016-04-07 03:16:57</td>\n",
       "    </tr>\n",
       "    <tr>\n",
       "      <th>1</th>\n",
       "      <td>2016-03-24 10:58:45</td>\n",
       "      <td>18300</td>\n",
       "      <td>coupe</td>\n",
       "      <td>2011</td>\n",
       "      <td>manual</td>\n",
       "      <td>190.0</td>\n",
       "      <td>a4</td>\n",
       "      <td>125000</td>\n",
       "      <td>5</td>\n",
       "      <td>gasoline</td>\n",
       "      <td>audi</td>\n",
       "      <td>yes</td>\n",
       "      <td>2016-03-24</td>\n",
       "      <td>0</td>\n",
       "      <td>66954</td>\n",
       "      <td>2016-04-07 01:46:50</td>\n",
       "    </tr>\n",
       "    <tr>\n",
       "      <th>2</th>\n",
       "      <td>2016-03-14 12:52:21</td>\n",
       "      <td>9800</td>\n",
       "      <td>suv</td>\n",
       "      <td>2004</td>\n",
       "      <td>auto</td>\n",
       "      <td>163.0</td>\n",
       "      <td>grand</td>\n",
       "      <td>125000</td>\n",
       "      <td>8</td>\n",
       "      <td>gasoline</td>\n",
       "      <td>jeep</td>\n",
       "      <td>uncknown</td>\n",
       "      <td>2016-03-14</td>\n",
       "      <td>0</td>\n",
       "      <td>90480</td>\n",
       "      <td>2016-04-05 12:47:46</td>\n",
       "    </tr>\n",
       "    <tr>\n",
       "      <th>3</th>\n",
       "      <td>2016-03-17 16:54:04</td>\n",
       "      <td>1500</td>\n",
       "      <td>small</td>\n",
       "      <td>2001</td>\n",
       "      <td>manual</td>\n",
       "      <td>75.0</td>\n",
       "      <td>golf</td>\n",
       "      <td>150000</td>\n",
       "      <td>6</td>\n",
       "      <td>petrol</td>\n",
       "      <td>volkswagen</td>\n",
       "      <td>no</td>\n",
       "      <td>2016-03-17</td>\n",
       "      <td>0</td>\n",
       "      <td>91074</td>\n",
       "      <td>2016-03-17 17:40:17</td>\n",
       "    </tr>\n",
       "    <tr>\n",
       "      <th>4</th>\n",
       "      <td>2016-03-31 17:25:20</td>\n",
       "      <td>3600</td>\n",
       "      <td>small</td>\n",
       "      <td>2008</td>\n",
       "      <td>manual</td>\n",
       "      <td>69.0</td>\n",
       "      <td>fabia</td>\n",
       "      <td>90000</td>\n",
       "      <td>7</td>\n",
       "      <td>gasoline</td>\n",
       "      <td>skoda</td>\n",
       "      <td>no</td>\n",
       "      <td>2016-03-31</td>\n",
       "      <td>0</td>\n",
       "      <td>60437</td>\n",
       "      <td>2016-04-06 10:17:21</td>\n",
       "    </tr>\n",
       "  </tbody>\n",
       "</table>\n",
       "</div>"
      ],
      "text/plain": [
       "         date_crawled  price vehicle_type  registration_year gearbox  power  \\\n",
       "0 2016-03-24 11:52:17    480        sedan               1993  manual    NaN   \n",
       "1 2016-03-24 10:58:45  18300        coupe               2011  manual  190.0   \n",
       "2 2016-03-14 12:52:21   9800          suv               2004    auto  163.0   \n",
       "3 2016-03-17 16:54:04   1500        small               2001  manual   75.0   \n",
       "4 2016-03-31 17:25:20   3600        small               2008  manual   69.0   \n",
       "\n",
       "   model  kilometer  registration_month fuel_type       brand not_repaired  \\\n",
       "0   golf     150000                   0    petrol  volkswagen     uncknown   \n",
       "1     a4     125000                   5  gasoline        audi          yes   \n",
       "2  grand     125000                   8  gasoline        jeep     uncknown   \n",
       "3   golf     150000                   6    petrol  volkswagen           no   \n",
       "4  fabia      90000                   7  gasoline       skoda           no   \n",
       "\n",
       "  date_created  number_of_pictures  postal_code           last_seen  \n",
       "0   2016-03-24                   0        70435 2016-04-07 03:16:57  \n",
       "1   2016-03-24                   0        66954 2016-04-07 01:46:50  \n",
       "2   2016-03-14                   0        90480 2016-04-05 12:47:46  \n",
       "3   2016-03-17                   0        91074 2016-03-17 17:40:17  \n",
       "4   2016-03-31                   0        60437 2016-04-06 10:17:21  "
      ]
     },
     "execution_count": 34,
     "metadata": {},
     "output_type": "execute_result"
    }
   ],
   "source": [
    "# вывод верхней части таблицы\n",
    "df.head()"
   ]
  },
  {
   "cell_type": "code",
   "execution_count": 35,
   "metadata": {},
   "outputs": [],
   "source": [
    "# Применение функции для заполнения пропусков в данных по мощности в соответствии с наименованием марки авто и модели\n",
    "fill_mod_power('power', ['brand', 'model'])"
   ]
  },
  {
   "cell_type": "code",
   "execution_count": 36,
   "metadata": {},
   "outputs": [
    {
     "name": "stdout",
     "output_type": "stream",
     "text": [
      "Количество пропущенных значений в столбце \"power\" : 9274\n"
     ]
    }
   ],
   "source": [
    "# проверка пропущенных значений мощности\n",
    "isna_column('power')"
   ]
  },
  {
   "cell_type": "markdown",
   "metadata": {},
   "source": [
    "Оставшиеся пропуски заполним медианными значениями, сгруппированными по модели "
   ]
  },
  {
   "cell_type": "code",
   "execution_count": 37,
   "metadata": {},
   "outputs": [],
   "source": [
    "# заполнение пропусков мощности медианными значениями сгруппированными по модели\n",
    "df['power'] = df['power'].fillna(df.groupby('model')['power']\n",
    "                                             .transform(lambda x: x.median()))"
   ]
  },
  {
   "cell_type": "code",
   "execution_count": 38,
   "metadata": {},
   "outputs": [
    {
     "name": "stdout",
     "output_type": "stream",
     "text": [
      "Количество пропущенных значений в столбце \"power\" : 2\n"
     ]
    }
   ],
   "source": [
    "# проверка пропущенных значений мощности\n",
    "isna_column('power')"
   ]
  },
  {
   "cell_type": "code",
   "execution_count": 39,
   "metadata": {},
   "outputs": [
    {
     "data": {
      "text/plain": [
       "Int64Index([234294, 280213], dtype='int64')"
      ]
     },
     "execution_count": 39,
     "metadata": {},
     "output_type": "execute_result"
    }
   ],
   "source": [
    "# сохранение в переменную индексов с пропусками мощности\n",
    "df_isna_power_index = df[df['power'].isna()].index\n",
    "df_isna_power_index"
   ]
  },
  {
   "cell_type": "code",
   "execution_count": 40,
   "metadata": {},
   "outputs": [],
   "source": [
    "# удаление пропусков по мощности\n",
    "df = df.drop(df.loc[df_isna_power_index].index).reset_index(drop=True)"
   ]
  },
  {
   "cell_type": "code",
   "execution_count": 41,
   "metadata": {},
   "outputs": [
    {
     "name": "stdout",
     "output_type": "stream",
     "text": [
      "Количество пропущенных значений в столбце \"power\" : 0\n"
     ]
    }
   ],
   "source": [
    "# проверка пропущенных значений мощности\n",
    "isna_column('power')"
   ]
  },
  {
   "cell_type": "markdown",
   "metadata": {},
   "source": [
    "#### Удаление аномальных значений: \"price\"."
   ]
  },
  {
   "cell_type": "code",
   "execution_count": 42,
   "metadata": {},
   "outputs": [
    {
     "data": {
      "text/plain": [
       "10771"
      ]
     },
     "execution_count": 42,
     "metadata": {},
     "output_type": "execute_result"
    }
   ],
   "source": [
    "# подсчет количества строк с нулевой ценой\n",
    "df_price_0 = df[df['price'] == 0]['price'].count()\n",
    "df_price_0"
   ]
  },
  {
   "cell_type": "code",
   "execution_count": 43,
   "metadata": {},
   "outputs": [
    {
     "name": "stdout",
     "output_type": "stream",
     "text": [
      "Доля значений с нулевой ценой: 3.04%\n"
     ]
    }
   ],
   "source": [
    "# определение доли строк с нулевой ценой\n",
    "print('Доля значений с нулевой ценой: {:.2%}'.format(df_price_0 / len(df)))"
   ]
  },
  {
   "cell_type": "code",
   "execution_count": 44,
   "metadata": {},
   "outputs": [
    {
     "data": {
      "text/plain": [
       "Int64Index([     7,     40,    111,    115,    152,    154,    231,    334,\n",
       "               415,    466,\n",
       "            ...\n",
       "            354057, 354077, 354118, 354152, 354169, 354199, 354232, 354242,\n",
       "            354271, 354358],\n",
       "           dtype='int64', length=10771)"
      ]
     },
     "execution_count": 44,
     "metadata": {},
     "output_type": "execute_result"
    }
   ],
   "source": [
    "# сохранение в переменную индексов строк с нулевой ценой\n",
    "df_price_0_index = df[df['price'] == 0].index\n",
    "df_price_0_index"
   ]
  },
  {
   "cell_type": "code",
   "execution_count": 45,
   "metadata": {},
   "outputs": [],
   "source": [
    "# удаление строк с нулевой ценой\n",
    "df = df.drop(df.loc[df_price_0_index].index).reset_index(drop=True)"
   ]
  },
  {
   "cell_type": "code",
   "execution_count": 46,
   "metadata": {
    "scrolled": false
   },
   "outputs": [
    {
     "data": {
      "text/plain": [
       "<matplotlib.lines.Line2D at 0x172880c6f48>"
      ]
     },
     "execution_count": 46,
     "metadata": {},
     "output_type": "execute_result"
    },
    {
     "data": {
      "image/png": "[encoded data removed]",
      "text/plain": [
       "<Figure size 720x360 with 1 Axes>"
      ]
     },
     "metadata": {
      "needs_background": "light"
     },
     "output_type": "display_data"
    }
   ],
   "source": [
    "# создание гистограммы распределния по цене автомобиля. Красной вертикальной линией показана медиана значений,\n",
    "# тонкими оранжевыми вертикальными линияими показаны 1 и 3 квартиль данных. Пунктирными вертикальными линиями показаны\n",
    "# полуторный межквартильный размах, который записан в переменную iqr. \n",
    "iqr = (df['price'].quantile(0.75) - df['price'].quantile(0.25))\n",
    "df.hist('price' , bins=50, rwidth=0.9, figsize=(10 , 5))\n",
    "plt.title('Цена авто')\n",
    "plt.xlabel('price')\n",
    "plt.ylabel('частота')\n",
    "plt.axvline( x=df['price'].median() , ymin=0 , c='red' , lw=2 )\n",
    "plt.axvline( x=df['price'].quantile(0.25) , ymin=0 , c='orange' , lw=1 )\n",
    "plt.axvline( x=df['price'].quantile(0.75) , ymin=0 , c='orange' , lw=1 )\n",
    "plt.axvline(x=(df['price'].quantile(0.25) - 1.5*iqr) , c='orange' , lw=3 , ls=':')\n",
    "plt.axvline(x=(df['price'].quantile(0.75) + 1.5*iqr) , c='orange' , lw=3 , ls=':')"
   ]
  },
  {
   "cell_type": "markdown",
   "metadata": {},
   "source": [
    "Распределение цены автомобиля далеко от нормального, имеет явное смещение влево к минимальным значениям, и имеет длинный \"хвост\" в сторону максимальных. Технику \"BootStrap\" использовать для прогнозирования не будем, так как данных достаточно много, а модели градиентного бустинга сложные, но будем использовать \"GridSearchCV\" со встороенной функцией кросс-валидации. "
   ]
  },
  {
   "cell_type": "markdown",
   "metadata": {},
   "source": [
    "#### Удаление аномальных значений: \"registration_year\"."
   ]
  },
  {
   "cell_type": "code",
   "execution_count": 47,
   "metadata": {},
   "outputs": [
    {
     "data": {
      "text/plain": [
       "<matplotlib.lines.Line2D at 0x1728a34f108>"
      ]
     },
     "execution_count": 47,
     "metadata": {},
     "output_type": "execute_result"
    },
    {
     "data": {
      "image/png": "[encoded data removed]",
      "text/plain": [
       "<Figure size 720x360 with 1 Axes>"
      ]
     },
     "metadata": {
      "needs_background": "light"
     },
     "output_type": "display_data"
    }
   ],
   "source": [
    "# создание гистограммы распределния по году регистрации авто. Красной вертикальной линией показана медиана значений,\n",
    "# тонкими оранжевыми вертикальными линияими показаны 1 и 3 квартиль данных. Пунктирными вертикальными линиями показаны\n",
    "# полуторный межквартильный размах, который записан в переменную iqr. \n",
    "iqr = (df['registration_year'].quantile(0.75) - df['registration_year'].quantile(0.25))\n",
    "df.hist('registration_year' , bins=50, rwidth=0.9, range=(1900, 2020), figsize=(10 , 5))\n",
    "plt.title('Год регистрации авто')\n",
    "plt.xlabel('price')\n",
    "plt.ylabel('частота')\n",
    "plt.axvline( x=df['registration_year'].median() , ymin=0 , c='red' , lw=2 )\n",
    "plt.axvline( x=df['registration_year'].quantile(0.25) , ymin=0 , c='orange' , lw=1 )\n",
    "plt.axvline( x=df['registration_year'].quantile(0.75) , ymin=0 , c='orange' , lw=1 )\n",
    "plt.axvline(x=(df['registration_year'].quantile(0.25) - 1.5*iqr) , c='orange' , lw=3 , ls=':')\n",
    "plt.axvline(x=(df['registration_year'].quantile(0.75) + 1.5*iqr) , c='orange' , lw=3 , ls=':')"
   ]
  },
  {
   "cell_type": "markdown",
   "metadata": {},
   "source": [
    "Очень маловероятно, что во всей базе найдется авто возрастом близким к 100 годам, но допустим это и зададим нижнюю границу постановки авто на регистрацию как \"1920\" год. Но верхний предел может ограничиваться только годом, когда создавалась анкета для продажи. Кроме того, год регистрации авто не может быть больше, чем год создания анкеты. Создадим новый признак: \"год создания анкеты\". Далее удалим все данные, где год регистрации больше года создания анкеты и меньше установленного нижнего предела."
   ]
  },
  {
   "cell_type": "code",
   "execution_count": 48,
   "metadata": {},
   "outputs": [],
   "source": [
    "# создание нового столбца с признаком \"год создания анкеты\"\n",
    "df.insert(13, 'year_created', df['date_created'].dt.year)"
   ]
  },
  {
   "cell_type": "code",
   "execution_count": 49,
   "metadata": {
    "scrolled": false
   },
   "outputs": [
    {
     "data": {
      "text/html": [
       "<div>\n",
       "<style scoped>\n",
       "    .dataframe tbody tr th:only-of-type {\n",
       "        vertical-align: middle;\n",
       "    }\n",
       "\n",
       "    .dataframe tbody tr th {\n",
       "        vertical-align: top;\n",
       "    }\n",
       "\n",
       "    .dataframe thead th {\n",
       "        text-align: right;\n",
       "    }\n",
       "</style>\n",
       "<table border=\"1\" class=\"dataframe\">\n",
       "  <thead>\n",
       "    <tr style=\"text-align: right;\">\n",
       "      <th></th>\n",
       "      <th>date_crawled</th>\n",
       "      <th>price</th>\n",
       "      <th>vehicle_type</th>\n",
       "      <th>registration_year</th>\n",
       "      <th>gearbox</th>\n",
       "      <th>power</th>\n",
       "      <th>model</th>\n",
       "      <th>kilometer</th>\n",
       "      <th>registration_month</th>\n",
       "      <th>fuel_type</th>\n",
       "      <th>brand</th>\n",
       "      <th>not_repaired</th>\n",
       "      <th>date_created</th>\n",
       "      <th>year_created</th>\n",
       "      <th>number_of_pictures</th>\n",
       "      <th>postal_code</th>\n",
       "      <th>last_seen</th>\n",
       "    </tr>\n",
       "  </thead>\n",
       "  <tbody>\n",
       "    <tr>\n",
       "      <th>0</th>\n",
       "      <td>2016-03-24 11:52:17</td>\n",
       "      <td>480</td>\n",
       "      <td>sedan</td>\n",
       "      <td>1993</td>\n",
       "      <td>manual</td>\n",
       "      <td>75.0</td>\n",
       "      <td>golf</td>\n",
       "      <td>150000</td>\n",
       "      <td>0</td>\n",
       "      <td>petrol</td>\n",
       "      <td>volkswagen</td>\n",
       "      <td>uncknown</td>\n",
       "      <td>2016-03-24</td>\n",
       "      <td>2016</td>\n",
       "      <td>0</td>\n",
       "      <td>70435</td>\n",
       "      <td>2016-04-07 03:16:57</td>\n",
       "    </tr>\n",
       "    <tr>\n",
       "      <th>1</th>\n",
       "      <td>2016-03-24 10:58:45</td>\n",
       "      <td>18300</td>\n",
       "      <td>coupe</td>\n",
       "      <td>2011</td>\n",
       "      <td>manual</td>\n",
       "      <td>190.0</td>\n",
       "      <td>a4</td>\n",
       "      <td>125000</td>\n",
       "      <td>5</td>\n",
       "      <td>gasoline</td>\n",
       "      <td>audi</td>\n",
       "      <td>yes</td>\n",
       "      <td>2016-03-24</td>\n",
       "      <td>2016</td>\n",
       "      <td>0</td>\n",
       "      <td>66954</td>\n",
       "      <td>2016-04-07 01:46:50</td>\n",
       "    </tr>\n",
       "    <tr>\n",
       "      <th>2</th>\n",
       "      <td>2016-03-14 12:52:21</td>\n",
       "      <td>9800</td>\n",
       "      <td>suv</td>\n",
       "      <td>2004</td>\n",
       "      <td>auto</td>\n",
       "      <td>163.0</td>\n",
       "      <td>grand</td>\n",
       "      <td>125000</td>\n",
       "      <td>8</td>\n",
       "      <td>gasoline</td>\n",
       "      <td>jeep</td>\n",
       "      <td>uncknown</td>\n",
       "      <td>2016-03-14</td>\n",
       "      <td>2016</td>\n",
       "      <td>0</td>\n",
       "      <td>90480</td>\n",
       "      <td>2016-04-05 12:47:46</td>\n",
       "    </tr>\n",
       "    <tr>\n",
       "      <th>3</th>\n",
       "      <td>2016-03-17 16:54:04</td>\n",
       "      <td>1500</td>\n",
       "      <td>small</td>\n",
       "      <td>2001</td>\n",
       "      <td>manual</td>\n",
       "      <td>75.0</td>\n",
       "      <td>golf</td>\n",
       "      <td>150000</td>\n",
       "      <td>6</td>\n",
       "      <td>petrol</td>\n",
       "      <td>volkswagen</td>\n",
       "      <td>no</td>\n",
       "      <td>2016-03-17</td>\n",
       "      <td>2016</td>\n",
       "      <td>0</td>\n",
       "      <td>91074</td>\n",
       "      <td>2016-03-17 17:40:17</td>\n",
       "    </tr>\n",
       "    <tr>\n",
       "      <th>4</th>\n",
       "      <td>2016-03-31 17:25:20</td>\n",
       "      <td>3600</td>\n",
       "      <td>small</td>\n",
       "      <td>2008</td>\n",
       "      <td>manual</td>\n",
       "      <td>69.0</td>\n",
       "      <td>fabia</td>\n",
       "      <td>90000</td>\n",
       "      <td>7</td>\n",
       "      <td>gasoline</td>\n",
       "      <td>skoda</td>\n",
       "      <td>no</td>\n",
       "      <td>2016-03-31</td>\n",
       "      <td>2016</td>\n",
       "      <td>0</td>\n",
       "      <td>60437</td>\n",
       "      <td>2016-04-06 10:17:21</td>\n",
       "    </tr>\n",
       "  </tbody>\n",
       "</table>\n",
       "</div>"
      ],
      "text/plain": [
       "         date_crawled  price vehicle_type  registration_year gearbox  power  \\\n",
       "0 2016-03-24 11:52:17    480        sedan               1993  manual   75.0   \n",
       "1 2016-03-24 10:58:45  18300        coupe               2011  manual  190.0   \n",
       "2 2016-03-14 12:52:21   9800          suv               2004    auto  163.0   \n",
       "3 2016-03-17 16:54:04   1500        small               2001  manual   75.0   \n",
       "4 2016-03-31 17:25:20   3600        small               2008  manual   69.0   \n",
       "\n",
       "   model  kilometer  registration_month fuel_type       brand not_repaired  \\\n",
       "0   golf     150000                   0    petrol  volkswagen     uncknown   \n",
       "1     a4     125000                   5  gasoline        audi          yes   \n",
       "2  grand     125000                   8  gasoline        jeep     uncknown   \n",
       "3   golf     150000                   6    petrol  volkswagen           no   \n",
       "4  fabia      90000                   7  gasoline       skoda           no   \n",
       "\n",
       "  date_created  year_created  number_of_pictures  postal_code  \\\n",
       "0   2016-03-24          2016                   0        70435   \n",
       "1   2016-03-24          2016                   0        66954   \n",
       "2   2016-03-14          2016                   0        90480   \n",
       "3   2016-03-17          2016                   0        91074   \n",
       "4   2016-03-31          2016                   0        60437   \n",
       "\n",
       "            last_seen  \n",
       "0 2016-04-07 03:16:57  \n",
       "1 2016-04-07 01:46:50  \n",
       "2 2016-04-05 12:47:46  \n",
       "3 2016-03-17 17:40:17  \n",
       "4 2016-04-06 10:17:21  "
      ]
     },
     "execution_count": 49,
     "metadata": {},
     "output_type": "execute_result"
    }
   ],
   "source": [
    "# вывод на экран \n",
    "df.head()"
   ]
  },
  {
   "cell_type": "code",
   "execution_count": 50,
   "metadata": {},
   "outputs": [],
   "source": [
    "# запись в переменную данных с годом регистрации больше года создания анкеты\n",
    "df_year_reg_wrong = df.loc[df['registration_year'] > df['year_created'], 'registration_year']"
   ]
  },
  {
   "cell_type": "code",
   "execution_count": 51,
   "metadata": {},
   "outputs": [
    {
     "name": "stdout",
     "output_type": "stream",
     "text": [
      "Количество объявлений с годом регистрации позже года создания анкеты: 13779\n"
     ]
    }
   ],
   "source": [
    "# вывод на экран количества объявлений с годом регистрации позже года создания анкеты\n",
    "print(f'Количество объявлений с годом регистрации позже года создания анкеты: {df_year_reg_wrong.count()}')"
   ]
  },
  {
   "cell_type": "code",
   "execution_count": 52,
   "metadata": {},
   "outputs": [],
   "source": [
    "# запись в переменную данных с годом регистрации ранее 1920 года\n",
    "df_year_reg_old = df.loc[df['registration_year'] < 1920, 'registration_year']"
   ]
  },
  {
   "cell_type": "code",
   "execution_count": 53,
   "metadata": {},
   "outputs": [
    {
     "name": "stdout",
     "output_type": "stream",
     "text": [
      "Количество объявлений с годом регистрации раньше 1920 года: 109\n"
     ]
    }
   ],
   "source": [
    "# вывод на экран количества объявлений с годом регистрации ранее 1920 года\n",
    "print(f'Количество объявлений с годом регистрации раньше 1920 года: {df_year_reg_old.count()}' )"
   ]
  },
  {
   "cell_type": "code",
   "execution_count": 54,
   "metadata": {},
   "outputs": [
    {
     "name": "stdout",
     "output_type": "stream",
     "text": [
      "Доля значений с аномальным годом регистрации: 4.04%\n"
     ]
    }
   ],
   "source": [
    "# вывод на экран количества объявлений с аномальным годом регистрации\n",
    "print('Доля значений с аномальным годом регистрации: {:.2%}'.format((df_year_reg_wrong.count() + \n",
    "                                                                     df_year_reg_old.count())/ len(df)))"
   ]
  },
  {
   "cell_type": "code",
   "execution_count": 55,
   "metadata": {},
   "outputs": [],
   "source": [
    "# удаление данных с аномальным годом регистрации\n",
    "df = df.drop(df.loc[df_year_reg_wrong.index | df_year_reg_old.index].index).reset_index(drop=True)"
   ]
  },
  {
   "cell_type": "code",
   "execution_count": 56,
   "metadata": {},
   "outputs": [
    {
     "data": {
      "text/plain": [
       "29392"
      ]
     },
     "execution_count": 56,
     "metadata": {},
     "output_type": "execute_result"
    }
   ],
   "source": [
    "# вывод на экран количества строк с месяцем регистрации \"0\"\n",
    "df[df['registration_month'] == 0]['registration_month'].count()"
   ]
  },
  {
   "cell_type": "markdown",
   "metadata": {},
   "source": [
    "Данных с нулевым месяцем регистрации достаточно много, более 8%. Как-то объяснить появление таких значений сложно, а заменить на какой-либо месяц не представляется возможным. Поэтому оставим эти данные без изменений(по аналогии с \"other\" и \"uncknown\" в категориальных признаках)."
   ]
  },
  {
   "cell_type": "markdown",
   "metadata": {},
   "source": [
    "### Шаг 2.4. Удаление признаков."
   ]
  },
  {
   "cell_type": "code",
   "execution_count": 57,
   "metadata": {
    "scrolled": true
   },
   "outputs": [
    {
     "data": {
      "text/html": [
       "<div>\n",
       "<style scoped>\n",
       "    .dataframe tbody tr th:only-of-type {\n",
       "        vertical-align: middle;\n",
       "    }\n",
       "\n",
       "    .dataframe tbody tr th {\n",
       "        vertical-align: top;\n",
       "    }\n",
       "\n",
       "    .dataframe thead th {\n",
       "        text-align: right;\n",
       "    }\n",
       "</style>\n",
       "<table border=\"1\" class=\"dataframe\">\n",
       "  <thead>\n",
       "    <tr style=\"text-align: right;\">\n",
       "      <th></th>\n",
       "      <th>date_crawled</th>\n",
       "      <th>date_created</th>\n",
       "      <th>last_seen</th>\n",
       "    </tr>\n",
       "  </thead>\n",
       "  <tbody>\n",
       "    <tr>\n",
       "      <th>count</th>\n",
       "      <td>354369</td>\n",
       "      <td>354369</td>\n",
       "      <td>354369</td>\n",
       "    </tr>\n",
       "    <tr>\n",
       "      <th>unique</th>\n",
       "      <td>271174</td>\n",
       "      <td>109</td>\n",
       "      <td>179150</td>\n",
       "    </tr>\n",
       "    <tr>\n",
       "      <th>top</th>\n",
       "      <td>2016-03-24 14:49:47</td>\n",
       "      <td>2016-04-03 00:00:00</td>\n",
       "      <td>2016-04-06 13:45:54</td>\n",
       "    </tr>\n",
       "    <tr>\n",
       "      <th>freq</th>\n",
       "      <td>7</td>\n",
       "      <td>13719</td>\n",
       "      <td>17</td>\n",
       "    </tr>\n",
       "    <tr>\n",
       "      <th>first</th>\n",
       "      <td>2016-03-05 14:06:22</td>\n",
       "      <td>2014-03-10 00:00:00</td>\n",
       "      <td>2016-03-05 14:15:08</td>\n",
       "    </tr>\n",
       "    <tr>\n",
       "      <th>last</th>\n",
       "      <td>2016-04-07 14:36:58</td>\n",
       "      <td>2016-04-07 00:00:00</td>\n",
       "      <td>2016-04-07 14:58:51</td>\n",
       "    </tr>\n",
       "  </tbody>\n",
       "</table>\n",
       "</div>"
      ],
      "text/plain": [
       "               date_crawled         date_created            last_seen\n",
       "count                354369               354369               354369\n",
       "unique               271174                  109               179150\n",
       "top     2016-03-24 14:49:47  2016-04-03 00:00:00  2016-04-06 13:45:54\n",
       "freq                      7                13719                   17\n",
       "first   2016-03-05 14:06:22  2014-03-10 00:00:00  2016-03-05 14:15:08\n",
       "last    2016-04-07 14:36:58  2016-04-07 00:00:00  2016-04-07 14:58:51"
      ]
     },
     "execution_count": 57,
     "metadata": {},
     "output_type": "execute_result"
    }
   ],
   "source": [
    "# обзор данных типа \"дата\"\n",
    "df_date.describe()"
   ]
  },
  {
   "cell_type": "markdown",
   "metadata": {},
   "source": [
    "- Данные скачивания анкеты из базы ограничиваются рамками диапазона одного месяца, дата последней активности пользователя так же. \n",
    "- Самая ранняя дата создания анкеты в марте 2014 года, а самая поздняя в апреле 2016, интервал более 2-х лет. \n",
    "- Эти данные не имеют никакого значения для обучения модели, разве что \"дата создания анкеты\", но мы уже сохранили год создания анкеты.\n",
    "- Кроме того, числовой признак \"количество изображений\" имеет одно значение \"0\".\n",
    "- Удалим все признаки в формате \"даты\" и признак 'number_of_pictures'."
   ]
  },
  {
   "cell_type": "code",
   "execution_count": 58,
   "metadata": {},
   "outputs": [],
   "source": [
    "# удаление признаков\n",
    "df = df.drop(columns=['date_crawled', 'date_created', 'last_seen', 'number_of_pictures'])"
   ]
  },
  {
   "cell_type": "code",
   "execution_count": 59,
   "metadata": {},
   "outputs": [
    {
     "data": {
      "text/html": [
       "<div>\n",
       "<style scoped>\n",
       "    .dataframe tbody tr th:only-of-type {\n",
       "        vertical-align: middle;\n",
       "    }\n",
       "\n",
       "    .dataframe tbody tr th {\n",
       "        vertical-align: top;\n",
       "    }\n",
       "\n",
       "    .dataframe thead th {\n",
       "        text-align: right;\n",
       "    }\n",
       "</style>\n",
       "<table border=\"1\" class=\"dataframe\">\n",
       "  <thead>\n",
       "    <tr style=\"text-align: right;\">\n",
       "      <th></th>\n",
       "      <th>price</th>\n",
       "      <th>vehicle_type</th>\n",
       "      <th>registration_year</th>\n",
       "      <th>gearbox</th>\n",
       "      <th>power</th>\n",
       "      <th>model</th>\n",
       "      <th>kilometer</th>\n",
       "      <th>registration_month</th>\n",
       "      <th>fuel_type</th>\n",
       "      <th>brand</th>\n",
       "      <th>not_repaired</th>\n",
       "      <th>year_created</th>\n",
       "      <th>postal_code</th>\n",
       "    </tr>\n",
       "  </thead>\n",
       "  <tbody>\n",
       "    <tr>\n",
       "      <th>0</th>\n",
       "      <td>480</td>\n",
       "      <td>sedan</td>\n",
       "      <td>1993</td>\n",
       "      <td>manual</td>\n",
       "      <td>75.0</td>\n",
       "      <td>golf</td>\n",
       "      <td>150000</td>\n",
       "      <td>0</td>\n",
       "      <td>petrol</td>\n",
       "      <td>volkswagen</td>\n",
       "      <td>uncknown</td>\n",
       "      <td>2016</td>\n",
       "      <td>70435</td>\n",
       "    </tr>\n",
       "    <tr>\n",
       "      <th>1</th>\n",
       "      <td>18300</td>\n",
       "      <td>coupe</td>\n",
       "      <td>2011</td>\n",
       "      <td>manual</td>\n",
       "      <td>190.0</td>\n",
       "      <td>a4</td>\n",
       "      <td>125000</td>\n",
       "      <td>5</td>\n",
       "      <td>gasoline</td>\n",
       "      <td>audi</td>\n",
       "      <td>yes</td>\n",
       "      <td>2016</td>\n",
       "      <td>66954</td>\n",
       "    </tr>\n",
       "    <tr>\n",
       "      <th>2</th>\n",
       "      <td>9800</td>\n",
       "      <td>suv</td>\n",
       "      <td>2004</td>\n",
       "      <td>auto</td>\n",
       "      <td>163.0</td>\n",
       "      <td>grand</td>\n",
       "      <td>125000</td>\n",
       "      <td>8</td>\n",
       "      <td>gasoline</td>\n",
       "      <td>jeep</td>\n",
       "      <td>uncknown</td>\n",
       "      <td>2016</td>\n",
       "      <td>90480</td>\n",
       "    </tr>\n",
       "    <tr>\n",
       "      <th>3</th>\n",
       "      <td>1500</td>\n",
       "      <td>small</td>\n",
       "      <td>2001</td>\n",
       "      <td>manual</td>\n",
       "      <td>75.0</td>\n",
       "      <td>golf</td>\n",
       "      <td>150000</td>\n",
       "      <td>6</td>\n",
       "      <td>petrol</td>\n",
       "      <td>volkswagen</td>\n",
       "      <td>no</td>\n",
       "      <td>2016</td>\n",
       "      <td>91074</td>\n",
       "    </tr>\n",
       "    <tr>\n",
       "      <th>4</th>\n",
       "      <td>3600</td>\n",
       "      <td>small</td>\n",
       "      <td>2008</td>\n",
       "      <td>manual</td>\n",
       "      <td>69.0</td>\n",
       "      <td>fabia</td>\n",
       "      <td>90000</td>\n",
       "      <td>7</td>\n",
       "      <td>gasoline</td>\n",
       "      <td>skoda</td>\n",
       "      <td>no</td>\n",
       "      <td>2016</td>\n",
       "      <td>60437</td>\n",
       "    </tr>\n",
       "  </tbody>\n",
       "</table>\n",
       "</div>"
      ],
      "text/plain": [
       "   price vehicle_type  registration_year gearbox  power  model  kilometer  \\\n",
       "0    480        sedan               1993  manual   75.0   golf     150000   \n",
       "1  18300        coupe               2011  manual  190.0     a4     125000   \n",
       "2   9800          suv               2004    auto  163.0  grand     125000   \n",
       "3   1500        small               2001  manual   75.0   golf     150000   \n",
       "4   3600        small               2008  manual   69.0  fabia      90000   \n",
       "\n",
       "   registration_month fuel_type       brand not_repaired  year_created  \\\n",
       "0                   0    petrol  volkswagen     uncknown          2016   \n",
       "1                   5  gasoline        audi          yes          2016   \n",
       "2                   8  gasoline        jeep     uncknown          2016   \n",
       "3                   6    petrol  volkswagen           no          2016   \n",
       "4                   7  gasoline       skoda           no          2016   \n",
       "\n",
       "   postal_code  \n",
       "0        70435  \n",
       "1        66954  \n",
       "2        90480  \n",
       "3        91074  \n",
       "4        60437  "
      ]
     },
     "execution_count": 59,
     "metadata": {},
     "output_type": "execute_result"
    }
   ],
   "source": [
    "# вывод на экран верхней части таблицы\n",
    "df.head()"
   ]
  },
  {
   "cell_type": "code",
   "execution_count": 60,
   "metadata": {},
   "outputs": [
    {
     "name": "stdout",
     "output_type": "stream",
     "text": [
      "Доля удаленных строк по отношению к первоначальному датафрейму: 6.96%\n"
     ]
    }
   ],
   "source": [
    "# вывод на экран общей доли удаленных данных по отношению к размеру первоначального датафрейма\n",
    "print('Доля удаленных строк по отношению к первоначальному датафрейму: {:.2%}'.format((354369 - len(df))/ 354369))"
   ]
  },
  {
   "cell_type": "code",
   "execution_count": 61,
   "metadata": {
    "scrolled": true
   },
   "outputs": [
    {
     "data": {
      "text/html": [
       "<div>\n",
       "<style scoped>\n",
       "    .dataframe tbody tr th:only-of-type {\n",
       "        vertical-align: middle;\n",
       "    }\n",
       "\n",
       "    .dataframe tbody tr th {\n",
       "        vertical-align: top;\n",
       "    }\n",
       "\n",
       "    .dataframe thead th {\n",
       "        text-align: right;\n",
       "    }\n",
       "</style>\n",
       "<table border=\"1\" class=\"dataframe\">\n",
       "  <thead>\n",
       "    <tr style=\"text-align: right;\">\n",
       "      <th></th>\n",
       "      <th>price</th>\n",
       "      <th>registration_year</th>\n",
       "      <th>power</th>\n",
       "      <th>kilometer</th>\n",
       "      <th>registration_month</th>\n",
       "      <th>year_created</th>\n",
       "      <th>postal_code</th>\n",
       "    </tr>\n",
       "  </thead>\n",
       "  <tbody>\n",
       "    <tr>\n",
       "      <th>price</th>\n",
       "      <td>1.000000</td>\n",
       "      <td>0.442416</td>\n",
       "      <td>0.500438</td>\n",
       "      <td>-0.354321</td>\n",
       "      <td>0.093928</td>\n",
       "      <td>-0.005348</td>\n",
       "      <td>0.071473</td>\n",
       "    </tr>\n",
       "    <tr>\n",
       "      <th>registration_year</th>\n",
       "      <td>0.442416</td>\n",
       "      <td>1.000000</td>\n",
       "      <td>0.127686</td>\n",
       "      <td>-0.226188</td>\n",
       "      <td>0.065830</td>\n",
       "      <td>-0.001306</td>\n",
       "      <td>0.031688</td>\n",
       "    </tr>\n",
       "    <tr>\n",
       "      <th>power</th>\n",
       "      <td>0.500438</td>\n",
       "      <td>0.127686</td>\n",
       "      <td>1.000000</td>\n",
       "      <td>0.099031</td>\n",
       "      <td>0.055389</td>\n",
       "      <td>-0.000343</td>\n",
       "      <td>0.057240</td>\n",
       "    </tr>\n",
       "    <tr>\n",
       "      <th>kilometer</th>\n",
       "      <td>-0.354321</td>\n",
       "      <td>-0.226188</td>\n",
       "      <td>0.099031</td>\n",
       "      <td>1.000000</td>\n",
       "      <td>0.001782</td>\n",
       "      <td>0.004888</td>\n",
       "      <td>-0.009371</td>\n",
       "    </tr>\n",
       "    <tr>\n",
       "      <th>registration_month</th>\n",
       "      <td>0.093928</td>\n",
       "      <td>0.065830</td>\n",
       "      <td>0.055389</td>\n",
       "      <td>0.001782</td>\n",
       "      <td>1.000000</td>\n",
       "      <td>0.003705</td>\n",
       "      <td>0.008855</td>\n",
       "    </tr>\n",
       "    <tr>\n",
       "      <th>year_created</th>\n",
       "      <td>-0.005348</td>\n",
       "      <td>-0.001306</td>\n",
       "      <td>-0.000343</td>\n",
       "      <td>0.004888</td>\n",
       "      <td>0.003705</td>\n",
       "      <td>1.000000</td>\n",
       "      <td>0.000704</td>\n",
       "    </tr>\n",
       "    <tr>\n",
       "      <th>postal_code</th>\n",
       "      <td>0.071473</td>\n",
       "      <td>0.031688</td>\n",
       "      <td>0.057240</td>\n",
       "      <td>-0.009371</td>\n",
       "      <td>0.008855</td>\n",
       "      <td>0.000704</td>\n",
       "      <td>1.000000</td>\n",
       "    </tr>\n",
       "  </tbody>\n",
       "</table>\n",
       "</div>"
      ],
      "text/plain": [
       "                       price  registration_year     power  kilometer  \\\n",
       "price               1.000000           0.442416  0.500438  -0.354321   \n",
       "registration_year   0.442416           1.000000  0.127686  -0.226188   \n",
       "power               0.500438           0.127686  1.000000   0.099031   \n",
       "kilometer          -0.354321          -0.226188  0.099031   1.000000   \n",
       "registration_month  0.093928           0.065830  0.055389   0.001782   \n",
       "year_created       -0.005348          -0.001306 -0.000343   0.004888   \n",
       "postal_code         0.071473           0.031688  0.057240  -0.009371   \n",
       "\n",
       "                    registration_month  year_created  postal_code  \n",
       "price                         0.093928     -0.005348     0.071473  \n",
       "registration_year             0.065830     -0.001306     0.031688  \n",
       "power                         0.055389     -0.000343     0.057240  \n",
       "kilometer                     0.001782      0.004888    -0.009371  \n",
       "registration_month            1.000000      0.003705     0.008855  \n",
       "year_created                  0.003705      1.000000     0.000704  \n",
       "postal_code                   0.008855      0.000704     1.000000  "
      ]
     },
     "execution_count": 61,
     "metadata": {},
     "output_type": "execute_result"
    }
   ],
   "source": [
    "# проверка корреляции признаков\n",
    "df.corr()"
   ]
  },
  {
   "cell_type": "markdown",
   "metadata": {},
   "source": [
    "Наибольшая зависимость целевого признака от числовых данных: мощности, а также от года регистрации и пробега авто(обратная корреляция). "
   ]
  },
  {
   "cell_type": "markdown",
   "metadata": {},
   "source": [
    "## Шаг 3. Подбор лучшей модели."
   ]
  },
  {
   "cell_type": "markdown",
   "metadata": {},
   "source": [
    "### Шаг 3.1. Подготовка данных для моделей."
   ]
  },
  {
   "cell_type": "markdown",
   "metadata": {},
   "source": [
    "Для решения нашей задачи привлечем из разных типов 5 алгоритмов машинного обучения(МО):\n",
    "- Dummy-модель \"DummyRegressor\"\n",
    "- Линейная модель \"LinearRegression\"\n",
    "- Модель дерева-решений \"DecisionTreeRegressor\"\n",
    "- Две модели градиентного бустинга:\n",
    "  - \"CatBoostRegressor\"\n",
    "  - \"LGBMRegressor\""
   ]
  },
  {
   "cell_type": "code",
   "execution_count": 62,
   "metadata": {},
   "outputs": [],
   "source": [
    "# cоздание выборки с признаками и целевым признаком\n",
    "X, y = df.drop('price', axis=1), df['price']"
   ]
  },
  {
   "cell_type": "code",
   "execution_count": 63,
   "metadata": {},
   "outputs": [],
   "source": [
    "# разделение общей выборки на тренировочную и тестовую\n",
    "X_train, X_test, y_train, y_test = train_test_split(X, y, test_size=0.4, random_state=12345)"
   ]
  },
  {
   "cell_type": "code",
   "execution_count": 64,
   "metadata": {},
   "outputs": [],
   "source": [
    "# разделение тестовой выборки на тестовую и валидационную\n",
    "X_test, X_valid, y_test, y_valid = train_test_split(X_test, y_test, test_size=0.5, random_state=12345)"
   ]
  },
  {
   "cell_type": "code",
   "execution_count": 65,
   "metadata": {},
   "outputs": [
    {
     "name": "stdout",
     "output_type": "stream",
     "text": [
      "Размер тренировочной выборки: (197822, 12), (197822,).\n",
      "Размер валидационной выборки: (65941, 12), (65941,).\n",
      "Размер тестовой выборки: (65941, 12), (65941,).\n"
     ]
    }
   ],
   "source": [
    "print( f'Размер тренировочной выборки: {X_train.shape}, {y_train.shape}.')\n",
    "print(f'Размер валидационной выборки: {X_valid.shape}, {y_valid.shape}.')\n",
    "print(f'Размер тестовой выборки: {X_test.shape}, {y_test.shape}.')"
   ]
  },
  {
   "cell_type": "code",
   "execution_count": 66,
   "metadata": {},
   "outputs": [],
   "source": [
    "# создание списков с числовыми и категориальными признаками\n",
    "numeric = ['registration_year', 'power', 'kilometer', 'registration_month', 'year_created', 'postal_code']\n",
    "categor = ['vehicle_type', 'gearbox', 'model', 'fuel_type', 'brand', 'not_repaired']"
   ]
  },
  {
   "cell_type": "code",
   "execution_count": 67,
   "metadata": {},
   "outputs": [],
   "source": [
    "# создание числового и категориального \"pipeline\"\n",
    "numeric_transformer = Pipeline(steps=[('scaler', StandardScaler())])\n",
    "categor_transformer = OneHotEncoder(handle_unknown='ignore') "
   ]
  },
  {
   "cell_type": "code",
   "execution_count": 68,
   "metadata": {},
   "outputs": [],
   "source": [
    "# создание \"preprocessor\"\n",
    "preprocessor = ColumnTransformer([('num', numeric_transformer, numeric),\n",
    "                                  ('cat', categor_transformer, categor)])"
   ]
  },
  {
   "cell_type": "code",
   "execution_count": 69,
   "metadata": {},
   "outputs": [],
   "source": [
    "# создание \"pipeline\" для пяти моделей МО\n",
    "pipe_dumr = Pipeline([('transf_col', preprocessor),\n",
    "                    ('reg', DummyRegressor())])\n",
    "\n",
    "pipe_lr = Pipeline([('transf_col', preprocessor),\n",
    "                    ('reg', LinearRegression())])\n",
    "\n",
    "pipe_dr = Pipeline([('transf_col', preprocessor),\n",
    "                    ('reg', DecisionTreeRegressor(random_state=0))])\n",
    "\n",
    "pipe_cb = Pipeline([('transf_col', preprocessor),\n",
    "                    ('reg', CatBoostRegressor(random_state=0))])\n",
    "\n",
    "pipe_lgbm = Pipeline([('transf_col', preprocessor),\n",
    "                    ('reg', LGBMRegressor(random_state=0))])"
   ]
  },
  {
   "cell_type": "code",
   "execution_count": 70,
   "metadata": {},
   "outputs": [],
   "source": [
    "# создание списков-словарей с параметрами моделей МО\n",
    "\n",
    "param_dumr = {'reg__strategy': ['median']}\n",
    "\n",
    "param_lr = {'reg__fit_intercept': [True, False],\n",
    "             'reg__normalize': [True, False],\n",
    "             'reg__copy_X': [True, False]}\n",
    "\n",
    "param_dr = {'reg__max_depth': [4, 8, 14],\n",
    "             'reg__splitter': ['best', 'random'],\n",
    "             'reg__max_features': ['sqrt']}\n",
    "\n",
    "param_cb = {'reg__silent' : [True],\n",
    "             'reg__loss_function': ['RMSE'],\n",
    "             'reg__depth': [6, 12],\n",
    "             'reg__learning_rate' : [0.01, 0.05, 0.1],\n",
    "             'reg__iterations' : [100, 200]}\n",
    "\n",
    "param_lgbm = {'reg__max_depth': [6, 14],\n",
    "             'reg__learning_rate' : [0.01, 0.05, 0.3, 0.7],\n",
    "             'reg__n_estimators' : [100, 200]}"
   ]
  },
  {
   "cell_type": "code",
   "execution_count": 71,
   "metadata": {},
   "outputs": [],
   "source": [
    "# создание переменных с записью в них GridSearchCV (далее GSCV) для поиска оптимальных параметров по каждой модели МО\n",
    "\n",
    "DUMR = GridSearchCV(estimator=pipe_dumr,\n",
    "            param_grid=param_dumr,\n",
    "                 cv=2) \n",
    "\n",
    "LR = GridSearchCV(estimator=pipe_lr,\n",
    "            param_grid=param_lr,\n",
    "                 cv=2) \n",
    "\n",
    "DR = GridSearchCV(estimator=pipe_dr,\n",
    "            param_grid=param_dr,\n",
    "                 cv=2)\n",
    "\n",
    "CB = GridSearchCV(estimator=pipe_cb,\n",
    "            param_grid=param_cb,\n",
    "                 cv=2)\n",
    "\n",
    "LGBM = GridSearchCV(estimator=pipe_lgbm,\n",
    "            param_grid=param_lgbm,\n",
    "                   cv=2)"
   ]
  },
  {
   "cell_type": "code",
   "execution_count": 72,
   "metadata": {},
   "outputs": [],
   "source": [
    "# создание списка с GridSearchCV(GSCV) по каждой модели МО\n",
    "grids = [DUMR, LR, DR, CB, LGBM]\n",
    "\n",
    "# создание словаря с наименованием каждой модели МО\n",
    "grid_dict = {0: 'DummyRegressor',\n",
    "             1: 'LinearRegression', \n",
    "             2: 'DecisionTreeRegressorr',\n",
    "             3: 'CatBoostRegressor',\n",
    "             4: 'LGBMRegressor'}"
   ]
  },
  {
   "cell_type": "markdown",
   "metadata": {},
   "source": [
    "### Шаг 3.2. Создание функции для подбора лучшей модели."
   ]
  },
  {
   "cell_type": "markdown",
   "metadata": {},
   "source": [
    "Создадим функцию:\n",
    "- Принимает аргументами: тренировочную и тестовую выборки(отдельно с признаками и целевым признаком). А также именованные аргументы: с начальным завышенным значением RMSE(с которым в дальнейшем в цикле сравнивается значение RMSE по предсказанию модели), нулевое значение лучшей модели и ее индекса, наименование выборки на которой производится предсказание(валидационной или тестовой). \n",
    "- Внутри функции:\n",
    "  - Выводятся на экран параметры модели, при которых достигается лучшее RMSE, лучшее значение RMSE.\n",
    "  - Вычисляется время работы по обучению и предсказанию модели.\n",
    "  - Далее параметры модели, время работы и лучший RMSE добавляются в словарь.\n",
    "  - Вывод на экран модели с лучшим RMSE.\n",
    "- Функция возвращает словарь с параметрами, временем обучения и предсказания, а также RMSE для всех моделей."
   ]
  },
  {
   "cell_type": "code",
   "execution_count": 73,
   "metadata": {},
   "outputs": [],
   "source": [
    "# создание функции для выбора модели с лучшим RMSE\n",
    "def choose_model(list_grids, feature_tr, target_tr, feature_tst, target_tst, best_score, best_reg, best_gs, name_sample):\n",
    "    best_model_params = {'Модель' : [],\n",
    "                        'Лучшие параметры модели' : [],\n",
    "                        'Лучшее RMSE модели' : [],\n",
    "                        'Время обучения модели' : [],\n",
    "                        'Время предсказания модели' : []}\n",
    "    for idx, gs in enumerate(list_grids):\n",
    "        print('Модель:{}'.format(grid_dict[idx]))\n",
    "        print()\n",
    "        t0 = time()\n",
    "        gs.fit(feature_tr, target_tr)\n",
    "        time_train = time()-t0\n",
    "        print('Лучшие параметры модели:', gs.best_params_)\n",
    "        print()\n",
    "        t1 = time()\n",
    "        predictions = gs.predict(feature_tst)\n",
    "        time_predict = time() - t1\n",
    "        RMSE = (mean_squared_error(target_tst, predictions))**0.5\n",
    "        print('RMSE для модели {} на {} выборке: {:.2f}'.format(grid_dict[idx], name_sample, RMSE))\n",
    "        print()\n",
    "        if RMSE < best_score:\n",
    "            best_score = RMSE\n",
    "            best_gs = gs\n",
    "            best_reg = idx\n",
    "        time_iter = time()-t0\n",
    "        best_model_params['Модель'].append(grid_dict[idx])\n",
    "        best_model_params['Лучшие параметры модели'].append(gs.best_params_)\n",
    "        best_model_params['Лучшее RMSE модели'].append(RMSE)\n",
    "        best_model_params['Время обучения модели'].append(time_train)\n",
    "        best_model_params['Время предсказания модели'].append(time_predict)\n",
    "        print('Время обучения модели {}: {:.2f}'.format(grid_dict[idx], time_train))\n",
    "        print()\n",
    "        print('Время предсказания модели {}: {:.2f}'.format(grid_dict[idx], time_predict))\n",
    "        print('\\n\\n')\n",
    "    print('\\n')\n",
    "    print('Лучшая модель на {}: {}'.format(name_sample, grid_dict[best_reg]))\n",
    "    print('Лучший показатель RMSE на {} выборке: {:.2f}'.format(name_sample, best_score))    \n",
    "    return best_model_params"
   ]
  },
  {
   "cell_type": "markdown",
   "metadata": {},
   "source": [
    "### Шаг 3.3. Проверка моделей на валидационной выборке."
   ]
  },
  {
   "cell_type": "code",
   "execution_count": 74,
   "metadata": {
    "scrolled": false
   },
   "outputs": [
    {
     "name": "stdout",
     "output_type": "stream",
     "text": [
      "Модель:DummyRegressor\n",
      "\n",
      "Лучшие параметры модели: {'reg__strategy': 'median'}\n",
      "\n",
      "RMSE для модели DummyRegressor на валидационной выборке: 4859.50\n",
      "\n",
      "Время обучения модели DummyRegressor: 1.42\n",
      "\n",
      "Время предсказания модели DummyRegressor: 0.15\n",
      "\n",
      "\n",
      "\n",
      "Модель:LinearRegression\n",
      "\n",
      "Лучшие параметры модели: {'reg__copy_X': True, 'reg__fit_intercept': False, 'reg__normalize': True}\n",
      "\n",
      "RMSE для модели LinearRegression на валидационной выборке: 2727.62\n",
      "\n",
      "Время обучения модели LinearRegression: 44.65\n",
      "\n",
      "Время предсказания модели LinearRegression: 0.17\n",
      "\n",
      "\n",
      "\n",
      "Модель:DecisionTreeRegressorr\n",
      "\n",
      "Лучшие параметры модели: {'reg__max_depth': 14, 'reg__max_features': 'sqrt', 'reg__splitter': 'best'}\n",
      "\n",
      "RMSE для модели DecisionTreeRegressorr на валидационной выборке: 2686.05\n",
      "\n",
      "Время обучения модели DecisionTreeRegressorr: 7.25\n",
      "\n",
      "Время предсказания модели DecisionTreeRegressorr: 0.14\n",
      "\n",
      "\n",
      "\n",
      "Модель:CatBoostRegressor\n",
      "\n",
      "Лучшие параметры модели: {'reg__depth': 12, 'reg__iterations': 200, 'reg__learning_rate': 0.1, 'reg__loss_function': 'RMSE', 'reg__silent': True}\n",
      "\n",
      "RMSE для модели CatBoostRegressor на валидационной выборке: 1672.65\n",
      "\n",
      "Время обучения модели CatBoostRegressor: 229.87\n",
      "\n",
      "Время предсказания модели CatBoostRegressor: 0.26\n",
      "\n",
      "\n",
      "\n",
      "Модель:LGBMRegressor\n",
      "\n",
      "Лучшие параметры модели: {'reg__learning_rate': 0.3, 'reg__max_depth': 14, 'reg__n_estimators': 200}\n",
      "\n",
      "RMSE для модели LGBMRegressor на валидационной выборке: 1654.94\n",
      "\n",
      "Время обучения модели LGBMRegressor: 32.01\n",
      "\n",
      "Время предсказания модели LGBMRegressor: 0.27\n",
      "\n",
      "\n",
      "\n",
      "\n",
      "\n",
      "Лучшая модель на валидационной: LGBMRegressor\n",
      "Лучший показатель RMSE на валидационной выборке: 1654.94\n"
     ]
    }
   ],
   "source": [
    "# вызов функции для подбора модели с лучшим RMSE на валидационной выборке и запись результата в словарь\n",
    "dict_params_valid = choose_model(grids, X_train, y_train, X_valid, y_valid, best_score=10000, best_reg=0, best_gs='',\n",
    "                           name_sample='валидационной')"
   ]
  },
  {
   "cell_type": "code",
   "execution_count": 75,
   "metadata": {
    "scrolled": true
   },
   "outputs": [
    {
     "data": {
      "text/html": [
       "<div>\n",
       "<style scoped>\n",
       "    .dataframe tbody tr th:only-of-type {\n",
       "        vertical-align: middle;\n",
       "    }\n",
       "\n",
       "    .dataframe tbody tr th {\n",
       "        vertical-align: top;\n",
       "    }\n",
       "\n",
       "    .dataframe thead th {\n",
       "        text-align: right;\n",
       "    }\n",
       "</style>\n",
       "<table border=\"1\" class=\"dataframe\">\n",
       "  <thead>\n",
       "    <tr style=\"text-align: right;\">\n",
       "      <th></th>\n",
       "      <th>Модель</th>\n",
       "      <th>Лучшие параметры модели</th>\n",
       "      <th>Лучшее RMSE модели</th>\n",
       "      <th>Время обучения модели</th>\n",
       "      <th>Время предсказания модели</th>\n",
       "    </tr>\n",
       "  </thead>\n",
       "  <tbody>\n",
       "    <tr>\n",
       "      <th>0</th>\n",
       "      <td>DummyRegressor</td>\n",
       "      <td>{'reg__strategy': 'median'}</td>\n",
       "      <td>4859.497431</td>\n",
       "      <td>1.415611</td>\n",
       "      <td>0.150927</td>\n",
       "    </tr>\n",
       "    <tr>\n",
       "      <th>1</th>\n",
       "      <td>LinearRegression</td>\n",
       "      <td>{'reg__copy_X': True, 'reg__fit_intercept': False, 'reg__normalize': True}</td>\n",
       "      <td>2727.615205</td>\n",
       "      <td>44.654302</td>\n",
       "      <td>0.171857</td>\n",
       "    </tr>\n",
       "    <tr>\n",
       "      <th>2</th>\n",
       "      <td>DecisionTreeRegressorr</td>\n",
       "      <td>{'reg__max_depth': 14, 'reg__max_features': 'sqrt', 'reg__splitter': 'best'}</td>\n",
       "      <td>2686.054853</td>\n",
       "      <td>7.250863</td>\n",
       "      <td>0.140616</td>\n",
       "    </tr>\n",
       "    <tr>\n",
       "      <th>3</th>\n",
       "      <td>CatBoostRegressor</td>\n",
       "      <td>{'reg__depth': 12, 'reg__iterations': 200, 'reg__learning_rate': 0.1, 'reg__loss_function': 'RMSE', 'reg__silent': True}</td>\n",
       "      <td>1672.645214</td>\n",
       "      <td>229.874409</td>\n",
       "      <td>0.262095</td>\n",
       "    </tr>\n",
       "    <tr>\n",
       "      <th>4</th>\n",
       "      <td>LGBMRegressor</td>\n",
       "      <td>{'reg__learning_rate': 0.3, 'reg__max_depth': 14, 'reg__n_estimators': 200}</td>\n",
       "      <td>1654.943491</td>\n",
       "      <td>32.005435</td>\n",
       "      <td>0.274483</td>\n",
       "    </tr>\n",
       "  </tbody>\n",
       "</table>\n",
       "</div>"
      ],
      "text/plain": [
       "                   Модель  \\\n",
       "0          DummyRegressor   \n",
       "1        LinearRegression   \n",
       "2  DecisionTreeRegressorr   \n",
       "3       CatBoostRegressor   \n",
       "4           LGBMRegressor   \n",
       "\n",
       "                                                                                                    Лучшие параметры модели  \\\n",
       "0                                                                                               {'reg__strategy': 'median'}   \n",
       "1                                                {'reg__copy_X': True, 'reg__fit_intercept': False, 'reg__normalize': True}   \n",
       "2                                              {'reg__max_depth': 14, 'reg__max_features': 'sqrt', 'reg__splitter': 'best'}   \n",
       "3  {'reg__depth': 12, 'reg__iterations': 200, 'reg__learning_rate': 0.1, 'reg__loss_function': 'RMSE', 'reg__silent': True}   \n",
       "4                                               {'reg__learning_rate': 0.3, 'reg__max_depth': 14, 'reg__n_estimators': 200}   \n",
       "\n",
       "   Лучшее RMSE модели  Время обучения модели  Время предсказания модели  \n",
       "0         4859.497431               1.415611                   0.150927  \n",
       "1         2727.615205              44.654302                   0.171857  \n",
       "2         2686.054853               7.250863                   0.140616  \n",
       "3         1672.645214             229.874409                   0.262095  \n",
       "4         1654.943491              32.005435                   0.274483  "
      ]
     },
     "execution_count": 75,
     "metadata": {},
     "output_type": "execute_result"
    }
   ],
   "source": [
    "# создание датафрейма из словаря с параметрами и результатами работы моделей на валидационной выборке\n",
    "pd.set_option('max_colwidth', 150)\n",
    "df_valid_param = pd.DataFrame(data=dict_params_valid)\n",
    "df_valid_param"
   ]
  },
  {
   "cell_type": "markdown",
   "metadata": {},
   "source": [
    "- Все основные 4 модели показали RMSE существенно лучше, чем Dummy-модель.\n",
    "- Самая простая модель \"LinearRegression\" показала наихудшее RMSE, хотя время обучения почти такое же как у одной из лучших моделей градиентного бустинга, но время предсказания все же лучше почти вдвое чем у последних.\n",
    "- Лучший RMSE у \"LGBMRegressor\", а также обучения глобально лучше, чем у показавшей почти такой же результат \"CatBoostRegressor\"(почти в 6 раз дольше первой).\n",
    "- Время предсказания модели \"LGBMRegressor\" даже немного уступает показателю \"CatBoostRegressor\", но незначительно.\n",
    "- Скорее всего можно еще улучшить результат работы \"CatBoostRegressor\", но для этого необходимо перебрать существенно больше параметров, а для этого необходим высокопроизводительный компьютер. Отдельно была проведена проверка этой модели с более глубокой настройкой, результат показан еще лучше, но время обучения сильно увеличилось.\n",
    "- Модель дерево-решений \"DecisionTreeRegressorr\" показывает средний показатель RMSE среди всех моделей. За исключением моделей градиентного бустинга - лучший результат. А время обучения в несколько раз опережает всех конкурентов, время предсказания более чем в два раза меньше чем у моделей бустинга."
   ]
  },
  {
   "cell_type": "markdown",
   "metadata": {},
   "source": [
    "### Шаг 3.4. Проверка моделей на тестовой выборке."
   ]
  },
  {
   "cell_type": "code",
   "execution_count": 76,
   "metadata": {},
   "outputs": [
    {
     "name": "stdout",
     "output_type": "stream",
     "text": [
      "Модель:DummyRegressor\n",
      "\n",
      "Лучшие параметры модели: {'reg__strategy': 'median'}\n",
      "\n",
      "RMSE для модели DummyRegressor на тестовой выборке: 4816.67\n",
      "\n",
      "Время обучения модели DummyRegressor: 1.23\n",
      "\n",
      "Время предсказания модели DummyRegressor: 0.13\n",
      "\n",
      "\n",
      "\n",
      "Модель:LinearRegression\n",
      "\n",
      "Лучшие параметры модели: {'reg__copy_X': True, 'reg__fit_intercept': False, 'reg__normalize': True}\n",
      "\n",
      "RMSE для модели LinearRegression на тестовой выборке: 2700.66\n",
      "\n",
      "Время обучения модели LinearRegression: 40.98\n",
      "\n",
      "Время предсказания модели LinearRegression: 0.17\n",
      "\n",
      "\n",
      "\n",
      "Модель:DecisionTreeRegressorr\n",
      "\n",
      "Лучшие параметры модели: {'reg__max_depth': 14, 'reg__max_features': 'sqrt', 'reg__splitter': 'best'}\n",
      "\n",
      "RMSE для модели DecisionTreeRegressorr на тестовой выборке: 2630.08\n",
      "\n",
      "Время обучения модели DecisionTreeRegressorr: 7.24\n",
      "\n",
      "Время предсказания модели DecisionTreeRegressorr: 0.14\n",
      "\n",
      "\n",
      "\n",
      "Модель:CatBoostRegressor\n",
      "\n",
      "Лучшие параметры модели: {'reg__depth': 12, 'reg__iterations': 200, 'reg__learning_rate': 0.1, 'reg__loss_function': 'RMSE', 'reg__silent': True}\n",
      "\n",
      "RMSE для модели CatBoostRegressor на тестовой выборке: 1644.62\n",
      "\n",
      "Время обучения модели CatBoostRegressor: 235.00\n",
      "\n",
      "Время предсказания модели CatBoostRegressor: 0.23\n",
      "\n",
      "\n",
      "\n",
      "Модель:LGBMRegressor\n",
      "\n",
      "Лучшие параметры модели: {'reg__learning_rate': 0.3, 'reg__max_depth': 14, 'reg__n_estimators': 200}\n",
      "\n",
      "RMSE для модели LGBMRegressor на тестовой выборке: 1627.27\n",
      "\n",
      "Время обучения модели LGBMRegressor: 31.65\n",
      "\n",
      "Время предсказания модели LGBMRegressor: 0.28\n",
      "\n",
      "\n",
      "\n",
      "\n",
      "\n",
      "Лучшая модель на тестовой: LGBMRegressor\n",
      "Лучший показатель RMSE на тестовой выборке: 1627.27\n"
     ]
    }
   ],
   "source": [
    "# вызов функции для подбора модели с лучшим RMSE на тестовой выборке и запись результата в словарь\n",
    "dict_params_test = choose_model(grids, X_train, y_train, X_test, y_test, best_score=10000, best_reg=0, best_gs='',\n",
    "                           name_sample='тестовой')"
   ]
  },
  {
   "cell_type": "code",
   "execution_count": 77,
   "metadata": {},
   "outputs": [
    {
     "data": {
      "text/html": [
       "<div>\n",
       "<style scoped>\n",
       "    .dataframe tbody tr th:only-of-type {\n",
       "        vertical-align: middle;\n",
       "    }\n",
       "\n",
       "    .dataframe tbody tr th {\n",
       "        vertical-align: top;\n",
       "    }\n",
       "\n",
       "    .dataframe thead th {\n",
       "        text-align: right;\n",
       "    }\n",
       "</style>\n",
       "<table border=\"1\" class=\"dataframe\">\n",
       "  <thead>\n",
       "    <tr style=\"text-align: right;\">\n",
       "      <th></th>\n",
       "      <th>Модель</th>\n",
       "      <th>Лучшие параметры модели</th>\n",
       "      <th>Лучшее RMSE модели</th>\n",
       "      <th>Время обучения модели</th>\n",
       "      <th>Время предсказания модели</th>\n",
       "    </tr>\n",
       "  </thead>\n",
       "  <tbody>\n",
       "    <tr>\n",
       "      <th>0</th>\n",
       "      <td>DummyRegressor</td>\n",
       "      <td>{'reg__strategy': 'median'}</td>\n",
       "      <td>4816.674294</td>\n",
       "      <td>1.228818</td>\n",
       "      <td>0.131046</td>\n",
       "    </tr>\n",
       "    <tr>\n",
       "      <th>1</th>\n",
       "      <td>LinearRegression</td>\n",
       "      <td>{'reg__copy_X': True, 'reg__fit_intercept': False, 'reg__normalize': True}</td>\n",
       "      <td>2700.664936</td>\n",
       "      <td>40.980685</td>\n",
       "      <td>0.171857</td>\n",
       "    </tr>\n",
       "    <tr>\n",
       "      <th>2</th>\n",
       "      <td>DecisionTreeRegressorr</td>\n",
       "      <td>{'reg__max_depth': 14, 'reg__max_features': 'sqrt', 'reg__splitter': 'best'}</td>\n",
       "      <td>2630.081627</td>\n",
       "      <td>7.243455</td>\n",
       "      <td>0.140609</td>\n",
       "    </tr>\n",
       "    <tr>\n",
       "      <th>3</th>\n",
       "      <td>CatBoostRegressor</td>\n",
       "      <td>{'reg__depth': 12, 'reg__iterations': 200, 'reg__learning_rate': 0.1, 'reg__loss_function': 'RMSE', 'reg__silent': True}</td>\n",
       "      <td>1644.615415</td>\n",
       "      <td>234.999464</td>\n",
       "      <td>0.227551</td>\n",
       "    </tr>\n",
       "    <tr>\n",
       "      <th>4</th>\n",
       "      <td>LGBMRegressor</td>\n",
       "      <td>{'reg__learning_rate': 0.3, 'reg__max_depth': 14, 'reg__n_estimators': 200}</td>\n",
       "      <td>1627.271084</td>\n",
       "      <td>31.649646</td>\n",
       "      <td>0.281448</td>\n",
       "    </tr>\n",
       "  </tbody>\n",
       "</table>\n",
       "</div>"
      ],
      "text/plain": [
       "                   Модель  \\\n",
       "0          DummyRegressor   \n",
       "1        LinearRegression   \n",
       "2  DecisionTreeRegressorr   \n",
       "3       CatBoostRegressor   \n",
       "4           LGBMRegressor   \n",
       "\n",
       "                                                                                                    Лучшие параметры модели  \\\n",
       "0                                                                                               {'reg__strategy': 'median'}   \n",
       "1                                                {'reg__copy_X': True, 'reg__fit_intercept': False, 'reg__normalize': True}   \n",
       "2                                              {'reg__max_depth': 14, 'reg__max_features': 'sqrt', 'reg__splitter': 'best'}   \n",
       "3  {'reg__depth': 12, 'reg__iterations': 200, 'reg__learning_rate': 0.1, 'reg__loss_function': 'RMSE', 'reg__silent': True}   \n",
       "4                                               {'reg__learning_rate': 0.3, 'reg__max_depth': 14, 'reg__n_estimators': 200}   \n",
       "\n",
       "   Лучшее RMSE модели  Время обучения модели  Время предсказания модели  \n",
       "0         4816.674294               1.228818                   0.131046  \n",
       "1         2700.664936              40.980685                   0.171857  \n",
       "2         2630.081627               7.243455                   0.140609  \n",
       "3         1644.615415             234.999464                   0.227551  \n",
       "4         1627.271084              31.649646                   0.281448  "
      ]
     },
     "execution_count": 77,
     "metadata": {},
     "output_type": "execute_result"
    }
   ],
   "source": [
    "# создание датафрейма из словаря с параметрами и результатами работы моделей на тестовой выборке\n",
    "df_test_param = pd.DataFrame(data=dict_params_test)\n",
    "df_test_param"
   ]
  },
  {
   "cell_type": "markdown",
   "metadata": {},
   "source": [
    "- Все те же результаты, что и на валидационной выборке были подтверждены и на тестовой.\n",
    "- Учитывая лучший показатель RMSE, а также довольно быстрое время обучения и предсказания, можно сделать выбор на модели градиентного бустинга \"LGBMRegressor\".\n"
   ]
  },
  {
   "cell_type": "markdown",
   "metadata": {},
   "source": [
    "## Шаг 4. Итоги исследования."
   ]
  },
  {
   "cell_type": "markdown",
   "metadata": {},
   "source": [
    "### Шаг 4.1. Описание хода исследования."
   ]
  },
  {
   "cell_type": "markdown",
   "metadata": {},
   "source": [
    "Для реализации поставленной задачи мы:\n",
    "   - Изучили датасет, исправили стилистические ошибки, приведя наименование столбцов в \"змеиный регистр\".\n",
    "   - Разделили данные на числовые, категориальные и типа \"дата\".\n",
    "   - Проверили данные на дубликаты и удалили их.\n",
    "   - Заполнили пропуски в категориальных данных.\n",
    "   - Проанализировали и удалили аномальные значения в числовых признаках.\n",
    "   - Проверили распределение в целевом признаке и числовых признаках.\n",
    "   - Создали новый признак.\n",
    "   - Удалили столбцы, которые не влияют на обучение модели.\n",
    "   - Разделили данные на признаки и целевой признак. Затем их разбили на тренировочную, тестовую и валидационную выборки.\n",
    "   - Выбрали 5 основных моделей для анализа.\n",
    "   - Подготовили \"pipline\" и \"GridSearchCV\" для моделей машинного обучения.\n",
    "   - Создали функцию для настройки моделей, получения лучших гиперпараметров модели, подсчета времени обучения и предсказания, а также рассчета RMSE.\n",
    "   - Провели проверку моделей МО на валидационной и тестовой выборках.\n",
    "   - Сделали анализ работы моделей.\n",
    "По итогам исследования делаем общий вывод:"
   ]
  },
  {
   "cell_type": "markdown",
   "metadata": {},
   "source": [
    "### Шаг 4.2. Общий вывод."
   ]
  },
  {
   "cell_type": "markdown",
   "metadata": {},
   "source": [
    "- Модели \"Градиентного бустинга\" в данной задаче предсказания цены автомобиля на основе некоторых входящих данных, показали существенно лучший RMSE, чем \"Линейная модель\" и \"Модель дерева решений\".\n",
    "- Модель \"Дерева-решений\" \"DecisionTreeRegressorr\" выдала средний RMSE, но время как обучения, так и предсказания сильно быстрее остальных моделей.\n",
    "- Наилучшее RMSE и существенно более короткое время обучения показала модель \"LGBMRegressor\". Ее то мы и выбираем для решения задачи, как оптимальную.\n",
    "- Модель \"CatBoostRegressor\t\" имеет большой запас и потенциал, но для ее настройки и работы требуется достаточно мощный компьютер, а время предсказания у нее немного, но быстрее, чем у \"LGBMRegressor\"."
   ]
  }
 ],
 "metadata": {
  "ExecuteTimeLog": [
   {
    "duration": 7,
    "start_time": "2022-07-10T05:01:10.673Z"
   },
   {
    "duration": 1628,
    "start_time": "2022-07-10T05:01:13.107Z"
   }
  ],
  "kernelspec": {
   "display_name": "Python 3 (ipykernel)",
   "language": "python",
   "name": "python3"
  },
  "language_info": {
   "codemirror_mode": {
    "name": "ipython",
    "version": 3
   },
   "file_extension": ".py",
   "mimetype": "text/x-python",
   "name": "python",
   "nbconvert_exporter": "python",
   "pygments_lexer": "ipython3",
   "version": "3.7.8"
  },
  "toc": {
   "base_numbering": 1,
   "nav_menu": {},
   "number_sections": false,
   "sideBar": true,
   "skip_h1_title": true,
   "title_cell": "Содержание",
   "title_sidebar": "Contents",
   "toc_cell": true,
   "toc_position": {},
   "toc_section_display": true,
   "toc_window_display": false
  }
 },
 "nbformat": 4,
 "nbformat_minor": 2
}
