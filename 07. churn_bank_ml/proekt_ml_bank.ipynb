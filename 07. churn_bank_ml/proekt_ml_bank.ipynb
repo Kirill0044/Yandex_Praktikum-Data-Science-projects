{
 "cells": [
  {
   "cell_type": "markdown",
   "id": "e9b5673e",
   "metadata": {
    "toc": true
   },
   "source": [
    "<h1>Содержание<span class=\"tocSkip\"></span></h1>\n",
    "<div class=\"toc\"><ul class=\"toc-item\"><li><span><a href=\"#Отток-клиентов\" data-toc-modified-id=\"Отток-клиентов-1\">Отток клиентов</a></span><ul class=\"toc-item\"><li><span><a href=\"#Шаг-1.-Обзор-данных.\" data-toc-modified-id=\"Шаг-1.-Обзор-данных.-1.1\">Шаг 1. Обзор данных.</a></span></li><li><span><a href=\"#Шаг-2.-Предобработка-данных.\" data-toc-modified-id=\"Шаг-2.-Предобработка-данных.-1.2\">Шаг 2. Предобработка данных.</a></span><ul class=\"toc-item\"><li><span><a href=\"#Шаг-2.1-Приведение-данных-к-стандартам-и-обработка-категориальных-признаков.\" data-toc-modified-id=\"Шаг-2.1-Приведение-данных-к-стандартам-и-обработка-категориальных-признаков.-1.2.1\">Шаг 2.1 Приведение данных к стандартам и обработка категориальных признаков.</a></span></li><li><span><a href=\"#Шаг-2.2.-Обработка-количественных-признаков.\" data-toc-modified-id=\"Шаг-2.2.-Обработка-количественных-признаков.-1.2.2\">Шаг 2.2. Обработка количественных признаков.</a></span></li></ul></li><li><span><a href=\"#Шаг-3.-Выбор--моделей-машинного-обучения-с-наилучшими-показателями.\" data-toc-modified-id=\"Шаг-3.-Выбор--моделей-машинного-обучения-с-наилучшими-показателями.-1.3\">Шаг 3. Выбор  моделей машинного обучения с наилучшими показателями.</a></span><ul class=\"toc-item\"><li><span><a href=\"#Шаг-3.1.-Подготовка-выборок,-&quot;pipline&quot;-и--&quot;GridSearchCV&quot;-для-моделей-МО.\" data-toc-modified-id=\"Шаг-3.1.-Подготовка-выборок,-&quot;pipline&quot;-и--&quot;GridSearchCV&quot;-для-моделей-МО.-1.3.1\">Шаг 3.1. Подготовка выборок, \"pipline\" и  \"GridSearchCV\" для моделей МО.</a></span></li><li><span><a href=\"#Шаг-3.2.-Подбор-оптимальных-гиперпараметров-для-каждой-модели-МО-на-несбалансированной-выборке.\" data-toc-modified-id=\"Шаг-3.2.-Подбор-оптимальных-гиперпараметров-для-каждой-модели-МО-на-несбалансированной-выборке.-1.3.2\">Шаг 3.2. Подбор оптимальных гиперпараметров для каждой модели МО на несбалансированной выборке.</a></span></li><li><span><a href=\"#Шаг-3.3.-Подбор-оптимальных-гиперпараметров-для-каждой-модели-МО-на-сбалансированной-выборке.\" data-toc-modified-id=\"Шаг-3.3.-Подбор-оптимальных-гиперпараметров-для-каждой-модели-МО-на-сбалансированной-выборке.-1.3.3\">Шаг 3.3. Подбор оптимальных гиперпараметров для каждой модели МО на сбалансированной выборке.</a></span></li><li><span><a href=\"#Шаг-3.4.-Подбор-оптимальных-гиперпараметров-для-каждой-модели-МО-с-учетом-изменения-порога-классификации.\" data-toc-modified-id=\"Шаг-3.4.-Подбор-оптимальных-гиперпараметров-для-каждой-модели-МО-с-учетом-изменения-порога-классификации.-1.3.4\">Шаг 3.4. Подбор оптимальных гиперпараметров для каждой модели МО с учетом изменения порога классификации.</a></span></li></ul></li><li><span><a href=\"#Шаг-4.-Финальное-тестирование-моделей-МО.\" data-toc-modified-id=\"Шаг-4.-Финальное-тестирование-моделей-МО.-1.4\">Шаг 4. Финальное тестирование моделей МО.</a></span></li><li><span><a href=\"#Шаг-5.-Итоги-исследования.\" data-toc-modified-id=\"Шаг-5.-Итоги-исследования.-1.5\">Шаг 5. Итоги исследования.</a></span><ul class=\"toc-item\"><li><span><a href=\"#Шаг-5.1.-Описание-хода-исследования.\" data-toc-modified-id=\"Шаг-5.1.-Описание-хода-исследования.-1.5.1\">Шаг 5.1. Описание хода исследования.</a></span></li><li><span><a href=\"#Шаг-5.2.-Общий-вывод.\" data-toc-modified-id=\"Шаг-5.2.-Общий-вывод.-1.5.2\">Шаг 5.2. Общий вывод.</a></span></li></ul></li></ul></li></ul></div>"
   ]
  },
  {
   "cell_type": "markdown",
   "id": "0c0212dc",
   "metadata": {},
   "source": [
    "# Отток клиентов"
   ]
  },
  {
   "cell_type": "markdown",
   "id": "bdf6b004",
   "metadata": {},
   "source": [
    "**Описание задачи проекта:**\n",
    "\n",
    "Из «Бета-Банка» стали уходить клиенты. Каждый месяц. Немного, но заметно. Банковские маркетологи посчитали: сохранять текущих клиентов дешевле, чем привлекать новых.\n",
    "\n",
    "Необходимо спрогнозировать, уйдёт клиент из банка в ближайшее время или нет. Нам предоставлены исторические данные о поведении клиентов и расторжении договоров с банком. \n",
    "\n",
    "Нужно построить модель с предельно большим значением F1-меры. Чтобы сдать проект успешно, нужно довести метрику до 0.59. Проверим F1-меру на тестовой выборке.\n",
    "\n",
    "Дополнительно измерим ROC-AUC, сравним её значение с F1-мерой.\n",
    "\n",
    "Описание данных:\n",
    "  \n",
    "  Данные находятся в файле /datasets/Churn.csv (англ. «отток клиентов»).\n",
    "  \n",
    "**Признаки:**\n",
    "- RowNumber — индекс строки в данных\n",
    "- CustomerId — уникальный идентификатор клиента\n",
    "- Surname — фамилия\n",
    "- CreditScore — кредитный рейтинг\n",
    "- Geography — страна проживания\n",
    "- Gender — пол\n",
    "- Age — возраст\n",
    "- Tenure — сколько лет человек является клиентом банка\n",
    "- Balance — баланс на счёте\n",
    "- NumOfProducts — количество продуктов банка, используемых клиентом\n",
    "- HasCrCard — наличие кредитной карты\n",
    "- IsActiveMember — активность клиента\n",
    "- EstimatedSalary — предполагаемая зарплата\n",
    "\n",
    "**Целевой признак:**\n",
    "- Exited — факт ухода клиента\n"
   ]
  },
  {
   "cell_type": "markdown",
   "id": "e098d2b8",
   "metadata": {},
   "source": [
    "## Шаг 1. Обзор данных."
   ]
  },
  {
   "cell_type": "code",
   "execution_count": 1,
   "id": "6aa4a6f9",
   "metadata": {},
   "outputs": [
    {
     "name": "stderr",
     "output_type": "stream",
     "text": [
      "\n",
      "Bad key text.latex.preview in file C:\\Users\\regki\\anaconda3\\envs\\praktikum_env_win_new\\lib\\site-packages\\matplotlib\\mpl-data\\stylelib\\_classic_test.mplstyle, line 123 ('text.latex.preview : False')\n",
      "You probably need to get an updated matplotlibrc file from\n",
      "https://github.com/matplotlib/matplotlib/blob/v3.5.1/matplotlibrc.template\n",
      "or from the matplotlib source distribution\n",
      "\n",
      "Bad key mathtext.fallback_to_cm in file C:\\Users\\regki\\anaconda3\\envs\\praktikum_env_win_new\\lib\\site-packages\\matplotlib\\mpl-data\\stylelib\\_classic_test.mplstyle, line 155 ('mathtext.fallback_to_cm : True  # When True, use symbols from the Computer Modern')\n",
      "You probably need to get an updated matplotlibrc file from\n",
      "https://github.com/matplotlib/matplotlib/blob/v3.5.1/matplotlibrc.template\n",
      "or from the matplotlib source distribution\n",
      "\n",
      "Bad key savefig.jpeg_quality in file C:\\Users\\regki\\anaconda3\\envs\\praktikum_env_win_new\\lib\\site-packages\\matplotlib\\mpl-data\\stylelib\\_classic_test.mplstyle, line 418 ('savefig.jpeg_quality: 95       # when a jpeg is saved, the default quality parameter.')\n",
      "You probably need to get an updated matplotlibrc file from\n",
      "https://github.com/matplotlib/matplotlib/blob/v3.5.1/matplotlibrc.template\n",
      "or from the matplotlib source distribution\n",
      "\n",
      "Bad key keymap.all_axes in file C:\\Users\\regki\\anaconda3\\envs\\praktikum_env_win_new\\lib\\site-packages\\matplotlib\\mpl-data\\stylelib\\_classic_test.mplstyle, line 466 ('keymap.all_axes : a                 # enable all axes')\n",
      "You probably need to get an updated matplotlibrc file from\n",
      "https://github.com/matplotlib/matplotlib/blob/v3.5.1/matplotlibrc.template\n",
      "or from the matplotlib source distribution\n",
      "\n",
      "Bad key animation.avconv_path in file C:\\Users\\regki\\anaconda3\\envs\\praktikum_env_win_new\\lib\\site-packages\\matplotlib\\mpl-data\\stylelib\\_classic_test.mplstyle, line 477 ('animation.avconv_path: avconv     # Path to avconv binary. Without full path')\n",
      "You probably need to get an updated matplotlibrc file from\n",
      "https://github.com/matplotlib/matplotlib/blob/v3.5.1/matplotlibrc.template\n",
      "or from the matplotlib source distribution\n",
      "\n",
      "Bad key animation.avconv_args in file C:\\Users\\regki\\anaconda3\\envs\\praktikum_env_win_new\\lib\\site-packages\\matplotlib\\mpl-data\\stylelib\\_classic_test.mplstyle, line 479 ('animation.avconv_args:            # Additional arguments to pass to avconv')\n",
      "You probably need to get an updated matplotlibrc file from\n",
      "https://github.com/matplotlib/matplotlib/blob/v3.5.1/matplotlibrc.template\n",
      "or from the matplotlib source distribution\n"
     ]
    }
   ],
   "source": [
    "# импорт основных библиотек\n",
    "import pandas as pd\n",
    "import numpy as np\n",
    "import seaborn as sns\n",
    "import matplotlib.pyplot as plt\n",
    "# импорт библиотек моделей и разделения выборок\n",
    "from sklearn.model_selection import train_test_split\n",
    "from sklearn.linear_model import LogisticRegression\n",
    "from sklearn.tree import DecisionTreeClassifier\n",
    "from sklearn.ensemble import RandomForestClassifier\n",
    "# импорт библиотек с метриками и графиками\n",
    "from sklearn.metrics import f1_score, recall_score, precision_score,  roc_auc_score, make_scorer\n",
    "from sklearn.metrics import precision_recall_curve, roc_curve \n",
    "# импорт методов стандартизации, кодировки, трансформации и pipline \n",
    "from sklearn.pipeline import Pipeline\n",
    "from sklearn.impute import SimpleImputer\n",
    "from sklearn.preprocessing import StandardScaler, OneHotEncoder\n",
    "from sklearn.compose import ColumnTransformer\n",
    "#импорт GridSearchCV и shuffle\n",
    "from sklearn.utils import shuffle\n",
    "from sklearn.model_selection import GridSearchCV\n",
    "#импорт confusion_matrix\n",
    "from sklearn.metrics import confusion_matrix\n",
    "\n",
    "import re\n",
    "\n",
    "# импорт библиотеки для предупреждений\n",
    "import warnings\n",
    "warnings.filterwarnings('ignore')"
   ]
  },
  {
   "cell_type": "code",
   "execution_count": 2,
   "id": "fe8a5b55",
   "metadata": {},
   "outputs": [
    {
     "data": {
      "text/html": [
       "<div>\n",
       "<style scoped>\n",
       "    .dataframe tbody tr th:only-of-type {\n",
       "        vertical-align: middle;\n",
       "    }\n",
       "\n",
       "    .dataframe tbody tr th {\n",
       "        vertical-align: top;\n",
       "    }\n",
       "\n",
       "    .dataframe thead th {\n",
       "        text-align: right;\n",
       "    }\n",
       "</style>\n",
       "<table border=\"1\" class=\"dataframe\">\n",
       "  <thead>\n",
       "    <tr style=\"text-align: right;\">\n",
       "      <th></th>\n",
       "      <th>RowNumber</th>\n",
       "      <th>CustomerId</th>\n",
       "      <th>Surname</th>\n",
       "      <th>CreditScore</th>\n",
       "      <th>Geography</th>\n",
       "      <th>Gender</th>\n",
       "      <th>Age</th>\n",
       "      <th>Tenure</th>\n",
       "      <th>Balance</th>\n",
       "      <th>NumOfProducts</th>\n",
       "      <th>HasCrCard</th>\n",
       "      <th>IsActiveMember</th>\n",
       "      <th>EstimatedSalary</th>\n",
       "      <th>Exited</th>\n",
       "    </tr>\n",
       "  </thead>\n",
       "  <tbody>\n",
       "    <tr>\n",
       "      <th>0</th>\n",
       "      <td>1</td>\n",
       "      <td>15634602</td>\n",
       "      <td>Hargrave</td>\n",
       "      <td>619</td>\n",
       "      <td>France</td>\n",
       "      <td>Female</td>\n",
       "      <td>42</td>\n",
       "      <td>2.0</td>\n",
       "      <td>0.00</td>\n",
       "      <td>1</td>\n",
       "      <td>1</td>\n",
       "      <td>1</td>\n",
       "      <td>101348.88</td>\n",
       "      <td>1</td>\n",
       "    </tr>\n",
       "    <tr>\n",
       "      <th>1</th>\n",
       "      <td>2</td>\n",
       "      <td>15647311</td>\n",
       "      <td>Hill</td>\n",
       "      <td>608</td>\n",
       "      <td>Spain</td>\n",
       "      <td>Female</td>\n",
       "      <td>41</td>\n",
       "      <td>1.0</td>\n",
       "      <td>83807.86</td>\n",
       "      <td>1</td>\n",
       "      <td>0</td>\n",
       "      <td>1</td>\n",
       "      <td>112542.58</td>\n",
       "      <td>0</td>\n",
       "    </tr>\n",
       "    <tr>\n",
       "      <th>2</th>\n",
       "      <td>3</td>\n",
       "      <td>15619304</td>\n",
       "      <td>Onio</td>\n",
       "      <td>502</td>\n",
       "      <td>France</td>\n",
       "      <td>Female</td>\n",
       "      <td>42</td>\n",
       "      <td>8.0</td>\n",
       "      <td>159660.80</td>\n",
       "      <td>3</td>\n",
       "      <td>1</td>\n",
       "      <td>0</td>\n",
       "      <td>113931.57</td>\n",
       "      <td>1</td>\n",
       "    </tr>\n",
       "    <tr>\n",
       "      <th>3</th>\n",
       "      <td>4</td>\n",
       "      <td>15701354</td>\n",
       "      <td>Boni</td>\n",
       "      <td>699</td>\n",
       "      <td>France</td>\n",
       "      <td>Female</td>\n",
       "      <td>39</td>\n",
       "      <td>1.0</td>\n",
       "      <td>0.00</td>\n",
       "      <td>2</td>\n",
       "      <td>0</td>\n",
       "      <td>0</td>\n",
       "      <td>93826.63</td>\n",
       "      <td>0</td>\n",
       "    </tr>\n",
       "    <tr>\n",
       "      <th>4</th>\n",
       "      <td>5</td>\n",
       "      <td>15737888</td>\n",
       "      <td>Mitchell</td>\n",
       "      <td>850</td>\n",
       "      <td>Spain</td>\n",
       "      <td>Female</td>\n",
       "      <td>43</td>\n",
       "      <td>2.0</td>\n",
       "      <td>125510.82</td>\n",
       "      <td>1</td>\n",
       "      <td>1</td>\n",
       "      <td>1</td>\n",
       "      <td>79084.10</td>\n",
       "      <td>0</td>\n",
       "    </tr>\n",
       "    <tr>\n",
       "      <th>...</th>\n",
       "      <td>...</td>\n",
       "      <td>...</td>\n",
       "      <td>...</td>\n",
       "      <td>...</td>\n",
       "      <td>...</td>\n",
       "      <td>...</td>\n",
       "      <td>...</td>\n",
       "      <td>...</td>\n",
       "      <td>...</td>\n",
       "      <td>...</td>\n",
       "      <td>...</td>\n",
       "      <td>...</td>\n",
       "      <td>...</td>\n",
       "      <td>...</td>\n",
       "    </tr>\n",
       "    <tr>\n",
       "      <th>9995</th>\n",
       "      <td>9996</td>\n",
       "      <td>15606229</td>\n",
       "      <td>Obijiaku</td>\n",
       "      <td>771</td>\n",
       "      <td>France</td>\n",
       "      <td>Male</td>\n",
       "      <td>39</td>\n",
       "      <td>5.0</td>\n",
       "      <td>0.00</td>\n",
       "      <td>2</td>\n",
       "      <td>1</td>\n",
       "      <td>0</td>\n",
       "      <td>96270.64</td>\n",
       "      <td>0</td>\n",
       "    </tr>\n",
       "    <tr>\n",
       "      <th>9996</th>\n",
       "      <td>9997</td>\n",
       "      <td>15569892</td>\n",
       "      <td>Johnstone</td>\n",
       "      <td>516</td>\n",
       "      <td>France</td>\n",
       "      <td>Male</td>\n",
       "      <td>35</td>\n",
       "      <td>10.0</td>\n",
       "      <td>57369.61</td>\n",
       "      <td>1</td>\n",
       "      <td>1</td>\n",
       "      <td>1</td>\n",
       "      <td>101699.77</td>\n",
       "      <td>0</td>\n",
       "    </tr>\n",
       "    <tr>\n",
       "      <th>9997</th>\n",
       "      <td>9998</td>\n",
       "      <td>15584532</td>\n",
       "      <td>Liu</td>\n",
       "      <td>709</td>\n",
       "      <td>France</td>\n",
       "      <td>Female</td>\n",
       "      <td>36</td>\n",
       "      <td>7.0</td>\n",
       "      <td>0.00</td>\n",
       "      <td>1</td>\n",
       "      <td>0</td>\n",
       "      <td>1</td>\n",
       "      <td>42085.58</td>\n",
       "      <td>1</td>\n",
       "    </tr>\n",
       "    <tr>\n",
       "      <th>9998</th>\n",
       "      <td>9999</td>\n",
       "      <td>15682355</td>\n",
       "      <td>Sabbatini</td>\n",
       "      <td>772</td>\n",
       "      <td>Germany</td>\n",
       "      <td>Male</td>\n",
       "      <td>42</td>\n",
       "      <td>3.0</td>\n",
       "      <td>75075.31</td>\n",
       "      <td>2</td>\n",
       "      <td>1</td>\n",
       "      <td>0</td>\n",
       "      <td>92888.52</td>\n",
       "      <td>1</td>\n",
       "    </tr>\n",
       "    <tr>\n",
       "      <th>9999</th>\n",
       "      <td>10000</td>\n",
       "      <td>15628319</td>\n",
       "      <td>Walker</td>\n",
       "      <td>792</td>\n",
       "      <td>France</td>\n",
       "      <td>Female</td>\n",
       "      <td>28</td>\n",
       "      <td>NaN</td>\n",
       "      <td>130142.79</td>\n",
       "      <td>1</td>\n",
       "      <td>1</td>\n",
       "      <td>0</td>\n",
       "      <td>38190.78</td>\n",
       "      <td>0</td>\n",
       "    </tr>\n",
       "  </tbody>\n",
       "</table>\n",
       "<p>10000 rows × 14 columns</p>\n",
       "</div>"
      ],
      "text/plain": [
       "      RowNumber  CustomerId    Surname  CreditScore Geography  Gender  Age  \\\n",
       "0             1    15634602   Hargrave          619    France  Female   42   \n",
       "1             2    15647311       Hill          608     Spain  Female   41   \n",
       "2             3    15619304       Onio          502    France  Female   42   \n",
       "3             4    15701354       Boni          699    France  Female   39   \n",
       "4             5    15737888   Mitchell          850     Spain  Female   43   \n",
       "...         ...         ...        ...          ...       ...     ...  ...   \n",
       "9995       9996    15606229   Obijiaku          771    France    Male   39   \n",
       "9996       9997    15569892  Johnstone          516    France    Male   35   \n",
       "9997       9998    15584532        Liu          709    France  Female   36   \n",
       "9998       9999    15682355  Sabbatini          772   Germany    Male   42   \n",
       "9999      10000    15628319     Walker          792    France  Female   28   \n",
       "\n",
       "      Tenure    Balance  NumOfProducts  HasCrCard  IsActiveMember  \\\n",
       "0        2.0       0.00              1          1               1   \n",
       "1        1.0   83807.86              1          0               1   \n",
       "2        8.0  159660.80              3          1               0   \n",
       "3        1.0       0.00              2          0               0   \n",
       "4        2.0  125510.82              1          1               1   \n",
       "...      ...        ...            ...        ...             ...   \n",
       "9995     5.0       0.00              2          1               0   \n",
       "9996    10.0   57369.61              1          1               1   \n",
       "9997     7.0       0.00              1          0               1   \n",
       "9998     3.0   75075.31              2          1               0   \n",
       "9999     NaN  130142.79              1          1               0   \n",
       "\n",
       "      EstimatedSalary  Exited  \n",
       "0           101348.88       1  \n",
       "1           112542.58       0  \n",
       "2           113931.57       1  \n",
       "3            93826.63       0  \n",
       "4            79084.10       0  \n",
       "...               ...     ...  \n",
       "9995         96270.64       0  \n",
       "9996        101699.77       0  \n",
       "9997         42085.58       1  \n",
       "9998         92888.52       1  \n",
       "9999         38190.78       0  \n",
       "\n",
       "[10000 rows x 14 columns]"
      ]
     },
     "execution_count": 2,
     "metadata": {},
     "output_type": "execute_result"
    }
   ],
   "source": [
    "# чтение файла с датасетом, испульзуя конструкцию try-except и вывод таблицы\n",
    "try:\n",
    "    df = pd.read_csv('/Users/regki/Downloads/Churn.csv')\n",
    "except:\n",
    "    df = pd.read_csv('/datasets/Churn.csv')\n",
    "df"
   ]
  },
  {
   "cell_type": "code",
   "execution_count": 3,
   "id": "7dfb4aa4",
   "metadata": {},
   "outputs": [
    {
     "name": "stdout",
     "output_type": "stream",
     "text": [
      "<class 'pandas.core.frame.DataFrame'>\n",
      "RangeIndex: 10000 entries, 0 to 9999\n",
      "Data columns (total 14 columns):\n",
      " #   Column           Non-Null Count  Dtype  \n",
      "---  ------           --------------  -----  \n",
      " 0   RowNumber        10000 non-null  int64  \n",
      " 1   CustomerId       10000 non-null  int64  \n",
      " 2   Surname          10000 non-null  object \n",
      " 3   CreditScore      10000 non-null  int64  \n",
      " 4   Geography        10000 non-null  object \n",
      " 5   Gender           10000 non-null  object \n",
      " 6   Age              10000 non-null  int64  \n",
      " 7   Tenure           9091 non-null   float64\n",
      " 8   Balance          10000 non-null  float64\n",
      " 9   NumOfProducts    10000 non-null  int64  \n",
      " 10  HasCrCard        10000 non-null  int64  \n",
      " 11  IsActiveMember   10000 non-null  int64  \n",
      " 12  EstimatedSalary  10000 non-null  float64\n",
      " 13  Exited           10000 non-null  int64  \n",
      "dtypes: float64(3), int64(8), object(3)\n",
      "memory usage: 1.1+ MB\n"
     ]
    }
   ],
   "source": [
    "# обзор данных\n",
    "df.info()"
   ]
  },
  {
   "cell_type": "markdown",
   "id": "08d7b7ed",
   "metadata": {},
   "source": [
    "**В таблице 10000 строк с данными, 14 столбцов, из них 3 с показателями в вещественном формате, 8 в целочисленном, 3 в строковом. В данных видны пропуски, которые находятся в одном столбце с данными в вещественном формате. Дальше обработаем данные для более корректной работы моделей обучения.**"
   ]
  },
  {
   "cell_type": "markdown",
   "id": "6069ced5",
   "metadata": {},
   "source": [
    "## Шаг 2. Предобработка данных."
   ]
  },
  {
   "cell_type": "markdown",
   "id": "e1da8441",
   "metadata": {},
   "source": [
    "### Шаг 2.1 Приведение данных к стандартам и обработка категориальных признаков."
   ]
  },
  {
   "cell_type": "markdown",
   "id": "2cda2445",
   "metadata": {},
   "source": [
    "Наименования столбцов написаны в \"верблюжьем регистре\", а данные с использованием прописных букв. Приведем данные и наименования столбцов в \"змеиный регистр\"."
   ]
  },
  {
   "cell_type": "code",
   "execution_count": 4,
   "id": "eb0fc87b",
   "metadata": {},
   "outputs": [],
   "source": [
    "# приведение наименований столбцов в \"змеиный регистр\"\n",
    "df.columns = [re.sub(r'(?<!^)(?=[A-Z])', '_', name).lower() for name in df.columns]"
   ]
  },
  {
   "cell_type": "code",
   "execution_count": 5,
   "id": "2f8e1d4f",
   "metadata": {},
   "outputs": [
    {
     "data": {
      "text/html": [
       "<div>\n",
       "<style scoped>\n",
       "    .dataframe tbody tr th:only-of-type {\n",
       "        vertical-align: middle;\n",
       "    }\n",
       "\n",
       "    .dataframe tbody tr th {\n",
       "        vertical-align: top;\n",
       "    }\n",
       "\n",
       "    .dataframe thead th {\n",
       "        text-align: right;\n",
       "    }\n",
       "</style>\n",
       "<table border=\"1\" class=\"dataframe\">\n",
       "  <thead>\n",
       "    <tr style=\"text-align: right;\">\n",
       "      <th></th>\n",
       "      <th>row_number</th>\n",
       "      <th>customer_id</th>\n",
       "      <th>surname</th>\n",
       "      <th>credit_score</th>\n",
       "      <th>geography</th>\n",
       "      <th>gender</th>\n",
       "      <th>age</th>\n",
       "      <th>tenure</th>\n",
       "      <th>balance</th>\n",
       "      <th>num_of_products</th>\n",
       "      <th>has_cr_card</th>\n",
       "      <th>is_active_member</th>\n",
       "      <th>estimated_salary</th>\n",
       "      <th>exited</th>\n",
       "    </tr>\n",
       "  </thead>\n",
       "  <tbody>\n",
       "    <tr>\n",
       "      <th>0</th>\n",
       "      <td>1</td>\n",
       "      <td>15634602</td>\n",
       "      <td>hargrave</td>\n",
       "      <td>619</td>\n",
       "      <td>france</td>\n",
       "      <td>female</td>\n",
       "      <td>42</td>\n",
       "      <td>2.0</td>\n",
       "      <td>0.00</td>\n",
       "      <td>1</td>\n",
       "      <td>1</td>\n",
       "      <td>1</td>\n",
       "      <td>101348.88</td>\n",
       "      <td>1</td>\n",
       "    </tr>\n",
       "    <tr>\n",
       "      <th>1</th>\n",
       "      <td>2</td>\n",
       "      <td>15647311</td>\n",
       "      <td>hill</td>\n",
       "      <td>608</td>\n",
       "      <td>spain</td>\n",
       "      <td>female</td>\n",
       "      <td>41</td>\n",
       "      <td>1.0</td>\n",
       "      <td>83807.86</td>\n",
       "      <td>1</td>\n",
       "      <td>0</td>\n",
       "      <td>1</td>\n",
       "      <td>112542.58</td>\n",
       "      <td>0</td>\n",
       "    </tr>\n",
       "    <tr>\n",
       "      <th>2</th>\n",
       "      <td>3</td>\n",
       "      <td>15619304</td>\n",
       "      <td>onio</td>\n",
       "      <td>502</td>\n",
       "      <td>france</td>\n",
       "      <td>female</td>\n",
       "      <td>42</td>\n",
       "      <td>8.0</td>\n",
       "      <td>159660.80</td>\n",
       "      <td>3</td>\n",
       "      <td>1</td>\n",
       "      <td>0</td>\n",
       "      <td>113931.57</td>\n",
       "      <td>1</td>\n",
       "    </tr>\n",
       "    <tr>\n",
       "      <th>3</th>\n",
       "      <td>4</td>\n",
       "      <td>15701354</td>\n",
       "      <td>boni</td>\n",
       "      <td>699</td>\n",
       "      <td>france</td>\n",
       "      <td>female</td>\n",
       "      <td>39</td>\n",
       "      <td>1.0</td>\n",
       "      <td>0.00</td>\n",
       "      <td>2</td>\n",
       "      <td>0</td>\n",
       "      <td>0</td>\n",
       "      <td>93826.63</td>\n",
       "      <td>0</td>\n",
       "    </tr>\n",
       "    <tr>\n",
       "      <th>4</th>\n",
       "      <td>5</td>\n",
       "      <td>15737888</td>\n",
       "      <td>mitchell</td>\n",
       "      <td>850</td>\n",
       "      <td>spain</td>\n",
       "      <td>female</td>\n",
       "      <td>43</td>\n",
       "      <td>2.0</td>\n",
       "      <td>125510.82</td>\n",
       "      <td>1</td>\n",
       "      <td>1</td>\n",
       "      <td>1</td>\n",
       "      <td>79084.10</td>\n",
       "      <td>0</td>\n",
       "    </tr>\n",
       "    <tr>\n",
       "      <th>...</th>\n",
       "      <td>...</td>\n",
       "      <td>...</td>\n",
       "      <td>...</td>\n",
       "      <td>...</td>\n",
       "      <td>...</td>\n",
       "      <td>...</td>\n",
       "      <td>...</td>\n",
       "      <td>...</td>\n",
       "      <td>...</td>\n",
       "      <td>...</td>\n",
       "      <td>...</td>\n",
       "      <td>...</td>\n",
       "      <td>...</td>\n",
       "      <td>...</td>\n",
       "    </tr>\n",
       "    <tr>\n",
       "      <th>9995</th>\n",
       "      <td>9996</td>\n",
       "      <td>15606229</td>\n",
       "      <td>obijiaku</td>\n",
       "      <td>771</td>\n",
       "      <td>france</td>\n",
       "      <td>male</td>\n",
       "      <td>39</td>\n",
       "      <td>5.0</td>\n",
       "      <td>0.00</td>\n",
       "      <td>2</td>\n",
       "      <td>1</td>\n",
       "      <td>0</td>\n",
       "      <td>96270.64</td>\n",
       "      <td>0</td>\n",
       "    </tr>\n",
       "    <tr>\n",
       "      <th>9996</th>\n",
       "      <td>9997</td>\n",
       "      <td>15569892</td>\n",
       "      <td>johnstone</td>\n",
       "      <td>516</td>\n",
       "      <td>france</td>\n",
       "      <td>male</td>\n",
       "      <td>35</td>\n",
       "      <td>10.0</td>\n",
       "      <td>57369.61</td>\n",
       "      <td>1</td>\n",
       "      <td>1</td>\n",
       "      <td>1</td>\n",
       "      <td>101699.77</td>\n",
       "      <td>0</td>\n",
       "    </tr>\n",
       "    <tr>\n",
       "      <th>9997</th>\n",
       "      <td>9998</td>\n",
       "      <td>15584532</td>\n",
       "      <td>liu</td>\n",
       "      <td>709</td>\n",
       "      <td>france</td>\n",
       "      <td>female</td>\n",
       "      <td>36</td>\n",
       "      <td>7.0</td>\n",
       "      <td>0.00</td>\n",
       "      <td>1</td>\n",
       "      <td>0</td>\n",
       "      <td>1</td>\n",
       "      <td>42085.58</td>\n",
       "      <td>1</td>\n",
       "    </tr>\n",
       "    <tr>\n",
       "      <th>9998</th>\n",
       "      <td>9999</td>\n",
       "      <td>15682355</td>\n",
       "      <td>sabbatini</td>\n",
       "      <td>772</td>\n",
       "      <td>germany</td>\n",
       "      <td>male</td>\n",
       "      <td>42</td>\n",
       "      <td>3.0</td>\n",
       "      <td>75075.31</td>\n",
       "      <td>2</td>\n",
       "      <td>1</td>\n",
       "      <td>0</td>\n",
       "      <td>92888.52</td>\n",
       "      <td>1</td>\n",
       "    </tr>\n",
       "    <tr>\n",
       "      <th>9999</th>\n",
       "      <td>10000</td>\n",
       "      <td>15628319</td>\n",
       "      <td>walker</td>\n",
       "      <td>792</td>\n",
       "      <td>france</td>\n",
       "      <td>female</td>\n",
       "      <td>28</td>\n",
       "      <td>NaN</td>\n",
       "      <td>130142.79</td>\n",
       "      <td>1</td>\n",
       "      <td>1</td>\n",
       "      <td>0</td>\n",
       "      <td>38190.78</td>\n",
       "      <td>0</td>\n",
       "    </tr>\n",
       "  </tbody>\n",
       "</table>\n",
       "<p>10000 rows × 14 columns</p>\n",
       "</div>"
      ],
      "text/plain": [
       "      row_number  customer_id    surname  credit_score geography  gender  age  \\\n",
       "0              1     15634602   hargrave           619    france  female   42   \n",
       "1              2     15647311       hill           608     spain  female   41   \n",
       "2              3     15619304       onio           502    france  female   42   \n",
       "3              4     15701354       boni           699    france  female   39   \n",
       "4              5     15737888   mitchell           850     spain  female   43   \n",
       "...          ...          ...        ...           ...       ...     ...  ...   \n",
       "9995        9996     15606229   obijiaku           771    france    male   39   \n",
       "9996        9997     15569892  johnstone           516    france    male   35   \n",
       "9997        9998     15584532        liu           709    france  female   36   \n",
       "9998        9999     15682355  sabbatini           772   germany    male   42   \n",
       "9999       10000     15628319     walker           792    france  female   28   \n",
       "\n",
       "      tenure    balance  num_of_products  has_cr_card  is_active_member  \\\n",
       "0        2.0       0.00                1            1                 1   \n",
       "1        1.0   83807.86                1            0                 1   \n",
       "2        8.0  159660.80                3            1                 0   \n",
       "3        1.0       0.00                2            0                 0   \n",
       "4        2.0  125510.82                1            1                 1   \n",
       "...      ...        ...              ...          ...               ...   \n",
       "9995     5.0       0.00                2            1                 0   \n",
       "9996    10.0   57369.61                1            1                 1   \n",
       "9997     7.0       0.00                1            0                 1   \n",
       "9998     3.0   75075.31                2            1                 0   \n",
       "9999     NaN  130142.79                1            1                 0   \n",
       "\n",
       "      estimated_salary  exited  \n",
       "0            101348.88       1  \n",
       "1            112542.58       0  \n",
       "2            113931.57       1  \n",
       "3             93826.63       0  \n",
       "4             79084.10       0  \n",
       "...                ...     ...  \n",
       "9995          96270.64       0  \n",
       "9996         101699.77       0  \n",
       "9997          42085.58       1  \n",
       "9998          92888.52       1  \n",
       "9999          38190.78       0  \n",
       "\n",
       "[10000 rows x 14 columns]"
      ]
     },
     "execution_count": 5,
     "metadata": {},
     "output_type": "execute_result"
    }
   ],
   "source": [
    "# приведение данных(в формате строки) к нижнему регистру \n",
    "df.iloc[:,[2,4,5]] = df.iloc[:,[2,4,5]].apply(lambda x: x.str.lower())\n",
    "df"
   ]
  },
  {
   "cell_type": "markdown",
   "id": "2d7b5adf",
   "metadata": {},
   "source": [
    "Изучим данные на аномалии и рассмотрим уникальные значения в некоторых численных данных, которые выражены в единицах и десятках, а также в категориальных столбцах. Причем, есть данные как номинальные категориальные, так и ординальные, то есть выраженные числами, но по сути являющиеся категориями."
   ]
  },
  {
   "cell_type": "code",
   "execution_count": 6,
   "id": "fa69ee77",
   "metadata": {},
   "outputs": [
    {
     "data": {
      "text/plain": [
       "array([ 2.,  1.,  8.,  7.,  4.,  6.,  3., 10.,  5.,  9.,  0., nan])"
      ]
     },
     "execution_count": 6,
     "metadata": {},
     "output_type": "execute_result"
    }
   ],
   "source": [
    "# вывод на экран уникальных значений в данных с длительностью обслуживания клиентов\n",
    "df['tenure'].unique()"
   ]
  },
  {
   "cell_type": "code",
   "execution_count": 7,
   "id": "30ae7607",
   "metadata": {},
   "outputs": [
    {
     "data": {
      "text/plain": [
       "1.0     952\n",
       "2.0     950\n",
       "8.0     933\n",
       "3.0     928\n",
       "5.0     927\n",
       "7.0     925\n",
       "4.0     885\n",
       "9.0     882\n",
       "6.0     881\n",
       "10.0    446\n",
       "0.0     382\n",
       "Name: tenure, dtype: int64"
      ]
     },
     "execution_count": 7,
     "metadata": {},
     "output_type": "execute_result"
    }
   ],
   "source": [
    "# вывод на экран уникальных значений в данных с длительностью обслуживания клиентов и частотой их упоминания\n",
    "df['tenure'].value_counts()"
   ]
  },
  {
   "cell_type": "markdown",
   "id": "dee7385b",
   "metadata": {},
   "source": [
    "Данные по длительности обслуживания клиентов распределены целыми числами в диапазоне от 0 до 10 лет. Все данные распределены почти равномерно, кроме крайних значений. Эту категорию данных можно принять как ординальные категориальные или числовые ординальные за счет небольшого числа уникальных целочисленных элементов. Примем их за числовые ординальные, если результат работы модели нас не устроит, то попробуем второй вариант. Также в этой категории есть пропуски, посчитаем долю пропусков от общего объема данных.   "
   ]
  },
  {
   "cell_type": "code",
   "execution_count": 8,
   "id": "2fc32edb",
   "metadata": {},
   "outputs": [
    {
     "name": "stdout",
     "output_type": "stream",
     "text": [
      "Доля пропущенных значений в столбце \"tenure\": 9.09%\n"
     ]
    }
   ],
   "source": [
    "# подсчет доли пропущенных значений в столбце с длительностью обслуживания клиентов\n",
    "print('Доля пропущенных значений в столбце \"tenure\": {:.2%}'.format(len(df[df['tenure'].isna()])/len(df)))"
   ]
  },
  {
   "cell_type": "markdown",
   "id": "34a9a41f",
   "metadata": {},
   "source": [
    "Доля пропущенных значений меньше 10 %, но тем не менее это довольно много, поэтому чистить данные не будем, в дальнейшем учтем это в настройке работы моделей. Сделаем обзор верхних строк датасета с пропусками в этом столбце."
   ]
  },
  {
   "cell_type": "code",
   "execution_count": 9,
   "id": "a955edb3",
   "metadata": {},
   "outputs": [
    {
     "data": {
      "text/html": [
       "<div>\n",
       "<style scoped>\n",
       "    .dataframe tbody tr th:only-of-type {\n",
       "        vertical-align: middle;\n",
       "    }\n",
       "\n",
       "    .dataframe tbody tr th {\n",
       "        vertical-align: top;\n",
       "    }\n",
       "\n",
       "    .dataframe thead th {\n",
       "        text-align: right;\n",
       "    }\n",
       "</style>\n",
       "<table border=\"1\" class=\"dataframe\">\n",
       "  <thead>\n",
       "    <tr style=\"text-align: right;\">\n",
       "      <th></th>\n",
       "      <th>row_number</th>\n",
       "      <th>customer_id</th>\n",
       "      <th>surname</th>\n",
       "      <th>credit_score</th>\n",
       "      <th>geography</th>\n",
       "      <th>gender</th>\n",
       "      <th>age</th>\n",
       "      <th>tenure</th>\n",
       "      <th>balance</th>\n",
       "      <th>num_of_products</th>\n",
       "      <th>has_cr_card</th>\n",
       "      <th>is_active_member</th>\n",
       "      <th>estimated_salary</th>\n",
       "      <th>exited</th>\n",
       "    </tr>\n",
       "  </thead>\n",
       "  <tbody>\n",
       "    <tr>\n",
       "      <th>30</th>\n",
       "      <td>31</td>\n",
       "      <td>15589475</td>\n",
       "      <td>azikiwe</td>\n",
       "      <td>591</td>\n",
       "      <td>spain</td>\n",
       "      <td>female</td>\n",
       "      <td>39</td>\n",
       "      <td>NaN</td>\n",
       "      <td>0.00</td>\n",
       "      <td>3</td>\n",
       "      <td>1</td>\n",
       "      <td>0</td>\n",
       "      <td>140469.38</td>\n",
       "      <td>1</td>\n",
       "    </tr>\n",
       "    <tr>\n",
       "      <th>48</th>\n",
       "      <td>49</td>\n",
       "      <td>15766205</td>\n",
       "      <td>yin</td>\n",
       "      <td>550</td>\n",
       "      <td>germany</td>\n",
       "      <td>male</td>\n",
       "      <td>38</td>\n",
       "      <td>NaN</td>\n",
       "      <td>103391.38</td>\n",
       "      <td>1</td>\n",
       "      <td>0</td>\n",
       "      <td>1</td>\n",
       "      <td>90878.13</td>\n",
       "      <td>0</td>\n",
       "    </tr>\n",
       "    <tr>\n",
       "      <th>51</th>\n",
       "      <td>52</td>\n",
       "      <td>15768193</td>\n",
       "      <td>trevisani</td>\n",
       "      <td>585</td>\n",
       "      <td>germany</td>\n",
       "      <td>male</td>\n",
       "      <td>36</td>\n",
       "      <td>NaN</td>\n",
       "      <td>146050.97</td>\n",
       "      <td>2</td>\n",
       "      <td>0</td>\n",
       "      <td>0</td>\n",
       "      <td>86424.57</td>\n",
       "      <td>0</td>\n",
       "    </tr>\n",
       "    <tr>\n",
       "      <th>53</th>\n",
       "      <td>54</td>\n",
       "      <td>15702298</td>\n",
       "      <td>parkhill</td>\n",
       "      <td>655</td>\n",
       "      <td>germany</td>\n",
       "      <td>male</td>\n",
       "      <td>41</td>\n",
       "      <td>NaN</td>\n",
       "      <td>125561.97</td>\n",
       "      <td>1</td>\n",
       "      <td>0</td>\n",
       "      <td>0</td>\n",
       "      <td>164040.94</td>\n",
       "      <td>1</td>\n",
       "    </tr>\n",
       "    <tr>\n",
       "      <th>60</th>\n",
       "      <td>61</td>\n",
       "      <td>15651280</td>\n",
       "      <td>hunter</td>\n",
       "      <td>742</td>\n",
       "      <td>germany</td>\n",
       "      <td>male</td>\n",
       "      <td>35</td>\n",
       "      <td>NaN</td>\n",
       "      <td>136857.00</td>\n",
       "      <td>1</td>\n",
       "      <td>0</td>\n",
       "      <td>0</td>\n",
       "      <td>84509.57</td>\n",
       "      <td>0</td>\n",
       "    </tr>\n",
       "    <tr>\n",
       "      <th>82</th>\n",
       "      <td>83</td>\n",
       "      <td>15641732</td>\n",
       "      <td>mills</td>\n",
       "      <td>543</td>\n",
       "      <td>france</td>\n",
       "      <td>female</td>\n",
       "      <td>36</td>\n",
       "      <td>NaN</td>\n",
       "      <td>0.00</td>\n",
       "      <td>2</td>\n",
       "      <td>0</td>\n",
       "      <td>0</td>\n",
       "      <td>26019.59</td>\n",
       "      <td>0</td>\n",
       "    </tr>\n",
       "    <tr>\n",
       "      <th>85</th>\n",
       "      <td>86</td>\n",
       "      <td>15805254</td>\n",
       "      <td>ndukaku</td>\n",
       "      <td>652</td>\n",
       "      <td>spain</td>\n",
       "      <td>female</td>\n",
       "      <td>75</td>\n",
       "      <td>NaN</td>\n",
       "      <td>0.00</td>\n",
       "      <td>2</td>\n",
       "      <td>1</td>\n",
       "      <td>1</td>\n",
       "      <td>114675.75</td>\n",
       "      <td>0</td>\n",
       "    </tr>\n",
       "    <tr>\n",
       "      <th>94</th>\n",
       "      <td>95</td>\n",
       "      <td>15676966</td>\n",
       "      <td>capon</td>\n",
       "      <td>730</td>\n",
       "      <td>spain</td>\n",
       "      <td>male</td>\n",
       "      <td>42</td>\n",
       "      <td>NaN</td>\n",
       "      <td>0.00</td>\n",
       "      <td>2</td>\n",
       "      <td>0</td>\n",
       "      <td>1</td>\n",
       "      <td>85982.47</td>\n",
       "      <td>0</td>\n",
       "    </tr>\n",
       "    <tr>\n",
       "      <th>99</th>\n",
       "      <td>100</td>\n",
       "      <td>15633059</td>\n",
       "      <td>fanucci</td>\n",
       "      <td>413</td>\n",
       "      <td>france</td>\n",
       "      <td>male</td>\n",
       "      <td>34</td>\n",
       "      <td>NaN</td>\n",
       "      <td>0.00</td>\n",
       "      <td>2</td>\n",
       "      <td>0</td>\n",
       "      <td>0</td>\n",
       "      <td>6534.18</td>\n",
       "      <td>0</td>\n",
       "    </tr>\n",
       "    <tr>\n",
       "      <th>111</th>\n",
       "      <td>112</td>\n",
       "      <td>15665790</td>\n",
       "      <td>rowntree</td>\n",
       "      <td>538</td>\n",
       "      <td>germany</td>\n",
       "      <td>male</td>\n",
       "      <td>39</td>\n",
       "      <td>NaN</td>\n",
       "      <td>108055.10</td>\n",
       "      <td>2</td>\n",
       "      <td>1</td>\n",
       "      <td>0</td>\n",
       "      <td>27231.26</td>\n",
       "      <td>0</td>\n",
       "    </tr>\n",
       "    <tr>\n",
       "      <th>123</th>\n",
       "      <td>124</td>\n",
       "      <td>15760085</td>\n",
       "      <td>calabresi</td>\n",
       "      <td>684</td>\n",
       "      <td>germany</td>\n",
       "      <td>female</td>\n",
       "      <td>48</td>\n",
       "      <td>NaN</td>\n",
       "      <td>126384.42</td>\n",
       "      <td>1</td>\n",
       "      <td>1</td>\n",
       "      <td>1</td>\n",
       "      <td>198129.36</td>\n",
       "      <td>0</td>\n",
       "    </tr>\n",
       "    <tr>\n",
       "      <th>125</th>\n",
       "      <td>126</td>\n",
       "      <td>15627360</td>\n",
       "      <td>fuller</td>\n",
       "      <td>432</td>\n",
       "      <td>france</td>\n",
       "      <td>male</td>\n",
       "      <td>42</td>\n",
       "      <td>NaN</td>\n",
       "      <td>152603.45</td>\n",
       "      <td>1</td>\n",
       "      <td>1</td>\n",
       "      <td>0</td>\n",
       "      <td>110265.24</td>\n",
       "      <td>1</td>\n",
       "    </tr>\n",
       "    <tr>\n",
       "      <th>146</th>\n",
       "      <td>147</td>\n",
       "      <td>15705707</td>\n",
       "      <td>bennelong</td>\n",
       "      <td>635</td>\n",
       "      <td>spain</td>\n",
       "      <td>female</td>\n",
       "      <td>29</td>\n",
       "      <td>NaN</td>\n",
       "      <td>138296.94</td>\n",
       "      <td>2</td>\n",
       "      <td>1</td>\n",
       "      <td>0</td>\n",
       "      <td>141075.51</td>\n",
       "      <td>0</td>\n",
       "    </tr>\n",
       "    <tr>\n",
       "      <th>162</th>\n",
       "      <td>163</td>\n",
       "      <td>15630910</td>\n",
       "      <td>treacy</td>\n",
       "      <td>800</td>\n",
       "      <td>france</td>\n",
       "      <td>female</td>\n",
       "      <td>49</td>\n",
       "      <td>NaN</td>\n",
       "      <td>108007.36</td>\n",
       "      <td>1</td>\n",
       "      <td>0</td>\n",
       "      <td>0</td>\n",
       "      <td>47125.11</td>\n",
       "      <td>0</td>\n",
       "    </tr>\n",
       "    <tr>\n",
       "      <th>173</th>\n",
       "      <td>174</td>\n",
       "      <td>15586310</td>\n",
       "      <td>ting</td>\n",
       "      <td>578</td>\n",
       "      <td>france</td>\n",
       "      <td>male</td>\n",
       "      <td>30</td>\n",
       "      <td>NaN</td>\n",
       "      <td>169462.09</td>\n",
       "      <td>1</td>\n",
       "      <td>1</td>\n",
       "      <td>0</td>\n",
       "      <td>112187.11</td>\n",
       "      <td>0</td>\n",
       "    </tr>\n",
       "    <tr>\n",
       "      <th>180</th>\n",
       "      <td>181</td>\n",
       "      <td>15716334</td>\n",
       "      <td>rozier</td>\n",
       "      <td>850</td>\n",
       "      <td>spain</td>\n",
       "      <td>female</td>\n",
       "      <td>45</td>\n",
       "      <td>NaN</td>\n",
       "      <td>122311.21</td>\n",
       "      <td>1</td>\n",
       "      <td>1</td>\n",
       "      <td>1</td>\n",
       "      <td>19482.50</td>\n",
       "      <td>0</td>\n",
       "    </tr>\n",
       "    <tr>\n",
       "      <th>217</th>\n",
       "      <td>218</td>\n",
       "      <td>15786308</td>\n",
       "      <td>millar</td>\n",
       "      <td>730</td>\n",
       "      <td>spain</td>\n",
       "      <td>female</td>\n",
       "      <td>33</td>\n",
       "      <td>NaN</td>\n",
       "      <td>0.00</td>\n",
       "      <td>2</td>\n",
       "      <td>0</td>\n",
       "      <td>0</td>\n",
       "      <td>176576.62</td>\n",
       "      <td>0</td>\n",
       "    </tr>\n",
       "    <tr>\n",
       "      <th>222</th>\n",
       "      <td>223</td>\n",
       "      <td>15727829</td>\n",
       "      <td>mcintyre</td>\n",
       "      <td>567</td>\n",
       "      <td>france</td>\n",
       "      <td>male</td>\n",
       "      <td>42</td>\n",
       "      <td>NaN</td>\n",
       "      <td>0.00</td>\n",
       "      <td>2</td>\n",
       "      <td>1</td>\n",
       "      <td>1</td>\n",
       "      <td>167984.61</td>\n",
       "      <td>0</td>\n",
       "    </tr>\n",
       "    <tr>\n",
       "      <th>225</th>\n",
       "      <td>226</td>\n",
       "      <td>15699029</td>\n",
       "      <td>bagley</td>\n",
       "      <td>670</td>\n",
       "      <td>france</td>\n",
       "      <td>male</td>\n",
       "      <td>37</td>\n",
       "      <td>NaN</td>\n",
       "      <td>170557.91</td>\n",
       "      <td>2</td>\n",
       "      <td>1</td>\n",
       "      <td>0</td>\n",
       "      <td>198252.88</td>\n",
       "      <td>0</td>\n",
       "    </tr>\n",
       "    <tr>\n",
       "      <th>237</th>\n",
       "      <td>238</td>\n",
       "      <td>15764866</td>\n",
       "      <td>synnot</td>\n",
       "      <td>539</td>\n",
       "      <td>germany</td>\n",
       "      <td>female</td>\n",
       "      <td>43</td>\n",
       "      <td>NaN</td>\n",
       "      <td>116220.50</td>\n",
       "      <td>3</td>\n",
       "      <td>1</td>\n",
       "      <td>0</td>\n",
       "      <td>55803.96</td>\n",
       "      <td>1</td>\n",
       "    </tr>\n",
       "    <tr>\n",
       "      <th>254</th>\n",
       "      <td>255</td>\n",
       "      <td>15665834</td>\n",
       "      <td>cheatham</td>\n",
       "      <td>696</td>\n",
       "      <td>spain</td>\n",
       "      <td>male</td>\n",
       "      <td>28</td>\n",
       "      <td>NaN</td>\n",
       "      <td>0.00</td>\n",
       "      <td>1</td>\n",
       "      <td>0</td>\n",
       "      <td>0</td>\n",
       "      <td>176713.47</td>\n",
       "      <td>0</td>\n",
       "    </tr>\n",
       "    <tr>\n",
       "      <th>258</th>\n",
       "      <td>259</td>\n",
       "      <td>15750803</td>\n",
       "      <td>jess</td>\n",
       "      <td>693</td>\n",
       "      <td>france</td>\n",
       "      <td>female</td>\n",
       "      <td>30</td>\n",
       "      <td>NaN</td>\n",
       "      <td>127992.25</td>\n",
       "      <td>1</td>\n",
       "      <td>1</td>\n",
       "      <td>1</td>\n",
       "      <td>50457.20</td>\n",
       "      <td>0</td>\n",
       "    </tr>\n",
       "    <tr>\n",
       "      <th>264</th>\n",
       "      <td>265</td>\n",
       "      <td>15700696</td>\n",
       "      <td>kang</td>\n",
       "      <td>738</td>\n",
       "      <td>spain</td>\n",
       "      <td>male</td>\n",
       "      <td>31</td>\n",
       "      <td>NaN</td>\n",
       "      <td>79019.80</td>\n",
       "      <td>1</td>\n",
       "      <td>1</td>\n",
       "      <td>1</td>\n",
       "      <td>18606.23</td>\n",
       "      <td>0</td>\n",
       "    </tr>\n",
       "    <tr>\n",
       "      <th>270</th>\n",
       "      <td>271</td>\n",
       "      <td>15787071</td>\n",
       "      <td>dulhunty</td>\n",
       "      <td>650</td>\n",
       "      <td>spain</td>\n",
       "      <td>male</td>\n",
       "      <td>41</td>\n",
       "      <td>NaN</td>\n",
       "      <td>0.00</td>\n",
       "      <td>2</td>\n",
       "      <td>0</td>\n",
       "      <td>1</td>\n",
       "      <td>191599.67</td>\n",
       "      <td>0</td>\n",
       "    </tr>\n",
       "    <tr>\n",
       "      <th>275</th>\n",
       "      <td>276</td>\n",
       "      <td>15758685</td>\n",
       "      <td>dubinina</td>\n",
       "      <td>706</td>\n",
       "      <td>spain</td>\n",
       "      <td>female</td>\n",
       "      <td>37</td>\n",
       "      <td>NaN</td>\n",
       "      <td>0.00</td>\n",
       "      <td>2</td>\n",
       "      <td>1</td>\n",
       "      <td>1</td>\n",
       "      <td>110899.30</td>\n",
       "      <td>0</td>\n",
       "    </tr>\n",
       "    <tr>\n",
       "      <th>286</th>\n",
       "      <td>287</td>\n",
       "      <td>15573112</td>\n",
       "      <td>kang</td>\n",
       "      <td>602</td>\n",
       "      <td>spain</td>\n",
       "      <td>male</td>\n",
       "      <td>29</td>\n",
       "      <td>NaN</td>\n",
       "      <td>103907.28</td>\n",
       "      <td>1</td>\n",
       "      <td>1</td>\n",
       "      <td>0</td>\n",
       "      <td>161229.84</td>\n",
       "      <td>0</td>\n",
       "    </tr>\n",
       "    <tr>\n",
       "      <th>290</th>\n",
       "      <td>291</td>\n",
       "      <td>15652266</td>\n",
       "      <td>chidiebele</td>\n",
       "      <td>703</td>\n",
       "      <td>germany</td>\n",
       "      <td>male</td>\n",
       "      <td>42</td>\n",
       "      <td>NaN</td>\n",
       "      <td>63227.00</td>\n",
       "      <td>1</td>\n",
       "      <td>0</td>\n",
       "      <td>1</td>\n",
       "      <td>137316.32</td>\n",
       "      <td>0</td>\n",
       "    </tr>\n",
       "    <tr>\n",
       "      <th>320</th>\n",
       "      <td>321</td>\n",
       "      <td>15810834</td>\n",
       "      <td>gordon</td>\n",
       "      <td>525</td>\n",
       "      <td>spain</td>\n",
       "      <td>female</td>\n",
       "      <td>57</td>\n",
       "      <td>NaN</td>\n",
       "      <td>145965.33</td>\n",
       "      <td>1</td>\n",
       "      <td>1</td>\n",
       "      <td>1</td>\n",
       "      <td>64448.36</td>\n",
       "      <td>0</td>\n",
       "    </tr>\n",
       "    <tr>\n",
       "      <th>323</th>\n",
       "      <td>324</td>\n",
       "      <td>15585215</td>\n",
       "      <td>yuan</td>\n",
       "      <td>763</td>\n",
       "      <td>france</td>\n",
       "      <td>female</td>\n",
       "      <td>31</td>\n",
       "      <td>NaN</td>\n",
       "      <td>0.00</td>\n",
       "      <td>2</td>\n",
       "      <td>0</td>\n",
       "      <td>0</td>\n",
       "      <td>50404.72</td>\n",
       "      <td>0</td>\n",
       "    </tr>\n",
       "    <tr>\n",
       "      <th>329</th>\n",
       "      <td>330</td>\n",
       "      <td>15624528</td>\n",
       "      <td>l?</td>\n",
       "      <td>664</td>\n",
       "      <td>germany</td>\n",
       "      <td>male</td>\n",
       "      <td>26</td>\n",
       "      <td>NaN</td>\n",
       "      <td>116244.14</td>\n",
       "      <td>2</td>\n",
       "      <td>1</td>\n",
       "      <td>1</td>\n",
       "      <td>95145.14</td>\n",
       "      <td>0</td>\n",
       "    </tr>\n",
       "  </tbody>\n",
       "</table>\n",
       "</div>"
      ],
      "text/plain": [
       "     row_number  customer_id     surname  credit_score geography  gender  age  \\\n",
       "30           31     15589475     azikiwe           591     spain  female   39   \n",
       "48           49     15766205         yin           550   germany    male   38   \n",
       "51           52     15768193   trevisani           585   germany    male   36   \n",
       "53           54     15702298    parkhill           655   germany    male   41   \n",
       "60           61     15651280      hunter           742   germany    male   35   \n",
       "82           83     15641732       mills           543    france  female   36   \n",
       "85           86     15805254     ndukaku           652     spain  female   75   \n",
       "94           95     15676966       capon           730     spain    male   42   \n",
       "99          100     15633059     fanucci           413    france    male   34   \n",
       "111         112     15665790    rowntree           538   germany    male   39   \n",
       "123         124     15760085   calabresi           684   germany  female   48   \n",
       "125         126     15627360      fuller           432    france    male   42   \n",
       "146         147     15705707   bennelong           635     spain  female   29   \n",
       "162         163     15630910      treacy           800    france  female   49   \n",
       "173         174     15586310        ting           578    france    male   30   \n",
       "180         181     15716334      rozier           850     spain  female   45   \n",
       "217         218     15786308      millar           730     spain  female   33   \n",
       "222         223     15727829    mcintyre           567    france    male   42   \n",
       "225         226     15699029      bagley           670    france    male   37   \n",
       "237         238     15764866      synnot           539   germany  female   43   \n",
       "254         255     15665834    cheatham           696     spain    male   28   \n",
       "258         259     15750803        jess           693    france  female   30   \n",
       "264         265     15700696        kang           738     spain    male   31   \n",
       "270         271     15787071    dulhunty           650     spain    male   41   \n",
       "275         276     15758685    dubinina           706     spain  female   37   \n",
       "286         287     15573112        kang           602     spain    male   29   \n",
       "290         291     15652266  chidiebele           703   germany    male   42   \n",
       "320         321     15810834      gordon           525     spain  female   57   \n",
       "323         324     15585215        yuan           763    france  female   31   \n",
       "329         330     15624528          l?           664   germany    male   26   \n",
       "\n",
       "     tenure    balance  num_of_products  has_cr_card  is_active_member  \\\n",
       "30      NaN       0.00                3            1                 0   \n",
       "48      NaN  103391.38                1            0                 1   \n",
       "51      NaN  146050.97                2            0                 0   \n",
       "53      NaN  125561.97                1            0                 0   \n",
       "60      NaN  136857.00                1            0                 0   \n",
       "82      NaN       0.00                2            0                 0   \n",
       "85      NaN       0.00                2            1                 1   \n",
       "94      NaN       0.00                2            0                 1   \n",
       "99      NaN       0.00                2            0                 0   \n",
       "111     NaN  108055.10                2            1                 0   \n",
       "123     NaN  126384.42                1            1                 1   \n",
       "125     NaN  152603.45                1            1                 0   \n",
       "146     NaN  138296.94                2            1                 0   \n",
       "162     NaN  108007.36                1            0                 0   \n",
       "173     NaN  169462.09                1            1                 0   \n",
       "180     NaN  122311.21                1            1                 1   \n",
       "217     NaN       0.00                2            0                 0   \n",
       "222     NaN       0.00                2            1                 1   \n",
       "225     NaN  170557.91                2            1                 0   \n",
       "237     NaN  116220.50                3            1                 0   \n",
       "254     NaN       0.00                1            0                 0   \n",
       "258     NaN  127992.25                1            1                 1   \n",
       "264     NaN   79019.80                1            1                 1   \n",
       "270     NaN       0.00                2            0                 1   \n",
       "275     NaN       0.00                2            1                 1   \n",
       "286     NaN  103907.28                1            1                 0   \n",
       "290     NaN   63227.00                1            0                 1   \n",
       "320     NaN  145965.33                1            1                 1   \n",
       "323     NaN       0.00                2            0                 0   \n",
       "329     NaN  116244.14                2            1                 1   \n",
       "\n",
       "     estimated_salary  exited  \n",
       "30          140469.38       1  \n",
       "48           90878.13       0  \n",
       "51           86424.57       0  \n",
       "53          164040.94       1  \n",
       "60           84509.57       0  \n",
       "82           26019.59       0  \n",
       "85          114675.75       0  \n",
       "94           85982.47       0  \n",
       "99            6534.18       0  \n",
       "111          27231.26       0  \n",
       "123         198129.36       0  \n",
       "125         110265.24       1  \n",
       "146         141075.51       0  \n",
       "162          47125.11       0  \n",
       "173         112187.11       0  \n",
       "180          19482.50       0  \n",
       "217         176576.62       0  \n",
       "222         167984.61       0  \n",
       "225         198252.88       0  \n",
       "237          55803.96       1  \n",
       "254         176713.47       0  \n",
       "258          50457.20       0  \n",
       "264          18606.23       0  \n",
       "270         191599.67       0  \n",
       "275         110899.30       0  \n",
       "286         161229.84       0  \n",
       "290         137316.32       0  \n",
       "320          64448.36       0  \n",
       "323          50404.72       0  \n",
       "329          95145.14       0  "
      ]
     },
     "execution_count": 9,
     "metadata": {},
     "output_type": "execute_result"
    }
   ],
   "source": [
    "# обзор верхних строк, содержащих пропуски\n",
    "df[df['tenure'].isna()].head(30)"
   ]
  },
  {
   "cell_type": "markdown",
   "id": "f0a7ff16",
   "metadata": {},
   "source": [
    "Из вывода таблицы выше видно, что в столбце с фамилией есть неинформативные данные со знаком вопроса : 'l?'. Посчитаем их количество."
   ]
  },
  {
   "cell_type": "code",
   "execution_count": 10,
   "id": "022bf8e2",
   "metadata": {},
   "outputs": [
    {
     "data": {
      "text/plain": [
       "14"
      ]
     },
     "execution_count": 10,
     "metadata": {},
     "output_type": "execute_result"
    }
   ],
   "source": [
    "# подсчет количества уникальных неинформативных значений 'l?' в данных с фамилиями\n",
    "df[df['surname'] == 'l?']['surname'].count()"
   ]
  },
  {
   "cell_type": "markdown",
   "id": "e68ea4ef",
   "metadata": {},
   "source": [
    "Всего 14 значений - довольно мало, но при необходимости сотрудникам, предоставившим данные нужно сообщать про такие аномалии. У нас такой задачи сейчас нет."
   ]
  },
  {
   "cell_type": "code",
   "execution_count": 11,
   "id": "08d8dde4",
   "metadata": {
    "scrolled": true
   },
   "outputs": [
    {
     "data": {
      "text/plain": [
       "array([1, 3, 2, 4], dtype=int64)"
      ]
     },
     "execution_count": 11,
     "metadata": {},
     "output_type": "execute_result"
    }
   ],
   "source": [
    "# вывод на экран уникальных значений в данных с количеством продуктов, используемых клиентом\n",
    "df['num_of_products'].unique()"
   ]
  },
  {
   "cell_type": "code",
   "execution_count": 12,
   "id": "6bbcd315",
   "metadata": {},
   "outputs": [
    {
     "data": {
      "text/plain": [
       "array([1, 0], dtype=int64)"
      ]
     },
     "execution_count": 12,
     "metadata": {},
     "output_type": "execute_result"
    }
   ],
   "source": [
    "# вывод на экран уникальных значений в данных с наличием кредитной карты у клиента\n",
    "df['has_cr_card'].unique()"
   ]
  },
  {
   "cell_type": "code",
   "execution_count": 13,
   "id": "ebe6b0b0",
   "metadata": {
    "scrolled": true
   },
   "outputs": [
    {
     "data": {
      "text/plain": [
       "array([1, 0], dtype=int64)"
      ]
     },
     "execution_count": 13,
     "metadata": {},
     "output_type": "execute_result"
    }
   ],
   "source": [
    "# вывод на экран уникальных значений в данных с активностью клиента\n",
    "df['is_active_member'].unique()"
   ]
  },
  {
   "cell_type": "markdown",
   "id": "e3f5f853",
   "metadata": {},
   "source": [
    "Данные в столбцах 'numofproducts', 'hascrcard' и 'isactivemember' запишем в ординальный категориальный тип, так как они выражены либо в бинарном виде или числах от 1 до 4. "
   ]
  },
  {
   "cell_type": "code",
   "execution_count": 14,
   "id": "cb17e8dd",
   "metadata": {},
   "outputs": [
    {
     "data": {
      "text/plain": [
       "0"
      ]
     },
     "execution_count": 14,
     "metadata": {},
     "output_type": "execute_result"
    }
   ],
   "source": [
    "# проверка данных на дубликаты\n",
    "df.duplicated().sum()"
   ]
  },
  {
   "cell_type": "code",
   "execution_count": 15,
   "id": "df8e3441",
   "metadata": {},
   "outputs": [
    {
     "data": {
      "text/plain": [
       "array([42, 41, 39, 43, 44, 50, 29, 27, 31, 24, 34, 25, 35, 45, 58, 32, 38,\n",
       "       46, 36, 33, 40, 51, 61, 49, 37, 19, 66, 56, 26, 21, 55, 75, 22, 30,\n",
       "       28, 65, 48, 52, 57, 73, 47, 54, 72, 20, 67, 79, 62, 53, 80, 59, 68,\n",
       "       23, 60, 70, 63, 64, 18, 82, 69, 74, 71, 76, 77, 88, 85, 84, 78, 81,\n",
       "       92, 83], dtype=int64)"
      ]
     },
     "execution_count": 15,
     "metadata": {},
     "output_type": "execute_result"
    }
   ],
   "source": [
    "# вывод на экран уникальных значений в данных с возрастом клиентов\n",
    "df['age'].unique()"
   ]
  },
  {
   "cell_type": "code",
   "execution_count": 16,
   "id": "0c703369",
   "metadata": {},
   "outputs": [
    {
     "data": {
      "text/plain": [
       "france     5014\n",
       "germany    2509\n",
       "spain      2477\n",
       "Name: geography, dtype: int64"
      ]
     },
     "execution_count": 16,
     "metadata": {},
     "output_type": "execute_result"
    }
   ],
   "source": [
    "# вывод на экран уникальных значений в данных с географией клиентов и частотой их упоминания\n",
    "df['geography'].value_counts()"
   ]
  },
  {
   "cell_type": "code",
   "execution_count": 17,
   "id": "7eaa7dc1",
   "metadata": {},
   "outputs": [
    {
     "data": {
      "text/plain": [
       "male      5457\n",
       "female    4543\n",
       "Name: gender, dtype: int64"
      ]
     },
     "execution_count": 17,
     "metadata": {},
     "output_type": "execute_result"
    }
   ],
   "source": [
    "# вывод на экран уникальных значений в данных с полом клиентов и частотой их упоминания\n",
    "df['gender'].value_counts()"
   ]
  },
  {
   "cell_type": "markdown",
   "id": "0cf5775d",
   "metadata": {},
   "source": [
    "В данных с возрастом, полом и географией клиентов аномалий не выявлено. Категориальные признаки в этих столбцах распределены почти без дисбалланса, за исключением преобладания 'france' в географии клиентов. Посмотрим значения целевого признака исследования."
   ]
  },
  {
   "cell_type": "markdown",
   "id": "2ab0cd3f",
   "metadata": {},
   "source": []
  },
  {
   "cell_type": "code",
   "execution_count": 18,
   "id": "06c769f3",
   "metadata": {},
   "outputs": [
    {
     "data": {
      "text/plain": [
       "0    7963\n",
       "1    2037\n",
       "Name: exited, dtype: int64"
      ]
     },
     "execution_count": 18,
     "metadata": {},
     "output_type": "execute_result"
    }
   ],
   "source": [
    "# вывод на экран уникальных значений в данных с фактом ухода клиента(целевой признак) и частотой их упоминания\n",
    "df['exited'].value_counts()"
   ]
  },
  {
   "cell_type": "markdown",
   "id": "e16f28cc",
   "metadata": {},
   "source": [
    "Заметен дисбалланс в целевом признаке, посчитаем доли положительного и отрицательного классов."
   ]
  },
  {
   "cell_type": "code",
   "execution_count": 19,
   "id": "5f612f35",
   "metadata": {},
   "outputs": [
    {
     "name": "stdout",
     "output_type": "stream",
     "text": [
      "Доля клиентов, не ушедших из банка:79.63%\n",
      "Доля клиентов, ушедших из банка:20.37%\n"
     ]
    }
   ],
   "source": [
    "# рассчет доли каждого из классов в общем объеме данных\n",
    "print('Доля клиентов, не ушедших из банка:{:.2%}'.format(((df[df['exited'] == 0]['exited'].count())/len(df))))\n",
    "print('Доля клиентов, ушедших из банка:{:.2%}'.format(((df[df['exited'] == 1]['exited'].count())/len(df))))"
   ]
  },
  {
   "cell_type": "markdown",
   "id": "e403d9f8",
   "metadata": {},
   "source": [
    "Количество элементов отрицательного класса примерно в 4 раза больше, чем положительного, учтем это в дальнейшей настройке моделей. \n",
    "\n",
    "Столбцы с данными о номере строки, фамилиями и 'ID' клиентов, так как они являются уникальными и не имеют взаимосвязи с остальными данными, то удалим их полностью из датасета, чтобы не перегружать информацией модели."
   ]
  },
  {
   "cell_type": "code",
   "execution_count": 20,
   "id": "f245186f",
   "metadata": {},
   "outputs": [],
   "source": [
    "# удаление столбцов с данными, не влияющими на обучение модели\n",
    "df = df.drop(columns=['surname', 'row_number', 'customer_id'], axis=1)"
   ]
  },
  {
   "cell_type": "code",
   "execution_count": 21,
   "id": "e8c8b4ac",
   "metadata": {},
   "outputs": [
    {
     "data": {
      "text/html": [
       "<div>\n",
       "<style scoped>\n",
       "    .dataframe tbody tr th:only-of-type {\n",
       "        vertical-align: middle;\n",
       "    }\n",
       "\n",
       "    .dataframe tbody tr th {\n",
       "        vertical-align: top;\n",
       "    }\n",
       "\n",
       "    .dataframe thead th {\n",
       "        text-align: right;\n",
       "    }\n",
       "</style>\n",
       "<table border=\"1\" class=\"dataframe\">\n",
       "  <thead>\n",
       "    <tr style=\"text-align: right;\">\n",
       "      <th></th>\n",
       "      <th>credit_score</th>\n",
       "      <th>geography</th>\n",
       "      <th>gender</th>\n",
       "      <th>age</th>\n",
       "      <th>tenure</th>\n",
       "      <th>balance</th>\n",
       "      <th>num_of_products</th>\n",
       "      <th>has_cr_card</th>\n",
       "      <th>is_active_member</th>\n",
       "      <th>estimated_salary</th>\n",
       "      <th>exited</th>\n",
       "    </tr>\n",
       "  </thead>\n",
       "  <tbody>\n",
       "    <tr>\n",
       "      <th>0</th>\n",
       "      <td>619</td>\n",
       "      <td>france</td>\n",
       "      <td>female</td>\n",
       "      <td>42</td>\n",
       "      <td>2.0</td>\n",
       "      <td>0.00</td>\n",
       "      <td>1</td>\n",
       "      <td>1</td>\n",
       "      <td>1</td>\n",
       "      <td>101348.88</td>\n",
       "      <td>1</td>\n",
       "    </tr>\n",
       "    <tr>\n",
       "      <th>1</th>\n",
       "      <td>608</td>\n",
       "      <td>spain</td>\n",
       "      <td>female</td>\n",
       "      <td>41</td>\n",
       "      <td>1.0</td>\n",
       "      <td>83807.86</td>\n",
       "      <td>1</td>\n",
       "      <td>0</td>\n",
       "      <td>1</td>\n",
       "      <td>112542.58</td>\n",
       "      <td>0</td>\n",
       "    </tr>\n",
       "    <tr>\n",
       "      <th>2</th>\n",
       "      <td>502</td>\n",
       "      <td>france</td>\n",
       "      <td>female</td>\n",
       "      <td>42</td>\n",
       "      <td>8.0</td>\n",
       "      <td>159660.80</td>\n",
       "      <td>3</td>\n",
       "      <td>1</td>\n",
       "      <td>0</td>\n",
       "      <td>113931.57</td>\n",
       "      <td>1</td>\n",
       "    </tr>\n",
       "    <tr>\n",
       "      <th>3</th>\n",
       "      <td>699</td>\n",
       "      <td>france</td>\n",
       "      <td>female</td>\n",
       "      <td>39</td>\n",
       "      <td>1.0</td>\n",
       "      <td>0.00</td>\n",
       "      <td>2</td>\n",
       "      <td>0</td>\n",
       "      <td>0</td>\n",
       "      <td>93826.63</td>\n",
       "      <td>0</td>\n",
       "    </tr>\n",
       "    <tr>\n",
       "      <th>4</th>\n",
       "      <td>850</td>\n",
       "      <td>spain</td>\n",
       "      <td>female</td>\n",
       "      <td>43</td>\n",
       "      <td>2.0</td>\n",
       "      <td>125510.82</td>\n",
       "      <td>1</td>\n",
       "      <td>1</td>\n",
       "      <td>1</td>\n",
       "      <td>79084.10</td>\n",
       "      <td>0</td>\n",
       "    </tr>\n",
       "  </tbody>\n",
       "</table>\n",
       "</div>"
      ],
      "text/plain": [
       "   credit_score geography  gender  age  tenure    balance  num_of_products  \\\n",
       "0           619    france  female   42     2.0       0.00                1   \n",
       "1           608     spain  female   41     1.0   83807.86                1   \n",
       "2           502    france  female   42     8.0  159660.80                3   \n",
       "3           699    france  female   39     1.0       0.00                2   \n",
       "4           850     spain  female   43     2.0  125510.82                1   \n",
       "\n",
       "   has_cr_card  is_active_member  estimated_salary  exited  \n",
       "0            1                 1         101348.88       1  \n",
       "1            0                 1         112542.58       0  \n",
       "2            1                 0         113931.57       1  \n",
       "3            0                 0          93826.63       0  \n",
       "4            1                 1          79084.10       0  "
      ]
     },
     "execution_count": 21,
     "metadata": {},
     "output_type": "execute_result"
    }
   ],
   "source": [
    "# обзор верхней части обновленной таблицы\n",
    "df.head() "
   ]
  },
  {
   "cell_type": "markdown",
   "id": "2e6e484a",
   "metadata": {},
   "source": [
    "### Шаг 2.2. Обработка количественных признаков."
   ]
  },
  {
   "cell_type": "markdown",
   "id": "3b6c2a40",
   "metadata": {},
   "source": [
    "Обработаем численные непрерывные и ординальные, то есть выраженные в целых числах признаки. Выведем описание данных этих столбцов."
   ]
  },
  {
   "cell_type": "code",
   "execution_count": 22,
   "id": "f3d84188",
   "metadata": {},
   "outputs": [
    {
     "data": {
      "text/html": [
       "<div>\n",
       "<style scoped>\n",
       "    .dataframe tbody tr th:only-of-type {\n",
       "        vertical-align: middle;\n",
       "    }\n",
       "\n",
       "    .dataframe tbody tr th {\n",
       "        vertical-align: top;\n",
       "    }\n",
       "\n",
       "    .dataframe thead th {\n",
       "        text-align: right;\n",
       "    }\n",
       "</style>\n",
       "<table border=\"1\" class=\"dataframe\">\n",
       "  <thead>\n",
       "    <tr style=\"text-align: right;\">\n",
       "      <th></th>\n",
       "      <th>credit_score</th>\n",
       "      <th>balance</th>\n",
       "      <th>estimated_salary</th>\n",
       "      <th>age</th>\n",
       "      <th>tenure</th>\n",
       "    </tr>\n",
       "  </thead>\n",
       "  <tbody>\n",
       "    <tr>\n",
       "      <th>count</th>\n",
       "      <td>10000.000000</td>\n",
       "      <td>10000.000000</td>\n",
       "      <td>10000.000000</td>\n",
       "      <td>10000.000000</td>\n",
       "      <td>9091.000000</td>\n",
       "    </tr>\n",
       "    <tr>\n",
       "      <th>mean</th>\n",
       "      <td>650.528800</td>\n",
       "      <td>76485.889288</td>\n",
       "      <td>100090.239881</td>\n",
       "      <td>38.921800</td>\n",
       "      <td>4.997690</td>\n",
       "    </tr>\n",
       "    <tr>\n",
       "      <th>std</th>\n",
       "      <td>96.653299</td>\n",
       "      <td>62397.405202</td>\n",
       "      <td>57510.492818</td>\n",
       "      <td>10.487806</td>\n",
       "      <td>2.894723</td>\n",
       "    </tr>\n",
       "    <tr>\n",
       "      <th>min</th>\n",
       "      <td>350.000000</td>\n",
       "      <td>0.000000</td>\n",
       "      <td>11.580000</td>\n",
       "      <td>18.000000</td>\n",
       "      <td>0.000000</td>\n",
       "    </tr>\n",
       "    <tr>\n",
       "      <th>25%</th>\n",
       "      <td>584.000000</td>\n",
       "      <td>0.000000</td>\n",
       "      <td>51002.110000</td>\n",
       "      <td>32.000000</td>\n",
       "      <td>2.000000</td>\n",
       "    </tr>\n",
       "    <tr>\n",
       "      <th>50%</th>\n",
       "      <td>652.000000</td>\n",
       "      <td>97198.540000</td>\n",
       "      <td>100193.915000</td>\n",
       "      <td>37.000000</td>\n",
       "      <td>5.000000</td>\n",
       "    </tr>\n",
       "    <tr>\n",
       "      <th>75%</th>\n",
       "      <td>718.000000</td>\n",
       "      <td>127644.240000</td>\n",
       "      <td>149388.247500</td>\n",
       "      <td>44.000000</td>\n",
       "      <td>7.000000</td>\n",
       "    </tr>\n",
       "    <tr>\n",
       "      <th>max</th>\n",
       "      <td>850.000000</td>\n",
       "      <td>250898.090000</td>\n",
       "      <td>199992.480000</td>\n",
       "      <td>92.000000</td>\n",
       "      <td>10.000000</td>\n",
       "    </tr>\n",
       "  </tbody>\n",
       "</table>\n",
       "</div>"
      ],
      "text/plain": [
       "       credit_score        balance  estimated_salary           age  \\\n",
       "count  10000.000000   10000.000000      10000.000000  10000.000000   \n",
       "mean     650.528800   76485.889288     100090.239881     38.921800   \n",
       "std       96.653299   62397.405202      57510.492818     10.487806   \n",
       "min      350.000000       0.000000         11.580000     18.000000   \n",
       "25%      584.000000       0.000000      51002.110000     32.000000   \n",
       "50%      652.000000   97198.540000     100193.915000     37.000000   \n",
       "75%      718.000000  127644.240000     149388.247500     44.000000   \n",
       "max      850.000000  250898.090000     199992.480000     92.000000   \n",
       "\n",
       "            tenure  \n",
       "count  9091.000000  \n",
       "mean      4.997690  \n",
       "std       2.894723  \n",
       "min       0.000000  \n",
       "25%       2.000000  \n",
       "50%       5.000000  \n",
       "75%       7.000000  \n",
       "max      10.000000  "
      ]
     },
     "execution_count": 22,
     "metadata": {},
     "output_type": "execute_result"
    }
   ],
   "source": [
    "# общее описание данных в численных признаках\n",
    "df[['credit_score', 'balance', 'estimated_salary', 'age', 'tenure']].describe()"
   ]
  },
  {
   "cell_type": "markdown",
   "id": "11817c7e",
   "metadata": {},
   "source": [
    "Судя по разнице в медиане и минимальном и максимальном значений, в столбцах с кредитным рейтингом и возрастом скорее всего есть выбросы. Проверим это, построив \"Боксплоты\" по всем числовым данным. Для этого создадим функцию, которая принимает аргументами список с наименованиями столбцов и списки с наименованиями графиков и осей Y. Внутри функции итерируем каждый столбец и строим по нему \"Боксплот\", при этом по оси X указываем целевой признак, так будет учтен балланс классов."
   ]
  },
  {
   "cell_type": "code",
   "execution_count": 23,
   "id": "e02c81ec",
   "metadata": {},
   "outputs": [],
   "source": [
    "# создание функции для постройки \"боксплотов\"\n",
    "def num_feature_boxplot(num_features, title_box, title_y):\n",
    "    for i in range(len(num_features)):\n",
    "        sns.set_style('whitegrid')\n",
    "        sns.axes_style('white')\n",
    "        plt.figure(figsize=(6,4))\n",
    "        sns.boxplot(data = df, x='exited', y=num_features[i])\n",
    "        plt.title(title_box[i], fontsize=14)\n",
    "        plt.xlabel('Факт ухода клиента', fontsize=12)\n",
    "        plt.ylabel(title_y[i], fontsize=12)\n",
    "        plt.xticks(fontsize=12)"
   ]
  },
  {
   "cell_type": "code",
   "execution_count": 24,
   "id": "7f9534b3",
   "metadata": {},
   "outputs": [],
   "source": [
    "# создание списков с наименованиями признаков, заголовков \"боксплотов\" и наименований оси Y графиков\n",
    "list_num_feature = ['credit_score', 'balance', 'estimated_salary', 'age', 'tenure']\n",
    "list_title_box = ['Разброс данных по кредитному рейтингу', 'Разброс данных по балансу на счете', \n",
    "                  'Разброс данных по предполагаемой зарплате', 'Разброс данных по возрасту', \n",
    "                  'Разброс данных по длительности обслуживания']\n",
    "list_title_y = ['Количество очков', 'Сумма в руб.', 'Зарплата, руб.', 'Возраст, лет', 'Длительность обслужживания, лет']"
   ]
  },
  {
   "cell_type": "code",
   "execution_count": 25,
   "id": "122952a6",
   "metadata": {},
   "outputs": [
    {
     "data": {
      "image/png": "[encoded data removed]",
      "text/plain": [
       "<Figure size 432x288 with 1 Axes>"
      ]
     },
     "metadata": {},
     "output_type": "display_data"
    },
    {
     "data": {
      "image/png": "[encoded data removed]",
      "text/plain": [
       "<Figure size 432x288 with 1 Axes>"
      ]
     },
     "metadata": {},
     "output_type": "display_data"
    },
    {
     "data": {
      "image/png": "[encoded data removed]",
      "text/plain": [
       "<Figure size 432x288 with 1 Axes>"
      ]
     },
     "metadata": {},
     "output_type": "display_data"
    },
    {
     "data": {
      "image/png": "[encoded data removed]",
      "text/plain": [
       "<Figure size 432x288 with 1 Axes>"
      ]
     },
     "metadata": {},
     "output_type": "display_data"
    },
    {
     "data": {
      "image/png": "[encoded data removed]",
      "text/plain": [
       "<Figure size 432x288 with 1 Axes>"
      ]
     },
     "metadata": {},
     "output_type": "display_data"
    }
   ],
   "source": [
    "# вызов функции для построения \"боксплотов\"\n",
    "num_feature_boxplot(list_num_feature, list_title_box, list_title_y)"
   ]
  },
  {
   "cell_type": "markdown",
   "id": "5937f214",
   "metadata": {},
   "source": [
    "Как и предполагалось, в данных с возрастом и кредитным рейтингом присутствуют выбросы, удалим их, так как они могут существенно влиять на результат обучения модели."
   ]
  },
  {
   "cell_type": "code",
   "execution_count": 26,
   "id": "b9035297",
   "metadata": {},
   "outputs": [],
   "source": [
    "# удаление выбросов из данных возраста и кредитного рейтинга\n",
    "df= df.drop(df.loc[((df['exited'] == 1) & (df['credit_score'] < 380))].index).reset_index(drop=True)\n",
    "df = df.drop(df.loc[((df['exited'] == 1) & ((df['age'] < 20) | (df['age'] > 70))) \n",
    "                                | ((df['exited'] == 0) & (df['age'] > 58))].index).reset_index(drop=True)"
   ]
  },
  {
   "cell_type": "code",
   "execution_count": 27,
   "id": "879e94fe",
   "metadata": {},
   "outputs": [
    {
     "name": "stdout",
     "output_type": "stream",
     "text": [
      "<class 'pandas.core.frame.DataFrame'>\n",
      "RangeIndex: 9561 entries, 0 to 9560\n",
      "Data columns (total 11 columns):\n",
      " #   Column            Non-Null Count  Dtype  \n",
      "---  ------            --------------  -----  \n",
      " 0   credit_score      9561 non-null   int64  \n",
      " 1   geography         9561 non-null   object \n",
      " 2   gender            9561 non-null   object \n",
      " 3   age               9561 non-null   int64  \n",
      " 4   tenure            8683 non-null   float64\n",
      " 5   balance           9561 non-null   float64\n",
      " 6   num_of_products   9561 non-null   int64  \n",
      " 7   has_cr_card       9561 non-null   int64  \n",
      " 8   is_active_member  9561 non-null   int64  \n",
      " 9   estimated_salary  9561 non-null   float64\n",
      " 10  exited            9561 non-null   int64  \n",
      "dtypes: float64(3), int64(6), object(2)\n",
      "memory usage: 821.8+ KB\n"
     ]
    }
   ],
   "source": [
    "# обзор данных после удаления выбросов\n",
    "df.info()"
   ]
  },
  {
   "cell_type": "code",
   "execution_count": 28,
   "id": "251df800",
   "metadata": {},
   "outputs": [
    {
     "name": "stdout",
     "output_type": "stream",
     "text": [
      "Доля удаленных данных от выбросов: 4.39%\n"
     ]
    }
   ],
   "source": [
    "# рассчет доли удаленных данных от выбросов\n",
    "print('Доля удаленных данных от выбросов: {:.2%}'.format((10000-9561)/10000))"
   ]
  },
  {
   "cell_type": "markdown",
   "id": "f1613aaf",
   "metadata": {},
   "source": [
    "Доля удаленных выбросов составляет около 4 %, что в пределах нормы."
   ]
  },
  {
   "cell_type": "code",
   "execution_count": 29,
   "id": "90e44fb5",
   "metadata": {},
   "outputs": [
    {
     "name": "stdout",
     "output_type": "stream",
     "text": [
      "Доля клиентов, не ушедших из банка:78.99%\n",
      "Доля клиентов, ушедших из банка:21.01%\n"
     ]
    }
   ],
   "source": [
    "# рассчет доли каждого из классов в общем объеме данных после удаления выбросов\n",
    "print('Доля клиентов, не ушедших из банка:{:.2%}'.format(((df[df['exited'] == 0]['exited'].count())/len(df))))\n",
    "print('Доля клиентов, ушедших из банка:{:.2%}'.format(((df[df['exited'] == 1]['exited'].count())/len(df))))"
   ]
  },
  {
   "cell_type": "markdown",
   "id": "0c115327",
   "metadata": {},
   "source": [
    "Балланс классов после удаления выбросов почти не изменился. Выведем на экран таблицу корреляции между числовыми признаками и целевым признаком."
   ]
  },
  {
   "cell_type": "code",
   "execution_count": 30,
   "id": "17684e10",
   "metadata": {
    "scrolled": true
   },
   "outputs": [
    {
     "data": {
      "text/html": [
       "<div>\n",
       "<style scoped>\n",
       "    .dataframe tbody tr th:only-of-type {\n",
       "        vertical-align: middle;\n",
       "    }\n",
       "\n",
       "    .dataframe tbody tr th {\n",
       "        vertical-align: top;\n",
       "    }\n",
       "\n",
       "    .dataframe thead th {\n",
       "        text-align: right;\n",
       "    }\n",
       "</style>\n",
       "<table border=\"1\" class=\"dataframe\">\n",
       "  <thead>\n",
       "    <tr style=\"text-align: right;\">\n",
       "      <th></th>\n",
       "      <th>credit_score</th>\n",
       "      <th>age</th>\n",
       "      <th>tenure</th>\n",
       "      <th>balance</th>\n",
       "      <th>estimated_salary</th>\n",
       "      <th>exited</th>\n",
       "    </tr>\n",
       "  </thead>\n",
       "  <tbody>\n",
       "    <tr>\n",
       "      <th>credit_score</th>\n",
       "      <td>1.000000</td>\n",
       "      <td>-0.011458</td>\n",
       "      <td>-0.001461</td>\n",
       "      <td>0.012029</td>\n",
       "      <td>0.001156</td>\n",
       "      <td>-0.018418</td>\n",
       "    </tr>\n",
       "    <tr>\n",
       "      <th>age</th>\n",
       "      <td>-0.011458</td>\n",
       "      <td>1.000000</td>\n",
       "      <td>-0.016891</td>\n",
       "      <td>0.050141</td>\n",
       "      <td>-0.004923</td>\n",
       "      <td>0.417881</td>\n",
       "    </tr>\n",
       "    <tr>\n",
       "      <th>tenure</th>\n",
       "      <td>-0.001461</td>\n",
       "      <td>-0.016891</td>\n",
       "      <td>1.000000</td>\n",
       "      <td>-0.008659</td>\n",
       "      <td>0.010746</td>\n",
       "      <td>-0.018489</td>\n",
       "    </tr>\n",
       "    <tr>\n",
       "      <th>balance</th>\n",
       "      <td>0.012029</td>\n",
       "      <td>0.050141</td>\n",
       "      <td>-0.008659</td>\n",
       "      <td>1.000000</td>\n",
       "      <td>0.011381</td>\n",
       "      <td>0.119750</td>\n",
       "    </tr>\n",
       "    <tr>\n",
       "      <th>estimated_salary</th>\n",
       "      <td>0.001156</td>\n",
       "      <td>-0.004923</td>\n",
       "      <td>0.010746</td>\n",
       "      <td>0.011381</td>\n",
       "      <td>1.000000</td>\n",
       "      <td>0.009095</td>\n",
       "    </tr>\n",
       "    <tr>\n",
       "      <th>exited</th>\n",
       "      <td>-0.018418</td>\n",
       "      <td>0.417881</td>\n",
       "      <td>-0.018489</td>\n",
       "      <td>0.119750</td>\n",
       "      <td>0.009095</td>\n",
       "      <td>1.000000</td>\n",
       "    </tr>\n",
       "  </tbody>\n",
       "</table>\n",
       "</div>"
      ],
      "text/plain": [
       "                  credit_score       age    tenure   balance  \\\n",
       "credit_score          1.000000 -0.011458 -0.001461  0.012029   \n",
       "age                  -0.011458  1.000000 -0.016891  0.050141   \n",
       "tenure               -0.001461 -0.016891  1.000000 -0.008659   \n",
       "balance               0.012029  0.050141 -0.008659  1.000000   \n",
       "estimated_salary      0.001156 -0.004923  0.010746  0.011381   \n",
       "exited               -0.018418  0.417881 -0.018489  0.119750   \n",
       "\n",
       "                  estimated_salary    exited  \n",
       "credit_score              0.001156 -0.018418  \n",
       "age                      -0.004923  0.417881  \n",
       "tenure                    0.010746 -0.018489  \n",
       "balance                   0.011381  0.119750  \n",
       "estimated_salary          1.000000  0.009095  \n",
       "exited                    0.009095  1.000000  "
      ]
     },
     "execution_count": 30,
     "metadata": {},
     "output_type": "execute_result"
    }
   ],
   "source": [
    "# вывод на экран таблицы корреляции числовых признаков и целевого признака\n",
    "df[['credit_score', 'age', 'tenure', 'balance', 'estimated_salary', 'exited']].corr()"
   ]
  },
  {
   "cell_type": "markdown",
   "id": "74080a68",
   "metadata": {},
   "source": [
    "Как видим, корреляции между числовыми признаками и целевым признаком практически нет, за исключением очень слабой зависимости возраста клиента и факта его ухода из банка. \n",
    "\n",
    "Изучим распределение данных в числовых признаках, построим гистограммы распределения. Для этого создадим функцию, котрая принимает аргументами список наименований столбцов и список наименовний графиков и осей Y. показателе hue укажем целевой признак. "
   ]
  },
  {
   "cell_type": "code",
   "execution_count": 31,
   "id": "8a6162b8",
   "metadata": {},
   "outputs": [],
   "source": [
    "# создание функции для постройки гистограмм распределения\n",
    "def num_feature_hist(num_features, title_hist, title_y):\n",
    "    for i in range(len(num_features)):\n",
    "        sns.set_style('whitegrid')\n",
    "        sns.axes_style('white')\n",
    "        plt.figure(figsize=(8,6))\n",
    "        sns.histplot(data=df, x=num_features[i], hue='exited', hue_order=[1, 0], palette='Set1')\n",
    "        plt.title(title_hist[i], fontsize=14)\n",
    "        plt.ylabel(title_y[i], fontsize=12)\n",
    "        plt.xticks(fontsize=12)"
   ]
  },
  {
   "cell_type": "code",
   "execution_count": 32,
   "id": "dabaf5fa",
   "metadata": {},
   "outputs": [],
   "source": [
    "# создание списков с наименованиями признаков, заголовков и наименований оси Y графиков\n",
    "list_num_feature = ['credit_score', 'balance', 'estimated_salary', 'age', 'tenure']\n",
    "list_title_hist = ['Распределение данных по кредитному рейтингу', 'Распределение данных по балансу на счете', \n",
    "                  'Распределение данных по предполагаемой зарплате', 'Распределение данных по возрасту', \n",
    "                  'Распределение данных по длительности обслуживания']\n",
    "list_title_y = ['Количество очков', 'Сумма в руб.', 'Зарплата, руб.', 'Возраст, лет', 'Длительность обслужживания, лет']"
   ]
  },
  {
   "cell_type": "code",
   "execution_count": 33,
   "id": "ec0e0ee2",
   "metadata": {
    "scrolled": false
   },
   "outputs": [
    {
     "data": {
      "image/png": "[encoded data removed]",
      "text/plain": [
       "<Figure size 576x432 with 1 Axes>"
      ]
     },
     "metadata": {},
     "output_type": "display_data"
    },
    {
     "data": {
      "image/png": "[encoded data removed]",
      "text/plain": [
       "<Figure size 576x432 with 1 Axes>"
      ]
     },
     "metadata": {},
     "output_type": "display_data"
    },
    {
     "data": {
      "image/png": "[encoded data removed]",
      "text/plain": [
       "<Figure size 576x432 with 1 Axes>"
      ]
     },
     "metadata": {},
     "output_type": "display_data"
    },
    {
     "data": {
      "image/png": "[encoded data removed]",
      "text/plain": [
       "<Figure size 576x432 with 1 Axes>"
      ]
     },
     "metadata": {},
     "output_type": "display_data"
    },
    {
     "data": {
      "image/png": "[encoded data removed]",
      "text/plain": [
       "<Figure size 576x432 with 1 Axes>"
      ]
     },
     "metadata": {},
     "output_type": "display_data"
    }
   ],
   "source": [
    "# вызов функции для построения гистограмм распределения\n",
    "num_feature_hist(list_num_feature, list_title_hist, list_title_y)"
   ]
  },
  {
   "cell_type": "markdown",
   "id": "da73b144",
   "metadata": {},
   "source": [
    "В целом распределение по числовым признакам довольно близко к нормальному. Выделяется равномерное распределение данных по зарплате, а также высокий \"столб\" со значением \"0\" в данных о баллансе клиента на счете. Возможно следовало бы для обучения модели разделить данные по баллансу на 2 категории с \"остатком средств на счете\" и \"с нулевым баллансом\". При недостатке показателя F1-score, попробуем провести такое преобразование данных. Также заметно довольно большое количество объектов с максимальными показателями кредитного рейтинга. Все эти отклонения в распределении признаков от нормального должны повлиять на обучении моделей."
   ]
  },
  {
   "cell_type": "markdown",
   "id": "0e4c66eb",
   "metadata": {},
   "source": [
    "## Шаг 3. Выбор  моделей машинного обучения с наилучшими показателями."
   ]
  },
  {
   "cell_type": "markdown",
   "id": "fb7e9064",
   "metadata": {},
   "source": [
    "### Шаг 3.1. Подготовка выборок, \"pipline\" и  \"GridSearchCV\" для моделей МО."
   ]
  },
  {
   "cell_type": "code",
   "execution_count": 34,
   "id": "88b54e1e",
   "metadata": {},
   "outputs": [],
   "source": [
    "# cоздание выборки с признаками и целевым признаком\n",
    "X, y = df.drop('exited', axis=1), df['exited']"
   ]
  },
  {
   "cell_type": "code",
   "execution_count": 35,
   "id": "3f7c3feb",
   "metadata": {},
   "outputs": [],
   "source": [
    "# разделение общих выборок на тренировочные и тестовые\n",
    "X_train, X_test, y_train, y_test = train_test_split(X, y, test_size=0.4, random_state=12345)"
   ]
  },
  {
   "cell_type": "code",
   "execution_count": 36,
   "id": "659b26d4",
   "metadata": {},
   "outputs": [],
   "source": [
    "# разделение тестовых выборок на тестовые и валидационные\n",
    "X_test, X_valid, y_test, y_valid = train_test_split(X_test, y_test, test_size=0.5, random_state=12345)"
   ]
  },
  {
   "cell_type": "code",
   "execution_count": 37,
   "id": "06f11580",
   "metadata": {
    "scrolled": true
   },
   "outputs": [
    {
     "name": "stdout",
     "output_type": "stream",
     "text": [
      "Размер тренировочной выборки: (5736, 10) , (5736,) . Размер тестовой  выборки: (1912, 10) , (1912,) . Размер валидационной  выборки: (1913, 10) , (1913,) .\n"
     ]
    }
   ],
   "source": [
    "# вывод размера выборок\n",
    "print('Размер тренировочной выборки:', X_train.shape,',', y_train.shape,'. Размер тестовой  выборки:', \n",
    "      X_test.shape,',', y_test.shape,'. Размер валидационной  выборки:', X_valid.shape,',', y_valid.shape,'.')\n"
   ]
  },
  {
   "cell_type": "markdown",
   "id": "635eba63",
   "metadata": {},
   "source": [
    "Поделим столбцы с данными на числовые и категориальные признаки. В последние включим ординальные числовые показатели, так как они по сути являются категориями."
   ]
  },
  {
   "cell_type": "code",
   "execution_count": 38,
   "id": "c1816ece",
   "metadata": {},
   "outputs": [],
   "source": [
    "# создание списков с числовыми и категориальными признаками\n",
    "numeric = ['credit_score', 'balance', 'estimated_salary', 'age', 'tenure']\n",
    "categor = ['geography', 'gender', 'num_of_products', 'has_cr_card', 'is_active_member']"
   ]
  },
  {
   "cell_type": "code",
   "execution_count": 39,
   "id": "e1b08b6c",
   "metadata": {
    "scrolled": true
   },
   "outputs": [],
   "source": [
    "# создание числового и категориального \"pipeline\"\n",
    "numeric_transformer = Pipeline(steps=[('imputer', SimpleImputer(strategy='median')), ('scaler', StandardScaler())])\n",
    "categor_transformer = OneHotEncoder(handle_unknown='ignore') "
   ]
  },
  {
   "cell_type": "code",
   "execution_count": 40,
   "id": "d8c33ffe",
   "metadata": {},
   "outputs": [],
   "source": [
    "# создание \"preprocessor\"\n",
    "preprocessor = ColumnTransformer([('num', numeric_transformer, numeric),\n",
    "                                  ('cat', categor_transformer, categor)])"
   ]
  },
  {
   "cell_type": "code",
   "execution_count": 41,
   "id": "fe7ebc62",
   "metadata": {},
   "outputs": [],
   "source": [
    "# создание \"pipeline\" для трех моделей МО\n",
    "pipe_lr = Pipeline([('transf_col', preprocessor),\n",
    "                    ('clf', LogisticRegression(random_state=12345))])\n",
    "\n",
    "pipe_dt = Pipeline([('transf_col', preprocessor),\n",
    "                    ('clf', DecisionTreeClassifier(random_state=12345))])\n",
    "\n",
    "pipe_rf = Pipeline([('transf_col', preprocessor),\n",
    "                    ('clf', RandomForestClassifier(random_state=12345))])"
   ]
  },
  {
   "cell_type": "code",
   "execution_count": 42,
   "id": "8698c23c",
   "metadata": {},
   "outputs": [],
   "source": [
    "# создание списков для перебора числовых параметров моделей МО\n",
    "param_range = list(range(100, 1001, 100))\n",
    "param_range_1 = list(range(1, 16, 1))\n",
    "param_range_2 = list(range(20, 101, 20))\n",
    "# создание списков-словарей с параметрами моделей МО\n",
    "param_lr = [{'clf__max_iter': param_range,\n",
    "             'clf__solver': ['newton-cg', 'lbfgs', 'liblinear', 'sag', 'saga']}] \n",
    "\n",
    "param_dt = [{'clf__criterion': ['gini', 'entropy'],\n",
    "             'clf__max_depth': param_range_1,\n",
    "             'clf__splitter': ['best', 'random']}]\n",
    "\n",
    "param_rf = [{'clf__criterion': ['gini', 'entropy'],\n",
    "             'clf__max_depth': param_range_1,\n",
    "              'clf__n_estimators': param_range_2}]"
   ]
  },
  {
   "cell_type": "code",
   "execution_count": 43,
   "id": "c1878f27",
   "metadata": {},
   "outputs": [],
   "source": [
    "# создание переменных с записью в них GridSearchCV (далее GSCV) для поиска оптимальных параметров по каждой модели МО\n",
    "jobs = -1\n",
    "\n",
    "LR = GridSearchCV(estimator=pipe_lr,\n",
    "            param_grid=param_lr,\n",
    "            scoring=make_scorer(f1_score, average='macro'),\n",
    "            refit='f1_score',\n",
    "            cv=5) \n",
    "\n",
    "DT = GridSearchCV(estimator=pipe_dt,\n",
    "            param_grid=param_dt,\n",
    "            scoring=make_scorer(f1_score, average='macro'),\n",
    "            refit='f1_score',      \n",
    "            cv=5,\n",
    "            n_jobs=jobs)\n",
    "\n",
    "RF = GridSearchCV(estimator=pipe_rf,\n",
    "            param_grid=param_rf,\n",
    "            scoring=make_scorer(f1_score, average='macro'),\n",
    "            refit='f1_score',      \n",
    "            cv=5,\n",
    "            n_jobs=jobs)\n"
   ]
  },
  {
   "cell_type": "code",
   "execution_count": 44,
   "id": "0b82dfd7",
   "metadata": {},
   "outputs": [],
   "source": [
    "# создание списка с GridSearchCV(GSCV) по каждой модели МО\n",
    "grids = [LR, DT, RF]\n",
    "\n",
    "# создание словаря с наименованием каждой модели МО\n",
    "grid_dict = {0: 'LogisticRegression', \n",
    "             1: 'DecisionTreeClassifier',\n",
    "             2: 'RandomForestClassifier'}"
   ]
  },
  {
   "cell_type": "markdown",
   "id": "33e3a1bc",
   "metadata": {},
   "source": [
    "### Шаг 3.2. Подбор оптимальных гиперпараметров для каждой модели МО на несбалансированной выборке."
   ]
  },
  {
   "cell_type": "markdown",
   "id": "3d16a4d0",
   "metadata": {},
   "source": [
    "Из выше проведенного исследования известно, что классы целевого признака несбалансированны, поэтому проведем обучение и настройку моделей в 2 этапа:\n",
    " - на несбалансированной выборке\n",
    " - на выборке с устраненным дисбаллансом классов\n",
    " \n",
    " Проведем обучение моделей и настройку оптимальных гиперпараметров при помощи инструмента GSCV на несбалансированной выборке.\n",
    "\n",
    "Создадим функцию, которая принимает аргументами: лист с наименованием GSCV по камжой модели, тренировачные и валидационные выборки, переменную для записи лучшего показателя F1-score, переменную для записи индекса в словаре \"grid_dict\" классификатора с наилучшим F1-score на валидационной выборке, а также переменную для записи наименования  классификатора который показал наилучший F1-score на валидационной выборке. Внутри функция с использованием цикла и оператора \"enumerate\" перебирает все индексы и элементы списка с GSCV и  подбирает с его помощью для каждой модели наилучшие параметры и вычисляет для них показатель F1-score и ROC-AUC-score. Как результат работы функции: название лучшего классификатора с наибольшим показателем F1-score, показатели ROC-AUC-score для каждой модели и постройка ROC-кривой по каждой из моделей."
   ]
  },
  {
   "cell_type": "code",
   "execution_count": 45,
   "id": "b8c8395f",
   "metadata": {
    "scrolled": true
   },
   "outputs": [],
   "source": [
    "# создание функции для настройки оптимальных параметров для каждой модели МО\n",
    "def choose_best_clf(list_grids, feature_tr, feature_val, target_tr, target_val, best_score, best_clf, best_gs):\n",
    "    best_model_params = []\n",
    "    for idx, gs in enumerate(list_grids):\n",
    "        print('Модель:{}'.format(grid_dict[idx]))\n",
    "        gs.fit(feature_tr, target_tr)\n",
    "        print('Лучшие параметры: {}'.format(gs.best_params_))\n",
    "        print('Лучшие показатели модели: {:.2f}'.format(gs.best_score_))\n",
    "        predictions = gs.predict(feature_val)\n",
    "        print('Метрика F1_score на валидационной выборке с лучшими параметрами: {:.2f}'.format(f1_score(target_val,\n",
    "                                                                                                        predictions)))\n",
    "        probabilities_val = gs.predict_proba(feature_val)\n",
    "        probabilities_one_val = probabilities_val[:, 1]\n",
    "        roc_auc = roc_auc_score(target_val, probabilities_one_val)\n",
    "        print('Лучший показатель roc_auc на валидационной выборке с лучшими параметрами: {:.2f}'.format(roc_auc))\n",
    "        print('Матрица ошибок:')\n",
    "        print(confusion_matrix(target_val, predictions))\n",
    "        if f1_score(target_val, predictions) > best_score:\n",
    "            best_score = f1_score(target_val, predictions)\n",
    "            best_gs = gs\n",
    "            best_clf = idx\n",
    "        best_model_params.append({'Модель': grid_dict[idx], \n",
    "                                  'Лучшие параметры модели' : gs.best_params_, \n",
    "                                  'Лучшая F1-мера на валидационной выборке' : f1_score(target_val, predictions),\n",
    "                                  'Лучшая ROC-AUC на валидационной выборке' : roc_auc})\n",
    "        fpr, tpr, thresholds = roc_curve(target_val, probabilities_one_val)\n",
    "        plt.figure(figsize=(6,6))\n",
    "        plt.plot(fpr, tpr)\n",
    "        plt.plot([0,1], [0,1], linestyle='--')\n",
    "        plt.xlim([0.0, 1.0])\n",
    "        plt.ylim([0.0, 1.0])\n",
    "        plt.xlabel('False Posive Rate')\n",
    "        plt.ylabel('True Posive Rate')\n",
    "        plt.title('ROC-кривая')\n",
    "        plt.show()\n",
    "        print('\\n')\n",
    "    print('Лучший классификатор на валидационной выборке: {}'.format(grid_dict[best_clf]))\n",
    "    print('Лучший показатель f1_score на валидационной выборке: {:.2f}'.format(best_score))\n",
    "    return best_model_params"
   ]
  },
  {
   "cell_type": "code",
   "execution_count": 46,
   "id": "a4579265",
   "metadata": {
    "scrolled": false
   },
   "outputs": [
    {
     "name": "stdout",
     "output_type": "stream",
     "text": [
      "Модель:LogisticRegression\n",
      "Лучшие параметры: {'clf__max_iter': 100, 'clf__solver': 'newton-cg'}\n",
      "Лучшие показатели модели: 0.74\n",
      "Метрика F1_score на валидационной выборке с лучшими параметрами: 0.66\n",
      "Лучший показатель roc_auc на валидационной выборке с лучшими параметрами: 0.88\n",
      "Матрица ошибок:\n",
      "[[1445   58]\n",
      " [ 181  229]]\n"
     ]
    },
    {
     "data": {
      "image/png": "[encoded data removed]",
      "text/plain": [
       "<Figure size 432x432 with 1 Axes>"
      ]
     },
     "metadata": {},
     "output_type": "display_data"
    },
    {
     "name": "stdout",
     "output_type": "stream",
     "text": [
      "\n",
      "\n",
      "Модель:DecisionTreeClassifier\n",
      "Лучшие параметры: {'clf__criterion': 'entropy', 'clf__max_depth': 3, 'clf__splitter': 'best'}\n",
      "Лучшие показатели модели: 0.74\n",
      "Метрика F1_score на валидационной выборке с лучшими параметрами: 0.65\n",
      "Лучший показатель roc_auc на валидационной выборке с лучшими параметрами: 0.84\n",
      "Матрица ошибок:\n",
      "[[1381  122]\n",
      " [ 154  256]]\n"
     ]
    },
    {
     "data": {
      "image/png": "[encoded data removed]",
      "text/plain": [
       "<Figure size 432x432 with 1 Axes>"
      ]
     },
     "metadata": {},
     "output_type": "display_data"
    },
    {
     "name": "stdout",
     "output_type": "stream",
     "text": [
      "\n",
      "\n",
      "Модель:RandomForestClassifier\n",
      "Лучшие параметры: {'clf__criterion': 'gini', 'clf__max_depth': 13, 'clf__n_estimators': 60}\n",
      "Лучшие показатели модели: 0.76\n",
      "Метрика F1_score на валидационной выборке с лучшими параметрами: 0.65\n",
      "Лучший показатель roc_auc на валидационной выборке с лучшими параметрами: 0.88\n",
      "Матрица ошибок:\n",
      "[[1449   54]\n",
      " [ 185  225]]\n"
     ]
    },
    {
     "data": {
      "image/png": "[encoded data removed]",
      "text/plain": [
       "<Figure size 432x432 with 1 Axes>"
      ]
     },
     "metadata": {},
     "output_type": "display_data"
    },
    {
     "name": "stdout",
     "output_type": "stream",
     "text": [
      "\n",
      "\n",
      "Лучший классификатор на валидационной выборке: LogisticRegression\n",
      "Лучший показатель f1_score на валидационной выборке: 0.66\n"
     ]
    }
   ],
   "source": [
    "# вызов функции для настройки оптимальных параметров для каждой модели МО на несбалансированной выборке\n",
    "dict_unbalanced_params = choose_best_clf(grids, X_train, X_valid, y_train, y_valid, best_score=0, best_clf=0, best_gs='')"
   ]
  },
  {
   "cell_type": "markdown",
   "id": "98a919aa",
   "metadata": {},
   "source": [
    "   **Результаты моделей и лучшие гиперпараметры на несбалансированной выборке.**"
   ]
  },
  {
   "cell_type": "code",
   "execution_count": 47,
   "id": "93c3fbd2",
   "metadata": {},
   "outputs": [
    {
     "data": {
      "text/html": [
       "<div>\n",
       "<style scoped>\n",
       "    .dataframe tbody tr th:only-of-type {\n",
       "        vertical-align: middle;\n",
       "    }\n",
       "\n",
       "    .dataframe tbody tr th {\n",
       "        vertical-align: top;\n",
       "    }\n",
       "\n",
       "    .dataframe thead th {\n",
       "        text-align: right;\n",
       "    }\n",
       "</style>\n",
       "<table border=\"1\" class=\"dataframe\">\n",
       "  <thead>\n",
       "    <tr style=\"text-align: right;\">\n",
       "      <th></th>\n",
       "      <th>Модель</th>\n",
       "      <th>Лучшие параметры модели</th>\n",
       "      <th>Лучшая F1-мера на валидационной выборке</th>\n",
       "      <th>Лучшая ROC-AUC на валидационной выборке</th>\n",
       "      <th>sample</th>\n",
       "    </tr>\n",
       "  </thead>\n",
       "  <tbody>\n",
       "    <tr>\n",
       "      <th>0</th>\n",
       "      <td>LogisticRegression</td>\n",
       "      <td>{'clf__max_iter': 100, 'clf__solver': 'newton-cg'}</td>\n",
       "      <td>0.657102</td>\n",
       "      <td>0.875511</td>\n",
       "      <td>unbalanced</td>\n",
       "    </tr>\n",
       "    <tr>\n",
       "      <th>1</th>\n",
       "      <td>DecisionTreeClassifier</td>\n",
       "      <td>{'clf__criterion': 'entropy', 'clf__max_depth': 3, 'clf__splitter': 'best'}</td>\n",
       "      <td>0.649746</td>\n",
       "      <td>0.835894</td>\n",
       "      <td>unbalanced</td>\n",
       "    </tr>\n",
       "    <tr>\n",
       "      <th>2</th>\n",
       "      <td>RandomForestClassifier</td>\n",
       "      <td>{'clf__criterion': 'gini', 'clf__max_depth': 13, 'clf__n_estimators': 60}</td>\n",
       "      <td>0.653120</td>\n",
       "      <td>0.882462</td>\n",
       "      <td>unbalanced</td>\n",
       "    </tr>\n",
       "  </tbody>\n",
       "</table>\n",
       "</div>"
      ],
      "text/plain": [
       "                   Модель  \\\n",
       "0      LogisticRegression   \n",
       "1  DecisionTreeClassifier   \n",
       "2  RandomForestClassifier   \n",
       "\n",
       "                                                       Лучшие параметры модели  \\\n",
       "0                           {'clf__max_iter': 100, 'clf__solver': 'newton-cg'}   \n",
       "1  {'clf__criterion': 'entropy', 'clf__max_depth': 3, 'clf__splitter': 'best'}   \n",
       "2    {'clf__criterion': 'gini', 'clf__max_depth': 13, 'clf__n_estimators': 60}   \n",
       "\n",
       "   Лучшая F1-мера на валидационной выборке  \\\n",
       "0                                 0.657102   \n",
       "1                                 0.649746   \n",
       "2                                 0.653120   \n",
       "\n",
       "   Лучшая ROC-AUC на валидационной выборке      sample  \n",
       "0                                 0.875511  unbalanced  \n",
       "1                                 0.835894  unbalanced  \n",
       "2                                 0.882462  unbalanced  "
      ]
     },
     "execution_count": 47,
     "metadata": {},
     "output_type": "execute_result"
    }
   ],
   "source": [
    "# сводная таблица с лучшими гиперпараметрами по каждой модели на несбалансированной выборке\n",
    "pd.set_option('max_colwidth', 120)\n",
    "df_unbalanced_params = pd.DataFrame(data=dict_unbalanced_params)\n",
    "df_unbalanced_params['sample'] = 'unbalanced'\n",
    "df_unbalanced_params"
   ]
  },
  {
   "cell_type": "markdown",
   "id": "e1f5efc9",
   "metadata": {},
   "source": [
    "После настройки оптимальных гиперпараметров на несбалансированной тренировочной выборке трех основных моделей делаем вывод:\n",
    "\n",
    " - Средне-гармонический показатель F1-мера у всех моделей примерно одинаковый, немного лучше показала себя модель \"LogisticRegression\" с F1 = 0.66 против 0.65 у двух остальных.\n",
    " - ROC-AUC у \"LogisticRegression\" и \"RandomForestClassifier\"  - одинаковый и равен 0.88. Такой результат существенно превышает уровень ROC-AUC случайной модели.\n",
    " - Модель \"DecisionTreeClassifier\" на несбалансированных тренировочных выборках показала себя хуже других, ее лучшая F1-мера достигнута на довольно низком параметре \"max_depth\"=3, а ROC-кривая имеет ступенчатый вид и величина ROC-AUC ниже других.\n",
    "\n",
    "В свою очередь, на ROC-кривой \"RandomForestClassifier\" видно, что максимальный уровень TPR достигается при самом низком FPR, что дает основание полагать, что при увеличении диапазона параметров возможно улучшение качества модели. Но при этом значительно растет время обучения модели и вероятность ее переобучения. "
   ]
  },
  {
   "cell_type": "markdown",
   "id": "1ee915ed",
   "metadata": {},
   "source": [
    "### Шаг 3.3. Подбор оптимальных гиперпараметров для каждой модели МО на сбалансированной выборке."
   ]
  },
  {
   "cell_type": "markdown",
   "id": "5c0c17ed",
   "metadata": {},
   "source": [
    "Этап настройки моделей на сбалансированных выборках разделим на 2 части:\n",
    " - На увеличенной тренировочной выборке(сделаем редкие классы не такими редкими).\n",
    " - На уменьшенной тренировочной выборке(сделаем частые классы редкими)\n",
    "\n",
    "То есть выровняем балланс классов. \n",
    "Для этого создадим 2 функции. Первая работает по принципу \"upsampling\", она принимает аргументами выборки с признаками и целевым признаком, а также число повторений, на которое умножается чило редких классов. Далее функцией \"shuffle\" все данные перемешиваются. Функция возвращает выборку с признаками и целевым признаком, в которых увеличено число редких классов.  "
   ]
  },
  {
   "cell_type": "code",
   "execution_count": 48,
   "id": "4eea2111",
   "metadata": {},
   "outputs": [],
   "source": [
    "# создание функции для увеличения выборки\n",
    "def upsample(features, target, repeat):\n",
    "    features_zeros = features[target == 0]\n",
    "    features_ones = features[target == 1]\n",
    "    target_zeros = target[target == 0]\n",
    "    target_ones = target[target == 1]\n",
    "    features_upsampled = pd.concat([features_zeros] + [features_ones] * repeat)\n",
    "    target_upsampled = pd.concat([target_zeros] + [target_ones] * repeat)\n",
    "    features_upsampled, target_upsampled = shuffle(features_upsampled, target_upsampled, random_state=12345)\n",
    "    return features_upsampled, target_upsampled"
   ]
  },
  {
   "cell_type": "markdown",
   "id": "77a47665",
   "metadata": {},
   "source": [
    "Следующая функция уменьшает число доминирующего класса, она принимает признаки и целевой признак и аргумент \"fraction\". Функция работает аналогично первой, но возвращает случаеные элементы в таком количестве, чтобы их доля от исходных данных была равна \"fraction\"."
   ]
  },
  {
   "cell_type": "code",
   "execution_count": 49,
   "id": "96418059",
   "metadata": {},
   "outputs": [],
   "source": [
    "# создание функции для уменьшения выборки\n",
    "def downsample(features, target, fraction):\n",
    "    features_zeros = features[target == 0]\n",
    "    features_ones = features[target == 1]\n",
    "    target_zeros = target[target == 0]\n",
    "    target_ones = target[target == 1]\n",
    "    features_downsampled = pd.concat(\n",
    "    [features_zeros.sample(frac=fraction, random_state=12345)] + [features_ones])\n",
    "    target_downsampled = pd.concat(\n",
    "    [target_zeros.sample(frac=fraction, random_state=12345)] + [target_ones])\n",
    "    features_downsampled, target_downsampled = shuffle(\n",
    "    features_downsampled, target_downsampled, random_state=12345)\n",
    "    return features_downsampled, target_downsampled\n",
    "    "
   ]
  },
  {
   "cell_type": "code",
   "execution_count": 50,
   "id": "a9f50c17",
   "metadata": {},
   "outputs": [],
   "source": [
    "# вызов функции для увеличения выборки и сохранение результатов ее работы в переменные\n",
    "X_train_up, y_train_up = upsample(X_train, y_train, round(len(y_train[y_train == 0])/len(y_train[y_train == 1])))"
   ]
  },
  {
   "cell_type": "code",
   "execution_count": 51,
   "id": "f8532dbc",
   "metadata": {},
   "outputs": [],
   "source": [
    "# вызов функции для уменьшения выборки и сохранение результатов ее работы в переменные\n",
    "X_train_dn, y_train_dn = downsample(X_train, y_train, len(y_train[y_train == 1])/len(y_train[y_train == 0]))"
   ]
  },
  {
   "cell_type": "markdown",
   "id": "6c708a5f",
   "metadata": {},
   "source": [
    "**Настроим работу моделей на увеличенной выборке.**"
   ]
  },
  {
   "cell_type": "code",
   "execution_count": 52,
   "id": "4010e096",
   "metadata": {
    "scrolled": false
   },
   "outputs": [
    {
     "name": "stdout",
     "output_type": "stream",
     "text": [
      "Модель:LogisticRegression\n",
      "Лучшие параметры: {'clf__max_iter': 100, 'clf__solver': 'liblinear'}\n",
      "Лучшие показатели модели: 0.77\n",
      "Метрика F1_score на валидационной выборке с лучшими параметрами: 0.61\n",
      "Лучший показатель roc_auc на валидационной выборке с лучшими параметрами: 0.88\n",
      "Матрица ошибок:\n",
      "[[1144  359]\n",
      " [  76  334]]\n"
     ]
    },
    {
     "data": {
      "image/png": "[encoded data removed]",
      "text/plain": [
       "<Figure size 432x432 with 1 Axes>"
      ]
     },
     "metadata": {},
     "output_type": "display_data"
    },
    {
     "name": "stdout",
     "output_type": "stream",
     "text": [
      "\n",
      "\n",
      "Модель:DecisionTreeClassifier\n",
      "Лучшие параметры: {'clf__criterion': 'gini', 'clf__max_depth': 15, 'clf__splitter': 'best'}\n",
      "Лучшие показатели модели: 0.90\n",
      "Метрика F1_score на валидационной выборке с лучшими параметрами: 0.54\n",
      "Лучший показатель roc_auc на валидационной выборке с лучшими параметрами: 0.72\n",
      "Матрица ошибок:\n",
      "[[1250  253]\n",
      " [ 163  247]]\n"
     ]
    },
    {
     "data": {
      "image/png": "[encoded data removed]",
      "text/plain": [
       "<Figure size 432x432 with 1 Axes>"
      ]
     },
     "metadata": {},
     "output_type": "display_data"
    },
    {
     "name": "stdout",
     "output_type": "stream",
     "text": [
      "\n",
      "\n",
      "Модель:RandomForestClassifier\n",
      "Лучшие параметры: {'clf__criterion': 'gini', 'clf__max_depth': 15, 'clf__n_estimators': 100}\n",
      "Лучшие показатели модели: 0.95\n",
      "Метрика F1_score на валидационной выборке с лучшими параметрами: 0.68\n",
      "Лучший показатель roc_auc на валидационной выборке с лучшими параметрами: 0.88\n",
      "Матрица ошибок:\n",
      "[[1366  137]\n",
      " [ 129  281]]\n"
     ]
    },
    {
     "data": {
      "image/png": "[encoded data removed]",
      "text/plain": [
       "<Figure size 432x432 with 1 Axes>"
      ]
     },
     "metadata": {},
     "output_type": "display_data"
    },
    {
     "name": "stdout",
     "output_type": "stream",
     "text": [
      "\n",
      "\n",
      "Лучший классификатор на валидационной выборке: RandomForestClassifier\n",
      "Лучший показатель f1_score на валидационной выборке: 0.68\n"
     ]
    }
   ],
   "source": [
    "# вызов функции для настройки оптимальных параметров для каждой модели МО на увеличенной выборке\n",
    "dict_enlarged_params = choose_best_clf(grids, X_train_up, X_valid, y_train_up, y_valid, best_score=0, best_clf=0, best_gs='')"
   ]
  },
  {
   "cell_type": "markdown",
   "id": "e7b020e8",
   "metadata": {},
   "source": [
    "   **Результаты моделей и лучшие гиперпараметры на увеличенной выборке.**"
   ]
  },
  {
   "cell_type": "code",
   "execution_count": 53,
   "id": "2f01b523",
   "metadata": {},
   "outputs": [
    {
     "data": {
      "text/html": [
       "<div>\n",
       "<style scoped>\n",
       "    .dataframe tbody tr th:only-of-type {\n",
       "        vertical-align: middle;\n",
       "    }\n",
       "\n",
       "    .dataframe tbody tr th {\n",
       "        vertical-align: top;\n",
       "    }\n",
       "\n",
       "    .dataframe thead th {\n",
       "        text-align: right;\n",
       "    }\n",
       "</style>\n",
       "<table border=\"1\" class=\"dataframe\">\n",
       "  <thead>\n",
       "    <tr style=\"text-align: right;\">\n",
       "      <th></th>\n",
       "      <th>Модель</th>\n",
       "      <th>Лучшие параметры модели</th>\n",
       "      <th>Лучшая F1-мера на валидационной выборке</th>\n",
       "      <th>Лучшая ROC-AUC на валидационной выборке</th>\n",
       "      <th>sample</th>\n",
       "    </tr>\n",
       "  </thead>\n",
       "  <tbody>\n",
       "    <tr>\n",
       "      <th>0</th>\n",
       "      <td>LogisticRegression</td>\n",
       "      <td>{'clf__max_iter': 100, 'clf__solver': 'liblinear'}</td>\n",
       "      <td>0.605621</td>\n",
       "      <td>0.875694</td>\n",
       "      <td>enlarged</td>\n",
       "    </tr>\n",
       "    <tr>\n",
       "      <th>1</th>\n",
       "      <td>DecisionTreeClassifier</td>\n",
       "      <td>{'clf__criterion': 'gini', 'clf__max_depth': 15, 'clf__splitter': 'best'}</td>\n",
       "      <td>0.542857</td>\n",
       "      <td>0.723250</td>\n",
       "      <td>enlarged</td>\n",
       "    </tr>\n",
       "    <tr>\n",
       "      <th>2</th>\n",
       "      <td>RandomForestClassifier</td>\n",
       "      <td>{'clf__criterion': 'gini', 'clf__max_depth': 15, 'clf__n_estimators': 100}</td>\n",
       "      <td>0.678744</td>\n",
       "      <td>0.877807</td>\n",
       "      <td>enlarged</td>\n",
       "    </tr>\n",
       "  </tbody>\n",
       "</table>\n",
       "</div>"
      ],
      "text/plain": [
       "                   Модель  \\\n",
       "0      LogisticRegression   \n",
       "1  DecisionTreeClassifier   \n",
       "2  RandomForestClassifier   \n",
       "\n",
       "                                                      Лучшие параметры модели  \\\n",
       "0                          {'clf__max_iter': 100, 'clf__solver': 'liblinear'}   \n",
       "1   {'clf__criterion': 'gini', 'clf__max_depth': 15, 'clf__splitter': 'best'}   \n",
       "2  {'clf__criterion': 'gini', 'clf__max_depth': 15, 'clf__n_estimators': 100}   \n",
       "\n",
       "   Лучшая F1-мера на валидационной выборке  \\\n",
       "0                                 0.605621   \n",
       "1                                 0.542857   \n",
       "2                                 0.678744   \n",
       "\n",
       "   Лучшая ROC-AUC на валидационной выборке    sample  \n",
       "0                                 0.875694  enlarged  \n",
       "1                                 0.723250  enlarged  \n",
       "2                                 0.877807  enlarged  "
      ]
     },
     "execution_count": 53,
     "metadata": {},
     "output_type": "execute_result"
    }
   ],
   "source": [
    "# сводная таблица с лучшими гиперпараметрами по каждой модели на увеличенной выборке\n",
    "df_enlarged_params = pd.DataFrame(data=dict_enlarged_params)\n",
    "df_enlarged_params['sample'] = 'enlarged'\n",
    "df_enlarged_params"
   ]
  },
  {
   "cell_type": "markdown",
   "id": "b660332d",
   "metadata": {},
   "source": [
    "После настройки оптимальных гиперпараметров на увеличенной тренировочной выборке трех основных моделей делаем вывод:\n",
    "    \n",
    " - Лучшая величина F1-меры достигнута на модели \"RandomForestClassifier\" и равна 0.68.\n",
    " - У модели \"LogisticRegression\" F1-мера 0.61, а вот ROC-AUC одинаков с \"RandomForestClassifier\" и равен 0.88, кривые у них похожи.\n",
    " - Качество работы модели \"DecisionTreeClassifier\" существенно ухудшилось после увеличения выборки.\n",
    " - Из матрицы ошибок видно, что при увеличении выборки, количество объектов, идентифицированных, как положительные резко выросло, более всего к этому склонна \"LogisticRegression\", меньшее влияние увеличение оказало на \"RandomForestClassifier\".\n",
    " - ROC-AUC при увеличении выборки и уменьшении F1-меры почти не поменялся у \"LogisticRegression\", а у \"DecisionTreeClassifier\" уменьшился существенно вслед за F1-мерой."
   ]
  },
  {
   "cell_type": "markdown",
   "id": "9ae61fff",
   "metadata": {},
   "source": [
    "**Настроим работу моделей на уменьшенной выборке.**"
   ]
  },
  {
   "cell_type": "code",
   "execution_count": 54,
   "id": "75bf4636",
   "metadata": {},
   "outputs": [
    {
     "name": "stdout",
     "output_type": "stream",
     "text": [
      "Модель:LogisticRegression\n",
      "Лучшие параметры: {'clf__max_iter': 100, 'clf__solver': 'newton-cg'}\n",
      "Лучшие показатели модели: 0.77\n",
      "Метрика F1_score на валидационной выборке с лучшими параметрами: 0.61\n",
      "Лучший показатель roc_auc на валидационной выборке с лучшими параметрами: 0.88\n",
      "Матрица ошибок:\n",
      "[[1155  348]\n",
      " [  80  330]]\n"
     ]
    },
    {
     "data": {
      "image/png": "[encoded data removed]",
      "text/plain": [
       "<Figure size 432x432 with 1 Axes>"
      ]
     },
     "metadata": {},
     "output_type": "display_data"
    },
    {
     "name": "stdout",
     "output_type": "stream",
     "text": [
      "\n",
      "\n",
      "Модель:DecisionTreeClassifier\n",
      "Лучшие параметры: {'clf__criterion': 'gini', 'clf__max_depth': 4, 'clf__splitter': 'best'}\n",
      "Лучшие показатели модели: 0.76\n",
      "Метрика F1_score на валидационной выборке с лучшими параметрами: 0.60\n",
      "Лучший показатель roc_auc на валидационной выборке с лучшими параметрами: 0.86\n",
      "Матрица ошибок:\n",
      "[[1141  362]\n",
      " [  82  328]]\n"
     ]
    },
    {
     "data": {
      "image/png": "[encoded data removed]",
      "text/plain": [
       "<Figure size 432x432 with 1 Axes>"
      ]
     },
     "metadata": {},
     "output_type": "display_data"
    },
    {
     "name": "stdout",
     "output_type": "stream",
     "text": [
      "\n",
      "\n",
      "Модель:RandomForestClassifier\n",
      "Лучшие параметры: {'clf__criterion': 'gini', 'clf__max_depth': 5, 'clf__n_estimators': 100}\n",
      "Лучшие показатели модели: 0.78\n",
      "Метрика F1_score на валидационной выборке с лучшими параметрами: 0.63\n",
      "Лучший показатель roc_auc на валидационной выборке с лучшими параметрами: 0.88\n",
      "Матрица ошибок:\n",
      "[[1200  303]\n",
      " [  81  329]]\n"
     ]
    },
    {
     "data": {
      "image/png": "[encoded data removed]",
      "text/plain": [
       "<Figure size 432x432 with 1 Axes>"
      ]
     },
     "metadata": {},
     "output_type": "display_data"
    },
    {
     "name": "stdout",
     "output_type": "stream",
     "text": [
      "\n",
      "\n",
      "Лучший классификатор на валидационной выборке: RandomForestClassifier\n",
      "Лучший показатель f1_score на валидационной выборке: 0.63\n"
     ]
    }
   ],
   "source": [
    "# вызов функции для настройки оптимальных параметров для каждой модели МО на уменьшенной выборке\n",
    "dict_reduced_params = choose_best_clf(grids, X_train_dn, X_valid, y_train_dn, y_valid, best_score=0, best_clf=0, best_gs='')"
   ]
  },
  {
   "cell_type": "markdown",
   "id": "252f0a7a",
   "metadata": {},
   "source": [
    "   **Результаты моделей и лучшие гиперпараметры на уменьшенной выборке.**"
   ]
  },
  {
   "cell_type": "code",
   "execution_count": 55,
   "id": "deebbb11",
   "metadata": {},
   "outputs": [
    {
     "data": {
      "text/html": [
       "<div>\n",
       "<style scoped>\n",
       "    .dataframe tbody tr th:only-of-type {\n",
       "        vertical-align: middle;\n",
       "    }\n",
       "\n",
       "    .dataframe tbody tr th {\n",
       "        vertical-align: top;\n",
       "    }\n",
       "\n",
       "    .dataframe thead th {\n",
       "        text-align: right;\n",
       "    }\n",
       "</style>\n",
       "<table border=\"1\" class=\"dataframe\">\n",
       "  <thead>\n",
       "    <tr style=\"text-align: right;\">\n",
       "      <th></th>\n",
       "      <th>Модель</th>\n",
       "      <th>Лучшие параметры модели</th>\n",
       "      <th>Лучшая F1-мера на валидационной выборке</th>\n",
       "      <th>Лучшая ROC-AUC на валидационной выборке</th>\n",
       "      <th>sample</th>\n",
       "    </tr>\n",
       "  </thead>\n",
       "  <tbody>\n",
       "    <tr>\n",
       "      <th>0</th>\n",
       "      <td>LogisticRegression</td>\n",
       "      <td>{'clf__max_iter': 100, 'clf__solver': 'newton-cg'}</td>\n",
       "      <td>0.606618</td>\n",
       "      <td>0.875756</td>\n",
       "      <td>reduced</td>\n",
       "    </tr>\n",
       "    <tr>\n",
       "      <th>1</th>\n",
       "      <td>DecisionTreeClassifier</td>\n",
       "      <td>{'clf__criterion': 'gini', 'clf__max_depth': 4, 'clf__splitter': 'best'}</td>\n",
       "      <td>0.596364</td>\n",
       "      <td>0.860158</td>\n",
       "      <td>reduced</td>\n",
       "    </tr>\n",
       "    <tr>\n",
       "      <th>2</th>\n",
       "      <td>RandomForestClassifier</td>\n",
       "      <td>{'clf__criterion': 'gini', 'clf__max_depth': 5, 'clf__n_estimators': 100}</td>\n",
       "      <td>0.631478</td>\n",
       "      <td>0.877465</td>\n",
       "      <td>reduced</td>\n",
       "    </tr>\n",
       "  </tbody>\n",
       "</table>\n",
       "</div>"
      ],
      "text/plain": [
       "                   Модель  \\\n",
       "0      LogisticRegression   \n",
       "1  DecisionTreeClassifier   \n",
       "2  RandomForestClassifier   \n",
       "\n",
       "                                                     Лучшие параметры модели  \\\n",
       "0                         {'clf__max_iter': 100, 'clf__solver': 'newton-cg'}   \n",
       "1   {'clf__criterion': 'gini', 'clf__max_depth': 4, 'clf__splitter': 'best'}   \n",
       "2  {'clf__criterion': 'gini', 'clf__max_depth': 5, 'clf__n_estimators': 100}   \n",
       "\n",
       "   Лучшая F1-мера на валидационной выборке  \\\n",
       "0                                 0.606618   \n",
       "1                                 0.596364   \n",
       "2                                 0.631478   \n",
       "\n",
       "   Лучшая ROC-AUC на валидационной выборке   sample  \n",
       "0                                 0.875756  reduced  \n",
       "1                                 0.860158  reduced  \n",
       "2                                 0.877465  reduced  "
      ]
     },
     "execution_count": 55,
     "metadata": {},
     "output_type": "execute_result"
    }
   ],
   "source": [
    "# сводная таблица с лучшими гиперпараметрами по каждой модели на уменьшенной выборке\n",
    "df_reduced_params = pd.DataFrame(data=dict_reduced_params)\n",
    "df_reduced_params['sample'] = 'reduced'\n",
    "df_reduced_params"
   ]
  },
  {
   "cell_type": "markdown",
   "id": "3e871591",
   "metadata": {},
   "source": [
    "После настройки оптимальных гиперпараметров на уменьшенной тренировочной выборке трех основных моделей делаем вывод:\n",
    "    \n",
    " - Лучшая величина F1-меры достигнута на модели \"RandomForestClassifier\" и равна 0.63.\n",
    " - У модели \"LogisticRegression\" F1-мера 0.61 и не изменилась в сравнении с увеличенной,  ROC-AUC такой же как и у \"RandomForestClassifier\" и составил 0.88.\n",
    " - На уменьшенной выборке \"DecisionTreeClassifier\" улучшил свои результаты: F1-мера достигла 0.60, а ROC-AUC 0.86. ROC-кривая выглядит плавнее.\n",
    " - Из \"confusion matrix\", как и при увеличении выборки, видно что все модели стали идентифицировать целевой класс как положительный гораздо чаще, чем при несбалансированной выборке.\n",
    " - Показатели F1-меры в среднем по моделям самые низкие из всех выборок на уменьшенной, но ROC-AUC здесь стабильно высокий по всем моделям. \n",
    " \n",
    " \n",
    " **Сведем гиперпараметры, тип выборок(несбалансированная, увеличенная или уменьшенная) по каждой модели у которой достигнуты максимальные показатели в таблицу:**"
   ]
  },
  {
   "cell_type": "code",
   "execution_count": 56,
   "id": "f074f90d",
   "metadata": {},
   "outputs": [],
   "source": [
    "#  объединение таблиц в общую по разным выборкам в общую\n",
    "df_general_model = pd.concat([df_unbalanced_params, df_enlarged_params, df_reduced_params], axis=0)"
   ]
  },
  {
   "cell_type": "code",
   "execution_count": 57,
   "id": "3edd1d7c",
   "metadata": {},
   "outputs": [
    {
     "data": {
      "text/html": [
       "<div>\n",
       "<style scoped>\n",
       "    .dataframe tbody tr th:only-of-type {\n",
       "        vertical-align: middle;\n",
       "    }\n",
       "\n",
       "    .dataframe tbody tr th {\n",
       "        vertical-align: top;\n",
       "    }\n",
       "\n",
       "    .dataframe thead th {\n",
       "        text-align: right;\n",
       "    }\n",
       "</style>\n",
       "<table border=\"1\" class=\"dataframe\">\n",
       "  <thead>\n",
       "    <tr style=\"text-align: right;\">\n",
       "      <th></th>\n",
       "      <th>Модель</th>\n",
       "      <th>Лучшие параметры модели</th>\n",
       "      <th>Лучшая F1-мера на валидационной выборке</th>\n",
       "      <th>Лучшая ROC-AUC на валидационной выборке</th>\n",
       "      <th>sample</th>\n",
       "    </tr>\n",
       "  </thead>\n",
       "  <tbody>\n",
       "    <tr>\n",
       "      <th>0</th>\n",
       "      <td>LogisticRegression</td>\n",
       "      <td>{'clf__max_iter': 100, 'clf__solver': 'newton-cg'}</td>\n",
       "      <td>0.657102</td>\n",
       "      <td>0.875511</td>\n",
       "      <td>unbalanced</td>\n",
       "    </tr>\n",
       "    <tr>\n",
       "      <th>1</th>\n",
       "      <td>DecisionTreeClassifier</td>\n",
       "      <td>{'clf__criterion': 'entropy', 'clf__max_depth': 3, 'clf__splitter': 'best'}</td>\n",
       "      <td>0.649746</td>\n",
       "      <td>0.835894</td>\n",
       "      <td>unbalanced</td>\n",
       "    </tr>\n",
       "    <tr>\n",
       "      <th>2</th>\n",
       "      <td>RandomForestClassifier</td>\n",
       "      <td>{'clf__criterion': 'gini', 'clf__max_depth': 15, 'clf__n_estimators': 100}</td>\n",
       "      <td>0.678744</td>\n",
       "      <td>0.877807</td>\n",
       "      <td>enlarged</td>\n",
       "    </tr>\n",
       "  </tbody>\n",
       "</table>\n",
       "</div>"
      ],
      "text/plain": [
       "                   Модель  \\\n",
       "0      LogisticRegression   \n",
       "1  DecisionTreeClassifier   \n",
       "2  RandomForestClassifier   \n",
       "\n",
       "                                                       Лучшие параметры модели  \\\n",
       "0                           {'clf__max_iter': 100, 'clf__solver': 'newton-cg'}   \n",
       "1  {'clf__criterion': 'entropy', 'clf__max_depth': 3, 'clf__splitter': 'best'}   \n",
       "2   {'clf__criterion': 'gini', 'clf__max_depth': 15, 'clf__n_estimators': 100}   \n",
       "\n",
       "   Лучшая F1-мера на валидационной выборке  \\\n",
       "0                                 0.657102   \n",
       "1                                 0.649746   \n",
       "2                                 0.678744   \n",
       "\n",
       "   Лучшая ROC-AUC на валидационной выборке      sample  \n",
       "0                                 0.875511  unbalanced  \n",
       "1                                 0.835894  unbalanced  \n",
       "2                                 0.877807    enlarged  "
      ]
     },
     "execution_count": 57,
     "metadata": {},
     "output_type": "execute_result"
    }
   ],
   "source": [
    "# сведение в таблицу каждой модели с лучшими результатами F1-меры\n",
    "df_general_best = (df_general_model.groupby(['Модель'], as_index=False)\n",
    ".apply(lambda x: x.nlargest(1, ['Лучшая F1-мера на валидационной выборке']))\n",
    ".reset_index(level=0, drop=True)).sort_index()\n",
    "\n",
    "df_general_best"
   ]
  },
  {
   "cell_type": "markdown",
   "id": "02ac527c",
   "metadata": {},
   "source": [
    "### Шаг 3.4. Подбор оптимальных гиперпараметров для каждой модели МО с учетом изменения порога классификации."
   ]
  },
  {
   "cell_type": "markdown",
   "id": "ea1df7d7",
   "metadata": {},
   "source": [
    "Попробуем улучшить работу моделей путем их настройки с изменением порога, при котором классифицируется положительный класс. \n",
    "\n",
    "Для этого создадим функцию, которая принимает на вход аргументы: классификатор модели, наименование модели из словаря, две выборки с признаками и целевым признаком, переменная в которую сохраняется лучшее значение F1-меры, переменная в которую сохраняется значение порога классификации, при котором достигается лучшая F1-мера. В функции идет подсчет показателей: recall, precision, f1-меры с учетом изменения порога классификации с шагом 0.05.  "
   ]
  },
  {
   "cell_type": "code",
   "execution_count": 58,
   "id": "5a92104c",
   "metadata": {},
   "outputs": [],
   "source": [
    "# создание функции для настройки работы моделей МО с учетом изменения порога классификации\n",
    "def choose_clf_threshold(list_grids, feature_tr, feature_val, target_tr, target_val):\n",
    "    best_model_params = {'Модель' : [],\n",
    "                        'Лучшие параметры модели' : [],\n",
    "                        'Лучшая F1-мера на валидационной выборке' : [],\n",
    "                        'Порог с лучшей F1-мерой' : [],\n",
    "                        'Лучшая ROC-AUC на валидационной выборке' : []}\n",
    "    for idx, gs in enumerate(list_grids):\n",
    "        best_predicted_valid = 0\n",
    "        best_score_model = 0\n",
    "        best_roc_auc_model = 0\n",
    "        best_thresh_model = 0\n",
    "        gs.fit(feature_tr, target_tr)  \n",
    "        probabilities_val = gs.predict_proba(feature_val)\n",
    "        probabilities_one_val = probabilities_val[:, 1]    \n",
    "        for threshold in np.arange(0, 0.95, 0.05):\n",
    "            predicted_valid = probabilities_one_val > threshold\n",
    "            precision = precision_score(target_val, predicted_valid)\n",
    "            recall = recall_score(target_val, predicted_valid)\n",
    "            result = f1_score(target_val, predicted_valid)\n",
    "            roc_auc = roc_auc_score(target_val, predicted_valid)\n",
    "            print('Порог = {:.2f} | Точность = {:.2f} | Полнота = {:.2f} | F1-мера = {:.2f} | ROC-AUC = {:.2f}'.format(threshold\n",
    "                                                                                           ,precision, recall, result, roc_auc))\n",
    "            \n",
    "            if result > best_score_model:\n",
    "                best_score_model = result\n",
    "                best_roc_auc_model = roc_auc\n",
    "                best_thresh_model = threshold \n",
    "                best_predicted_valid = predicted_valid       \n",
    "        best_model_params['Модель'].append(grid_dict[idx])\n",
    "        best_model_params['Лучшие параметры модели'].append(gs.best_params_)\n",
    "        best_model_params['Лучшая F1-мера на валидационной выборке'].append(best_score_model)\n",
    "        best_model_params['Порог с лучшей F1-мерой'].append(best_thresh_model)\n",
    "        best_model_params['Лучшая ROC-AUC на валидационной выборке'].append(best_roc_auc_model)\n",
    "        print('\\n')\n",
    "        print('Лучшие параметры: {}'.format(gs.best_params_))\n",
    "        print('На модели {} лучшая F1-мера {:.2f} c ROC-AUC {:.2f} и порогом классификации {:.2f}.'.format(grid_dict[idx], \n",
    "                                                                    best_score_model, best_roc_auc_model, best_thresh_model ))\n",
    "        print('Матрица ошибок с оптимальным порогом классификации:')\n",
    "        print(confusion_matrix(target_val, best_predicted_valid)) \n",
    "        print('\\n')\n",
    "    return best_model_params"
   ]
  },
  {
   "cell_type": "markdown",
   "id": "8f65cce2",
   "metadata": {},
   "source": [
    "Настроим модели с учетом изменения порога классификации, вызвав функцию в цикле, где перебираются индексы и каждая модель из списка. \n",
    "\n",
    "**Настройка моделей МО с учетом изменения порога классификации на несбалансированной выборке.**"
   ]
  },
  {
   "cell_type": "code",
   "execution_count": 59,
   "id": "e47a9c95",
   "metadata": {
    "scrolled": false
   },
   "outputs": [
    {
     "name": "stdout",
     "output_type": "stream",
     "text": [
      "Порог = 0.00 | Точность = 0.21 | Полнота = 1.00 | F1-мера = 0.35 | ROC-AUC = 0.50\n",
      "Порог = 0.05 | Точность = 0.28 | Полнота = 0.96 | F1-мера = 0.44 | ROC-AUC = 0.65\n",
      "Порог = 0.10 | Точность = 0.36 | Полнота = 0.92 | F1-мера = 0.52 | ROC-AUC = 0.74\n",
      "Порог = 0.15 | Точность = 0.42 | Полнота = 0.85 | F1-мера = 0.56 | ROC-AUC = 0.76\n",
      "Порог = 0.20 | Точность = 0.48 | Полнота = 0.81 | F1-мера = 0.60 | ROC-AUC = 0.79\n",
      "Порог = 0.25 | Точность = 0.53 | Полнота = 0.78 | F1-мера = 0.63 | ROC-AUC = 0.80\n",
      "Порог = 0.30 | Точность = 0.59 | Полнота = 0.73 | F1-мера = 0.65 | ROC-AUC = 0.79\n",
      "Порог = 0.35 | Точность = 0.65 | Полнота = 0.68 | F1-мера = 0.66 | ROC-AUC = 0.79\n",
      "Порог = 0.40 | Точность = 0.71 | Полнота = 0.64 | F1-мера = 0.67 | ROC-AUC = 0.78\n",
      "Порог = 0.45 | Точность = 0.75 | Полнота = 0.60 | F1-мера = 0.67 | ROC-AUC = 0.77\n",
      "Порог = 0.50 | Точность = 0.80 | Полнота = 0.56 | F1-мера = 0.66 | ROC-AUC = 0.76\n",
      "Порог = 0.55 | Точность = 0.83 | Полнота = 0.51 | F1-мера = 0.63 | ROC-AUC = 0.74\n",
      "Порог = 0.60 | Точность = 0.84 | Полнота = 0.45 | F1-мера = 0.59 | ROC-AUC = 0.72\n",
      "Порог = 0.65 | Точность = 0.87 | Полнота = 0.39 | F1-мера = 0.54 | ROC-AUC = 0.69\n",
      "Порог = 0.70 | Точность = 0.89 | Полнота = 0.34 | F1-мера = 0.49 | ROC-AUC = 0.66\n",
      "Порог = 0.75 | Точность = 0.89 | Полнота = 0.27 | F1-мера = 0.41 | ROC-AUC = 0.63\n",
      "Порог = 0.80 | Точность = 0.92 | Полнота = 0.22 | F1-мера = 0.35 | ROC-AUC = 0.61\n",
      "Порог = 0.85 | Точность = 0.95 | Полнота = 0.17 | F1-мера = 0.29 | ROC-AUC = 0.58\n",
      "Порог = 0.90 | Точность = 0.96 | Полнота = 0.12 | F1-мера = 0.21 | ROC-AUC = 0.56\n",
      "\n",
      "\n",
      "Лучшие параметры: {'clf__max_iter': 100, 'clf__solver': 'newton-cg'}\n",
      "На модели LogisticRegression лучшая F1-мера 0.67 c ROC-AUC 0.78 и порогом классификации 0.40.\n",
      "Матрица ошибок с оптимальным порогом классификации:\n",
      "[[1395  108]\n",
      " [ 147  263]]\n",
      "\n",
      "\n",
      "Порог = 0.00 | Точность = 0.21 | Полнота = 1.00 | F1-мера = 0.35 | ROC-AUC = 0.50\n",
      "Порог = 0.05 | Точность = 0.27 | Полнота = 0.98 | F1-мера = 0.42 | ROC-AUC = 0.62\n",
      "Порог = 0.10 | Точность = 0.31 | Полнота = 0.93 | F1-мера = 0.47 | ROC-AUC = 0.68\n",
      "Порог = 0.15 | Точность = 0.31 | Полнота = 0.93 | F1-мера = 0.47 | ROC-AUC = 0.68\n",
      "Порог = 0.20 | Точность = 0.68 | Полнота = 0.62 | F1-мера = 0.65 | ROC-AUC = 0.77\n",
      "Порог = 0.25 | Точность = 0.68 | Полнота = 0.62 | F1-мера = 0.65 | ROC-AUC = 0.77\n",
      "Порог = 0.30 | Точность = 0.68 | Полнота = 0.62 | F1-мера = 0.65 | ROC-AUC = 0.77\n",
      "Порог = 0.35 | Точность = 0.68 | Полнота = 0.62 | F1-мера = 0.65 | ROC-AUC = 0.77\n",
      "Порог = 0.40 | Точность = 0.68 | Полнота = 0.62 | F1-мера = 0.65 | ROC-AUC = 0.77\n",
      "Порог = 0.45 | Точность = 0.68 | Полнота = 0.62 | F1-мера = 0.65 | ROC-AUC = 0.77\n",
      "Порог = 0.50 | Точность = 0.68 | Полнота = 0.62 | F1-мера = 0.65 | ROC-AUC = 0.77\n",
      "Порог = 0.55 | Точность = 0.68 | Полнота = 0.62 | F1-мера = 0.65 | ROC-AUC = 0.77\n",
      "Порог = 0.60 | Точность = 0.90 | Полнота = 0.15 | F1-мера = 0.26 | ROC-AUC = 0.57\n",
      "Порог = 0.65 | Точность = 0.90 | Полнота = 0.15 | F1-мера = 0.26 | ROC-AUC = 0.57\n",
      "Порог = 0.70 | Точность = 0.90 | Полнота = 0.15 | F1-мера = 0.26 | ROC-AUC = 0.57\n",
      "Порог = 0.75 | Точность = 1.00 | Полнота = 0.10 | F1-мера = 0.17 | ROC-AUC = 0.55\n",
      "Порог = 0.80 | Точность = 1.00 | Полнота = 0.10 | F1-мера = 0.17 | ROC-AUC = 0.55\n",
      "Порог = 0.85 | Точность = 1.00 | Полнота = 0.10 | F1-мера = 0.17 | ROC-AUC = 0.55\n",
      "Порог = 0.90 | Точность = 1.00 | Полнота = 0.10 | F1-мера = 0.17 | ROC-AUC = 0.55\n",
      "\n",
      "\n",
      "Лучшие параметры: {'clf__criterion': 'entropy', 'clf__max_depth': 3, 'clf__splitter': 'best'}\n",
      "На модели DecisionTreeClassifier лучшая F1-мера 0.65 c ROC-AUC 0.77 и порогом классификации 0.20.\n",
      "Матрица ошибок с оптимальным порогом классификации:\n",
      "[[1381  122]\n",
      " [ 154  256]]\n",
      "\n",
      "\n",
      "Порог = 0.00 | Точность = 0.21 | Полнота = 1.00 | F1-мера = 0.35 | ROC-AUC = 0.50\n",
      "Порог = 0.05 | Точность = 0.30 | Полнота = 0.97 | F1-мера = 0.46 | ROC-AUC = 0.67\n",
      "Порог = 0.10 | Точность = 0.36 | Полнота = 0.92 | F1-мера = 0.51 | ROC-AUC = 0.73\n",
      "Порог = 0.15 | Точность = 0.42 | Полнота = 0.87 | F1-мера = 0.57 | ROC-AUC = 0.77\n",
      "Порог = 0.20 | Точность = 0.48 | Полнота = 0.82 | F1-мера = 0.61 | ROC-AUC = 0.79\n",
      "Порог = 0.25 | Точность = 0.54 | Полнота = 0.78 | F1-мера = 0.64 | ROC-AUC = 0.80\n",
      "Порог = 0.30 | Точность = 0.59 | Полнота = 0.74 | F1-мера = 0.65 | ROC-AUC = 0.80\n",
      "Порог = 0.35 | Точность = 0.66 | Полнота = 0.69 | F1-мера = 0.67 | ROC-AUC = 0.80\n",
      "Порог = 0.40 | Точность = 0.71 | Полнота = 0.63 | F1-мера = 0.66 | ROC-AUC = 0.78\n",
      "Порог = 0.45 | Точность = 0.76 | Полнота = 0.59 | F1-мера = 0.66 | ROC-AUC = 0.77\n",
      "Порог = 0.50 | Точность = 0.81 | Полнота = 0.55 | F1-мера = 0.65 | ROC-AUC = 0.76\n",
      "Порог = 0.55 | Точность = 0.85 | Полнота = 0.50 | F1-мера = 0.63 | ROC-AUC = 0.74\n",
      "Порог = 0.60 | Точность = 0.86 | Полнота = 0.47 | F1-мера = 0.61 | ROC-AUC = 0.73\n",
      "Порог = 0.65 | Точность = 0.90 | Полнота = 0.44 | F1-мера = 0.59 | ROC-AUC = 0.71\n",
      "Порог = 0.70 | Точность = 0.91 | Полнота = 0.38 | F1-мера = 0.54 | ROC-AUC = 0.69\n",
      "Порог = 0.75 | Точность = 0.94 | Полнота = 0.32 | F1-мера = 0.47 | ROC-AUC = 0.66\n",
      "Порог = 0.80 | Точность = 0.92 | Полнота = 0.26 | F1-мера = 0.40 | ROC-AUC = 0.63\n",
      "Порог = 0.85 | Точность = 0.92 | Полнота = 0.18 | F1-мера = 0.30 | ROC-AUC = 0.59\n",
      "Порог = 0.90 | Точность = 0.98 | Полнота = 0.10 | F1-мера = 0.18 | ROC-AUC = 0.55\n",
      "\n",
      "\n",
      "Лучшие параметры: {'clf__criterion': 'gini', 'clf__max_depth': 13, 'clf__n_estimators': 60}\n",
      "На модели RandomForestClassifier лучшая F1-мера 0.67 c ROC-AUC 0.80 и порогом классификации 0.35.\n",
      "Матрица ошибок с оптимальным порогом классификации:\n",
      "[[1354  149]\n",
      " [ 126  284]]\n",
      "\n",
      "\n"
     ]
    }
   ],
   "source": [
    "# Настройка моделей МО с учетом изменения порога классификации на несбалансированной выборке\n",
    "dict_unbalanced_thr = choose_clf_threshold(grids, X_train, X_valid, y_train, y_valid)"
   ]
  },
  {
   "cell_type": "markdown",
   "id": "92077f0f",
   "metadata": {},
   "source": [
    "   **Результаты моделей и лучшие гиперпараметры на несбалансированной выборке с учетом изменения порога классификации.**"
   ]
  },
  {
   "cell_type": "code",
   "execution_count": 60,
   "id": "0fc65f0d",
   "metadata": {},
   "outputs": [
    {
     "data": {
      "text/html": [
       "<div>\n",
       "<style scoped>\n",
       "    .dataframe tbody tr th:only-of-type {\n",
       "        vertical-align: middle;\n",
       "    }\n",
       "\n",
       "    .dataframe tbody tr th {\n",
       "        vertical-align: top;\n",
       "    }\n",
       "\n",
       "    .dataframe thead th {\n",
       "        text-align: right;\n",
       "    }\n",
       "</style>\n",
       "<table border=\"1\" class=\"dataframe\">\n",
       "  <thead>\n",
       "    <tr style=\"text-align: right;\">\n",
       "      <th></th>\n",
       "      <th>Модель</th>\n",
       "      <th>Лучшие параметры модели</th>\n",
       "      <th>Лучшая F1-мера на валидационной выборке</th>\n",
       "      <th>Порог с лучшей F1-мерой</th>\n",
       "      <th>Лучшая ROC-AUC на валидационной выборке</th>\n",
       "      <th>sample</th>\n",
       "    </tr>\n",
       "  </thead>\n",
       "  <tbody>\n",
       "    <tr>\n",
       "      <th>0</th>\n",
       "      <td>LogisticRegression</td>\n",
       "      <td>{'clf__max_iter': 100, 'clf__solver': 'newton-cg'}</td>\n",
       "      <td>0.673496</td>\n",
       "      <td>0.40</td>\n",
       "      <td>0.784804</td>\n",
       "      <td>unbalanced</td>\n",
       "    </tr>\n",
       "    <tr>\n",
       "      <th>1</th>\n",
       "      <td>DecisionTreeClassifier</td>\n",
       "      <td>{'clf__criterion': 'entropy', 'clf__max_depth': 3, 'clf__splitter': 'best'}</td>\n",
       "      <td>0.649746</td>\n",
       "      <td>0.20</td>\n",
       "      <td>0.771610</td>\n",
       "      <td>unbalanced</td>\n",
       "    </tr>\n",
       "    <tr>\n",
       "      <th>2</th>\n",
       "      <td>RandomForestClassifier</td>\n",
       "      <td>{'clf__criterion': 'gini', 'clf__max_depth': 13, 'clf__n_estimators': 60}</td>\n",
       "      <td>0.673784</td>\n",
       "      <td>0.35</td>\n",
       "      <td>0.796774</td>\n",
       "      <td>unbalanced</td>\n",
       "    </tr>\n",
       "  </tbody>\n",
       "</table>\n",
       "</div>"
      ],
      "text/plain": [
       "                   Модель  \\\n",
       "0      LogisticRegression   \n",
       "1  DecisionTreeClassifier   \n",
       "2  RandomForestClassifier   \n",
       "\n",
       "                                                       Лучшие параметры модели  \\\n",
       "0                           {'clf__max_iter': 100, 'clf__solver': 'newton-cg'}   \n",
       "1  {'clf__criterion': 'entropy', 'clf__max_depth': 3, 'clf__splitter': 'best'}   \n",
       "2    {'clf__criterion': 'gini', 'clf__max_depth': 13, 'clf__n_estimators': 60}   \n",
       "\n",
       "   Лучшая F1-мера на валидационной выборке  Порог с лучшей F1-мерой  \\\n",
       "0                                 0.673496                     0.40   \n",
       "1                                 0.649746                     0.20   \n",
       "2                                 0.673784                     0.35   \n",
       "\n",
       "   Лучшая ROC-AUC на валидационной выборке      sample  \n",
       "0                                 0.784804  unbalanced  \n",
       "1                                 0.771610  unbalanced  \n",
       "2                                 0.796774  unbalanced  "
      ]
     },
     "execution_count": 60,
     "metadata": {},
     "output_type": "execute_result"
    }
   ],
   "source": [
    "# сводная таблица  с лучшими гиперпараметрами и оптимальным порогом классификации по каждой модели на несбалансированной выборке\n",
    "dict_unbalanced_thr['sample'] = 'unbalanced'\n",
    "df_unbalanced_thr = pd.DataFrame(dict_unbalanced_thr)\n",
    "df_unbalanced_thr"
   ]
  },
  {
   "cell_type": "markdown",
   "id": "56ad10b9",
   "metadata": {},
   "source": [
    "**Настройка моделей МО с учетом изменения порога классификации на увеличенной выборке.**"
   ]
  },
  {
   "cell_type": "code",
   "execution_count": 61,
   "id": "b3200bb2",
   "metadata": {},
   "outputs": [
    {
     "name": "stdout",
     "output_type": "stream",
     "text": [
      "Порог = 0.00 | Точность = 0.21 | Полнота = 1.00 | F1-мера = 0.35 | ROC-AUC = 0.50\n",
      "Порог = 0.05 | Точность = 0.22 | Полнота = 1.00 | F1-мера = 0.36 | ROC-AUC = 0.52\n",
      "Порог = 0.10 | Точность = 0.25 | Полнота = 0.99 | F1-мера = 0.39 | ROC-AUC = 0.58\n",
      "Порог = 0.15 | Точность = 0.27 | Полнота = 0.98 | F1-мера = 0.42 | ROC-AUC = 0.63\n",
      "Порог = 0.20 | Точность = 0.30 | Полнота = 0.96 | F1-мера = 0.45 | ROC-AUC = 0.67\n",
      "Порог = 0.25 | Точность = 0.32 | Полнота = 0.95 | F1-мера = 0.48 | ROC-AUC = 0.70\n",
      "Порог = 0.30 | Точность = 0.35 | Полнота = 0.93 | F1-мера = 0.51 | ROC-AUC = 0.73\n",
      "Порог = 0.35 | Точность = 0.38 | Полнота = 0.89 | F1-мера = 0.53 | ROC-AUC = 0.75\n",
      "Порог = 0.40 | Точность = 0.41 | Полнота = 0.87 | F1-мера = 0.56 | ROC-AUC = 0.76\n",
      "Порог = 0.45 | Точность = 0.44 | Полнота = 0.83 | F1-мера = 0.58 | ROC-AUC = 0.77\n",
      "Порог = 0.50 | Точность = 0.48 | Полнота = 0.81 | F1-мера = 0.61 | ROC-AUC = 0.79\n",
      "Порог = 0.55 | Точность = 0.51 | Полнота = 0.78 | F1-мера = 0.62 | ROC-AUC = 0.79\n",
      "Порог = 0.60 | Точность = 0.56 | Полнота = 0.76 | F1-мера = 0.64 | ROC-AUC = 0.80\n",
      "Порог = 0.65 | Точность = 0.62 | Полнота = 0.71 | F1-мера = 0.66 | ROC-AUC = 0.80\n",
      "Порог = 0.70 | Точность = 0.67 | Полнота = 0.66 | F1-мера = 0.67 | ROC-AUC = 0.78\n",
      "Порог = 0.75 | Точность = 0.74 | Полнота = 0.60 | F1-мера = 0.67 | ROC-AUC = 0.77\n",
      "Порог = 0.80 | Точность = 0.80 | Полнота = 0.54 | F1-мера = 0.65 | ROC-AUC = 0.75\n",
      "Порог = 0.85 | Точность = 0.85 | Полнота = 0.45 | F1-мера = 0.59 | ROC-AUC = 0.71\n",
      "Порог = 0.90 | Точность = 0.90 | Полнота = 0.33 | F1-мера = 0.48 | ROC-AUC = 0.66\n",
      "\n",
      "\n",
      "Лучшие параметры: {'clf__max_iter': 100, 'clf__solver': 'liblinear'}\n",
      "На модели LogisticRegression лучшая F1-мера 0.67 c ROC-AUC 0.77 и порогом классификации 0.75.\n",
      "Матрица ошибок с оптимальным порогом классификации:\n",
      "[[1417   86]\n",
      " [ 162  248]]\n",
      "\n",
      "\n",
      "Порог = 0.00 | Точность = 0.44 | Полнота = 0.61 | F1-мера = 0.51 | ROC-AUC = 0.70\n",
      "Порог = 0.05 | Точность = 0.44 | Полнота = 0.61 | F1-мера = 0.51 | ROC-AUC = 0.70\n",
      "Порог = 0.10 | Точность = 0.47 | Полнота = 0.61 | F1-мера = 0.53 | ROC-AUC = 0.71\n",
      "Порог = 0.15 | Точность = 0.47 | Полнота = 0.61 | F1-мера = 0.53 | ROC-AUC = 0.71\n",
      "Порог = 0.20 | Точность = 0.48 | Полнота = 0.61 | F1-мера = 0.54 | ROC-AUC = 0.72\n",
      "Порог = 0.25 | Точность = 0.48 | Полнота = 0.61 | F1-мера = 0.54 | ROC-AUC = 0.72\n",
      "Порог = 0.30 | Точность = 0.48 | Полнота = 0.61 | F1-мера = 0.54 | ROC-AUC = 0.72\n",
      "Порог = 0.35 | Точность = 0.48 | Полнота = 0.60 | F1-мера = 0.54 | ROC-AUC = 0.71\n",
      "Порог = 0.40 | Точность = 0.48 | Полнота = 0.60 | F1-мера = 0.54 | ROC-AUC = 0.71\n",
      "Порог = 0.45 | Точность = 0.49 | Полнота = 0.60 | F1-мера = 0.54 | ROC-AUC = 0.72\n",
      "Порог = 0.50 | Точность = 0.49 | Полнота = 0.60 | F1-мера = 0.54 | ROC-AUC = 0.72\n",
      "Порог = 0.55 | Точность = 0.49 | Полнота = 0.60 | F1-мера = 0.54 | ROC-AUC = 0.72\n",
      "Порог = 0.60 | Точность = 0.50 | Полнота = 0.60 | F1-мера = 0.54 | ROC-AUC = 0.72\n",
      "Порог = 0.65 | Точность = 0.50 | Полнота = 0.60 | F1-мера = 0.54 | ROC-AUC = 0.72\n",
      "Порог = 0.70 | Точность = 0.50 | Полнота = 0.60 | F1-мера = 0.54 | ROC-AUC = 0.72\n",
      "Порог = 0.75 | Точность = 0.50 | Полнота = 0.58 | F1-мера = 0.54 | ROC-AUC = 0.71\n",
      "Порог = 0.80 | Точность = 0.52 | Полнота = 0.56 | F1-мера = 0.54 | ROC-AUC = 0.71\n",
      "Порог = 0.85 | Точность = 0.54 | Полнота = 0.56 | F1-мера = 0.55 | ROC-AUC = 0.71\n",
      "Порог = 0.90 | Точность = 0.55 | Полнота = 0.53 | F1-мера = 0.54 | ROC-AUC = 0.71\n",
      "\n",
      "\n",
      "Лучшие параметры: {'clf__criterion': 'gini', 'clf__max_depth': 15, 'clf__splitter': 'best'}\n",
      "На модели DecisionTreeClassifier лучшая F1-мера 0.55 c ROC-AUC 0.71 и порогом классификации 0.85.\n",
      "Матрица ошибок с оптимальным порогом классификации:\n",
      "[[1308  195]\n",
      " [ 182  228]]\n",
      "\n",
      "\n",
      "Порог = 0.00 | Точность = 0.22 | Полнота = 1.00 | F1-мера = 0.36 | ROC-AUC = 0.50\n",
      "Порог = 0.05 | Точность = 0.27 | Полнота = 0.99 | F1-мера = 0.43 | ROC-AUC = 0.63\n",
      "Порог = 0.10 | Точность = 0.32 | Полнота = 0.95 | F1-мера = 0.48 | ROC-AUC = 0.70\n",
      "Порог = 0.15 | Точность = 0.36 | Полнота = 0.92 | F1-мера = 0.51 | ROC-AUC = 0.73\n",
      "Порог = 0.20 | Точность = 0.40 | Полнота = 0.89 | F1-мера = 0.55 | ROC-AUC = 0.76\n",
      "Порог = 0.25 | Точность = 0.42 | Полнота = 0.83 | F1-мера = 0.56 | ROC-AUC = 0.76\n",
      "Порог = 0.30 | Точность = 0.47 | Полнота = 0.80 | F1-мера = 0.59 | ROC-AUC = 0.78\n",
      "Порог = 0.35 | Точность = 0.51 | Полнота = 0.77 | F1-мера = 0.61 | ROC-AUC = 0.79\n",
      "Порог = 0.40 | Точность = 0.55 | Полнота = 0.74 | F1-мера = 0.63 | ROC-AUC = 0.79\n",
      "Порог = 0.45 | Точность = 0.61 | Полнота = 0.70 | F1-мера = 0.65 | ROC-AUC = 0.79\n",
      "Порог = 0.50 | Точность = 0.67 | Полнота = 0.69 | F1-мера = 0.68 | ROC-AUC = 0.80\n",
      "Порог = 0.55 | Точность = 0.70 | Полнота = 0.65 | F1-мера = 0.67 | ROC-AUC = 0.79\n",
      "Порог = 0.60 | Точность = 0.74 | Полнота = 0.60 | F1-мера = 0.66 | ROC-AUC = 0.77\n",
      "Порог = 0.65 | Точность = 0.79 | Полнота = 0.55 | F1-мера = 0.65 | ROC-AUC = 0.75\n",
      "Порог = 0.70 | Точность = 0.83 | Полнота = 0.49 | F1-мера = 0.62 | ROC-AUC = 0.73\n",
      "Порог = 0.75 | Точность = 0.88 | Полнота = 0.43 | F1-мера = 0.58 | ROC-AUC = 0.71\n",
      "Порог = 0.80 | Точность = 0.88 | Полнота = 0.36 | F1-мера = 0.51 | ROC-AUC = 0.67\n",
      "Порог = 0.85 | Точность = 0.90 | Полнота = 0.27 | F1-мера = 0.41 | ROC-AUC = 0.63\n",
      "Порог = 0.90 | Точность = 0.96 | Полнота = 0.18 | F1-мера = 0.30 | ROC-AUC = 0.59\n",
      "\n",
      "\n",
      "Лучшие параметры: {'clf__criterion': 'gini', 'clf__max_depth': 15, 'clf__n_estimators': 100}\n",
      "На модели RandomForestClassifier лучшая F1-мера 0.68 c ROC-AUC 0.80 и порогом классификации 0.50.\n",
      "Матрица ошибок с оптимальным порогом классификации:\n",
      "[[1366  137]\n",
      " [ 129  281]]\n",
      "\n",
      "\n"
     ]
    }
   ],
   "source": [
    "# Настройка моделей МО с учетом изменения порога классификации на увеличенной выборке\n",
    "dict_enlarged_thr = choose_clf_threshold(grids, X_train_up, X_valid, y_train_up, y_valid)"
   ]
  },
  {
   "cell_type": "markdown",
   "id": "e69dc0b2",
   "metadata": {},
   "source": [
    "   **Результаты моделей и лучшие гиперпараметры на увеличенной выборке с учетом изменения порога классификации.**"
   ]
  },
  {
   "cell_type": "code",
   "execution_count": 62,
   "id": "85bead33",
   "metadata": {},
   "outputs": [
    {
     "data": {
      "text/html": [
       "<div>\n",
       "<style scoped>\n",
       "    .dataframe tbody tr th:only-of-type {\n",
       "        vertical-align: middle;\n",
       "    }\n",
       "\n",
       "    .dataframe tbody tr th {\n",
       "        vertical-align: top;\n",
       "    }\n",
       "\n",
       "    .dataframe thead th {\n",
       "        text-align: right;\n",
       "    }\n",
       "</style>\n",
       "<table border=\"1\" class=\"dataframe\">\n",
       "  <thead>\n",
       "    <tr style=\"text-align: right;\">\n",
       "      <th></th>\n",
       "      <th>Модель</th>\n",
       "      <th>Лучшие параметры модели</th>\n",
       "      <th>Лучшая F1-мера на валидационной выборке</th>\n",
       "      <th>Порог с лучшей F1-мерой</th>\n",
       "      <th>Лучшая ROC-AUC на валидационной выборке</th>\n",
       "      <th>sample</th>\n",
       "    </tr>\n",
       "  </thead>\n",
       "  <tbody>\n",
       "    <tr>\n",
       "      <th>0</th>\n",
       "      <td>LogisticRegression</td>\n",
       "      <td>{'clf__max_iter': 100, 'clf__solver': 'liblinear'}</td>\n",
       "      <td>0.666667</td>\n",
       "      <td>0.75</td>\n",
       "      <td>0.773830</td>\n",
       "      <td>enlarged</td>\n",
       "    </tr>\n",
       "    <tr>\n",
       "      <th>1</th>\n",
       "      <td>DecisionTreeClassifier</td>\n",
       "      <td>{'clf__criterion': 'gini', 'clf__max_depth': 15, 'clf__splitter': 'best'}</td>\n",
       "      <td>0.547419</td>\n",
       "      <td>0.85</td>\n",
       "      <td>0.713179</td>\n",
       "      <td>enlarged</td>\n",
       "    </tr>\n",
       "    <tr>\n",
       "      <th>2</th>\n",
       "      <td>RandomForestClassifier</td>\n",
       "      <td>{'clf__criterion': 'gini', 'clf__max_depth': 15, 'clf__n_estimators': 100}</td>\n",
       "      <td>0.678744</td>\n",
       "      <td>0.50</td>\n",
       "      <td>0.797107</td>\n",
       "      <td>enlarged</td>\n",
       "    </tr>\n",
       "  </tbody>\n",
       "</table>\n",
       "</div>"
      ],
      "text/plain": [
       "                   Модель  \\\n",
       "0      LogisticRegression   \n",
       "1  DecisionTreeClassifier   \n",
       "2  RandomForestClassifier   \n",
       "\n",
       "                                                      Лучшие параметры модели  \\\n",
       "0                          {'clf__max_iter': 100, 'clf__solver': 'liblinear'}   \n",
       "1   {'clf__criterion': 'gini', 'clf__max_depth': 15, 'clf__splitter': 'best'}   \n",
       "2  {'clf__criterion': 'gini', 'clf__max_depth': 15, 'clf__n_estimators': 100}   \n",
       "\n",
       "   Лучшая F1-мера на валидационной выборке  Порог с лучшей F1-мерой  \\\n",
       "0                                 0.666667                     0.75   \n",
       "1                                 0.547419                     0.85   \n",
       "2                                 0.678744                     0.50   \n",
       "\n",
       "   Лучшая ROC-AUC на валидационной выборке    sample  \n",
       "0                                 0.773830  enlarged  \n",
       "1                                 0.713179  enlarged  \n",
       "2                                 0.797107  enlarged  "
      ]
     },
     "execution_count": 62,
     "metadata": {},
     "output_type": "execute_result"
    }
   ],
   "source": [
    "# сводная таблица  с лучшими гиперпараметрами и оптимальным порогом классификации по каждой модели на увеличенной выборке\n",
    "dict_enlarged_thr['sample'] = 'enlarged'\n",
    "df_enlarged_thr = pd.DataFrame(dict_enlarged_thr)\n",
    "df_enlarged_thr"
   ]
  },
  {
   "cell_type": "markdown",
   "id": "1c537143",
   "metadata": {},
   "source": [
    "**Настройка моделей МО с учетом изменения порога классификации на уменьшенной выборке.**"
   ]
  },
  {
   "cell_type": "code",
   "execution_count": 63,
   "id": "276151ad",
   "metadata": {},
   "outputs": [
    {
     "name": "stdout",
     "output_type": "stream",
     "text": [
      "Порог = 0.00 | Точность = 0.21 | Полнота = 1.00 | F1-мера = 0.35 | ROC-AUC = 0.50\n",
      "Порог = 0.05 | Точность = 0.22 | Полнота = 1.00 | F1-мера = 0.36 | ROC-AUC = 0.52\n",
      "Порог = 0.10 | Точность = 0.24 | Полнота = 0.99 | F1-мера = 0.39 | ROC-AUC = 0.58\n",
      "Порог = 0.15 | Точность = 0.27 | Полнота = 0.98 | F1-мера = 0.42 | ROC-AUC = 0.63\n",
      "Порог = 0.20 | Точность = 0.29 | Полнота = 0.96 | F1-мера = 0.45 | ROC-AUC = 0.67\n",
      "Порог = 0.25 | Точность = 0.33 | Полнота = 0.95 | F1-мера = 0.49 | ROC-AUC = 0.71\n",
      "Порог = 0.30 | Точность = 0.35 | Полнота = 0.93 | F1-мера = 0.51 | ROC-AUC = 0.73\n",
      "Порог = 0.35 | Точность = 0.38 | Полнота = 0.89 | F1-мера = 0.54 | ROC-AUC = 0.75\n",
      "Порог = 0.40 | Точность = 0.42 | Полнота = 0.87 | F1-мера = 0.57 | ROC-AUC = 0.77\n",
      "Порог = 0.45 | Точность = 0.45 | Полнота = 0.83 | F1-мера = 0.58 | ROC-AUC = 0.78\n",
      "Порог = 0.50 | Точность = 0.49 | Полнота = 0.80 | F1-мера = 0.61 | ROC-AUC = 0.79\n",
      "Порог = 0.55 | Точность = 0.52 | Полнота = 0.77 | F1-мера = 0.63 | ROC-AUC = 0.79\n",
      "Порог = 0.60 | Точность = 0.57 | Полнота = 0.75 | F1-мера = 0.65 | ROC-AUC = 0.80\n",
      "Порог = 0.65 | Точность = 0.62 | Полнота = 0.70 | F1-мера = 0.66 | ROC-AUC = 0.79\n",
      "Порог = 0.70 | Точность = 0.70 | Полнота = 0.64 | F1-мера = 0.67 | ROC-AUC = 0.78\n",
      "Порог = 0.75 | Точность = 0.75 | Полнота = 0.59 | F1-мера = 0.66 | ROC-AUC = 0.77\n",
      "Порог = 0.80 | Точность = 0.81 | Полнота = 0.52 | F1-мера = 0.64 | ROC-AUC = 0.75\n",
      "Порог = 0.85 | Точность = 0.86 | Полнота = 0.42 | F1-мера = 0.56 | ROC-AUC = 0.70\n",
      "Порог = 0.90 | Точность = 0.90 | Полнота = 0.30 | F1-мера = 0.45 | ROC-AUC = 0.65\n",
      "\n",
      "\n",
      "Лучшие параметры: {'clf__max_iter': 100, 'clf__solver': 'newton-cg'}\n",
      "На модели LogisticRegression лучшая F1-мера 0.67 c ROC-AUC 0.78 и порогом классификации 0.70.\n",
      "Матрица ошибок с оптимальным порогом классификации:\n",
      "[[1388  115]\n",
      " [ 146  264]]\n",
      "\n",
      "\n",
      "Порог = 0.00 | Точность = 0.22 | Полнота = 1.00 | F1-мера = 0.35 | ROC-AUC = 0.50\n",
      "Порог = 0.05 | Точность = 0.25 | Полнота = 0.98 | F1-мера = 0.40 | ROC-AUC = 0.59\n",
      "Порог = 0.10 | Точность = 0.25 | Полнота = 0.98 | F1-мера = 0.40 | ROC-AUC = 0.59\n",
      "Порог = 0.15 | Точность = 0.27 | Полнота = 0.98 | F1-мера = 0.42 | ROC-AUC = 0.62\n",
      "Порог = 0.20 | Точность = 0.27 | Полнота = 0.98 | F1-мера = 0.42 | ROC-AUC = 0.62\n",
      "Порог = 0.25 | Точность = 0.32 | Полнота = 0.93 | F1-мера = 0.48 | ROC-AUC = 0.70\n",
      "Порог = 0.30 | Точность = 0.32 | Полнота = 0.93 | F1-мера = 0.48 | ROC-AUC = 0.70\n",
      "Порог = 0.35 | Точность = 0.32 | Полнота = 0.93 | F1-мера = 0.48 | ROC-AUC = 0.70\n",
      "Порог = 0.40 | Точность = 0.48 | Полнота = 0.80 | F1-мера = 0.60 | ROC-AUC = 0.78\n",
      "Порог = 0.45 | Точность = 0.48 | Полнота = 0.80 | F1-мера = 0.60 | ROC-AUC = 0.78\n",
      "Порог = 0.50 | Точность = 0.48 | Полнота = 0.80 | F1-мера = 0.60 | ROC-AUC = 0.78\n",
      "Порог = 0.55 | Точность = 0.48 | Полнота = 0.80 | F1-мера = 0.60 | ROC-AUC = 0.78\n",
      "Порог = 0.60 | Точность = 0.58 | Полнота = 0.71 | F1-мера = 0.64 | ROC-AUC = 0.79\n",
      "Порог = 0.65 | Точность = 0.65 | Полнота = 0.67 | F1-мера = 0.66 | ROC-AUC = 0.79\n",
      "Порог = 0.70 | Точность = 0.73 | Полнота = 0.58 | F1-мера = 0.65 | ROC-AUC = 0.76\n",
      "Порог = 0.75 | Точность = 0.73 | Полнота = 0.58 | F1-мера = 0.65 | ROC-AUC = 0.76\n",
      "Порог = 0.80 | Точность = 0.73 | Полнота = 0.58 | F1-мера = 0.65 | ROC-AUC = 0.76\n",
      "Порог = 0.85 | Точность = 0.81 | Полнота = 0.40 | F1-мера = 0.54 | ROC-AUC = 0.69\n",
      "Порог = 0.90 | Точность = 0.87 | Полнота = 0.32 | F1-мера = 0.47 | ROC-AUC = 0.65\n",
      "\n",
      "\n",
      "Лучшие параметры: {'clf__criterion': 'gini', 'clf__max_depth': 4, 'clf__splitter': 'best'}\n",
      "На модели DecisionTreeClassifier лучшая F1-мера 0.66 c ROC-AUC 0.79 и порогом классификации 0.65.\n",
      "Матрица ошибок с оптимальным порогом классификации:\n",
      "[[1356  147]\n",
      " [ 135  275]]\n",
      "\n",
      "\n",
      "Порог = 0.00 | Точность = 0.21 | Полнота = 1.00 | F1-мера = 0.35 | ROC-AUC = 0.50\n",
      "Порог = 0.05 | Точность = 0.21 | Полнота = 1.00 | F1-мера = 0.35 | ROC-AUC = 0.50\n",
      "Порог = 0.10 | Точность = 0.21 | Полнота = 1.00 | F1-мера = 0.35 | ROC-AUC = 0.50\n",
      "Порог = 0.15 | Точность = 0.23 | Полнота = 1.00 | F1-мера = 0.37 | ROC-AUC = 0.54\n",
      "Порог = 0.20 | Точность = 0.26 | Полнота = 0.98 | F1-мера = 0.41 | ROC-AUC = 0.61\n",
      "Порог = 0.25 | Точность = 0.28 | Полнота = 0.97 | F1-мера = 0.44 | ROC-AUC = 0.65\n",
      "Порог = 0.30 | Точность = 0.30 | Полнота = 0.96 | F1-мера = 0.46 | ROC-AUC = 0.67\n",
      "Порог = 0.35 | Точность = 0.34 | Полнота = 0.93 | F1-мера = 0.50 | ROC-AUC = 0.72\n",
      "Порог = 0.40 | Точность = 0.39 | Полнота = 0.89 | F1-мера = 0.54 | ROC-AUC = 0.75\n",
      "Порог = 0.45 | Точность = 0.44 | Полнота = 0.84 | F1-мера = 0.58 | ROC-AUC = 0.78\n",
      "Порог = 0.50 | Точность = 0.52 | Полнота = 0.80 | F1-мера = 0.63 | ROC-AUC = 0.80\n",
      "Порог = 0.55 | Точность = 0.59 | Полнота = 0.74 | F1-мера = 0.66 | ROC-AUC = 0.80\n",
      "Порог = 0.60 | Точность = 0.66 | Полнота = 0.66 | F1-мера = 0.66 | ROC-AUC = 0.78\n",
      "Порог = 0.65 | Точность = 0.72 | Полнота = 0.62 | F1-мера = 0.67 | ROC-AUC = 0.78\n",
      "Порог = 0.70 | Точность = 0.76 | Полнота = 0.56 | F1-мера = 0.64 | ROC-AUC = 0.75\n",
      "Порог = 0.75 | Точность = 0.82 | Полнота = 0.50 | F1-мера = 0.62 | ROC-AUC = 0.74\n",
      "Порог = 0.80 | Точность = 0.88 | Полнота = 0.36 | F1-мера = 0.51 | ROC-AUC = 0.67\n",
      "Порог = 0.85 | Точность = 0.91 | Полнота = 0.18 | F1-мера = 0.30 | ROC-AUC = 0.59\n",
      "Порог = 0.90 | Точность = 0.95 | Полнота = 0.05 | F1-мера = 0.10 | ROC-AUC = 0.53\n",
      "\n",
      "\n",
      "Лучшие параметры: {'clf__criterion': 'gini', 'clf__max_depth': 5, 'clf__n_estimators': 100}\n",
      "На модели RandomForestClassifier лучшая F1-мера 0.67 c ROC-AUC 0.78 и порогом классификации 0.65.\n",
      "Матрица ошибок с оптимальным порогом классификации:\n",
      "[[1406   97]\n",
      " [ 156  254]]\n",
      "\n",
      "\n"
     ]
    }
   ],
   "source": [
    "# Настройка моделей МО с учетом изменения порога классификации на уменьшенной выборке\n",
    "dict_reduced_thr = choose_clf_threshold(grids, X_train_dn, X_valid, y_train_dn, y_valid)"
   ]
  },
  {
   "cell_type": "markdown",
   "id": "67da019b",
   "metadata": {},
   "source": [
    "   **Результаты моделей и лучшие гиперпараметры на уменьшенной выборке с учетом изменения порога классификации.**"
   ]
  },
  {
   "cell_type": "code",
   "execution_count": 64,
   "id": "34c88cab",
   "metadata": {},
   "outputs": [
    {
     "data": {
      "text/html": [
       "<div>\n",
       "<style scoped>\n",
       "    .dataframe tbody tr th:only-of-type {\n",
       "        vertical-align: middle;\n",
       "    }\n",
       "\n",
       "    .dataframe tbody tr th {\n",
       "        vertical-align: top;\n",
       "    }\n",
       "\n",
       "    .dataframe thead th {\n",
       "        text-align: right;\n",
       "    }\n",
       "</style>\n",
       "<table border=\"1\" class=\"dataframe\">\n",
       "  <thead>\n",
       "    <tr style=\"text-align: right;\">\n",
       "      <th></th>\n",
       "      <th>Модель</th>\n",
       "      <th>Лучшие параметры модели</th>\n",
       "      <th>Лучшая F1-мера на валидационной выборке</th>\n",
       "      <th>Порог с лучшей F1-мерой</th>\n",
       "      <th>Лучшая ROC-AUC на валидационной выборке</th>\n",
       "      <th>sample</th>\n",
       "    </tr>\n",
       "  </thead>\n",
       "  <tbody>\n",
       "    <tr>\n",
       "      <th>0</th>\n",
       "      <td>LogisticRegression</td>\n",
       "      <td>{'clf__max_iter': 100, 'clf__solver': 'newton-cg'}</td>\n",
       "      <td>0.669202</td>\n",
       "      <td>0.70</td>\n",
       "      <td>0.783694</td>\n",
       "      <td>reduced</td>\n",
       "    </tr>\n",
       "    <tr>\n",
       "      <th>1</th>\n",
       "      <td>DecisionTreeClassifier</td>\n",
       "      <td>{'clf__criterion': 'gini', 'clf__max_depth': 4, 'clf__splitter': 'best'}</td>\n",
       "      <td>0.661058</td>\n",
       "      <td>0.65</td>\n",
       "      <td>0.786464</td>\n",
       "      <td>reduced</td>\n",
       "    </tr>\n",
       "    <tr>\n",
       "      <th>2</th>\n",
       "      <td>RandomForestClassifier</td>\n",
       "      <td>{'clf__criterion': 'gini', 'clf__max_depth': 5, 'clf__n_estimators': 100}</td>\n",
       "      <td>0.667543</td>\n",
       "      <td>0.65</td>\n",
       "      <td>0.777487</td>\n",
       "      <td>reduced</td>\n",
       "    </tr>\n",
       "  </tbody>\n",
       "</table>\n",
       "</div>"
      ],
      "text/plain": [
       "                   Модель  \\\n",
       "0      LogisticRegression   \n",
       "1  DecisionTreeClassifier   \n",
       "2  RandomForestClassifier   \n",
       "\n",
       "                                                     Лучшие параметры модели  \\\n",
       "0                         {'clf__max_iter': 100, 'clf__solver': 'newton-cg'}   \n",
       "1   {'clf__criterion': 'gini', 'clf__max_depth': 4, 'clf__splitter': 'best'}   \n",
       "2  {'clf__criterion': 'gini', 'clf__max_depth': 5, 'clf__n_estimators': 100}   \n",
       "\n",
       "   Лучшая F1-мера на валидационной выборке  Порог с лучшей F1-мерой  \\\n",
       "0                                 0.669202                     0.70   \n",
       "1                                 0.661058                     0.65   \n",
       "2                                 0.667543                     0.65   \n",
       "\n",
       "   Лучшая ROC-AUC на валидационной выборке   sample  \n",
       "0                                 0.783694  reduced  \n",
       "1                                 0.786464  reduced  \n",
       "2                                 0.777487  reduced  "
      ]
     },
     "execution_count": 64,
     "metadata": {},
     "output_type": "execute_result"
    }
   ],
   "source": [
    "# сводная таблица  с лучшими гиперпараметрами и оптимальным порогом классификации по каждой модели на уменьшенной выборке\n",
    "dict_reduced_thr['sample'] = 'reduced'\n",
    "df_reduced_thr = pd.DataFrame(dict_reduced_thr)\n",
    "df_reduced_thr"
   ]
  },
  {
   "cell_type": "markdown",
   "id": "968bd3bb",
   "metadata": {},
   "source": [
    "- При увеличении порога классификации у моделе МО показатель precision существенно растет, а recall существенно падает. Это справедливо для всех выборок и моделей, кроме одного случая: модель \"DecisionTreeClassifier\" с увеличенной выборкой. В этом случае при изменении порога от 0 до 0.9 precision находится в диапазоне от 0.44 до 0.55, а recall  в диапазоне от 0.53 до 0.61\n",
    "- Модель \"LogisticRegression\" достигла наилучшей F1-меры 0.67 на всех выборках, но с различными порогами классификации.\n",
    "- Модель \"DecisionTreeClassifier\" показала наилучшую F1-меру 0.66 на уменьшенной выборке с порогом классификации 0.65\n",
    "- Модель \"RandomForestClassifier\" имеет наилучшую F1-меру 0.68 на увеличенной выборке с порогом классификации 0.50.\n",
    "- Из \"confusion matrix\" видно, что объекты \"False Positive\" и \"False Negative\" количественно примерно выравниваются, наибольшая разница у модели \"LogisticRegression\". Без подбора оптимального порога сдвиг в распределении был явно почти во всех случаях в сторону \"False Positive\". \n",
    "- При оптимизации порога для достижения наилучшей F1-меры во всех случаях и для всех моделей ROC-AUC меньше уровня 0.80. То есть с подбором порога для лучшей F1-меры ROC-AUC снижается, в отличие от вариантов с порогом по умолчанию.\n",
    "- При несбалансированной выборке оптимальный порог для всех моделей ниже 0.5, на изменных выборках лучшая F1-мера на пороге 0.5 и выше.\n",
    "\n",
    "\n",
    "**Сведем лучшие результаты моделей с учетом изменения порога классификации:**"
   ]
  },
  {
   "cell_type": "code",
   "execution_count": 65,
   "id": "80644f5d",
   "metadata": {},
   "outputs": [],
   "source": [
    "# объединение таблиц в общую по разным выборкам с оптимальным порогом классификации в общую\n",
    "df_general_model_thr = pd.concat([df_unbalanced_thr, df_enlarged_thr, df_reduced_thr], axis=0)"
   ]
  },
  {
   "cell_type": "code",
   "execution_count": 66,
   "id": "4f132cff",
   "metadata": {},
   "outputs": [
    {
     "data": {
      "text/html": [
       "<div>\n",
       "<style scoped>\n",
       "    .dataframe tbody tr th:only-of-type {\n",
       "        vertical-align: middle;\n",
       "    }\n",
       "\n",
       "    .dataframe tbody tr th {\n",
       "        vertical-align: top;\n",
       "    }\n",
       "\n",
       "    .dataframe thead th {\n",
       "        text-align: right;\n",
       "    }\n",
       "</style>\n",
       "<table border=\"1\" class=\"dataframe\">\n",
       "  <thead>\n",
       "    <tr style=\"text-align: right;\">\n",
       "      <th></th>\n",
       "      <th>Модель</th>\n",
       "      <th>Лучшие параметры модели</th>\n",
       "      <th>Лучшая F1-мера на валидационной выборке</th>\n",
       "      <th>Порог с лучшей F1-мерой</th>\n",
       "      <th>Лучшая ROC-AUC на валидационной выборке</th>\n",
       "      <th>sample</th>\n",
       "    </tr>\n",
       "  </thead>\n",
       "  <tbody>\n",
       "    <tr>\n",
       "      <th>0</th>\n",
       "      <td>LogisticRegression</td>\n",
       "      <td>{'clf__max_iter': 100, 'clf__solver': 'newton-cg'}</td>\n",
       "      <td>0.673496</td>\n",
       "      <td>0.40</td>\n",
       "      <td>0.784804</td>\n",
       "      <td>unbalanced</td>\n",
       "    </tr>\n",
       "    <tr>\n",
       "      <th>1</th>\n",
       "      <td>DecisionTreeClassifier</td>\n",
       "      <td>{'clf__criterion': 'gini', 'clf__max_depth': 4, 'clf__splitter': 'best'}</td>\n",
       "      <td>0.661058</td>\n",
       "      <td>0.65</td>\n",
       "      <td>0.786464</td>\n",
       "      <td>reduced</td>\n",
       "    </tr>\n",
       "    <tr>\n",
       "      <th>2</th>\n",
       "      <td>RandomForestClassifier</td>\n",
       "      <td>{'clf__criterion': 'gini', 'clf__max_depth': 15, 'clf__n_estimators': 100}</td>\n",
       "      <td>0.678744</td>\n",
       "      <td>0.50</td>\n",
       "      <td>0.797107</td>\n",
       "      <td>enlarged</td>\n",
       "    </tr>\n",
       "  </tbody>\n",
       "</table>\n",
       "</div>"
      ],
      "text/plain": [
       "                   Модель  \\\n",
       "0      LogisticRegression   \n",
       "1  DecisionTreeClassifier   \n",
       "2  RandomForestClassifier   \n",
       "\n",
       "                                                      Лучшие параметры модели  \\\n",
       "0                          {'clf__max_iter': 100, 'clf__solver': 'newton-cg'}   \n",
       "1    {'clf__criterion': 'gini', 'clf__max_depth': 4, 'clf__splitter': 'best'}   \n",
       "2  {'clf__criterion': 'gini', 'clf__max_depth': 15, 'clf__n_estimators': 100}   \n",
       "\n",
       "   Лучшая F1-мера на валидационной выборке  Порог с лучшей F1-мерой  \\\n",
       "0                                 0.673496                     0.40   \n",
       "1                                 0.661058                     0.65   \n",
       "2                                 0.678744                     0.50   \n",
       "\n",
       "   Лучшая ROC-AUC на валидационной выборке      sample  \n",
       "0                                 0.784804  unbalanced  \n",
       "1                                 0.786464     reduced  \n",
       "2                                 0.797107    enlarged  "
      ]
     },
     "execution_count": 66,
     "metadata": {},
     "output_type": "execute_result"
    }
   ],
   "source": [
    "# сведение в таблицу каждой модели с лучшими результатами F1-меры и оптимальным порогом классификации\n",
    "df_general_best_thr = (df_general_model_thr.groupby(['Модель'], as_index=False)\n",
    ".apply(lambda x: x.nlargest(1, ['Лучшая F1-мера на валидационной выборке']))\n",
    ".reset_index(level=0, drop=True)).sort_index()\n",
    "\n",
    "df_general_best_thr"
   ]
  },
  {
   "cell_type": "markdown",
   "id": "b1386d14",
   "metadata": {},
   "source": [
    "<div class=\"alert alert-block alert-info\">\n",
    "<b>Комментарий студента:</b> изменения:\n",
    "    \n",
    "     - confusion matrix рассмотрел\n",
    "     - значения F1, AUC-ROC в таблицы сохранил\n",
    "     - данные в таблицу заносятся в словарь внутри функции"
   ]
  },
  {
   "cell_type": "markdown",
   "id": "6ea62717",
   "metadata": {},
   "source": [
    "## Шаг 4. Финальное тестирование моделей МО."
   ]
  },
  {
   "cell_type": "markdown",
   "id": "83a0ddae",
   "metadata": {},
   "source": [
    "Проведем тестирование каждой модели с учетом ранее проведенного исследования на лучших гиперпараметрах. При этом подсчитаем время работы каждой модели.\n",
    "\n",
    "Создадим функцию, которая принимает аргументами: классификатор, нименование модели, тренировочную и тестовую выборки, порог классификации. Внутри функции подсчитываются основные метрики и строится ROC-кривая."
   ]
  },
  {
   "cell_type": "code",
   "execution_count": 67,
   "id": "7e821c2e",
   "metadata": {},
   "outputs": [],
   "source": [
    "# создание функции для тестирования модели МО\n",
    "def choose_model_test(list_grids, feature_tr, target_tr, feature_tst, target_tst, thresh):\n",
    "    best_model_params = {'Модель' : [],\n",
    "                        'Лучшие параметры модели' : [],\n",
    "                        'Лучшая F1-мера на тестовой выборке' : [],\n",
    "                        'Порог с лучшей F1-мерой' : [],\n",
    "                        'Лучшая ROC-AUC на тестовой выборке' : []}\n",
    "    for idx, gs in enumerate(list_grids):\n",
    "        gs.fit(feature_tr, target_tr)\n",
    "        print('Лучшие параметры модели:', gs.best_params_)\n",
    "        probabilities_tst = gs.predict_proba(feature_tst)\n",
    "        probabilities_one_tst = probabilities_tst[:, 1]\n",
    "        predicted_tst = probabilities_one_tst > thresh[idx]\n",
    "        precision = precision_score(target_tst, predicted_tst)\n",
    "        recall = recall_score(target_tst, predicted_tst)\n",
    "        f1 = f1_score(target_tst, predicted_tst)\n",
    "        roc_auc = roc_auc_score(target_tst, probabilities_one_tst)\n",
    "        print('Метрики для модели {} на тестовой выборке c порогом классификации {:.2f}: precision {:.2f}, recall {:.2f}, '\n",
    "        'F1-мера {:.2f}, ROC-AUC-мера {:.2f}.'.format(grid_dict[idx], thresh[idx], precision, recall, f1, roc_auc))\n",
    "        print('Матрица ошибок с оптимальным порогом классификации на тестовой выборке:')\n",
    "        print(confusion_matrix(target_tst, predicted_tst))\n",
    "        best_model_params['Модель'].append(grid_dict[idx])\n",
    "        best_model_params['Лучшие параметры модели'].append(gs.best_params_)\n",
    "        best_model_params['Лучшая F1-мера на тестовой выборке'].append(f1)\n",
    "        best_model_params['Порог с лучшей F1-мерой'].append(thresh[idx])\n",
    "        best_model_params['Лучшая ROC-AUC на тестовой выборке'].append(roc_auc)\n",
    "        fpr, tpr, thresholds = roc_curve(target_tst, probabilities_one_tst)\n",
    "        plt.figure(figsize=(6,6))\n",
    "        plt.plot(fpr, tpr)\n",
    "        plt.plot([0,1], [0,1], linestyle='--')\n",
    "        plt.xlim([0.0, 1.0])\n",
    "        plt.ylim([0.0, 1.0])\n",
    "        plt.xlabel('False Posive Rate')\n",
    "        plt.ylabel('True Posive Rate')\n",
    "        plt.title('ROC-кривая {}'.format(grid_dict[idx]))\n",
    "        plt.show() \n",
    "    return best_model_params"
   ]
  },
  {
   "cell_type": "code",
   "execution_count": 68,
   "id": "4752fb6d",
   "metadata": {},
   "outputs": [
    {
     "name": "stdout",
     "output_type": "stream",
     "text": [
      "Лучшие параметры модели: {'clf__max_iter': 100, 'clf__solver': 'newton-cg'}\n",
      "Метрики для модели LogisticRegression на тестовой выборке c порогом классификации 0.40: precision 0.66, recall 0.58, F1-мера 0.61, ROC-AUC-мера 0.86.\n",
      "Матрица ошибок с оптимальным порогом классификации на тестовой выборке:\n",
      "[[1375  124]\n",
      " [ 175  238]]\n"
     ]
    },
    {
     "data": {
      "image/png": "[encoded data removed]",
      "text/plain": [
       "<Figure size 432x432 with 1 Axes>"
      ]
     },
     "metadata": {},
     "output_type": "display_data"
    },
    {
     "name": "stdout",
     "output_type": "stream",
     "text": [
      "Лучшие параметры модели: {'clf__criterion': 'entropy', 'clf__max_depth': 3, 'clf__splitter': 'best'}\n",
      "Метрики для модели DecisionTreeClassifier на тестовой выборке c порогом классификации 0.20: precision 0.63, recall 0.57, F1-мера 0.59, ROC-AUC-мера 0.81.\n",
      "Матрица ошибок с оптимальным порогом классификации на тестовой выборке:\n",
      "[[1359  140]\n",
      " [ 179  234]]\n"
     ]
    },
    {
     "data": {
      "image/png": "[encoded data removed]",
      "text/plain": [
       "<Figure size 432x432 with 1 Axes>"
      ]
     },
     "metadata": {},
     "output_type": "display_data"
    },
    {
     "name": "stdout",
     "output_type": "stream",
     "text": [
      "Лучшие параметры модели: {'clf__criterion': 'gini', 'clf__max_depth': 13, 'clf__n_estimators': 60}\n",
      "Метрики для модели RandomForestClassifier на тестовой выборке c порогом классификации 0.35: precision 0.65, recall 0.66, F1-мера 0.65, ROC-AUC-мера 0.86.\n",
      "Матрица ошибок с оптимальным порогом классификации на тестовой выборке:\n",
      "[[1349  150]\n",
      " [ 140  273]]\n"
     ]
    },
    {
     "data": {
      "image/png": "[encoded data removed]",
      "text/plain": [
       "<Figure size 432x432 with 1 Axes>"
      ]
     },
     "metadata": {},
     "output_type": "display_data"
    },
    {
     "name": "stdout",
     "output_type": "stream",
     "text": [
      "Wall time: 1min 3s\n"
     ]
    }
   ],
   "source": [
    "%%time\n",
    "# вызов функции тестирования для моделей с оптимальным порогом на несбалансированной выборке\n",
    "dict_unbalanced_test = choose_model_test(grids, X_train, y_train, X_test, y_test, df_unbalanced_thr['Порог с лучшей F1-мерой'])"
   ]
  },
  {
   "cell_type": "markdown",
   "id": "ffa520e2",
   "metadata": {},
   "source": [
    "   **Результаты тестирования моделей на несбалансированной выборке с оптимальным порогом классификации.**"
   ]
  },
  {
   "cell_type": "code",
   "execution_count": 69,
   "id": "974662ef",
   "metadata": {},
   "outputs": [
    {
     "data": {
      "text/html": [
       "<div>\n",
       "<style scoped>\n",
       "    .dataframe tbody tr th:only-of-type {\n",
       "        vertical-align: middle;\n",
       "    }\n",
       "\n",
       "    .dataframe tbody tr th {\n",
       "        vertical-align: top;\n",
       "    }\n",
       "\n",
       "    .dataframe thead th {\n",
       "        text-align: right;\n",
       "    }\n",
       "</style>\n",
       "<table border=\"1\" class=\"dataframe\">\n",
       "  <thead>\n",
       "    <tr style=\"text-align: right;\">\n",
       "      <th></th>\n",
       "      <th>Модель</th>\n",
       "      <th>Лучшие параметры модели</th>\n",
       "      <th>Лучшая F1-мера на тестовой выборке</th>\n",
       "      <th>Порог с лучшей F1-мерой</th>\n",
       "      <th>Лучшая ROC-AUC на тестовой выборке</th>\n",
       "      <th>sample</th>\n",
       "    </tr>\n",
       "  </thead>\n",
       "  <tbody>\n",
       "    <tr>\n",
       "      <th>0</th>\n",
       "      <td>LogisticRegression</td>\n",
       "      <td>{'clf__max_iter': 100, 'clf__solver': 'newton-cg'}</td>\n",
       "      <td>0.614194</td>\n",
       "      <td>0.40</td>\n",
       "      <td>0.862439</td>\n",
       "      <td>unbalanced</td>\n",
       "    </tr>\n",
       "    <tr>\n",
       "      <th>1</th>\n",
       "      <td>DecisionTreeClassifier</td>\n",
       "      <td>{'clf__criterion': 'entropy', 'clf__max_depth': 3, 'clf__splitter': 'best'}</td>\n",
       "      <td>0.594663</td>\n",
       "      <td>0.20</td>\n",
       "      <td>0.807129</td>\n",
       "      <td>unbalanced</td>\n",
       "    </tr>\n",
       "    <tr>\n",
       "      <th>2</th>\n",
       "      <td>RandomForestClassifier</td>\n",
       "      <td>{'clf__criterion': 'gini', 'clf__max_depth': 13, 'clf__n_estimators': 60}</td>\n",
       "      <td>0.653110</td>\n",
       "      <td>0.35</td>\n",
       "      <td>0.863921</td>\n",
       "      <td>unbalanced</td>\n",
       "    </tr>\n",
       "  </tbody>\n",
       "</table>\n",
       "</div>"
      ],
      "text/plain": [
       "                   Модель  \\\n",
       "0      LogisticRegression   \n",
       "1  DecisionTreeClassifier   \n",
       "2  RandomForestClassifier   \n",
       "\n",
       "                                                       Лучшие параметры модели  \\\n",
       "0                           {'clf__max_iter': 100, 'clf__solver': 'newton-cg'}   \n",
       "1  {'clf__criterion': 'entropy', 'clf__max_depth': 3, 'clf__splitter': 'best'}   \n",
       "2    {'clf__criterion': 'gini', 'clf__max_depth': 13, 'clf__n_estimators': 60}   \n",
       "\n",
       "   Лучшая F1-мера на тестовой выборке  Порог с лучшей F1-мерой  \\\n",
       "0                            0.614194                     0.40   \n",
       "1                            0.594663                     0.20   \n",
       "2                            0.653110                     0.35   \n",
       "\n",
       "   Лучшая ROC-AUC на тестовой выборке      sample  \n",
       "0                            0.862439  unbalanced  \n",
       "1                            0.807129  unbalanced  \n",
       "2                            0.863921  unbalanced  "
      ]
     },
     "execution_count": 69,
     "metadata": {},
     "output_type": "execute_result"
    }
   ],
   "source": [
    "# сводная тестовая таблица с оптимальными параметрами по каждой модели на несбалансированной выборке\n",
    "dict_unbalanced_test['sample'] = 'unbalanced'\n",
    "df_unbalanced_test = pd.DataFrame(dict_unbalanced_test)\n",
    "df_unbalanced_test"
   ]
  },
  {
   "cell_type": "code",
   "execution_count": 70,
   "id": "80872a24",
   "metadata": {},
   "outputs": [
    {
     "name": "stdout",
     "output_type": "stream",
     "text": [
      "Лучшие параметры модели: {'clf__max_iter': 100, 'clf__solver': 'liblinear'}\n",
      "Метрики для модели LogisticRegression на тестовой выборке c порогом классификации 0.75: precision 0.69, recall 0.54, F1-мера 0.61, ROC-AUC-мера 0.86.\n",
      "Матрица ошибок с оптимальным порогом классификации на тестовой выборке:\n",
      "[[1397  102]\n",
      " [ 189  224]]\n"
     ]
    },
    {
     "data": {
      "image/png": "[encoded data removed]",
      "text/plain": [
       "<Figure size 432x432 with 1 Axes>"
      ]
     },
     "metadata": {},
     "output_type": "display_data"
    },
    {
     "name": "stdout",
     "output_type": "stream",
     "text": [
      "Лучшие параметры модели: {'clf__criterion': 'gini', 'clf__max_depth': 15, 'clf__splitter': 'best'}\n",
      "Метрики для модели DecisionTreeClassifier на тестовой выборке c порогом классификации 0.85: precision 0.55, recall 0.58, F1-мера 0.56, ROC-AUC-мера 0.74.\n",
      "Матрица ошибок с оптимальным порогом классификации на тестовой выборке:\n",
      "[[1304  195]\n",
      " [ 175  238]]\n"
     ]
    },
    {
     "data": {
      "image/png": "[encoded data removed]",
      "text/plain": [
       "<Figure size 432x432 with 1 Axes>"
      ]
     },
     "metadata": {},
     "output_type": "display_data"
    },
    {
     "name": "stdout",
     "output_type": "stream",
     "text": [
      "Лучшие параметры модели: {'clf__criterion': 'gini', 'clf__max_depth': 15, 'clf__n_estimators': 100}\n",
      "Метрики для модели RandomForestClassifier на тестовой выборке c порогом классификации 0.50: precision 0.66, recall 0.66, F1-мера 0.66, ROC-AUC-мера 0.86.\n",
      "Матрица ошибок с оптимальным порогом классификации на тестовой выборке:\n",
      "[[1361  138]\n",
      " [ 142  271]]\n"
     ]
    },
    {
     "data": {
      "image/png": "[encoded data removed]",
      "text/plain": [
       "<Figure size 432x432 with 1 Axes>"
      ]
     },
     "metadata": {},
     "output_type": "display_data"
    },
    {
     "name": "stdout",
     "output_type": "stream",
     "text": [
      "Wall time: 1min 33s\n"
     ]
    }
   ],
   "source": [
    "%%time\n",
    "# вызов функции тестирования для моделей с оптимальным порогом на увеличенной выборке\n",
    "dict_enlarged_test = choose_model_test(grids, X_train_up, y_train_up, X_test, y_test, \n",
    "                                       df_enlarged_thr['Порог с лучшей F1-мерой'])"
   ]
  },
  {
   "cell_type": "markdown",
   "id": "9ac352bd",
   "metadata": {},
   "source": [
    "   **Результаты тестирования моделей на увеличенной выборке с оптимальным порогом классификации.**"
   ]
  },
  {
   "cell_type": "code",
   "execution_count": 71,
   "id": "67c70771",
   "metadata": {},
   "outputs": [
    {
     "data": {
      "text/html": [
       "<div>\n",
       "<style scoped>\n",
       "    .dataframe tbody tr th:only-of-type {\n",
       "        vertical-align: middle;\n",
       "    }\n",
       "\n",
       "    .dataframe tbody tr th {\n",
       "        vertical-align: top;\n",
       "    }\n",
       "\n",
       "    .dataframe thead th {\n",
       "        text-align: right;\n",
       "    }\n",
       "</style>\n",
       "<table border=\"1\" class=\"dataframe\">\n",
       "  <thead>\n",
       "    <tr style=\"text-align: right;\">\n",
       "      <th></th>\n",
       "      <th>Модель</th>\n",
       "      <th>Лучшие параметры модели</th>\n",
       "      <th>Лучшая F1-мера на тестовой выборке</th>\n",
       "      <th>Порог с лучшей F1-мерой</th>\n",
       "      <th>Лучшая ROC-AUC на тестовой выборке</th>\n",
       "      <th>sample</th>\n",
       "    </tr>\n",
       "  </thead>\n",
       "  <tbody>\n",
       "    <tr>\n",
       "      <th>0</th>\n",
       "      <td>LogisticRegression</td>\n",
       "      <td>{'clf__max_iter': 100, 'clf__solver': 'liblinear'}</td>\n",
       "      <td>0.606225</td>\n",
       "      <td>0.75</td>\n",
       "      <td>0.862767</td>\n",
       "      <td>enlarged</td>\n",
       "    </tr>\n",
       "    <tr>\n",
       "      <th>1</th>\n",
       "      <td>DecisionTreeClassifier</td>\n",
       "      <td>{'clf__criterion': 'gini', 'clf__max_depth': 15, 'clf__splitter': 'best'}</td>\n",
       "      <td>0.562648</td>\n",
       "      <td>0.85</td>\n",
       "      <td>0.742361</td>\n",
       "      <td>enlarged</td>\n",
       "    </tr>\n",
       "    <tr>\n",
       "      <th>2</th>\n",
       "      <td>RandomForestClassifier</td>\n",
       "      <td>{'clf__criterion': 'gini', 'clf__max_depth': 15, 'clf__n_estimators': 100}</td>\n",
       "      <td>0.659367</td>\n",
       "      <td>0.50</td>\n",
       "      <td>0.861056</td>\n",
       "      <td>enlarged</td>\n",
       "    </tr>\n",
       "  </tbody>\n",
       "</table>\n",
       "</div>"
      ],
      "text/plain": [
       "                   Модель  \\\n",
       "0      LogisticRegression   \n",
       "1  DecisionTreeClassifier   \n",
       "2  RandomForestClassifier   \n",
       "\n",
       "                                                      Лучшие параметры модели  \\\n",
       "0                          {'clf__max_iter': 100, 'clf__solver': 'liblinear'}   \n",
       "1   {'clf__criterion': 'gini', 'clf__max_depth': 15, 'clf__splitter': 'best'}   \n",
       "2  {'clf__criterion': 'gini', 'clf__max_depth': 15, 'clf__n_estimators': 100}   \n",
       "\n",
       "   Лучшая F1-мера на тестовой выборке  Порог с лучшей F1-мерой  \\\n",
       "0                            0.606225                     0.75   \n",
       "1                            0.562648                     0.85   \n",
       "2                            0.659367                     0.50   \n",
       "\n",
       "   Лучшая ROC-AUC на тестовой выборке    sample  \n",
       "0                            0.862767  enlarged  \n",
       "1                            0.742361  enlarged  \n",
       "2                            0.861056  enlarged  "
      ]
     },
     "execution_count": 71,
     "metadata": {},
     "output_type": "execute_result"
    }
   ],
   "source": [
    "# сводная тестовая таблица с оптимальными параметрами по каждой модели на увеличенной выборке\n",
    "dict_enlarged_test['sample'] = 'enlarged'\n",
    "df_enlarged_test = pd.DataFrame(dict_enlarged_test)\n",
    "df_enlarged_test"
   ]
  },
  {
   "cell_type": "code",
   "execution_count": 72,
   "id": "f778ebf3",
   "metadata": {},
   "outputs": [
    {
     "name": "stdout",
     "output_type": "stream",
     "text": [
      "Лучшие параметры модели: {'clf__max_iter': 100, 'clf__solver': 'newton-cg'}\n",
      "Метрики для модели LogisticRegression на тестовой выборке c порогом классификации 0.70: precision 0.65, recall 0.58, F1-мера 0.62, ROC-AUC-мера 0.86.\n",
      "Матрица ошибок с оптимальным порогом классификации на тестовой выборке:\n",
      "[[1371  128]\n",
      " [ 172  241]]\n"
     ]
    },
    {
     "data": {
      "image/png": "[encoded data removed]",
      "text/plain": [
       "<Figure size 432x432 with 1 Axes>"
      ]
     },
     "metadata": {},
     "output_type": "display_data"
    },
    {
     "name": "stdout",
     "output_type": "stream",
     "text": [
      "Лучшие параметры модели: {'clf__criterion': 'gini', 'clf__max_depth': 4, 'clf__splitter': 'best'}\n",
      "Метрики для модели DecisionTreeClassifier на тестовой выборке c порогом классификации 0.65: precision 0.59, recall 0.60, F1-мера 0.59, ROC-AUC-мера 0.83.\n",
      "Матрица ошибок с оптимальным порогом классификации на тестовой выборке:\n",
      "[[1327  172]\n",
      " [ 166  247]]\n"
     ]
    },
    {
     "data": {
      "image/png": "[encoded data removed]",
      "text/plain": [
       "<Figure size 432x432 with 1 Axes>"
      ]
     },
     "metadata": {},
     "output_type": "display_data"
    },
    {
     "name": "stdout",
     "output_type": "stream",
     "text": [
      "Лучшие параметры модели: {'clf__criterion': 'gini', 'clf__max_depth': 5, 'clf__n_estimators': 100}\n",
      "Метрики для модели RandomForestClassifier на тестовой выборке c порогом классификации 0.65: precision 0.67, recall 0.55, F1-мера 0.60, ROC-AUC-мера 0.86.\n",
      "Матрица ошибок с оптимальным порогом классификации на тестовой выборке:\n",
      "[[1390  109]\n",
      " [ 187  226]]\n"
     ]
    },
    {
     "data": {
      "image/png": "[encoded data removed]",
      "text/plain": [
       "<Figure size 432x432 with 1 Axes>"
      ]
     },
     "metadata": {},
     "output_type": "display_data"
    },
    {
     "name": "stdout",
     "output_type": "stream",
     "text": [
      "Wall time: 42.9 s\n"
     ]
    }
   ],
   "source": [
    "%%time\n",
    "# вызов функции тестирования для моделей с оптимальным порогом на уменьшенной выборке\n",
    "dict_reduced_test = choose_model_test(grids, X_train_dn, y_train_dn, X_test, y_test, df_reduced_thr['Порог с лучшей F1-мерой'])"
   ]
  },
  {
   "cell_type": "markdown",
   "id": "ddc215a6",
   "metadata": {},
   "source": [
    "   **Результаты тестирования моделей на уменьшенной выборке с оптимальным порогом классификации.**"
   ]
  },
  {
   "cell_type": "code",
   "execution_count": 73,
   "id": "bad646da",
   "metadata": {},
   "outputs": [
    {
     "data": {
      "text/html": [
       "<div>\n",
       "<style scoped>\n",
       "    .dataframe tbody tr th:only-of-type {\n",
       "        vertical-align: middle;\n",
       "    }\n",
       "\n",
       "    .dataframe tbody tr th {\n",
       "        vertical-align: top;\n",
       "    }\n",
       "\n",
       "    .dataframe thead th {\n",
       "        text-align: right;\n",
       "    }\n",
       "</style>\n",
       "<table border=\"1\" class=\"dataframe\">\n",
       "  <thead>\n",
       "    <tr style=\"text-align: right;\">\n",
       "      <th></th>\n",
       "      <th>Модель</th>\n",
       "      <th>Лучшие параметры модели</th>\n",
       "      <th>Лучшая F1-мера на тестовой выборке</th>\n",
       "      <th>Порог с лучшей F1-мерой</th>\n",
       "      <th>Лучшая ROC-AUC на тестовой выборке</th>\n",
       "      <th>sample</th>\n",
       "    </tr>\n",
       "  </thead>\n",
       "  <tbody>\n",
       "    <tr>\n",
       "      <th>0</th>\n",
       "      <td>LogisticRegression</td>\n",
       "      <td>{'clf__max_iter': 100, 'clf__solver': 'newton-cg'}</td>\n",
       "      <td>0.616368</td>\n",
       "      <td>0.70</td>\n",
       "      <td>0.862640</td>\n",
       "      <td>reduced</td>\n",
       "    </tr>\n",
       "    <tr>\n",
       "      <th>1</th>\n",
       "      <td>DecisionTreeClassifier</td>\n",
       "      <td>{'clf__criterion': 'gini', 'clf__max_depth': 4, 'clf__splitter': 'best'}</td>\n",
       "      <td>0.593750</td>\n",
       "      <td>0.65</td>\n",
       "      <td>0.828162</td>\n",
       "      <td>reduced</td>\n",
       "    </tr>\n",
       "    <tr>\n",
       "      <th>2</th>\n",
       "      <td>RandomForestClassifier</td>\n",
       "      <td>{'clf__criterion': 'gini', 'clf__max_depth': 5, 'clf__n_estimators': 100}</td>\n",
       "      <td>0.604278</td>\n",
       "      <td>0.65</td>\n",
       "      <td>0.860287</td>\n",
       "      <td>reduced</td>\n",
       "    </tr>\n",
       "  </tbody>\n",
       "</table>\n",
       "</div>"
      ],
      "text/plain": [
       "                   Модель  \\\n",
       "0      LogisticRegression   \n",
       "1  DecisionTreeClassifier   \n",
       "2  RandomForestClassifier   \n",
       "\n",
       "                                                     Лучшие параметры модели  \\\n",
       "0                         {'clf__max_iter': 100, 'clf__solver': 'newton-cg'}   \n",
       "1   {'clf__criterion': 'gini', 'clf__max_depth': 4, 'clf__splitter': 'best'}   \n",
       "2  {'clf__criterion': 'gini', 'clf__max_depth': 5, 'clf__n_estimators': 100}   \n",
       "\n",
       "   Лучшая F1-мера на тестовой выборке  Порог с лучшей F1-мерой  \\\n",
       "0                            0.616368                     0.70   \n",
       "1                            0.593750                     0.65   \n",
       "2                            0.604278                     0.65   \n",
       "\n",
       "   Лучшая ROC-AUC на тестовой выборке   sample  \n",
       "0                            0.862640  reduced  \n",
       "1                            0.828162  reduced  \n",
       "2                            0.860287  reduced  "
      ]
     },
     "execution_count": 73,
     "metadata": {},
     "output_type": "execute_result"
    }
   ],
   "source": [
    "# сводная тестовая таблица с оптимальными параметрами по каждой модели на уменьшенной выборке\n",
    "dict_reduced_test['sample'] = 'reduced'\n",
    "df_reduced_test = pd.DataFrame(dict_reduced_test)\n",
    "df_reduced_test"
   ]
  },
  {
   "cell_type": "markdown",
   "id": "ec57c455",
   "metadata": {},
   "source": [
    "- В среднем и абсолютно по всем выборкам наилучшие значения F1-меры достигаются моделью \"RandomForestClassifier\"\n",
    "- На несбалансированной выборке порог классификации для достижения лучшей F1-меры всеми моделями ниже 0.5, на увеличенной и уменьшенной, как правило выше 0.5\n",
    "- При уменьшении F1-меры на моделях \"LogisticRegression\" и \"RandomForestClassifier\" на разных выборках ROC-AUC мера практически не меняется. Немного по другому ведет себя ROC-AUC на модели \"DecisionTreeClassifier\", где метрика уменьшается или увеличивается при изменениях F1-меры.\n",
    "- Из \"confusion matrix\" можно отметить, что c оптимальным порогом и на измененных выборках модели \"LogisticRegression\" и \"DecisionTreeClassifier\" дают завышенные значения \"False positive\".\n",
    "- Сравнивая графики ROC-кривой и метрики можно отметить, что F1-мера более чувствительно отражает изменения под дугой, в то время как ROC-AUC почти не меняется. Такая особенность лучше проявляется на несбалансированной выборке и у модели \"DecisionTreeClassifier\".\n",
    " "
   ]
  },
  {
   "cell_type": "code",
   "execution_count": 74,
   "id": "374964ee",
   "metadata": {},
   "outputs": [],
   "source": [
    "# объединение тестовых таблиц по разным выборкам  в общую \n",
    "df_general_test = pd.concat([df_unbalanced_test, df_enlarged_test, df_reduced_test],  axis=0)"
   ]
  },
  {
   "cell_type": "code",
   "execution_count": 75,
   "id": "95a38dd1",
   "metadata": {},
   "outputs": [
    {
     "data": {
      "text/html": [
       "<div>\n",
       "<style scoped>\n",
       "    .dataframe tbody tr th:only-of-type {\n",
       "        vertical-align: middle;\n",
       "    }\n",
       "\n",
       "    .dataframe tbody tr th {\n",
       "        vertical-align: top;\n",
       "    }\n",
       "\n",
       "    .dataframe thead th {\n",
       "        text-align: right;\n",
       "    }\n",
       "</style>\n",
       "<table border=\"1\" class=\"dataframe\">\n",
       "  <thead>\n",
       "    <tr style=\"text-align: right;\">\n",
       "      <th></th>\n",
       "      <th>Модель</th>\n",
       "      <th>Лучшие параметры модели</th>\n",
       "      <th>Лучшая F1-мера на тестовой выборке</th>\n",
       "      <th>Порог с лучшей F1-мерой</th>\n",
       "      <th>Лучшая ROC-AUC на тестовой выборке</th>\n",
       "      <th>sample</th>\n",
       "    </tr>\n",
       "  </thead>\n",
       "  <tbody>\n",
       "    <tr>\n",
       "      <th>0</th>\n",
       "      <td>LogisticRegression</td>\n",
       "      <td>{'clf__max_iter': 100, 'clf__solver': 'newton-cg'}</td>\n",
       "      <td>0.616368</td>\n",
       "      <td>0.7</td>\n",
       "      <td>0.862640</td>\n",
       "      <td>reduced</td>\n",
       "    </tr>\n",
       "    <tr>\n",
       "      <th>1</th>\n",
       "      <td>DecisionTreeClassifier</td>\n",
       "      <td>{'clf__criterion': 'entropy', 'clf__max_depth': 3, 'clf__splitter': 'best'}</td>\n",
       "      <td>0.594663</td>\n",
       "      <td>0.2</td>\n",
       "      <td>0.807129</td>\n",
       "      <td>unbalanced</td>\n",
       "    </tr>\n",
       "    <tr>\n",
       "      <th>2</th>\n",
       "      <td>RandomForestClassifier</td>\n",
       "      <td>{'clf__criterion': 'gini', 'clf__max_depth': 15, 'clf__n_estimators': 100}</td>\n",
       "      <td>0.659367</td>\n",
       "      <td>0.5</td>\n",
       "      <td>0.861056</td>\n",
       "      <td>enlarged</td>\n",
       "    </tr>\n",
       "  </tbody>\n",
       "</table>\n",
       "</div>"
      ],
      "text/plain": [
       "                   Модель  \\\n",
       "0      LogisticRegression   \n",
       "1  DecisionTreeClassifier   \n",
       "2  RandomForestClassifier   \n",
       "\n",
       "                                                       Лучшие параметры модели  \\\n",
       "0                           {'clf__max_iter': 100, 'clf__solver': 'newton-cg'}   \n",
       "1  {'clf__criterion': 'entropy', 'clf__max_depth': 3, 'clf__splitter': 'best'}   \n",
       "2   {'clf__criterion': 'gini', 'clf__max_depth': 15, 'clf__n_estimators': 100}   \n",
       "\n",
       "   Лучшая F1-мера на тестовой выборке  Порог с лучшей F1-мерой  \\\n",
       "0                            0.616368                      0.7   \n",
       "1                            0.594663                      0.2   \n",
       "2                            0.659367                      0.5   \n",
       "\n",
       "   Лучшая ROC-AUC на тестовой выборке      sample  \n",
       "0                            0.862640     reduced  \n",
       "1                            0.807129  unbalanced  \n",
       "2                            0.861056    enlarged  "
      ]
     },
     "execution_count": 75,
     "metadata": {},
     "output_type": "execute_result"
    }
   ],
   "source": [
    "# сводная тестовая таблица по каждой модели с лучшими результатами F1-меры \n",
    "df_best_test = (df_general_test.groupby(['Модель'], as_index=False)\n",
    ".apply(lambda x: x.nlargest(1, ['Лучшая F1-мера на тестовой выборке']))\n",
    ".reset_index(level=0, drop=True)).sort_index()\n",
    "\n",
    "df_best_test"
   ]
  },
  {
   "cell_type": "markdown",
   "id": "07b2b512",
   "metadata": {},
   "source": [
    "## Шаг 5. Итоги исследования."
   ]
  },
  {
   "cell_type": "markdown",
   "id": "8498f326",
   "metadata": {},
   "source": [
    "### Шаг 5.1. Описание хода исследования."
   ]
  },
  {
   "cell_type": "markdown",
   "id": "02c7ef63",
   "metadata": {},
   "source": [
    "Для реализации поставленной задачи мы:\n",
    "   - Изучили датасет, исправили стилистические ошибки, приведя все текстовые данные в нижний регистр.\n",
    "   - Удалили столбцы, которые не влияют на обучение модели.\n",
    "   - Разделили данные на числовые и категориальные.\n",
    "   - Очистили данные от выбросов, построив диаграммы \"ящик с усами\".\n",
    "   - Посчитали корреляцию между числовыми признаками и целевым признаком.\n",
    "   - Изучили распределение данных в числовых признаках.\n",
    "   - Разделили данные на признаки и целевой признак. Затем их разбили на тренировочную, тестовую и валидационные выборки.\n",
    "   - Подготовили \"pipline\" и \"GridSearchCV\" для моделей машинного обучения.\n",
    "   - Создали функцию для настройки моделей, получения лучших гиперпараметров модели, подсчета метрики F1-score и ROC-AUC-score, постройки ROC-кривой на несбалансированной выборке.\n",
    "   - Создали функции для увеличения и уменьшения выборок.\n",
    "   - Провели настройку моделей МО на увеличенной и уменьшенной выборках.\n",
    "   - Настроили модели МО с учетом изменяемого порога классификации, получили при этом максимальные настройки для трех моделей.\n",
    "   - Провели финальное тестирование моделей МО.\n",
    "По итогам исследования делаем общий вывод:"
   ]
  },
  {
   "cell_type": "markdown",
   "id": "7101830c",
   "metadata": {},
   "source": [
    "### Шаг 5.2. Общий вывод."
   ]
  },
  {
   "cell_type": "markdown",
   "id": "86215a75",
   "metadata": {},
   "source": [
    " - Из исследования по результатам настройки моделей на валидационной выборке:\n",
    "   - Метрика F1 без подбора оптимального порога меняется от несбалансированной к изменяемым выборкам, в то время как ROC-AUC в большинстве случаев остается стабильно высокой, эта закономерность меньше всего проявляется на модели \"DecisionTreeClassifier\".\n",
    "   - Лучшие результаты F-1 меры без изменения порога достигаются на несбалансированной выборке, за исключением \"RandomForestClassifier\". В то время как на оптимальном пороге для каждой модели лучшая F1 на разных выборках.\n",
    "   - Без подбора оптимального порога на измененых выборках характерна большая доля \"False Positive\" ответов моделей, в то время как с оптимальным порогом возрастает число \"False Negative\".\n",
    "   - На несбалансированных выборках оптимальный порог меньше 0.5, а на измененных, как правило выше 0.5.\n",
    " \n",
    " - На тестировании моделей при оптимальных гиперпараметрах, выборке и пороге классификации получили следующие результаты:\n",
    "   -  **F1-меру 0.66** и **ROC-AUC 0.86** показала модель **\"RandomForestClassifier\"** на увеличенной выборке. Но данная модель гораздо медленнее остальных.\n",
    "   - **\"LogisticRegression\"** достигла лучшего результата на уменьшенной выборке: **F1-мера 0.62**, **ROC-AUC 0.86**.\n",
    "   - **\"DecisionTreeClassifier\"** выдала лучшие результаты на несбалансированной выборке: **F1-мера 0.59**, **ROC-AUC 0.81**."
   ]
  },
  {
   "cell_type": "code",
   "execution_count": 76,
   "id": "22be298a",
   "metadata": {},
   "outputs": [
    {
     "data": {
      "text/html": [
       "<div>\n",
       "<style scoped>\n",
       "    .dataframe tbody tr th:only-of-type {\n",
       "        vertical-align: middle;\n",
       "    }\n",
       "\n",
       "    .dataframe tbody tr th {\n",
       "        vertical-align: top;\n",
       "    }\n",
       "\n",
       "    .dataframe thead th {\n",
       "        text-align: right;\n",
       "    }\n",
       "</style>\n",
       "<table border=\"1\" class=\"dataframe\">\n",
       "  <thead>\n",
       "    <tr style=\"text-align: right;\">\n",
       "      <th></th>\n",
       "      <th>Модель</th>\n",
       "      <th>Лучшие параметры модели</th>\n",
       "      <th>Лучшая F1-мера на тестовой выборке</th>\n",
       "      <th>Порог с лучшей F1-мерой</th>\n",
       "      <th>Лучшая ROC-AUC на тестовой выборке</th>\n",
       "      <th>sample</th>\n",
       "    </tr>\n",
       "  </thead>\n",
       "  <tbody>\n",
       "    <tr>\n",
       "      <th>0</th>\n",
       "      <td>LogisticRegression</td>\n",
       "      <td>{'clf__max_iter': 100, 'clf__solver': 'newton-cg'}</td>\n",
       "      <td>0.616368</td>\n",
       "      <td>0.7</td>\n",
       "      <td>0.862640</td>\n",
       "      <td>reduced</td>\n",
       "    </tr>\n",
       "    <tr>\n",
       "      <th>1</th>\n",
       "      <td>DecisionTreeClassifier</td>\n",
       "      <td>{'clf__criterion': 'entropy', 'clf__max_depth': 3, 'clf__splitter': 'best'}</td>\n",
       "      <td>0.594663</td>\n",
       "      <td>0.2</td>\n",
       "      <td>0.807129</td>\n",
       "      <td>unbalanced</td>\n",
       "    </tr>\n",
       "    <tr>\n",
       "      <th>2</th>\n",
       "      <td>RandomForestClassifier</td>\n",
       "      <td>{'clf__criterion': 'gini', 'clf__max_depth': 15, 'clf__n_estimators': 100}</td>\n",
       "      <td>0.659367</td>\n",
       "      <td>0.5</td>\n",
       "      <td>0.861056</td>\n",
       "      <td>enlarged</td>\n",
       "    </tr>\n",
       "  </tbody>\n",
       "</table>\n",
       "</div>"
      ],
      "text/plain": [
       "                   Модель  \\\n",
       "0      LogisticRegression   \n",
       "1  DecisionTreeClassifier   \n",
       "2  RandomForestClassifier   \n",
       "\n",
       "                                                       Лучшие параметры модели  \\\n",
       "0                           {'clf__max_iter': 100, 'clf__solver': 'newton-cg'}   \n",
       "1  {'clf__criterion': 'entropy', 'clf__max_depth': 3, 'clf__splitter': 'best'}   \n",
       "2   {'clf__criterion': 'gini', 'clf__max_depth': 15, 'clf__n_estimators': 100}   \n",
       "\n",
       "   Лучшая F1-мера на тестовой выборке  Порог с лучшей F1-мерой  \\\n",
       "0                            0.616368                      0.7   \n",
       "1                            0.594663                      0.2   \n",
       "2                            0.659367                      0.5   \n",
       "\n",
       "   Лучшая ROC-AUC на тестовой выборке      sample  \n",
       "0                            0.862640     reduced  \n",
       "1                            0.807129  unbalanced  \n",
       "2                            0.861056    enlarged  "
      ]
     },
     "execution_count": 76,
     "metadata": {},
     "output_type": "execute_result"
    }
   ],
   "source": [
    "# вывод итоговой тестовой таблицы\n",
    "df_best_test"
   ]
  },
  {
   "cell_type": "code",
   "execution_count": null,
   "id": "c8b644a9",
   "metadata": {},
   "outputs": [],
   "source": []
  }
 ],
 "metadata": {
  "ExecuteTimeLog": [
   {
    "duration": 2136,
    "start_time": "2022-05-21T12:37:03.697Z"
   },
   {
    "duration": 222,
    "start_time": "2022-05-21T12:37:05.836Z"
   },
   {
    "duration": 12,
    "start_time": "2022-05-21T12:37:06.060Z"
   },
   {
    "duration": 3,
    "start_time": "2022-05-21T12:37:06.074Z"
   },
   {
    "duration": 12,
    "start_time": "2022-05-21T12:37:18.525Z"
   },
   {
    "duration": 134,
    "start_time": "2022-05-21T12:37:34.517Z"
   },
   {
    "duration": 12,
    "start_time": "2022-05-21T12:37:57.546Z"
   },
   {
    "duration": 7,
    "start_time": "2022-05-21T12:38:13.709Z"
   },
   {
    "duration": 58,
    "start_time": "2022-05-21T12:38:13.718Z"
   },
   {
    "duration": 15,
    "start_time": "2022-05-21T12:38:13.777Z"
   },
   {
    "duration": 18,
    "start_time": "2022-05-21T12:38:25.103Z"
   },
   {
    "duration": 4,
    "start_time": "2022-05-21T12:57:48.096Z"
   },
   {
    "duration": 72,
    "start_time": "2022-05-21T12:57:48.102Z"
   },
   {
    "duration": 11,
    "start_time": "2022-05-21T12:57:48.176Z"
   },
   {
    "duration": 3,
    "start_time": "2022-05-21T12:57:48.188Z"
   },
   {
    "duration": 47,
    "start_time": "2022-05-21T12:57:48.193Z"
   },
   {
    "duration": 5,
    "start_time": "2022-05-21T12:57:48.241Z"
   },
   {
    "duration": 8,
    "start_time": "2022-05-21T12:57:48.247Z"
   },
   {
    "duration": 22,
    "start_time": "2022-05-21T12:57:48.256Z"
   },
   {
    "duration": 38,
    "start_time": "2022-05-21T12:57:48.279Z"
   },
   {
    "duration": 5,
    "start_time": "2022-05-21T12:57:48.319Z"
   },
   {
    "duration": 18,
    "start_time": "2022-05-21T12:57:48.325Z"
   },
   {
    "duration": 5,
    "start_time": "2022-05-21T12:57:48.344Z"
   },
   {
    "duration": 5,
    "start_time": "2022-05-21T12:57:48.350Z"
   },
   {
    "duration": 16,
    "start_time": "2022-05-21T12:57:48.358Z"
   },
   {
    "duration": 5,
    "start_time": "2022-05-21T12:57:48.375Z"
   },
   {
    "duration": 30,
    "start_time": "2022-05-21T12:57:48.381Z"
   },
   {
    "duration": 15,
    "start_time": "2022-05-21T12:57:48.416Z"
   },
   {
    "duration": 14,
    "start_time": "2022-05-21T12:57:48.433Z"
   },
   {
    "duration": 771,
    "start_time": "2022-05-21T12:57:48.448Z"
   },
   {
    "duration": 4,
    "start_time": "2022-05-21T12:57:49.221Z"
   },
   {
    "duration": 14,
    "start_time": "2022-05-21T12:57:49.226Z"
   },
   {
    "duration": 25,
    "start_time": "2022-05-21T12:57:49.242Z"
   },
   {
    "duration": 4,
    "start_time": "2022-05-21T12:57:49.269Z"
   },
   {
    "duration": 7,
    "start_time": "2022-05-21T12:57:49.274Z"
   },
   {
    "duration": 731,
    "start_time": "2022-05-21T12:57:49.282Z"
   },
   {
    "duration": 14,
    "start_time": "2022-05-21T12:57:50.020Z"
   },
   {
    "duration": 17,
    "start_time": "2022-05-21T12:57:50.035Z"
   },
   {
    "duration": 13,
    "start_time": "2022-05-21T12:57:50.053Z"
   },
   {
    "duration": 15,
    "start_time": "2022-05-21T12:57:50.068Z"
   },
   {
    "duration": 45,
    "start_time": "2022-05-21T12:57:50.084Z"
   },
   {
    "duration": 11,
    "start_time": "2022-05-21T12:57:59.323Z"
   },
   {
    "duration": 64,
    "start_time": "2022-05-23T17:53:35.053Z"
   }
  ],
  "kernelspec": {
   "display_name": "Python 3 (ipykernel)",
   "language": "python",
   "name": "python3"
  },
  "language_info": {
   "codemirror_mode": {
    "name": "ipython",
    "version": 3
   },
   "file_extension": ".py",
   "mimetype": "text/x-python",
   "name": "python",
   "nbconvert_exporter": "python",
   "pygments_lexer": "ipython3",
   "version": "3.7.8"
  },
  "toc": {
   "base_numbering": 1,
   "nav_menu": {
    "height": "309px",
    "width": "698px"
   },
   "number_sections": false,
   "sideBar": true,
   "skip_h1_title": false,
   "title_cell": "Содержание",
   "title_sidebar": "Contents",
   "toc_cell": true,
   "toc_position": {
    "height": "calc(100% - 180px)",
    "left": "10px",
    "top": "150px",
    "width": "165px"
   },
   "toc_section_display": true,
   "toc_window_display": false
  }
 },
 "nbformat": 4,
 "nbformat_minor": 5
}
