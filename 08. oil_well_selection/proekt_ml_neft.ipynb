{
 "cells": [
  {
   "cell_type": "markdown",
   "metadata": {
    "toc": true
   },
   "source": [
    "<h1>Содержание<span class=\"tocSkip\"></span></h1>\n",
    "<div class=\"toc\"><ul class=\"toc-item\"><li><span><a href=\"#Шаг-1.--Загрузка-и-подготовка-данных\" data-toc-modified-id=\"Шаг-1.--Загрузка-и-подготовка-данных-1\">Шаг 1.  Загрузка и подготовка данных</a></span><ul class=\"toc-item\"><li><span><a href=\"#Шаг-1.1.-Загрузка-и-обзор-данных.\" data-toc-modified-id=\"Шаг-1.1.-Загрузка-и-обзор-данных.-1.1\">Шаг 1.1. Загрузка и обзор данных.</a></span></li><li><span><a href=\"#Шаг-1.2.-Подготовка--данных-для-исследования.\" data-toc-modified-id=\"Шаг-1.2.-Подготовка--данных-для-исследования.-1.2\">Шаг 1.2. Подготовка  данных для исследования.</a></span></li></ul></li><li><span><a href=\"#Шаг-2.-Обучение-и-проверка-модели.\" data-toc-modified-id=\"Шаг-2.-Обучение-и-проверка-модели.-2\">Шаг 2. Обучение и проверка модели.</a></span></li><li><span><a href=\"#Шаг-3.-Подготовка-к-расчёту-прибыли.\" data-toc-modified-id=\"Шаг-3.-Подготовка-к-расчёту-прибыли.-3\">Шаг 3. Подготовка к расчёту прибыли.</a></span></li><li><span><a href=\"#Шаг-4.-Расчёт-прибыли-и-рисков.\" data-toc-modified-id=\"Шаг-4.-Расчёт-прибыли-и-рисков.-4\">Шаг 4. Расчёт прибыли и рисков.</a></span></li><li><span><a href=\"#Шаг-5.-Итоги-исследования.\" data-toc-modified-id=\"Шаг-5.-Итоги-исследования.-5\">Шаг 5. Итоги исследования.</a></span><ul class=\"toc-item\"><li><span><a href=\"#Шаг-5.1.-Описание-хода-исследования.\" data-toc-modified-id=\"Шаг-5.1.-Описание-хода-исследования.-5.1\">Шаг 5.1. Описание хода исследования.</a></span></li><li><span><a href=\"#Шаг-5.2.-Общий-вывод.\" data-toc-modified-id=\"Шаг-5.2.-Общий-вывод.-5.2\">Шаг 5.2. Общий вывод.</a></span></li></ul></li></ul></div>"
   ]
  },
  {
   "cell_type": "markdown",
   "metadata": {},
   "source": [
    "# Выбор локации для скважины"
   ]
  },
  {
   "cell_type": "markdown",
   "metadata": {},
   "source": [
    "Мы работаем в добывающей компании «ГлавРосГосНефть». Нужно решить, где бурить новую скважину.\n",
    "\n",
    "Нам предоставлены пробы нефти в трёх регионах: в каждом 10 000 месторождений, где измерили качество нефти и объём её запасов. Нужно построить модель машинного обучения, которая поможет определить регион, где добыча принесёт наибольшую прибыль. Проанализируем возможную прибыль и риски техникой **Bootstrap.**\n",
    "\n",
    "**Шаги для выбора локации:**\n",
    "\n",
    "- В избранном регионе ищем месторождения, для каждого определяем значения признаков;\n",
    "\n",
    "- Строим модель и оцениваем объём запасов;\n",
    "\n",
    "- Выбираем месторождения с самым высокими оценками значений. Количество месторождений зависит от бюджета компании и стоимости разработки одной скважины;\n",
    "\n",
    "- Прибыль равна суммарной прибыли отобранных месторождений.\n",
    "\n",
    "\n",
    "**Описание данных:**\n",
    "\n",
    "  - id — уникальный идентификатор скважины;\n",
    "  - f0, f1, f2 — три признака точек (неважно, что они означают, но сами признаки значимы);\n",
    "  - product — объём запасов в скважине (тыс. баррелей).\n",
    "\n",
    "**Условия задачи:** \n",
    "\n",
    "Для обучения модели подходит только линейная регрессия (остальные — недостаточно предсказуемые).\n",
    "При разведке региона исследуют 500 точек, из которых с помощью машинного обучения выбирают 200 лучших для разработки.\n",
    "Бюджет на разработку скважин в регионе — 10 млрд рублей.\n",
    "При нынешних ценах один баррель сырья приносит 450 рублей дохода. Доход с каждой единицы продукта составляет 450 тыс. рублей, поскольку объём указан в тысячах баррелей.\n",
    "После оценки рисков нужно оставить лишь те регионы, в которых вероятность убытков меньше 2.5%. Среди них выбирают регион с наибольшей средней прибылью."
   ]
  },
  {
   "cell_type": "markdown",
   "metadata": {},
   "source": [
    "## Шаг 1.  Загрузка и подготовка данных"
   ]
  },
  {
   "cell_type": "markdown",
   "metadata": {},
   "source": [
    "### Шаг 1.1. Загрузка и обзор данных."
   ]
  },
  {
   "cell_type": "code",
   "execution_count": 1,
   "metadata": {},
   "outputs": [
    {
     "name": "stderr",
     "output_type": "stream",
     "text": [
      "\n",
      "Bad key text.latex.preview in file C:\\Users\\regki\\anaconda3\\envs\\praktikum_env_win_new\\lib\\site-packages\\matplotlib\\mpl-data\\stylelib\\_classic_test.mplstyle, line 123 ('text.latex.preview : False')\n",
      "You probably need to get an updated matplotlibrc file from\n",
      "https://github.com/matplotlib/matplotlib/blob/v3.5.2/matplotlibrc.template\n",
      "or from the matplotlib source distribution\n",
      "\n",
      "Bad key mathtext.fallback_to_cm in file C:\\Users\\regki\\anaconda3\\envs\\praktikum_env_win_new\\lib\\site-packages\\matplotlib\\mpl-data\\stylelib\\_classic_test.mplstyle, line 155 ('mathtext.fallback_to_cm : True  # When True, use symbols from the Computer Modern')\n",
      "You probably need to get an updated matplotlibrc file from\n",
      "https://github.com/matplotlib/matplotlib/blob/v3.5.2/matplotlibrc.template\n",
      "or from the matplotlib source distribution\n",
      "\n",
      "Bad key savefig.jpeg_quality in file C:\\Users\\regki\\anaconda3\\envs\\praktikum_env_win_new\\lib\\site-packages\\matplotlib\\mpl-data\\stylelib\\_classic_test.mplstyle, line 418 ('savefig.jpeg_quality: 95       # when a jpeg is saved, the default quality parameter.')\n",
      "You probably need to get an updated matplotlibrc file from\n",
      "https://github.com/matplotlib/matplotlib/blob/v3.5.2/matplotlibrc.template\n",
      "or from the matplotlib source distribution\n",
      "\n",
      "Bad key keymap.all_axes in file C:\\Users\\regki\\anaconda3\\envs\\praktikum_env_win_new\\lib\\site-packages\\matplotlib\\mpl-data\\stylelib\\_classic_test.mplstyle, line 466 ('keymap.all_axes : a                 # enable all axes')\n",
      "You probably need to get an updated matplotlibrc file from\n",
      "https://github.com/matplotlib/matplotlib/blob/v3.5.2/matplotlibrc.template\n",
      "or from the matplotlib source distribution\n",
      "\n",
      "Bad key animation.avconv_path in file C:\\Users\\regki\\anaconda3\\envs\\praktikum_env_win_new\\lib\\site-packages\\matplotlib\\mpl-data\\stylelib\\_classic_test.mplstyle, line 477 ('animation.avconv_path: avconv     # Path to avconv binary. Without full path')\n",
      "You probably need to get an updated matplotlibrc file from\n",
      "https://github.com/matplotlib/matplotlib/blob/v3.5.2/matplotlibrc.template\n",
      "or from the matplotlib source distribution\n",
      "\n",
      "Bad key animation.avconv_args in file C:\\Users\\regki\\anaconda3\\envs\\praktikum_env_win_new\\lib\\site-packages\\matplotlib\\mpl-data\\stylelib\\_classic_test.mplstyle, line 479 ('animation.avconv_args:            # Additional arguments to pass to avconv')\n",
      "You probably need to get an updated matplotlibrc file from\n",
      "https://github.com/matplotlib/matplotlib/blob/v3.5.2/matplotlibrc.template\n",
      "or from the matplotlib source distribution\n"
     ]
    }
   ],
   "source": [
    "# импорт основных библиотек\n",
    "import pandas as pd\n",
    "import numpy as np\n",
    "import seaborn as sns\n",
    "import matplotlib.pyplot as plt\n",
    "# импорт библиотек моделей и разделения выборок\n",
    "from sklearn.linear_model import LinearRegression\n",
    "from sklearn.model_selection import train_test_split\n",
    "# импорт библиотек с метриками \n",
    "from sklearn.metrics import mean_squared_error\n",
    "# импорт библиотек для работы со статистикой\n",
    "from scipy import stats as st\n",
    "from numpy.random import RandomState \n",
    "\n",
    "# импорт библиотеки для предупреждений\n",
    "import warnings\n",
    "warnings.filterwarnings('ignore')"
   ]
  },
  {
   "cell_type": "code",
   "execution_count": 2,
   "metadata": {},
   "outputs": [],
   "source": [
    "# чтение датасетов и запись их в переменные с применением метода try-except\n",
    "try:\n",
    "    df_1 = pd.read_csv('/Users/regki/Downloads/geo_data_0.csv')\n",
    "    df_2 = pd.read_csv('/Users/regki/Downloads/geo_data_1.csv')\n",
    "    df_3 = pd.read_csv('/Users/regki/Downloads/geo_data_2.csv')\n",
    "except:\n",
    "    df_1 = pd.read_csv('/datasets/geo_data_0.csv')\n",
    "    df_2 = pd.read_csv('/datasets/geo_data_1.csv')\n",
    "    df_3 = pd.read_csv('/datasets/geo_data_2.csv')"
   ]
  },
  {
   "cell_type": "code",
   "execution_count": 3,
   "metadata": {},
   "outputs": [
    {
     "data": {
      "text/html": [
       "<div>\n",
       "<style scoped>\n",
       "    .dataframe tbody tr th:only-of-type {\n",
       "        vertical-align: middle;\n",
       "    }\n",
       "\n",
       "    .dataframe tbody tr th {\n",
       "        vertical-align: top;\n",
       "    }\n",
       "\n",
       "    .dataframe thead th {\n",
       "        text-align: right;\n",
       "    }\n",
       "</style>\n",
       "<table border=\"1\" class=\"dataframe\">\n",
       "  <thead>\n",
       "    <tr style=\"text-align: right;\">\n",
       "      <th></th>\n",
       "      <th>id</th>\n",
       "      <th>f0</th>\n",
       "      <th>f1</th>\n",
       "      <th>f2</th>\n",
       "      <th>product</th>\n",
       "    </tr>\n",
       "  </thead>\n",
       "  <tbody>\n",
       "    <tr>\n",
       "      <th>0</th>\n",
       "      <td>txEyH</td>\n",
       "      <td>0.705745</td>\n",
       "      <td>-0.497823</td>\n",
       "      <td>1.221170</td>\n",
       "      <td>105.280062</td>\n",
       "    </tr>\n",
       "    <tr>\n",
       "      <th>1</th>\n",
       "      <td>2acmU</td>\n",
       "      <td>1.334711</td>\n",
       "      <td>-0.340164</td>\n",
       "      <td>4.365080</td>\n",
       "      <td>73.037750</td>\n",
       "    </tr>\n",
       "    <tr>\n",
       "      <th>2</th>\n",
       "      <td>409Wp</td>\n",
       "      <td>1.022732</td>\n",
       "      <td>0.151990</td>\n",
       "      <td>1.419926</td>\n",
       "      <td>85.265647</td>\n",
       "    </tr>\n",
       "    <tr>\n",
       "      <th>3</th>\n",
       "      <td>iJLyR</td>\n",
       "      <td>-0.032172</td>\n",
       "      <td>0.139033</td>\n",
       "      <td>2.978566</td>\n",
       "      <td>168.620776</td>\n",
       "    </tr>\n",
       "    <tr>\n",
       "      <th>4</th>\n",
       "      <td>Xdl7t</td>\n",
       "      <td>1.988431</td>\n",
       "      <td>0.155413</td>\n",
       "      <td>4.751769</td>\n",
       "      <td>154.036647</td>\n",
       "    </tr>\n",
       "    <tr>\n",
       "      <th>...</th>\n",
       "      <td>...</td>\n",
       "      <td>...</td>\n",
       "      <td>...</td>\n",
       "      <td>...</td>\n",
       "      <td>...</td>\n",
       "    </tr>\n",
       "    <tr>\n",
       "      <th>99995</th>\n",
       "      <td>DLsed</td>\n",
       "      <td>0.971957</td>\n",
       "      <td>0.370953</td>\n",
       "      <td>6.075346</td>\n",
       "      <td>110.744026</td>\n",
       "    </tr>\n",
       "    <tr>\n",
       "      <th>99996</th>\n",
       "      <td>QKivN</td>\n",
       "      <td>1.392429</td>\n",
       "      <td>-0.382606</td>\n",
       "      <td>1.273912</td>\n",
       "      <td>122.346843</td>\n",
       "    </tr>\n",
       "    <tr>\n",
       "      <th>99997</th>\n",
       "      <td>3rnvd</td>\n",
       "      <td>1.029585</td>\n",
       "      <td>0.018787</td>\n",
       "      <td>-1.348308</td>\n",
       "      <td>64.375443</td>\n",
       "    </tr>\n",
       "    <tr>\n",
       "      <th>99998</th>\n",
       "      <td>7kl59</td>\n",
       "      <td>0.998163</td>\n",
       "      <td>-0.528582</td>\n",
       "      <td>1.583869</td>\n",
       "      <td>74.040764</td>\n",
       "    </tr>\n",
       "    <tr>\n",
       "      <th>99999</th>\n",
       "      <td>1CWhH</td>\n",
       "      <td>1.764754</td>\n",
       "      <td>-0.266417</td>\n",
       "      <td>5.722849</td>\n",
       "      <td>149.633246</td>\n",
       "    </tr>\n",
       "  </tbody>\n",
       "</table>\n",
       "<p>100000 rows × 5 columns</p>\n",
       "</div>"
      ],
      "text/plain": [
       "          id        f0        f1        f2     product\n",
       "0      txEyH  0.705745 -0.497823  1.221170  105.280062\n",
       "1      2acmU  1.334711 -0.340164  4.365080   73.037750\n",
       "2      409Wp  1.022732  0.151990  1.419926   85.265647\n",
       "3      iJLyR -0.032172  0.139033  2.978566  168.620776\n",
       "4      Xdl7t  1.988431  0.155413  4.751769  154.036647\n",
       "...      ...       ...       ...       ...         ...\n",
       "99995  DLsed  0.971957  0.370953  6.075346  110.744026\n",
       "99996  QKivN  1.392429 -0.382606  1.273912  122.346843\n",
       "99997  3rnvd  1.029585  0.018787 -1.348308   64.375443\n",
       "99998  7kl59  0.998163 -0.528582  1.583869   74.040764\n",
       "99999  1CWhH  1.764754 -0.266417  5.722849  149.633246\n",
       "\n",
       "[100000 rows x 5 columns]"
      ]
     },
     "execution_count": 3,
     "metadata": {},
     "output_type": "execute_result"
    }
   ],
   "source": [
    "# вывод на экран датасета c 1 регионом\n",
    "df_1"
   ]
  },
  {
   "cell_type": "code",
   "execution_count": 4,
   "metadata": {},
   "outputs": [
    {
     "name": "stdout",
     "output_type": "stream",
     "text": [
      "<class 'pandas.core.frame.DataFrame'>\n",
      "RangeIndex: 100000 entries, 0 to 99999\n",
      "Data columns (total 5 columns):\n",
      " #   Column   Non-Null Count   Dtype  \n",
      "---  ------   --------------   -----  \n",
      " 0   id       100000 non-null  object \n",
      " 1   f0       100000 non-null  float64\n",
      " 2   f1       100000 non-null  float64\n",
      " 3   f2       100000 non-null  float64\n",
      " 4   product  100000 non-null  float64\n",
      "dtypes: float64(4), object(1)\n",
      "memory usage: 3.8+ MB\n"
     ]
    }
   ],
   "source": [
    "# обзор данных по 1 Региону\n",
    "df_1.info()"
   ]
  },
  {
   "cell_type": "code",
   "execution_count": 5,
   "metadata": {},
   "outputs": [
    {
     "data": {
      "text/html": [
       "<div>\n",
       "<style scoped>\n",
       "    .dataframe tbody tr th:only-of-type {\n",
       "        vertical-align: middle;\n",
       "    }\n",
       "\n",
       "    .dataframe tbody tr th {\n",
       "        vertical-align: top;\n",
       "    }\n",
       "\n",
       "    .dataframe thead th {\n",
       "        text-align: right;\n",
       "    }\n",
       "</style>\n",
       "<table border=\"1\" class=\"dataframe\">\n",
       "  <thead>\n",
       "    <tr style=\"text-align: right;\">\n",
       "      <th></th>\n",
       "      <th>id</th>\n",
       "      <th>f0</th>\n",
       "      <th>f1</th>\n",
       "      <th>f2</th>\n",
       "      <th>product</th>\n",
       "    </tr>\n",
       "  </thead>\n",
       "  <tbody>\n",
       "    <tr>\n",
       "      <th>0</th>\n",
       "      <td>kBEdx</td>\n",
       "      <td>-15.001348</td>\n",
       "      <td>-8.276000</td>\n",
       "      <td>-0.005876</td>\n",
       "      <td>3.179103</td>\n",
       "    </tr>\n",
       "    <tr>\n",
       "      <th>1</th>\n",
       "      <td>62mP7</td>\n",
       "      <td>14.272088</td>\n",
       "      <td>-3.475083</td>\n",
       "      <td>0.999183</td>\n",
       "      <td>26.953261</td>\n",
       "    </tr>\n",
       "    <tr>\n",
       "      <th>2</th>\n",
       "      <td>vyE1P</td>\n",
       "      <td>6.263187</td>\n",
       "      <td>-5.948386</td>\n",
       "      <td>5.001160</td>\n",
       "      <td>134.766305</td>\n",
       "    </tr>\n",
       "    <tr>\n",
       "      <th>3</th>\n",
       "      <td>KcrkZ</td>\n",
       "      <td>-13.081196</td>\n",
       "      <td>-11.506057</td>\n",
       "      <td>4.999415</td>\n",
       "      <td>137.945408</td>\n",
       "    </tr>\n",
       "    <tr>\n",
       "      <th>4</th>\n",
       "      <td>AHL4O</td>\n",
       "      <td>12.702195</td>\n",
       "      <td>-8.147433</td>\n",
       "      <td>5.004363</td>\n",
       "      <td>134.766305</td>\n",
       "    </tr>\n",
       "    <tr>\n",
       "      <th>...</th>\n",
       "      <td>...</td>\n",
       "      <td>...</td>\n",
       "      <td>...</td>\n",
       "      <td>...</td>\n",
       "      <td>...</td>\n",
       "    </tr>\n",
       "    <tr>\n",
       "      <th>99995</th>\n",
       "      <td>QywKC</td>\n",
       "      <td>9.535637</td>\n",
       "      <td>-6.878139</td>\n",
       "      <td>1.998296</td>\n",
       "      <td>53.906522</td>\n",
       "    </tr>\n",
       "    <tr>\n",
       "      <th>99996</th>\n",
       "      <td>ptvty</td>\n",
       "      <td>-10.160631</td>\n",
       "      <td>-12.558096</td>\n",
       "      <td>5.005581</td>\n",
       "      <td>137.945408</td>\n",
       "    </tr>\n",
       "    <tr>\n",
       "      <th>99997</th>\n",
       "      <td>09gWa</td>\n",
       "      <td>-7.378891</td>\n",
       "      <td>-3.084104</td>\n",
       "      <td>4.998651</td>\n",
       "      <td>137.945408</td>\n",
       "    </tr>\n",
       "    <tr>\n",
       "      <th>99998</th>\n",
       "      <td>rqwUm</td>\n",
       "      <td>0.665714</td>\n",
       "      <td>-6.152593</td>\n",
       "      <td>1.000146</td>\n",
       "      <td>30.132364</td>\n",
       "    </tr>\n",
       "    <tr>\n",
       "      <th>99999</th>\n",
       "      <td>relB0</td>\n",
       "      <td>-3.426139</td>\n",
       "      <td>-7.794274</td>\n",
       "      <td>-0.003299</td>\n",
       "      <td>3.179103</td>\n",
       "    </tr>\n",
       "  </tbody>\n",
       "</table>\n",
       "<p>100000 rows × 5 columns</p>\n",
       "</div>"
      ],
      "text/plain": [
       "          id         f0         f1        f2     product\n",
       "0      kBEdx -15.001348  -8.276000 -0.005876    3.179103\n",
       "1      62mP7  14.272088  -3.475083  0.999183   26.953261\n",
       "2      vyE1P   6.263187  -5.948386  5.001160  134.766305\n",
       "3      KcrkZ -13.081196 -11.506057  4.999415  137.945408\n",
       "4      AHL4O  12.702195  -8.147433  5.004363  134.766305\n",
       "...      ...        ...        ...       ...         ...\n",
       "99995  QywKC   9.535637  -6.878139  1.998296   53.906522\n",
       "99996  ptvty -10.160631 -12.558096  5.005581  137.945408\n",
       "99997  09gWa  -7.378891  -3.084104  4.998651  137.945408\n",
       "99998  rqwUm   0.665714  -6.152593  1.000146   30.132364\n",
       "99999  relB0  -3.426139  -7.794274 -0.003299    3.179103\n",
       "\n",
       "[100000 rows x 5 columns]"
      ]
     },
     "execution_count": 5,
     "metadata": {},
     "output_type": "execute_result"
    }
   ],
   "source": [
    "# вывод на экран датасета cо 2 регионом\n",
    "df_2"
   ]
  },
  {
   "cell_type": "code",
   "execution_count": 6,
   "metadata": {},
   "outputs": [
    {
     "name": "stdout",
     "output_type": "stream",
     "text": [
      "<class 'pandas.core.frame.DataFrame'>\n",
      "RangeIndex: 100000 entries, 0 to 99999\n",
      "Data columns (total 5 columns):\n",
      " #   Column   Non-Null Count   Dtype  \n",
      "---  ------   --------------   -----  \n",
      " 0   id       100000 non-null  object \n",
      " 1   f0       100000 non-null  float64\n",
      " 2   f1       100000 non-null  float64\n",
      " 3   f2       100000 non-null  float64\n",
      " 4   product  100000 non-null  float64\n",
      "dtypes: float64(4), object(1)\n",
      "memory usage: 3.8+ MB\n"
     ]
    }
   ],
   "source": [
    "# обзор данных по 2 Региону\n",
    "df_2.info()"
   ]
  },
  {
   "cell_type": "code",
   "execution_count": 7,
   "metadata": {},
   "outputs": [
    {
     "data": {
      "text/html": [
       "<div>\n",
       "<style scoped>\n",
       "    .dataframe tbody tr th:only-of-type {\n",
       "        vertical-align: middle;\n",
       "    }\n",
       "\n",
       "    .dataframe tbody tr th {\n",
       "        vertical-align: top;\n",
       "    }\n",
       "\n",
       "    .dataframe thead th {\n",
       "        text-align: right;\n",
       "    }\n",
       "</style>\n",
       "<table border=\"1\" class=\"dataframe\">\n",
       "  <thead>\n",
       "    <tr style=\"text-align: right;\">\n",
       "      <th></th>\n",
       "      <th>id</th>\n",
       "      <th>f0</th>\n",
       "      <th>f1</th>\n",
       "      <th>f2</th>\n",
       "      <th>product</th>\n",
       "    </tr>\n",
       "  </thead>\n",
       "  <tbody>\n",
       "    <tr>\n",
       "      <th>0</th>\n",
       "      <td>fwXo0</td>\n",
       "      <td>-1.146987</td>\n",
       "      <td>0.963328</td>\n",
       "      <td>-0.828965</td>\n",
       "      <td>27.758673</td>\n",
       "    </tr>\n",
       "    <tr>\n",
       "      <th>1</th>\n",
       "      <td>WJtFt</td>\n",
       "      <td>0.262778</td>\n",
       "      <td>0.269839</td>\n",
       "      <td>-2.530187</td>\n",
       "      <td>56.069697</td>\n",
       "    </tr>\n",
       "    <tr>\n",
       "      <th>2</th>\n",
       "      <td>ovLUW</td>\n",
       "      <td>0.194587</td>\n",
       "      <td>0.289035</td>\n",
       "      <td>-5.586433</td>\n",
       "      <td>62.871910</td>\n",
       "    </tr>\n",
       "    <tr>\n",
       "      <th>3</th>\n",
       "      <td>q6cA6</td>\n",
       "      <td>2.236060</td>\n",
       "      <td>-0.553760</td>\n",
       "      <td>0.930038</td>\n",
       "      <td>114.572842</td>\n",
       "    </tr>\n",
       "    <tr>\n",
       "      <th>4</th>\n",
       "      <td>WPMUX</td>\n",
       "      <td>-0.515993</td>\n",
       "      <td>1.716266</td>\n",
       "      <td>5.899011</td>\n",
       "      <td>149.600746</td>\n",
       "    </tr>\n",
       "    <tr>\n",
       "      <th>...</th>\n",
       "      <td>...</td>\n",
       "      <td>...</td>\n",
       "      <td>...</td>\n",
       "      <td>...</td>\n",
       "      <td>...</td>\n",
       "    </tr>\n",
       "    <tr>\n",
       "      <th>99995</th>\n",
       "      <td>4GxBu</td>\n",
       "      <td>-1.777037</td>\n",
       "      <td>1.125220</td>\n",
       "      <td>6.263374</td>\n",
       "      <td>172.327046</td>\n",
       "    </tr>\n",
       "    <tr>\n",
       "      <th>99996</th>\n",
       "      <td>YKFjq</td>\n",
       "      <td>-1.261523</td>\n",
       "      <td>-0.894828</td>\n",
       "      <td>2.524545</td>\n",
       "      <td>138.748846</td>\n",
       "    </tr>\n",
       "    <tr>\n",
       "      <th>99997</th>\n",
       "      <td>tKPY3</td>\n",
       "      <td>-1.199934</td>\n",
       "      <td>-2.957637</td>\n",
       "      <td>5.219411</td>\n",
       "      <td>157.080080</td>\n",
       "    </tr>\n",
       "    <tr>\n",
       "      <th>99998</th>\n",
       "      <td>nmxp2</td>\n",
       "      <td>-2.419896</td>\n",
       "      <td>2.417221</td>\n",
       "      <td>-5.548444</td>\n",
       "      <td>51.795253</td>\n",
       "    </tr>\n",
       "    <tr>\n",
       "      <th>99999</th>\n",
       "      <td>V9kWn</td>\n",
       "      <td>-2.551421</td>\n",
       "      <td>-2.025625</td>\n",
       "      <td>6.090891</td>\n",
       "      <td>102.775767</td>\n",
       "    </tr>\n",
       "  </tbody>\n",
       "</table>\n",
       "<p>100000 rows × 5 columns</p>\n",
       "</div>"
      ],
      "text/plain": [
       "          id        f0        f1        f2     product\n",
       "0      fwXo0 -1.146987  0.963328 -0.828965   27.758673\n",
       "1      WJtFt  0.262778  0.269839 -2.530187   56.069697\n",
       "2      ovLUW  0.194587  0.289035 -5.586433   62.871910\n",
       "3      q6cA6  2.236060 -0.553760  0.930038  114.572842\n",
       "4      WPMUX -0.515993  1.716266  5.899011  149.600746\n",
       "...      ...       ...       ...       ...         ...\n",
       "99995  4GxBu -1.777037  1.125220  6.263374  172.327046\n",
       "99996  YKFjq -1.261523 -0.894828  2.524545  138.748846\n",
       "99997  tKPY3 -1.199934 -2.957637  5.219411  157.080080\n",
       "99998  nmxp2 -2.419896  2.417221 -5.548444   51.795253\n",
       "99999  V9kWn -2.551421 -2.025625  6.090891  102.775767\n",
       "\n",
       "[100000 rows x 5 columns]"
      ]
     },
     "execution_count": 7,
     "metadata": {},
     "output_type": "execute_result"
    }
   ],
   "source": [
    "# вывод на экран датасета c 3 регионом\n",
    "df_3"
   ]
  },
  {
   "cell_type": "code",
   "execution_count": 8,
   "metadata": {},
   "outputs": [
    {
     "name": "stdout",
     "output_type": "stream",
     "text": [
      "<class 'pandas.core.frame.DataFrame'>\n",
      "RangeIndex: 100000 entries, 0 to 99999\n",
      "Data columns (total 5 columns):\n",
      " #   Column   Non-Null Count   Dtype  \n",
      "---  ------   --------------   -----  \n",
      " 0   id       100000 non-null  object \n",
      " 1   f0       100000 non-null  float64\n",
      " 2   f1       100000 non-null  float64\n",
      " 3   f2       100000 non-null  float64\n",
      " 4   product  100000 non-null  float64\n",
      "dtypes: float64(4), object(1)\n",
      "memory usage: 3.8+ MB\n"
     ]
    }
   ],
   "source": [
    "# обзор данных по 3 Региону\n",
    "df_3.info()"
   ]
  },
  {
   "cell_type": "code",
   "execution_count": 9,
   "metadata": {
    "scrolled": true
   },
   "outputs": [
    {
     "data": {
      "text/html": [
       "<div>\n",
       "<style scoped>\n",
       "    .dataframe tbody tr th:only-of-type {\n",
       "        vertical-align: middle;\n",
       "    }\n",
       "\n",
       "    .dataframe tbody tr th {\n",
       "        vertical-align: top;\n",
       "    }\n",
       "\n",
       "    .dataframe thead th {\n",
       "        text-align: right;\n",
       "    }\n",
       "</style>\n",
       "<table border=\"1\" class=\"dataframe\">\n",
       "  <thead>\n",
       "    <tr style=\"text-align: right;\">\n",
       "      <th></th>\n",
       "      <th>f0</th>\n",
       "      <th>f1</th>\n",
       "      <th>f2</th>\n",
       "      <th>product</th>\n",
       "    </tr>\n",
       "  </thead>\n",
       "  <tbody>\n",
       "    <tr>\n",
       "      <th>min</th>\n",
       "      <td>-1.408605</td>\n",
       "      <td>-0.848218</td>\n",
       "      <td>-12.088328</td>\n",
       "      <td>0.000000</td>\n",
       "    </tr>\n",
       "    <tr>\n",
       "      <th>max</th>\n",
       "      <td>2.362331</td>\n",
       "      <td>1.343769</td>\n",
       "      <td>16.003790</td>\n",
       "      <td>185.364347</td>\n",
       "    </tr>\n",
       "  </tbody>\n",
       "</table>\n",
       "</div>"
      ],
      "text/plain": [
       "           f0        f1         f2     product\n",
       "min -1.408605 -0.848218 -12.088328    0.000000\n",
       "max  2.362331  1.343769  16.003790  185.364347"
      ]
     },
     "execution_count": 9,
     "metadata": {},
     "output_type": "execute_result"
    }
   ],
   "source": [
    "# обзор экстремумов в значениях датасета 1\n",
    "df_1[['f0', 'f1', 'f2', 'product']].describe().loc[['min', 'max']]"
   ]
  },
  {
   "cell_type": "code",
   "execution_count": 10,
   "metadata": {},
   "outputs": [
    {
     "data": {
      "text/html": [
       "<div>\n",
       "<style scoped>\n",
       "    .dataframe tbody tr th:only-of-type {\n",
       "        vertical-align: middle;\n",
       "    }\n",
       "\n",
       "    .dataframe tbody tr th {\n",
       "        vertical-align: top;\n",
       "    }\n",
       "\n",
       "    .dataframe thead th {\n",
       "        text-align: right;\n",
       "    }\n",
       "</style>\n",
       "<table border=\"1\" class=\"dataframe\">\n",
       "  <thead>\n",
       "    <tr style=\"text-align: right;\">\n",
       "      <th></th>\n",
       "      <th>f0</th>\n",
       "      <th>f1</th>\n",
       "      <th>f2</th>\n",
       "      <th>product</th>\n",
       "    </tr>\n",
       "  </thead>\n",
       "  <tbody>\n",
       "    <tr>\n",
       "      <th>min</th>\n",
       "      <td>-31.609576</td>\n",
       "      <td>-26.358598</td>\n",
       "      <td>-0.018144</td>\n",
       "      <td>0.000000</td>\n",
       "    </tr>\n",
       "    <tr>\n",
       "      <th>max</th>\n",
       "      <td>29.421755</td>\n",
       "      <td>18.734063</td>\n",
       "      <td>5.019721</td>\n",
       "      <td>137.945408</td>\n",
       "    </tr>\n",
       "  </tbody>\n",
       "</table>\n",
       "</div>"
      ],
      "text/plain": [
       "            f0         f1        f2     product\n",
       "min -31.609576 -26.358598 -0.018144    0.000000\n",
       "max  29.421755  18.734063  5.019721  137.945408"
      ]
     },
     "execution_count": 10,
     "metadata": {},
     "output_type": "execute_result"
    }
   ],
   "source": [
    "# обзор экстремумов в значениях датасета 2\n",
    "df_2[['f0', 'f1', 'f2', 'product']].describe().loc[['min', 'max']]"
   ]
  },
  {
   "cell_type": "code",
   "execution_count": 11,
   "metadata": {},
   "outputs": [
    {
     "data": {
      "text/html": [
       "<div>\n",
       "<style scoped>\n",
       "    .dataframe tbody tr th:only-of-type {\n",
       "        vertical-align: middle;\n",
       "    }\n",
       "\n",
       "    .dataframe tbody tr th {\n",
       "        vertical-align: top;\n",
       "    }\n",
       "\n",
       "    .dataframe thead th {\n",
       "        text-align: right;\n",
       "    }\n",
       "</style>\n",
       "<table border=\"1\" class=\"dataframe\">\n",
       "  <thead>\n",
       "    <tr style=\"text-align: right;\">\n",
       "      <th></th>\n",
       "      <th>f0</th>\n",
       "      <th>f1</th>\n",
       "      <th>f2</th>\n",
       "      <th>product</th>\n",
       "    </tr>\n",
       "  </thead>\n",
       "  <tbody>\n",
       "    <tr>\n",
       "      <th>min</th>\n",
       "      <td>-8.760004</td>\n",
       "      <td>-7.084020</td>\n",
       "      <td>-11.970335</td>\n",
       "      <td>0.000000</td>\n",
       "    </tr>\n",
       "    <tr>\n",
       "      <th>max</th>\n",
       "      <td>7.238262</td>\n",
       "      <td>7.844801</td>\n",
       "      <td>16.739402</td>\n",
       "      <td>190.029838</td>\n",
       "    </tr>\n",
       "  </tbody>\n",
       "</table>\n",
       "</div>"
      ],
      "text/plain": [
       "           f0        f1         f2     product\n",
       "min -8.760004 -7.084020 -11.970335    0.000000\n",
       "max  7.238262  7.844801  16.739402  190.029838"
      ]
     },
     "execution_count": 11,
     "metadata": {},
     "output_type": "execute_result"
    }
   ],
   "source": [
    "# обзор экстремумов в значениях датасета 3\n",
    "df_3[['f0', 'f1', 'f2', 'product']].describe().loc[['min', 'max']]"
   ]
  },
  {
   "cell_type": "markdown",
   "metadata": {},
   "source": [
    "Для исследования даны три датасета одной размерности в 100 тысяч строк и 5 столбцов. 4 столбца с признаками и целевым признаком включают данные в вещественном типе, а столбец с идентификатором скважины - в строковом. Данные с целевым признаком выражены в положительных числах, а признаки включают как положительные, так и отрицательные значения. Мы не можем сказать что конкретно обозначают эти признаки. Возможно они отмасштабированные численные или какие-либо из них перекодированные и масштабированные категориальные признаки. Поэтому будем острожны с их редактированием и удалением, но все же далее изучим данные на наличие выбросов и распределение в данных, а также проверим их на дубликаты."
   ]
  },
  {
   "cell_type": "markdown",
   "metadata": {},
   "source": [
    "### Шаг 1.2. Подготовка  данных для исследования."
   ]
  },
  {
   "cell_type": "code",
   "execution_count": 12,
   "metadata": {},
   "outputs": [],
   "source": [
    "# создание списка с датафреймами и номерами регионов\n",
    "list_df = [df_1, df_2, df_3]\n",
    "list_df_id = [df_1['id'], df_2['id'], df_3['id']]\n",
    "list_numb_sample = ['1', '2', '3']"
   ]
  },
  {
   "cell_type": "code",
   "execution_count": 13,
   "metadata": {},
   "outputs": [
    {
     "name": "stdout",
     "output_type": "stream",
     "text": [
      "Количество дубликатов в таблице №0: 0 шт.\n",
      "Количество дубликатов в таблице №1: 0 шт.\n",
      "Количество дубликатов в таблице №2: 0 шт.\n"
     ]
    }
   ],
   "source": [
    "# проверка данных на дубликаты\n",
    "for i in range(len(list_df)):\n",
    "    print(f'Количество дубликатов в таблице №{i}: {list_df[i].duplicated().sum()} шт.')"
   ]
  },
  {
   "cell_type": "code",
   "execution_count": 14,
   "metadata": {},
   "outputs": [
    {
     "name": "stdout",
     "output_type": "stream",
     "text": [
      "Количество дубликатов в идентификаторах скважин по таблице №0: 10 шт.\n",
      "Количество дубликатов в идентификаторах скважин по таблице №1: 4 шт.\n",
      "Количество дубликатов в идентификаторах скважин по таблице №2: 4 шт.\n"
     ]
    }
   ],
   "source": [
    "# проверка дубликатов в идентификаторах скважин\n",
    "for i in range(len(list_df)):\n",
    "    print(f'Количество дубликатов в идентификаторах скважин по таблице №{i}: {list_df_id[i].duplicated().sum()} шт.')"
   ]
  },
  {
   "cell_type": "markdown",
   "metadata": {},
   "source": [
    "Явные дубликаты во всех таблицах отсутствуют. При проверке повторов в идентификаторах скважин выявили до 10 в датасетах. Так как количество дубликатов идентификаторов очень незначительно, то их можно как удалять, так и опустить факт их наличия, так как это не может существенно повлиять на исследование.\n",
    "\n",
    "Изучим данные на выбросы, которые могут привести к неправильному обучению модели."
   ]
  },
  {
   "cell_type": "code",
   "execution_count": 15,
   "metadata": {},
   "outputs": [],
   "source": [
    "# создание функции принимающей аргументами данные и номер региона, которая строит \"боксплоты\"\n",
    "def boxplot(df, sample) :\n",
    "    sns.set_style('whitegrid')\n",
    "    sns.axes_style('white')\n",
    "    plt.figure(figsize=(6,4))\n",
    "    sns.boxplot(data = df)\n",
    "    plt.title('Ящик с усами по признакам Региона {}'.format(sample), fontsize=12)"
   ]
  },
  {
   "cell_type": "code",
   "execution_count": 16,
   "metadata": {},
   "outputs": [
    {
     "data": {
      "image/png": "[encoded data removed]",
      "text/plain": [
       "<Figure size 432x288 with 1 Axes>"
      ]
     },
     "metadata": {
      "needs_background": "light"
     },
     "output_type": "display_data"
    },
    {
     "data": {
      "image/png": "[encoded data removed]",
      "text/plain": [
       "<Figure size 432x288 with 1 Axes>"
      ]
     },
     "metadata": {},
     "output_type": "display_data"
    },
    {
     "data": {
      "image/png": "[encoded data removed]",
      "text/plain": [
       "<Figure size 432x288 with 1 Axes>"
      ]
     },
     "metadata": {},
     "output_type": "display_data"
    }
   ],
   "source": [
    "# вызов функции для \"боксплотов\" по признакам\n",
    "for i in range(3):\n",
    "    boxplot(list_df[i].drop('product', axis=1), list_numb_sample[i])"
   ]
  },
  {
   "cell_type": "markdown",
   "metadata": {},
   "source": [
    "В данных по признакам в датафреймах есть значения, которые выходят за пределы полуторного интерквантильного размаха, но вцелом разброс имеет сплошной характер, без сильно выделяющихся значений. Выведем на экран долю значений, выходящих за пределы размаха. Предварительно запишем каждый столбец с данными значениями в переменные. "
   ]
  },
  {
   "cell_type": "code",
   "execution_count": 17,
   "metadata": {},
   "outputs": [
    {
     "name": "stdout",
     "output_type": "stream",
     "text": [
      "Доля значений выходящих за пределы 1.5 iqr \"f2\" в 0 датасете: 0.75%\n"
     ]
    }
   ],
   "source": [
    "# вывод на экран доли значений выходящих за 1.5 iqr по 1 датасету\n",
    "df_1_iqr_f1 = df_1[(df_1['f2'] < (-6)) | (df_1['f2'] > 11)]['f2']\n",
    "print('Доля значений выходящих за пределы 1.5 iqr \"f2\" в 0 датасете: {:.2%}'.format(df_1_iqr_f1.count() / \n",
    "                                                                                    len(df_1)))"
   ]
  },
  {
   "cell_type": "code",
   "execution_count": 18,
   "metadata": {},
   "outputs": [
    {
     "name": "stdout",
     "output_type": "stream",
     "text": [
      "Доля значений выходящих за пределы 1.5 iqr \"f0\" во 2 датасете: 0.00%\n",
      "Доля значений выходящих за пределы 1.5 iqr \"f1\" во 2 датасете: 0.33%\n"
     ]
    }
   ],
   "source": [
    "# вывод на экран доли значений выходящих за 1.5 iqr по 2 датасету\n",
    "df_2_iqr_f0  = df_2[(df_2['f0'] < (-30))]['f0']\n",
    "df_2_iqr_f1 = df_2[(df_2['f1'] < (-20)) | (df_2['f1'] > 10)]['f1']\n",
    "print('Доля значений выходящих за пределы 1.5 iqr \"f0\" во 2 датасете: {:.2%}'.format(df_2_iqr_f0.count() /\n",
    "                                                                                     len(df_2)))\n",
    "print('Доля значений выходящих за пределы 1.5 iqr \"f1\" во 2 датасете: {:.2%}'.format(df_2_iqr_f1.count() /\n",
    "                                                                                     len(df_2)))"
   ]
  },
  {
   "cell_type": "code",
   "execution_count": 19,
   "metadata": {},
   "outputs": [
    {
     "name": "stdout",
     "output_type": "stream",
     "text": [
      "Доля значений выходящих за пределы 1.5 iqr \"f0\" во 2 датасете: 0.38%\n",
      "Доля значений выходящих за пределы 1.5 iqr \"f1\" во 2 датасете: 0.39%\n",
      "Доля значений выходящих за пределы 1.5 iqr \"f2\" во 2 датасете: 0.57%\n"
     ]
    }
   ],
   "source": [
    "# вывод на экран доли значений выходящих за 1.5 iqr по 3 датасету\n",
    "df_3_iqr_f0 = df_3[(df_3['f0'] < (-5)) | (df_3['f0'] > 5)]['f0']\n",
    "df_3_iqr_f1 = df_3[(df_3['f1'] < (-5)) | (df_3['f1'] > 5)]['f1']\n",
    "df_3_iqr_f2 = df_3[(df_3['f2'] < (-7)) | (df_3['f2'] > 12)]['f2']\n",
    "print('Доля значений выходящих за пределы 1.5 iqr \"f0\" во 2 датасете: {:.2%}'.format(df_3_iqr_f0.count() / \n",
    "                                                                                     len(df_3)))\n",
    "print('Доля значений выходящих за пределы 1.5 iqr \"f1\" во 2 датасете: {:.2%}'.format(df_3_iqr_f1.count() /\n",
    "                                                                                     len(df_3)))\n",
    "print('Доля значений выходящих за пределы 1.5 iqr \"f2\" во 2 датасете: {:.2%}'.format(df_3_iqr_f2.count() /\n",
    "                                                                                     len(df_3)))"
   ]
  },
  {
   "cell_type": "markdown",
   "metadata": {},
   "source": [
    "Также изучим целевой признак на выбросы."
   ]
  },
  {
   "cell_type": "code",
   "execution_count": 20,
   "metadata": {},
   "outputs": [
    {
     "data": {
      "image/png": "[encoded data removed]",
      "text/plain": [
       "<Figure size 432x288 with 1 Axes>"
      ]
     },
     "metadata": {},
     "output_type": "display_data"
    },
    {
     "data": {
      "image/png": "[encoded data removed]",
      "text/plain": [
       "<Figure size 432x288 with 1 Axes>"
      ]
     },
     "metadata": {},
     "output_type": "display_data"
    },
    {
     "data": {
      "image/png": "[encoded data removed]",
      "text/plain": [
       "<Figure size 432x288 with 1 Axes>"
      ]
     },
     "metadata": {},
     "output_type": "display_data"
    }
   ],
   "source": [
    "# вызов функции для \"боксплотов\" по целевому признаку\n",
    "for i in range(3):\n",
    "    boxplot(list_df[i].drop(['f0', 'f1', 'f2'], axis=1), list_numb_sample[i])"
   ]
  },
  {
   "cell_type": "markdown",
   "metadata": {},
   "source": [
    "Построим гистограммы, чтобы проанализировать распределение целевого признака."
   ]
  },
  {
   "cell_type": "code",
   "execution_count": 21,
   "metadata": {},
   "outputs": [],
   "source": [
    "# создание функции принимающей аргументами целевой признак и номер региона, которая строит гистограммы\n",
    "def target_hist(target, sample):\n",
    "    sns.set_style('whitegrid')\n",
    "    sns.axes_style('white')\n",
    "    plt.figure(figsize=(8,6))\n",
    "    sns.histplot(data=target)\n",
    "    plt.title('Распределение объма добычи Региона {}'.format(sample, fontsize=14))\n",
    "    plt.ylabel('Объем, тыс. баррелей', fontsize=12)"
   ]
  },
  {
   "cell_type": "code",
   "execution_count": 22,
   "metadata": {},
   "outputs": [
    {
     "data": {
      "image/png": "[encoded data removed]",
      "text/plain": [
       "<Figure size 576x432 with 1 Axes>"
      ]
     },
     "metadata": {},
     "output_type": "display_data"
    },
    {
     "data": {
      "image/png": "[encoded data removed]",
      "text/plain": [
       "<Figure size 576x432 with 1 Axes>"
      ]
     },
     "metadata": {},
     "output_type": "display_data"
    },
    {
     "data": {
      "image/png": "[encoded data removed]",
      "text/plain": [
       "<Figure size 576x432 with 1 Axes>"
      ]
     },
     "metadata": {},
     "output_type": "display_data"
    }
   ],
   "source": [
    "# вызов функции для постройки гистограмм\n",
    "for i in range(3):\n",
    "    target_hist(list_df[i].drop(['f0', 'f1', 'f2'], axis=1), list_numb_sample[i])"
   ]
  },
  {
   "cell_type": "markdown",
   "metadata": {},
   "source": [
    "Распределение целевого признака в 1 и 3 регионах очень похоже, по форме близкое к нормальному, но с некоторыми просадками в частоте значений в середине. Скорее всего обучение и показатели модели на этих датасетах может быть близким. Распределение объема добычи во 2 датасете не имеет нормальный вид, в середине узкие диапазоны с примерно одинаковой частотой в данных и много  данных по краям шкалы на минимальной и максимальных запасах сырья. Результаты обучения модели на 2 датасете скорее всего будут сильно отличаться от 1 и 3. "
   ]
  },
  {
   "cell_type": "markdown",
   "metadata": {},
   "source": [
    "## Шаг 2. Обучение и проверка модели."
   ]
  },
  {
   "cell_type": "code",
   "execution_count": 23,
   "metadata": {},
   "outputs": [],
   "source": [
    "# создание функции для деления данных на признаки и целевой признак\n",
    "def split_feat_targ(df):\n",
    "    X, y = df.drop(['id', 'product'], axis=1), df['product']\n",
    "    return X, y"
   ]
  },
  {
   "cell_type": "code",
   "execution_count": 24,
   "metadata": {},
   "outputs": [],
   "source": [
    "# вызов функции для деления на признаки\n",
    "X_1, y_1 = split_feat_targ(df_1)\n",
    "X_2, y_2 = split_feat_targ(df_2)\n",
    "X_3, y_3 = split_feat_targ(df_3)"
   ]
  },
  {
   "cell_type": "code",
   "execution_count": 25,
   "metadata": {},
   "outputs": [],
   "source": [
    "# создание списков с признаками и целевым признаком\n",
    "list_feature = [X_1, X_2, X_3,]\n",
    "list_target = [y_1, y_2, y_3]"
   ]
  },
  {
   "cell_type": "code",
   "execution_count": 26,
   "metadata": {},
   "outputs": [],
   "source": [
    "# создание функции, принимающей аргументами признаки и целевой признак для разбиения данных на тренировочную и валидационную\n",
    "# выборки\n",
    "def train_valid_split(features, target):\n",
    "    features_train, features_valid, target_train, target_valid = train_test_split(features, target,\n",
    "                                                                                  test_size=0.25, random_state=12345)\n",
    "    return features_train, features_valid, target_train, target_valid"
   ]
  },
  {
   "cell_type": "code",
   "execution_count": 27,
   "metadata": {},
   "outputs": [],
   "source": [
    "# вызов функции для разбиения и запись в переменные по регионам\n",
    "X_train_1, X_valid_1, y_train_1, y_valid_1 = train_valid_split(X_1, y_1)\n",
    "X_train_2, X_valid_2, y_train_2, y_valid_2 = train_valid_split(X_2, y_2)\n",
    "X_train_3, X_valid_3, y_train_3, y_valid_3 = train_valid_split(X_3, y_3)"
   ]
  },
  {
   "cell_type": "code",
   "execution_count": 28,
   "metadata": {},
   "outputs": [],
   "source": [
    "# создание списков с выборками \n",
    "list_features_train = [X_train_1, X_train_2, X_train_3]\n",
    "list_target_train = [y_train_1, y_train_2, y_train_3]\n",
    "list_features_valid = [X_valid_1, X_valid_2, X_valid_3]\n",
    "list_target_valid = [y_valid_1, y_valid_2, y_valid_3]"
   ]
  },
  {
   "cell_type": "code",
   "execution_count": 29,
   "metadata": {},
   "outputs": [],
   "source": [
    "# создание функции, принимающей аргументами тренировочные, валидационные выборки и номер региона для вывода на экран размера\n",
    "# выборок\n",
    "def samp_size(X_t, y_t, X_v, y_v, name_samp):\n",
    "    for i in range(3):\n",
    "        print( f'Размер тренировочной выборки по Региону {name_samp[i]}: {X_t[i].shape}, {y_t[i].shape}.'\n",
    "               f'Размер валидационной выборки по Региону {name_samp[i]}:{X_v[i].shape}, {y_v[i].shape}.')\n",
    "        print()"
   ]
  },
  {
   "cell_type": "code",
   "execution_count": 30,
   "metadata": {},
   "outputs": [
    {
     "name": "stdout",
     "output_type": "stream",
     "text": [
      "Размер тренировочной выборки по Региону 1: (75000, 3), (75000,).Размер валидационной выборки по Региону 1:(25000, 3), (25000,).\n",
      "\n",
      "Размер тренировочной выборки по Региону 2: (75000, 3), (75000,).Размер валидационной выборки по Региону 2:(25000, 3), (25000,).\n",
      "\n",
      "Размер тренировочной выборки по Региону 3: (75000, 3), (75000,).Размер валидационной выборки по Региону 3:(25000, 3), (25000,).\n",
      "\n"
     ]
    }
   ],
   "source": [
    "# вызов функции для вывода на экран размера выборок\n",
    "samp_size(list_features_train, list_target_train, list_features_valid, list_target_valid, list_numb_sample)"
   ]
  },
  {
   "cell_type": "markdown",
   "metadata": {},
   "source": [
    "Создадим функцию, которая принимает аргументами тренировочные и валидационные выборки по всем регионам, а также номера регионов. Внутри модель \"LinearRegression\" обучается, делает предсказания, в валидационной выборке с признаками создается новый столбец с данными о предсказании целевого признака. Рассчитывается и выводится на экран метрика RMSE, а также средний запас предсказанного сырья в регионе."
   ]
  },
  {
   "cell_type": "code",
   "execution_count": 31,
   "metadata": {},
   "outputs": [],
   "source": [
    "# создание функции для обучения и предсказания модели, рассчета RMSE и среднего предсказанного запаса сырья по каждому региону\n",
    "def fit_predict_model(X_t, y_t, X_v, y_v, numb_samp): \n",
    "    for i in range(3):\n",
    "        reg = LinearRegression().fit(X_t[i], y_t[i])\n",
    "        predicted_valid = reg.predict(X_v[i])\n",
    "        X_v[i]['predicted'] = predicted_valid\n",
    "        RMSE = (mean_squared_error(y_v[i], predicted_valid))**0.5\n",
    "        print('RMSE модели на валидационной выборке Региона {}: {:.3f}'.format(numb_samp[i], RMSE))\n",
    "        print()\n",
    "        print('Средний запас предсказанного сырья Региона {}: {:.3f} тыс. баррелей'.format(numb_samp[i],\n",
    "                                                                                           predicted_valid.mean()))\n",
    "        print('\\n')"
   ]
  },
  {
   "cell_type": "code",
   "execution_count": 32,
   "metadata": {},
   "outputs": [
    {
     "name": "stdout",
     "output_type": "stream",
     "text": [
      "RMSE модели на валидационной выборке Региона 1: 37.579\n",
      "\n",
      "Средний запас предсказанного сырья Региона 1: 92.593 тыс. баррелей\n",
      "\n",
      "\n",
      "RMSE модели на валидационной выборке Региона 2: 0.893\n",
      "\n",
      "Средний запас предсказанного сырья Региона 2: 68.729 тыс. баррелей\n",
      "\n",
      "\n",
      "RMSE модели на валидационной выборке Региона 3: 40.030\n",
      "\n",
      "Средний запас предсказанного сырья Региона 3: 94.965 тыс. баррелей\n",
      "\n",
      "\n"
     ]
    }
   ],
   "source": [
    "fit_predict_model(list_features_train, list_target_train, list_features_valid, list_target_valid, list_numb_sample)"
   ]
  },
  {
   "cell_type": "markdown",
   "metadata": {},
   "source": [
    " - Как и предполагали при похожем распределении данных, модель показала примерно одинаковые RMSE на 1 и 3 регионах, но ошибка при этом достаточно велика. Средний запас сырья для скважины в этих регионах тоже почти равен.\n",
    " - Величина RMSE модели на 2 регионе очень низкая, что можно объяснить абсолютно иным распределением данных в этом регионе относительно других регионов. Средний запас предсказанного сырья в скважине 2 региона примерно на 25% ниже чем в 1 и 3 регионах."
   ]
  },
  {
   "cell_type": "markdown",
   "metadata": {},
   "source": [
    "## Шаг 3. Подготовка к расчёту прибыли."
   ]
  },
  {
   "cell_type": "code",
   "execution_count": 33,
   "metadata": {},
   "outputs": [],
   "source": [
    "# создание константы затрат на бурение скважин\n",
    "BUDGET = 10000000000\n",
    "# создание константы дохода с 1000 баррелей сырья\n",
    "REVENUE_PER_1000_BARRELS = 450000\n",
    "# создание константы вероятности получения убытка\n",
    "P_LOSS = 0.025\n",
    "# создание константы количества топ скважин\n",
    "TOP_200 = 200\n",
    "# создание константы количества скважин для исследования региона\n",
    "CHOOSE_ID = 500\n",
    "# создание константы уровня доверия(для доверительного интервала)\n",
    "LEV_CONF= 0.95"
   ]
  },
  {
   "cell_type": "code",
   "execution_count": 34,
   "metadata": {},
   "outputs": [
    {
     "name": "stdout",
     "output_type": "stream",
     "text": [
      "Достаточный объем сырья для разработки одной скважины: 111.111 тыс. баррелей.\n"
     ]
    }
   ],
   "source": [
    "# рассчет достаточного объема сырья для разработки одной скважины\n",
    "enough_vol_per_id = BUDGET / (TOP_200 * REVENUE_PER_1000_BARRELS)\n",
    "print('Достаточный объем сырья для разработки одной скважины: {:.3f} тыс. баррелей.'.format(enough_vol_per_id))"
   ]
  },
  {
   "cell_type": "markdown",
   "metadata": {},
   "source": [
    " - Сравнив данные о предсказании моделью среднего запаса сырья в скважине по каждому региону и достаточный объем сырья по одной скважине для преодоления порога безубыточности, можно отметить, что средний предсказанный объем существенно ниже достаточного.\n",
    " - Распеределение данных неравномерно, поэтому выбрав лучшие 200 скважин наш алгоритм возможно предскажет скважины, обеспечивающие безубыточную разработку"
   ]
  },
  {
   "cell_type": "markdown",
   "metadata": {},
   "source": [
    "## Шаг 4. Расчёт прибыли и рисков. "
   ]
  },
  {
   "cell_type": "markdown",
   "metadata": {},
   "source": [
    "Для решения задачи создадим функцию, которая принимает аргументами данные валидационной выборки региона и его номер. Функция находит индексы топ-200 скважин, предсказанных моделью, затем сохраняет значения реального целевого признака с этими индексами, суммирует объем сырья топ-200 скважин и находит доход и прибыль разработки этих скважин. Возвращает объем сырья и прибыль топ-200 скважин. "
   ]
  },
  {
   "cell_type": "code",
   "execution_count": 35,
   "metadata": {},
   "outputs": [],
   "source": [
    "# создание функции для рассчета объема сырья и прибыли топ-200 предсказанных скважин региона\n",
    "def profit_samp(X_v, y_v, name_samp):\n",
    "    y_predicted_max_index = X_v.nlargest(TOP_200, 'predicted', keep='first').index\n",
    "    y_top_200 = y_v.loc[y_predicted_max_index]\n",
    "    y_top_200_product = y_top_200.sum()\n",
    "    y_top_200_revenue = y_top_200_product*REVENUE_PER_1000_BARRELS\n",
    "    y_top_200_profit = y_top_200_revenue - BUDGET\n",
    "    return y_top_200_product, y_top_200_profit"
   ]
  },
  {
   "cell_type": "code",
   "execution_count": 36,
   "metadata": {},
   "outputs": [
    {
     "name": "stdout",
     "output_type": "stream",
     "text": [
      "Объем сырья для топ-200 скважин Региона 1: 29_602 тысяч баррелей\n",
      "\n",
      "Прибыль для топ-200 скважин Региона 1 составляет 3_320_826_043 рублей\n",
      "\n",
      "\n",
      "Объем сырья для топ-200 скважин Региона 2: 27_589 тысяч баррелей\n",
      "\n",
      "Прибыль для топ-200 скважин Региона 2 составляет 2_415_086_697 рублей\n",
      "\n",
      "\n",
      "Объем сырья для топ-200 скважин Региона 3: 28_245 тысяч баррелей\n",
      "\n",
      "Прибыль для топ-200 скважин Региона 3 составляет 2_710_349_964 рублей\n",
      "\n",
      "\n"
     ]
    }
   ],
   "source": [
    "# вывод на экран в цикле объема сырья и прибыли топ-200 предсказанных скважин с вызовом функции для рассчета объема сырья и\n",
    "# прибыли\n",
    "for i in range(3):\n",
    "    product, profit = profit_samp(list_features_valid[i], list_target_valid[i], list_numb_sample[i])\n",
    "    print('Объем сырья для топ-200 скважин Региона {}: {:_.0f} тысяч баррелей'.format(list_numb_sample[i], product))\n",
    "    print() \n",
    "    print('Прибыль для топ-200 скважин Региона {} составляет {:_.0f} рублей'.format(list_numb_sample[i], profit))\n",
    "    print('\\n')"
   ]
  },
  {
   "cell_type": "markdown",
   "metadata": {},
   "source": [
    " - Топ-200 предсказанных скважин для Региона 1 показали наилучший объем сырья и прибыль.\n",
    " - Предсказанные скважины для 2 и 3 региона выдали примерно одинаковый объем сырья и прибыль.\n",
    " \n",
    "Так как данные в выборке имеют неравномерное распределение, нахождение прибыли на общей выборке может иметь искаженный характер. Для оценки рисков и нахождения более объективной средней прибыли воспользуемся техникой \"Bootstrap\". \n",
    " \n",
    " - В цикле для трех регионов рассчитаем 95-й% доверительный интервал средней прибыли, среднюю прибыль, а также вероятность получения убытка. \n",
    " - Для нахождения средней прибыли по региону воспользуемся функцией для нахождения объема и прибыли топ-200 скважин. В функцию передаем выборку, сформированную методом \"sample\", в котором доля \"frac\" рассчитана как отношение выбираемых 500 скважин к длине валидационной выборки по региону.\n",
    " - Среднюю прибыль добавляем в список из которого находим среднее значение прибыли, а также 95-й% интервал прибыли.\n",
    " - Для нахождения вероятности получения убытка создаем счетчик, в котором сохраняем по условию количество убытков, полученных с применением техники \"Bootstrap\". Вероятность вычисляем поделив количество убытков на количество выборок. "
   ]
  },
  {
   "cell_type": "code",
   "execution_count": 37,
   "metadata": {},
   "outputs": [
    {
     "name": "stdout",
     "output_type": "stream",
     "text": [
      "Расчет средней прибыли, доверительного интервала, риска убытка для Региона 1:\n",
      "\n",
      "5-% квантиль: -37181596.26254606\n",
      "90-% квантиль: 746656397.4300469\n",
      "\n",
      "95-й% доверительный интервал по Региону 1: (379620315.14797246, 412709654.4567696)\n",
      "\n",
      "Средняя прибыль по Региону 1: 396_164_985 рублей\n",
      "\n",
      "Вероятность получения убытка в Регионе 1: 6.9%\n",
      "\n",
      "Риск убытков по Региону 1 выше 2.5%\n",
      "\n",
      "\n",
      "\n",
      "Расчет средней прибыли, доверительного интервала, риска убытка для Региона 2:\n",
      "\n",
      "5-% квантиль: 109475721.45480281\n",
      "90-% квантиль: 723269894.9594278\n",
      "\n",
      "95-й% доверительный интервал по Региону 2: (443147248.6639008, 468942962.90942127)\n",
      "\n",
      "Средняя прибыль по Региону 2: 456_045_106 рублей\n",
      "\n",
      "Вероятность получения убытка в Регионе 2: 1.5%\n",
      "\n",
      "Риск убытков по Региону 2 ниже 2.5%\n",
      "\n",
      "\n",
      "\n",
      "Расчет средней прибыли, доверительного интервала, риска убытка для Региона 3:\n",
      "\n",
      "5-% квантиль: -58533441.0505024\n",
      "90-% квантиль: 736849010.8628638\n",
      "\n",
      "95-й% доверительный интервал по Региону 3: (387445797.47128093, 421361935.66543376)\n",
      "\n",
      "Средняя прибыль по Региону 3: 404_403_867 рублей\n",
      "\n",
      "Вероятность получения убытка в Регионе 3: 7.6%\n",
      "\n",
      "Риск убытков по Региону 3 выше 2.5%\n",
      "\n",
      "\n",
      "\n"
     ]
    }
   ],
   "source": [
    "# Расcчет средней прибыли, доверительного интервала, риска убытка для Региона c с применением техники \"Bootstrap\"\n",
    "for i in range(3):\n",
    "    print('Расчет средней прибыли, доверительного интервала, риска убытка для Региона {}:'.format(list_numb_sample[i]))\n",
    "    print()\n",
    "    state = np.random.RandomState(12345)\n",
    "    count = 0\n",
    "    bootstrat_samp = 1000\n",
    "    prof_loss_samp = []\n",
    "    for _ in range(bootstrat_samp):\n",
    "        X_pred_samp = list_features_valid[i].sample(frac=CHOOSE_ID/len(list_features_valid[i]),\n",
    "                                                    replace=True, random_state=state)\n",
    "        prod_samp, prof_samp = profit_samp(X_pred_samp, list_target_valid[i], list_numb_sample[i])\n",
    "        prof_loss_samp.append(prof_samp)\n",
    "        if prof_samp < 0:\n",
    "            count += 1 \n",
    "            \n",
    "    prof_loss_samp = pd.Series(prof_loss_samp)\n",
    "    prof_loss_samp_mean = prof_loss_samp.mean()\n",
    "    confidence_interval = st.t.interval(LEV_CONF, len(prof_loss_samp) - 1, prof_loss_samp.mean(), prof_loss_samp.sem())\n",
    "    lower = prof_loss_samp.quantile(0.05)\n",
    "    upper = prof_loss_samp.quantile(0.90)\n",
    "    print('5-% квантиль:', lower)\n",
    "    print('90-% квантиль:', upper)\n",
    "    print()\n",
    "    print('95-й% доверительный интервал по Региону {}: {}'.format(list_numb_sample[i], confidence_interval))\n",
    "    print()\n",
    "    print('Средняя прибыль по Региону {}: {:_.0f} рублей'.format(list_numb_sample[i], prof_loss_samp_mean))\n",
    "    print()\n",
    "    prob_loss = count / bootstrat_samp\n",
    "    print('Вероятность получения убытка в Регионе {}: {:.1%}'.format(list_numb_sample[i], prob_loss))\n",
    "    print()\n",
    "    if prob_loss < P_LOSS:\n",
    "        print('Риск убытков по Региону {} ниже 2.5%'.format(list_numb_sample[i]))\n",
    "    else:\n",
    "        print('Риск убытков по Региону {} выше 2.5%'.format(list_numb_sample[i]))\n",
    "    print('\\n\\n')     "
   ]
  },
  {
   "cell_type": "markdown",
   "metadata": {},
   "source": [
    "**При использовании техники \"Bootstrap\":**\n",
    " \n",
    " - Регион 2:\n",
    "   - Единственный, где с применением техники \"Bootstrap\" вероятность риска получения убытка при выборе скважин с использованием модели машинного обучения оказалась ниже 2.5 %. \n",
    "   - Неравномерное распределение запасов не позволяло при использовании общей выборки найти объективное распределение прибыли в предсказанных скважинах для этого региона.\n",
    "   - Распределение прибыли в доверительном интервале имеет меньший диапазон и большие показатели чем других регионов.\n",
    " - В регионах 1 и 3:\n",
    "   - Риск получить убыток намного выше чем во 2 регионе. \n",
    "   - Регион 1 имеет средние показатели прибыли и распределения этой прибыли в доверительном интервале.\n",
    "   - Наивысший риск получения убытка существует в 3 регионе.\n",
    "   \n",
    "**Технику \"Bootstrap\" можно использовать для нахождения необходимых величин не рассчитывая на нормальное распределение в данных.  В задаче по выбору оптимального региона для бурения скважин она помогает находить наиболее объективное распределение прибыли. С учетом всех преимуществ данного метода и использовании модели машинного обучения \"LinearRegression\" делаем выбор в пользу разработки скважин во \"2-м Регионе\".**"
   ]
  },
  {
   "cell_type": "markdown",
   "metadata": {},
   "source": [
    "## Шаг 5. Итоги исследования."
   ]
  },
  {
   "cell_type": "markdown",
   "metadata": {},
   "source": [
    "### Шаг 5.1. Описание хода исследования."
   ]
  },
  {
   "cell_type": "markdown",
   "metadata": {},
   "source": [
    "Для реализации поставленной задачи мы:\n",
    "   - Изучили датасет, проверили экстремумы в признаках.\n",
    "   - Проверили данные на дубликаты.\n",
    "   - Построили \"боксплоты\", на основании их проверили долю выбросов по каждому региону и удалили их.\n",
    "   - Построили гистограммы распределения целевого признака, отметили существенные отличия распределения 2 региона от 1 и 3.\n",
    "   - Разбили данные на признаки и целевой признак, затем создали обучающие и валидационные выборки по регионам.\n",
    "   - Указали размерность выборок.\n",
    "   - Обучили модель \"LinearRegression\" на тренировочных выборках, которой сделали предсказания на валидационных выборках.\n",
    "   - Рассчитали RMSE и средний запас сырья в скважине регионов, указали на разницу показателей 2 региона и других.\n",
    "   - Создали необходимые константы для последующих расчетов объема сырья, прибыли, риска убытков для разработки топ-скважин.\n",
    "   - Рассчитали достаточный объем сырья для безубыточной разработки скважины.\n",
    "   - Создали функцию для рассчета прибыли топ-скважин и с ее помощью вывели на экран прибыль и объем сырья топ-скважин.\n",
    "   - Техникой \"Bootstrap\" с 1000 подвыборок вычислили распределение прибыли, 95-й% доверительный интервал и вероятность убытка в каждом регионе.\n",
    "   - На основании исследования сделали выбор региона для бурения.\n",
    "По итогам исследования делаем общий вывод:"
   ]
  },
  {
   "cell_type": "markdown",
   "metadata": {},
   "source": [
    "### Шаг 5.2. Общий вывод."
   ]
  },
  {
   "cell_type": "markdown",
   "metadata": {},
   "source": [
    " - Точность предсказания модели \"LinearRegression\" на данных исследования оказалась лучше на выборке далекой от нормального распределения данных.\n",
    " - При прогнозировании топ-200 скважин на общих валидационных выборках по регионам с нормальным распределением данных, показатели прибыли и запасов сырья лучше, чем у региона с несбалансированным распределением данных.\n",
    " - Используя технику \"Bootstrap\", которуя позволяет посчитать распределение прибыли на данных с далеким от нормы распределением, получили лучшие результаты для Региона 2. \n",
    " - На основании преимуществ использования техники \"Bootstrap\", рекомендуем производить разработку скважин во 2-м Регионе."
   ]
  },
  {
   "cell_type": "code",
   "execution_count": null,
   "metadata": {},
   "outputs": [],
   "source": []
  }
 ],
 "metadata": {
  "ExecuteTimeLog": [
   {
    "duration": 1496,
    "start_time": "2022-06-02T13:42:22.811Z"
   },
   {
    "duration": 545,
    "start_time": "2022-06-02T13:42:24.310Z"
   },
   {
    "duration": 23,
    "start_time": "2022-06-02T13:42:24.865Z"
   },
   {
    "duration": 31,
    "start_time": "2022-06-02T13:42:24.890Z"
   },
   {
    "duration": 18,
    "start_time": "2022-06-02T13:42:24.923Z"
   },
   {
    "duration": 47,
    "start_time": "2022-06-02T13:42:24.943Z"
   },
   {
    "duration": 23,
    "start_time": "2022-06-02T13:42:24.992Z"
   },
   {
    "duration": 41,
    "start_time": "2022-06-02T13:42:25.017Z"
   },
   {
    "duration": 74,
    "start_time": "2022-06-02T13:42:25.061Z"
   },
   {
    "duration": 44,
    "start_time": "2022-06-02T13:42:25.139Z"
   },
   {
    "duration": 59,
    "start_time": "2022-06-02T13:42:25.185Z"
   },
   {
    "duration": 4,
    "start_time": "2022-06-02T13:42:25.250Z"
   },
   {
    "duration": 234,
    "start_time": "2022-06-02T13:42:25.257Z"
   },
   {
    "duration": 56,
    "start_time": "2022-06-02T13:42:25.493Z"
   },
   {
    "duration": 11,
    "start_time": "2022-06-02T13:42:25.552Z"
   },
   {
    "duration": 625,
    "start_time": "2022-06-02T13:42:25.565Z"
   },
   {
    "duration": 10,
    "start_time": "2022-06-02T13:42:26.192Z"
   },
   {
    "duration": 61,
    "start_time": "2022-06-02T13:42:26.205Z"
   },
   {
    "duration": 9,
    "start_time": "2022-06-02T13:42:26.268Z"
   },
   {
    "duration": 44,
    "start_time": "2022-06-02T13:42:26.279Z"
   },
   {
    "duration": 21,
    "start_time": "2022-06-02T13:42:26.325Z"
   },
   {
    "duration": 35,
    "start_time": "2022-06-02T13:42:26.351Z"
   },
   {
    "duration": 497,
    "start_time": "2022-06-02T13:42:26.388Z"
   },
   {
    "duration": 5,
    "start_time": "2022-06-02T13:42:26.887Z"
   },
   {
    "duration": 1588,
    "start_time": "2022-06-02T13:42:26.894Z"
   },
   {
    "duration": 5,
    "start_time": "2022-06-02T13:42:28.484Z"
   },
   {
    "duration": 17,
    "start_time": "2022-06-02T13:42:28.491Z"
   },
   {
    "duration": 23,
    "start_time": "2022-06-02T13:42:28.512Z"
   },
   {
    "duration": 20,
    "start_time": "2022-06-02T13:42:28.536Z"
   },
   {
    "duration": 67,
    "start_time": "2022-06-02T13:42:28.558Z"
   },
   {
    "duration": 7,
    "start_time": "2022-06-02T13:42:28.629Z"
   },
   {
    "duration": 22,
    "start_time": "2022-06-02T13:42:28.643Z"
   },
   {
    "duration": 7,
    "start_time": "2022-06-02T13:42:28.667Z"
   },
   {
    "duration": 7,
    "start_time": "2022-06-02T13:42:28.676Z"
   },
   {
    "duration": 252,
    "start_time": "2022-06-02T13:42:28.686Z"
   },
   {
    "duration": 4,
    "start_time": "2022-06-02T13:42:28.943Z"
   },
   {
    "duration": 126,
    "start_time": "2022-06-02T13:42:28.949Z"
   },
   {
    "duration": 15,
    "start_time": "2022-06-02T13:42:29.077Z"
   },
   {
    "duration": 58,
    "start_time": "2022-06-02T13:42:29.094Z"
   },
   {
    "duration": 5051,
    "start_time": "2022-06-02T13:42:29.161Z"
   }
  ],
  "kernelspec": {
   "display_name": "Python 3 (ipykernel)",
   "language": "python",
   "name": "python3"
  },
  "language_info": {
   "codemirror_mode": {
    "name": "ipython",
    "version": 3
   },
   "file_extension": ".py",
   "mimetype": "text/x-python",
   "name": "python",
   "nbconvert_exporter": "python",
   "pygments_lexer": "ipython3",
   "version": "3.7.8"
  },
  "toc": {
   "base_numbering": 1,
   "nav_menu": {},
   "number_sections": false,
   "sideBar": true,
   "skip_h1_title": true,
   "title_cell": "Содержание",
   "title_sidebar": "Contents",
   "toc_cell": true,
   "toc_position": {},
   "toc_section_display": true,
   "toc_window_display": false
  }
 },
 "nbformat": 4,
 "nbformat_minor": 2
}
