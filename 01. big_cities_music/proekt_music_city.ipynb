{
 "cells": [
  {
   "cell_type": "markdown",
   "metadata": {
    "toc": true
   },
   "source": [
    "<h1>Содержание<span class=\"tocSkip\"></span></h1>\n",
    "<div class=\"toc\"><ul class=\"toc-item\"><li><span><a href=\"#Обзор-данных\" data-toc-modified-id=\"Обзор-данных-1\"><span class=\"toc-item-num\">1&nbsp;&nbsp;</span>Обзор данных</a></span></li><li><span><a href=\"#Предобработка-данных\" data-toc-modified-id=\"Предобработка-данных-2\"><span class=\"toc-item-num\">2&nbsp;&nbsp;</span>Предобработка данных</a></span><ul class=\"toc-item\"><li><span><a href=\"#Стиль-заголовков\" data-toc-modified-id=\"Стиль-заголовков-2.1\"><span class=\"toc-item-num\">2.1&nbsp;&nbsp;</span>Стиль заголовков</a></span></li><li><span><a href=\"#Пропуски-значений\" data-toc-modified-id=\"Пропуски-значений-2.2\"><span class=\"toc-item-num\">2.2&nbsp;&nbsp;</span>Пропуски значений</a></span></li><li><span><a href=\"#Дубликаты\" data-toc-modified-id=\"Дубликаты-2.3\"><span class=\"toc-item-num\">2.3&nbsp;&nbsp;</span>Дубликаты</a></span></li></ul></li><li><span><a href=\"#Проверка-гипотез\" data-toc-modified-id=\"Проверка-гипотез-3\"><span class=\"toc-item-num\">3&nbsp;&nbsp;</span>Проверка гипотез</a></span><ul class=\"toc-item\"><li><span><a href=\"#Сравнение-поведения-пользователей-двух-столиц\" data-toc-modified-id=\"Сравнение-поведения-пользователей-двух-столиц-3.1\"><span class=\"toc-item-num\">3.1&nbsp;&nbsp;</span>Сравнение поведения пользователей двух столиц</a></span></li><li><span><a href=\"#Музыка-в-начале-и-в-конце-недели\" data-toc-modified-id=\"Музыка-в-начале-и-в-конце-недели-3.2\"><span class=\"toc-item-num\">3.2&nbsp;&nbsp;</span>Музыка в начале и в конце недели</a></span></li><li><span><a href=\"#Жанровые-предпочтения-в-Москве-и-Петербурге\" data-toc-modified-id=\"Жанровые-предпочтения-в-Москве-и-Петербурге-3.3\"><span class=\"toc-item-num\">3.3&nbsp;&nbsp;</span>Жанровые предпочтения в Москве и Петербурге</a></span></li></ul></li><li><span><a href=\"#Итоги-исследования\" data-toc-modified-id=\"Итоги-исследования-4\"><span class=\"toc-item-num\">4&nbsp;&nbsp;</span>Итоги исследования</a></span></li></ul></div>"
   ]
  },
  {
   "cell_type": "markdown",
   "metadata": {
    "id": "E0vqbgi9ay0H"
   },
   "source": [
    "# Яндекс.Музыка"
   ]
  },
  {
   "cell_type": "markdown",
   "metadata": {
    "id": "VUC88oWjTJw2"
   },
   "source": [
    "Сравнение Москвы и Петербурга окружено мифами. Например:\n",
    " * Москва — мегаполис, подчинённый жёсткому ритму рабочей недели;\n",
    " * Петербург — культурная столица, со своими вкусами.\n",
    "\n",
    "На данных Яндекс.Музыки мы сравним поведение пользователей двух столиц.\n",
    "\n",
    "**Цель исследования** — проверьте три гипотезы:\n",
    "1. Активность пользователей зависит от дня недели. Причём в Москве и Петербурге это проявляется по-разному.\n",
    "2. В понедельник утром в Москве преобладают одни жанры, а в Петербурге — другие. Так же и вечером пятницы преобладают разные жанры — в зависимости от города. \n",
    "3. Москва и Петербург предпочитают разные жанры музыки. В Москве чаще слушают поп-музыку, в Петербурге — русский рэп.\n",
    "\n",
    "**Ход исследования**\n",
    "\n",
    "Данные о поведении пользователей вы получите из файла `yandex_music_project.csv`. О качестве данных ничего не известно. Поэтому перед проверкой гипотез понадобится обзор данных. \n",
    "\n",
    "Мы проверим данные на ошибки и оцените их влияние на исследование. Затем, на этапе предобработки мы поищем возможность исправить самые критичные ошибки данных.\n",
    " \n",
    "Таким образом, исследование пройдёт в три этапа:\n",
    " 1. Обзор данных.\n",
    " 2. Предобработка данных.\n",
    " 3. Проверка гипотез.\n",
    "\n"
   ]
  },
  {
   "cell_type": "markdown",
   "metadata": {
    "id": "Ml1hmfXC_Zcs"
   },
   "source": [
    "## Обзор данных\n",
    "\n",
    "Составим первое представление о данных Яндекс.Музыки.\n",
    "\n",
    "\n"
   ]
  },
  {
   "cell_type": "markdown",
   "metadata": {
    "id": "57eAOGIz_Zcs"
   },
   "source": [
    "Импортируем библиотеку pandas."
   ]
  },
  {
   "cell_type": "code",
   "execution_count": 3,
   "metadata": {
    "id": "AXN7PHPN_Zcs"
   },
   "outputs": [],
   "source": [
    "import pandas as pd # импорт библиотеки pandas"
   ]
  },
  {
   "cell_type": "markdown",
   "metadata": {
    "id": "SG23P8tt_Zcs"
   },
   "source": [
    "Прочитаем файл `yandex_music_project.csv` из папки `/datasets` и сохраним его в переменной `df`:"
   ]
  },
  {
   "cell_type": "code",
   "execution_count": 4,
   "metadata": {
    "id": "fFVu7vqh_Zct"
   },
   "outputs": [],
   "source": [
    "df = pd.read_csv('/datasets/yandex_music_project.csv') # чтение файла с данными и сохранение в df"
   ]
  },
  {
   "cell_type": "markdown",
   "metadata": {
    "id": "rDoOMd3uTqnZ"
   },
   "source": [
    "Выведем на экран первые десять строк таблицы:"
   ]
  },
  {
   "cell_type": "code",
   "execution_count": 5,
   "metadata": {
    "id": "oWTVX3gW_Zct"
   },
   "outputs": [
    {
     "data": {
      "text/html": [
       "<div>\n",
       "<style scoped>\n",
       "    .dataframe tbody tr th:only-of-type {\n",
       "        vertical-align: middle;\n",
       "    }\n",
       "\n",
       "    .dataframe tbody tr th {\n",
       "        vertical-align: top;\n",
       "    }\n",
       "\n",
       "    .dataframe thead th {\n",
       "        text-align: right;\n",
       "    }\n",
       "</style>\n",
       "<table border=\"1\" class=\"dataframe\">\n",
       "  <thead>\n",
       "    <tr style=\"text-align: right;\">\n",
       "      <th></th>\n",
       "      <th>userID</th>\n",
       "      <th>Track</th>\n",
       "      <th>artist</th>\n",
       "      <th>genre</th>\n",
       "      <th>City</th>\n",
       "      <th>time</th>\n",
       "      <th>Day</th>\n",
       "    </tr>\n",
       "  </thead>\n",
       "  <tbody>\n",
       "    <tr>\n",
       "      <td>0</td>\n",
       "      <td>FFB692EC</td>\n",
       "      <td>Kamigata To Boots</td>\n",
       "      <td>The Mass Missile</td>\n",
       "      <td>rock</td>\n",
       "      <td>Saint-Petersburg</td>\n",
       "      <td>20:28:33</td>\n",
       "      <td>Wednesday</td>\n",
       "    </tr>\n",
       "    <tr>\n",
       "      <td>1</td>\n",
       "      <td>55204538</td>\n",
       "      <td>Delayed Because of Accident</td>\n",
       "      <td>Andreas Rönnberg</td>\n",
       "      <td>rock</td>\n",
       "      <td>Moscow</td>\n",
       "      <td>14:07:09</td>\n",
       "      <td>Friday</td>\n",
       "    </tr>\n",
       "    <tr>\n",
       "      <td>2</td>\n",
       "      <td>20EC38</td>\n",
       "      <td>Funiculì funiculà</td>\n",
       "      <td>Mario Lanza</td>\n",
       "      <td>pop</td>\n",
       "      <td>Saint-Petersburg</td>\n",
       "      <td>20:58:07</td>\n",
       "      <td>Wednesday</td>\n",
       "    </tr>\n",
       "    <tr>\n",
       "      <td>3</td>\n",
       "      <td>A3DD03C9</td>\n",
       "      <td>Dragons in the Sunset</td>\n",
       "      <td>Fire + Ice</td>\n",
       "      <td>folk</td>\n",
       "      <td>Saint-Petersburg</td>\n",
       "      <td>08:37:09</td>\n",
       "      <td>Monday</td>\n",
       "    </tr>\n",
       "    <tr>\n",
       "      <td>4</td>\n",
       "      <td>E2DC1FAE</td>\n",
       "      <td>Soul People</td>\n",
       "      <td>Space Echo</td>\n",
       "      <td>dance</td>\n",
       "      <td>Moscow</td>\n",
       "      <td>08:34:34</td>\n",
       "      <td>Monday</td>\n",
       "    </tr>\n",
       "    <tr>\n",
       "      <td>5</td>\n",
       "      <td>842029A1</td>\n",
       "      <td>Преданная</td>\n",
       "      <td>IMPERVTOR</td>\n",
       "      <td>rusrap</td>\n",
       "      <td>Saint-Petersburg</td>\n",
       "      <td>13:09:41</td>\n",
       "      <td>Friday</td>\n",
       "    </tr>\n",
       "    <tr>\n",
       "      <td>6</td>\n",
       "      <td>4CB90AA5</td>\n",
       "      <td>True</td>\n",
       "      <td>Roman Messer</td>\n",
       "      <td>dance</td>\n",
       "      <td>Moscow</td>\n",
       "      <td>13:00:07</td>\n",
       "      <td>Wednesday</td>\n",
       "    </tr>\n",
       "    <tr>\n",
       "      <td>7</td>\n",
       "      <td>F03E1C1F</td>\n",
       "      <td>Feeling This Way</td>\n",
       "      <td>Polina Griffith</td>\n",
       "      <td>dance</td>\n",
       "      <td>Moscow</td>\n",
       "      <td>20:47:49</td>\n",
       "      <td>Wednesday</td>\n",
       "    </tr>\n",
       "    <tr>\n",
       "      <td>8</td>\n",
       "      <td>8FA1D3BE</td>\n",
       "      <td>И вновь продолжается бой</td>\n",
       "      <td>NaN</td>\n",
       "      <td>ruspop</td>\n",
       "      <td>Moscow</td>\n",
       "      <td>09:17:40</td>\n",
       "      <td>Friday</td>\n",
       "    </tr>\n",
       "    <tr>\n",
       "      <td>9</td>\n",
       "      <td>E772D5C0</td>\n",
       "      <td>Pessimist</td>\n",
       "      <td>NaN</td>\n",
       "      <td>dance</td>\n",
       "      <td>Saint-Petersburg</td>\n",
       "      <td>21:20:49</td>\n",
       "      <td>Wednesday</td>\n",
       "    </tr>\n",
       "  </tbody>\n",
       "</table>\n",
       "</div>"
      ],
      "text/plain": [
       "     userID                        Track            artist   genre  \\\n",
       "0  FFB692EC            Kamigata To Boots  The Mass Missile    rock   \n",
       "1  55204538  Delayed Because of Accident  Andreas Rönnberg    rock   \n",
       "2    20EC38            Funiculì funiculà       Mario Lanza     pop   \n",
       "3  A3DD03C9        Dragons in the Sunset        Fire + Ice    folk   \n",
       "4  E2DC1FAE                  Soul People        Space Echo   dance   \n",
       "5  842029A1                    Преданная         IMPERVTOR  rusrap   \n",
       "6  4CB90AA5                         True      Roman Messer   dance   \n",
       "7  F03E1C1F             Feeling This Way   Polina Griffith   dance   \n",
       "8  8FA1D3BE     И вновь продолжается бой               NaN  ruspop   \n",
       "9  E772D5C0                    Pessimist               NaN   dance   \n",
       "\n",
       "             City        time        Day  \n",
       "0  Saint-Petersburg  20:28:33  Wednesday  \n",
       "1            Moscow  14:07:09     Friday  \n",
       "2  Saint-Petersburg  20:58:07  Wednesday  \n",
       "3  Saint-Petersburg  08:37:09     Monday  \n",
       "4            Moscow  08:34:34     Monday  \n",
       "5  Saint-Petersburg  13:09:41     Friday  \n",
       "6            Moscow  13:00:07  Wednesday  \n",
       "7            Moscow  20:47:49  Wednesday  \n",
       "8            Moscow  09:17:40     Friday  \n",
       "9  Saint-Petersburg  21:20:49  Wednesday  "
      ]
     },
     "metadata": {},
     "output_type": "display_data"
    }
   ],
   "source": [
    "display(df.head(10)) # получение первых 10 строк таблицы df"
   ]
  },
  {
   "cell_type": "markdown",
   "metadata": {
    "id": "EO73Kwic_Zct"
   },
   "source": [
    "Одной командой получить общую информацию о таблице:"
   ]
  },
  {
   "cell_type": "code",
   "execution_count": 6,
   "metadata": {
    "id": "DSf2kIb-_Zct",
    "scrolled": false
   },
   "outputs": [
    {
     "name": "stdout",
     "output_type": "stream",
     "text": [
      "<class 'pandas.core.frame.DataFrame'>\n",
      "RangeIndex: 65079 entries, 0 to 65078\n",
      "Data columns (total 7 columns):\n",
      "  userID    65079 non-null object\n",
      "Track       63848 non-null object\n",
      "artist      57876 non-null object\n",
      "genre       63881 non-null object\n",
      "  City      65079 non-null object\n",
      "time        65079 non-null object\n",
      "Day         65079 non-null object\n",
      "dtypes: object(7)\n",
      "memory usage: 3.5+ MB\n"
     ]
    }
   ],
   "source": [
    "df.info() # получение общей информации о данных в таблице df"
   ]
  },
  {
   "cell_type": "markdown",
   "metadata": {
    "id": "TaQ2Iwbr_Zct"
   },
   "source": [
    " Итак, в таблице семь столбцов. Тип данных во всех столбцах — `object`.\n",
    "\n",
    "Согласно документации к данным:\n",
    "* `userID` — идентификатор пользователя;\n",
    "* `Track` — название трека;  \n",
    "* `artist` — имя исполнителя;\n",
    "* `genre` — название жанра;\n",
    "* `City` — город пользователя;\n",
    "* `time` — время начала прослушивания;\n",
    "* `Day` — день недели.\n",
    "\n",
    "В названиях колонок видны три нарушения стиля:\n",
    "1. Строчные буквы сочетаются с прописными.\n",
    "2. Встречаются пробелы.\n",
    "3. Используется \"верблюжий регистр\" вместо \"змеиного регистра\".\n",
    "\n",
    "\n",
    "\n",
    "Количество значений в столбцах различается. Значит, в данных есть пропущенные значения.\n"
   ]
  },
  {
   "cell_type": "markdown",
   "metadata": {
    "id": "MCB6-dXG_Zct"
   },
   "source": [
    "**Выводы**\n",
    "\n",
    "В каждой строке таблицы — данные о прослушанном треке. Часть колонок описывает саму композицию: название, исполнителя и жанр. Остальные данные рассказывают о пользователе: из какого он города, когда он слушал музыку. \n",
    "\n",
    "Предварительно можно утверждать, что, данных достаточно для проверки гипотез. Но встречаются пропуски в данных, а в названиях колонок — расхождения с хорошим стилем.\n",
    "\n",
    "Чтобы двигаться дальше, нужно устранить проблемы в данных."
   ]
  },
  {
   "cell_type": "markdown",
   "metadata": {
    "id": "SjYF6Ub9_Zct"
   },
   "source": [
    "## Предобработка данных\n",
    "Исправим стиль в заголовках столбцов, исключите пропуски. Затем проверим данные на дубликаты."
   ]
  },
  {
   "cell_type": "markdown",
   "metadata": {
    "id": "dIaKXr29_Zct"
   },
   "source": [
    "### Стиль заголовков\n",
    "Выведем на экран названия столбцов:"
   ]
  },
  {
   "cell_type": "code",
   "execution_count": 7,
   "metadata": {
    "id": "oKOTdF_Q_Zct"
   },
   "outputs": [
    {
     "name": "stdout",
     "output_type": "stream",
     "text": [
      "Index(['  userID', 'Track', 'artist', 'genre', '  City  ', 'time', 'Day'], dtype='object')\n"
     ]
    }
   ],
   "source": [
    "print(df.columns) # перечень названий столбцов таблицы df"
   ]
  },
  {
   "cell_type": "markdown",
   "metadata": {
    "id": "zj5534cv_Zct"
   },
   "source": [
    "Приведите названия в соответствие с хорошим стилем:\n",
    "* несколько слов в названии запишем в «змеином_регистре»,\n",
    "* все символы сделаем строчными,\n",
    "* устраним пробелы.\n",
    "\n",
    "Для этого переименуем колонки так:\n",
    "* `'  userID'` → `'user_id'`;\n",
    "* `'Track'` → `'track'`;\n",
    "* `'  City  '` → `'city'`;\n",
    "* `'Day'` → `'day'`."
   ]
  },
  {
   "cell_type": "code",
   "execution_count": 8,
   "metadata": {
    "id": "ISlFqs5y_Zct"
   },
   "outputs": [],
   "source": [
    "df = df.rename(columns={'  userID' : 'user_id' , 'Track' : 'track' , '  City  ' : 'city' , 'Day' : 'day'}) # переименование столбцов"
   ]
  },
  {
   "cell_type": "markdown",
   "metadata": {
    "id": "1dqbh00J_Zct"
   },
   "source": [
    "Проверим результат. Для этого ещё раз выведем на экран названия столбцов:"
   ]
  },
  {
   "cell_type": "code",
   "execution_count": 9,
   "metadata": {
    "id": "d4NOAmTW_Zct"
   },
   "outputs": [
    {
     "name": "stdout",
     "output_type": "stream",
     "text": [
      "Index(['user_id', 'track', 'artist', 'genre', 'city', 'time', 'day'], dtype='object')\n"
     ]
    }
   ],
   "source": [
    "print(df.columns) # проверка результатов - перечень названий столбцов"
   ]
  },
  {
   "cell_type": "markdown",
   "metadata": {
    "id": "5ISfbcfY_Zct"
   },
   "source": [
    "### Пропуски значений\n",
    "Сначала посчитаем, сколько в таблице пропущенных значений. Для этого достаточно двух методов `pandas`:"
   ]
  },
  {
   "cell_type": "code",
   "execution_count": 10,
   "metadata": {
    "id": "RskX29qr_Zct"
   },
   "outputs": [
    {
     "name": "stdout",
     "output_type": "stream",
     "text": [
      "user_id       0\n",
      "track      1231\n",
      "artist     7203\n",
      "genre      1198\n",
      "city          0\n",
      "time          0\n",
      "day           0\n",
      "dtype: int64\n"
     ]
    }
   ],
   "source": [
    "print(df.isna().sum()) # подсчёт пропусков"
   ]
  },
  {
   "cell_type": "markdown",
   "metadata": {
    "id": "qubhgnlO_Zct"
   },
   "source": [
    "Не все пропущенные значения влияют на исследование. Так в `track` и `artist` пропуски не важны для вашей работы. Достаточно заменить их явными обозначениями.\n",
    "\n",
    "Но пропуски в `genre` могут помешать сравнению музыкальных вкусов в Москве и Санкт-Петербурге. На практике было бы правильно установить причину пропусков и восстановить данные. Придётся:\n",
    "* заполним и эти пропуски явными обозначениями,\n",
    "* оценим, насколько они повредят расчётам. "
   ]
  },
  {
   "cell_type": "markdown",
   "metadata": {
    "id": "fSv2laPA_Zct"
   },
   "source": [
    "Заменим пропущенные значения в столбцах `track`, `artist` и `genre` на строку `'unknown'`. Для этого создадим список `columns_to_replace`, переберем его элементы циклом `for` и для каждого столбца выполним замену пропущенных значений:"
   ]
  },
  {
   "cell_type": "code",
   "execution_count": 11,
   "metadata": {
    "id": "KplB5qWs_Zct"
   },
   "outputs": [],
   "source": [
    "columns_to_replace = ['track' , 'artist' , 'genre']\n",
    "for column in columns_to_replace:\n",
    "    df[column] = df[column].fillna('unknown')\n",
    "# перебор названий столбцов в цикле и замена пропущенных значений на 'unknown'"
   ]
  },
  {
   "cell_type": "markdown",
   "metadata": {
    "id": "Ilsm-MZo_Zct"
   },
   "source": [
    "Убедимся, что в таблице не осталось пропусков. Для этого ещё раз посчитаем пропущенные значения."
   ]
  },
  {
   "cell_type": "code",
   "execution_count": 12,
   "metadata": {
    "id": "Tq4nYRX4_Zct"
   },
   "outputs": [
    {
     "name": "stdout",
     "output_type": "stream",
     "text": [
      "user_id    0\n",
      "track      0\n",
      "artist     0\n",
      "genre      0\n",
      "city       0\n",
      "time       0\n",
      "day        0\n",
      "dtype: int64\n"
     ]
    }
   ],
   "source": [
    "print(df.isna().sum())# подсчёт пропусков"
   ]
  },
  {
   "cell_type": "markdown",
   "metadata": {
    "id": "BWKRtBJ3_Zct"
   },
   "source": [
    "### Дубликаты\n",
    "Посчитаем явные дубликаты в таблице одной командой:"
   ]
  },
  {
   "cell_type": "code",
   "execution_count": 13,
   "metadata": {
    "id": "36eES_S0_Zct"
   },
   "outputs": [
    {
     "name": "stdout",
     "output_type": "stream",
     "text": [
      "3826\n"
     ]
    }
   ],
   "source": [
    "print(df.duplicated().sum()) # подсчёт явных дубликатов"
   ]
  },
  {
   "cell_type": "markdown",
   "metadata": {
    "id": "Ot25h6XR_Zct"
   },
   "source": [
    "Вызовем специальный метод `pandas`, чтобы удалить явные дубликаты:"
   ]
  },
  {
   "cell_type": "code",
   "execution_count": 14,
   "metadata": {
    "id": "exFHq6tt_Zct"
   },
   "outputs": [],
   "source": [
    "df = df.drop_duplicates().reset_index(drop=True) # удаление явных дубликатов (с удалением старых индексов и формированием новых)"
   ]
  },
  {
   "cell_type": "markdown",
   "metadata": {
    "id": "Im2YwBEG_Zct"
   },
   "source": [
    "Ещё раз посчитаем явные дубликаты в таблице — убедитесь, что полностью от них избавились:"
   ]
  },
  {
   "cell_type": "code",
   "execution_count": 15,
   "metadata": {
    "id": "-8PuNWQ0_Zct"
   },
   "outputs": [
    {
     "name": "stdout",
     "output_type": "stream",
     "text": [
      "0\n"
     ]
    }
   ],
   "source": [
    "print(df.duplicated().sum()) # проверка на отсутствие дубликатов"
   ]
  },
  {
   "cell_type": "markdown",
   "metadata": {
    "id": "QlFBsxAr_Zct"
   },
   "source": [
    "Теперь избавимся от неявных дубликатов в колонке `genre`. Например, название одного и того же жанра может быть записано немного по-разному. Такие ошибки тоже повлияют на результат исследования."
   ]
  },
  {
   "cell_type": "markdown",
   "metadata": {
    "id": "eSjWwsOh_Zct"
   },
   "source": [
    "Выведем на экран список уникальных названий жанров, отсортированный в алфавитном порядке. Для этого:\n",
    "* извлечем нужный столбец датафрейма, \n",
    "* применим к нему метод сортировки,\n",
    "* для отсортированного столбца вызовем метод, который вернёт уникальные значения из столбца."
   ]
  },
  {
   "cell_type": "code",
   "execution_count": 16,
   "metadata": {
    "id": "JIUcqzZN_Zct"
   },
   "outputs": [
    {
     "name": "stdout",
     "output_type": "stream",
     "text": [
      "['acid', 'acoustic', 'action', 'adult', 'africa', 'afrikaans', 'alternative', 'alternativepunk', 'ambient', 'americana', 'animated', 'anime', 'arabesk', 'arabic', 'arena', 'argentinetango', 'art', 'audiobook', 'author', 'avantgarde', 'axé', 'baile', 'balkan', 'beats', 'bigroom', 'black', 'bluegrass', 'blues', 'bollywood', 'bossa', 'brazilian', 'breakbeat', 'breaks', 'broadway', 'cantautori', 'cantopop', 'canzone', 'caribbean', 'caucasian', 'celtic', 'chamber', 'chanson', 'children', 'chill', 'chinese', 'choral', 'christian', 'christmas', 'classical', 'classicmetal', 'club', 'colombian', 'comedy', 'conjazz', 'contemporary', 'country', 'cuban', 'dance', 'dancehall', 'dancepop', 'dark', 'death', 'deep', 'deutschrock', 'deutschspr', 'dirty', 'disco', 'dnb', 'documentary', 'downbeat', 'downtempo', 'drum', 'dub', 'dubstep', 'eastern', 'easy', 'electronic', 'electropop', 'emo', 'entehno', 'epicmetal', 'estrada', 'ethnic', 'eurofolk', 'european', 'experimental', 'extrememetal', 'fado', 'fairytail', 'film', 'fitness', 'flamenco', 'folk', 'folklore', 'folkmetal', 'folkrock', 'folktronica', 'forró', 'frankreich', 'französisch', 'french', 'funk', 'future', 'gangsta', 'garage', 'german', 'ghazal', 'gitarre', 'glitch', 'gospel', 'gothic', 'grime', 'grunge', 'gypsy', 'handsup', \"hard'n'heavy\", 'hardcore', 'hardstyle', 'hardtechno', 'hip', 'hip-hop', 'hiphop', 'historisch', 'holiday', 'hop', 'horror', 'house', 'hymn', 'idm', 'independent', 'indian', 'indie', 'indipop', 'industrial', 'inspirational', 'instrumental', 'international', 'irish', 'jam', 'japanese', 'jazz', 'jewish', 'jpop', 'jungle', 'k-pop', 'karadeniz', 'karaoke', 'kayokyoku', 'korean', 'laiko', 'latin', 'latino', 'leftfield', 'local', 'lounge', 'loungeelectronic', 'lovers', 'malaysian', 'mandopop', 'marschmusik', 'meditative', 'mediterranean', 'melodic', 'metal', 'metalcore', 'mexican', 'middle', 'minimal', 'miscellaneous', 'modern', 'mood', 'mpb', 'muslim', 'native', 'neoklassik', 'neue', 'new', 'newage', 'newwave', 'nu', 'nujazz', 'numetal', 'oceania', 'old', 'opera', 'orchestral', 'other', 'piano', 'podcasts', 'pop', 'popdance', 'popelectronic', 'popeurodance', 'poprussian', 'post', 'posthardcore', 'postrock', 'power', 'progmetal', 'progressive', 'psychedelic', 'punjabi', 'punk', 'quebecois', 'ragga', 'ram', 'rancheras', 'rap', 'rave', 'reggae', 'reggaeton', 'regional', 'relax', 'religious', 'retro', 'rhythm', 'rnb', 'rnr', 'rock', 'rockabilly', 'rockalternative', 'rockindie', 'rockother', 'romance', 'roots', 'ruspop', 'rusrap', 'rusrock', 'russian', 'salsa', 'samba', 'scenic', 'schlager', 'self', 'sertanejo', 'shanson', 'shoegazing', 'showtunes', 'singer', 'ska', 'skarock', 'slow', 'smooth', 'soft', 'soul', 'soulful', 'sound', 'soundtrack', 'southern', 'specialty', 'speech', 'spiritual', 'sport', 'stonerrock', 'surf', 'swing', 'synthpop', 'synthrock', 'sängerportrait', 'tango', 'tanzorchester', 'taraftar', 'tatar', 'tech', 'techno', 'teen', 'thrash', 'top', 'traditional', 'tradjazz', 'trance', 'tribal', 'trip', 'triphop', 'tropical', 'türk', 'türkçe', 'ukrrock', 'unknown', 'urban', 'uzbek', 'variété', 'vi', 'videogame', 'vocal', 'western', 'world', 'worldbeat', 'ïîï', 'электроника']\n"
     ]
    }
   ],
   "source": [
    "print(sorted(df['genre'].unique())) # Просмотр уникальных названий жанров"
   ]
  },
  {
   "cell_type": "markdown",
   "metadata": {
    "id": "qej-Qmuo_Zct"
   },
   "source": [
    "Просмотрим список и найдите неявные дубликаты названия `hiphop`. Это могут быть названия с ошибками или альтернативные названия того же жанра.\n",
    "\n",
    "Мы увидели следующие неявные дубликаты:\n",
    "* *hip*,\n",
    "* *hop*,\n",
    "* *hip-hop*.\n",
    "\n",
    "Чтобы очистить от них таблицу, напишем функцию `replace_wrong_genres()` с двумя параметрами: \n",
    "* `wrong_genres` — список дубликатов,\n",
    "* `correct_genre` — строка с правильным значением.\n",
    "\n",
    "Функция должна исправить колонку `genre` в таблице `df`: заменить каждое значение из списка `wrong_genres` на значение из `correct_genre`."
   ]
  },
  {
   "cell_type": "code",
   "execution_count": 17,
   "metadata": {
    "id": "ErNDkmns_Zct"
   },
   "outputs": [],
   "source": [
    "def replace_wrong_genres(wrong_genres , correct_genre):     \n",
    "    for wrong_genre in wrong_genres: \n",
    "        df['genre'] = df['genre'].replace(wrong_genre , correct_genre)\n",
    "      # Функция для замены неявных дубликатов"
   ]
  },
  {
   "cell_type": "markdown",
   "metadata": {
    "id": "aDoBJxbA_Zct"
   },
   "source": [
    "Вызовем `replace_wrong_genres()` и передадим ей такие аргументы, чтобы она устранила неявные дубликаты: вместо `hip`, `hop` и `hip-hop` в таблице должно быть значение `hiphop`:"
   ]
  },
  {
   "cell_type": "code",
   "execution_count": 18,
   "metadata": {
    "id": "YN5i2hpmSo09"
   },
   "outputs": [],
   "source": [
    "duplicates = ['hip' , 'hop' , 'hip-hop']\n",
    "name = 'hiphop'\n",
    "replace_wrong_genres(duplicates , name)"
   ]
  },
  {
   "cell_type": "markdown",
   "metadata": {
    "id": "zQKF16_RG15m"
   },
   "source": [
    "Проверим, что заменили неправильные названия:\n",
    "\n",
    "*   hip\n",
    "*   hop\n",
    "*   hip-hop\n",
    "\n",
    "Выведем отсортированный список уникальных значений столбца `genre`:"
   ]
  },
  {
   "cell_type": "code",
   "execution_count": 19,
   "metadata": {
    "id": "wvixALnFG15m"
   },
   "outputs": [
    {
     "name": "stdout",
     "output_type": "stream",
     "text": [
      "['acid', 'acoustic', 'action', 'adult', 'africa', 'afrikaans', 'alternative', 'alternativepunk', 'ambient', 'americana', 'animated', 'anime', 'arabesk', 'arabic', 'arena', 'argentinetango', 'art', 'audiobook', 'author', 'avantgarde', 'axé', 'baile', 'balkan', 'beats', 'bigroom', 'black', 'bluegrass', 'blues', 'bollywood', 'bossa', 'brazilian', 'breakbeat', 'breaks', 'broadway', 'cantautori', 'cantopop', 'canzone', 'caribbean', 'caucasian', 'celtic', 'chamber', 'chanson', 'children', 'chill', 'chinese', 'choral', 'christian', 'christmas', 'classical', 'classicmetal', 'club', 'colombian', 'comedy', 'conjazz', 'contemporary', 'country', 'cuban', 'dance', 'dancehall', 'dancepop', 'dark', 'death', 'deep', 'deutschrock', 'deutschspr', 'dirty', 'disco', 'dnb', 'documentary', 'downbeat', 'downtempo', 'drum', 'dub', 'dubstep', 'eastern', 'easy', 'electronic', 'electropop', 'emo', 'entehno', 'epicmetal', 'estrada', 'ethnic', 'eurofolk', 'european', 'experimental', 'extrememetal', 'fado', 'fairytail', 'film', 'fitness', 'flamenco', 'folk', 'folklore', 'folkmetal', 'folkrock', 'folktronica', 'forró', 'frankreich', 'französisch', 'french', 'funk', 'future', 'gangsta', 'garage', 'german', 'ghazal', 'gitarre', 'glitch', 'gospel', 'gothic', 'grime', 'grunge', 'gypsy', 'handsup', \"hard'n'heavy\", 'hardcore', 'hardstyle', 'hardtechno', 'hiphop', 'historisch', 'holiday', 'horror', 'house', 'hymn', 'idm', 'independent', 'indian', 'indie', 'indipop', 'industrial', 'inspirational', 'instrumental', 'international', 'irish', 'jam', 'japanese', 'jazz', 'jewish', 'jpop', 'jungle', 'k-pop', 'karadeniz', 'karaoke', 'kayokyoku', 'korean', 'laiko', 'latin', 'latino', 'leftfield', 'local', 'lounge', 'loungeelectronic', 'lovers', 'malaysian', 'mandopop', 'marschmusik', 'meditative', 'mediterranean', 'melodic', 'metal', 'metalcore', 'mexican', 'middle', 'minimal', 'miscellaneous', 'modern', 'mood', 'mpb', 'muslim', 'native', 'neoklassik', 'neue', 'new', 'newage', 'newwave', 'nu', 'nujazz', 'numetal', 'oceania', 'old', 'opera', 'orchestral', 'other', 'piano', 'podcasts', 'pop', 'popdance', 'popelectronic', 'popeurodance', 'poprussian', 'post', 'posthardcore', 'postrock', 'power', 'progmetal', 'progressive', 'psychedelic', 'punjabi', 'punk', 'quebecois', 'ragga', 'ram', 'rancheras', 'rap', 'rave', 'reggae', 'reggaeton', 'regional', 'relax', 'religious', 'retro', 'rhythm', 'rnb', 'rnr', 'rock', 'rockabilly', 'rockalternative', 'rockindie', 'rockother', 'romance', 'roots', 'ruspop', 'rusrap', 'rusrock', 'russian', 'salsa', 'samba', 'scenic', 'schlager', 'self', 'sertanejo', 'shanson', 'shoegazing', 'showtunes', 'singer', 'ska', 'skarock', 'slow', 'smooth', 'soft', 'soul', 'soulful', 'sound', 'soundtrack', 'southern', 'specialty', 'speech', 'spiritual', 'sport', 'stonerrock', 'surf', 'swing', 'synthpop', 'synthrock', 'sängerportrait', 'tango', 'tanzorchester', 'taraftar', 'tatar', 'tech', 'techno', 'teen', 'thrash', 'top', 'traditional', 'tradjazz', 'trance', 'tribal', 'trip', 'triphop', 'tropical', 'türk', 'türkçe', 'ukrrock', 'unknown', 'urban', 'uzbek', 'variété', 'vi', 'videogame', 'vocal', 'western', 'world', 'worldbeat', 'ïîï', 'электроника']\n"
     ]
    }
   ],
   "source": [
    "print(sorted(df['genre'].unique()))# Проверка на неявные дубликаты"
   ]
  },
  {
   "cell_type": "markdown",
   "metadata": {
    "id": "jz6a9-7HQUDd"
   },
   "source": [
    "**Выводы**\n",
    "\n",
    "Предобработка обнаружила три проблемы в данных:\n",
    "\n",
    "- нарушения в стиле заголовков,\n",
    "- пропущенные значения,\n",
    "- дубликаты — явные и неявные.\n",
    "\n",
    "Мы исправили заголовки, чтобы упростить работу с таблицей. Без дубликатов исследование станет более точным.\n",
    "\n",
    "Пропущенные значения вы заменили на `'unknown'`. Ещё предстоит увидеть, не повредят ли исследованию пропуски в колонке `genre`.\n",
    "\n",
    "Теперь можно перейти к проверке гипотез. "
   ]
  },
  {
   "cell_type": "markdown",
   "metadata": {
    "id": "WttZHXH0SqKk"
   },
   "source": [
    "## Проверка гипотез"
   ]
  },
  {
   "cell_type": "markdown",
   "metadata": {
    "id": "Im936VVi_Zcu"
   },
   "source": [
    "### Сравнение поведения пользователей двух столиц"
   ]
  },
  {
   "cell_type": "markdown",
   "metadata": {
    "id": "nwt_MuaL_Zcu"
   },
   "source": [
    "Первая гипотеза утверждает, что пользователи по-разному слушают музыку в Москве и Санкт-Петербурге. Проверим это предположение по данным о трёх днях недели — понедельнике, среде и пятнице. Для этого:\n",
    "\n",
    "* Разделим пользователей Москвы и Санкт-Петербурга\n",
    "* Сравним, сколько треков послушала каждая группа пользователей в понедельник, среду и пятницу.\n"
   ]
  },
  {
   "cell_type": "markdown",
   "metadata": {
    "id": "8Dw_YMmT_Zcu"
   },
   "source": [
    "Оценим активность пользователей в каждом городе. Сгруппируем данные по городу и посчитаем прослушивания в каждой группе.\n",
    "\n"
   ]
  },
  {
   "cell_type": "code",
   "execution_count": 21,
   "metadata": {
    "id": "0_Qs96oh_Zcu"
   },
   "outputs": [
    {
     "data": {
      "text/plain": [
       "city\n",
       "Moscow              42741\n",
       "Saint-Petersburg    18512\n",
       "Name: track, dtype: int64"
      ]
     },
     "metadata": {},
     "output_type": "display_data"
    }
   ],
   "source": [
    "display(df.groupby('city')['track'].count())# Подсчёт прослушиваний в каждом городе"
   ]
  },
  {
   "cell_type": "markdown",
   "metadata": {
    "id": "dzli3w8o_Zcu"
   },
   "source": [
    "В Москве прослушиваний больше, чем в Петербурге. Из этого не следует, что московские пользователи чаще слушают музыку. Просто самих пользователей в Москве больше.\n",
    "\n",
    "Теперь сгруппируем данные по дню недели и подсчитаем прослушивания в понедельник, среду и пятницу. Учтем, что в данных есть информация только о прослушиваниях только за эти дни.\n"
   ]
  },
  {
   "cell_type": "code",
   "execution_count": 25,
   "metadata": {
    "id": "uZMKjiJz_Zcu"
   },
   "outputs": [
    {
     "data": {
      "text/plain": [
       "day\n",
       "Friday       21840\n",
       "Monday       21354\n",
       "Wednesday    18059\n",
       "Name: track, dtype: int64"
      ]
     },
     "metadata": {},
     "output_type": "display_data"
    }
   ],
   "source": [
    "display(df.groupby('day')['track'].count())# Подсчёт прослушиваний в каждый из трёх дней"
   ]
  },
  {
   "cell_type": "markdown",
   "metadata": {
    "id": "cC2tNrlL_Zcu"
   },
   "source": [
    "В среднем пользователи из двух городов менее активны по средам. Но картина может измениться, если рассмотреть каждый город в отдельности."
   ]
  },
  {
   "cell_type": "markdown",
   "metadata": {
    "id": "POzs8bGa_Zcu"
   },
   "source": [
    "Мы видели, как работает группировка по городу и по дням недели. Теперь напишем функцию, которая объединит два эти расчёта.\n",
    "\n",
    "Создадим функцию `number_tracks()`, которая посчитает прослушивания для заданного дня и города. Ей понадобятся два параметра:\n",
    "* день недели,\n",
    "* название города.\n",
    "\n",
    "В функции сохраним в переменную строки исходной таблицы, у которых значение:\n",
    "  * в колонке `day` равно параметру `day`,\n",
    "  * в колонке `city` равно параметру `city`.\n",
    "\n",
    "Для этого применим последовательную фильтрацию с логической индексацией.\n",
    "\n",
    "Затем посчитайте значения в столбце `user_id` получившейся таблицы. Результат сохраним в новую переменную. Вернем эту переменную из функции."
   ]
  },
  {
   "cell_type": "code",
   "execution_count": 26,
   "metadata": {
    "id": "Nz3GdQB1_Zcu"
   },
   "outputs": [],
   "source": [
    "def number_tracks(day , city): \n",
    "    track_list = df[df['day'] == day]  \n",
    "    track_list = track_list[track_list['city'] == city]\n",
    "    track_list_count = track_list['user_id'].count() \n",
    "    return track_list_count # В переменной track_list сохраняются те строки таблицы df, для которых \n",
    "# <создание функции number_tracks()>\n",
    "# Объявляется функция с двумя параметрами: day, city. \n",
    "# значение в столбце 'day' равно параметру day и одновременно значение\n",
    "# в столбце 'city' равно параметру city (используйте последовательную фильтрацию\n",
    "# с помощью логической индексации).\n",
    "# В переменной track_list_count сохраняется число значений столбца 'user_id',\n",
    "# рассчитанное методом count() для таблицы track_list.\n",
    "# Функция возвращает число - значение track_list_count.\n",
    "\n",
    "# Функция для подсчёта прослушиваний для конкретного города и дня.\n",
    "# С помощью последовательной фильтрации с логической индексацией она \n",
    "# сначала получит из исходной таблицы строки с нужным днём,\n",
    "# затем из результата отфильтрует строки с нужным городом,\n",
    "# методом count() посчитает количество значений в колонке user_id. \n",
    "# Это количество функция вернёт в качестве результата"
   ]
  },
  {
   "cell_type": "markdown",
   "metadata": {
    "id": "ytf7xFrFJQ2r"
   },
   "source": [
    "Вызовем `number_tracks()` шесть раз, меняя значение параметров — так, чтобы получить данные для каждого города в каждый из трёх дней."
   ]
  },
  {
   "cell_type": "code",
   "execution_count": 27,
   "metadata": {
    "id": "rJcRATNQ_Zcu"
   },
   "outputs": [
    {
     "data": {
      "text/plain": [
       "15740"
      ]
     },
     "execution_count": 27,
     "metadata": {},
     "output_type": "execute_result"
    }
   ],
   "source": [
    "number_tracks('Monday' , 'Moscow') # количество прослушиваний в Москве по понедельникам"
   ]
  },
  {
   "cell_type": "code",
   "execution_count": 28,
   "metadata": {
    "id": "hq_ncZ5T_Zcu"
   },
   "outputs": [
    {
     "data": {
      "text/plain": [
       "5614"
      ]
     },
     "execution_count": 28,
     "metadata": {},
     "output_type": "execute_result"
    }
   ],
   "source": [
    "number_tracks('Monday' , 'Saint-Petersburg') # количество прослушиваний в Санкт-Петербурге по понедельникам"
   ]
  },
  {
   "cell_type": "code",
   "execution_count": 29,
   "metadata": {
    "id": "_NTy2VPU_Zcu"
   },
   "outputs": [
    {
     "data": {
      "text/plain": [
       "11056"
      ]
     },
     "execution_count": 29,
     "metadata": {},
     "output_type": "execute_result"
    }
   ],
   "source": [
    "number_tracks('Wednesday' , 'Moscow') # количество прослушиваний в Москве по средам"
   ]
  },
  {
   "cell_type": "code",
   "execution_count": 30,
   "metadata": {
    "id": "j2y3TAwo_Zcu"
   },
   "outputs": [
    {
     "data": {
      "text/plain": [
       "7003"
      ]
     },
     "execution_count": 30,
     "metadata": {},
     "output_type": "execute_result"
    }
   ],
   "source": [
    "number_tracks('Wednesday' , 'Saint-Petersburg') # количество прослушиваний в Санкт-Петербурге по средам"
   ]
  },
  {
   "cell_type": "code",
   "execution_count": 31,
   "metadata": {
    "id": "vYDw5u_K_Zcu"
   },
   "outputs": [
    {
     "data": {
      "text/plain": [
       "15945"
      ]
     },
     "execution_count": 31,
     "metadata": {},
     "output_type": "execute_result"
    }
   ],
   "source": [
    "number_tracks('Friday' , 'Moscow') # количество прослушиваний в Москве по пятницам"
   ]
  },
  {
   "cell_type": "code",
   "execution_count": 32,
   "metadata": {
    "id": "8_yzFtW3_Zcu"
   },
   "outputs": [
    {
     "data": {
      "text/plain": [
       "5895"
      ]
     },
     "execution_count": 32,
     "metadata": {},
     "output_type": "execute_result"
    }
   ],
   "source": [
    "number_tracks('Friday' , 'Saint-Petersburg') # количество прослушиваний в Санкт-Петербурге по пятницам"
   ]
  },
  {
   "cell_type": "markdown",
   "metadata": {
    "id": "7QXffbO-_Zcu"
   },
   "source": [
    "Создадим c помощью конструктора `pd.DataFrame` таблицу, где\n",
    "* названия колонок — `['city', 'monday', 'wednesday', 'friday']`;\n",
    "* данные — результаты, которые вы получили с помощью `number_tracks`."
   ]
  },
  {
   "cell_type": "code",
   "execution_count": 33,
   "metadata": {
    "id": "APAcLpOr_Zcu"
   },
   "outputs": [
    {
     "data": {
      "text/html": [
       "<div>\n",
       "<style scoped>\n",
       "    .dataframe tbody tr th:only-of-type {\n",
       "        vertical-align: middle;\n",
       "    }\n",
       "\n",
       "    .dataframe tbody tr th {\n",
       "        vertical-align: top;\n",
       "    }\n",
       "\n",
       "    .dataframe thead th {\n",
       "        text-align: right;\n",
       "    }\n",
       "</style>\n",
       "<table border=\"1\" class=\"dataframe\">\n",
       "  <thead>\n",
       "    <tr style=\"text-align: right;\">\n",
       "      <th></th>\n",
       "      <th>city</th>\n",
       "      <th>monday</th>\n",
       "      <th>wednesday</th>\n",
       "      <th>friday</th>\n",
       "    </tr>\n",
       "  </thead>\n",
       "  <tbody>\n",
       "    <tr>\n",
       "      <td>0</td>\n",
       "      <td>Moscow</td>\n",
       "      <td>15740</td>\n",
       "      <td>11056</td>\n",
       "      <td>15945</td>\n",
       "    </tr>\n",
       "    <tr>\n",
       "      <td>1</td>\n",
       "      <td>Saint-Petersburg</td>\n",
       "      <td>5614</td>\n",
       "      <td>7003</td>\n",
       "      <td>5895</td>\n",
       "    </tr>\n",
       "  </tbody>\n",
       "</table>\n",
       "</div>"
      ],
      "text/plain": [
       "               city  monday  wednesday  friday\n",
       "0            Moscow   15740      11056   15945\n",
       "1  Saint-Petersburg    5614       7003    5895"
      ]
     },
     "metadata": {},
     "output_type": "display_data"
    }
   ],
   "source": [
    "days_city_count = [['Moscow' , 15740 , 11056 , 15945 ], ['Saint-Petersburg' , 5614 , 7003 , 5895]]\n",
    "days_city_name = ['city', 'monday', 'wednesday', 'friday']\n",
    "days_city_frame = pd.DataFrame(data=days_city_count , columns=days_city_name)\n",
    "display(days_city_frame) \n",
    "# Таблица с результатами"
   ]
  },
  {
   "cell_type": "markdown",
   "metadata": {
    "id": "-EgPIHYu_Zcu"
   },
   "source": [
    "**Выводы**\n",
    "\n",
    "Данные показывают разницу поведения пользователей:\n",
    "\n",
    "- В Москве пик прослушиваний приходится на понедельник и пятницу, а в среду заметен спад.\n",
    "- В Петербурге, наоборот, больше слушают музыку по средам. Активность в понедельник и пятницу здесь почти в равной мере уступает среде.\n",
    "\n",
    "Значит, данные говорят в пользу первой гипотезы."
   ]
  },
  {
   "cell_type": "markdown",
   "metadata": {
    "id": "atZAxtq4_Zcu"
   },
   "source": [
    "### Музыка в начале и в конце недели"
   ]
  },
  {
   "cell_type": "markdown",
   "metadata": {
    "id": "eXrQqXFH_Zcu"
   },
   "source": [
    "Согласно второй гипотезе, утром в понедельник в Москве преобладают одни жанры, а в Петербурге — другие. Так же и вечером пятницы преобладают разные жанры — в зависимости от города."
   ]
  },
  {
   "cell_type": "markdown",
   "metadata": {
    "id": "S8UcW6Hw_Zcu"
   },
   "source": [
    "Сохраним таблицы с данными в две переменные:\n",
    "* по Москве — в `moscow_general`;\n",
    "* по Санкт-Петербургу — в `spb_general`."
   ]
  },
  {
   "cell_type": "code",
   "execution_count": 34,
   "metadata": {
    "id": "qeaFfM_P_Zcu"
   },
   "outputs": [],
   "source": [
    "moscow_general = df[df['city'] == 'Moscow'] \n",
    "# получение таблицы moscow_general из тех строк таблицы df, \n",
    "# для которых значение в столбце 'city' равно 'Moscow'\n"
   ]
  },
  {
   "cell_type": "code",
   "execution_count": 35,
   "metadata": {
    "id": "ORaVRKto_Zcu"
   },
   "outputs": [],
   "source": [
    "spb_general = df[df['city'] == 'Saint-Petersburg'] \n",
    "# получение таблицы spb_general из тех строк таблицы df,\n",
    "# для которых значение в столбце 'city' равно 'Saint-Petersburg'\n"
   ]
  },
  {
   "cell_type": "markdown",
   "metadata": {
    "id": "MEJV-CX2_Zcu"
   },
   "source": [
    "Создадим функцию `genre_weekday()` с четырьмя параметрами:\n",
    "* таблица (датафрейм) с данными,\n",
    "* день недели,\n",
    "* начальная временная метка в формате 'hh:mm', \n",
    "* последняя временная метка в формате 'hh:mm'.\n",
    "\n",
    "Функция должна вернуть информацию о топ-10 жанров тех треков, которые прослушивали в указанный день, в промежутке между двумя отметками времени."
   ]
  },
  {
   "cell_type": "code",
   "execution_count": 36,
   "metadata": {
    "id": "laJT9BYl_Zcu"
   },
   "outputs": [],
   "source": [
    "def genre_weekday(table, day, time1, time2): \n",
    "    genre_df = table[table['day'] == day]\n",
    "    genre_df = genre_df[genre_df['time'] > time1]\n",
    "    genre_df = genre_df[genre_df['time'] < time2] \n",
    "    genre_df_count = genre_df.groupby('genre')['user_id'].count()\n",
    "    genre_df_sorted = genre_df_count.sort_values(ascending=False)\n",
    "    return genre_df_sorted.head(10)\n",
    "# Объявление функции genre_weekday() с параметрами table, day, time1, time2,   \n",
    "# которая возвращает информацию о самых популярных жанрах в указанный день в  заданное время:\n",
    "# 1) в переменную genre_df сохраняются те строки переданного датафрейма table, для\n",
    "#    которых одновременно:\n",
    "#    - значение в столбце day равно значению аргумента day\n",
    "#    - значение в столбце time больше значения аргумента time1\n",
    "#    - значение в столбце time меньше значения аргумента time2\n",
    "#    Используйте последовательную фильтрацию с помощью логической индексации.\n",
    "# 2) сгруппировать датафрейм genre_df по столбцу genre, взять один из его\n",
    "#    столбцов и посчитать методом count() количество записей для каждого из\n",
    "#    присутствующих жанров, получившийся Series записать в переменную\n",
    "#    genre_df_count\n",
    "# 3) отсортировать genre_df_count по убыванию встречаемости и сохранить\n",
    "#    в переменную genre_df_sorted\n",
    "# 4) вернуть Series из 10 первых значений genre_df_sorted, это будут топ-10\n",
    "#    популярных жанров (в указанный день, в заданное время)"
   ]
  },
  {
   "cell_type": "markdown",
   "metadata": {
    "id": "la2s2_PF_Zcu"
   },
   "source": [
    "Cравним результаты функции `genre_weekday()` для Москвы и Санкт-Петербурга в понедельник утром (с 7:00 до 11:00) и в пятницу вечером (с 17:00 до 23:00):"
   ]
  },
  {
   "cell_type": "code",
   "execution_count": 37,
   "metadata": {
    "id": "yz7itPUQ_Zcu",
    "scrolled": true
   },
   "outputs": [
    {
     "data": {
      "text/plain": [
       "genre\n",
       "pop            781\n",
       "dance          549\n",
       "electronic     480\n",
       "rock           474\n",
       "hiphop         286\n",
       "ruspop         186\n",
       "world          181\n",
       "rusrap         175\n",
       "alternative    164\n",
       "unknown        161\n",
       "Name: user_id, dtype: int64"
      ]
     },
     "execution_count": 37,
     "metadata": {},
     "output_type": "execute_result"
    }
   ],
   "source": [
    "genre_weekday(moscow_general, 'Monday', '07:00', '11:00')\n",
    "# вызов функции для утра понедельника в Москве (вместо df — таблица moscow_general)\n",
    "# объекты, хранящие время, являются строками и сравниваются как строки\n",
    "# пример вызова: genre_weekday(moscow_general, 'Monday', '07:00', '11:00')"
   ]
  },
  {
   "cell_type": "code",
   "execution_count": 38,
   "metadata": {
    "id": "kwUcHPdy_Zcu"
   },
   "outputs": [
    {
     "data": {
      "text/plain": [
       "genre\n",
       "pop            218\n",
       "dance          182\n",
       "rock           162\n",
       "electronic     147\n",
       "hiphop          80\n",
       "ruspop          64\n",
       "alternative     58\n",
       "rusrap          55\n",
       "jazz            44\n",
       "classical       40\n",
       "Name: user_id, dtype: int64"
      ]
     },
     "execution_count": 38,
     "metadata": {},
     "output_type": "execute_result"
    }
   ],
   "source": [
    "genre_weekday(spb_general, 'Monday', '07:00', '11:00')\n",
    "# вызов функции для утра понедельника в Петербурге (вместо df — таблица spb_general)"
   ]
  },
  {
   "cell_type": "code",
   "execution_count": 39,
   "metadata": {
    "id": "EzXVRE1o_Zcu"
   },
   "outputs": [
    {
     "data": {
      "text/plain": [
       "genre\n",
       "pop            710\n",
       "rock           508\n",
       "dance          489\n",
       "electronic     478\n",
       "hiphop         273\n",
       "world          206\n",
       "ruspop         169\n",
       "alternative    163\n",
       "classical      160\n",
       "rusrap         139\n",
       "Name: user_id, dtype: int64"
      ]
     },
     "execution_count": 39,
     "metadata": {},
     "output_type": "execute_result"
    }
   ],
   "source": [
    "genre_weekday(moscow_general, 'Friday', '18:00', '22:00') # вызов функции для вечера пятницы в Москве"
   ]
  },
  {
   "cell_type": "code",
   "execution_count": 40,
   "metadata": {
    "id": "JZaEKu5v_Zcu"
   },
   "outputs": [
    {
     "data": {
      "text/plain": [
       "genre\n",
       "pop            254\n",
       "electronic     216\n",
       "rock           215\n",
       "dance          207\n",
       "hiphop          93\n",
       "alternative     63\n",
       "jazz            60\n",
       "rusrap          59\n",
       "classical       59\n",
       "world           54\n",
       "Name: user_id, dtype: int64"
      ]
     },
     "execution_count": 40,
     "metadata": {},
     "output_type": "execute_result"
    }
   ],
   "source": [
    "genre_weekday(spb_general, 'Friday', '18:00', '22:00') # вызов функции для вечера пятницы в Петербурге"
   ]
  },
  {
   "cell_type": "markdown",
   "metadata": {
    "id": "wrCe4MNX_Zcu"
   },
   "source": [
    "**Выводы**\n",
    "\n",
    "Если сравнить топ-10 жанров в понедельник утром, можно сделать такие выводы:\n",
    "\n",
    "1. В Москве и Петербурге слушают похожую музыку. Единственное отличие — в московском рейтинге вошёл жанр “world”, а в петербургский — джаз и классика.\n",
    "\n",
    "2. В Москве пропущенных значений оказалось так много, что значение `'unknown'` заняло десятое место среди самых популярных жанров. Значит, пропущенные значения занимают существенную долю в данных и угрожают достоверности исследования.\n",
    "\n",
    "Вечер пятницы не меняет эту картину. Некоторые жанры поднимаются немного выше, другие спускаются, но в целом топ-10 остаётся тем же самым.\n",
    "\n",
    "Таким образом, вторая гипотеза подтвердилась лишь частично:\n",
    "* Пользователи слушают похожую музыку в начале недели и в конце.\n",
    "* Разница между Москвой и Петербургом не слишком выражена. В Москве чаще слушают русскую популярную музыку, в Петербурге — джаз.\n",
    "\n",
    "Однако пропуски в данных ставят под сомнение этот результат. В Москве их так много, что рейтинг топ-10 мог бы выглядеть иначе, если бы не утерянные  данные о жанрах."
   ]
  },
  {
   "cell_type": "markdown",
   "metadata": {
    "id": "JolODAqr_Zcu"
   },
   "source": [
    "### Жанровые предпочтения в Москве и Петербурге\n",
    "\n",
    "Гипотеза: Петербург — столица рэпа, музыку этого жанра там слушают чаще, чем в Москве.  А Москва — город контрастов, в котором, тем не менее, преобладает поп-музыка."
   ]
  },
  {
   "cell_type": "markdown",
   "metadata": {
    "id": "DlegSvaT_Zcu"
   },
   "source": [
    "Сгруппируем таблицу `moscow_general` по жанру и посчитайте прослушивания треков каждого жанра методом `count()`. Затем отсортируем результат в порядке убывания и сохраните его в таблице `moscow_genres`."
   ]
  },
  {
   "cell_type": "code",
   "execution_count": 41,
   "metadata": {
    "id": "r19lIPke_Zcu"
   },
   "outputs": [],
   "source": [
    "moscow_genres = moscow_general.groupby('genre')['genre'].count().sort_values(ascending=False)\n",
    "# одной строкой: группировка таблицы moscow_general по столбцу 'genre', \n",
    "# подсчёт числа значений 'genre' в этой группировке методом count(), \n",
    "# сортировка получившегося Series в порядке убывания и сохранение в moscow_genres"
   ]
  },
  {
   "cell_type": "markdown",
   "metadata": {
    "id": "6kMuomxTiIr8"
   },
   "source": [
    "Выведем на экран первые десять строк `moscow_genres`:"
   ]
  },
  {
   "cell_type": "code",
   "execution_count": 42,
   "metadata": {
    "id": "WhCSooF8_Zcv",
    "scrolled": true
   },
   "outputs": [
    {
     "data": {
      "text/plain": [
       "genre\n",
       "pop            5892\n",
       "dance          4435\n",
       "rock           3965\n",
       "electronic     3786\n",
       "hiphop         2096\n",
       "classical      1616\n",
       "world          1432\n",
       "alternative    1379\n",
       "ruspop         1372\n",
       "rusrap         1161\n",
       "Name: genre, dtype: int64"
      ]
     },
     "execution_count": 42,
     "metadata": {},
     "output_type": "execute_result"
    }
   ],
   "source": [
    "moscow_genres.head(10) # просмотр первых 10 строк moscow_genres"
   ]
  },
  {
   "cell_type": "markdown",
   "metadata": {
    "id": "cnPG2vnN_Zcv"
   },
   "source": [
    "Теперь повторим то же и для Петербурга.\n",
    "\n",
    "Сгруппируем таблицу `spb_general` по жанру. Посчитайте прослушивания треков каждого жанра. Результат отсортируйте в порядке убывания и сохраните в таблице `spb_genres`:\n"
   ]
  },
  {
   "cell_type": "code",
   "execution_count": 43,
   "metadata": {
    "id": "gluLIpE7_Zcv"
   },
   "outputs": [],
   "source": [
    "spb_genres = spb_general.groupby('genre')['genre'].count().sort_values(ascending=False) \n",
    "# одной строкой: группировка таблицы spb_general по столбцу 'genre', \n",
    "# подсчёт числа значений 'genre' в этой группировке методом count(), \n",
    "# сортировка получившегося Series в порядке убывания и сохранение в spb_genres"
   ]
  },
  {
   "cell_type": "markdown",
   "metadata": {
    "id": "5Doha_ODgyQ8"
   },
   "source": [
    "Выведите на экран первые десять строк `spb_genres`:"
   ]
  },
  {
   "cell_type": "code",
   "execution_count": 44,
   "metadata": {
    "id": "uaGJHjVU_Zcv"
   },
   "outputs": [
    {
     "data": {
      "text/plain": [
       "genre\n",
       "pop            2431\n",
       "dance          1932\n",
       "rock           1879\n",
       "electronic     1736\n",
       "hiphop          960\n",
       "alternative     649\n",
       "classical       646\n",
       "rusrap          564\n",
       "ruspop          538\n",
       "world           515\n",
       "Name: genre, dtype: int64"
      ]
     },
     "execution_count": 44,
     "metadata": {},
     "output_type": "execute_result"
    }
   ],
   "source": [
    "spb_genres.head(10) # просмотр первых 10 строк spb_genres"
   ]
  },
  {
   "cell_type": "markdown",
   "metadata": {
    "id": "RY51YJYu_Zcv"
   },
   "source": [
    "**Выводы**"
   ]
  },
  {
   "cell_type": "markdown",
   "metadata": {
    "id": "nVhnJEm__Zcv"
   },
   "source": [
    "Гипотеза частично подтвердилась:\n",
    "* Поп-музыка — самый популярный жанр в Москве, как и предполагала гипотеза. Более того, в топ-10 жанров встречается близкий жанр — русская популярная музыка.\n",
    "* Вопреки ожиданиям, рэп одинаково популярен в Москве и Петербурге. \n"
   ]
  },
  {
   "cell_type": "markdown",
   "metadata": {
    "id": "ykKQ0N65_Zcv"
   },
   "source": [
    "## Итоги исследования"
   ]
  },
  {
   "cell_type": "markdown",
   "metadata": {
    "id": "tjUwbHb3_Zcv"
   },
   "source": [
    "Мы проверили три гипотезы и установили:\n",
    "\n",
    "1. День недели по-разному влияет на активность пользователей в Москве и Петербурге. \n",
    "\n",
    "Первая гипотеза полностью подтвердилась.\n",
    "\n",
    "2. Музыкальные предпочтения не сильно меняются в течение недели — будь то Москва или Петербург. Небольшие различия заметны в начале недели, по понедельникам:\n",
    "* в Москве слушают музыку жанра “world”,\n",
    "* в Петербурге — джаз и классику.\n",
    "\n",
    "Таким образом, вторая гипотеза подтвердилась лишь отчасти. Этот результат мог оказаться иным, если бы не пропуски в данных.\n",
    "\n",
    "3. Во вкусах пользователей Москвы и Петербурга больше общего чем различий. Вопреки ожиданиям, предпочтения жанров в Петербурге напоминают московские.\n",
    "\n",
    "Третья гипотеза не подтвердилась. Если различия в предпочтениях и существуют, на основной массе пользователей они незаметны.\n",
    "\n",
    "**На практике исследования содержат проверки статистических гипотез.**\n",
    "Из данных одного сервиса не всегда можно сделать вывод о всех жителях города.\n",
    "Проверки статистических гипотез покажут, насколько они достоверны, исходя из имеющихся данных. \n",
    "С методами проверок гипотез вы ещё познакомитесь в следующих темах."
   ]
  },
  {
   "cell_type": "code",
   "execution_count": null,
   "metadata": {},
   "outputs": [],
   "source": []
  }
 ],
 "metadata": {
  "ExecuteTimeLog": [
   {
    "duration": 310,
    "start_time": "2022-02-15T13:54:30.997Z"
   },
   {
    "duration": 260,
    "start_time": "2022-02-15T13:56:11.323Z"
   },
   {
    "duration": 256,
    "start_time": "2022-02-15T13:57:02.011Z"
   },
   {
    "duration": 248,
    "start_time": "2022-02-15T13:57:06.307Z"
   },
   {
    "duration": 624,
    "start_time": "2022-02-15T13:57:54.111Z"
   },
   {
    "duration": 143,
    "start_time": "2022-02-15T13:57:58.411Z"
   },
   {
    "duration": 18,
    "start_time": "2022-02-15T13:58:04.924Z"
   },
   {
    "duration": 278,
    "start_time": "2022-02-15T13:58:31.964Z"
   },
   {
    "duration": 9,
    "start_time": "2022-02-15T13:58:51.450Z"
   },
   {
    "duration": 9,
    "start_time": "2022-02-15T14:00:32.700Z"
   },
   {
    "duration": 38,
    "start_time": "2022-02-15T14:10:40.236Z"
   },
   {
    "duration": 4,
    "start_time": "2022-02-15T14:40:26.246Z"
   },
   {
    "duration": 3,
    "start_time": "2022-02-15T14:40:41.911Z"
   },
   {
    "duration": 262,
    "start_time": "2022-02-15T15:04:18.029Z"
   },
   {
    "duration": 253,
    "start_time": "2022-02-15T15:13:55.112Z"
   },
   {
    "duration": 4,
    "start_time": "2022-02-15T15:24:36.992Z"
   },
   {
    "duration": 3,
    "start_time": "2022-02-15T15:24:42.826Z"
   },
   {
    "duration": 4,
    "start_time": "2022-02-15T15:25:17.457Z"
   },
   {
    "duration": 4,
    "start_time": "2022-02-15T15:26:44.671Z"
   },
   {
    "duration": 4,
    "start_time": "2022-02-15T15:27:20.238Z"
   },
   {
    "duration": 6,
    "start_time": "2022-02-15T15:27:20.243Z"
   },
   {
    "duration": 6,
    "start_time": "2022-02-15T15:27:20.251Z"
   },
   {
    "duration": 7,
    "start_time": "2022-02-15T15:27:20.259Z"
   },
   {
    "duration": 8,
    "start_time": "2022-02-15T15:27:20.267Z"
   },
   {
    "duration": 6,
    "start_time": "2022-02-15T15:27:20.277Z"
   },
   {
    "duration": 5,
    "start_time": "2022-02-15T15:27:20.284Z"
   },
   {
    "duration": 5,
    "start_time": "2022-02-15T15:27:20.291Z"
   },
   {
    "duration": 4,
    "start_time": "2022-02-15T15:27:20.299Z"
   },
   {
    "duration": 6,
    "start_time": "2022-02-15T15:27:20.305Z"
   },
   {
    "duration": 3,
    "start_time": "2022-02-15T15:27:20.318Z"
   },
   {
    "duration": 10,
    "start_time": "2022-02-15T15:27:20.322Z"
   },
   {
    "duration": 5,
    "start_time": "2022-02-15T15:27:20.334Z"
   },
   {
    "duration": 7,
    "start_time": "2022-02-15T15:27:20.340Z"
   },
   {
    "duration": 7,
    "start_time": "2022-02-15T15:27:20.349Z"
   },
   {
    "duration": 8,
    "start_time": "2022-02-15T15:27:20.358Z"
   },
   {
    "duration": 10,
    "start_time": "2022-02-15T15:27:20.367Z"
   },
   {
    "duration": 6,
    "start_time": "2022-02-15T15:27:20.379Z"
   },
   {
    "duration": 9,
    "start_time": "2022-02-15T15:27:20.387Z"
   },
   {
    "duration": 10,
    "start_time": "2022-02-15T15:27:20.397Z"
   },
   {
    "duration": 5,
    "start_time": "2022-02-15T15:27:20.408Z"
   },
   {
    "duration": 5,
    "start_time": "2022-02-15T15:27:20.414Z"
   },
   {
    "duration": 6,
    "start_time": "2022-02-15T15:27:20.421Z"
   },
   {
    "duration": 8,
    "start_time": "2022-02-15T15:27:20.428Z"
   },
   {
    "duration": 8,
    "start_time": "2022-02-15T15:27:20.437Z"
   },
   {
    "duration": 4,
    "start_time": "2022-02-15T15:27:20.447Z"
   },
   {
    "duration": 6,
    "start_time": "2022-02-15T15:27:20.455Z"
   },
   {
    "duration": 9,
    "start_time": "2022-02-15T15:27:20.463Z"
   },
   {
    "duration": 11,
    "start_time": "2022-02-15T15:27:20.473Z"
   },
   {
    "duration": 8,
    "start_time": "2022-02-15T15:27:20.486Z"
   },
   {
    "duration": 6,
    "start_time": "2022-02-15T15:27:20.496Z"
   },
   {
    "duration": 7,
    "start_time": "2022-02-15T15:27:20.504Z"
   },
   {
    "duration": 3,
    "start_time": "2022-02-15T15:30:02.726Z"
   },
   {
    "duration": 84,
    "start_time": "2022-02-15T16:23:48.556Z"
   },
   {
    "duration": 21,
    "start_time": "2022-02-15T16:24:52.088Z"
   },
   {
    "duration": 3,
    "start_time": "2022-02-15T16:25:18.739Z"
   },
   {
    "duration": 279,
    "start_time": "2022-02-15T16:33:28.800Z"
   },
   {
    "duration": 26,
    "start_time": "2022-02-15T16:34:03.241Z"
   },
   {
    "duration": 19,
    "start_time": "2022-02-15T16:43:19.327Z"
   },
   {
    "duration": 25,
    "start_time": "2022-02-15T16:43:51.760Z"
   },
   {
    "duration": 72,
    "start_time": "2022-02-15T16:45:35.043Z"
   },
   {
    "duration": 228,
    "start_time": "2022-02-15T16:48:43.872Z"
   },
   {
    "duration": 89,
    "start_time": "2022-02-15T16:49:22.104Z"
   },
   {
    "duration": 57,
    "start_time": "2022-02-15T16:49:38.455Z"
   },
   {
    "duration": 7,
    "start_time": "2022-02-15T16:55:27.379Z"
   },
   {
    "duration": 336,
    "start_time": "2022-02-15T18:02:47.954Z"
   },
   {
    "duration": 262,
    "start_time": "2022-02-15T18:03:43.192Z"
   },
   {
    "duration": 273,
    "start_time": "2022-02-15T18:04:28.725Z"
   },
   {
    "duration": 250,
    "start_time": "2022-02-15T18:09:45.506Z"
   },
   {
    "duration": 3,
    "start_time": "2022-02-15T18:10:56.919Z"
   },
   {
    "duration": 526,
    "start_time": "2022-02-15T18:10:59.925Z"
   },
   {
    "duration": 686,
    "start_time": "2022-02-15T18:32:01.087Z"
   },
   {
    "duration": 493,
    "start_time": "2022-02-15T18:32:15.685Z"
   },
   {
    "duration": 579,
    "start_time": "2022-02-15T18:40:10.257Z"
   },
   {
    "duration": 509,
    "start_time": "2022-02-15T18:41:20.540Z"
   },
   {
    "duration": 495,
    "start_time": "2022-02-15T18:49:03.958Z"
   },
   {
    "duration": 531,
    "start_time": "2022-02-15T18:52:24.808Z"
   },
   {
    "duration": 611,
    "start_time": "2022-02-15T18:57:26.712Z"
   },
   {
    "duration": 651,
    "start_time": "2022-02-15T19:05:26.142Z"
   },
   {
    "duration": 517,
    "start_time": "2022-02-15T19:06:28.647Z"
   },
   {
    "duration": 492,
    "start_time": "2022-02-15T19:06:39.678Z"
   },
   {
    "duration": 504,
    "start_time": "2022-02-15T19:20:21.969Z"
   },
   {
    "duration": 504,
    "start_time": "2022-02-15T19:32:42.619Z"
   },
   {
    "duration": 3,
    "start_time": "2022-02-15T19:34:38.968Z"
   },
   {
    "duration": 3,
    "start_time": "2022-02-15T19:34:48.435Z"
   },
   {
    "duration": 4,
    "start_time": "2022-02-15T19:39:33.392Z"
   },
   {
    "duration": 489,
    "start_time": "2022-02-15T19:39:39.242Z"
   },
   {
    "duration": 481,
    "start_time": "2022-02-15T19:40:44.418Z"
   },
   {
    "duration": 586,
    "start_time": "2022-02-15T19:41:29.938Z"
   },
   {
    "duration": 488,
    "start_time": "2022-02-15T19:54:24.933Z"
   },
   {
    "duration": 3,
    "start_time": "2022-02-15T19:56:24.604Z"
   },
   {
    "duration": 304,
    "start_time": "2022-02-15T20:06:11.647Z"
   },
   {
    "duration": 289,
    "start_time": "2022-02-15T20:10:02.309Z"
   },
   {
    "duration": 485,
    "start_time": "2022-02-15T20:23:12.327Z"
   },
   {
    "duration": 755,
    "start_time": "2022-02-15T20:30:57.059Z"
   },
   {
    "duration": 493,
    "start_time": "2022-02-15T20:31:15.636Z"
   },
   {
    "duration": 481,
    "start_time": "2022-02-15T20:41:19.087Z"
   },
   {
    "duration": 490,
    "start_time": "2022-02-15T20:43:12.000Z"
   },
   {
    "duration": 590,
    "start_time": "2022-02-15T20:49:14.761Z"
   },
   {
    "duration": 471,
    "start_time": "2022-02-15T20:51:21.239Z"
   },
   {
    "duration": 500,
    "start_time": "2022-02-15T20:55:58.176Z"
   },
   {
    "duration": 528,
    "start_time": "2022-02-15T20:56:17.589Z"
   },
   {
    "duration": 6,
    "start_time": "2022-02-15T20:57:03.909Z"
   },
   {
    "duration": 615,
    "start_time": "2022-02-15T20:57:49.171Z"
   },
   {
    "duration": 497,
    "start_time": "2022-02-15T20:58:50.434Z"
   },
   {
    "duration": 6,
    "start_time": "2022-02-15T20:59:50.533Z"
   },
   {
    "duration": 4,
    "start_time": "2022-02-15T21:00:26.787Z"
   },
   {
    "duration": 10,
    "start_time": "2022-02-15T21:00:37.367Z"
   },
   {
    "duration": 6,
    "start_time": "2022-02-15T21:00:59.763Z"
   },
   {
    "duration": 32,
    "start_time": "2022-02-15T21:12:48.359Z"
   },
   {
    "duration": 33,
    "start_time": "2022-02-15T21:13:02.836Z"
   },
   {
    "duration": 35,
    "start_time": "2022-02-15T21:14:58.197Z"
   },
   {
    "duration": 92,
    "start_time": "2022-02-15T21:51:38.370Z"
   },
   {
    "duration": 4,
    "start_time": "2022-02-15T21:52:02.506Z"
   },
   {
    "duration": 87,
    "start_time": "2022-02-15T21:54:40.453Z"
   },
   {
    "duration": 506,
    "start_time": "2022-02-15T21:55:36.419Z"
   },
   {
    "duration": 3,
    "start_time": "2022-02-15T21:58:38.981Z"
   },
   {
    "duration": 490,
    "start_time": "2022-02-15T21:58:46.784Z"
   },
   {
    "duration": 3,
    "start_time": "2022-02-15T22:01:49.992Z"
   },
   {
    "duration": 634,
    "start_time": "2022-02-15T22:01:57.846Z"
   },
   {
    "duration": 3,
    "start_time": "2022-02-15T22:08:44.385Z"
   },
   {
    "duration": 494,
    "start_time": "2022-02-15T22:08:49.489Z"
   },
   {
    "duration": 476,
    "start_time": "2022-02-15T22:13:12.592Z"
   },
   {
    "duration": 629,
    "start_time": "2022-02-15T22:13:36.270Z"
   },
   {
    "duration": 4,
    "start_time": "2022-02-15T22:15:18.115Z"
   },
   {
    "duration": 511,
    "start_time": "2022-02-15T22:15:26.644Z"
   },
   {
    "duration": 574,
    "start_time": "2022-02-15T22:16:09.791Z"
   },
   {
    "duration": 443,
    "start_time": "2022-02-15T22:21:40.758Z"
   },
   {
    "duration": 3,
    "start_time": "2022-02-15T22:21:47.170Z"
   },
   {
    "duration": 586,
    "start_time": "2022-02-15T22:22:22.195Z"
   },
   {
    "duration": 4,
    "start_time": "2022-02-15T22:23:31.823Z"
   },
   {
    "duration": 527,
    "start_time": "2022-02-15T22:23:36.770Z"
   },
   {
    "duration": 511,
    "start_time": "2022-02-15T22:26:12.138Z"
   },
   {
    "duration": 504,
    "start_time": "2022-02-15T22:27:35.922Z"
   },
   {
    "duration": 235,
    "start_time": "2022-02-15T22:28:55.264Z"
   },
   {
    "duration": 377,
    "start_time": "2022-02-16T06:53:58.081Z"
   },
   {
    "duration": 132,
    "start_time": "2022-02-16T06:54:12.988Z"
   },
   {
    "duration": 5,
    "start_time": "2022-02-16T06:54:41.674Z"
   },
   {
    "duration": 364,
    "start_time": "2022-02-16T06:54:46.818Z"
   },
   {
    "duration": 731,
    "start_time": "2022-02-16T06:55:02.952Z"
   },
   {
    "duration": 3,
    "start_time": "2022-02-16T06:55:40.276Z"
   },
   {
    "duration": 677,
    "start_time": "2022-02-16T06:55:44.359Z"
   },
   {
    "duration": 681,
    "start_time": "2022-02-16T07:15:23.309Z"
   },
   {
    "duration": 345,
    "start_time": "2022-02-16T07:15:23.647Z"
   },
   {
    "duration": 329,
    "start_time": "2022-02-16T07:15:23.663Z"
   },
   {
    "duration": 322,
    "start_time": "2022-02-16T07:15:23.671Z"
   },
   {
    "duration": 321,
    "start_time": "2022-02-16T07:15:23.673Z"
   },
   {
    "duration": 320,
    "start_time": "2022-02-16T07:15:23.674Z"
   },
   {
    "duration": 319,
    "start_time": "2022-02-16T07:15:23.676Z"
   },
   {
    "duration": 318,
    "start_time": "2022-02-16T07:15:23.678Z"
   },
   {
    "duration": 315,
    "start_time": "2022-02-16T07:15:23.681Z"
   },
   {
    "duration": 315,
    "start_time": "2022-02-16T07:15:23.682Z"
   },
   {
    "duration": 313,
    "start_time": "2022-02-16T07:15:23.685Z"
   },
   {
    "duration": 311,
    "start_time": "2022-02-16T07:15:23.687Z"
   },
   {
    "duration": 310,
    "start_time": "2022-02-16T07:15:23.689Z"
   },
   {
    "duration": 309,
    "start_time": "2022-02-16T07:15:23.691Z"
   },
   {
    "duration": 306,
    "start_time": "2022-02-16T07:15:23.694Z"
   },
   {
    "duration": 306,
    "start_time": "2022-02-16T07:15:23.695Z"
   },
   {
    "duration": 305,
    "start_time": "2022-02-16T07:15:23.697Z"
   },
   {
    "duration": 295,
    "start_time": "2022-02-16T07:15:23.707Z"
   },
   {
    "duration": 3,
    "start_time": "2022-02-16T07:17:37.604Z"
   },
   {
    "duration": 879,
    "start_time": "2022-02-16T07:17:41.943Z"
   },
   {
    "duration": 554,
    "start_time": "2022-02-16T07:18:08.390Z"
   },
   {
    "duration": 122,
    "start_time": "2022-02-16T07:18:14.238Z"
   },
   {
    "duration": 14,
    "start_time": "2022-02-16T07:18:17.517Z"
   },
   {
    "duration": 21,
    "start_time": "2022-02-16T07:18:22.045Z"
   },
   {
    "duration": 4,
    "start_time": "2022-02-16T07:18:30.444Z"
   },
   {
    "duration": 19,
    "start_time": "2022-02-16T07:18:36.702Z"
   },
   {
    "duration": 3,
    "start_time": "2022-02-16T07:18:39.577Z"
   },
   {
    "duration": 20,
    "start_time": "2022-02-16T07:18:43.734Z"
   },
   {
    "duration": 19,
    "start_time": "2022-02-16T07:18:47.941Z"
   },
   {
    "duration": 19,
    "start_time": "2022-02-16T07:18:51.118Z"
   },
   {
    "duration": 51,
    "start_time": "2022-02-16T07:18:54.124Z"
   },
   {
    "duration": 60,
    "start_time": "2022-02-16T07:18:56.705Z"
   },
   {
    "duration": 45,
    "start_time": "2022-02-16T07:19:00.291Z"
   },
   {
    "duration": 6,
    "start_time": "2022-02-16T07:19:03.507Z"
   },
   {
    "duration": 4,
    "start_time": "2022-02-16T07:19:07.776Z"
   },
   {
    "duration": 15,
    "start_time": "2022-02-16T07:19:11.335Z"
   },
   {
    "duration": 9,
    "start_time": "2022-02-16T07:19:15.358Z"
   },
   {
    "duration": 31,
    "start_time": "2022-02-16T07:19:20.955Z"
   },
   {
    "duration": 29,
    "start_time": "2022-02-16T07:19:23.385Z"
   },
   {
    "duration": 4,
    "start_time": "2022-02-16T07:19:29.132Z"
   },
   {
    "duration": 61,
    "start_time": "2022-02-16T07:19:38.756Z"
   },
   {
    "duration": 3,
    "start_time": "2022-02-16T07:22:22.044Z"
   },
   {
    "duration": 718,
    "start_time": "2022-02-16T07:22:27.926Z"
   },
   {
    "duration": 4,
    "start_time": "2022-02-16T07:23:01.118Z"
   },
   {
    "duration": 676,
    "start_time": "2022-02-16T07:23:04.294Z"
   },
   {
    "duration": 3,
    "start_time": "2022-02-16T07:25:46.638Z"
   },
   {
    "duration": 676,
    "start_time": "2022-02-16T07:25:49.573Z"
   },
   {
    "duration": 3,
    "start_time": "2022-02-16T07:27:03.279Z"
   },
   {
    "duration": 711,
    "start_time": "2022-02-16T07:27:07.603Z"
   },
   {
    "duration": 3,
    "start_time": "2022-02-16T07:36:10.440Z"
   },
   {
    "duration": 63,
    "start_time": "2022-02-16T07:36:14.146Z"
   },
   {
    "duration": 3,
    "start_time": "2022-02-16T07:37:42.877Z"
   },
   {
    "duration": 703,
    "start_time": "2022-02-16T07:37:46.505Z"
   },
   {
    "duration": 3,
    "start_time": "2022-02-16T07:40:57.336Z"
   },
   {
    "duration": 779,
    "start_time": "2022-02-16T07:41:00.087Z"
   },
   {
    "duration": 3,
    "start_time": "2022-02-16T07:42:05.333Z"
   },
   {
    "duration": 709,
    "start_time": "2022-02-16T07:42:10.010Z"
   },
   {
    "duration": 107,
    "start_time": "2022-02-16T07:46:33.546Z"
   },
   {
    "duration": 3,
    "start_time": "2022-02-16T07:46:58.084Z"
   },
   {
    "duration": 721,
    "start_time": "2022-02-16T07:47:00.762Z"
   },
   {
    "duration": 4,
    "start_time": "2022-02-16T07:48:19.089Z"
   },
   {
    "duration": 675,
    "start_time": "2022-02-16T07:48:22.576Z"
   },
   {
    "duration": 4,
    "start_time": "2022-02-16T10:04:42.815Z"
   },
   {
    "duration": 632,
    "start_time": "2022-02-16T10:04:54.991Z"
   },
   {
    "duration": 578,
    "start_time": "2022-02-16T10:05:52.952Z"
   },
   {
    "duration": 131,
    "start_time": "2022-02-16T10:05:53.532Z"
   },
   {
    "duration": 15,
    "start_time": "2022-02-16T10:05:53.665Z"
   },
   {
    "duration": 24,
    "start_time": "2022-02-16T10:05:53.682Z"
   },
   {
    "duration": 3,
    "start_time": "2022-02-16T10:05:53.708Z"
   },
   {
    "duration": 21,
    "start_time": "2022-02-16T10:05:53.732Z"
   },
   {
    "duration": 4,
    "start_time": "2022-02-16T10:05:53.755Z"
   },
   {
    "duration": 25,
    "start_time": "2022-02-16T10:05:53.760Z"
   },
   {
    "duration": 16,
    "start_time": "2022-02-16T10:05:53.787Z"
   },
   {
    "duration": 27,
    "start_time": "2022-02-16T10:05:53.805Z"
   },
   {
    "duration": 53,
    "start_time": "2022-02-16T10:05:53.834Z"
   },
   {
    "duration": 68,
    "start_time": "2022-02-16T10:05:53.889Z"
   },
   {
    "duration": 46,
    "start_time": "2022-02-16T10:05:53.959Z"
   },
   {
    "duration": 5,
    "start_time": "2022-02-16T10:05:54.006Z"
   },
   {
    "duration": 4,
    "start_time": "2022-02-16T10:05:54.012Z"
   },
   {
    "duration": 9,
    "start_time": "2022-02-16T10:05:54.018Z"
   },
   {
    "duration": 4,
    "start_time": "2022-02-16T10:05:54.029Z"
   },
   {
    "duration": 29,
    "start_time": "2022-02-16T10:05:54.035Z"
   },
   {
    "duration": 27,
    "start_time": "2022-02-16T10:05:54.065Z"
   },
   {
    "duration": 3,
    "start_time": "2022-02-16T10:06:33.734Z"
   },
   {
    "duration": 124,
    "start_time": "2022-02-16T10:06:36.982Z"
   },
   {
    "duration": 11,
    "start_time": "2022-02-16T10:06:40.020Z"
   },
   {
    "duration": 23,
    "start_time": "2022-02-16T10:06:44.549Z"
   },
   {
    "duration": 3,
    "start_time": "2022-02-16T10:06:49.546Z"
   },
   {
    "duration": 14,
    "start_time": "2022-02-16T10:06:56.345Z"
   },
   {
    "duration": 4,
    "start_time": "2022-02-16T10:07:00.487Z"
   },
   {
    "duration": 21,
    "start_time": "2022-02-16T10:07:03.901Z"
   },
   {
    "duration": 17,
    "start_time": "2022-02-16T10:07:08.205Z"
   },
   {
    "duration": 21,
    "start_time": "2022-02-16T10:07:10.623Z"
   },
   {
    "duration": 51,
    "start_time": "2022-02-16T10:07:13.772Z"
   },
   {
    "duration": 67,
    "start_time": "2022-02-16T10:07:18.034Z"
   },
   {
    "duration": 45,
    "start_time": "2022-02-16T10:07:20.407Z"
   },
   {
    "duration": 6,
    "start_time": "2022-02-16T10:07:23.414Z"
   },
   {
    "duration": 4,
    "start_time": "2022-02-16T10:07:26.921Z"
   },
   {
    "duration": 8,
    "start_time": "2022-02-16T10:07:29.527Z"
   },
   {
    "duration": 5,
    "start_time": "2022-02-16T10:07:32.595Z"
   },
   {
    "duration": 27,
    "start_time": "2022-02-16T10:07:37.930Z"
   },
   {
    "duration": 27,
    "start_time": "2022-02-16T10:07:41.208Z"
   },
   {
    "duration": 4,
    "start_time": "2022-02-16T10:07:47.092Z"
   },
   {
    "duration": 641,
    "start_time": "2022-02-16T10:08:01.397Z"
   },
   {
    "duration": 4,
    "start_time": "2022-02-16T10:09:19.663Z"
   },
   {
    "duration": 16,
    "start_time": "2022-02-16T10:09:22.323Z"
   },
   {
    "duration": 19,
    "start_time": "2022-02-16T10:10:46.917Z"
   },
   {
    "duration": 14,
    "start_time": "2022-02-16T10:13:01.347Z"
   },
   {
    "duration": 14,
    "start_time": "2022-02-16T10:13:04.692Z"
   },
   {
    "duration": 15,
    "start_time": "2022-02-16T10:13:07.655Z"
   },
   {
    "duration": 14,
    "start_time": "2022-02-16T10:13:12.735Z"
   },
   {
    "duration": 333,
    "start_time": "2022-02-16T10:46:53.985Z"
   },
   {
    "duration": 305,
    "start_time": "2022-02-16T10:49:29.512Z"
   },
   {
    "duration": 325,
    "start_time": "2022-02-16T10:52:12.827Z"
   },
   {
    "duration": 358,
    "start_time": "2022-02-16T10:54:40.389Z"
   },
   {
    "duration": 327,
    "start_time": "2022-02-16T10:55:36.246Z"
   },
   {
    "duration": 9,
    "start_time": "2022-02-16T11:03:01.107Z"
   },
   {
    "duration": 148,
    "start_time": "2022-02-16T11:07:21.545Z"
   },
   {
    "duration": 12,
    "start_time": "2022-02-16T11:07:42.640Z"
   },
   {
    "duration": 11,
    "start_time": "2022-02-16T11:09:00.046Z"
   },
   {
    "duration": 14,
    "start_time": "2022-02-16T11:09:06.929Z"
   },
   {
    "duration": 3,
    "start_time": "2022-02-16T12:12:23.587Z"
   },
   {
    "duration": 17,
    "start_time": "2022-02-16T12:12:27.592Z"
   },
   {
    "duration": 14,
    "start_time": "2022-02-16T12:26:27.912Z"
   },
   {
    "duration": 15,
    "start_time": "2022-02-16T12:28:04.255Z"
   },
   {
    "duration": 12,
    "start_time": "2022-02-16T12:28:08.175Z"
   },
   {
    "duration": 13,
    "start_time": "2022-02-16T12:29:19.446Z"
   },
   {
    "duration": 11,
    "start_time": "2022-02-16T12:29:29.262Z"
   },
   {
    "duration": 21,
    "start_time": "2022-02-16T12:29:41.822Z"
   },
   {
    "duration": 16,
    "start_time": "2022-02-16T12:29:54.278Z"
   },
   {
    "duration": 17,
    "start_time": "2022-02-16T12:31:43.214Z"
   },
   {
    "duration": 18,
    "start_time": "2022-02-16T12:32:05.677Z"
   },
   {
    "duration": 15,
    "start_time": "2022-02-16T12:37:27.739Z"
   },
   {
    "duration": 14,
    "start_time": "2022-02-16T12:38:07.424Z"
   },
   {
    "duration": 12,
    "start_time": "2022-02-16T12:38:34.949Z"
   },
   {
    "duration": 11,
    "start_time": "2022-02-16T12:38:43.112Z"
   },
   {
    "duration": 8,
    "start_time": "2022-02-16T12:48:35.712Z"
   },
   {
    "duration": 5,
    "start_time": "2022-02-16T12:49:07.160Z"
   },
   {
    "duration": 4,
    "start_time": "2022-02-16T12:49:29.992Z"
   },
   {
    "duration": 5,
    "start_time": "2022-02-16T12:49:45.511Z"
   },
   {
    "duration": 10,
    "start_time": "2022-02-16T12:50:49.735Z"
   },
   {
    "duration": 5,
    "start_time": "2022-02-16T12:51:22.607Z"
   },
   {
    "duration": 22,
    "start_time": "2022-02-16T12:58:46.127Z"
   },
   {
    "duration": 9155,
    "start_time": "2022-02-16T12:58:48.999Z"
   },
   {
    "duration": 5,
    "start_time": "2022-02-16T13:02:18.600Z"
   },
   {
    "duration": 22,
    "start_time": "2022-02-16T13:02:35.085Z"
   },
   {
    "duration": 21,
    "start_time": "2022-02-16T13:02:40.868Z"
   },
   {
    "duration": 20,
    "start_time": "2022-02-16T13:02:43.564Z"
   },
   {
    "duration": 19,
    "start_time": "2022-02-16T13:02:45.900Z"
   },
   {
    "duration": 16,
    "start_time": "2022-02-16T13:02:46.788Z"
   },
   {
    "duration": 14,
    "start_time": "2022-02-16T13:02:47.669Z"
   },
   {
    "duration": 8,
    "start_time": "2022-02-16T13:02:56.532Z"
   },
   {
    "duration": 13,
    "start_time": "2022-02-16T13:03:01.932Z"
   },
   {
    "duration": 16,
    "start_time": "2022-02-16T13:03:19.316Z"
   },
   {
    "duration": 12,
    "start_time": "2022-02-16T13:03:24.124Z"
   },
   {
    "duration": 5,
    "start_time": "2022-02-16T13:03:29.161Z"
   },
   {
    "duration": 16,
    "start_time": "2022-02-16T13:03:34.444Z"
   },
   {
    "duration": 15,
    "start_time": "2022-02-16T13:03:37.508Z"
   },
   {
    "duration": 19,
    "start_time": "2022-02-16T13:03:44.700Z"
   },
   {
    "duration": 12,
    "start_time": "2022-02-16T13:06:19.347Z"
   },
   {
    "duration": 7,
    "start_time": "2022-02-16T13:06:46.306Z"
   },
   {
    "duration": 6,
    "start_time": "2022-02-16T13:06:52.561Z"
   },
   {
    "duration": 6,
    "start_time": "2022-02-16T13:07:02.522Z"
   },
   {
    "duration": 4,
    "start_time": "2022-02-16T13:07:05.857Z"
   },
   {
    "duration": 323,
    "start_time": "2022-02-16T13:52:07.217Z"
   },
   {
    "duration": 316,
    "start_time": "2022-02-16T13:52:46.169Z"
   },
   {
    "duration": 333,
    "start_time": "2022-02-16T13:53:17.552Z"
   },
   {
    "duration": 8,
    "start_time": "2022-02-16T13:53:49.120Z"
   },
   {
    "duration": 5,
    "start_time": "2022-02-16T13:53:52.760Z"
   },
   {
    "duration": 10265,
    "start_time": "2022-02-16T13:53:56.976Z"
   },
   {
    "duration": -5368,
    "start_time": "2022-02-16T13:54:12.611Z"
   },
   {
    "duration": 318,
    "start_time": "2022-02-16T13:54:55.609Z"
   },
   {
    "duration": 10,
    "start_time": "2022-02-16T13:55:32.313Z"
   },
   {
    "duration": 5,
    "start_time": "2022-02-16T13:55:34.943Z"
   },
   {
    "duration": 367,
    "start_time": "2022-02-16T13:55:43.553Z"
   },
   {
    "duration": 312,
    "start_time": "2022-02-16T13:57:09.838Z"
   },
   {
    "duration": 352,
    "start_time": "2022-02-16T14:01:53.037Z"
   },
   {
    "duration": 4,
    "start_time": "2022-02-16T14:02:06.142Z"
   },
   {
    "duration": 143,
    "start_time": "2022-02-16T14:02:09.517Z"
   },
   {
    "duration": 11,
    "start_time": "2022-02-16T14:02:12.301Z"
   },
   {
    "duration": 20,
    "start_time": "2022-02-16T14:02:16.654Z"
   },
   {
    "duration": 3,
    "start_time": "2022-02-16T14:02:20.294Z"
   },
   {
    "duration": 17,
    "start_time": "2022-02-16T14:02:23.125Z"
   },
   {
    "duration": 4,
    "start_time": "2022-02-16T14:02:25.566Z"
   },
   {
    "duration": 38,
    "start_time": "2022-02-16T14:02:29.526Z"
   },
   {
    "duration": 18,
    "start_time": "2022-02-16T14:02:33.296Z"
   },
   {
    "duration": 21,
    "start_time": "2022-02-16T14:02:35.564Z"
   },
   {
    "duration": 53,
    "start_time": "2022-02-16T14:02:39.806Z"
   },
   {
    "duration": 86,
    "start_time": "2022-02-16T14:02:56.701Z"
   },
   {
    "duration": 48,
    "start_time": "2022-02-16T14:02:59.437Z"
   },
   {
    "duration": 7,
    "start_time": "2022-02-16T14:03:02.941Z"
   },
   {
    "duration": 3,
    "start_time": "2022-02-16T14:03:07.037Z"
   },
   {
    "duration": 12,
    "start_time": "2022-02-16T14:03:10.229Z"
   },
   {
    "duration": 5,
    "start_time": "2022-02-16T14:03:13.056Z"
   },
   {
    "duration": 36,
    "start_time": "2022-02-16T14:03:20.815Z"
   },
   {
    "duration": 28,
    "start_time": "2022-02-16T14:03:24.277Z"
   },
   {
    "duration": 4,
    "start_time": "2022-02-16T14:03:28.081Z"
   },
   {
    "duration": 15,
    "start_time": "2022-02-16T14:03:31.699Z"
   },
   {
    "duration": 13,
    "start_time": "2022-02-16T14:03:33.613Z"
   },
   {
    "duration": 13,
    "start_time": "2022-02-16T14:03:35.957Z"
   },
   {
    "duration": 19,
    "start_time": "2022-02-16T14:03:38.143Z"
   },
   {
    "duration": 16,
    "start_time": "2022-02-16T14:03:41.484Z"
   },
   {
    "duration": 15,
    "start_time": "2022-02-16T14:03:42.716Z"
   },
   {
    "duration": 11,
    "start_time": "2022-02-16T14:03:50.789Z"
   },
   {
    "duration": 17,
    "start_time": "2022-02-16T14:03:55.356Z"
   },
   {
    "duration": 8,
    "start_time": "2022-02-16T14:03:57.492Z"
   },
   {
    "duration": 5,
    "start_time": "2022-02-16T14:04:00.333Z"
   },
   {
    "duration": 17,
    "start_time": "2022-02-16T14:04:03.804Z"
   },
   {
    "duration": 12,
    "start_time": "2022-02-16T14:04:07.788Z"
   },
   {
    "duration": 21,
    "start_time": "2022-02-16T14:04:10.524Z"
   },
   {
    "duration": 18,
    "start_time": "2022-02-16T14:04:13.333Z"
   },
   {
    "duration": 9,
    "start_time": "2022-02-16T14:04:16.884Z"
   },
   {
    "duration": 5,
    "start_time": "2022-02-16T14:04:19.644Z"
   },
   {
    "duration": 7,
    "start_time": "2022-02-16T14:04:23.515Z"
   },
   {
    "duration": 5,
    "start_time": "2022-02-16T14:04:26.484Z"
   },
   {
    "duration": 316,
    "start_time": "2022-02-24T14:02:29.409Z"
   },
   {
    "duration": 294,
    "start_time": "2022-02-24T14:02:42.503Z"
   },
   {
    "duration": 758,
    "start_time": "2022-02-24T14:13:20.168Z"
   },
   {
    "duration": 203,
    "start_time": "2022-02-24T14:13:27.312Z"
   },
   {
    "duration": 27,
    "start_time": "2022-02-24T14:13:32.303Z"
   },
   {
    "duration": 36,
    "start_time": "2022-02-24T14:13:37.559Z"
   },
   {
    "duration": 5,
    "start_time": "2022-02-24T14:13:46.273Z"
   },
   {
    "duration": 32,
    "start_time": "2022-02-24T14:14:35.167Z"
   },
   {
    "duration": 5,
    "start_time": "2022-02-24T14:14:38.007Z"
   },
   {
    "duration": 37,
    "start_time": "2022-02-24T14:14:42.558Z"
   },
   {
    "duration": 26,
    "start_time": "2022-02-24T14:14:48.704Z"
   },
   {
    "duration": 30,
    "start_time": "2022-02-24T14:14:52.535Z"
   },
   {
    "duration": 95,
    "start_time": "2022-02-24T14:14:56.525Z"
   },
   {
    "duration": 113,
    "start_time": "2022-02-24T14:14:58.919Z"
   },
   {
    "duration": 86,
    "start_time": "2022-02-24T14:15:01.663Z"
   },
   {
    "duration": 9,
    "start_time": "2022-02-24T14:15:05.935Z"
   },
   {
    "duration": 4,
    "start_time": "2022-02-24T14:15:37.406Z"
   },
   {
    "duration": 20,
    "start_time": "2022-02-24T14:15:41.560Z"
   },
   {
    "duration": 12,
    "start_time": "2022-02-24T14:15:45.974Z"
   },
   {
    "duration": 48,
    "start_time": "2022-02-24T14:16:01.333Z"
   },
   {
    "duration": 16,
    "start_time": "2022-02-24T14:17:15.773Z"
   },
   {
    "duration": 354,
    "start_time": "2022-02-24T14:18:01.069Z"
   },
   {
    "duration": 266,
    "start_time": "2022-02-24T14:18:22.941Z"
   },
   {
    "duration": 17,
    "start_time": "2022-02-24T14:18:38.591Z"
   },
   {
    "duration": 17,
    "start_time": "2022-02-24T14:19:35.908Z"
   },
   {
    "duration": 5,
    "start_time": "2022-02-24T14:29:38.764Z"
   },
   {
    "duration": 25,
    "start_time": "2022-02-24T14:29:44.075Z"
   },
   {
    "duration": 45,
    "start_time": "2022-02-24T14:29:47.411Z"
   },
   {
    "duration": 22,
    "start_time": "2022-02-24T14:29:49.987Z"
   },
   {
    "duration": 21,
    "start_time": "2022-02-24T14:29:52.626Z"
   },
   {
    "duration": 22,
    "start_time": "2022-02-24T14:29:53.803Z"
   },
   {
    "duration": 27,
    "start_time": "2022-02-24T14:29:54.956Z"
   },
   {
    "duration": 14,
    "start_time": "2022-02-24T14:30:04.587Z"
   },
   {
    "duration": 18,
    "start_time": "2022-02-24T14:30:13.580Z"
   },
   {
    "duration": 12,
    "start_time": "2022-02-24T14:30:14.883Z"
   },
   {
    "duration": 6,
    "start_time": "2022-02-24T14:30:19.844Z"
   },
   {
    "duration": 26,
    "start_time": "2022-02-24T14:30:26.100Z"
   },
   {
    "duration": 25,
    "start_time": "2022-02-24T14:30:31.755Z"
   },
   {
    "duration": 26,
    "start_time": "2022-02-24T14:30:33.259Z"
   },
   {
    "duration": 19,
    "start_time": "2022-02-24T14:30:35.114Z"
   },
   {
    "duration": 16,
    "start_time": "2022-02-24T14:30:43.547Z"
   },
   {
    "duration": 9,
    "start_time": "2022-02-24T14:30:46.683Z"
   },
   {
    "duration": 9,
    "start_time": "2022-02-24T14:30:52.706Z"
   },
   {
    "duration": 8,
    "start_time": "2022-02-24T14:30:56.003Z"
   },
   {
    "duration": 55,
    "start_time": "2022-02-25T05:21:05.664Z"
   }
  ],
  "colab": {
   "collapsed_sections": [
    "E0vqbgi9ay0H",
    "VUC88oWjTJw2"
   ],
   "name": "yandex_music_project_2021.2.ipynb",
   "provenance": []
  },
  "kernelspec": {
   "display_name": "Python 3 (ipykernel)",
   "language": "python",
   "name": "python3"
  },
  "language_info": {
   "codemirror_mode": {
    "name": "ipython",
    "version": 3
   },
   "file_extension": ".py",
   "mimetype": "text/x-python",
   "name": "python",
   "nbconvert_exporter": "python",
   "pygments_lexer": "ipython3",
   "version": "3.7.8"
  },
  "toc": {
   "base_numbering": 1,
   "nav_menu": {},
   "number_sections": true,
   "sideBar": true,
   "skip_h1_title": true,
   "title_cell": "Содержание",
   "title_sidebar": "Contents",
   "toc_cell": true,
   "toc_position": {},
   "toc_section_display": true,
   "toc_window_display": false
  }
 },
 "nbformat": 4,
 "nbformat_minor": 1
}
