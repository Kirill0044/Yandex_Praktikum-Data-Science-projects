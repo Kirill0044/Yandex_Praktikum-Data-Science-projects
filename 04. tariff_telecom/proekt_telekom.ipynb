{
 "cells": [
  {
   "cell_type": "markdown",
   "id": "9c288fe9",
   "metadata": {
    "toc": true
   },
   "source": [
    "<h1>Содержание<span class=\"tocSkip\"></span></h1>\n",
    "<div class=\"toc\"><ul class=\"toc-item\"><li><span><a href=\"#Шаг-1.-Обзор-данных.\" data-toc-modified-id=\"Шаг-1.-Обзор-данных.-1\">Шаг 1. Обзор данных.</a></span></li><li><span><a href=\"#Шаг-2.-Предобработка-данных.\" data-toc-modified-id=\"Шаг-2.-Предобработка-данных.-2\">Шаг 2. Предобработка данных.</a></span><ul class=\"toc-item\"><li><span><a href=\"#Шаг-2.1.-Приведение-данных-к-нужным-типам-и-проверка-их-на-дубликаты.\" data-toc-modified-id=\"Шаг-2.1.-Приведение-данных-к-нужным-типам-и-проверка-их-на-дубликаты.-2.1\">Шаг 2.1. Приведение данных к нужным типам и проверка их на дубликаты.</a></span></li><li><span><a href=\"#Шаг-2.2.-Устранение-данных-искажающих-ход-анализа.\" data-toc-modified-id=\"Шаг-2.2.-Устранение-данных-искажающих-ход-анализа.-2.2\">Шаг 2.2. Устранение данных искажающих ход анализа.</a></span></li><li><span><a href=\"#Шаг-2.3.-Создание-сводных-таблиц-по-услугам-оператора.\" data-toc-modified-id=\"Шаг-2.3.-Создание-сводных-таблиц-по-услугам-оператора.-2.3\">Шаг 2.3. Создание сводных таблиц по услугам оператора.</a></span></li><li><span><a href=\"#Шаг-2.4.-Подсчет-итоговых-показателей-для-анализа.\" data-toc-modified-id=\"Шаг-2.4.-Подсчет-итоговых-показателей-для-анализа.-2.4\">Шаг 2.4. Подсчет итоговых показателей для анализа.</a></span></li></ul></li><li><span><a href=\"#Шаг-3.-Анализ-поведения-клиентов.\" data-toc-modified-id=\"Шаг-3.-Анализ-поведения-клиентов.-3\">Шаг 3. Анализ поведения клиентов.</a></span></li><li><span><a href=\"#Шаг-4.-Проверка-гипотез.\" data-toc-modified-id=\"Шаг-4.-Проверка-гипотез.-4\">Шаг 4. Проверка гипотез.</a></span><ul class=\"toc-item\"><li><span><a href=\"#Шаг-4.1.-Гипотеза-о-равенстве-средней-выручки-по-тарифам.\" data-toc-modified-id=\"Шаг-4.1.-Гипотеза-о-равенстве-средней-выручки-по-тарифам.-4.1\">Шаг 4.1. Гипотеза о равенстве средней выручки по тарифам.</a></span></li><li><span><a href=\"#Шаг-4.2.-Гипотеза-о-равенстве-средней-выручки-по-городам.\" data-toc-modified-id=\"Шаг-4.2.-Гипотеза-о-равенстве-средней-выручки-по-городам.-4.2\">Шаг 4.2. Гипотеза о равенстве средней выручки по городам.</a></span></li></ul></li><li><span><a href=\"#Шаг-5.-Итоги-исследования.\" data-toc-modified-id=\"Шаг-5.-Итоги-исследования.-5\">Шаг 5. Итоги исследования.</a></span><ul class=\"toc-item\"><li><span><a href=\"#Шаг-5.1.-Описание-хода-исследования.\" data-toc-modified-id=\"Шаг-5.1.-Описание-хода-исследования.-5.1\">Шаг 5.1. Описание хода исследования.</a></span></li><li><span><a href=\"#Шаг-5.2.-Общий-вывод.\" data-toc-modified-id=\"Шаг-5.2.-Общий-вывод.-5.2\">Шаг 5.2. Общий вывод.</a></span></li></ul></li></ul></div>"
   ]
  },
  {
   "cell_type": "markdown",
   "id": "0dd5cfd5",
   "metadata": {},
   "source": [
    "# Анализ тарифов оператора связи \"Мегалайн\". "
   ]
  },
  {
   "cell_type": "markdown",
   "id": "1279b612",
   "metadata": {},
   "source": [
    "**\"Мегалайн\" - федеральный оператор сотовой связи. Клиентам предлагают два тарифных плана: \"Смарт\" и \"Ультра\". Чтобы скорректировать рекламный бюджет, коммерческий департамент хочет понять, какой тариф приносит больше денег. Нам предстоит сделать предварительный анализ тарифов на небольшой выборке клиентов. В нашем распоряжении данные 500 пользователей \"Мегалайн\": ФИО клиента, место регистрации абонента, наименование тарифа, количество и длительность звонков, сообщений и объем интернет-траффика каждого из них за 2018 год. Нужно проанализировать поведение клиентов и сделать вывод: какой тариф лучше.**"
   ]
  },
  {
   "cell_type": "code",
   "execution_count": 1,
   "id": "6c500411",
   "metadata": {},
   "outputs": [
    {
     "name": "stderr",
     "output_type": "stream",
     "text": [
      "\n",
      "Bad key text.latex.preview in file C:\\Users\\regki\\anaconda3\\envs\\praktikum_env_win_new\\lib\\site-packages\\matplotlib\\mpl-data\\stylelib\\_classic_test.mplstyle, line 123 ('text.latex.preview : False')\n",
      "You probably need to get an updated matplotlibrc file from\n",
      "https://github.com/matplotlib/matplotlib/blob/v3.5.1/matplotlibrc.template\n",
      "or from the matplotlib source distribution\n",
      "\n",
      "Bad key mathtext.fallback_to_cm in file C:\\Users\\regki\\anaconda3\\envs\\praktikum_env_win_new\\lib\\site-packages\\matplotlib\\mpl-data\\stylelib\\_classic_test.mplstyle, line 155 ('mathtext.fallback_to_cm : True  # When True, use symbols from the Computer Modern')\n",
      "You probably need to get an updated matplotlibrc file from\n",
      "https://github.com/matplotlib/matplotlib/blob/v3.5.1/matplotlibrc.template\n",
      "or from the matplotlib source distribution\n",
      "\n",
      "Bad key savefig.jpeg_quality in file C:\\Users\\regki\\anaconda3\\envs\\praktikum_env_win_new\\lib\\site-packages\\matplotlib\\mpl-data\\stylelib\\_classic_test.mplstyle, line 418 ('savefig.jpeg_quality: 95       # when a jpeg is saved, the default quality parameter.')\n",
      "You probably need to get an updated matplotlibrc file from\n",
      "https://github.com/matplotlib/matplotlib/blob/v3.5.1/matplotlibrc.template\n",
      "or from the matplotlib source distribution\n",
      "\n",
      "Bad key keymap.all_axes in file C:\\Users\\regki\\anaconda3\\envs\\praktikum_env_win_new\\lib\\site-packages\\matplotlib\\mpl-data\\stylelib\\_classic_test.mplstyle, line 466 ('keymap.all_axes : a                 # enable all axes')\n",
      "You probably need to get an updated matplotlibrc file from\n",
      "https://github.com/matplotlib/matplotlib/blob/v3.5.1/matplotlibrc.template\n",
      "or from the matplotlib source distribution\n",
      "\n",
      "Bad key animation.avconv_path in file C:\\Users\\regki\\anaconda3\\envs\\praktikum_env_win_new\\lib\\site-packages\\matplotlib\\mpl-data\\stylelib\\_classic_test.mplstyle, line 477 ('animation.avconv_path: avconv     # Path to avconv binary. Without full path')\n",
      "You probably need to get an updated matplotlibrc file from\n",
      "https://github.com/matplotlib/matplotlib/blob/v3.5.1/matplotlibrc.template\n",
      "or from the matplotlib source distribution\n",
      "\n",
      "Bad key animation.avconv_args in file C:\\Users\\regki\\anaconda3\\envs\\praktikum_env_win_new\\lib\\site-packages\\matplotlib\\mpl-data\\stylelib\\_classic_test.mplstyle, line 479 ('animation.avconv_args:            # Additional arguments to pass to avconv')\n",
      "You probably need to get an updated matplotlibrc file from\n",
      "https://github.com/matplotlib/matplotlib/blob/v3.5.1/matplotlibrc.template\n",
      "or from the matplotlib source distribution\n"
     ]
    }
   ],
   "source": [
    "# импорт основных библиотек\n",
    "import pandas as pd\n",
    "import numpy as np\n",
    "import matplotlib.pyplot as plt\n",
    "import seaborn as sns\n",
    "import math as mt\n",
    "from scipy import stats as st"
   ]
  },
  {
   "cell_type": "code",
   "execution_count": 2,
   "id": "3d25633a",
   "metadata": {},
   "outputs": [],
   "source": [
    "# чтение файлов с данными с применением конструкции try-except\n",
    "try:\n",
    "    df_calls = pd.read_csv('/Users/regki/Downloads/calls.csv')\n",
    "    df_internet = pd.read_csv('/Users/regki/Downloads/internet.csv')\n",
    "    df_messages = pd.read_csv('/Users/regki/Downloads/messages.csv')\n",
    "    df_tariffs = pd.read_csv('/Users/regki/Downloads/tariffs.csv')\n",
    "    df_users = pd.read_csv('/Users/regki/Downloads/users.csv')\n",
    "except:    \n",
    "    df_calls = pd.read_csv('/datasets/calls.csv')\n",
    "    df_internet = pd.read_csv('/datasets/internet.csv')\n",
    "    df_messages = pd.read_csv('/datasets/messages.csv')\n",
    "    df_tariffs = pd.read_csv('/datasets/tariffs.csv')\n",
    "    df_users = pd.read_csv('/datasets/users.csv')"
   ]
  },
  {
   "cell_type": "markdown",
   "id": "6916b7c4",
   "metadata": {},
   "source": [
    "## Шаг 1. Обзор данных."
   ]
  },
  {
   "cell_type": "code",
   "execution_count": 3,
   "id": "3a6af0ea",
   "metadata": {},
   "outputs": [
    {
     "data": {
      "text/html": [
       "<div>\n",
       "<style scoped>\n",
       "    .dataframe tbody tr th:only-of-type {\n",
       "        vertical-align: middle;\n",
       "    }\n",
       "\n",
       "    .dataframe tbody tr th {\n",
       "        vertical-align: top;\n",
       "    }\n",
       "\n",
       "    .dataframe thead th {\n",
       "        text-align: right;\n",
       "    }\n",
       "</style>\n",
       "<table border=\"1\" class=\"dataframe\">\n",
       "  <thead>\n",
       "    <tr style=\"text-align: right;\">\n",
       "      <th></th>\n",
       "      <th>id</th>\n",
       "      <th>call_date</th>\n",
       "      <th>duration</th>\n",
       "      <th>user_id</th>\n",
       "    </tr>\n",
       "  </thead>\n",
       "  <tbody>\n",
       "    <tr>\n",
       "      <th>0</th>\n",
       "      <td>1000_0</td>\n",
       "      <td>2018-07-25</td>\n",
       "      <td>0.00</td>\n",
       "      <td>1000</td>\n",
       "    </tr>\n",
       "    <tr>\n",
       "      <th>1</th>\n",
       "      <td>1000_1</td>\n",
       "      <td>2018-08-17</td>\n",
       "      <td>0.00</td>\n",
       "      <td>1000</td>\n",
       "    </tr>\n",
       "    <tr>\n",
       "      <th>2</th>\n",
       "      <td>1000_2</td>\n",
       "      <td>2018-06-11</td>\n",
       "      <td>2.85</td>\n",
       "      <td>1000</td>\n",
       "    </tr>\n",
       "    <tr>\n",
       "      <th>3</th>\n",
       "      <td>1000_3</td>\n",
       "      <td>2018-09-21</td>\n",
       "      <td>13.80</td>\n",
       "      <td>1000</td>\n",
       "    </tr>\n",
       "    <tr>\n",
       "      <th>4</th>\n",
       "      <td>1000_4</td>\n",
       "      <td>2018-12-15</td>\n",
       "      <td>5.18</td>\n",
       "      <td>1000</td>\n",
       "    </tr>\n",
       "  </tbody>\n",
       "</table>\n",
       "</div>"
      ],
      "text/plain": [
       "       id   call_date  duration  user_id\n",
       "0  1000_0  2018-07-25      0.00     1000\n",
       "1  1000_1  2018-08-17      0.00     1000\n",
       "2  1000_2  2018-06-11      2.85     1000\n",
       "3  1000_3  2018-09-21     13.80     1000\n",
       "4  1000_4  2018-12-15      5.18     1000"
      ]
     },
     "execution_count": 3,
     "metadata": {},
     "output_type": "execute_result"
    }
   ],
   "source": [
    "# вывод на экран верхней части таблицы со звонками\n",
    "df_calls.head()"
   ]
  },
  {
   "cell_type": "code",
   "execution_count": 4,
   "id": "18e517e3",
   "metadata": {},
   "outputs": [
    {
     "name": "stdout",
     "output_type": "stream",
     "text": [
      "<class 'pandas.core.frame.DataFrame'>\n",
      "RangeIndex: 202607 entries, 0 to 202606\n",
      "Data columns (total 4 columns):\n",
      " #   Column     Non-Null Count   Dtype  \n",
      "---  ------     --------------   -----  \n",
      " 0   id         202607 non-null  object \n",
      " 1   call_date  202607 non-null  object \n",
      " 2   duration   202607 non-null  float64\n",
      " 3   user_id    202607 non-null  int64  \n",
      "dtypes: float64(1), int64(1), object(2)\n",
      "memory usage: 6.2+ MB\n"
     ]
    }
   ],
   "source": [
    "# обзор данных со звонками\n",
    "df_calls.info()"
   ]
  },
  {
   "cell_type": "markdown",
   "id": "176cb4c2",
   "metadata": {},
   "source": [
    "В таблице 202607 строк с данными(202607 звонков), есть пропущенные - длительностью в 0 секунд. 2 столбца данных строкового типа object, 1 столбец числового с плавающей точкой типа float, 1 целочисленного типа int. В данных пропусков нет."
   ]
  },
  {
   "cell_type": "code",
   "execution_count": 5,
   "id": "2ee47cbc",
   "metadata": {
    "scrolled": true
   },
   "outputs": [
    {
     "data": {
      "text/html": [
       "<div>\n",
       "<style scoped>\n",
       "    .dataframe tbody tr th:only-of-type {\n",
       "        vertical-align: middle;\n",
       "    }\n",
       "\n",
       "    .dataframe tbody tr th {\n",
       "        vertical-align: top;\n",
       "    }\n",
       "\n",
       "    .dataframe thead th {\n",
       "        text-align: right;\n",
       "    }\n",
       "</style>\n",
       "<table border=\"1\" class=\"dataframe\">\n",
       "  <thead>\n",
       "    <tr style=\"text-align: right;\">\n",
       "      <th></th>\n",
       "      <th>Unnamed: 0</th>\n",
       "      <th>id</th>\n",
       "      <th>mb_used</th>\n",
       "      <th>session_date</th>\n",
       "      <th>user_id</th>\n",
       "    </tr>\n",
       "  </thead>\n",
       "  <tbody>\n",
       "    <tr>\n",
       "      <th>0</th>\n",
       "      <td>0</td>\n",
       "      <td>1000_0</td>\n",
       "      <td>112.95</td>\n",
       "      <td>2018-11-25</td>\n",
       "      <td>1000</td>\n",
       "    </tr>\n",
       "    <tr>\n",
       "      <th>1</th>\n",
       "      <td>1</td>\n",
       "      <td>1000_1</td>\n",
       "      <td>1052.81</td>\n",
       "      <td>2018-09-07</td>\n",
       "      <td>1000</td>\n",
       "    </tr>\n",
       "    <tr>\n",
       "      <th>2</th>\n",
       "      <td>2</td>\n",
       "      <td>1000_2</td>\n",
       "      <td>1197.26</td>\n",
       "      <td>2018-06-25</td>\n",
       "      <td>1000</td>\n",
       "    </tr>\n",
       "    <tr>\n",
       "      <th>3</th>\n",
       "      <td>3</td>\n",
       "      <td>1000_3</td>\n",
       "      <td>550.27</td>\n",
       "      <td>2018-08-22</td>\n",
       "      <td>1000</td>\n",
       "    </tr>\n",
       "    <tr>\n",
       "      <th>4</th>\n",
       "      <td>4</td>\n",
       "      <td>1000_4</td>\n",
       "      <td>302.56</td>\n",
       "      <td>2018-09-24</td>\n",
       "      <td>1000</td>\n",
       "    </tr>\n",
       "  </tbody>\n",
       "</table>\n",
       "</div>"
      ],
      "text/plain": [
       "   Unnamed: 0      id  mb_used session_date  user_id\n",
       "0           0  1000_0   112.95   2018-11-25     1000\n",
       "1           1  1000_1  1052.81   2018-09-07     1000\n",
       "2           2  1000_2  1197.26   2018-06-25     1000\n",
       "3           3  1000_3   550.27   2018-08-22     1000\n",
       "4           4  1000_4   302.56   2018-09-24     1000"
      ]
     },
     "execution_count": 5,
     "metadata": {},
     "output_type": "execute_result"
    }
   ],
   "source": [
    "# вывод на экран верхней части таблицы с интернет траффиком\n",
    "df_internet.head()"
   ]
  },
  {
   "cell_type": "code",
   "execution_count": 6,
   "id": "f91f04d9",
   "metadata": {},
   "outputs": [
    {
     "name": "stdout",
     "output_type": "stream",
     "text": [
      "<class 'pandas.core.frame.DataFrame'>\n",
      "RangeIndex: 149396 entries, 0 to 149395\n",
      "Data columns (total 5 columns):\n",
      " #   Column        Non-Null Count   Dtype  \n",
      "---  ------        --------------   -----  \n",
      " 0   Unnamed: 0    149396 non-null  int64  \n",
      " 1   id            149396 non-null  object \n",
      " 2   mb_used       149396 non-null  float64\n",
      " 3   session_date  149396 non-null  object \n",
      " 4   user_id       149396 non-null  int64  \n",
      "dtypes: float64(1), int64(2), object(2)\n",
      "memory usage: 5.7+ MB\n"
     ]
    }
   ],
   "source": [
    "# обзор данных с интернет-траффиком\n",
    "df_internet.info()"
   ]
  },
  {
   "cell_type": "markdown",
   "id": "3e3f6b81",
   "metadata": {},
   "source": [
    "В таблице 149396 строк с данными(149396 интернет-сессий). 2 столбца данных строкового типа object, 1 столбец числового с плавающей точкой типа float, 2 целочисленного типа int. В данных пропусков нет."
   ]
  },
  {
   "cell_type": "code",
   "execution_count": 7,
   "id": "b6a08d30",
   "metadata": {},
   "outputs": [
    {
     "data": {
      "text/html": [
       "<div>\n",
       "<style scoped>\n",
       "    .dataframe tbody tr th:only-of-type {\n",
       "        vertical-align: middle;\n",
       "    }\n",
       "\n",
       "    .dataframe tbody tr th {\n",
       "        vertical-align: top;\n",
       "    }\n",
       "\n",
       "    .dataframe thead th {\n",
       "        text-align: right;\n",
       "    }\n",
       "</style>\n",
       "<table border=\"1\" class=\"dataframe\">\n",
       "  <thead>\n",
       "    <tr style=\"text-align: right;\">\n",
       "      <th></th>\n",
       "      <th>id</th>\n",
       "      <th>message_date</th>\n",
       "      <th>user_id</th>\n",
       "    </tr>\n",
       "  </thead>\n",
       "  <tbody>\n",
       "    <tr>\n",
       "      <th>0</th>\n",
       "      <td>1000_0</td>\n",
       "      <td>2018-06-27</td>\n",
       "      <td>1000</td>\n",
       "    </tr>\n",
       "    <tr>\n",
       "      <th>1</th>\n",
       "      <td>1000_1</td>\n",
       "      <td>2018-10-08</td>\n",
       "      <td>1000</td>\n",
       "    </tr>\n",
       "    <tr>\n",
       "      <th>2</th>\n",
       "      <td>1000_2</td>\n",
       "      <td>2018-08-04</td>\n",
       "      <td>1000</td>\n",
       "    </tr>\n",
       "    <tr>\n",
       "      <th>3</th>\n",
       "      <td>1000_3</td>\n",
       "      <td>2018-06-16</td>\n",
       "      <td>1000</td>\n",
       "    </tr>\n",
       "    <tr>\n",
       "      <th>4</th>\n",
       "      <td>1000_4</td>\n",
       "      <td>2018-12-05</td>\n",
       "      <td>1000</td>\n",
       "    </tr>\n",
       "    <tr>\n",
       "      <th>5</th>\n",
       "      <td>1000_5</td>\n",
       "      <td>2018-06-20</td>\n",
       "      <td>1000</td>\n",
       "    </tr>\n",
       "    <tr>\n",
       "      <th>6</th>\n",
       "      <td>1000_6</td>\n",
       "      <td>2018-11-19</td>\n",
       "      <td>1000</td>\n",
       "    </tr>\n",
       "    <tr>\n",
       "      <th>7</th>\n",
       "      <td>1000_7</td>\n",
       "      <td>2018-10-29</td>\n",
       "      <td>1000</td>\n",
       "    </tr>\n",
       "    <tr>\n",
       "      <th>8</th>\n",
       "      <td>1000_8</td>\n",
       "      <td>2018-06-25</td>\n",
       "      <td>1000</td>\n",
       "    </tr>\n",
       "    <tr>\n",
       "      <th>9</th>\n",
       "      <td>1000_9</td>\n",
       "      <td>2018-12-18</td>\n",
       "      <td>1000</td>\n",
       "    </tr>\n",
       "  </tbody>\n",
       "</table>\n",
       "</div>"
      ],
      "text/plain": [
       "       id message_date  user_id\n",
       "0  1000_0   2018-06-27     1000\n",
       "1  1000_1   2018-10-08     1000\n",
       "2  1000_2   2018-08-04     1000\n",
       "3  1000_3   2018-06-16     1000\n",
       "4  1000_4   2018-12-05     1000\n",
       "5  1000_5   2018-06-20     1000\n",
       "6  1000_6   2018-11-19     1000\n",
       "7  1000_7   2018-10-29     1000\n",
       "8  1000_8   2018-06-25     1000\n",
       "9  1000_9   2018-12-18     1000"
      ]
     },
     "execution_count": 7,
     "metadata": {},
     "output_type": "execute_result"
    }
   ],
   "source": [
    "# вывод на экран верхней части таблицы с сообщениями\n",
    "df_messages.head(10)"
   ]
  },
  {
   "cell_type": "code",
   "execution_count": 8,
   "id": "e14892e5",
   "metadata": {},
   "outputs": [
    {
     "name": "stdout",
     "output_type": "stream",
     "text": [
      "<class 'pandas.core.frame.DataFrame'>\n",
      "RangeIndex: 123036 entries, 0 to 123035\n",
      "Data columns (total 3 columns):\n",
      " #   Column        Non-Null Count   Dtype \n",
      "---  ------        --------------   ----- \n",
      " 0   id            123036 non-null  object\n",
      " 1   message_date  123036 non-null  object\n",
      " 2   user_id       123036 non-null  int64 \n",
      "dtypes: int64(1), object(2)\n",
      "memory usage: 2.8+ MB\n"
     ]
    }
   ],
   "source": [
    "# обзор данных с сообщениями\n",
    "df_messages.info()"
   ]
  },
  {
   "cell_type": "markdown",
   "id": "95b4651b",
   "metadata": {},
   "source": [
    "В таблице 123036 строк с данными(123036 сообщений). 2 столбца данных строкового типа object, 2 целочисленного типа int. В данных пропусков нет."
   ]
  },
  {
   "cell_type": "code",
   "execution_count": 9,
   "id": "8cff17d2",
   "metadata": {},
   "outputs": [
    {
     "data": {
      "text/html": [
       "<div>\n",
       "<style scoped>\n",
       "    .dataframe tbody tr th:only-of-type {\n",
       "        vertical-align: middle;\n",
       "    }\n",
       "\n",
       "    .dataframe tbody tr th {\n",
       "        vertical-align: top;\n",
       "    }\n",
       "\n",
       "    .dataframe thead th {\n",
       "        text-align: right;\n",
       "    }\n",
       "</style>\n",
       "<table border=\"1\" class=\"dataframe\">\n",
       "  <thead>\n",
       "    <tr style=\"text-align: right;\">\n",
       "      <th></th>\n",
       "      <th>messages_included</th>\n",
       "      <th>mb_per_month_included</th>\n",
       "      <th>minutes_included</th>\n",
       "      <th>rub_monthly_fee</th>\n",
       "      <th>rub_per_gb</th>\n",
       "      <th>rub_per_message</th>\n",
       "      <th>rub_per_minute</th>\n",
       "      <th>tariff_name</th>\n",
       "    </tr>\n",
       "  </thead>\n",
       "  <tbody>\n",
       "    <tr>\n",
       "      <th>0</th>\n",
       "      <td>50</td>\n",
       "      <td>15360</td>\n",
       "      <td>500</td>\n",
       "      <td>550</td>\n",
       "      <td>200</td>\n",
       "      <td>3</td>\n",
       "      <td>3</td>\n",
       "      <td>smart</td>\n",
       "    </tr>\n",
       "    <tr>\n",
       "      <th>1</th>\n",
       "      <td>1000</td>\n",
       "      <td>30720</td>\n",
       "      <td>3000</td>\n",
       "      <td>1950</td>\n",
       "      <td>150</td>\n",
       "      <td>1</td>\n",
       "      <td>1</td>\n",
       "      <td>ultra</td>\n",
       "    </tr>\n",
       "  </tbody>\n",
       "</table>\n",
       "</div>"
      ],
      "text/plain": [
       "   messages_included  mb_per_month_included  minutes_included  \\\n",
       "0                 50                  15360               500   \n",
       "1               1000                  30720              3000   \n",
       "\n",
       "   rub_monthly_fee  rub_per_gb  rub_per_message  rub_per_minute tariff_name  \n",
       "0              550         200                3               3       smart  \n",
       "1             1950         150                1               1       ultra  "
      ]
     },
     "execution_count": 9,
     "metadata": {},
     "output_type": "execute_result"
    }
   ],
   "source": [
    "# вывод на экран верхней части таблицы с данными о тарифах\n",
    "df_tariffs.head()"
   ]
  },
  {
   "cell_type": "markdown",
   "id": "3194ef9d",
   "metadata": {},
   "source": [
    "Итак, из таблицы понятно, что клиенты оператора на тарифе \"Смарт\" оплачивают за пользование услугами связи 550 руб/мес постоянных расходов, которые покрывают 500 минут разговоров, 50 смс-сообщений и 15360 мб интернет-траффика. Те же пользователи тарифа \"Смарт\" при превышении пороговых значений оплачивают за 1 мин. разговора 3 руб/мин., за 1 сообщение руб, 200 руб/гигабайт. Клиенты на тарифе \"Ультра\" имеют 1950 руб. абонентской платы, которая включает 3000 мин разговоров, 30720 мегабайт траффика, 1000 сообщений. Сверх лимита пользователи \"Ультра\" оплачивают 1 руб/мин., 1руб/сообщение, 150 руб/Гигабайт интернета. Еще известно, что секунды звонков клиентов \"Мегалайн\" округляются в большую сторону до минут, а также мегабайты за месяц использования интернета округляются до целых гигабайт. Учтем эти ньюансы в дальнейшем исследовании."
   ]
  },
  {
   "cell_type": "code",
   "execution_count": 10,
   "id": "0ef403a0",
   "metadata": {},
   "outputs": [
    {
     "name": "stdout",
     "output_type": "stream",
     "text": [
      "<class 'pandas.core.frame.DataFrame'>\n",
      "RangeIndex: 2 entries, 0 to 1\n",
      "Data columns (total 8 columns):\n",
      " #   Column                 Non-Null Count  Dtype \n",
      "---  ------                 --------------  ----- \n",
      " 0   messages_included      2 non-null      int64 \n",
      " 1   mb_per_month_included  2 non-null      int64 \n",
      " 2   minutes_included       2 non-null      int64 \n",
      " 3   rub_monthly_fee        2 non-null      int64 \n",
      " 4   rub_per_gb             2 non-null      int64 \n",
      " 5   rub_per_message        2 non-null      int64 \n",
      " 6   rub_per_minute         2 non-null      int64 \n",
      " 7   tariff_name            2 non-null      object\n",
      "dtypes: int64(7), object(1)\n",
      "memory usage: 256.0+ bytes\n"
     ]
    }
   ],
   "source": [
    "# обзор данных по тарифам\n",
    "df_tariffs.info()"
   ]
  },
  {
   "cell_type": "markdown",
   "id": "44856982",
   "metadata": {},
   "source": [
    "В данных по тарифам: 2 строки(2 тарифа) 1 столбец с данными типа object, 7 столбцов с целочисленными данными типа float."
   ]
  },
  {
   "cell_type": "code",
   "execution_count": 11,
   "id": "8c827449",
   "metadata": {
    "scrolled": true
   },
   "outputs": [
    {
     "data": {
      "text/html": [
       "<div>\n",
       "<style scoped>\n",
       "    .dataframe tbody tr th:only-of-type {\n",
       "        vertical-align: middle;\n",
       "    }\n",
       "\n",
       "    .dataframe tbody tr th {\n",
       "        vertical-align: top;\n",
       "    }\n",
       "\n",
       "    .dataframe thead th {\n",
       "        text-align: right;\n",
       "    }\n",
       "</style>\n",
       "<table border=\"1\" class=\"dataframe\">\n",
       "  <thead>\n",
       "    <tr style=\"text-align: right;\">\n",
       "      <th></th>\n",
       "      <th>user_id</th>\n",
       "      <th>age</th>\n",
       "      <th>churn_date</th>\n",
       "      <th>city</th>\n",
       "      <th>first_name</th>\n",
       "      <th>last_name</th>\n",
       "      <th>reg_date</th>\n",
       "      <th>tariff</th>\n",
       "    </tr>\n",
       "  </thead>\n",
       "  <tbody>\n",
       "    <tr>\n",
       "      <th>0</th>\n",
       "      <td>1000</td>\n",
       "      <td>52</td>\n",
       "      <td>NaN</td>\n",
       "      <td>Краснодар</td>\n",
       "      <td>Рафаил</td>\n",
       "      <td>Верещагин</td>\n",
       "      <td>2018-05-25</td>\n",
       "      <td>ultra</td>\n",
       "    </tr>\n",
       "    <tr>\n",
       "      <th>1</th>\n",
       "      <td>1001</td>\n",
       "      <td>41</td>\n",
       "      <td>NaN</td>\n",
       "      <td>Москва</td>\n",
       "      <td>Иван</td>\n",
       "      <td>Ежов</td>\n",
       "      <td>2018-11-01</td>\n",
       "      <td>smart</td>\n",
       "    </tr>\n",
       "    <tr>\n",
       "      <th>2</th>\n",
       "      <td>1002</td>\n",
       "      <td>59</td>\n",
       "      <td>NaN</td>\n",
       "      <td>Стерлитамак</td>\n",
       "      <td>Евгений</td>\n",
       "      <td>Абрамович</td>\n",
       "      <td>2018-06-17</td>\n",
       "      <td>smart</td>\n",
       "    </tr>\n",
       "    <tr>\n",
       "      <th>3</th>\n",
       "      <td>1003</td>\n",
       "      <td>23</td>\n",
       "      <td>NaN</td>\n",
       "      <td>Москва</td>\n",
       "      <td>Белла</td>\n",
       "      <td>Белякова</td>\n",
       "      <td>2018-08-17</td>\n",
       "      <td>ultra</td>\n",
       "    </tr>\n",
       "    <tr>\n",
       "      <th>4</th>\n",
       "      <td>1004</td>\n",
       "      <td>68</td>\n",
       "      <td>NaN</td>\n",
       "      <td>Новокузнецк</td>\n",
       "      <td>Татьяна</td>\n",
       "      <td>Авдеенко</td>\n",
       "      <td>2018-05-14</td>\n",
       "      <td>ultra</td>\n",
       "    </tr>\n",
       "  </tbody>\n",
       "</table>\n",
       "</div>"
      ],
      "text/plain": [
       "   user_id  age churn_date         city first_name  last_name    reg_date  \\\n",
       "0     1000   52        NaN    Краснодар     Рафаил  Верещагин  2018-05-25   \n",
       "1     1001   41        NaN       Москва       Иван       Ежов  2018-11-01   \n",
       "2     1002   59        NaN  Стерлитамак    Евгений  Абрамович  2018-06-17   \n",
       "3     1003   23        NaN       Москва      Белла   Белякова  2018-08-17   \n",
       "4     1004   68        NaN  Новокузнецк    Татьяна   Авдеенко  2018-05-14   \n",
       "\n",
       "  tariff  \n",
       "0  ultra  \n",
       "1  smart  \n",
       "2  smart  \n",
       "3  ultra  \n",
       "4  ultra  "
      ]
     },
     "execution_count": 11,
     "metadata": {},
     "output_type": "execute_result"
    }
   ],
   "source": [
    "# вывод на экран верхней части таблицы с данными о пользователях \n",
    "df_users.head()"
   ]
  },
  {
   "cell_type": "code",
   "execution_count": 12,
   "id": "f612d63c",
   "metadata": {},
   "outputs": [
    {
     "name": "stdout",
     "output_type": "stream",
     "text": [
      "<class 'pandas.core.frame.DataFrame'>\n",
      "RangeIndex: 500 entries, 0 to 499\n",
      "Data columns (total 8 columns):\n",
      " #   Column      Non-Null Count  Dtype \n",
      "---  ------      --------------  ----- \n",
      " 0   user_id     500 non-null    int64 \n",
      " 1   age         500 non-null    int64 \n",
      " 2   churn_date  38 non-null     object\n",
      " 3   city        500 non-null    object\n",
      " 4   first_name  500 non-null    object\n",
      " 5   last_name   500 non-null    object\n",
      " 6   reg_date    500 non-null    object\n",
      " 7   tariff      500 non-null    object\n",
      "dtypes: int64(2), object(6)\n",
      "memory usage: 31.4+ KB\n"
     ]
    }
   ],
   "source": [
    "# обзор данных о пользователях\n",
    "df_users.info()"
   ]
  },
  {
   "cell_type": "markdown",
   "id": "6539c834",
   "metadata": {},
   "source": [
    "В данных о пользователях 500 строк(500 пользователей). 6 столбцов с данными типа object, 2 столбца с данными типа int. В одном столбце много пропусков, это данные об дате отключения клиента от оператора связи. Оставим эти пропуски, не заполняя их.  "
   ]
  },
  {
   "cell_type": "code",
   "execution_count": 13,
   "id": "6478b0b4",
   "metadata": {
    "scrolled": true
   },
   "outputs": [
    {
     "data": {
      "text/html": [
       "<div>\n",
       "<style scoped>\n",
       "    .dataframe tbody tr th:only-of-type {\n",
       "        vertical-align: middle;\n",
       "    }\n",
       "\n",
       "    .dataframe tbody tr th {\n",
       "        vertical-align: top;\n",
       "    }\n",
       "\n",
       "    .dataframe thead th {\n",
       "        text-align: right;\n",
       "    }\n",
       "</style>\n",
       "<table border=\"1\" class=\"dataframe\">\n",
       "  <thead>\n",
       "    <tr style=\"text-align: right;\">\n",
       "      <th></th>\n",
       "      <th>user_id</th>\n",
       "      <th>age</th>\n",
       "      <th>churn_date</th>\n",
       "      <th>city</th>\n",
       "      <th>first_name</th>\n",
       "      <th>last_name</th>\n",
       "      <th>reg_date</th>\n",
       "      <th>tariff</th>\n",
       "    </tr>\n",
       "  </thead>\n",
       "  <tbody>\n",
       "    <tr>\n",
       "      <th>19</th>\n",
       "      <td>1019</td>\n",
       "      <td>63</td>\n",
       "      <td>2018-10-05</td>\n",
       "      <td>Томск</td>\n",
       "      <td>Игнатий</td>\n",
       "      <td>Круглов</td>\n",
       "      <td>2018-05-16</td>\n",
       "      <td>ultra</td>\n",
       "    </tr>\n",
       "    <tr>\n",
       "      <th>20</th>\n",
       "      <td>1020</td>\n",
       "      <td>59</td>\n",
       "      <td>2018-12-18</td>\n",
       "      <td>Чита</td>\n",
       "      <td>Тала</td>\n",
       "      <td>Костина</td>\n",
       "      <td>2018-10-22</td>\n",
       "      <td>smart</td>\n",
       "    </tr>\n",
       "    <tr>\n",
       "      <th>34</th>\n",
       "      <td>1034</td>\n",
       "      <td>66</td>\n",
       "      <td>2018-11-21</td>\n",
       "      <td>Вологда</td>\n",
       "      <td>Святослав</td>\n",
       "      <td>Бондарев</td>\n",
       "      <td>2018-08-26</td>\n",
       "      <td>smart</td>\n",
       "    </tr>\n",
       "    <tr>\n",
       "      <th>50</th>\n",
       "      <td>1050</td>\n",
       "      <td>44</td>\n",
       "      <td>2018-10-03</td>\n",
       "      <td>Тюмень</td>\n",
       "      <td>Рузана</td>\n",
       "      <td>Аничкина</td>\n",
       "      <td>2018-06-16</td>\n",
       "      <td>ultra</td>\n",
       "    </tr>\n",
       "    <tr>\n",
       "      <th>51</th>\n",
       "      <td>1051</td>\n",
       "      <td>37</td>\n",
       "      <td>2018-10-14</td>\n",
       "      <td>Москва</td>\n",
       "      <td>Кристина</td>\n",
       "      <td>Сомова</td>\n",
       "      <td>2018-05-28</td>\n",
       "      <td>smart</td>\n",
       "    </tr>\n",
       "  </tbody>\n",
       "</table>\n",
       "</div>"
      ],
      "text/plain": [
       "    user_id  age  churn_date     city first_name last_name    reg_date tariff\n",
       "19     1019   63  2018-10-05    Томск    Игнатий   Круглов  2018-05-16  ultra\n",
       "20     1020   59  2018-12-18     Чита       Тала   Костина  2018-10-22  smart\n",
       "34     1034   66  2018-11-21  Вологда  Святослав  Бондарев  2018-08-26  smart\n",
       "50     1050   44  2018-10-03   Тюмень     Рузана  Аничкина  2018-06-16  ultra\n",
       "51     1051   37  2018-10-14   Москва   Кристина    Сомова  2018-05-28  smart"
      ]
     },
     "execution_count": 13,
     "metadata": {},
     "output_type": "execute_result"
    }
   ],
   "source": [
    "# вывод на экран части данных с заполненной датой отключения от оператора\n",
    "df_users[~(df_users['churn_date'].isna())].head()"
   ]
  },
  {
   "cell_type": "markdown",
   "id": "ce037752",
   "metadata": {},
   "source": [
    "## Шаг 2. Предобработка данных."
   ]
  },
  {
   "cell_type": "markdown",
   "id": "b8ea690f",
   "metadata": {},
   "source": [
    "### Шаг 2.1. Приведение данных к нужным типам и проверка их на дубликаты."
   ]
  },
  {
   "cell_type": "markdown",
   "id": "efbbde99",
   "metadata": {},
   "source": [
    "Обработаем данные, необходимые для анализа. Уберем лишнее, приведем данные к нужным типам и сведем их по пользователям в итоговые таблицы, чтобы провести исследовательский и статистический анализ."
   ]
  },
  {
   "cell_type": "code",
   "execution_count": 14,
   "id": "d94a5793",
   "metadata": {
    "scrolled": true
   },
   "outputs": [
    {
     "data": {
      "text/html": [
       "<div>\n",
       "<style scoped>\n",
       "    .dataframe tbody tr th:only-of-type {\n",
       "        vertical-align: middle;\n",
       "    }\n",
       "\n",
       "    .dataframe tbody tr th {\n",
       "        vertical-align: top;\n",
       "    }\n",
       "\n",
       "    .dataframe thead th {\n",
       "        text-align: right;\n",
       "    }\n",
       "</style>\n",
       "<table border=\"1\" class=\"dataframe\">\n",
       "  <thead>\n",
       "    <tr style=\"text-align: right;\">\n",
       "      <th></th>\n",
       "      <th>Unnamed: 0</th>\n",
       "      <th>id</th>\n",
       "      <th>mb_used</th>\n",
       "      <th>session_date</th>\n",
       "      <th>user_id</th>\n",
       "    </tr>\n",
       "  </thead>\n",
       "  <tbody>\n",
       "    <tr>\n",
       "      <th>149391</th>\n",
       "      <td>149391</td>\n",
       "      <td>1499_152</td>\n",
       "      <td>318.90</td>\n",
       "      <td>2018-10-03</td>\n",
       "      <td>1499</td>\n",
       "    </tr>\n",
       "    <tr>\n",
       "      <th>149392</th>\n",
       "      <td>149392</td>\n",
       "      <td>1499_153</td>\n",
       "      <td>490.13</td>\n",
       "      <td>2018-12-14</td>\n",
       "      <td>1499</td>\n",
       "    </tr>\n",
       "    <tr>\n",
       "      <th>149393</th>\n",
       "      <td>149393</td>\n",
       "      <td>1499_154</td>\n",
       "      <td>0.00</td>\n",
       "      <td>2018-10-27</td>\n",
       "      <td>1499</td>\n",
       "    </tr>\n",
       "    <tr>\n",
       "      <th>149394</th>\n",
       "      <td>149394</td>\n",
       "      <td>1499_155</td>\n",
       "      <td>1246.32</td>\n",
       "      <td>2018-11-26</td>\n",
       "      <td>1499</td>\n",
       "    </tr>\n",
       "    <tr>\n",
       "      <th>149395</th>\n",
       "      <td>149395</td>\n",
       "      <td>1499_156</td>\n",
       "      <td>544.37</td>\n",
       "      <td>2018-10-26</td>\n",
       "      <td>1499</td>\n",
       "    </tr>\n",
       "  </tbody>\n",
       "</table>\n",
       "</div>"
      ],
      "text/plain": [
       "        Unnamed: 0        id  mb_used session_date  user_id\n",
       "149391      149391  1499_152   318.90   2018-10-03     1499\n",
       "149392      149392  1499_153   490.13   2018-12-14     1499\n",
       "149393      149393  1499_154     0.00   2018-10-27     1499\n",
       "149394      149394  1499_155  1246.32   2018-11-26     1499\n",
       "149395      149395  1499_156   544.37   2018-10-26     1499"
      ]
     },
     "execution_count": 14,
     "metadata": {},
     "output_type": "execute_result"
    }
   ],
   "source": [
    "# вывод на экран хвоста таблицы по интернет-траффику\n",
    "df_internet.tail()"
   ]
  },
  {
   "cell_type": "markdown",
   "id": "48af011f",
   "metadata": {},
   "source": [
    "В таблице с интернет-траффиком есть столбец \"Unnamed:0\", который судя по всему имеет данные идентичные наименованию индексов. Удалим лишний столбец."
   ]
  },
  {
   "cell_type": "code",
   "execution_count": 15,
   "id": "e4a0f39d",
   "metadata": {},
   "outputs": [
    {
     "data": {
      "text/html": [
       "<div>\n",
       "<style scoped>\n",
       "    .dataframe tbody tr th:only-of-type {\n",
       "        vertical-align: middle;\n",
       "    }\n",
       "\n",
       "    .dataframe tbody tr th {\n",
       "        vertical-align: top;\n",
       "    }\n",
       "\n",
       "    .dataframe thead th {\n",
       "        text-align: right;\n",
       "    }\n",
       "</style>\n",
       "<table border=\"1\" class=\"dataframe\">\n",
       "  <thead>\n",
       "    <tr style=\"text-align: right;\">\n",
       "      <th></th>\n",
       "      <th>id</th>\n",
       "      <th>mb_used</th>\n",
       "      <th>session_date</th>\n",
       "      <th>user_id</th>\n",
       "    </tr>\n",
       "  </thead>\n",
       "  <tbody>\n",
       "    <tr>\n",
       "      <th>0</th>\n",
       "      <td>1000_0</td>\n",
       "      <td>112.95</td>\n",
       "      <td>2018-11-25</td>\n",
       "      <td>1000</td>\n",
       "    </tr>\n",
       "    <tr>\n",
       "      <th>1</th>\n",
       "      <td>1000_1</td>\n",
       "      <td>1052.81</td>\n",
       "      <td>2018-09-07</td>\n",
       "      <td>1000</td>\n",
       "    </tr>\n",
       "    <tr>\n",
       "      <th>2</th>\n",
       "      <td>1000_2</td>\n",
       "      <td>1197.26</td>\n",
       "      <td>2018-06-25</td>\n",
       "      <td>1000</td>\n",
       "    </tr>\n",
       "    <tr>\n",
       "      <th>3</th>\n",
       "      <td>1000_3</td>\n",
       "      <td>550.27</td>\n",
       "      <td>2018-08-22</td>\n",
       "      <td>1000</td>\n",
       "    </tr>\n",
       "    <tr>\n",
       "      <th>4</th>\n",
       "      <td>1000_4</td>\n",
       "      <td>302.56</td>\n",
       "      <td>2018-09-24</td>\n",
       "      <td>1000</td>\n",
       "    </tr>\n",
       "  </tbody>\n",
       "</table>\n",
       "</div>"
      ],
      "text/plain": [
       "       id  mb_used session_date  user_id\n",
       "0  1000_0   112.95   2018-11-25     1000\n",
       "1  1000_1  1052.81   2018-09-07     1000\n",
       "2  1000_2  1197.26   2018-06-25     1000\n",
       "3  1000_3   550.27   2018-08-22     1000\n",
       "4  1000_4   302.56   2018-09-24     1000"
      ]
     },
     "execution_count": 15,
     "metadata": {},
     "output_type": "execute_result"
    }
   ],
   "source": [
    "# удаление столбца \"Unnamed:0\" методом drop\n",
    "df_internet = df_internet.drop(columns='Unnamed: 0' , axis=0)\n",
    "df_internet.head()"
   ]
  },
  {
   "cell_type": "markdown",
   "id": "958091aa",
   "metadata": {},
   "source": [
    "Приведем данные к необходимым для анализа форматам. В первую очередь округлим продолжительность разговоров в минутах до целых чисел в большую сторону."
   ]
  },
  {
   "cell_type": "code",
   "execution_count": 16,
   "id": "940a27ec",
   "metadata": {
    "scrolled": true
   },
   "outputs": [
    {
     "data": {
      "text/html": [
       "<div>\n",
       "<style scoped>\n",
       "    .dataframe tbody tr th:only-of-type {\n",
       "        vertical-align: middle;\n",
       "    }\n",
       "\n",
       "    .dataframe tbody tr th {\n",
       "        vertical-align: top;\n",
       "    }\n",
       "\n",
       "    .dataframe thead th {\n",
       "        text-align: right;\n",
       "    }\n",
       "</style>\n",
       "<table border=\"1\" class=\"dataframe\">\n",
       "  <thead>\n",
       "    <tr style=\"text-align: right;\">\n",
       "      <th></th>\n",
       "      <th>id</th>\n",
       "      <th>call_date</th>\n",
       "      <th>duration</th>\n",
       "      <th>user_id</th>\n",
       "    </tr>\n",
       "  </thead>\n",
       "  <tbody>\n",
       "    <tr>\n",
       "      <th>0</th>\n",
       "      <td>1000_0</td>\n",
       "      <td>2018-07-25</td>\n",
       "      <td>0</td>\n",
       "      <td>1000</td>\n",
       "    </tr>\n",
       "    <tr>\n",
       "      <th>1</th>\n",
       "      <td>1000_1</td>\n",
       "      <td>2018-08-17</td>\n",
       "      <td>0</td>\n",
       "      <td>1000</td>\n",
       "    </tr>\n",
       "    <tr>\n",
       "      <th>2</th>\n",
       "      <td>1000_2</td>\n",
       "      <td>2018-06-11</td>\n",
       "      <td>3</td>\n",
       "      <td>1000</td>\n",
       "    </tr>\n",
       "    <tr>\n",
       "      <th>3</th>\n",
       "      <td>1000_3</td>\n",
       "      <td>2018-09-21</td>\n",
       "      <td>14</td>\n",
       "      <td>1000</td>\n",
       "    </tr>\n",
       "    <tr>\n",
       "      <th>4</th>\n",
       "      <td>1000_4</td>\n",
       "      <td>2018-12-15</td>\n",
       "      <td>6</td>\n",
       "      <td>1000</td>\n",
       "    </tr>\n",
       "  </tbody>\n",
       "</table>\n",
       "</div>"
      ],
      "text/plain": [
       "       id   call_date  duration  user_id\n",
       "0  1000_0  2018-07-25         0     1000\n",
       "1  1000_1  2018-08-17         0     1000\n",
       "2  1000_2  2018-06-11         3     1000\n",
       "3  1000_3  2018-09-21        14     1000\n",
       "4  1000_4  2018-12-15         6     1000"
      ]
     },
     "execution_count": 16,
     "metadata": {},
     "output_type": "execute_result"
    }
   ],
   "source": [
    "# приведение продолжительности звонков к целочисленному формату методом astype, с применением метода np.ceil\n",
    "df_calls['duration'] = df_calls['duration'].apply(np.ceil).astype('int')\n",
    "df_calls.head()"
   ]
  },
  {
   "cell_type": "markdown",
   "id": "1b426f4a",
   "metadata": {},
   "source": [
    "В каждой таблице есть данные с датами, но в формате object. Переведем данные в формат даты методом pd.to_datetime."
   ]
  },
  {
   "cell_type": "code",
   "execution_count": 17,
   "id": "df14ad3a",
   "metadata": {},
   "outputs": [],
   "source": [
    "# конвертация в формат даты данных о сессии интернет-соединения методом pd.to_datetime\n",
    "df_internet['session_date'] = pd.to_datetime(df_internet['session_date'] , format='%Y-%m-%d')"
   ]
  },
  {
   "cell_type": "code",
   "execution_count": 18,
   "id": "375b3a08",
   "metadata": {},
   "outputs": [],
   "source": [
    "# конвертация в формат даты данных о регистрации пользователя методом pd.to_datetime\n",
    "df_users['reg_date'] = pd.to_datetime(df_users['reg_date'] , format='%Y-%m-%d')"
   ]
  },
  {
   "cell_type": "code",
   "execution_count": 19,
   "id": "7d76b423",
   "metadata": {},
   "outputs": [],
   "source": [
    "# конвертация в формат даты данных об отключении пользователя от оператора связи методом pd.to_datetime\n",
    "df_users['churn_date'] = pd.to_datetime(df_users['churn_date'] , format='%Y-%m-%d')"
   ]
  },
  {
   "cell_type": "code",
   "execution_count": 20,
   "id": "4074d4b0",
   "metadata": {},
   "outputs": [],
   "source": [
    "# конвертация в формат даты данных об сообщениях методом pd.to_datetime\n",
    "df_messages['message_date'] = pd.to_datetime(df_messages['message_date'] , format='%Y-%m-%d')"
   ]
  },
  {
   "cell_type": "code",
   "execution_count": 21,
   "id": "3a0fb263",
   "metadata": {},
   "outputs": [],
   "source": [
    "# конвертация в формат даты данных об звонках методом pd.to_datetime\n",
    "df_calls['call_date'] = pd.to_datetime(df_calls['call_date'] , format='%Y-%m-%d')"
   ]
  },
  {
   "cell_type": "markdown",
   "id": "d1f1a31e",
   "metadata": {},
   "source": [
    "Выполним общий обзор некоторых важных данных, чтобы исключить или подтвердить присутвствие аномалий в датасетах."
   ]
  },
  {
   "cell_type": "code",
   "execution_count": 22,
   "id": "9bcec271",
   "metadata": {},
   "outputs": [
    {
     "data": {
      "text/plain": [
       "39613"
      ]
     },
     "execution_count": 22,
     "metadata": {},
     "output_type": "execute_result"
    }
   ],
   "source": [
    "# количество пропущенных звонков методом count\n",
    "df_calls[df_calls['duration'] == 0]['duration'].count()"
   ]
  },
  {
   "cell_type": "code",
   "execution_count": 23,
   "id": "462cf0c0",
   "metadata": {},
   "outputs": [
    {
     "data": {
      "text/plain": [
       "count    202607.000000\n",
       "mean          7.158198\n",
       "std           5.959173\n",
       "min           0.000000\n",
       "25%           2.000000\n",
       "50%           6.000000\n",
       "75%          11.000000\n",
       "max          38.000000\n",
       "Name: duration, dtype: float64"
      ]
     },
     "execution_count": 23,
     "metadata": {},
     "output_type": "execute_result"
    }
   ],
   "source": [
    "# обзор продолжительности звонков методом describe\n",
    "df_calls['duration'].describe()"
   ]
  },
  {
   "cell_type": "code",
   "execution_count": 24,
   "id": "c41be7a8",
   "metadata": {},
   "outputs": [
    {
     "data": {
      "text/plain": [
       "count    149396.000000\n",
       "mean        370.192426\n",
       "std         278.300951\n",
       "min           0.000000\n",
       "25%         138.187500\n",
       "50%         348.015000\n",
       "75%         559.552500\n",
       "max        1724.830000\n",
       "Name: mb_used, dtype: float64"
      ]
     },
     "execution_count": 24,
     "metadata": {},
     "output_type": "execute_result"
    }
   ],
   "source": [
    "# обзор объема интернет-сессий методом describe\n",
    "df_internet['mb_used'].describe()"
   ]
  },
  {
   "cell_type": "code",
   "execution_count": 25,
   "id": "cef8789c",
   "metadata": {},
   "outputs": [
    {
     "data": {
      "text/plain": [
       "count    500.00000\n",
       "mean      46.58800\n",
       "std       16.66763\n",
       "min       18.00000\n",
       "25%       32.00000\n",
       "50%       46.00000\n",
       "75%       62.00000\n",
       "max       75.00000\n",
       "Name: age, dtype: float64"
      ]
     },
     "execution_count": 25,
     "metadata": {},
     "output_type": "execute_result"
    }
   ],
   "source": [
    "# обзор возраста клиентов методом describe\n",
    "df_users['age'].describe()"
   ]
  },
  {
   "cell_type": "markdown",
   "id": "b27f2562",
   "metadata": {},
   "source": [
    "В данных по продолжительности звонков, объеме интернет-сессииях, возрасте клиентов аномальных значений не наблюдается. Посмотрим соотношение количества пользователей на обоих тарифах."
   ]
  },
  {
   "cell_type": "code",
   "execution_count": 26,
   "id": "5c07f72b",
   "metadata": {},
   "outputs": [
    {
     "data": {
      "text/plain": [
       "smart    351\n",
       "ultra    149\n",
       "Name: tariff, dtype: int64"
      ]
     },
     "execution_count": 26,
     "metadata": {},
     "output_type": "execute_result"
    }
   ],
   "source": [
    "# обзор количества клиентов на каждом тарифе\n",
    "df_users['tariff'].value_counts()"
   ]
  },
  {
   "cell_type": "markdown",
   "id": "3e23fc99",
   "metadata": {},
   "source": [
    "Большинство пользователей находится на тарифе \"smart\" - около 70 %, на тарифе \"ultra\" остальные 30 %. Проверим данные на явные дубликаты."
   ]
  },
  {
   "cell_type": "code",
   "execution_count": 27,
   "id": "6c8218e9",
   "metadata": {},
   "outputs": [
    {
     "data": {
      "text/plain": [
       "0"
      ]
     },
     "execution_count": 27,
     "metadata": {},
     "output_type": "execute_result"
    }
   ],
   "source": [
    "# проверка количества методом duplicated\n",
    "df_users.duplicated().sum()"
   ]
  },
  {
   "cell_type": "markdown",
   "id": "bef53865",
   "metadata": {},
   "source": [
    "Явных дубликатов не обнаружено. Для исследования важны данные с наименованиями городов, проверим написание городов в соответствующем столбце, чтобы исключить написание одинаковых городов в разных регистрах."
   ]
  },
  {
   "cell_type": "code",
   "execution_count": 28,
   "id": "1ee67d50",
   "metadata": {},
   "outputs": [
    {
     "data": {
      "text/plain": [
       "array(['Краснодар', 'Москва', 'Стерлитамак', 'Новокузнецк',\n",
       "       'Набережные Челны', 'Ульяновск', 'Челябинск', 'Пермь', 'Тюмень',\n",
       "       'Самара', 'Санкт-Петербург', 'Иваново', 'Чебоксары', 'Омск', 'Уфа',\n",
       "       'Томск', 'Чита', 'Мурманск', 'Петрозаводск', 'Тверь',\n",
       "       'Екатеринбург', 'Махачкала', 'Вологда', 'Череповец', 'Ярославль',\n",
       "       'Сочи', 'Хабаровск', 'Ставрополь', 'Рязань', 'Улан-Удэ', 'Тула',\n",
       "       'Саратов', 'Ростов-на-Дону', 'Казань', 'Иркутск', 'Курск',\n",
       "       'Калуга', 'Якутск', 'Астрахань', 'Химки', 'Владикавказ',\n",
       "       'Волгоград', 'Саранск', 'Ижевск', 'Новосибирск', 'Брянск',\n",
       "       'Тольятти', 'Нижний Тагил', 'Орёл', 'Белгород', 'Воронеж',\n",
       "       'Волжский', 'Курган', 'Барнаул', 'Красноярск', 'Архангельск',\n",
       "       'Липецк', 'Кемерово', 'Киров', 'Сургут', 'Пенза', 'Магнитогорск',\n",
       "       'Нижний Новгород', 'Кострома', 'Владивосток', 'Тамбов', 'Балашиха',\n",
       "       'Севастополь', 'Калининград', 'Оренбург', 'Смоленск',\n",
       "       'Нижневартовск', 'Владимир', 'Новороссийск', 'Грозный', 'Подольск'],\n",
       "      dtype=object)"
      ]
     },
     "execution_count": 28,
     "metadata": {},
     "output_type": "execute_result"
    }
   ],
   "source": [
    "# вывод уникальных значений наименования городов\n",
    "df_users['city'].unique()"
   ]
  },
  {
   "cell_type": "markdown",
   "id": "9e97c9a4",
   "metadata": {},
   "source": [
    "### Шаг 2.2. Устранение данных искажающих ход анализа."
   ]
  },
  {
   "cell_type": "markdown",
   "id": "dccd0f39",
   "metadata": {},
   "source": [
    "Данные по неполным месяцам использования услуг пользователями могут исказить ход анализа, поэтому будет целесообразно исключить  их из датасетов. У нас есть информация по дате подключения абонента к оператору связи и отключению некоторых пользователей. В эти месяцы они могли пользоваться тарифом неполный месяц. Получим данные месяца по звонкам, а также месяцев подключения и отключения от оператора. Для этого будем использовать метод dt.month. Проведем такие операции и по сообщениям и интернет-сессиям. "
   ]
  },
  {
   "cell_type": "code",
   "execution_count": 29,
   "id": "9a6f11d7",
   "metadata": {},
   "outputs": [
    {
     "data": {
      "text/html": [
       "<div>\n",
       "<style scoped>\n",
       "    .dataframe tbody tr th:only-of-type {\n",
       "        vertical-align: middle;\n",
       "    }\n",
       "\n",
       "    .dataframe tbody tr th {\n",
       "        vertical-align: top;\n",
       "    }\n",
       "\n",
       "    .dataframe thead th {\n",
       "        text-align: right;\n",
       "    }\n",
       "</style>\n",
       "<table border=\"1\" class=\"dataframe\">\n",
       "  <thead>\n",
       "    <tr style=\"text-align: right;\">\n",
       "      <th></th>\n",
       "      <th>id</th>\n",
       "      <th>call_date</th>\n",
       "      <th>duration</th>\n",
       "      <th>user_id</th>\n",
       "      <th>month</th>\n",
       "    </tr>\n",
       "  </thead>\n",
       "  <tbody>\n",
       "    <tr>\n",
       "      <th>0</th>\n",
       "      <td>1000_0</td>\n",
       "      <td>2018-07-25</td>\n",
       "      <td>0</td>\n",
       "      <td>1000</td>\n",
       "      <td>7</td>\n",
       "    </tr>\n",
       "    <tr>\n",
       "      <th>1</th>\n",
       "      <td>1000_1</td>\n",
       "      <td>2018-08-17</td>\n",
       "      <td>0</td>\n",
       "      <td>1000</td>\n",
       "      <td>8</td>\n",
       "    </tr>\n",
       "    <tr>\n",
       "      <th>2</th>\n",
       "      <td>1000_2</td>\n",
       "      <td>2018-06-11</td>\n",
       "      <td>3</td>\n",
       "      <td>1000</td>\n",
       "      <td>6</td>\n",
       "    </tr>\n",
       "    <tr>\n",
       "      <th>3</th>\n",
       "      <td>1000_3</td>\n",
       "      <td>2018-09-21</td>\n",
       "      <td>14</td>\n",
       "      <td>1000</td>\n",
       "      <td>9</td>\n",
       "    </tr>\n",
       "    <tr>\n",
       "      <th>4</th>\n",
       "      <td>1000_4</td>\n",
       "      <td>2018-12-15</td>\n",
       "      <td>6</td>\n",
       "      <td>1000</td>\n",
       "      <td>12</td>\n",
       "    </tr>\n",
       "  </tbody>\n",
       "</table>\n",
       "</div>"
      ],
      "text/plain": [
       "       id  call_date  duration  user_id  month\n",
       "0  1000_0 2018-07-25         0     1000      7\n",
       "1  1000_1 2018-08-17         0     1000      8\n",
       "2  1000_2 2018-06-11         3     1000      6\n",
       "3  1000_3 2018-09-21        14     1000      9\n",
       "4  1000_4 2018-12-15         6     1000     12"
      ]
     },
     "execution_count": 29,
     "metadata": {},
     "output_type": "execute_result"
    }
   ],
   "source": [
    "# получение номеров месяца звонков\n",
    "df_calls['month'] = df_calls['call_date'].dt.month\n",
    "df_calls.head()"
   ]
  },
  {
   "cell_type": "code",
   "execution_count": 30,
   "id": "6265763a",
   "metadata": {},
   "outputs": [
    {
     "data": {
      "text/html": [
       "<div>\n",
       "<style scoped>\n",
       "    .dataframe tbody tr th:only-of-type {\n",
       "        vertical-align: middle;\n",
       "    }\n",
       "\n",
       "    .dataframe tbody tr th {\n",
       "        vertical-align: top;\n",
       "    }\n",
       "\n",
       "    .dataframe thead th {\n",
       "        text-align: right;\n",
       "    }\n",
       "</style>\n",
       "<table border=\"1\" class=\"dataframe\">\n",
       "  <thead>\n",
       "    <tr style=\"text-align: right;\">\n",
       "      <th></th>\n",
       "      <th>user_id</th>\n",
       "      <th>age</th>\n",
       "      <th>churn_date</th>\n",
       "      <th>city</th>\n",
       "      <th>first_name</th>\n",
       "      <th>last_name</th>\n",
       "      <th>reg_date</th>\n",
       "      <th>tariff</th>\n",
       "      <th>start</th>\n",
       "      <th>end</th>\n",
       "    </tr>\n",
       "  </thead>\n",
       "  <tbody>\n",
       "    <tr>\n",
       "      <th>0</th>\n",
       "      <td>1000</td>\n",
       "      <td>52</td>\n",
       "      <td>NaT</td>\n",
       "      <td>Краснодар</td>\n",
       "      <td>Рафаил</td>\n",
       "      <td>Верещагин</td>\n",
       "      <td>2018-05-25</td>\n",
       "      <td>ultra</td>\n",
       "      <td>5</td>\n",
       "      <td>0</td>\n",
       "    </tr>\n",
       "    <tr>\n",
       "      <th>1</th>\n",
       "      <td>1001</td>\n",
       "      <td>41</td>\n",
       "      <td>NaT</td>\n",
       "      <td>Москва</td>\n",
       "      <td>Иван</td>\n",
       "      <td>Ежов</td>\n",
       "      <td>2018-11-01</td>\n",
       "      <td>smart</td>\n",
       "      <td>11</td>\n",
       "      <td>0</td>\n",
       "    </tr>\n",
       "    <tr>\n",
       "      <th>2</th>\n",
       "      <td>1002</td>\n",
       "      <td>59</td>\n",
       "      <td>NaT</td>\n",
       "      <td>Стерлитамак</td>\n",
       "      <td>Евгений</td>\n",
       "      <td>Абрамович</td>\n",
       "      <td>2018-06-17</td>\n",
       "      <td>smart</td>\n",
       "      <td>6</td>\n",
       "      <td>0</td>\n",
       "    </tr>\n",
       "    <tr>\n",
       "      <th>3</th>\n",
       "      <td>1003</td>\n",
       "      <td>23</td>\n",
       "      <td>NaT</td>\n",
       "      <td>Москва</td>\n",
       "      <td>Белла</td>\n",
       "      <td>Белякова</td>\n",
       "      <td>2018-08-17</td>\n",
       "      <td>ultra</td>\n",
       "      <td>8</td>\n",
       "      <td>0</td>\n",
       "    </tr>\n",
       "    <tr>\n",
       "      <th>4</th>\n",
       "      <td>1004</td>\n",
       "      <td>68</td>\n",
       "      <td>NaT</td>\n",
       "      <td>Новокузнецк</td>\n",
       "      <td>Татьяна</td>\n",
       "      <td>Авдеенко</td>\n",
       "      <td>2018-05-14</td>\n",
       "      <td>ultra</td>\n",
       "      <td>5</td>\n",
       "      <td>0</td>\n",
       "    </tr>\n",
       "  </tbody>\n",
       "</table>\n",
       "</div>"
      ],
      "text/plain": [
       "   user_id  age churn_date         city first_name  last_name   reg_date  \\\n",
       "0     1000   52        NaT    Краснодар     Рафаил  Верещагин 2018-05-25   \n",
       "1     1001   41        NaT       Москва       Иван       Ежов 2018-11-01   \n",
       "2     1002   59        NaT  Стерлитамак    Евгений  Абрамович 2018-06-17   \n",
       "3     1003   23        NaT       Москва      Белла   Белякова 2018-08-17   \n",
       "4     1004   68        NaT  Новокузнецк    Татьяна   Авдеенко 2018-05-14   \n",
       "\n",
       "  tariff  start  end  \n",
       "0  ultra      5    0  \n",
       "1  smart     11    0  \n",
       "2  smart      6    0  \n",
       "3  ultra      8    0  \n",
       "4  ultra      5    0  "
      ]
     },
     "execution_count": 30,
     "metadata": {},
     "output_type": "execute_result"
    }
   ],
   "source": [
    "# получение номеров месяца подключения и отключения клиентов от оператора и запись их в новые столбцы\n",
    "df_users['start'] = df_users['reg_date'].dt.month\n",
    "df_users['end'] = df_users['churn_date'].dt.month.fillna(0).astype('int')\n",
    "df_users.head()"
   ]
  },
  {
   "cell_type": "code",
   "execution_count": 31,
   "id": "376f3272",
   "metadata": {
    "scrolled": true
   },
   "outputs": [],
   "source": [
    "# декомпозиция датасета с данными о пользователях и запись в новую переменную\n",
    "df_users_st_end = df_users[['user_id', 'start', 'end']]"
   ]
  },
  {
   "cell_type": "code",
   "execution_count": 32,
   "id": "2a1a8a9e",
   "metadata": {},
   "outputs": [
    {
     "data": {
      "text/html": [
       "<div>\n",
       "<style scoped>\n",
       "    .dataframe tbody tr th:only-of-type {\n",
       "        vertical-align: middle;\n",
       "    }\n",
       "\n",
       "    .dataframe tbody tr th {\n",
       "        vertical-align: top;\n",
       "    }\n",
       "\n",
       "    .dataframe thead th {\n",
       "        text-align: right;\n",
       "    }\n",
       "</style>\n",
       "<table border=\"1\" class=\"dataframe\">\n",
       "  <thead>\n",
       "    <tr style=\"text-align: right;\">\n",
       "      <th></th>\n",
       "      <th>id</th>\n",
       "      <th>call_date</th>\n",
       "      <th>duration</th>\n",
       "      <th>user_id</th>\n",
       "      <th>month</th>\n",
       "      <th>start</th>\n",
       "      <th>end</th>\n",
       "    </tr>\n",
       "  </thead>\n",
       "  <tbody>\n",
       "    <tr>\n",
       "      <th>202607</th>\n",
       "      <td>NaN</td>\n",
       "      <td>NaT</td>\n",
       "      <td>NaN</td>\n",
       "      <td>1091</td>\n",
       "      <td>NaN</td>\n",
       "      <td>5</td>\n",
       "      <td>0</td>\n",
       "    </tr>\n",
       "    <tr>\n",
       "      <th>202608</th>\n",
       "      <td>NaN</td>\n",
       "      <td>NaT</td>\n",
       "      <td>NaN</td>\n",
       "      <td>1106</td>\n",
       "      <td>NaN</td>\n",
       "      <td>4</td>\n",
       "      <td>0</td>\n",
       "    </tr>\n",
       "    <tr>\n",
       "      <th>202609</th>\n",
       "      <td>NaN</td>\n",
       "      <td>NaT</td>\n",
       "      <td>NaN</td>\n",
       "      <td>1128</td>\n",
       "      <td>NaN</td>\n",
       "      <td>12</td>\n",
       "      <td>12</td>\n",
       "    </tr>\n",
       "    <tr>\n",
       "      <th>202610</th>\n",
       "      <td>NaN</td>\n",
       "      <td>NaT</td>\n",
       "      <td>NaN</td>\n",
       "      <td>1231</td>\n",
       "      <td>NaN</td>\n",
       "      <td>5</td>\n",
       "      <td>0</td>\n",
       "    </tr>\n",
       "    <tr>\n",
       "      <th>202611</th>\n",
       "      <td>NaN</td>\n",
       "      <td>NaT</td>\n",
       "      <td>NaN</td>\n",
       "      <td>1328</td>\n",
       "      <td>NaN</td>\n",
       "      <td>10</td>\n",
       "      <td>0</td>\n",
       "    </tr>\n",
       "    <tr>\n",
       "      <th>202612</th>\n",
       "      <td>NaN</td>\n",
       "      <td>NaT</td>\n",
       "      <td>NaN</td>\n",
       "      <td>1371</td>\n",
       "      <td>NaN</td>\n",
       "      <td>12</td>\n",
       "      <td>12</td>\n",
       "    </tr>\n",
       "    <tr>\n",
       "      <th>202613</th>\n",
       "      <td>NaN</td>\n",
       "      <td>NaT</td>\n",
       "      <td>NaN</td>\n",
       "      <td>1473</td>\n",
       "      <td>NaN</td>\n",
       "      <td>8</td>\n",
       "      <td>0</td>\n",
       "    </tr>\n",
       "    <tr>\n",
       "      <th>202614</th>\n",
       "      <td>NaN</td>\n",
       "      <td>NaT</td>\n",
       "      <td>NaN</td>\n",
       "      <td>1489</td>\n",
       "      <td>NaN</td>\n",
       "      <td>8</td>\n",
       "      <td>0</td>\n",
       "    </tr>\n",
       "  </tbody>\n",
       "</table>\n",
       "</div>"
      ],
      "text/plain": [
       "         id call_date  duration  user_id  month  start  end\n",
       "202607  NaN       NaT       NaN     1091    NaN      5    0\n",
       "202608  NaN       NaT       NaN     1106    NaN      4    0\n",
       "202609  NaN       NaT       NaN     1128    NaN     12   12\n",
       "202610  NaN       NaT       NaN     1231    NaN      5    0\n",
       "202611  NaN       NaT       NaN     1328    NaN     10    0\n",
       "202612  NaN       NaT       NaN     1371    NaN     12   12\n",
       "202613  NaN       NaT       NaN     1473    NaN      8    0\n",
       "202614  NaN       NaT       NaN     1489    NaN      8    0"
      ]
     },
     "execution_count": 32,
     "metadata": {},
     "output_type": "execute_result"
    }
   ],
   "source": [
    "# соединение таблиц мет. merge с данными звонков и клиентских данных с номером месяца подключения и отключения от оператора\n",
    "df_users_st_end_call = df_calls.merge(df_users_st_end, on='user_id', how='outer')\n",
    "# вывод на экран строк с пропусками\n",
    "df_users_st_end_call[df_users_st_end_call['month'].isna() == True]"
   ]
  },
  {
   "cell_type": "code",
   "execution_count": 33,
   "id": "a546d431",
   "metadata": {},
   "outputs": [],
   "source": [
    "# удаление строк с пропусками\n",
    "df_users_st_end_call = df_users_st_end_call.dropna().reset_index(drop=True)"
   ]
  },
  {
   "cell_type": "code",
   "execution_count": 34,
   "id": "0c716acd",
   "metadata": {},
   "outputs": [],
   "source": [
    "# приведение номера месяца звонка к целочисленному типу\n",
    "df_users_st_end_call['month'] = df_users_st_end_call['month'].astype('int')"
   ]
  },
  {
   "cell_type": "markdown",
   "id": "8c94fcf1",
   "metadata": {},
   "source": [
    "Заменим на \"0\" значения продолжительности звонков в месяц подключения и отключения клиентов от оператора."
   ]
  },
  {
   "cell_type": "code",
   "execution_count": 35,
   "id": "8ad7e2de",
   "metadata": {
    "scrolled": true
   },
   "outputs": [
    {
     "data": {
      "text/html": [
       "<div>\n",
       "<style scoped>\n",
       "    .dataframe tbody tr th:only-of-type {\n",
       "        vertical-align: middle;\n",
       "    }\n",
       "\n",
       "    .dataframe tbody tr th {\n",
       "        vertical-align: top;\n",
       "    }\n",
       "\n",
       "    .dataframe thead th {\n",
       "        text-align: right;\n",
       "    }\n",
       "</style>\n",
       "<table border=\"1\" class=\"dataframe\">\n",
       "  <thead>\n",
       "    <tr style=\"text-align: right;\">\n",
       "      <th></th>\n",
       "      <th>user_id</th>\n",
       "      <th>age</th>\n",
       "      <th>churn_date</th>\n",
       "      <th>city</th>\n",
       "      <th>first_name</th>\n",
       "      <th>last_name</th>\n",
       "      <th>reg_date</th>\n",
       "      <th>tariff</th>\n",
       "      <th>start</th>\n",
       "      <th>end</th>\n",
       "    </tr>\n",
       "  </thead>\n",
       "  <tbody>\n",
       "    <tr>\n",
       "      <th>19</th>\n",
       "      <td>1019</td>\n",
       "      <td>63</td>\n",
       "      <td>2018-10-05</td>\n",
       "      <td>Томск</td>\n",
       "      <td>Игнатий</td>\n",
       "      <td>Круглов</td>\n",
       "      <td>2018-05-16</td>\n",
       "      <td>ultra</td>\n",
       "      <td>5</td>\n",
       "      <td>10</td>\n",
       "    </tr>\n",
       "    <tr>\n",
       "      <th>20</th>\n",
       "      <td>1020</td>\n",
       "      <td>59</td>\n",
       "      <td>2018-12-18</td>\n",
       "      <td>Чита</td>\n",
       "      <td>Тала</td>\n",
       "      <td>Костина</td>\n",
       "      <td>2018-10-22</td>\n",
       "      <td>smart</td>\n",
       "      <td>10</td>\n",
       "      <td>12</td>\n",
       "    </tr>\n",
       "    <tr>\n",
       "      <th>34</th>\n",
       "      <td>1034</td>\n",
       "      <td>66</td>\n",
       "      <td>2018-11-21</td>\n",
       "      <td>Вологда</td>\n",
       "      <td>Святослав</td>\n",
       "      <td>Бондарев</td>\n",
       "      <td>2018-08-26</td>\n",
       "      <td>smart</td>\n",
       "      <td>8</td>\n",
       "      <td>11</td>\n",
       "    </tr>\n",
       "    <tr>\n",
       "      <th>50</th>\n",
       "      <td>1050</td>\n",
       "      <td>44</td>\n",
       "      <td>2018-10-03</td>\n",
       "      <td>Тюмень</td>\n",
       "      <td>Рузана</td>\n",
       "      <td>Аничкина</td>\n",
       "      <td>2018-06-16</td>\n",
       "      <td>ultra</td>\n",
       "      <td>6</td>\n",
       "      <td>10</td>\n",
       "    </tr>\n",
       "    <tr>\n",
       "      <th>51</th>\n",
       "      <td>1051</td>\n",
       "      <td>37</td>\n",
       "      <td>2018-10-14</td>\n",
       "      <td>Москва</td>\n",
       "      <td>Кристина</td>\n",
       "      <td>Сомова</td>\n",
       "      <td>2018-05-28</td>\n",
       "      <td>smart</td>\n",
       "      <td>5</td>\n",
       "      <td>10</td>\n",
       "    </tr>\n",
       "    <tr>\n",
       "      <th>56</th>\n",
       "      <td>1056</td>\n",
       "      <td>73</td>\n",
       "      <td>2018-10-14</td>\n",
       "      <td>Иркутск</td>\n",
       "      <td>Радислав</td>\n",
       "      <td>Артемьев</td>\n",
       "      <td>2018-04-13</td>\n",
       "      <td>smart</td>\n",
       "      <td>4</td>\n",
       "      <td>10</td>\n",
       "    </tr>\n",
       "    <tr>\n",
       "      <th>62</th>\n",
       "      <td>1062</td>\n",
       "      <td>24</td>\n",
       "      <td>2018-12-09</td>\n",
       "      <td>Москва</td>\n",
       "      <td>Александр</td>\n",
       "      <td>Коршунов</td>\n",
       "      <td>2018-11-16</td>\n",
       "      <td>smart</td>\n",
       "      <td>11</td>\n",
       "      <td>12</td>\n",
       "    </tr>\n",
       "    <tr>\n",
       "      <th>63</th>\n",
       "      <td>1063</td>\n",
       "      <td>45</td>\n",
       "      <td>2018-12-11</td>\n",
       "      <td>Тула</td>\n",
       "      <td>Таира</td>\n",
       "      <td>Климова</td>\n",
       "      <td>2018-04-12</td>\n",
       "      <td>ultra</td>\n",
       "      <td>4</td>\n",
       "      <td>12</td>\n",
       "    </tr>\n",
       "    <tr>\n",
       "      <th>64</th>\n",
       "      <td>1064</td>\n",
       "      <td>55</td>\n",
       "      <td>2018-12-26</td>\n",
       "      <td>Якутск</td>\n",
       "      <td>Динара</td>\n",
       "      <td>Алфеева</td>\n",
       "      <td>2018-03-17</td>\n",
       "      <td>smart</td>\n",
       "      <td>3</td>\n",
       "      <td>12</td>\n",
       "    </tr>\n",
       "    <tr>\n",
       "      <th>65</th>\n",
       "      <td>1065</td>\n",
       "      <td>53</td>\n",
       "      <td>2018-12-09</td>\n",
       "      <td>Москва</td>\n",
       "      <td>Роза</td>\n",
       "      <td>Игнатова</td>\n",
       "      <td>2018-03-08</td>\n",
       "      <td>smart</td>\n",
       "      <td>3</td>\n",
       "      <td>12</td>\n",
       "    </tr>\n",
       "  </tbody>\n",
       "</table>\n",
       "</div>"
      ],
      "text/plain": [
       "    user_id  age churn_date     city first_name last_name   reg_date tariff  \\\n",
       "19     1019   63 2018-10-05    Томск    Игнатий   Круглов 2018-05-16  ultra   \n",
       "20     1020   59 2018-12-18     Чита       Тала   Костина 2018-10-22  smart   \n",
       "34     1034   66 2018-11-21  Вологда  Святослав  Бондарев 2018-08-26  smart   \n",
       "50     1050   44 2018-10-03   Тюмень     Рузана  Аничкина 2018-06-16  ultra   \n",
       "51     1051   37 2018-10-14   Москва   Кристина    Сомова 2018-05-28  smart   \n",
       "56     1056   73 2018-10-14  Иркутск   Радислав  Артемьев 2018-04-13  smart   \n",
       "62     1062   24 2018-12-09   Москва  Александр  Коршунов 2018-11-16  smart   \n",
       "63     1063   45 2018-12-11     Тула      Таира   Климова 2018-04-12  ultra   \n",
       "64     1064   55 2018-12-26   Якутск     Динара   Алфеева 2018-03-17  smart   \n",
       "65     1065   53 2018-12-09   Москва       Роза  Игнатова 2018-03-08  smart   \n",
       "\n",
       "    start  end  \n",
       "19      5   10  \n",
       "20     10   12  \n",
       "34      8   11  \n",
       "50      6   10  \n",
       "51      5   10  \n",
       "56      4   10  \n",
       "62     11   12  \n",
       "63      4   12  \n",
       "64      3   12  \n",
       "65      3   12  "
      ]
     },
     "execution_count": 35,
     "metadata": {},
     "output_type": "execute_result"
    }
   ],
   "source": [
    "# вывод на экран строк с непропущенной датой отключения для проверки дальнейших результатов\n",
    "df_users.loc[df_users['churn_date'].isna() == False].head(10)"
   ]
  },
  {
   "cell_type": "code",
   "execution_count": 36,
   "id": "4b9d206d",
   "metadata": {},
   "outputs": [],
   "source": [
    "# создание функции для замены значений услуг на 0 в месяц подключения и отключения от оператора\n",
    "def fill_st_end_zero(data, fill_column):\n",
    "    data.loc[(data['month'] == data['start']) |\n",
    "                        (data['month'] == data['end']), fill_column] = 0\n",
    "    return data"
   ]
  },
  {
   "cell_type": "code",
   "execution_count": 37,
   "id": "1d6cd08b",
   "metadata": {},
   "outputs": [
    {
     "data": {
      "text/html": [
       "<div>\n",
       "<style scoped>\n",
       "    .dataframe tbody tr th:only-of-type {\n",
       "        vertical-align: middle;\n",
       "    }\n",
       "\n",
       "    .dataframe tbody tr th {\n",
       "        vertical-align: top;\n",
       "    }\n",
       "\n",
       "    .dataframe thead th {\n",
       "        text-align: right;\n",
       "    }\n",
       "</style>\n",
       "<table border=\"1\" class=\"dataframe\">\n",
       "  <thead>\n",
       "    <tr style=\"text-align: right;\">\n",
       "      <th></th>\n",
       "      <th>id</th>\n",
       "      <th>call_date</th>\n",
       "      <th>duration</th>\n",
       "      <th>user_id</th>\n",
       "      <th>month</th>\n",
       "      <th>start</th>\n",
       "      <th>end</th>\n",
       "    </tr>\n",
       "  </thead>\n",
       "  <tbody>\n",
       "    <tr>\n",
       "      <th>24471</th>\n",
       "      <td>1063_0</td>\n",
       "      <td>2018-04-28</td>\n",
       "      <td>0.0</td>\n",
       "      <td>1063</td>\n",
       "      <td>4</td>\n",
       "      <td>4</td>\n",
       "      <td>12</td>\n",
       "    </tr>\n",
       "    <tr>\n",
       "      <th>24481</th>\n",
       "      <td>1063_10</td>\n",
       "      <td>2018-04-14</td>\n",
       "      <td>0.0</td>\n",
       "      <td>1063</td>\n",
       "      <td>4</td>\n",
       "      <td>4</td>\n",
       "      <td>12</td>\n",
       "    </tr>\n",
       "    <tr>\n",
       "      <th>24507</th>\n",
       "      <td>1063_36</td>\n",
       "      <td>2018-04-26</td>\n",
       "      <td>0.0</td>\n",
       "      <td>1063</td>\n",
       "      <td>4</td>\n",
       "      <td>4</td>\n",
       "      <td>12</td>\n",
       "    </tr>\n",
       "    <tr>\n",
       "      <th>24508</th>\n",
       "      <td>1063_37</td>\n",
       "      <td>2018-04-25</td>\n",
       "      <td>0.0</td>\n",
       "      <td>1063</td>\n",
       "      <td>4</td>\n",
       "      <td>4</td>\n",
       "      <td>12</td>\n",
       "    </tr>\n",
       "    <tr>\n",
       "      <th>24530</th>\n",
       "      <td>1063_59</td>\n",
       "      <td>2018-04-24</td>\n",
       "      <td>0.0</td>\n",
       "      <td>1063</td>\n",
       "      <td>4</td>\n",
       "      <td>4</td>\n",
       "      <td>12</td>\n",
       "    </tr>\n",
       "    <tr>\n",
       "      <th>...</th>\n",
       "      <td>...</td>\n",
       "      <td>...</td>\n",
       "      <td>...</td>\n",
       "      <td>...</td>\n",
       "      <td>...</td>\n",
       "      <td>...</td>\n",
       "      <td>...</td>\n",
       "    </tr>\n",
       "    <tr>\n",
       "      <th>25352</th>\n",
       "      <td>1063_881</td>\n",
       "      <td>2018-04-30</td>\n",
       "      <td>0.0</td>\n",
       "      <td>1063</td>\n",
       "      <td>4</td>\n",
       "      <td>4</td>\n",
       "      <td>12</td>\n",
       "    </tr>\n",
       "    <tr>\n",
       "      <th>25367</th>\n",
       "      <td>1063_896</td>\n",
       "      <td>2018-04-29</td>\n",
       "      <td>0.0</td>\n",
       "      <td>1063</td>\n",
       "      <td>4</td>\n",
       "      <td>4</td>\n",
       "      <td>12</td>\n",
       "    </tr>\n",
       "    <tr>\n",
       "      <th>25368</th>\n",
       "      <td>1063_897</td>\n",
       "      <td>2018-04-17</td>\n",
       "      <td>0.0</td>\n",
       "      <td>1063</td>\n",
       "      <td>4</td>\n",
       "      <td>4</td>\n",
       "      <td>12</td>\n",
       "    </tr>\n",
       "    <tr>\n",
       "      <th>25384</th>\n",
       "      <td>1063_913</td>\n",
       "      <td>2018-04-16</td>\n",
       "      <td>0.0</td>\n",
       "      <td>1063</td>\n",
       "      <td>4</td>\n",
       "      <td>4</td>\n",
       "      <td>12</td>\n",
       "    </tr>\n",
       "    <tr>\n",
       "      <th>25386</th>\n",
       "      <td>1063_915</td>\n",
       "      <td>2018-04-28</td>\n",
       "      <td>0.0</td>\n",
       "      <td>1063</td>\n",
       "      <td>4</td>\n",
       "      <td>4</td>\n",
       "      <td>12</td>\n",
       "    </tr>\n",
       "  </tbody>\n",
       "</table>\n",
       "<p>78 rows × 7 columns</p>\n",
       "</div>"
      ],
      "text/plain": [
       "             id  call_date  duration  user_id  month  start  end\n",
       "24471    1063_0 2018-04-28       0.0     1063      4      4   12\n",
       "24481   1063_10 2018-04-14       0.0     1063      4      4   12\n",
       "24507   1063_36 2018-04-26       0.0     1063      4      4   12\n",
       "24508   1063_37 2018-04-25       0.0     1063      4      4   12\n",
       "24530   1063_59 2018-04-24       0.0     1063      4      4   12\n",
       "...         ...        ...       ...      ...    ...    ...  ...\n",
       "25352  1063_881 2018-04-30       0.0     1063      4      4   12\n",
       "25367  1063_896 2018-04-29       0.0     1063      4      4   12\n",
       "25368  1063_897 2018-04-17       0.0     1063      4      4   12\n",
       "25384  1063_913 2018-04-16       0.0     1063      4      4   12\n",
       "25386  1063_915 2018-04-28       0.0     1063      4      4   12\n",
       "\n",
       "[78 rows x 7 columns]"
      ]
     },
     "execution_count": 37,
     "metadata": {},
     "output_type": "execute_result"
    }
   ],
   "source": [
    "# замена значений продолжительности звонков на 0 в месяц подключения и отключения от оператора и проверка результата\n",
    "df_users_st_end_call = fill_st_end_zero(df_users_st_end_call, 'duration')\n",
    "df_users_st_end_call.loc[(df_users_st_end_call['user_id'] == 1063) & (df_users_st_end_call['month'] == 4)]"
   ]
  },
  {
   "cell_type": "code",
   "execution_count": 38,
   "id": "b145ae52",
   "metadata": {},
   "outputs": [],
   "source": [
    "# получение месяца смс-сообщения клиента методом dt.month и запись результата в новый столбец\n",
    "df_messages['month'] = df_messages['message_date'].dt.month"
   ]
  },
  {
   "cell_type": "markdown",
   "id": "f15c11c9",
   "metadata": {},
   "source": [
    "Чтобы было удобнее вести подсчет отправленных пользователем сообщений, а также записать нулевые данные в месяцы подключения и отключения пользователей, создадим столбец, куда будем записывать единицу, которая подтверждает отправленное сообщение, а ноль - сообщений нет."
   ]
  },
  {
   "cell_type": "code",
   "execution_count": 39,
   "id": "2fb4d1a3",
   "metadata": {},
   "outputs": [],
   "source": [
    "# создание столбца-счетчика с сообщениями\n",
    "df_messages['1_message'] = 1"
   ]
  },
  {
   "cell_type": "code",
   "execution_count": 40,
   "id": "e532fe51",
   "metadata": {},
   "outputs": [
    {
     "data": {
      "text/html": [
       "<div>\n",
       "<style scoped>\n",
       "    .dataframe tbody tr th:only-of-type {\n",
       "        vertical-align: middle;\n",
       "    }\n",
       "\n",
       "    .dataframe tbody tr th {\n",
       "        vertical-align: top;\n",
       "    }\n",
       "\n",
       "    .dataframe thead th {\n",
       "        text-align: right;\n",
       "    }\n",
       "</style>\n",
       "<table border=\"1\" class=\"dataframe\">\n",
       "  <thead>\n",
       "    <tr style=\"text-align: right;\">\n",
       "      <th></th>\n",
       "      <th>id</th>\n",
       "      <th>message_date</th>\n",
       "      <th>user_id</th>\n",
       "      <th>month</th>\n",
       "      <th>1_message</th>\n",
       "      <th>start</th>\n",
       "      <th>end</th>\n",
       "    </tr>\n",
       "  </thead>\n",
       "  <tbody>\n",
       "    <tr>\n",
       "      <th>123036</th>\n",
       "      <td>NaN</td>\n",
       "      <td>NaT</td>\n",
       "      <td>1001</td>\n",
       "      <td>NaN</td>\n",
       "      <td>NaN</td>\n",
       "      <td>11</td>\n",
       "      <td>0</td>\n",
       "    </tr>\n",
       "    <tr>\n",
       "      <th>123037</th>\n",
       "      <td>NaN</td>\n",
       "      <td>NaT</td>\n",
       "      <td>1006</td>\n",
       "      <td>NaN</td>\n",
       "      <td>NaN</td>\n",
       "      <td>2</td>\n",
       "      <td>0</td>\n",
       "    </tr>\n",
       "    <tr>\n",
       "      <th>123038</th>\n",
       "      <td>NaN</td>\n",
       "      <td>NaT</td>\n",
       "      <td>1010</td>\n",
       "      <td>NaN</td>\n",
       "      <td>NaN</td>\n",
       "      <td>8</td>\n",
       "      <td>0</td>\n",
       "    </tr>\n",
       "    <tr>\n",
       "      <th>123039</th>\n",
       "      <td>NaN</td>\n",
       "      <td>NaT</td>\n",
       "      <td>1017</td>\n",
       "      <td>NaN</td>\n",
       "      <td>NaN</td>\n",
       "      <td>5</td>\n",
       "      <td>0</td>\n",
       "    </tr>\n",
       "    <tr>\n",
       "      <th>123040</th>\n",
       "      <td>NaN</td>\n",
       "      <td>NaT</td>\n",
       "      <td>1024</td>\n",
       "      <td>NaN</td>\n",
       "      <td>NaN</td>\n",
       "      <td>10</td>\n",
       "      <td>0</td>\n",
       "    </tr>\n",
       "    <tr>\n",
       "      <th>...</th>\n",
       "      <td>...</td>\n",
       "      <td>...</td>\n",
       "      <td>...</td>\n",
       "      <td>...</td>\n",
       "      <td>...</td>\n",
       "      <td>...</td>\n",
       "      <td>...</td>\n",
       "    </tr>\n",
       "    <tr>\n",
       "      <th>123105</th>\n",
       "      <td>NaN</td>\n",
       "      <td>NaT</td>\n",
       "      <td>1462</td>\n",
       "      <td>NaN</td>\n",
       "      <td>NaN</td>\n",
       "      <td>10</td>\n",
       "      <td>0</td>\n",
       "    </tr>\n",
       "    <tr>\n",
       "      <th>123106</th>\n",
       "      <td>NaN</td>\n",
       "      <td>NaT</td>\n",
       "      <td>1466</td>\n",
       "      <td>NaN</td>\n",
       "      <td>NaN</td>\n",
       "      <td>2</td>\n",
       "      <td>0</td>\n",
       "    </tr>\n",
       "    <tr>\n",
       "      <th>123107</th>\n",
       "      <td>NaN</td>\n",
       "      <td>NaT</td>\n",
       "      <td>1469</td>\n",
       "      <td>NaN</td>\n",
       "      <td>NaN</td>\n",
       "      <td>7</td>\n",
       "      <td>0</td>\n",
       "    </tr>\n",
       "    <tr>\n",
       "      <th>123108</th>\n",
       "      <td>NaN</td>\n",
       "      <td>NaT</td>\n",
       "      <td>1479</td>\n",
       "      <td>NaN</td>\n",
       "      <td>NaN</td>\n",
       "      <td>7</td>\n",
       "      <td>0</td>\n",
       "    </tr>\n",
       "    <tr>\n",
       "      <th>123109</th>\n",
       "      <td>NaN</td>\n",
       "      <td>NaT</td>\n",
       "      <td>1494</td>\n",
       "      <td>NaN</td>\n",
       "      <td>NaN</td>\n",
       "      <td>8</td>\n",
       "      <td>0</td>\n",
       "    </tr>\n",
       "  </tbody>\n",
       "</table>\n",
       "<p>74 rows × 7 columns</p>\n",
       "</div>"
      ],
      "text/plain": [
       "         id message_date  user_id  month  1_message  start  end\n",
       "123036  NaN          NaT     1001    NaN        NaN     11    0\n",
       "123037  NaN          NaT     1006    NaN        NaN      2    0\n",
       "123038  NaN          NaT     1010    NaN        NaN      8    0\n",
       "123039  NaN          NaT     1017    NaN        NaN      5    0\n",
       "123040  NaN          NaT     1024    NaN        NaN     10    0\n",
       "...     ...          ...      ...    ...        ...    ...  ...\n",
       "123105  NaN          NaT     1462    NaN        NaN     10    0\n",
       "123106  NaN          NaT     1466    NaN        NaN      2    0\n",
       "123107  NaN          NaT     1469    NaN        NaN      7    0\n",
       "123108  NaN          NaT     1479    NaN        NaN      7    0\n",
       "123109  NaN          NaT     1494    NaN        NaN      8    0\n",
       "\n",
       "[74 rows x 7 columns]"
      ]
     },
     "execution_count": 40,
     "metadata": {},
     "output_type": "execute_result"
    }
   ],
   "source": [
    "# соединение мет. merge таблиц с данными о сообщениях и данными пользователей с месяцами подключения и отключения \n",
    "df_users_st_end_mes = df_messages.merge(df_users_st_end, on='user_id', how='outer')\n",
    "df_users_st_end_mes.loc[df_users_st_end_mes['month'].isna() == True]"
   ]
  },
  {
   "cell_type": "code",
   "execution_count": 41,
   "id": "6103478b",
   "metadata": {},
   "outputs": [
    {
     "data": {
      "text/html": [
       "<div>\n",
       "<style scoped>\n",
       "    .dataframe tbody tr th:only-of-type {\n",
       "        vertical-align: middle;\n",
       "    }\n",
       "\n",
       "    .dataframe tbody tr th {\n",
       "        vertical-align: top;\n",
       "    }\n",
       "\n",
       "    .dataframe thead th {\n",
       "        text-align: right;\n",
       "    }\n",
       "</style>\n",
       "<table border=\"1\" class=\"dataframe\">\n",
       "  <thead>\n",
       "    <tr style=\"text-align: right;\">\n",
       "      <th></th>\n",
       "      <th>id</th>\n",
       "      <th>message_date</th>\n",
       "      <th>user_id</th>\n",
       "      <th>month</th>\n",
       "      <th>1_message</th>\n",
       "      <th>start</th>\n",
       "      <th>end</th>\n",
       "    </tr>\n",
       "  </thead>\n",
       "  <tbody>\n",
       "    <tr>\n",
       "      <th>0</th>\n",
       "      <td>1000_0</td>\n",
       "      <td>2018-06-27</td>\n",
       "      <td>1000</td>\n",
       "      <td>6.0</td>\n",
       "      <td>1.0</td>\n",
       "      <td>5</td>\n",
       "      <td>0</td>\n",
       "    </tr>\n",
       "    <tr>\n",
       "      <th>1</th>\n",
       "      <td>1000_1</td>\n",
       "      <td>2018-10-08</td>\n",
       "      <td>1000</td>\n",
       "      <td>10.0</td>\n",
       "      <td>1.0</td>\n",
       "      <td>5</td>\n",
       "      <td>0</td>\n",
       "    </tr>\n",
       "    <tr>\n",
       "      <th>2</th>\n",
       "      <td>1000_2</td>\n",
       "      <td>2018-08-04</td>\n",
       "      <td>1000</td>\n",
       "      <td>8.0</td>\n",
       "      <td>1.0</td>\n",
       "      <td>5</td>\n",
       "      <td>0</td>\n",
       "    </tr>\n",
       "    <tr>\n",
       "      <th>3</th>\n",
       "      <td>1000_3</td>\n",
       "      <td>2018-06-16</td>\n",
       "      <td>1000</td>\n",
       "      <td>6.0</td>\n",
       "      <td>1.0</td>\n",
       "      <td>5</td>\n",
       "      <td>0</td>\n",
       "    </tr>\n",
       "    <tr>\n",
       "      <th>4</th>\n",
       "      <td>1000_4</td>\n",
       "      <td>2018-12-05</td>\n",
       "      <td>1000</td>\n",
       "      <td>12.0</td>\n",
       "      <td>1.0</td>\n",
       "      <td>5</td>\n",
       "      <td>0</td>\n",
       "    </tr>\n",
       "    <tr>\n",
       "      <th>...</th>\n",
       "      <td>...</td>\n",
       "      <td>...</td>\n",
       "      <td>...</td>\n",
       "      <td>...</td>\n",
       "      <td>...</td>\n",
       "      <td>...</td>\n",
       "      <td>...</td>\n",
       "    </tr>\n",
       "    <tr>\n",
       "      <th>123105</th>\n",
       "      <td>NaN</td>\n",
       "      <td>NaT</td>\n",
       "      <td>1462</td>\n",
       "      <td>NaN</td>\n",
       "      <td>NaN</td>\n",
       "      <td>10</td>\n",
       "      <td>0</td>\n",
       "    </tr>\n",
       "    <tr>\n",
       "      <th>123106</th>\n",
       "      <td>NaN</td>\n",
       "      <td>NaT</td>\n",
       "      <td>1466</td>\n",
       "      <td>NaN</td>\n",
       "      <td>NaN</td>\n",
       "      <td>2</td>\n",
       "      <td>0</td>\n",
       "    </tr>\n",
       "    <tr>\n",
       "      <th>123107</th>\n",
       "      <td>NaN</td>\n",
       "      <td>NaT</td>\n",
       "      <td>1469</td>\n",
       "      <td>NaN</td>\n",
       "      <td>NaN</td>\n",
       "      <td>7</td>\n",
       "      <td>0</td>\n",
       "    </tr>\n",
       "    <tr>\n",
       "      <th>123108</th>\n",
       "      <td>NaN</td>\n",
       "      <td>NaT</td>\n",
       "      <td>1479</td>\n",
       "      <td>NaN</td>\n",
       "      <td>NaN</td>\n",
       "      <td>7</td>\n",
       "      <td>0</td>\n",
       "    </tr>\n",
       "    <tr>\n",
       "      <th>123109</th>\n",
       "      <td>NaN</td>\n",
       "      <td>NaT</td>\n",
       "      <td>1494</td>\n",
       "      <td>NaN</td>\n",
       "      <td>NaN</td>\n",
       "      <td>8</td>\n",
       "      <td>0</td>\n",
       "    </tr>\n",
       "  </tbody>\n",
       "</table>\n",
       "<p>123110 rows × 7 columns</p>\n",
       "</div>"
      ],
      "text/plain": [
       "            id message_date  user_id  month  1_message  start  end\n",
       "0       1000_0   2018-06-27     1000    6.0        1.0      5    0\n",
       "1       1000_1   2018-10-08     1000   10.0        1.0      5    0\n",
       "2       1000_2   2018-08-04     1000    8.0        1.0      5    0\n",
       "3       1000_3   2018-06-16     1000    6.0        1.0      5    0\n",
       "4       1000_4   2018-12-05     1000   12.0        1.0      5    0\n",
       "...        ...          ...      ...    ...        ...    ...  ...\n",
       "123105     NaN          NaT     1462    NaN        NaN     10    0\n",
       "123106     NaN          NaT     1466    NaN        NaN      2    0\n",
       "123107     NaN          NaT     1469    NaN        NaN      7    0\n",
       "123108     NaN          NaT     1479    NaN        NaN      7    0\n",
       "123109     NaN          NaT     1494    NaN        NaN      8    0\n",
       "\n",
       "[123110 rows x 7 columns]"
      ]
     },
     "execution_count": 41,
     "metadata": {},
     "output_type": "execute_result"
    }
   ],
   "source": [
    "df_users_st_end_mes"
   ]
  },
  {
   "cell_type": "code",
   "execution_count": 42,
   "id": "c6c3cbad",
   "metadata": {},
   "outputs": [],
   "source": [
    "# удаление пропусков методом dropna\n",
    "df_users_st_end_mes = df_users_st_end_mes.dropna().reset_index(drop=True)"
   ]
  },
  {
   "cell_type": "code",
   "execution_count": 43,
   "id": "3451e27a",
   "metadata": {
    "scrolled": true
   },
   "outputs": [],
   "source": [
    "# приведение к целочисленному типу данных\n",
    "df_users_st_end_mes['month'] = df_users_st_end_mes['month'].astype('int')\n",
    "df_users_st_end_mes['1_message'] = df_users_st_end_mes['1_message'].astype('int')"
   ]
  },
  {
   "cell_type": "code",
   "execution_count": 44,
   "id": "1b067f76",
   "metadata": {},
   "outputs": [
    {
     "data": {
      "text/html": [
       "<div>\n",
       "<style scoped>\n",
       "    .dataframe tbody tr th:only-of-type {\n",
       "        vertical-align: middle;\n",
       "    }\n",
       "\n",
       "    .dataframe tbody tr th {\n",
       "        vertical-align: top;\n",
       "    }\n",
       "\n",
       "    .dataframe thead th {\n",
       "        text-align: right;\n",
       "    }\n",
       "</style>\n",
       "<table border=\"1\" class=\"dataframe\">\n",
       "  <thead>\n",
       "    <tr style=\"text-align: right;\">\n",
       "      <th></th>\n",
       "      <th>id</th>\n",
       "      <th>message_date</th>\n",
       "      <th>user_id</th>\n",
       "      <th>month</th>\n",
       "      <th>1_message</th>\n",
       "      <th>start</th>\n",
       "      <th>end</th>\n",
       "    </tr>\n",
       "  </thead>\n",
       "  <tbody>\n",
       "    <tr>\n",
       "      <th>4706</th>\n",
       "      <td>1019_10</td>\n",
       "      <td>2018-10-01</td>\n",
       "      <td>1019</td>\n",
       "      <td>10</td>\n",
       "      <td>0</td>\n",
       "      <td>5</td>\n",
       "      <td>10</td>\n",
       "    </tr>\n",
       "    <tr>\n",
       "      <th>4707</th>\n",
       "      <td>1019_11</td>\n",
       "      <td>2018-10-04</td>\n",
       "      <td>1019</td>\n",
       "      <td>10</td>\n",
       "      <td>0</td>\n",
       "      <td>5</td>\n",
       "      <td>10</td>\n",
       "    </tr>\n",
       "    <tr>\n",
       "      <th>4742</th>\n",
       "      <td>1019_46</td>\n",
       "      <td>2018-10-03</td>\n",
       "      <td>1019</td>\n",
       "      <td>10</td>\n",
       "      <td>0</td>\n",
       "      <td>5</td>\n",
       "      <td>10</td>\n",
       "    </tr>\n",
       "    <tr>\n",
       "      <th>4765</th>\n",
       "      <td>1019_69</td>\n",
       "      <td>2018-10-02</td>\n",
       "      <td>1019</td>\n",
       "      <td>10</td>\n",
       "      <td>0</td>\n",
       "      <td>5</td>\n",
       "      <td>10</td>\n",
       "    </tr>\n",
       "    <tr>\n",
       "      <th>4784</th>\n",
       "      <td>1019_88</td>\n",
       "      <td>2018-10-03</td>\n",
       "      <td>1019</td>\n",
       "      <td>10</td>\n",
       "      <td>0</td>\n",
       "      <td>5</td>\n",
       "      <td>10</td>\n",
       "    </tr>\n",
       "    <tr>\n",
       "      <th>4786</th>\n",
       "      <td>1019_90</td>\n",
       "      <td>2018-10-01</td>\n",
       "      <td>1019</td>\n",
       "      <td>10</td>\n",
       "      <td>0</td>\n",
       "      <td>5</td>\n",
       "      <td>10</td>\n",
       "    </tr>\n",
       "    <tr>\n",
       "      <th>4798</th>\n",
       "      <td>1019_102</td>\n",
       "      <td>2018-10-03</td>\n",
       "      <td>1019</td>\n",
       "      <td>10</td>\n",
       "      <td>0</td>\n",
       "      <td>5</td>\n",
       "      <td>10</td>\n",
       "    </tr>\n",
       "    <tr>\n",
       "      <th>4801</th>\n",
       "      <td>1019_105</td>\n",
       "      <td>2018-10-03</td>\n",
       "      <td>1019</td>\n",
       "      <td>10</td>\n",
       "      <td>0</td>\n",
       "      <td>5</td>\n",
       "      <td>10</td>\n",
       "    </tr>\n",
       "  </tbody>\n",
       "</table>\n",
       "</div>"
      ],
      "text/plain": [
       "            id message_date  user_id  month  1_message  start  end\n",
       "4706   1019_10   2018-10-01     1019     10          0      5   10\n",
       "4707   1019_11   2018-10-04     1019     10          0      5   10\n",
       "4742   1019_46   2018-10-03     1019     10          0      5   10\n",
       "4765   1019_69   2018-10-02     1019     10          0      5   10\n",
       "4784   1019_88   2018-10-03     1019     10          0      5   10\n",
       "4786   1019_90   2018-10-01     1019     10          0      5   10\n",
       "4798  1019_102   2018-10-03     1019     10          0      5   10\n",
       "4801  1019_105   2018-10-03     1019     10          0      5   10"
      ]
     },
     "execution_count": 44,
     "metadata": {},
     "output_type": "execute_result"
    }
   ],
   "source": [
    "# замена на 0 данных об отправлении сообщений в месяцы подключения и отключения клиентов и проверка результата\n",
    "df_users_st_end_mes = fill_st_end_zero(df_users_st_end_mes, '1_message')\n",
    "df_users_st_end_mes.loc[(df_users_st_end_mes['user_id'] == 1019) & (df_users_st_end_mes['month'] == 10)]"
   ]
  },
  {
   "cell_type": "code",
   "execution_count": 45,
   "id": "506d6fe5",
   "metadata": {
    "scrolled": true
   },
   "outputs": [
    {
     "data": {
      "text/html": [
       "<div>\n",
       "<style scoped>\n",
       "    .dataframe tbody tr th:only-of-type {\n",
       "        vertical-align: middle;\n",
       "    }\n",
       "\n",
       "    .dataframe tbody tr th {\n",
       "        vertical-align: top;\n",
       "    }\n",
       "\n",
       "    .dataframe thead th {\n",
       "        text-align: right;\n",
       "    }\n",
       "</style>\n",
       "<table border=\"1\" class=\"dataframe\">\n",
       "  <thead>\n",
       "    <tr style=\"text-align: right;\">\n",
       "      <th></th>\n",
       "      <th>id</th>\n",
       "      <th>message_date</th>\n",
       "      <th>user_id</th>\n",
       "      <th>month</th>\n",
       "      <th>1_message</th>\n",
       "      <th>start</th>\n",
       "      <th>end</th>\n",
       "    </tr>\n",
       "  </thead>\n",
       "  <tbody>\n",
       "    <tr>\n",
       "      <th>123031</th>\n",
       "      <td>1499_179</td>\n",
       "      <td>2018-12-12</td>\n",
       "      <td>1499</td>\n",
       "      <td>12</td>\n",
       "      <td>1</td>\n",
       "      <td>9</td>\n",
       "      <td>0</td>\n",
       "    </tr>\n",
       "    <tr>\n",
       "      <th>123032</th>\n",
       "      <td>1499_180</td>\n",
       "      <td>2018-09-28</td>\n",
       "      <td>1499</td>\n",
       "      <td>9</td>\n",
       "      <td>0</td>\n",
       "      <td>9</td>\n",
       "      <td>0</td>\n",
       "    </tr>\n",
       "    <tr>\n",
       "      <th>123033</th>\n",
       "      <td>1499_181</td>\n",
       "      <td>2018-09-27</td>\n",
       "      <td>1499</td>\n",
       "      <td>9</td>\n",
       "      <td>0</td>\n",
       "      <td>9</td>\n",
       "      <td>0</td>\n",
       "    </tr>\n",
       "    <tr>\n",
       "      <th>123034</th>\n",
       "      <td>1499_182</td>\n",
       "      <td>2018-11-15</td>\n",
       "      <td>1499</td>\n",
       "      <td>11</td>\n",
       "      <td>1</td>\n",
       "      <td>9</td>\n",
       "      <td>0</td>\n",
       "    </tr>\n",
       "    <tr>\n",
       "      <th>123035</th>\n",
       "      <td>1499_183</td>\n",
       "      <td>2018-11-16</td>\n",
       "      <td>1499</td>\n",
       "      <td>11</td>\n",
       "      <td>1</td>\n",
       "      <td>9</td>\n",
       "      <td>0</td>\n",
       "    </tr>\n",
       "  </tbody>\n",
       "</table>\n",
       "</div>"
      ],
      "text/plain": [
       "              id message_date  user_id  month  1_message  start  end\n",
       "123031  1499_179   2018-12-12     1499     12          1      9    0\n",
       "123032  1499_180   2018-09-28     1499      9          0      9    0\n",
       "123033  1499_181   2018-09-27     1499      9          0      9    0\n",
       "123034  1499_182   2018-11-15     1499     11          1      9    0\n",
       "123035  1499_183   2018-11-16     1499     11          1      9    0"
      ]
     },
     "execution_count": 45,
     "metadata": {},
     "output_type": "execute_result"
    }
   ],
   "source": [
    "# сброс номеров индексов методом reset_index\n",
    "df_users_st_end_mes.reset_index(drop=True).tail() "
   ]
  },
  {
   "cell_type": "code",
   "execution_count": 46,
   "id": "1cad2650",
   "metadata": {},
   "outputs": [],
   "source": [
    "# получение номера месяца интернет-сессии и запись результата в новый столбец\n",
    "df_internet['month'] = df_internet['session_date'].dt.month"
   ]
  },
  {
   "cell_type": "code",
   "execution_count": 47,
   "id": "423cf397",
   "metadata": {
    "scrolled": true
   },
   "outputs": [
    {
     "data": {
      "text/html": [
       "<div>\n",
       "<style scoped>\n",
       "    .dataframe tbody tr th:only-of-type {\n",
       "        vertical-align: middle;\n",
       "    }\n",
       "\n",
       "    .dataframe tbody tr th {\n",
       "        vertical-align: top;\n",
       "    }\n",
       "\n",
       "    .dataframe thead th {\n",
       "        text-align: right;\n",
       "    }\n",
       "</style>\n",
       "<table border=\"1\" class=\"dataframe\">\n",
       "  <thead>\n",
       "    <tr style=\"text-align: right;\">\n",
       "      <th></th>\n",
       "      <th>id</th>\n",
       "      <th>mb_used</th>\n",
       "      <th>session_date</th>\n",
       "      <th>user_id</th>\n",
       "      <th>month</th>\n",
       "      <th>start</th>\n",
       "      <th>end</th>\n",
       "    </tr>\n",
       "  </thead>\n",
       "  <tbody>\n",
       "    <tr>\n",
       "      <th>149396</th>\n",
       "      <td>NaN</td>\n",
       "      <td>NaN</td>\n",
       "      <td>NaT</td>\n",
       "      <td>1128</td>\n",
       "      <td>NaN</td>\n",
       "      <td>12</td>\n",
       "      <td>12</td>\n",
       "    </tr>\n",
       "    <tr>\n",
       "      <th>149397</th>\n",
       "      <td>NaN</td>\n",
       "      <td>NaN</td>\n",
       "      <td>NaT</td>\n",
       "      <td>1273</td>\n",
       "      <td>NaN</td>\n",
       "      <td>5</td>\n",
       "      <td>0</td>\n",
       "    </tr>\n",
       "    <tr>\n",
       "      <th>149398</th>\n",
       "      <td>NaN</td>\n",
       "      <td>NaN</td>\n",
       "      <td>NaT</td>\n",
       "      <td>1371</td>\n",
       "      <td>NaN</td>\n",
       "      <td>12</td>\n",
       "      <td>12</td>\n",
       "    </tr>\n",
       "  </tbody>\n",
       "</table>\n",
       "</div>"
      ],
      "text/plain": [
       "         id  mb_used session_date  user_id  month  start  end\n",
       "149396  NaN      NaN          NaT     1128    NaN     12   12\n",
       "149397  NaN      NaN          NaT     1273    NaN      5    0\n",
       "149398  NaN      NaN          NaT     1371    NaN     12   12"
      ]
     },
     "execution_count": 47,
     "metadata": {},
     "output_type": "execute_result"
    }
   ],
   "source": [
    "# соединение мет. merge таблиц с интернет-сессиями и данными пользователей с месяцами подключения и отключения\n",
    "df_users_st_end_int = df_internet.merge(df_users_st_end, on='user_id', how='outer')\n",
    "df_users_st_end_int.loc[df_users_st_end_int['month'].isna() == True]"
   ]
  },
  {
   "cell_type": "code",
   "execution_count": 48,
   "id": "e5f649b2",
   "metadata": {},
   "outputs": [
    {
     "data": {
      "text/html": [
       "<div>\n",
       "<style scoped>\n",
       "    .dataframe tbody tr th:only-of-type {\n",
       "        vertical-align: middle;\n",
       "    }\n",
       "\n",
       "    .dataframe tbody tr th {\n",
       "        vertical-align: top;\n",
       "    }\n",
       "\n",
       "    .dataframe thead th {\n",
       "        text-align: right;\n",
       "    }\n",
       "</style>\n",
       "<table border=\"1\" class=\"dataframe\">\n",
       "  <thead>\n",
       "    <tr style=\"text-align: right;\">\n",
       "      <th></th>\n",
       "      <th>id</th>\n",
       "      <th>mb_used</th>\n",
       "      <th>session_date</th>\n",
       "      <th>user_id</th>\n",
       "      <th>month</th>\n",
       "      <th>start</th>\n",
       "      <th>end</th>\n",
       "    </tr>\n",
       "  </thead>\n",
       "  <tbody>\n",
       "    <tr>\n",
       "      <th>0</th>\n",
       "      <td>1000_0</td>\n",
       "      <td>112.95</td>\n",
       "      <td>2018-11-25</td>\n",
       "      <td>1000</td>\n",
       "      <td>11.0</td>\n",
       "      <td>5</td>\n",
       "      <td>0</td>\n",
       "    </tr>\n",
       "    <tr>\n",
       "      <th>1</th>\n",
       "      <td>1000_1</td>\n",
       "      <td>1052.81</td>\n",
       "      <td>2018-09-07</td>\n",
       "      <td>1000</td>\n",
       "      <td>9.0</td>\n",
       "      <td>5</td>\n",
       "      <td>0</td>\n",
       "    </tr>\n",
       "    <tr>\n",
       "      <th>2</th>\n",
       "      <td>1000_2</td>\n",
       "      <td>1197.26</td>\n",
       "      <td>2018-06-25</td>\n",
       "      <td>1000</td>\n",
       "      <td>6.0</td>\n",
       "      <td>5</td>\n",
       "      <td>0</td>\n",
       "    </tr>\n",
       "    <tr>\n",
       "      <th>3</th>\n",
       "      <td>1000_3</td>\n",
       "      <td>550.27</td>\n",
       "      <td>2018-08-22</td>\n",
       "      <td>1000</td>\n",
       "      <td>8.0</td>\n",
       "      <td>5</td>\n",
       "      <td>0</td>\n",
       "    </tr>\n",
       "    <tr>\n",
       "      <th>4</th>\n",
       "      <td>1000_4</td>\n",
       "      <td>302.56</td>\n",
       "      <td>2018-09-24</td>\n",
       "      <td>1000</td>\n",
       "      <td>9.0</td>\n",
       "      <td>5</td>\n",
       "      <td>0</td>\n",
       "    </tr>\n",
       "    <tr>\n",
       "      <th>...</th>\n",
       "      <td>...</td>\n",
       "      <td>...</td>\n",
       "      <td>...</td>\n",
       "      <td>...</td>\n",
       "      <td>...</td>\n",
       "      <td>...</td>\n",
       "      <td>...</td>\n",
       "    </tr>\n",
       "    <tr>\n",
       "      <th>149391</th>\n",
       "      <td>1499_152</td>\n",
       "      <td>318.90</td>\n",
       "      <td>2018-10-03</td>\n",
       "      <td>1499</td>\n",
       "      <td>10.0</td>\n",
       "      <td>9</td>\n",
       "      <td>0</td>\n",
       "    </tr>\n",
       "    <tr>\n",
       "      <th>149392</th>\n",
       "      <td>1499_153</td>\n",
       "      <td>490.13</td>\n",
       "      <td>2018-12-14</td>\n",
       "      <td>1499</td>\n",
       "      <td>12.0</td>\n",
       "      <td>9</td>\n",
       "      <td>0</td>\n",
       "    </tr>\n",
       "    <tr>\n",
       "      <th>149393</th>\n",
       "      <td>1499_154</td>\n",
       "      <td>0.00</td>\n",
       "      <td>2018-10-27</td>\n",
       "      <td>1499</td>\n",
       "      <td>10.0</td>\n",
       "      <td>9</td>\n",
       "      <td>0</td>\n",
       "    </tr>\n",
       "    <tr>\n",
       "      <th>149394</th>\n",
       "      <td>1499_155</td>\n",
       "      <td>1246.32</td>\n",
       "      <td>2018-11-26</td>\n",
       "      <td>1499</td>\n",
       "      <td>11.0</td>\n",
       "      <td>9</td>\n",
       "      <td>0</td>\n",
       "    </tr>\n",
       "    <tr>\n",
       "      <th>149395</th>\n",
       "      <td>1499_156</td>\n",
       "      <td>544.37</td>\n",
       "      <td>2018-10-26</td>\n",
       "      <td>1499</td>\n",
       "      <td>10.0</td>\n",
       "      <td>9</td>\n",
       "      <td>0</td>\n",
       "    </tr>\n",
       "  </tbody>\n",
       "</table>\n",
       "<p>149396 rows × 7 columns</p>\n",
       "</div>"
      ],
      "text/plain": [
       "              id  mb_used session_date  user_id  month  start  end\n",
       "0         1000_0   112.95   2018-11-25     1000   11.0      5    0\n",
       "1         1000_1  1052.81   2018-09-07     1000    9.0      5    0\n",
       "2         1000_2  1197.26   2018-06-25     1000    6.0      5    0\n",
       "3         1000_3   550.27   2018-08-22     1000    8.0      5    0\n",
       "4         1000_4   302.56   2018-09-24     1000    9.0      5    0\n",
       "...          ...      ...          ...      ...    ...    ...  ...\n",
       "149391  1499_152   318.90   2018-10-03     1499   10.0      9    0\n",
       "149392  1499_153   490.13   2018-12-14     1499   12.0      9    0\n",
       "149393  1499_154     0.00   2018-10-27     1499   10.0      9    0\n",
       "149394  1499_155  1246.32   2018-11-26     1499   11.0      9    0\n",
       "149395  1499_156   544.37   2018-10-26     1499   10.0      9    0\n",
       "\n",
       "[149396 rows x 7 columns]"
      ]
     },
     "execution_count": 48,
     "metadata": {},
     "output_type": "execute_result"
    }
   ],
   "source": [
    "# сброс номеров индексов методом reset_index\n",
    "df_users_st_end_int = df_users_st_end_int.dropna().reset_index(drop=True)\n",
    "df_users_st_end_int"
   ]
  },
  {
   "cell_type": "code",
   "execution_count": 49,
   "id": "9c2137eb",
   "metadata": {},
   "outputs": [
    {
     "data": {
      "text/html": [
       "<div>\n",
       "<style scoped>\n",
       "    .dataframe tbody tr th:only-of-type {\n",
       "        vertical-align: middle;\n",
       "    }\n",
       "\n",
       "    .dataframe tbody tr th {\n",
       "        vertical-align: top;\n",
       "    }\n",
       "\n",
       "    .dataframe thead th {\n",
       "        text-align: right;\n",
       "    }\n",
       "</style>\n",
       "<table border=\"1\" class=\"dataframe\">\n",
       "  <thead>\n",
       "    <tr style=\"text-align: right;\">\n",
       "      <th></th>\n",
       "      <th>id</th>\n",
       "      <th>mb_used</th>\n",
       "      <th>session_date</th>\n",
       "      <th>user_id</th>\n",
       "      <th>month</th>\n",
       "      <th>start</th>\n",
       "      <th>end</th>\n",
       "    </tr>\n",
       "  </thead>\n",
       "  <tbody>\n",
       "    <tr>\n",
       "      <th>17988</th>\n",
       "      <td>1063_9</td>\n",
       "      <td>0.0</td>\n",
       "      <td>2018-04-12</td>\n",
       "      <td>1063</td>\n",
       "      <td>4.0</td>\n",
       "      <td>4</td>\n",
       "      <td>12</td>\n",
       "    </tr>\n",
       "    <tr>\n",
       "      <th>17993</th>\n",
       "      <td>1063_14</td>\n",
       "      <td>0.0</td>\n",
       "      <td>2018-04-16</td>\n",
       "      <td>1063</td>\n",
       "      <td>4.0</td>\n",
       "      <td>4</td>\n",
       "      <td>12</td>\n",
       "    </tr>\n",
       "    <tr>\n",
       "      <th>18009</th>\n",
       "      <td>1063_30</td>\n",
       "      <td>0.0</td>\n",
       "      <td>2018-04-25</td>\n",
       "      <td>1063</td>\n",
       "      <td>4.0</td>\n",
       "      <td>4</td>\n",
       "      <td>12</td>\n",
       "    </tr>\n",
       "    <tr>\n",
       "      <th>18016</th>\n",
       "      <td>1063_37</td>\n",
       "      <td>0.0</td>\n",
       "      <td>2018-04-15</td>\n",
       "      <td>1063</td>\n",
       "      <td>4.0</td>\n",
       "      <td>4</td>\n",
       "      <td>12</td>\n",
       "    </tr>\n",
       "    <tr>\n",
       "      <th>18025</th>\n",
       "      <td>1063_46</td>\n",
       "      <td>0.0</td>\n",
       "      <td>2018-04-16</td>\n",
       "      <td>1063</td>\n",
       "      <td>4.0</td>\n",
       "      <td>4</td>\n",
       "      <td>12</td>\n",
       "    </tr>\n",
       "  </tbody>\n",
       "</table>\n",
       "</div>"
      ],
      "text/plain": [
       "            id  mb_used session_date  user_id  month  start  end\n",
       "17988   1063_9      0.0   2018-04-12     1063    4.0      4   12\n",
       "17993  1063_14      0.0   2018-04-16     1063    4.0      4   12\n",
       "18009  1063_30      0.0   2018-04-25     1063    4.0      4   12\n",
       "18016  1063_37      0.0   2018-04-15     1063    4.0      4   12\n",
       "18025  1063_46      0.0   2018-04-16     1063    4.0      4   12"
      ]
     },
     "execution_count": 49,
     "metadata": {},
     "output_type": "execute_result"
    }
   ],
   "source": [
    "# замена данных об объеме траффика на 0 в месяцы подключения и отключения и проверка результата\n",
    "df_users_st_end_int = fill_st_end_zero(df_users_st_end_int, 'mb_used')\n",
    "df_users_st_end_int.loc[(df_users_st_end_int['user_id'] == 1063) & (df_users_st_end_int['month'] == 4)].head()"
   ]
  },
  {
   "cell_type": "markdown",
   "id": "1d8d8e03",
   "metadata": {},
   "source": [
    "Итак, данные по неполным месяцам, которые могут исказить ход исследования исключили. Теперь необходимо свести данные об услугах оператора по каждому пользователю."
   ]
  },
  {
   "cell_type": "markdown",
   "id": "b2c4890b",
   "metadata": {},
   "source": [
    "### Шаг 2.3. Создание сводных таблиц по услугам оператора."
   ]
  },
  {
   "cell_type": "code",
   "execution_count": 50,
   "id": "aeaceea6",
   "metadata": {},
   "outputs": [],
   "source": [
    "# создание функции для сведения в таблицу данных по месяцам о об услугах по каждому пользователю\n",
    "def pivot_serv_month(data, value):\n",
    "    data_pivot = data.pivot_table(index='user_id', columns='month' , values=value , aggfunc='sum')\n",
    "    data_pivot.columns = ['1', '2', '3', '4', '5', '6', '7', '8', '9', '10', '11', '12']\n",
    "    data_pivot = data_pivot.fillna(0).astype('int')\n",
    "    return data_pivot"
   ]
  },
  {
   "cell_type": "code",
   "execution_count": 51,
   "id": "d6e5387c",
   "metadata": {},
   "outputs": [
    {
     "data": {
      "text/html": [
       "<div>\n",
       "<style scoped>\n",
       "    .dataframe tbody tr th:only-of-type {\n",
       "        vertical-align: middle;\n",
       "    }\n",
       "\n",
       "    .dataframe tbody tr th {\n",
       "        vertical-align: top;\n",
       "    }\n",
       "\n",
       "    .dataframe thead th {\n",
       "        text-align: right;\n",
       "    }\n",
       "</style>\n",
       "<table border=\"1\" class=\"dataframe\">\n",
       "  <thead>\n",
       "    <tr style=\"text-align: right;\">\n",
       "      <th></th>\n",
       "      <th>1</th>\n",
       "      <th>2</th>\n",
       "      <th>3</th>\n",
       "      <th>4</th>\n",
       "      <th>5</th>\n",
       "      <th>6</th>\n",
       "      <th>7</th>\n",
       "      <th>8</th>\n",
       "      <th>9</th>\n",
       "      <th>10</th>\n",
       "      <th>11</th>\n",
       "      <th>12</th>\n",
       "    </tr>\n",
       "    <tr>\n",
       "      <th>user_id</th>\n",
       "      <th></th>\n",
       "      <th></th>\n",
       "      <th></th>\n",
       "      <th></th>\n",
       "      <th></th>\n",
       "      <th></th>\n",
       "      <th></th>\n",
       "      <th></th>\n",
       "      <th></th>\n",
       "      <th></th>\n",
       "      <th></th>\n",
       "      <th></th>\n",
       "    </tr>\n",
       "  </thead>\n",
       "  <tbody>\n",
       "    <tr>\n",
       "      <th>1000</th>\n",
       "      <td>0</td>\n",
       "      <td>0</td>\n",
       "      <td>0</td>\n",
       "      <td>0</td>\n",
       "      <td>0</td>\n",
       "      <td>172</td>\n",
       "      <td>340</td>\n",
       "      <td>408</td>\n",
       "      <td>466</td>\n",
       "      <td>350</td>\n",
       "      <td>338</td>\n",
       "      <td>333</td>\n",
       "    </tr>\n",
       "    <tr>\n",
       "      <th>1001</th>\n",
       "      <td>0</td>\n",
       "      <td>0</td>\n",
       "      <td>0</td>\n",
       "      <td>0</td>\n",
       "      <td>0</td>\n",
       "      <td>0</td>\n",
       "      <td>0</td>\n",
       "      <td>0</td>\n",
       "      <td>0</td>\n",
       "      <td>0</td>\n",
       "      <td>0</td>\n",
       "      <td>414</td>\n",
       "    </tr>\n",
       "    <tr>\n",
       "      <th>1002</th>\n",
       "      <td>0</td>\n",
       "      <td>0</td>\n",
       "      <td>0</td>\n",
       "      <td>0</td>\n",
       "      <td>0</td>\n",
       "      <td>0</td>\n",
       "      <td>214</td>\n",
       "      <td>289</td>\n",
       "      <td>206</td>\n",
       "      <td>212</td>\n",
       "      <td>243</td>\n",
       "      <td>236</td>\n",
       "    </tr>\n",
       "    <tr>\n",
       "      <th>1003</th>\n",
       "      <td>0</td>\n",
       "      <td>0</td>\n",
       "      <td>0</td>\n",
       "      <td>0</td>\n",
       "      <td>0</td>\n",
       "      <td>0</td>\n",
       "      <td>0</td>\n",
       "      <td>0</td>\n",
       "      <td>961</td>\n",
       "      <td>855</td>\n",
       "      <td>824</td>\n",
       "      <td>802</td>\n",
       "    </tr>\n",
       "    <tr>\n",
       "      <th>1004</th>\n",
       "      <td>0</td>\n",
       "      <td>0</td>\n",
       "      <td>0</td>\n",
       "      <td>0</td>\n",
       "      <td>0</td>\n",
       "      <td>171</td>\n",
       "      <td>135</td>\n",
       "      <td>137</td>\n",
       "      <td>117</td>\n",
       "      <td>145</td>\n",
       "      <td>117</td>\n",
       "      <td>130</td>\n",
       "    </tr>\n",
       "  </tbody>\n",
       "</table>\n",
       "</div>"
      ],
      "text/plain": [
       "         1  2  3  4  5    6    7    8    9   10   11   12\n",
       "user_id                                                  \n",
       "1000     0  0  0  0  0  172  340  408  466  350  338  333\n",
       "1001     0  0  0  0  0    0    0    0    0    0    0  414\n",
       "1002     0  0  0  0  0    0  214  289  206  212  243  236\n",
       "1003     0  0  0  0  0    0    0    0  961  855  824  802\n",
       "1004     0  0  0  0  0  171  135  137  117  145  117  130"
      ]
     },
     "execution_count": 51,
     "metadata": {},
     "output_type": "execute_result"
    }
   ],
   "source": [
    "# сведение в таблицу данных по месяцам о продолжительности звонков по каждому пользователю\n",
    "df_calls_pivot = pivot_serv_month(df_users_st_end_call, 'duration')\n",
    "df_calls_pivot.head()"
   ]
  },
  {
   "cell_type": "code",
   "execution_count": 52,
   "id": "17321e91",
   "metadata": {},
   "outputs": [
    {
     "data": {
      "text/html": [
       "<div>\n",
       "<style scoped>\n",
       "    .dataframe tbody tr th:only-of-type {\n",
       "        vertical-align: middle;\n",
       "    }\n",
       "\n",
       "    .dataframe tbody tr th {\n",
       "        vertical-align: top;\n",
       "    }\n",
       "\n",
       "    .dataframe thead th {\n",
       "        text-align: right;\n",
       "    }\n",
       "</style>\n",
       "<table border=\"1\" class=\"dataframe\">\n",
       "  <thead>\n",
       "    <tr style=\"text-align: right;\">\n",
       "      <th></th>\n",
       "      <th>1</th>\n",
       "      <th>2</th>\n",
       "      <th>3</th>\n",
       "      <th>4</th>\n",
       "      <th>5</th>\n",
       "      <th>6</th>\n",
       "      <th>7</th>\n",
       "      <th>8</th>\n",
       "      <th>9</th>\n",
       "      <th>10</th>\n",
       "      <th>11</th>\n",
       "      <th>12</th>\n",
       "    </tr>\n",
       "    <tr>\n",
       "      <th>user_id</th>\n",
       "      <th></th>\n",
       "      <th></th>\n",
       "      <th></th>\n",
       "      <th></th>\n",
       "      <th></th>\n",
       "      <th></th>\n",
       "      <th></th>\n",
       "      <th></th>\n",
       "      <th></th>\n",
       "      <th></th>\n",
       "      <th></th>\n",
       "      <th></th>\n",
       "    </tr>\n",
       "  </thead>\n",
       "  <tbody>\n",
       "    <tr>\n",
       "      <th>1000</th>\n",
       "      <td>0</td>\n",
       "      <td>0</td>\n",
       "      <td>0</td>\n",
       "      <td>0</td>\n",
       "      <td>0</td>\n",
       "      <td>60</td>\n",
       "      <td>75</td>\n",
       "      <td>81</td>\n",
       "      <td>57</td>\n",
       "      <td>73</td>\n",
       "      <td>58</td>\n",
       "      <td>70</td>\n",
       "    </tr>\n",
       "    <tr>\n",
       "      <th>1002</th>\n",
       "      <td>0</td>\n",
       "      <td>0</td>\n",
       "      <td>0</td>\n",
       "      <td>0</td>\n",
       "      <td>0</td>\n",
       "      <td>0</td>\n",
       "      <td>11</td>\n",
       "      <td>13</td>\n",
       "      <td>4</td>\n",
       "      <td>10</td>\n",
       "      <td>16</td>\n",
       "      <td>12</td>\n",
       "    </tr>\n",
       "    <tr>\n",
       "      <th>1003</th>\n",
       "      <td>0</td>\n",
       "      <td>0</td>\n",
       "      <td>0</td>\n",
       "      <td>0</td>\n",
       "      <td>0</td>\n",
       "      <td>0</td>\n",
       "      <td>0</td>\n",
       "      <td>0</td>\n",
       "      <td>91</td>\n",
       "      <td>83</td>\n",
       "      <td>94</td>\n",
       "      <td>75</td>\n",
       "    </tr>\n",
       "    <tr>\n",
       "      <th>1004</th>\n",
       "      <td>0</td>\n",
       "      <td>0</td>\n",
       "      <td>0</td>\n",
       "      <td>0</td>\n",
       "      <td>0</td>\n",
       "      <td>134</td>\n",
       "      <td>181</td>\n",
       "      <td>151</td>\n",
       "      <td>146</td>\n",
       "      <td>165</td>\n",
       "      <td>158</td>\n",
       "      <td>162</td>\n",
       "    </tr>\n",
       "    <tr>\n",
       "      <th>1005</th>\n",
       "      <td>0</td>\n",
       "      <td>38</td>\n",
       "      <td>56</td>\n",
       "      <td>41</td>\n",
       "      <td>42</td>\n",
       "      <td>47</td>\n",
       "      <td>56</td>\n",
       "      <td>64</td>\n",
       "      <td>52</td>\n",
       "      <td>44</td>\n",
       "      <td>51</td>\n",
       "      <td>54</td>\n",
       "    </tr>\n",
       "  </tbody>\n",
       "</table>\n",
       "</div>"
      ],
      "text/plain": [
       "         1   2   3   4   5    6    7    8    9   10   11   12\n",
       "user_id                                                      \n",
       "1000     0   0   0   0   0   60   75   81   57   73   58   70\n",
       "1002     0   0   0   0   0    0   11   13    4   10   16   12\n",
       "1003     0   0   0   0   0    0    0    0   91   83   94   75\n",
       "1004     0   0   0   0   0  134  181  151  146  165  158  162\n",
       "1005     0  38  56  41  42   47   56   64   52   44   51   54"
      ]
     },
     "execution_count": 52,
     "metadata": {},
     "output_type": "execute_result"
    }
   ],
   "source": [
    "# сведение в таблицу данных по месяцам о количестве смс-сообщений по каждому пользователю\n",
    "df_messages_pivot = pivot_serv_month(df_users_st_end_mes, '1_message')\n",
    "df_messages_pivot.head()"
   ]
  },
  {
   "cell_type": "code",
   "execution_count": 53,
   "id": "cc14630f",
   "metadata": {},
   "outputs": [
    {
     "data": {
      "text/html": [
       "<div>\n",
       "<style scoped>\n",
       "    .dataframe tbody tr th:only-of-type {\n",
       "        vertical-align: middle;\n",
       "    }\n",
       "\n",
       "    .dataframe tbody tr th {\n",
       "        vertical-align: top;\n",
       "    }\n",
       "\n",
       "    .dataframe thead th {\n",
       "        text-align: right;\n",
       "    }\n",
       "</style>\n",
       "<table border=\"1\" class=\"dataframe\">\n",
       "  <thead>\n",
       "    <tr style=\"text-align: right;\">\n",
       "      <th></th>\n",
       "      <th>1</th>\n",
       "      <th>2</th>\n",
       "      <th>3</th>\n",
       "      <th>4</th>\n",
       "      <th>5</th>\n",
       "      <th>6</th>\n",
       "      <th>7</th>\n",
       "      <th>8</th>\n",
       "      <th>9</th>\n",
       "      <th>10</th>\n",
       "      <th>11</th>\n",
       "      <th>12</th>\n",
       "    </tr>\n",
       "    <tr>\n",
       "      <th>user_id</th>\n",
       "      <th></th>\n",
       "      <th></th>\n",
       "      <th></th>\n",
       "      <th></th>\n",
       "      <th></th>\n",
       "      <th></th>\n",
       "      <th></th>\n",
       "      <th></th>\n",
       "      <th></th>\n",
       "      <th></th>\n",
       "      <th></th>\n",
       "      <th></th>\n",
       "    </tr>\n",
       "  </thead>\n",
       "  <tbody>\n",
       "    <tr>\n",
       "      <th>1000</th>\n",
       "      <td>0</td>\n",
       "      <td>0</td>\n",
       "      <td>0</td>\n",
       "      <td>0</td>\n",
       "      <td>0</td>\n",
       "      <td>23233</td>\n",
       "      <td>14003</td>\n",
       "      <td>14055</td>\n",
       "      <td>14568</td>\n",
       "      <td>14702</td>\n",
       "      <td>14756</td>\n",
       "      <td>9817</td>\n",
       "    </tr>\n",
       "    <tr>\n",
       "      <th>1001</th>\n",
       "      <td>0</td>\n",
       "      <td>0</td>\n",
       "      <td>0</td>\n",
       "      <td>0</td>\n",
       "      <td>0</td>\n",
       "      <td>0</td>\n",
       "      <td>0</td>\n",
       "      <td>0</td>\n",
       "      <td>0</td>\n",
       "      <td>0</td>\n",
       "      <td>0</td>\n",
       "      <td>14036</td>\n",
       "    </tr>\n",
       "    <tr>\n",
       "      <th>1002</th>\n",
       "      <td>0</td>\n",
       "      <td>0</td>\n",
       "      <td>0</td>\n",
       "      <td>0</td>\n",
       "      <td>0</td>\n",
       "      <td>0</td>\n",
       "      <td>17580</td>\n",
       "      <td>20319</td>\n",
       "      <td>16691</td>\n",
       "      <td>13888</td>\n",
       "      <td>18587</td>\n",
       "      <td>18113</td>\n",
       "    </tr>\n",
       "    <tr>\n",
       "      <th>1003</th>\n",
       "      <td>0</td>\n",
       "      <td>0</td>\n",
       "      <td>0</td>\n",
       "      <td>0</td>\n",
       "      <td>0</td>\n",
       "      <td>0</td>\n",
       "      <td>0</td>\n",
       "      <td>0</td>\n",
       "      <td>12468</td>\n",
       "      <td>14768</td>\n",
       "      <td>11356</td>\n",
       "      <td>10121</td>\n",
       "    </tr>\n",
       "    <tr>\n",
       "      <th>1004</th>\n",
       "      <td>0</td>\n",
       "      <td>0</td>\n",
       "      <td>0</td>\n",
       "      <td>0</td>\n",
       "      <td>0</td>\n",
       "      <td>17600</td>\n",
       "      <td>22229</td>\n",
       "      <td>28584</td>\n",
       "      <td>15109</td>\n",
       "      <td>18475</td>\n",
       "      <td>15616</td>\n",
       "      <td>18021</td>\n",
       "    </tr>\n",
       "  </tbody>\n",
       "</table>\n",
       "</div>"
      ],
      "text/plain": [
       "         1  2  3  4  5      6      7      8      9     10     11     12\n",
       "user_id                                                                \n",
       "1000     0  0  0  0  0  23233  14003  14055  14568  14702  14756   9817\n",
       "1001     0  0  0  0  0      0      0      0      0      0      0  14036\n",
       "1002     0  0  0  0  0      0  17580  20319  16691  13888  18587  18113\n",
       "1003     0  0  0  0  0      0      0      0  12468  14768  11356  10121\n",
       "1004     0  0  0  0  0  17600  22229  28584  15109  18475  15616  18021"
      ]
     },
     "execution_count": 53,
     "metadata": {},
     "output_type": "execute_result"
    }
   ],
   "source": [
    "# сведение в таблицу данных по месяцам об объеме интернет-траффика по каждому пользователю\n",
    "df_internet_pivot = pivot_serv_month(df_users_st_end_int, 'mb_used')\n",
    "df_internet_pivot.head()"
   ]
  },
  {
   "cell_type": "markdown",
   "id": "be0becf9",
   "metadata": {},
   "source": [
    "В данных по тарифам указано, что использованный траффик за месяц округляется до гигабайтов в большую сторону. Переведем мегабайты в гигабайты и округлим результаты."
   ]
  },
  {
   "cell_type": "code",
   "execution_count": 54,
   "id": "7ffee4c8",
   "metadata": {},
   "outputs": [],
   "source": [
    "# перевод из мегабайтов в гигабайты\n",
    "df_internet_pivot.loc[: , '1':'12'] = df_internet_pivot.loc[: , '1':'12'] / 1024"
   ]
  },
  {
   "cell_type": "code",
   "execution_count": 55,
   "id": "f6a8712d",
   "metadata": {
    "scrolled": true
   },
   "outputs": [
    {
     "data": {
      "text/html": [
       "<div>\n",
       "<style scoped>\n",
       "    .dataframe tbody tr th:only-of-type {\n",
       "        vertical-align: middle;\n",
       "    }\n",
       "\n",
       "    .dataframe tbody tr th {\n",
       "        vertical-align: top;\n",
       "    }\n",
       "\n",
       "    .dataframe thead th {\n",
       "        text-align: right;\n",
       "    }\n",
       "</style>\n",
       "<table border=\"1\" class=\"dataframe\">\n",
       "  <thead>\n",
       "    <tr style=\"text-align: right;\">\n",
       "      <th></th>\n",
       "      <th>1</th>\n",
       "      <th>2</th>\n",
       "      <th>3</th>\n",
       "      <th>4</th>\n",
       "      <th>5</th>\n",
       "      <th>6</th>\n",
       "      <th>7</th>\n",
       "      <th>8</th>\n",
       "      <th>9</th>\n",
       "      <th>10</th>\n",
       "      <th>11</th>\n",
       "      <th>12</th>\n",
       "    </tr>\n",
       "    <tr>\n",
       "      <th>user_id</th>\n",
       "      <th></th>\n",
       "      <th></th>\n",
       "      <th></th>\n",
       "      <th></th>\n",
       "      <th></th>\n",
       "      <th></th>\n",
       "      <th></th>\n",
       "      <th></th>\n",
       "      <th></th>\n",
       "      <th></th>\n",
       "      <th></th>\n",
       "      <th></th>\n",
       "    </tr>\n",
       "  </thead>\n",
       "  <tbody>\n",
       "    <tr>\n",
       "      <th>1000</th>\n",
       "      <td>0</td>\n",
       "      <td>0</td>\n",
       "      <td>0</td>\n",
       "      <td>0</td>\n",
       "      <td>0</td>\n",
       "      <td>23</td>\n",
       "      <td>14</td>\n",
       "      <td>14</td>\n",
       "      <td>15</td>\n",
       "      <td>15</td>\n",
       "      <td>15</td>\n",
       "      <td>10</td>\n",
       "    </tr>\n",
       "    <tr>\n",
       "      <th>1001</th>\n",
       "      <td>0</td>\n",
       "      <td>0</td>\n",
       "      <td>0</td>\n",
       "      <td>0</td>\n",
       "      <td>0</td>\n",
       "      <td>0</td>\n",
       "      <td>0</td>\n",
       "      <td>0</td>\n",
       "      <td>0</td>\n",
       "      <td>0</td>\n",
       "      <td>0</td>\n",
       "      <td>14</td>\n",
       "    </tr>\n",
       "    <tr>\n",
       "      <th>1002</th>\n",
       "      <td>0</td>\n",
       "      <td>0</td>\n",
       "      <td>0</td>\n",
       "      <td>0</td>\n",
       "      <td>0</td>\n",
       "      <td>0</td>\n",
       "      <td>18</td>\n",
       "      <td>20</td>\n",
       "      <td>17</td>\n",
       "      <td>14</td>\n",
       "      <td>19</td>\n",
       "      <td>18</td>\n",
       "    </tr>\n",
       "    <tr>\n",
       "      <th>1003</th>\n",
       "      <td>0</td>\n",
       "      <td>0</td>\n",
       "      <td>0</td>\n",
       "      <td>0</td>\n",
       "      <td>0</td>\n",
       "      <td>0</td>\n",
       "      <td>0</td>\n",
       "      <td>0</td>\n",
       "      <td>13</td>\n",
       "      <td>15</td>\n",
       "      <td>12</td>\n",
       "      <td>10</td>\n",
       "    </tr>\n",
       "    <tr>\n",
       "      <th>1004</th>\n",
       "      <td>0</td>\n",
       "      <td>0</td>\n",
       "      <td>0</td>\n",
       "      <td>0</td>\n",
       "      <td>0</td>\n",
       "      <td>18</td>\n",
       "      <td>22</td>\n",
       "      <td>28</td>\n",
       "      <td>15</td>\n",
       "      <td>19</td>\n",
       "      <td>16</td>\n",
       "      <td>18</td>\n",
       "    </tr>\n",
       "  </tbody>\n",
       "</table>\n",
       "</div>"
      ],
      "text/plain": [
       "         1  2  3  4  5   6   7   8   9  10  11  12\n",
       "user_id                                           \n",
       "1000     0  0  0  0  0  23  14  14  15  15  15  10\n",
       "1001     0  0  0  0  0   0   0   0   0   0   0  14\n",
       "1002     0  0  0  0  0   0  18  20  17  14  19  18\n",
       "1003     0  0  0  0  0   0   0   0  13  15  12  10\n",
       "1004     0  0  0  0  0  18  22  28  15  19  16  18"
      ]
     },
     "execution_count": 55,
     "metadata": {},
     "output_type": "execute_result"
    }
   ],
   "source": [
    "# округление интернет-траффика до целых чисел в большую сторону\n",
    "df_internet_pivot = df_internet_pivot.apply(np.ceil).astype('int')\n",
    "df_internet_pivot.head()"
   ]
  },
  {
   "cell_type": "markdown",
   "id": "dbe7095a",
   "metadata": {},
   "source": [
    "Анализ будем проводить по тарифам, поэтому добавим в датафреймы с услугами наименование тарифов."
   ]
  },
  {
   "cell_type": "code",
   "execution_count": 56,
   "id": "b5d2c8fe",
   "metadata": {},
   "outputs": [
    {
     "data": {
      "text/html": [
       "<div>\n",
       "<style scoped>\n",
       "    .dataframe tbody tr th:only-of-type {\n",
       "        vertical-align: middle;\n",
       "    }\n",
       "\n",
       "    .dataframe tbody tr th {\n",
       "        vertical-align: top;\n",
       "    }\n",
       "\n",
       "    .dataframe thead th {\n",
       "        text-align: right;\n",
       "    }\n",
       "</style>\n",
       "<table border=\"1\" class=\"dataframe\">\n",
       "  <thead>\n",
       "    <tr style=\"text-align: right;\">\n",
       "      <th></th>\n",
       "      <th>user_id</th>\n",
       "      <th>tariff</th>\n",
       "    </tr>\n",
       "  </thead>\n",
       "  <tbody>\n",
       "    <tr>\n",
       "      <th>0</th>\n",
       "      <td>1000</td>\n",
       "      <td>ultra</td>\n",
       "    </tr>\n",
       "    <tr>\n",
       "      <th>1</th>\n",
       "      <td>1001</td>\n",
       "      <td>smart</td>\n",
       "    </tr>\n",
       "    <tr>\n",
       "      <th>2</th>\n",
       "      <td>1002</td>\n",
       "      <td>smart</td>\n",
       "    </tr>\n",
       "    <tr>\n",
       "      <th>3</th>\n",
       "      <td>1003</td>\n",
       "      <td>ultra</td>\n",
       "    </tr>\n",
       "    <tr>\n",
       "      <th>4</th>\n",
       "      <td>1004</td>\n",
       "      <td>ultra</td>\n",
       "    </tr>\n",
       "  </tbody>\n",
       "</table>\n",
       "</div>"
      ],
      "text/plain": [
       "   user_id tariff\n",
       "0     1000  ultra\n",
       "1     1001  smart\n",
       "2     1002  smart\n",
       "3     1003  ultra\n",
       "4     1004  ultra"
      ]
     },
     "execution_count": 56,
     "metadata": {},
     "output_type": "execute_result"
    }
   ],
   "source": [
    "# декомпозиция датафрейма с данными о пользователях\n",
    "df_users_pivot = df_users[['user_id' , 'tariff']]\n",
    "df_users_pivot.head()"
   ]
  },
  {
   "cell_type": "code",
   "execution_count": 57,
   "id": "ab929384",
   "metadata": {},
   "outputs": [],
   "source": [
    "# создание функции для соединение мет. merge таблиц с наименованием тарифов и данными по услугам по клиентам и месяцам\n",
    "def merge_serv_id(data_user, data_pivot):\n",
    "    data_trf = data_user.merge(data_pivot , on='user_id', how='outer')\n",
    "    data_trf = data_trf.fillna(0)\n",
    "    data_trf.loc[:, '1':'12'] = data_trf.loc[:, '1':'12'].astype('int')\n",
    "    return data_trf"
   ]
  },
  {
   "cell_type": "code",
   "execution_count": 58,
   "id": "4d7677e9",
   "metadata": {},
   "outputs": [
    {
     "data": {
      "text/html": [
       "<div>\n",
       "<style scoped>\n",
       "    .dataframe tbody tr th:only-of-type {\n",
       "        vertical-align: middle;\n",
       "    }\n",
       "\n",
       "    .dataframe tbody tr th {\n",
       "        vertical-align: top;\n",
       "    }\n",
       "\n",
       "    .dataframe thead th {\n",
       "        text-align: right;\n",
       "    }\n",
       "</style>\n",
       "<table border=\"1\" class=\"dataframe\">\n",
       "  <thead>\n",
       "    <tr style=\"text-align: right;\">\n",
       "      <th></th>\n",
       "      <th>user_id</th>\n",
       "      <th>tariff</th>\n",
       "      <th>1</th>\n",
       "      <th>2</th>\n",
       "      <th>3</th>\n",
       "      <th>4</th>\n",
       "      <th>5</th>\n",
       "      <th>6</th>\n",
       "      <th>7</th>\n",
       "      <th>8</th>\n",
       "      <th>9</th>\n",
       "      <th>10</th>\n",
       "      <th>11</th>\n",
       "      <th>12</th>\n",
       "    </tr>\n",
       "  </thead>\n",
       "  <tbody>\n",
       "    <tr>\n",
       "      <th>0</th>\n",
       "      <td>1000</td>\n",
       "      <td>ultra</td>\n",
       "      <td>0</td>\n",
       "      <td>0</td>\n",
       "      <td>0</td>\n",
       "      <td>0</td>\n",
       "      <td>0</td>\n",
       "      <td>172</td>\n",
       "      <td>340</td>\n",
       "      <td>408</td>\n",
       "      <td>466</td>\n",
       "      <td>350</td>\n",
       "      <td>338</td>\n",
       "      <td>333</td>\n",
       "    </tr>\n",
       "    <tr>\n",
       "      <th>1</th>\n",
       "      <td>1001</td>\n",
       "      <td>smart</td>\n",
       "      <td>0</td>\n",
       "      <td>0</td>\n",
       "      <td>0</td>\n",
       "      <td>0</td>\n",
       "      <td>0</td>\n",
       "      <td>0</td>\n",
       "      <td>0</td>\n",
       "      <td>0</td>\n",
       "      <td>0</td>\n",
       "      <td>0</td>\n",
       "      <td>0</td>\n",
       "      <td>414</td>\n",
       "    </tr>\n",
       "    <tr>\n",
       "      <th>2</th>\n",
       "      <td>1002</td>\n",
       "      <td>smart</td>\n",
       "      <td>0</td>\n",
       "      <td>0</td>\n",
       "      <td>0</td>\n",
       "      <td>0</td>\n",
       "      <td>0</td>\n",
       "      <td>0</td>\n",
       "      <td>214</td>\n",
       "      <td>289</td>\n",
       "      <td>206</td>\n",
       "      <td>212</td>\n",
       "      <td>243</td>\n",
       "      <td>236</td>\n",
       "    </tr>\n",
       "    <tr>\n",
       "      <th>3</th>\n",
       "      <td>1003</td>\n",
       "      <td>ultra</td>\n",
       "      <td>0</td>\n",
       "      <td>0</td>\n",
       "      <td>0</td>\n",
       "      <td>0</td>\n",
       "      <td>0</td>\n",
       "      <td>0</td>\n",
       "      <td>0</td>\n",
       "      <td>0</td>\n",
       "      <td>961</td>\n",
       "      <td>855</td>\n",
       "      <td>824</td>\n",
       "      <td>802</td>\n",
       "    </tr>\n",
       "    <tr>\n",
       "      <th>4</th>\n",
       "      <td>1004</td>\n",
       "      <td>ultra</td>\n",
       "      <td>0</td>\n",
       "      <td>0</td>\n",
       "      <td>0</td>\n",
       "      <td>0</td>\n",
       "      <td>0</td>\n",
       "      <td>171</td>\n",
       "      <td>135</td>\n",
       "      <td>137</td>\n",
       "      <td>117</td>\n",
       "      <td>145</td>\n",
       "      <td>117</td>\n",
       "      <td>130</td>\n",
       "    </tr>\n",
       "  </tbody>\n",
       "</table>\n",
       "</div>"
      ],
      "text/plain": [
       "   user_id tariff  1  2  3  4  5    6    7    8    9   10   11   12\n",
       "0     1000  ultra  0  0  0  0  0  172  340  408  466  350  338  333\n",
       "1     1001  smart  0  0  0  0  0    0    0    0    0    0    0  414\n",
       "2     1002  smart  0  0  0  0  0    0  214  289  206  212  243  236\n",
       "3     1003  ultra  0  0  0  0  0    0    0    0  961  855  824  802\n",
       "4     1004  ultra  0  0  0  0  0  171  135  137  117  145  117  130"
      ]
     },
     "execution_count": 58,
     "metadata": {},
     "output_type": "execute_result"
    }
   ],
   "source": [
    "# соединение мет. merge таблиц с наименованием тарифов и данными по продолжительности разговоров клиентов по месяцам\n",
    "df_calls_trf = merge_serv_id(df_users_pivot, df_calls_pivot)\n",
    "df_calls_trf.head()"
   ]
  },
  {
   "cell_type": "code",
   "execution_count": 59,
   "id": "14488fce",
   "metadata": {},
   "outputs": [
    {
     "data": {
      "text/html": [
       "<div>\n",
       "<style scoped>\n",
       "    .dataframe tbody tr th:only-of-type {\n",
       "        vertical-align: middle;\n",
       "    }\n",
       "\n",
       "    .dataframe tbody tr th {\n",
       "        vertical-align: top;\n",
       "    }\n",
       "\n",
       "    .dataframe thead th {\n",
       "        text-align: right;\n",
       "    }\n",
       "</style>\n",
       "<table border=\"1\" class=\"dataframe\">\n",
       "  <thead>\n",
       "    <tr style=\"text-align: right;\">\n",
       "      <th></th>\n",
       "      <th>user_id</th>\n",
       "      <th>tariff</th>\n",
       "      <th>1</th>\n",
       "      <th>2</th>\n",
       "      <th>3</th>\n",
       "      <th>4</th>\n",
       "      <th>5</th>\n",
       "      <th>6</th>\n",
       "      <th>7</th>\n",
       "      <th>8</th>\n",
       "      <th>9</th>\n",
       "      <th>10</th>\n",
       "      <th>11</th>\n",
       "      <th>12</th>\n",
       "    </tr>\n",
       "  </thead>\n",
       "  <tbody>\n",
       "    <tr>\n",
       "      <th>0</th>\n",
       "      <td>1000</td>\n",
       "      <td>ultra</td>\n",
       "      <td>0</td>\n",
       "      <td>0</td>\n",
       "      <td>0</td>\n",
       "      <td>0</td>\n",
       "      <td>0</td>\n",
       "      <td>60</td>\n",
       "      <td>75</td>\n",
       "      <td>81</td>\n",
       "      <td>57</td>\n",
       "      <td>73</td>\n",
       "      <td>58</td>\n",
       "      <td>70</td>\n",
       "    </tr>\n",
       "    <tr>\n",
       "      <th>1</th>\n",
       "      <td>1001</td>\n",
       "      <td>smart</td>\n",
       "      <td>0</td>\n",
       "      <td>0</td>\n",
       "      <td>0</td>\n",
       "      <td>0</td>\n",
       "      <td>0</td>\n",
       "      <td>0</td>\n",
       "      <td>0</td>\n",
       "      <td>0</td>\n",
       "      <td>0</td>\n",
       "      <td>0</td>\n",
       "      <td>0</td>\n",
       "      <td>0</td>\n",
       "    </tr>\n",
       "    <tr>\n",
       "      <th>2</th>\n",
       "      <td>1002</td>\n",
       "      <td>smart</td>\n",
       "      <td>0</td>\n",
       "      <td>0</td>\n",
       "      <td>0</td>\n",
       "      <td>0</td>\n",
       "      <td>0</td>\n",
       "      <td>0</td>\n",
       "      <td>11</td>\n",
       "      <td>13</td>\n",
       "      <td>4</td>\n",
       "      <td>10</td>\n",
       "      <td>16</td>\n",
       "      <td>12</td>\n",
       "    </tr>\n",
       "    <tr>\n",
       "      <th>3</th>\n",
       "      <td>1003</td>\n",
       "      <td>ultra</td>\n",
       "      <td>0</td>\n",
       "      <td>0</td>\n",
       "      <td>0</td>\n",
       "      <td>0</td>\n",
       "      <td>0</td>\n",
       "      <td>0</td>\n",
       "      <td>0</td>\n",
       "      <td>0</td>\n",
       "      <td>91</td>\n",
       "      <td>83</td>\n",
       "      <td>94</td>\n",
       "      <td>75</td>\n",
       "    </tr>\n",
       "    <tr>\n",
       "      <th>4</th>\n",
       "      <td>1004</td>\n",
       "      <td>ultra</td>\n",
       "      <td>0</td>\n",
       "      <td>0</td>\n",
       "      <td>0</td>\n",
       "      <td>0</td>\n",
       "      <td>0</td>\n",
       "      <td>134</td>\n",
       "      <td>181</td>\n",
       "      <td>151</td>\n",
       "      <td>146</td>\n",
       "      <td>165</td>\n",
       "      <td>158</td>\n",
       "      <td>162</td>\n",
       "    </tr>\n",
       "  </tbody>\n",
       "</table>\n",
       "</div>"
      ],
      "text/plain": [
       "   user_id tariff  1  2  3  4  5    6    7    8    9   10   11   12\n",
       "0     1000  ultra  0  0  0  0  0   60   75   81   57   73   58   70\n",
       "1     1001  smart  0  0  0  0  0    0    0    0    0    0    0    0\n",
       "2     1002  smart  0  0  0  0  0    0   11   13    4   10   16   12\n",
       "3     1003  ultra  0  0  0  0  0    0    0    0   91   83   94   75\n",
       "4     1004  ultra  0  0  0  0  0  134  181  151  146  165  158  162"
      ]
     },
     "execution_count": 59,
     "metadata": {},
     "output_type": "execute_result"
    }
   ],
   "source": [
    "# соединение мет. merge таблиц с наименованием тарифов и данными по продолжительности разговоров клиентов по месяцам\n",
    "df_messages_trf = merge_serv_id(df_users_pivot, df_messages_pivot)\n",
    "df_messages_trf.head()"
   ]
  },
  {
   "cell_type": "code",
   "execution_count": 60,
   "id": "fe047f9b",
   "metadata": {},
   "outputs": [
    {
     "data": {
      "text/html": [
       "<div>\n",
       "<style scoped>\n",
       "    .dataframe tbody tr th:only-of-type {\n",
       "        vertical-align: middle;\n",
       "    }\n",
       "\n",
       "    .dataframe tbody tr th {\n",
       "        vertical-align: top;\n",
       "    }\n",
       "\n",
       "    .dataframe thead th {\n",
       "        text-align: right;\n",
       "    }\n",
       "</style>\n",
       "<table border=\"1\" class=\"dataframe\">\n",
       "  <thead>\n",
       "    <tr style=\"text-align: right;\">\n",
       "      <th></th>\n",
       "      <th>user_id</th>\n",
       "      <th>tariff</th>\n",
       "      <th>1</th>\n",
       "      <th>2</th>\n",
       "      <th>3</th>\n",
       "      <th>4</th>\n",
       "      <th>5</th>\n",
       "      <th>6</th>\n",
       "      <th>7</th>\n",
       "      <th>8</th>\n",
       "      <th>9</th>\n",
       "      <th>10</th>\n",
       "      <th>11</th>\n",
       "      <th>12</th>\n",
       "    </tr>\n",
       "  </thead>\n",
       "  <tbody>\n",
       "    <tr>\n",
       "      <th>0</th>\n",
       "      <td>1000</td>\n",
       "      <td>ultra</td>\n",
       "      <td>0</td>\n",
       "      <td>0</td>\n",
       "      <td>0</td>\n",
       "      <td>0</td>\n",
       "      <td>0</td>\n",
       "      <td>23</td>\n",
       "      <td>14</td>\n",
       "      <td>14</td>\n",
       "      <td>15</td>\n",
       "      <td>15</td>\n",
       "      <td>15</td>\n",
       "      <td>10</td>\n",
       "    </tr>\n",
       "    <tr>\n",
       "      <th>1</th>\n",
       "      <td>1001</td>\n",
       "      <td>smart</td>\n",
       "      <td>0</td>\n",
       "      <td>0</td>\n",
       "      <td>0</td>\n",
       "      <td>0</td>\n",
       "      <td>0</td>\n",
       "      <td>0</td>\n",
       "      <td>0</td>\n",
       "      <td>0</td>\n",
       "      <td>0</td>\n",
       "      <td>0</td>\n",
       "      <td>0</td>\n",
       "      <td>14</td>\n",
       "    </tr>\n",
       "    <tr>\n",
       "      <th>2</th>\n",
       "      <td>1002</td>\n",
       "      <td>smart</td>\n",
       "      <td>0</td>\n",
       "      <td>0</td>\n",
       "      <td>0</td>\n",
       "      <td>0</td>\n",
       "      <td>0</td>\n",
       "      <td>0</td>\n",
       "      <td>18</td>\n",
       "      <td>20</td>\n",
       "      <td>17</td>\n",
       "      <td>14</td>\n",
       "      <td>19</td>\n",
       "      <td>18</td>\n",
       "    </tr>\n",
       "    <tr>\n",
       "      <th>3</th>\n",
       "      <td>1003</td>\n",
       "      <td>ultra</td>\n",
       "      <td>0</td>\n",
       "      <td>0</td>\n",
       "      <td>0</td>\n",
       "      <td>0</td>\n",
       "      <td>0</td>\n",
       "      <td>0</td>\n",
       "      <td>0</td>\n",
       "      <td>0</td>\n",
       "      <td>13</td>\n",
       "      <td>15</td>\n",
       "      <td>12</td>\n",
       "      <td>10</td>\n",
       "    </tr>\n",
       "    <tr>\n",
       "      <th>4</th>\n",
       "      <td>1004</td>\n",
       "      <td>ultra</td>\n",
       "      <td>0</td>\n",
       "      <td>0</td>\n",
       "      <td>0</td>\n",
       "      <td>0</td>\n",
       "      <td>0</td>\n",
       "      <td>18</td>\n",
       "      <td>22</td>\n",
       "      <td>28</td>\n",
       "      <td>15</td>\n",
       "      <td>19</td>\n",
       "      <td>16</td>\n",
       "      <td>18</td>\n",
       "    </tr>\n",
       "  </tbody>\n",
       "</table>\n",
       "</div>"
      ],
      "text/plain": [
       "   user_id tariff  1  2  3  4  5   6   7   8   9  10  11  12\n",
       "0     1000  ultra  0  0  0  0  0  23  14  14  15  15  15  10\n",
       "1     1001  smart  0  0  0  0  0   0   0   0   0   0   0  14\n",
       "2     1002  smart  0  0  0  0  0   0  18  20  17  14  19  18\n",
       "3     1003  ultra  0  0  0  0  0   0   0   0  13  15  12  10\n",
       "4     1004  ultra  0  0  0  0  0  18  22  28  15  19  16  18"
      ]
     },
     "execution_count": 60,
     "metadata": {},
     "output_type": "execute_result"
    }
   ],
   "source": [
    "# соединение мет. merge таблиц с наименованием тарифа и данными по объему интернет-траффика клиентов по месяцам\n",
    "df_internet_trf = merge_serv_id(df_users_pivot, df_internet_pivot)\n",
    "df_internet_trf.head()"
   ]
  },
  {
   "cell_type": "markdown",
   "id": "dadf3f08",
   "metadata": {},
   "source": [
    "### Шаг 2.4. Подсчет итоговых показателей для анализа."
   ]
  },
  {
   "cell_type": "markdown",
   "id": "22c442c7",
   "metadata": {},
   "source": [
    "Создадим таблицы, в которых рассчитаем суммы по каждой услуге за использование тарифа сверх лимита абонентской платы."
   ]
  },
  {
   "cell_type": "code",
   "execution_count": 61,
   "id": "f996d4ef",
   "metadata": {},
   "outputs": [],
   "source": [
    "# создание копии датасета с продолжительностью звонков по месяцам\n",
    "df_calls_trf_ov = df_calls_trf.copy(deep=True)"
   ]
  },
  {
   "cell_type": "code",
   "execution_count": 62,
   "id": "fa68fc83",
   "metadata": {},
   "outputs": [],
   "source": [
    "# создание копии датасета с количеством сообщений по месяцам\n",
    "df_messages_trf_ov = df_messages_trf.copy(deep=True)"
   ]
  },
  {
   "cell_type": "code",
   "execution_count": 63,
   "id": "745137ca",
   "metadata": {},
   "outputs": [],
   "source": [
    "# создание копии датасета с объемом интернет-траффика по месяцам\n",
    "df_internet_trf_ov = df_internet_trf.copy(deep=True)"
   ]
  },
  {
   "cell_type": "markdown",
   "id": "37d295d6",
   "metadata": {},
   "source": [
    "Создадим функцию для рассчета сумм за услуги сверх тарифного плана. \n",
    "- Принимает аргументами:\n",
    "  - Датасет, в котором производится рассчет сумм сверх тарифа.\n",
    "  - Суммы за лимиты по услуге за оба тарифа\n",
    "  - Тарифы за превышение лимита по услугам\n",
    "- Внутри функции:\n",
    "  - Производится подсчет в двойном цикле выручки с пользователей за услуги связи сверх абонентской платы по месяцам. \n",
    "  - Для этого проитерируем каждую ячейку с данными о звонках, сообщениях, интернете с выполнением условий о превышении лимита по тарифам. \n",
    "  - При невыполнении условия о исчерпании лимита, вернем в ячейку \"0\". А при выполнении условия исчерпания лимита умножаем объем услуг сверх абонентской платы на тариф сверх лимита.\n",
    "- Функция возвращает измененный датасет за каждый месяц с суммами превышения за пользование услугами сверх лимита по тарифам."
   ]
  },
  {
   "cell_type": "code",
   "execution_count": 64,
   "id": "4b8d341b",
   "metadata": {},
   "outputs": [],
   "source": [
    "# создание функции для расчета сумм за израсходованные услуги сверх лимита по тарифам\n",
    "def count_revenue(data, sum_ultra, trf_ultra, sum_smart, trf_smart):\n",
    "    for i in range(500):\n",
    "        for j in range(2,14):\n",
    "            if data.iloc[i,1] == 'ultra' and data.iloc[i,j] > sum_ultra:\n",
    "                data.iloc[i,j] = (data.iloc[i,j] - sum_ultra) * trf_ultra  \n",
    "            elif data.iloc[i,1] == 'ultra' and data.iloc[i,j] <= sum_ultra:\n",
    "                data.iloc[i,j] = 0\n",
    "            elif (data.iloc[i,1] == 'smart') and data.iloc[i,j] > sum_smart:\n",
    "                data.iloc[i,j] = (data.iloc[i,j] - sum_smart) * trf_smart\n",
    "            elif data.iloc[i,1] == 'smart' and data.iloc[i,j] <= sum_smart:\n",
    "                data.iloc[i,j] = 0\n",
    "    return data"
   ]
  },
  {
   "cell_type": "code",
   "execution_count": 65,
   "id": "8f53a1db",
   "metadata": {},
   "outputs": [
    {
     "data": {
      "text/html": [
       "<div>\n",
       "<style scoped>\n",
       "    .dataframe tbody tr th:only-of-type {\n",
       "        vertical-align: middle;\n",
       "    }\n",
       "\n",
       "    .dataframe tbody tr th {\n",
       "        vertical-align: top;\n",
       "    }\n",
       "\n",
       "    .dataframe thead th {\n",
       "        text-align: right;\n",
       "    }\n",
       "</style>\n",
       "<table border=\"1\" class=\"dataframe\">\n",
       "  <thead>\n",
       "    <tr style=\"text-align: right;\">\n",
       "      <th></th>\n",
       "      <th>user_id</th>\n",
       "      <th>tariff</th>\n",
       "      <th>1</th>\n",
       "      <th>2</th>\n",
       "      <th>3</th>\n",
       "      <th>4</th>\n",
       "      <th>5</th>\n",
       "      <th>6</th>\n",
       "      <th>7</th>\n",
       "      <th>8</th>\n",
       "      <th>9</th>\n",
       "      <th>10</th>\n",
       "      <th>11</th>\n",
       "      <th>12</th>\n",
       "    </tr>\n",
       "  </thead>\n",
       "  <tbody>\n",
       "    <tr>\n",
       "      <th>0</th>\n",
       "      <td>1000</td>\n",
       "      <td>ultra</td>\n",
       "      <td>0</td>\n",
       "      <td>0</td>\n",
       "      <td>0</td>\n",
       "      <td>0</td>\n",
       "      <td>0</td>\n",
       "      <td>0</td>\n",
       "      <td>0</td>\n",
       "      <td>0</td>\n",
       "      <td>0</td>\n",
       "      <td>0</td>\n",
       "      <td>0</td>\n",
       "      <td>0</td>\n",
       "    </tr>\n",
       "    <tr>\n",
       "      <th>1</th>\n",
       "      <td>1001</td>\n",
       "      <td>smart</td>\n",
       "      <td>0</td>\n",
       "      <td>0</td>\n",
       "      <td>0</td>\n",
       "      <td>0</td>\n",
       "      <td>0</td>\n",
       "      <td>0</td>\n",
       "      <td>0</td>\n",
       "      <td>0</td>\n",
       "      <td>0</td>\n",
       "      <td>0</td>\n",
       "      <td>0</td>\n",
       "      <td>0</td>\n",
       "    </tr>\n",
       "    <tr>\n",
       "      <th>2</th>\n",
       "      <td>1002</td>\n",
       "      <td>smart</td>\n",
       "      <td>0</td>\n",
       "      <td>0</td>\n",
       "      <td>0</td>\n",
       "      <td>0</td>\n",
       "      <td>0</td>\n",
       "      <td>0</td>\n",
       "      <td>0</td>\n",
       "      <td>0</td>\n",
       "      <td>0</td>\n",
       "      <td>0</td>\n",
       "      <td>0</td>\n",
       "      <td>0</td>\n",
       "    </tr>\n",
       "    <tr>\n",
       "      <th>3</th>\n",
       "      <td>1003</td>\n",
       "      <td>ultra</td>\n",
       "      <td>0</td>\n",
       "      <td>0</td>\n",
       "      <td>0</td>\n",
       "      <td>0</td>\n",
       "      <td>0</td>\n",
       "      <td>0</td>\n",
       "      <td>0</td>\n",
       "      <td>0</td>\n",
       "      <td>0</td>\n",
       "      <td>0</td>\n",
       "      <td>0</td>\n",
       "      <td>0</td>\n",
       "    </tr>\n",
       "    <tr>\n",
       "      <th>4</th>\n",
       "      <td>1004</td>\n",
       "      <td>ultra</td>\n",
       "      <td>0</td>\n",
       "      <td>0</td>\n",
       "      <td>0</td>\n",
       "      <td>0</td>\n",
       "      <td>0</td>\n",
       "      <td>0</td>\n",
       "      <td>0</td>\n",
       "      <td>0</td>\n",
       "      <td>0</td>\n",
       "      <td>0</td>\n",
       "      <td>0</td>\n",
       "      <td>0</td>\n",
       "    </tr>\n",
       "    <tr>\n",
       "      <th>...</th>\n",
       "      <td>...</td>\n",
       "      <td>...</td>\n",
       "      <td>...</td>\n",
       "      <td>...</td>\n",
       "      <td>...</td>\n",
       "      <td>...</td>\n",
       "      <td>...</td>\n",
       "      <td>...</td>\n",
       "      <td>...</td>\n",
       "      <td>...</td>\n",
       "      <td>...</td>\n",
       "      <td>...</td>\n",
       "      <td>...</td>\n",
       "      <td>...</td>\n",
       "    </tr>\n",
       "    <tr>\n",
       "      <th>495</th>\n",
       "      <td>1495</td>\n",
       "      <td>ultra</td>\n",
       "      <td>0</td>\n",
       "      <td>0</td>\n",
       "      <td>0</td>\n",
       "      <td>0</td>\n",
       "      <td>0</td>\n",
       "      <td>0</td>\n",
       "      <td>0</td>\n",
       "      <td>0</td>\n",
       "      <td>0</td>\n",
       "      <td>0</td>\n",
       "      <td>0</td>\n",
       "      <td>0</td>\n",
       "    </tr>\n",
       "    <tr>\n",
       "      <th>496</th>\n",
       "      <td>1496</td>\n",
       "      <td>smart</td>\n",
       "      <td>0</td>\n",
       "      <td>282</td>\n",
       "      <td>171</td>\n",
       "      <td>63</td>\n",
       "      <td>0</td>\n",
       "      <td>165</td>\n",
       "      <td>246</td>\n",
       "      <td>81</td>\n",
       "      <td>0</td>\n",
       "      <td>0</td>\n",
       "      <td>486</td>\n",
       "      <td>54</td>\n",
       "    </tr>\n",
       "    <tr>\n",
       "      <th>497</th>\n",
       "      <td>1497</td>\n",
       "      <td>smart</td>\n",
       "      <td>0</td>\n",
       "      <td>0</td>\n",
       "      <td>0</td>\n",
       "      <td>0</td>\n",
       "      <td>0</td>\n",
       "      <td>0</td>\n",
       "      <td>0</td>\n",
       "      <td>0</td>\n",
       "      <td>0</td>\n",
       "      <td>0</td>\n",
       "      <td>0</td>\n",
       "      <td>135</td>\n",
       "    </tr>\n",
       "    <tr>\n",
       "      <th>498</th>\n",
       "      <td>1498</td>\n",
       "      <td>smart</td>\n",
       "      <td>0</td>\n",
       "      <td>0</td>\n",
       "      <td>0</td>\n",
       "      <td>0</td>\n",
       "      <td>0</td>\n",
       "      <td>0</td>\n",
       "      <td>0</td>\n",
       "      <td>0</td>\n",
       "      <td>0</td>\n",
       "      <td>0</td>\n",
       "      <td>0</td>\n",
       "      <td>0</td>\n",
       "    </tr>\n",
       "    <tr>\n",
       "      <th>499</th>\n",
       "      <td>1499</td>\n",
       "      <td>smart</td>\n",
       "      <td>0</td>\n",
       "      <td>0</td>\n",
       "      <td>0</td>\n",
       "      <td>0</td>\n",
       "      <td>0</td>\n",
       "      <td>0</td>\n",
       "      <td>0</td>\n",
       "      <td>0</td>\n",
       "      <td>0</td>\n",
       "      <td>0</td>\n",
       "      <td>336</td>\n",
       "      <td>0</td>\n",
       "    </tr>\n",
       "  </tbody>\n",
       "</table>\n",
       "<p>500 rows × 14 columns</p>\n",
       "</div>"
      ],
      "text/plain": [
       "     user_id tariff  1    2    3   4  5    6    7   8  9  10   11   12\n",
       "0       1000  ultra  0    0    0   0  0    0    0   0  0   0    0    0\n",
       "1       1001  smart  0    0    0   0  0    0    0   0  0   0    0    0\n",
       "2       1002  smart  0    0    0   0  0    0    0   0  0   0    0    0\n",
       "3       1003  ultra  0    0    0   0  0    0    0   0  0   0    0    0\n",
       "4       1004  ultra  0    0    0   0  0    0    0   0  0   0    0    0\n",
       "..       ...    ... ..  ...  ...  .. ..  ...  ...  .. ..  ..  ...  ...\n",
       "495     1495  ultra  0    0    0   0  0    0    0   0  0   0    0    0\n",
       "496     1496  smart  0  282  171  63  0  165  246  81  0   0  486   54\n",
       "497     1497  smart  0    0    0   0  0    0    0   0  0   0    0  135\n",
       "498     1498  smart  0    0    0   0  0    0    0   0  0   0    0    0\n",
       "499     1499  smart  0    0    0   0  0    0    0   0  0   0  336    0\n",
       "\n",
       "[500 rows x 14 columns]"
      ]
     },
     "execution_count": 65,
     "metadata": {},
     "output_type": "execute_result"
    }
   ],
   "source": [
    "# вызов функции для расчета сумм за израсходованные минуты звонков сверх лимита по тарифам\n",
    "df_calls_trf_ov = count_revenue(df_calls_trf_ov, 3000, 1, 500, 3)\n",
    "df_calls_trf_ov"
   ]
  },
  {
   "cell_type": "code",
   "execution_count": 66,
   "id": "5247f264",
   "metadata": {},
   "outputs": [
    {
     "data": {
      "text/html": [
       "<div>\n",
       "<style scoped>\n",
       "    .dataframe tbody tr th:only-of-type {\n",
       "        vertical-align: middle;\n",
       "    }\n",
       "\n",
       "    .dataframe tbody tr th {\n",
       "        vertical-align: top;\n",
       "    }\n",
       "\n",
       "    .dataframe thead th {\n",
       "        text-align: right;\n",
       "    }\n",
       "</style>\n",
       "<table border=\"1\" class=\"dataframe\">\n",
       "  <thead>\n",
       "    <tr style=\"text-align: right;\">\n",
       "      <th></th>\n",
       "      <th>user_id</th>\n",
       "      <th>tariff</th>\n",
       "      <th>1</th>\n",
       "      <th>2</th>\n",
       "      <th>3</th>\n",
       "      <th>4</th>\n",
       "      <th>5</th>\n",
       "      <th>6</th>\n",
       "      <th>7</th>\n",
       "      <th>8</th>\n",
       "      <th>9</th>\n",
       "      <th>10</th>\n",
       "      <th>11</th>\n",
       "      <th>12</th>\n",
       "    </tr>\n",
       "  </thead>\n",
       "  <tbody>\n",
       "    <tr>\n",
       "      <th>0</th>\n",
       "      <td>1000</td>\n",
       "      <td>ultra</td>\n",
       "      <td>0</td>\n",
       "      <td>0</td>\n",
       "      <td>0</td>\n",
       "      <td>0</td>\n",
       "      <td>0</td>\n",
       "      <td>0</td>\n",
       "      <td>0</td>\n",
       "      <td>0</td>\n",
       "      <td>0</td>\n",
       "      <td>0</td>\n",
       "      <td>0</td>\n",
       "      <td>0</td>\n",
       "    </tr>\n",
       "    <tr>\n",
       "      <th>1</th>\n",
       "      <td>1001</td>\n",
       "      <td>smart</td>\n",
       "      <td>0</td>\n",
       "      <td>0</td>\n",
       "      <td>0</td>\n",
       "      <td>0</td>\n",
       "      <td>0</td>\n",
       "      <td>0</td>\n",
       "      <td>0</td>\n",
       "      <td>0</td>\n",
       "      <td>0</td>\n",
       "      <td>0</td>\n",
       "      <td>0</td>\n",
       "      <td>0</td>\n",
       "    </tr>\n",
       "    <tr>\n",
       "      <th>2</th>\n",
       "      <td>1002</td>\n",
       "      <td>smart</td>\n",
       "      <td>0</td>\n",
       "      <td>0</td>\n",
       "      <td>0</td>\n",
       "      <td>0</td>\n",
       "      <td>0</td>\n",
       "      <td>0</td>\n",
       "      <td>0</td>\n",
       "      <td>0</td>\n",
       "      <td>0</td>\n",
       "      <td>0</td>\n",
       "      <td>0</td>\n",
       "      <td>0</td>\n",
       "    </tr>\n",
       "    <tr>\n",
       "      <th>3</th>\n",
       "      <td>1003</td>\n",
       "      <td>ultra</td>\n",
       "      <td>0</td>\n",
       "      <td>0</td>\n",
       "      <td>0</td>\n",
       "      <td>0</td>\n",
       "      <td>0</td>\n",
       "      <td>0</td>\n",
       "      <td>0</td>\n",
       "      <td>0</td>\n",
       "      <td>0</td>\n",
       "      <td>0</td>\n",
       "      <td>0</td>\n",
       "      <td>0</td>\n",
       "    </tr>\n",
       "    <tr>\n",
       "      <th>4</th>\n",
       "      <td>1004</td>\n",
       "      <td>ultra</td>\n",
       "      <td>0</td>\n",
       "      <td>0</td>\n",
       "      <td>0</td>\n",
       "      <td>0</td>\n",
       "      <td>0</td>\n",
       "      <td>0</td>\n",
       "      <td>0</td>\n",
       "      <td>0</td>\n",
       "      <td>0</td>\n",
       "      <td>0</td>\n",
       "      <td>0</td>\n",
       "      <td>0</td>\n",
       "    </tr>\n",
       "    <tr>\n",
       "      <th>...</th>\n",
       "      <td>...</td>\n",
       "      <td>...</td>\n",
       "      <td>...</td>\n",
       "      <td>...</td>\n",
       "      <td>...</td>\n",
       "      <td>...</td>\n",
       "      <td>...</td>\n",
       "      <td>...</td>\n",
       "      <td>...</td>\n",
       "      <td>...</td>\n",
       "      <td>...</td>\n",
       "      <td>...</td>\n",
       "      <td>...</td>\n",
       "      <td>...</td>\n",
       "    </tr>\n",
       "    <tr>\n",
       "      <th>495</th>\n",
       "      <td>1495</td>\n",
       "      <td>ultra</td>\n",
       "      <td>0</td>\n",
       "      <td>0</td>\n",
       "      <td>0</td>\n",
       "      <td>0</td>\n",
       "      <td>0</td>\n",
       "      <td>0</td>\n",
       "      <td>0</td>\n",
       "      <td>0</td>\n",
       "      <td>0</td>\n",
       "      <td>0</td>\n",
       "      <td>0</td>\n",
       "      <td>0</td>\n",
       "    </tr>\n",
       "    <tr>\n",
       "      <th>496</th>\n",
       "      <td>1496</td>\n",
       "      <td>smart</td>\n",
       "      <td>0</td>\n",
       "      <td>0</td>\n",
       "      <td>0</td>\n",
       "      <td>0</td>\n",
       "      <td>0</td>\n",
       "      <td>0</td>\n",
       "      <td>0</td>\n",
       "      <td>0</td>\n",
       "      <td>0</td>\n",
       "      <td>0</td>\n",
       "      <td>0</td>\n",
       "      <td>3</td>\n",
       "    </tr>\n",
       "    <tr>\n",
       "      <th>497</th>\n",
       "      <td>1497</td>\n",
       "      <td>smart</td>\n",
       "      <td>0</td>\n",
       "      <td>0</td>\n",
       "      <td>0</td>\n",
       "      <td>0</td>\n",
       "      <td>0</td>\n",
       "      <td>0</td>\n",
       "      <td>0</td>\n",
       "      <td>0</td>\n",
       "      <td>0</td>\n",
       "      <td>0</td>\n",
       "      <td>0</td>\n",
       "      <td>0</td>\n",
       "    </tr>\n",
       "    <tr>\n",
       "      <th>498</th>\n",
       "      <td>1498</td>\n",
       "      <td>smart</td>\n",
       "      <td>0</td>\n",
       "      <td>0</td>\n",
       "      <td>0</td>\n",
       "      <td>0</td>\n",
       "      <td>0</td>\n",
       "      <td>0</td>\n",
       "      <td>0</td>\n",
       "      <td>36</td>\n",
       "      <td>0</td>\n",
       "      <td>0</td>\n",
       "      <td>0</td>\n",
       "      <td>0</td>\n",
       "    </tr>\n",
       "    <tr>\n",
       "      <th>499</th>\n",
       "      <td>1499</td>\n",
       "      <td>smart</td>\n",
       "      <td>0</td>\n",
       "      <td>0</td>\n",
       "      <td>0</td>\n",
       "      <td>0</td>\n",
       "      <td>0</td>\n",
       "      <td>0</td>\n",
       "      <td>0</td>\n",
       "      <td>0</td>\n",
       "      <td>0</td>\n",
       "      <td>0</td>\n",
       "      <td>27</td>\n",
       "      <td>48</td>\n",
       "    </tr>\n",
       "  </tbody>\n",
       "</table>\n",
       "<p>500 rows × 14 columns</p>\n",
       "</div>"
      ],
      "text/plain": [
       "     user_id tariff  1  2  3  4  5  6  7   8  9  10  11  12\n",
       "0       1000  ultra  0  0  0  0  0  0  0   0  0   0   0   0\n",
       "1       1001  smart  0  0  0  0  0  0  0   0  0   0   0   0\n",
       "2       1002  smart  0  0  0  0  0  0  0   0  0   0   0   0\n",
       "3       1003  ultra  0  0  0  0  0  0  0   0  0   0   0   0\n",
       "4       1004  ultra  0  0  0  0  0  0  0   0  0   0   0   0\n",
       "..       ...    ... .. .. .. .. .. .. ..  .. ..  ..  ..  ..\n",
       "495     1495  ultra  0  0  0  0  0  0  0   0  0   0   0   0\n",
       "496     1496  smart  0  0  0  0  0  0  0   0  0   0   0   3\n",
       "497     1497  smart  0  0  0  0  0  0  0   0  0   0   0   0\n",
       "498     1498  smart  0  0  0  0  0  0  0  36  0   0   0   0\n",
       "499     1499  smart  0  0  0  0  0  0  0   0  0   0  27  48\n",
       "\n",
       "[500 rows x 14 columns]"
      ]
     },
     "execution_count": 66,
     "metadata": {},
     "output_type": "execute_result"
    }
   ],
   "source": [
    "# вызов функции для расчета сумм за израсходованные смс-сообщения сверх лимита по тарифам\n",
    "df_messages_trf_ov = count_revenue(df_messages_trf_ov, 1000, 1, 50, 3)\n",
    "df_messages_trf_ov"
   ]
  },
  {
   "cell_type": "code",
   "execution_count": 67,
   "id": "70da4fa4",
   "metadata": {},
   "outputs": [
    {
     "data": {
      "text/html": [
       "<div>\n",
       "<style scoped>\n",
       "    .dataframe tbody tr th:only-of-type {\n",
       "        vertical-align: middle;\n",
       "    }\n",
       "\n",
       "    .dataframe tbody tr th {\n",
       "        vertical-align: top;\n",
       "    }\n",
       "\n",
       "    .dataframe thead th {\n",
       "        text-align: right;\n",
       "    }\n",
       "</style>\n",
       "<table border=\"1\" class=\"dataframe\">\n",
       "  <thead>\n",
       "    <tr style=\"text-align: right;\">\n",
       "      <th></th>\n",
       "      <th>user_id</th>\n",
       "      <th>tariff</th>\n",
       "      <th>1</th>\n",
       "      <th>2</th>\n",
       "      <th>3</th>\n",
       "      <th>4</th>\n",
       "      <th>5</th>\n",
       "      <th>6</th>\n",
       "      <th>7</th>\n",
       "      <th>8</th>\n",
       "      <th>9</th>\n",
       "      <th>10</th>\n",
       "      <th>11</th>\n",
       "      <th>12</th>\n",
       "    </tr>\n",
       "  </thead>\n",
       "  <tbody>\n",
       "    <tr>\n",
       "      <th>0</th>\n",
       "      <td>1000</td>\n",
       "      <td>ultra</td>\n",
       "      <td>0</td>\n",
       "      <td>0</td>\n",
       "      <td>0</td>\n",
       "      <td>0</td>\n",
       "      <td>0</td>\n",
       "      <td>0</td>\n",
       "      <td>0</td>\n",
       "      <td>0</td>\n",
       "      <td>0</td>\n",
       "      <td>0</td>\n",
       "      <td>0</td>\n",
       "      <td>0</td>\n",
       "    </tr>\n",
       "    <tr>\n",
       "      <th>1</th>\n",
       "      <td>1001</td>\n",
       "      <td>smart</td>\n",
       "      <td>0</td>\n",
       "      <td>0</td>\n",
       "      <td>0</td>\n",
       "      <td>0</td>\n",
       "      <td>0</td>\n",
       "      <td>0</td>\n",
       "      <td>0</td>\n",
       "      <td>0</td>\n",
       "      <td>0</td>\n",
       "      <td>0</td>\n",
       "      <td>0</td>\n",
       "      <td>0</td>\n",
       "    </tr>\n",
       "    <tr>\n",
       "      <th>2</th>\n",
       "      <td>1002</td>\n",
       "      <td>smart</td>\n",
       "      <td>0</td>\n",
       "      <td>0</td>\n",
       "      <td>0</td>\n",
       "      <td>0</td>\n",
       "      <td>0</td>\n",
       "      <td>0</td>\n",
       "      <td>600</td>\n",
       "      <td>1000</td>\n",
       "      <td>400</td>\n",
       "      <td>0</td>\n",
       "      <td>800</td>\n",
       "      <td>600</td>\n",
       "    </tr>\n",
       "    <tr>\n",
       "      <th>3</th>\n",
       "      <td>1003</td>\n",
       "      <td>ultra</td>\n",
       "      <td>0</td>\n",
       "      <td>0</td>\n",
       "      <td>0</td>\n",
       "      <td>0</td>\n",
       "      <td>0</td>\n",
       "      <td>0</td>\n",
       "      <td>0</td>\n",
       "      <td>0</td>\n",
       "      <td>0</td>\n",
       "      <td>0</td>\n",
       "      <td>0</td>\n",
       "      <td>0</td>\n",
       "    </tr>\n",
       "    <tr>\n",
       "      <th>4</th>\n",
       "      <td>1004</td>\n",
       "      <td>ultra</td>\n",
       "      <td>0</td>\n",
       "      <td>0</td>\n",
       "      <td>0</td>\n",
       "      <td>0</td>\n",
       "      <td>0</td>\n",
       "      <td>0</td>\n",
       "      <td>0</td>\n",
       "      <td>0</td>\n",
       "      <td>0</td>\n",
       "      <td>0</td>\n",
       "      <td>0</td>\n",
       "      <td>0</td>\n",
       "    </tr>\n",
       "    <tr>\n",
       "      <th>...</th>\n",
       "      <td>...</td>\n",
       "      <td>...</td>\n",
       "      <td>...</td>\n",
       "      <td>...</td>\n",
       "      <td>...</td>\n",
       "      <td>...</td>\n",
       "      <td>...</td>\n",
       "      <td>...</td>\n",
       "      <td>...</td>\n",
       "      <td>...</td>\n",
       "      <td>...</td>\n",
       "      <td>...</td>\n",
       "      <td>...</td>\n",
       "      <td>...</td>\n",
       "    </tr>\n",
       "    <tr>\n",
       "      <th>495</th>\n",
       "      <td>1495</td>\n",
       "      <td>ultra</td>\n",
       "      <td>0</td>\n",
       "      <td>0</td>\n",
       "      <td>0</td>\n",
       "      <td>0</td>\n",
       "      <td>0</td>\n",
       "      <td>0</td>\n",
       "      <td>0</td>\n",
       "      <td>0</td>\n",
       "      <td>450</td>\n",
       "      <td>0</td>\n",
       "      <td>1350</td>\n",
       "      <td>0</td>\n",
       "    </tr>\n",
       "    <tr>\n",
       "      <th>496</th>\n",
       "      <td>1496</td>\n",
       "      <td>smart</td>\n",
       "      <td>0</td>\n",
       "      <td>2600</td>\n",
       "      <td>2000</td>\n",
       "      <td>1200</td>\n",
       "      <td>1800</td>\n",
       "      <td>1000</td>\n",
       "      <td>1800</td>\n",
       "      <td>1600</td>\n",
       "      <td>2400</td>\n",
       "      <td>2600</td>\n",
       "      <td>2000</td>\n",
       "      <td>1200</td>\n",
       "    </tr>\n",
       "    <tr>\n",
       "      <th>497</th>\n",
       "      <td>1497</td>\n",
       "      <td>smart</td>\n",
       "      <td>0</td>\n",
       "      <td>0</td>\n",
       "      <td>0</td>\n",
       "      <td>0</td>\n",
       "      <td>0</td>\n",
       "      <td>0</td>\n",
       "      <td>0</td>\n",
       "      <td>0</td>\n",
       "      <td>0</td>\n",
       "      <td>0</td>\n",
       "      <td>0</td>\n",
       "      <td>1000</td>\n",
       "    </tr>\n",
       "    <tr>\n",
       "      <th>498</th>\n",
       "      <td>1498</td>\n",
       "      <td>smart</td>\n",
       "      <td>0</td>\n",
       "      <td>0</td>\n",
       "      <td>0</td>\n",
       "      <td>0</td>\n",
       "      <td>0</td>\n",
       "      <td>0</td>\n",
       "      <td>0</td>\n",
       "      <td>1800</td>\n",
       "      <td>1400</td>\n",
       "      <td>0</td>\n",
       "      <td>0</td>\n",
       "      <td>0</td>\n",
       "    </tr>\n",
       "    <tr>\n",
       "      <th>499</th>\n",
       "      <td>1499</td>\n",
       "      <td>smart</td>\n",
       "      <td>0</td>\n",
       "      <td>0</td>\n",
       "      <td>0</td>\n",
       "      <td>0</td>\n",
       "      <td>0</td>\n",
       "      <td>0</td>\n",
       "      <td>0</td>\n",
       "      <td>0</td>\n",
       "      <td>0</td>\n",
       "      <td>600</td>\n",
       "      <td>600</td>\n",
       "      <td>0</td>\n",
       "    </tr>\n",
       "  </tbody>\n",
       "</table>\n",
       "<p>500 rows × 14 columns</p>\n",
       "</div>"
      ],
      "text/plain": [
       "     user_id tariff  1     2     3     4     5     6     7     8     9    10  \\\n",
       "0       1000  ultra  0     0     0     0     0     0     0     0     0     0   \n",
       "1       1001  smart  0     0     0     0     0     0     0     0     0     0   \n",
       "2       1002  smart  0     0     0     0     0     0   600  1000   400     0   \n",
       "3       1003  ultra  0     0     0     0     0     0     0     0     0     0   \n",
       "4       1004  ultra  0     0     0     0     0     0     0     0     0     0   \n",
       "..       ...    ... ..   ...   ...   ...   ...   ...   ...   ...   ...   ...   \n",
       "495     1495  ultra  0     0     0     0     0     0     0     0   450     0   \n",
       "496     1496  smart  0  2600  2000  1200  1800  1000  1800  1600  2400  2600   \n",
       "497     1497  smart  0     0     0     0     0     0     0     0     0     0   \n",
       "498     1498  smart  0     0     0     0     0     0     0  1800  1400     0   \n",
       "499     1499  smart  0     0     0     0     0     0     0     0     0   600   \n",
       "\n",
       "       11    12  \n",
       "0       0     0  \n",
       "1       0     0  \n",
       "2     800   600  \n",
       "3       0     0  \n",
       "4       0     0  \n",
       "..    ...   ...  \n",
       "495  1350     0  \n",
       "496  2000  1200  \n",
       "497     0  1000  \n",
       "498     0     0  \n",
       "499   600     0  \n",
       "\n",
       "[500 rows x 14 columns]"
      ]
     },
     "execution_count": 67,
     "metadata": {},
     "output_type": "execute_result"
    }
   ],
   "source": [
    "# вызов функции для расчета сумм за израсходованный интернет-траффик сверх лимита по тарифам\n",
    "df_internet_trf_ov = count_revenue(df_internet_trf_ov, 30, 150, 15, 200)\n",
    "df_internet_trf_ov"
   ]
  },
  {
   "cell_type": "markdown",
   "id": "bbff6c5d",
   "metadata": {},
   "source": [
    "Создадим датафрейм, который заполним данными об общей выручке с клиентов по месяцам с учетом абонентской платы и платежей свверх нее."
   ]
  },
  {
   "cell_type": "code",
   "execution_count": 68,
   "id": "0decac6c",
   "metadata": {},
   "outputs": [
    {
     "data": {
      "text/html": [
       "<div>\n",
       "<style scoped>\n",
       "    .dataframe tbody tr th:only-of-type {\n",
       "        vertical-align: middle;\n",
       "    }\n",
       "\n",
       "    .dataframe tbody tr th {\n",
       "        vertical-align: top;\n",
       "    }\n",
       "\n",
       "    .dataframe thead th {\n",
       "        text-align: right;\n",
       "    }\n",
       "</style>\n",
       "<table border=\"1\" class=\"dataframe\">\n",
       "  <thead>\n",
       "    <tr style=\"text-align: right;\">\n",
       "      <th></th>\n",
       "      <th>user_id</th>\n",
       "      <th>tariff</th>\n",
       "      <th>1</th>\n",
       "      <th>2</th>\n",
       "      <th>3</th>\n",
       "      <th>4</th>\n",
       "      <th>5</th>\n",
       "      <th>6</th>\n",
       "      <th>7</th>\n",
       "      <th>8</th>\n",
       "      <th>9</th>\n",
       "      <th>10</th>\n",
       "      <th>11</th>\n",
       "      <th>12</th>\n",
       "    </tr>\n",
       "  </thead>\n",
       "  <tbody>\n",
       "    <tr>\n",
       "      <th>0</th>\n",
       "      <td>1000</td>\n",
       "      <td>ultra</td>\n",
       "      <td>0</td>\n",
       "      <td>0</td>\n",
       "      <td>0</td>\n",
       "      <td>0</td>\n",
       "      <td>0</td>\n",
       "      <td>172</td>\n",
       "      <td>340</td>\n",
       "      <td>408</td>\n",
       "      <td>466</td>\n",
       "      <td>350</td>\n",
       "      <td>338</td>\n",
       "      <td>333</td>\n",
       "    </tr>\n",
       "    <tr>\n",
       "      <th>1</th>\n",
       "      <td>1001</td>\n",
       "      <td>smart</td>\n",
       "      <td>0</td>\n",
       "      <td>0</td>\n",
       "      <td>0</td>\n",
       "      <td>0</td>\n",
       "      <td>0</td>\n",
       "      <td>0</td>\n",
       "      <td>0</td>\n",
       "      <td>0</td>\n",
       "      <td>0</td>\n",
       "      <td>0</td>\n",
       "      <td>0</td>\n",
       "      <td>414</td>\n",
       "    </tr>\n",
       "    <tr>\n",
       "      <th>2</th>\n",
       "      <td>1002</td>\n",
       "      <td>smart</td>\n",
       "      <td>0</td>\n",
       "      <td>0</td>\n",
       "      <td>0</td>\n",
       "      <td>0</td>\n",
       "      <td>0</td>\n",
       "      <td>0</td>\n",
       "      <td>214</td>\n",
       "      <td>289</td>\n",
       "      <td>206</td>\n",
       "      <td>212</td>\n",
       "      <td>243</td>\n",
       "      <td>236</td>\n",
       "    </tr>\n",
       "    <tr>\n",
       "      <th>3</th>\n",
       "      <td>1003</td>\n",
       "      <td>ultra</td>\n",
       "      <td>0</td>\n",
       "      <td>0</td>\n",
       "      <td>0</td>\n",
       "      <td>0</td>\n",
       "      <td>0</td>\n",
       "      <td>0</td>\n",
       "      <td>0</td>\n",
       "      <td>0</td>\n",
       "      <td>961</td>\n",
       "      <td>855</td>\n",
       "      <td>824</td>\n",
       "      <td>802</td>\n",
       "    </tr>\n",
       "    <tr>\n",
       "      <th>4</th>\n",
       "      <td>1004</td>\n",
       "      <td>ultra</td>\n",
       "      <td>0</td>\n",
       "      <td>0</td>\n",
       "      <td>0</td>\n",
       "      <td>0</td>\n",
       "      <td>0</td>\n",
       "      <td>171</td>\n",
       "      <td>135</td>\n",
       "      <td>137</td>\n",
       "      <td>117</td>\n",
       "      <td>145</td>\n",
       "      <td>117</td>\n",
       "      <td>130</td>\n",
       "    </tr>\n",
       "    <tr>\n",
       "      <th>...</th>\n",
       "      <td>...</td>\n",
       "      <td>...</td>\n",
       "      <td>...</td>\n",
       "      <td>...</td>\n",
       "      <td>...</td>\n",
       "      <td>...</td>\n",
       "      <td>...</td>\n",
       "      <td>...</td>\n",
       "      <td>...</td>\n",
       "      <td>...</td>\n",
       "      <td>...</td>\n",
       "      <td>...</td>\n",
       "      <td>...</td>\n",
       "      <td>...</td>\n",
       "    </tr>\n",
       "    <tr>\n",
       "      <th>495</th>\n",
       "      <td>1495</td>\n",
       "      <td>ultra</td>\n",
       "      <td>0</td>\n",
       "      <td>0</td>\n",
       "      <td>0</td>\n",
       "      <td>0</td>\n",
       "      <td>0</td>\n",
       "      <td>0</td>\n",
       "      <td>0</td>\n",
       "      <td>0</td>\n",
       "      <td>813</td>\n",
       "      <td>1030</td>\n",
       "      <td>954</td>\n",
       "      <td>1031</td>\n",
       "    </tr>\n",
       "    <tr>\n",
       "      <th>496</th>\n",
       "      <td>1496</td>\n",
       "      <td>smart</td>\n",
       "      <td>0</td>\n",
       "      <td>594</td>\n",
       "      <td>557</td>\n",
       "      <td>521</td>\n",
       "      <td>484</td>\n",
       "      <td>555</td>\n",
       "      <td>582</td>\n",
       "      <td>527</td>\n",
       "      <td>486</td>\n",
       "      <td>450</td>\n",
       "      <td>662</td>\n",
       "      <td>518</td>\n",
       "    </tr>\n",
       "    <tr>\n",
       "      <th>497</th>\n",
       "      <td>1497</td>\n",
       "      <td>smart</td>\n",
       "      <td>0</td>\n",
       "      <td>0</td>\n",
       "      <td>0</td>\n",
       "      <td>0</td>\n",
       "      <td>0</td>\n",
       "      <td>0</td>\n",
       "      <td>0</td>\n",
       "      <td>0</td>\n",
       "      <td>0</td>\n",
       "      <td>0</td>\n",
       "      <td>371</td>\n",
       "      <td>545</td>\n",
       "    </tr>\n",
       "    <tr>\n",
       "      <th>498</th>\n",
       "      <td>1498</td>\n",
       "      <td>smart</td>\n",
       "      <td>0</td>\n",
       "      <td>0</td>\n",
       "      <td>0</td>\n",
       "      <td>0</td>\n",
       "      <td>0</td>\n",
       "      <td>0</td>\n",
       "      <td>0</td>\n",
       "      <td>400</td>\n",
       "      <td>471</td>\n",
       "      <td>0</td>\n",
       "      <td>0</td>\n",
       "      <td>0</td>\n",
       "    </tr>\n",
       "    <tr>\n",
       "      <th>499</th>\n",
       "      <td>1499</td>\n",
       "      <td>smart</td>\n",
       "      <td>0</td>\n",
       "      <td>0</td>\n",
       "      <td>0</td>\n",
       "      <td>0</td>\n",
       "      <td>0</td>\n",
       "      <td>0</td>\n",
       "      <td>0</td>\n",
       "      <td>0</td>\n",
       "      <td>0</td>\n",
       "      <td>449</td>\n",
       "      <td>612</td>\n",
       "      <td>492</td>\n",
       "    </tr>\n",
       "  </tbody>\n",
       "</table>\n",
       "<p>500 rows × 14 columns</p>\n",
       "</div>"
      ],
      "text/plain": [
       "     user_id tariff  1    2    3    4    5    6    7    8    9    10   11  \\\n",
       "0       1000  ultra  0    0    0    0    0  172  340  408  466   350  338   \n",
       "1       1001  smart  0    0    0    0    0    0    0    0    0     0    0   \n",
       "2       1002  smart  0    0    0    0    0    0  214  289  206   212  243   \n",
       "3       1003  ultra  0    0    0    0    0    0    0    0  961   855  824   \n",
       "4       1004  ultra  0    0    0    0    0  171  135  137  117   145  117   \n",
       "..       ...    ... ..  ...  ...  ...  ...  ...  ...  ...  ...   ...  ...   \n",
       "495     1495  ultra  0    0    0    0    0    0    0    0  813  1030  954   \n",
       "496     1496  smart  0  594  557  521  484  555  582  527  486   450  662   \n",
       "497     1497  smart  0    0    0    0    0    0    0    0    0     0  371   \n",
       "498     1498  smart  0    0    0    0    0    0    0  400  471     0    0   \n",
       "499     1499  smart  0    0    0    0    0    0    0    0    0   449  612   \n",
       "\n",
       "       12  \n",
       "0     333  \n",
       "1     414  \n",
       "2     236  \n",
       "3     802  \n",
       "4     130  \n",
       "..    ...  \n",
       "495  1031  \n",
       "496   518  \n",
       "497   545  \n",
       "498     0  \n",
       "499   492  \n",
       "\n",
       "[500 rows x 14 columns]"
      ]
     },
     "execution_count": 68,
     "metadata": {},
     "output_type": "execute_result"
    }
   ],
   "source": [
    "# создание копии датафрейма\n",
    "df_total_revenue = df_calls_trf.copy(deep=True)\n",
    "df_total_revenue"
   ]
  },
  {
   "cell_type": "code",
   "execution_count": 69,
   "id": "e513ce1a",
   "metadata": {},
   "outputs": [
    {
     "data": {
      "text/html": [
       "<div>\n",
       "<style scoped>\n",
       "    .dataframe tbody tr th:only-of-type {\n",
       "        vertical-align: middle;\n",
       "    }\n",
       "\n",
       "    .dataframe tbody tr th {\n",
       "        vertical-align: top;\n",
       "    }\n",
       "\n",
       "    .dataframe thead th {\n",
       "        text-align: right;\n",
       "    }\n",
       "</style>\n",
       "<table border=\"1\" class=\"dataframe\">\n",
       "  <thead>\n",
       "    <tr style=\"text-align: right;\">\n",
       "      <th></th>\n",
       "      <th>user_id</th>\n",
       "      <th>tariff</th>\n",
       "      <th>1</th>\n",
       "      <th>2</th>\n",
       "      <th>3</th>\n",
       "      <th>4</th>\n",
       "      <th>5</th>\n",
       "      <th>6</th>\n",
       "      <th>7</th>\n",
       "      <th>8</th>\n",
       "      <th>9</th>\n",
       "      <th>10</th>\n",
       "      <th>11</th>\n",
       "      <th>12</th>\n",
       "    </tr>\n",
       "  </thead>\n",
       "  <tbody>\n",
       "    <tr>\n",
       "      <th>0</th>\n",
       "      <td>1000</td>\n",
       "      <td>ultra</td>\n",
       "      <td>0</td>\n",
       "      <td>0</td>\n",
       "      <td>0</td>\n",
       "      <td>0</td>\n",
       "      <td>0</td>\n",
       "      <td>0</td>\n",
       "      <td>0</td>\n",
       "      <td>0</td>\n",
       "      <td>0</td>\n",
       "      <td>0</td>\n",
       "      <td>0</td>\n",
       "      <td>0</td>\n",
       "    </tr>\n",
       "    <tr>\n",
       "      <th>1</th>\n",
       "      <td>1001</td>\n",
       "      <td>smart</td>\n",
       "      <td>0</td>\n",
       "      <td>0</td>\n",
       "      <td>0</td>\n",
       "      <td>0</td>\n",
       "      <td>0</td>\n",
       "      <td>0</td>\n",
       "      <td>0</td>\n",
       "      <td>0</td>\n",
       "      <td>0</td>\n",
       "      <td>0</td>\n",
       "      <td>0</td>\n",
       "      <td>0</td>\n",
       "    </tr>\n",
       "    <tr>\n",
       "      <th>2</th>\n",
       "      <td>1002</td>\n",
       "      <td>smart</td>\n",
       "      <td>0</td>\n",
       "      <td>0</td>\n",
       "      <td>0</td>\n",
       "      <td>0</td>\n",
       "      <td>0</td>\n",
       "      <td>0</td>\n",
       "      <td>0</td>\n",
       "      <td>0</td>\n",
       "      <td>0</td>\n",
       "      <td>0</td>\n",
       "      <td>0</td>\n",
       "      <td>0</td>\n",
       "    </tr>\n",
       "    <tr>\n",
       "      <th>3</th>\n",
       "      <td>1003</td>\n",
       "      <td>ultra</td>\n",
       "      <td>0</td>\n",
       "      <td>0</td>\n",
       "      <td>0</td>\n",
       "      <td>0</td>\n",
       "      <td>0</td>\n",
       "      <td>0</td>\n",
       "      <td>0</td>\n",
       "      <td>0</td>\n",
       "      <td>0</td>\n",
       "      <td>0</td>\n",
       "      <td>0</td>\n",
       "      <td>0</td>\n",
       "    </tr>\n",
       "    <tr>\n",
       "      <th>4</th>\n",
       "      <td>1004</td>\n",
       "      <td>ultra</td>\n",
       "      <td>0</td>\n",
       "      <td>0</td>\n",
       "      <td>0</td>\n",
       "      <td>0</td>\n",
       "      <td>0</td>\n",
       "      <td>0</td>\n",
       "      <td>0</td>\n",
       "      <td>0</td>\n",
       "      <td>0</td>\n",
       "      <td>0</td>\n",
       "      <td>0</td>\n",
       "      <td>0</td>\n",
       "    </tr>\n",
       "    <tr>\n",
       "      <th>...</th>\n",
       "      <td>...</td>\n",
       "      <td>...</td>\n",
       "      <td>...</td>\n",
       "      <td>...</td>\n",
       "      <td>...</td>\n",
       "      <td>...</td>\n",
       "      <td>...</td>\n",
       "      <td>...</td>\n",
       "      <td>...</td>\n",
       "      <td>...</td>\n",
       "      <td>...</td>\n",
       "      <td>...</td>\n",
       "      <td>...</td>\n",
       "      <td>...</td>\n",
       "    </tr>\n",
       "    <tr>\n",
       "      <th>495</th>\n",
       "      <td>1495</td>\n",
       "      <td>ultra</td>\n",
       "      <td>0</td>\n",
       "      <td>0</td>\n",
       "      <td>0</td>\n",
       "      <td>0</td>\n",
       "      <td>0</td>\n",
       "      <td>0</td>\n",
       "      <td>0</td>\n",
       "      <td>0</td>\n",
       "      <td>0</td>\n",
       "      <td>0</td>\n",
       "      <td>0</td>\n",
       "      <td>0</td>\n",
       "    </tr>\n",
       "    <tr>\n",
       "      <th>496</th>\n",
       "      <td>1496</td>\n",
       "      <td>smart</td>\n",
       "      <td>0</td>\n",
       "      <td>0</td>\n",
       "      <td>0</td>\n",
       "      <td>0</td>\n",
       "      <td>0</td>\n",
       "      <td>0</td>\n",
       "      <td>0</td>\n",
       "      <td>0</td>\n",
       "      <td>0</td>\n",
       "      <td>0</td>\n",
       "      <td>0</td>\n",
       "      <td>0</td>\n",
       "    </tr>\n",
       "    <tr>\n",
       "      <th>497</th>\n",
       "      <td>1497</td>\n",
       "      <td>smart</td>\n",
       "      <td>0</td>\n",
       "      <td>0</td>\n",
       "      <td>0</td>\n",
       "      <td>0</td>\n",
       "      <td>0</td>\n",
       "      <td>0</td>\n",
       "      <td>0</td>\n",
       "      <td>0</td>\n",
       "      <td>0</td>\n",
       "      <td>0</td>\n",
       "      <td>0</td>\n",
       "      <td>0</td>\n",
       "    </tr>\n",
       "    <tr>\n",
       "      <th>498</th>\n",
       "      <td>1498</td>\n",
       "      <td>smart</td>\n",
       "      <td>0</td>\n",
       "      <td>0</td>\n",
       "      <td>0</td>\n",
       "      <td>0</td>\n",
       "      <td>0</td>\n",
       "      <td>0</td>\n",
       "      <td>0</td>\n",
       "      <td>0</td>\n",
       "      <td>0</td>\n",
       "      <td>0</td>\n",
       "      <td>0</td>\n",
       "      <td>0</td>\n",
       "    </tr>\n",
       "    <tr>\n",
       "      <th>499</th>\n",
       "      <td>1499</td>\n",
       "      <td>smart</td>\n",
       "      <td>0</td>\n",
       "      <td>0</td>\n",
       "      <td>0</td>\n",
       "      <td>0</td>\n",
       "      <td>0</td>\n",
       "      <td>0</td>\n",
       "      <td>0</td>\n",
       "      <td>0</td>\n",
       "      <td>0</td>\n",
       "      <td>0</td>\n",
       "      <td>0</td>\n",
       "      <td>0</td>\n",
       "    </tr>\n",
       "  </tbody>\n",
       "</table>\n",
       "<p>500 rows × 14 columns</p>\n",
       "</div>"
      ],
      "text/plain": [
       "     user_id tariff  1  2  3  4  5  6  7  8  9  10  11  12\n",
       "0       1000  ultra  0  0  0  0  0  0  0  0  0   0   0   0\n",
       "1       1001  smart  0  0  0  0  0  0  0  0  0   0   0   0\n",
       "2       1002  smart  0  0  0  0  0  0  0  0  0   0   0   0\n",
       "3       1003  ultra  0  0  0  0  0  0  0  0  0   0   0   0\n",
       "4       1004  ultra  0  0  0  0  0  0  0  0  0   0   0   0\n",
       "..       ...    ... .. .. .. .. .. .. .. .. ..  ..  ..  ..\n",
       "495     1495  ultra  0  0  0  0  0  0  0  0  0   0   0   0\n",
       "496     1496  smart  0  0  0  0  0  0  0  0  0   0   0   0\n",
       "497     1497  smart  0  0  0  0  0  0  0  0  0   0   0   0\n",
       "498     1498  smart  0  0  0  0  0  0  0  0  0   0   0   0\n",
       "499     1499  smart  0  0  0  0  0  0  0  0  0   0   0   0\n",
       "\n",
       "[500 rows x 14 columns]"
      ]
     },
     "execution_count": 69,
     "metadata": {},
     "output_type": "execute_result"
    }
   ],
   "source": [
    "# обнуление значений датафрейма\n",
    "df_total_revenue.loc[:,'1':'12'] = 0 \n",
    "df_total_revenue"
   ]
  },
  {
   "cell_type": "markdown",
   "id": "b041f980",
   "metadata": {},
   "source": [
    "Проитерируем каждую ячейку в таблицах с выполнением условий: если во всех таблицах с итоговыми объемами услуг по месяцам выходит \"0\", то записываем в ячейку с итоговым доходом \"0\". В других случаях, по каждому тарифу заносим в ячейку абонентскую плату плюс суммы за сверхлимитное пользование услугами из соответствующих таблиц. "
   ]
  },
  {
   "cell_type": "code",
   "execution_count": 70,
   "id": "af744e2c",
   "metadata": {},
   "outputs": [],
   "source": [
    "# подсчет общей выручки помесячно по каждому клиенту\n",
    "for i in range(500):\n",
    "    for j in range(2,14):\n",
    "        if df_calls_trf.iloc[i,j] == 0 and df_messages_trf.iloc[i,j] == 0 and df_internet_trf.iloc[i,j] == 0:\n",
    "            df_total_revenue.iloc[i,j] = 0\n",
    "        elif df_total_revenue.iloc[i,1] == 'ultra':\n",
    "            df_total_revenue.iloc[i,j] = 1950 + df_calls_trf_ov.iloc[i,j] + df_messages_trf_ov.iloc[i,j] + df_internet_trf_ov.iloc[i,j]\n",
    "        elif df_total_revenue.iloc[i,1] == 'smart':\n",
    "            df_total_revenue.iloc[i,j] = 550 + df_calls_trf_ov.iloc[i,j] + df_messages_trf_ov.iloc[i,j] + df_internet_trf_ov.iloc[i,j]\n",
    "            \n",
    "            "
   ]
  },
  {
   "cell_type": "code",
   "execution_count": 71,
   "id": "9664b412",
   "metadata": {},
   "outputs": [
    {
     "data": {
      "text/html": [
       "<div>\n",
       "<style scoped>\n",
       "    .dataframe tbody tr th:only-of-type {\n",
       "        vertical-align: middle;\n",
       "    }\n",
       "\n",
       "    .dataframe tbody tr th {\n",
       "        vertical-align: top;\n",
       "    }\n",
       "\n",
       "    .dataframe thead th {\n",
       "        text-align: right;\n",
       "    }\n",
       "</style>\n",
       "<table border=\"1\" class=\"dataframe\">\n",
       "  <thead>\n",
       "    <tr style=\"text-align: right;\">\n",
       "      <th></th>\n",
       "      <th>user_id</th>\n",
       "      <th>tariff</th>\n",
       "      <th>1</th>\n",
       "      <th>2</th>\n",
       "      <th>3</th>\n",
       "      <th>4</th>\n",
       "      <th>5</th>\n",
       "      <th>6</th>\n",
       "      <th>7</th>\n",
       "      <th>8</th>\n",
       "      <th>9</th>\n",
       "      <th>10</th>\n",
       "      <th>11</th>\n",
       "      <th>12</th>\n",
       "    </tr>\n",
       "  </thead>\n",
       "  <tbody>\n",
       "    <tr>\n",
       "      <th>0</th>\n",
       "      <td>1000</td>\n",
       "      <td>ultra</td>\n",
       "      <td>0</td>\n",
       "      <td>0</td>\n",
       "      <td>0</td>\n",
       "      <td>0</td>\n",
       "      <td>0</td>\n",
       "      <td>1950</td>\n",
       "      <td>1950</td>\n",
       "      <td>1950</td>\n",
       "      <td>1950</td>\n",
       "      <td>1950</td>\n",
       "      <td>1950</td>\n",
       "      <td>1950</td>\n",
       "    </tr>\n",
       "    <tr>\n",
       "      <th>1</th>\n",
       "      <td>1001</td>\n",
       "      <td>smart</td>\n",
       "      <td>0</td>\n",
       "      <td>0</td>\n",
       "      <td>0</td>\n",
       "      <td>0</td>\n",
       "      <td>0</td>\n",
       "      <td>0</td>\n",
       "      <td>0</td>\n",
       "      <td>0</td>\n",
       "      <td>0</td>\n",
       "      <td>0</td>\n",
       "      <td>0</td>\n",
       "      <td>550</td>\n",
       "    </tr>\n",
       "    <tr>\n",
       "      <th>2</th>\n",
       "      <td>1002</td>\n",
       "      <td>smart</td>\n",
       "      <td>0</td>\n",
       "      <td>0</td>\n",
       "      <td>0</td>\n",
       "      <td>0</td>\n",
       "      <td>0</td>\n",
       "      <td>0</td>\n",
       "      <td>1150</td>\n",
       "      <td>1550</td>\n",
       "      <td>950</td>\n",
       "      <td>550</td>\n",
       "      <td>1350</td>\n",
       "      <td>1150</td>\n",
       "    </tr>\n",
       "    <tr>\n",
       "      <th>3</th>\n",
       "      <td>1003</td>\n",
       "      <td>ultra</td>\n",
       "      <td>0</td>\n",
       "      <td>0</td>\n",
       "      <td>0</td>\n",
       "      <td>0</td>\n",
       "      <td>0</td>\n",
       "      <td>0</td>\n",
       "      <td>0</td>\n",
       "      <td>0</td>\n",
       "      <td>1950</td>\n",
       "      <td>1950</td>\n",
       "      <td>1950</td>\n",
       "      <td>1950</td>\n",
       "    </tr>\n",
       "    <tr>\n",
       "      <th>4</th>\n",
       "      <td>1004</td>\n",
       "      <td>ultra</td>\n",
       "      <td>0</td>\n",
       "      <td>0</td>\n",
       "      <td>0</td>\n",
       "      <td>0</td>\n",
       "      <td>0</td>\n",
       "      <td>1950</td>\n",
       "      <td>1950</td>\n",
       "      <td>1950</td>\n",
       "      <td>1950</td>\n",
       "      <td>1950</td>\n",
       "      <td>1950</td>\n",
       "      <td>1950</td>\n",
       "    </tr>\n",
       "    <tr>\n",
       "      <th>...</th>\n",
       "      <td>...</td>\n",
       "      <td>...</td>\n",
       "      <td>...</td>\n",
       "      <td>...</td>\n",
       "      <td>...</td>\n",
       "      <td>...</td>\n",
       "      <td>...</td>\n",
       "      <td>...</td>\n",
       "      <td>...</td>\n",
       "      <td>...</td>\n",
       "      <td>...</td>\n",
       "      <td>...</td>\n",
       "      <td>...</td>\n",
       "      <td>...</td>\n",
       "    </tr>\n",
       "    <tr>\n",
       "      <th>495</th>\n",
       "      <td>1495</td>\n",
       "      <td>ultra</td>\n",
       "      <td>0</td>\n",
       "      <td>0</td>\n",
       "      <td>0</td>\n",
       "      <td>0</td>\n",
       "      <td>0</td>\n",
       "      <td>0</td>\n",
       "      <td>0</td>\n",
       "      <td>0</td>\n",
       "      <td>2400</td>\n",
       "      <td>1950</td>\n",
       "      <td>3300</td>\n",
       "      <td>1950</td>\n",
       "    </tr>\n",
       "    <tr>\n",
       "      <th>496</th>\n",
       "      <td>1496</td>\n",
       "      <td>smart</td>\n",
       "      <td>0</td>\n",
       "      <td>3432</td>\n",
       "      <td>2721</td>\n",
       "      <td>1813</td>\n",
       "      <td>2350</td>\n",
       "      <td>1715</td>\n",
       "      <td>2596</td>\n",
       "      <td>2231</td>\n",
       "      <td>2950</td>\n",
       "      <td>3150</td>\n",
       "      <td>3036</td>\n",
       "      <td>1807</td>\n",
       "    </tr>\n",
       "    <tr>\n",
       "      <th>497</th>\n",
       "      <td>1497</td>\n",
       "      <td>smart</td>\n",
       "      <td>0</td>\n",
       "      <td>0</td>\n",
       "      <td>0</td>\n",
       "      <td>0</td>\n",
       "      <td>0</td>\n",
       "      <td>0</td>\n",
       "      <td>0</td>\n",
       "      <td>0</td>\n",
       "      <td>0</td>\n",
       "      <td>0</td>\n",
       "      <td>550</td>\n",
       "      <td>1685</td>\n",
       "    </tr>\n",
       "    <tr>\n",
       "      <th>498</th>\n",
       "      <td>1498</td>\n",
       "      <td>smart</td>\n",
       "      <td>0</td>\n",
       "      <td>0</td>\n",
       "      <td>0</td>\n",
       "      <td>0</td>\n",
       "      <td>0</td>\n",
       "      <td>0</td>\n",
       "      <td>0</td>\n",
       "      <td>2386</td>\n",
       "      <td>1950</td>\n",
       "      <td>0</td>\n",
       "      <td>0</td>\n",
       "      <td>0</td>\n",
       "    </tr>\n",
       "    <tr>\n",
       "      <th>499</th>\n",
       "      <td>1499</td>\n",
       "      <td>smart</td>\n",
       "      <td>0</td>\n",
       "      <td>0</td>\n",
       "      <td>0</td>\n",
       "      <td>0</td>\n",
       "      <td>0</td>\n",
       "      <td>0</td>\n",
       "      <td>0</td>\n",
       "      <td>0</td>\n",
       "      <td>0</td>\n",
       "      <td>1150</td>\n",
       "      <td>1513</td>\n",
       "      <td>598</td>\n",
       "    </tr>\n",
       "  </tbody>\n",
       "</table>\n",
       "<p>500 rows × 14 columns</p>\n",
       "</div>"
      ],
      "text/plain": [
       "     user_id tariff  1     2     3     4     5     6     7     8     9    10  \\\n",
       "0       1000  ultra  0     0     0     0     0  1950  1950  1950  1950  1950   \n",
       "1       1001  smart  0     0     0     0     0     0     0     0     0     0   \n",
       "2       1002  smart  0     0     0     0     0     0  1150  1550   950   550   \n",
       "3       1003  ultra  0     0     0     0     0     0     0     0  1950  1950   \n",
       "4       1004  ultra  0     0     0     0     0  1950  1950  1950  1950  1950   \n",
       "..       ...    ... ..   ...   ...   ...   ...   ...   ...   ...   ...   ...   \n",
       "495     1495  ultra  0     0     0     0     0     0     0     0  2400  1950   \n",
       "496     1496  smart  0  3432  2721  1813  2350  1715  2596  2231  2950  3150   \n",
       "497     1497  smart  0     0     0     0     0     0     0     0     0     0   \n",
       "498     1498  smart  0     0     0     0     0     0     0  2386  1950     0   \n",
       "499     1499  smart  0     0     0     0     0     0     0     0     0  1150   \n",
       "\n",
       "       11    12  \n",
       "0    1950  1950  \n",
       "1       0   550  \n",
       "2    1350  1150  \n",
       "3    1950  1950  \n",
       "4    1950  1950  \n",
       "..    ...   ...  \n",
       "495  3300  1950  \n",
       "496  3036  1807  \n",
       "497   550  1685  \n",
       "498     0     0  \n",
       "499  1513   598  \n",
       "\n",
       "[500 rows x 14 columns]"
      ]
     },
     "execution_count": 71,
     "metadata": {},
     "output_type": "execute_result"
    }
   ],
   "source": [
    "# вывод на экран таблицы с общей помесячной выручкой по каждому клиенту\n",
    "df_total_revenue"
   ]
  },
  {
   "cell_type": "markdown",
   "id": "2d284211",
   "metadata": {},
   "source": [
    "Из данных видно, что некоторые клиенты пользовались своим тарифом весь год, а кто-то около месяца. Использовать такие данные для анализа некорректно. Рассчитаем помесячно по каждому пользователю средние показатели за год: длительность звонков, количество сообщений, объем интернет-траффика, средняя выручка с клиента. "
   ]
  },
  {
   "cell_type": "code",
   "execution_count": 72,
   "id": "2d6b040d",
   "metadata": {},
   "outputs": [],
   "source": [
    "def mean_serv(data):\n",
    "    data['mean'] = (data.iloc[:,2:14][~(data.iloc[:,2:14].isin([0]))]).sum(axis=1)/(data.iloc[:,2:14][~(data.iloc[:,2:14].isin([0]))]).count(axis=1)\n",
    "    data['mean'] = data['mean'].fillna(0).astype('int')\n",
    "    return data"
   ]
  },
  {
   "cell_type": "code",
   "execution_count": 73,
   "id": "15c25518",
   "metadata": {},
   "outputs": [
    {
     "data": {
      "text/html": [
       "<div>\n",
       "<style scoped>\n",
       "    .dataframe tbody tr th:only-of-type {\n",
       "        vertical-align: middle;\n",
       "    }\n",
       "\n",
       "    .dataframe tbody tr th {\n",
       "        vertical-align: top;\n",
       "    }\n",
       "\n",
       "    .dataframe thead th {\n",
       "        text-align: right;\n",
       "    }\n",
       "</style>\n",
       "<table border=\"1\" class=\"dataframe\">\n",
       "  <thead>\n",
       "    <tr style=\"text-align: right;\">\n",
       "      <th></th>\n",
       "      <th>user_id</th>\n",
       "      <th>tariff</th>\n",
       "      <th>1</th>\n",
       "      <th>2</th>\n",
       "      <th>3</th>\n",
       "      <th>4</th>\n",
       "      <th>5</th>\n",
       "      <th>6</th>\n",
       "      <th>7</th>\n",
       "      <th>8</th>\n",
       "      <th>9</th>\n",
       "      <th>10</th>\n",
       "      <th>11</th>\n",
       "      <th>12</th>\n",
       "      <th>mean</th>\n",
       "    </tr>\n",
       "  </thead>\n",
       "  <tbody>\n",
       "    <tr>\n",
       "      <th>0</th>\n",
       "      <td>1000</td>\n",
       "      <td>ultra</td>\n",
       "      <td>0</td>\n",
       "      <td>0</td>\n",
       "      <td>0</td>\n",
       "      <td>0</td>\n",
       "      <td>0</td>\n",
       "      <td>172</td>\n",
       "      <td>340</td>\n",
       "      <td>408</td>\n",
       "      <td>466</td>\n",
       "      <td>350</td>\n",
       "      <td>338</td>\n",
       "      <td>333</td>\n",
       "      <td>343</td>\n",
       "    </tr>\n",
       "    <tr>\n",
       "      <th>1</th>\n",
       "      <td>1001</td>\n",
       "      <td>smart</td>\n",
       "      <td>0</td>\n",
       "      <td>0</td>\n",
       "      <td>0</td>\n",
       "      <td>0</td>\n",
       "      <td>0</td>\n",
       "      <td>0</td>\n",
       "      <td>0</td>\n",
       "      <td>0</td>\n",
       "      <td>0</td>\n",
       "      <td>0</td>\n",
       "      <td>0</td>\n",
       "      <td>414</td>\n",
       "      <td>414</td>\n",
       "    </tr>\n",
       "    <tr>\n",
       "      <th>2</th>\n",
       "      <td>1002</td>\n",
       "      <td>smart</td>\n",
       "      <td>0</td>\n",
       "      <td>0</td>\n",
       "      <td>0</td>\n",
       "      <td>0</td>\n",
       "      <td>0</td>\n",
       "      <td>0</td>\n",
       "      <td>214</td>\n",
       "      <td>289</td>\n",
       "      <td>206</td>\n",
       "      <td>212</td>\n",
       "      <td>243</td>\n",
       "      <td>236</td>\n",
       "      <td>233</td>\n",
       "    </tr>\n",
       "    <tr>\n",
       "      <th>3</th>\n",
       "      <td>1003</td>\n",
       "      <td>ultra</td>\n",
       "      <td>0</td>\n",
       "      <td>0</td>\n",
       "      <td>0</td>\n",
       "      <td>0</td>\n",
       "      <td>0</td>\n",
       "      <td>0</td>\n",
       "      <td>0</td>\n",
       "      <td>0</td>\n",
       "      <td>961</td>\n",
       "      <td>855</td>\n",
       "      <td>824</td>\n",
       "      <td>802</td>\n",
       "      <td>860</td>\n",
       "    </tr>\n",
       "    <tr>\n",
       "      <th>4</th>\n",
       "      <td>1004</td>\n",
       "      <td>ultra</td>\n",
       "      <td>0</td>\n",
       "      <td>0</td>\n",
       "      <td>0</td>\n",
       "      <td>0</td>\n",
       "      <td>0</td>\n",
       "      <td>171</td>\n",
       "      <td>135</td>\n",
       "      <td>137</td>\n",
       "      <td>117</td>\n",
       "      <td>145</td>\n",
       "      <td>117</td>\n",
       "      <td>130</td>\n",
       "      <td>136</td>\n",
       "    </tr>\n",
       "    <tr>\n",
       "      <th>...</th>\n",
       "      <td>...</td>\n",
       "      <td>...</td>\n",
       "      <td>...</td>\n",
       "      <td>...</td>\n",
       "      <td>...</td>\n",
       "      <td>...</td>\n",
       "      <td>...</td>\n",
       "      <td>...</td>\n",
       "      <td>...</td>\n",
       "      <td>...</td>\n",
       "      <td>...</td>\n",
       "      <td>...</td>\n",
       "      <td>...</td>\n",
       "      <td>...</td>\n",
       "      <td>...</td>\n",
       "    </tr>\n",
       "    <tr>\n",
       "      <th>495</th>\n",
       "      <td>1495</td>\n",
       "      <td>ultra</td>\n",
       "      <td>0</td>\n",
       "      <td>0</td>\n",
       "      <td>0</td>\n",
       "      <td>0</td>\n",
       "      <td>0</td>\n",
       "      <td>0</td>\n",
       "      <td>0</td>\n",
       "      <td>0</td>\n",
       "      <td>813</td>\n",
       "      <td>1030</td>\n",
       "      <td>954</td>\n",
       "      <td>1031</td>\n",
       "      <td>957</td>\n",
       "    </tr>\n",
       "    <tr>\n",
       "      <th>496</th>\n",
       "      <td>1496</td>\n",
       "      <td>smart</td>\n",
       "      <td>0</td>\n",
       "      <td>594</td>\n",
       "      <td>557</td>\n",
       "      <td>521</td>\n",
       "      <td>484</td>\n",
       "      <td>555</td>\n",
       "      <td>582</td>\n",
       "      <td>527</td>\n",
       "      <td>486</td>\n",
       "      <td>450</td>\n",
       "      <td>662</td>\n",
       "      <td>518</td>\n",
       "      <td>539</td>\n",
       "    </tr>\n",
       "    <tr>\n",
       "      <th>497</th>\n",
       "      <td>1497</td>\n",
       "      <td>smart</td>\n",
       "      <td>0</td>\n",
       "      <td>0</td>\n",
       "      <td>0</td>\n",
       "      <td>0</td>\n",
       "      <td>0</td>\n",
       "      <td>0</td>\n",
       "      <td>0</td>\n",
       "      <td>0</td>\n",
       "      <td>0</td>\n",
       "      <td>0</td>\n",
       "      <td>371</td>\n",
       "      <td>545</td>\n",
       "      <td>458</td>\n",
       "    </tr>\n",
       "    <tr>\n",
       "      <th>498</th>\n",
       "      <td>1498</td>\n",
       "      <td>smart</td>\n",
       "      <td>0</td>\n",
       "      <td>0</td>\n",
       "      <td>0</td>\n",
       "      <td>0</td>\n",
       "      <td>0</td>\n",
       "      <td>0</td>\n",
       "      <td>0</td>\n",
       "      <td>400</td>\n",
       "      <td>471</td>\n",
       "      <td>0</td>\n",
       "      <td>0</td>\n",
       "      <td>0</td>\n",
       "      <td>435</td>\n",
       "    </tr>\n",
       "    <tr>\n",
       "      <th>499</th>\n",
       "      <td>1499</td>\n",
       "      <td>smart</td>\n",
       "      <td>0</td>\n",
       "      <td>0</td>\n",
       "      <td>0</td>\n",
       "      <td>0</td>\n",
       "      <td>0</td>\n",
       "      <td>0</td>\n",
       "      <td>0</td>\n",
       "      <td>0</td>\n",
       "      <td>0</td>\n",
       "      <td>449</td>\n",
       "      <td>612</td>\n",
       "      <td>492</td>\n",
       "      <td>517</td>\n",
       "    </tr>\n",
       "  </tbody>\n",
       "</table>\n",
       "<p>500 rows × 15 columns</p>\n",
       "</div>"
      ],
      "text/plain": [
       "     user_id tariff  1    2    3    4    5    6    7    8    9    10   11  \\\n",
       "0       1000  ultra  0    0    0    0    0  172  340  408  466   350  338   \n",
       "1       1001  smart  0    0    0    0    0    0    0    0    0     0    0   \n",
       "2       1002  smart  0    0    0    0    0    0  214  289  206   212  243   \n",
       "3       1003  ultra  0    0    0    0    0    0    0    0  961   855  824   \n",
       "4       1004  ultra  0    0    0    0    0  171  135  137  117   145  117   \n",
       "..       ...    ... ..  ...  ...  ...  ...  ...  ...  ...  ...   ...  ...   \n",
       "495     1495  ultra  0    0    0    0    0    0    0    0  813  1030  954   \n",
       "496     1496  smart  0  594  557  521  484  555  582  527  486   450  662   \n",
       "497     1497  smart  0    0    0    0    0    0    0    0    0     0  371   \n",
       "498     1498  smart  0    0    0    0    0    0    0  400  471     0    0   \n",
       "499     1499  smart  0    0    0    0    0    0    0    0    0   449  612   \n",
       "\n",
       "       12  mean  \n",
       "0     333   343  \n",
       "1     414   414  \n",
       "2     236   233  \n",
       "3     802   860  \n",
       "4     130   136  \n",
       "..    ...   ...  \n",
       "495  1031   957  \n",
       "496   518   539  \n",
       "497   545   458  \n",
       "498     0   435  \n",
       "499   492   517  \n",
       "\n",
       "[500 rows x 15 columns]"
      ]
     },
     "execution_count": 73,
     "metadata": {},
     "output_type": "execute_result"
    }
   ],
   "source": [
    "# рассчет функции для рассчета средней длительности звонков для каждого пользователя\n",
    "df_calls_trf = mean_serv(df_calls_trf)\n",
    "df_calls_trf"
   ]
  },
  {
   "cell_type": "code",
   "execution_count": 74,
   "id": "be88bf76",
   "metadata": {},
   "outputs": [
    {
     "data": {
      "text/html": [
       "<div>\n",
       "<style scoped>\n",
       "    .dataframe tbody tr th:only-of-type {\n",
       "        vertical-align: middle;\n",
       "    }\n",
       "\n",
       "    .dataframe tbody tr th {\n",
       "        vertical-align: top;\n",
       "    }\n",
       "\n",
       "    .dataframe thead th {\n",
       "        text-align: right;\n",
       "    }\n",
       "</style>\n",
       "<table border=\"1\" class=\"dataframe\">\n",
       "  <thead>\n",
       "    <tr style=\"text-align: right;\">\n",
       "      <th></th>\n",
       "      <th>user_id</th>\n",
       "      <th>tariff</th>\n",
       "      <th>1</th>\n",
       "      <th>2</th>\n",
       "      <th>3</th>\n",
       "      <th>4</th>\n",
       "      <th>5</th>\n",
       "      <th>6</th>\n",
       "      <th>7</th>\n",
       "      <th>8</th>\n",
       "      <th>9</th>\n",
       "      <th>10</th>\n",
       "      <th>11</th>\n",
       "      <th>12</th>\n",
       "      <th>mean</th>\n",
       "    </tr>\n",
       "  </thead>\n",
       "  <tbody>\n",
       "    <tr>\n",
       "      <th>0</th>\n",
       "      <td>1000</td>\n",
       "      <td>ultra</td>\n",
       "      <td>0</td>\n",
       "      <td>0</td>\n",
       "      <td>0</td>\n",
       "      <td>0</td>\n",
       "      <td>0</td>\n",
       "      <td>60</td>\n",
       "      <td>75</td>\n",
       "      <td>81</td>\n",
       "      <td>57</td>\n",
       "      <td>73</td>\n",
       "      <td>58</td>\n",
       "      <td>70</td>\n",
       "      <td>67</td>\n",
       "    </tr>\n",
       "    <tr>\n",
       "      <th>1</th>\n",
       "      <td>1001</td>\n",
       "      <td>smart</td>\n",
       "      <td>0</td>\n",
       "      <td>0</td>\n",
       "      <td>0</td>\n",
       "      <td>0</td>\n",
       "      <td>0</td>\n",
       "      <td>0</td>\n",
       "      <td>0</td>\n",
       "      <td>0</td>\n",
       "      <td>0</td>\n",
       "      <td>0</td>\n",
       "      <td>0</td>\n",
       "      <td>0</td>\n",
       "      <td>0</td>\n",
       "    </tr>\n",
       "    <tr>\n",
       "      <th>2</th>\n",
       "      <td>1002</td>\n",
       "      <td>smart</td>\n",
       "      <td>0</td>\n",
       "      <td>0</td>\n",
       "      <td>0</td>\n",
       "      <td>0</td>\n",
       "      <td>0</td>\n",
       "      <td>0</td>\n",
       "      <td>11</td>\n",
       "      <td>13</td>\n",
       "      <td>4</td>\n",
       "      <td>10</td>\n",
       "      <td>16</td>\n",
       "      <td>12</td>\n",
       "      <td>11</td>\n",
       "    </tr>\n",
       "    <tr>\n",
       "      <th>3</th>\n",
       "      <td>1003</td>\n",
       "      <td>ultra</td>\n",
       "      <td>0</td>\n",
       "      <td>0</td>\n",
       "      <td>0</td>\n",
       "      <td>0</td>\n",
       "      <td>0</td>\n",
       "      <td>0</td>\n",
       "      <td>0</td>\n",
       "      <td>0</td>\n",
       "      <td>91</td>\n",
       "      <td>83</td>\n",
       "      <td>94</td>\n",
       "      <td>75</td>\n",
       "      <td>85</td>\n",
       "    </tr>\n",
       "    <tr>\n",
       "      <th>4</th>\n",
       "      <td>1004</td>\n",
       "      <td>ultra</td>\n",
       "      <td>0</td>\n",
       "      <td>0</td>\n",
       "      <td>0</td>\n",
       "      <td>0</td>\n",
       "      <td>0</td>\n",
       "      <td>134</td>\n",
       "      <td>181</td>\n",
       "      <td>151</td>\n",
       "      <td>146</td>\n",
       "      <td>165</td>\n",
       "      <td>158</td>\n",
       "      <td>162</td>\n",
       "      <td>156</td>\n",
       "    </tr>\n",
       "    <tr>\n",
       "      <th>...</th>\n",
       "      <td>...</td>\n",
       "      <td>...</td>\n",
       "      <td>...</td>\n",
       "      <td>...</td>\n",
       "      <td>...</td>\n",
       "      <td>...</td>\n",
       "      <td>...</td>\n",
       "      <td>...</td>\n",
       "      <td>...</td>\n",
       "      <td>...</td>\n",
       "      <td>...</td>\n",
       "      <td>...</td>\n",
       "      <td>...</td>\n",
       "      <td>...</td>\n",
       "      <td>...</td>\n",
       "    </tr>\n",
       "    <tr>\n",
       "      <th>495</th>\n",
       "      <td>1495</td>\n",
       "      <td>ultra</td>\n",
       "      <td>0</td>\n",
       "      <td>0</td>\n",
       "      <td>0</td>\n",
       "      <td>0</td>\n",
       "      <td>0</td>\n",
       "      <td>0</td>\n",
       "      <td>0</td>\n",
       "      <td>0</td>\n",
       "      <td>82</td>\n",
       "      <td>82</td>\n",
       "      <td>79</td>\n",
       "      <td>84</td>\n",
       "      <td>81</td>\n",
       "    </tr>\n",
       "    <tr>\n",
       "      <th>496</th>\n",
       "      <td>1496</td>\n",
       "      <td>smart</td>\n",
       "      <td>0</td>\n",
       "      <td>45</td>\n",
       "      <td>46</td>\n",
       "      <td>49</td>\n",
       "      <td>40</td>\n",
       "      <td>35</td>\n",
       "      <td>42</td>\n",
       "      <td>41</td>\n",
       "      <td>29</td>\n",
       "      <td>35</td>\n",
       "      <td>46</td>\n",
       "      <td>51</td>\n",
       "      <td>41</td>\n",
       "    </tr>\n",
       "    <tr>\n",
       "      <th>497</th>\n",
       "      <td>1497</td>\n",
       "      <td>smart</td>\n",
       "      <td>0</td>\n",
       "      <td>0</td>\n",
       "      <td>0</td>\n",
       "      <td>0</td>\n",
       "      <td>0</td>\n",
       "      <td>0</td>\n",
       "      <td>0</td>\n",
       "      <td>0</td>\n",
       "      <td>0</td>\n",
       "      <td>0</td>\n",
       "      <td>14</td>\n",
       "      <td>17</td>\n",
       "      <td>15</td>\n",
       "    </tr>\n",
       "    <tr>\n",
       "      <th>498</th>\n",
       "      <td>1498</td>\n",
       "      <td>smart</td>\n",
       "      <td>0</td>\n",
       "      <td>0</td>\n",
       "      <td>0</td>\n",
       "      <td>0</td>\n",
       "      <td>0</td>\n",
       "      <td>0</td>\n",
       "      <td>0</td>\n",
       "      <td>62</td>\n",
       "      <td>44</td>\n",
       "      <td>0</td>\n",
       "      <td>0</td>\n",
       "      <td>0</td>\n",
       "      <td>53</td>\n",
       "    </tr>\n",
       "    <tr>\n",
       "      <th>499</th>\n",
       "      <td>1499</td>\n",
       "      <td>smart</td>\n",
       "      <td>0</td>\n",
       "      <td>0</td>\n",
       "      <td>0</td>\n",
       "      <td>0</td>\n",
       "      <td>0</td>\n",
       "      <td>0</td>\n",
       "      <td>0</td>\n",
       "      <td>0</td>\n",
       "      <td>0</td>\n",
       "      <td>48</td>\n",
       "      <td>59</td>\n",
       "      <td>66</td>\n",
       "      <td>57</td>\n",
       "    </tr>\n",
       "  </tbody>\n",
       "</table>\n",
       "<p>500 rows × 15 columns</p>\n",
       "</div>"
      ],
      "text/plain": [
       "     user_id tariff  1   2   3   4   5    6    7    8    9   10   11   12  \\\n",
       "0       1000  ultra  0   0   0   0   0   60   75   81   57   73   58   70   \n",
       "1       1001  smart  0   0   0   0   0    0    0    0    0    0    0    0   \n",
       "2       1002  smart  0   0   0   0   0    0   11   13    4   10   16   12   \n",
       "3       1003  ultra  0   0   0   0   0    0    0    0   91   83   94   75   \n",
       "4       1004  ultra  0   0   0   0   0  134  181  151  146  165  158  162   \n",
       "..       ...    ... ..  ..  ..  ..  ..  ...  ...  ...  ...  ...  ...  ...   \n",
       "495     1495  ultra  0   0   0   0   0    0    0    0   82   82   79   84   \n",
       "496     1496  smart  0  45  46  49  40   35   42   41   29   35   46   51   \n",
       "497     1497  smart  0   0   0   0   0    0    0    0    0    0   14   17   \n",
       "498     1498  smart  0   0   0   0   0    0    0   62   44    0    0    0   \n",
       "499     1499  smart  0   0   0   0   0    0    0    0    0   48   59   66   \n",
       "\n",
       "     mean  \n",
       "0      67  \n",
       "1       0  \n",
       "2      11  \n",
       "3      85  \n",
       "4     156  \n",
       "..    ...  \n",
       "495    81  \n",
       "496    41  \n",
       "497    15  \n",
       "498    53  \n",
       "499    57  \n",
       "\n",
       "[500 rows x 15 columns]"
      ]
     },
     "execution_count": 74,
     "metadata": {},
     "output_type": "execute_result"
    }
   ],
   "source": [
    "# рассчет функции для рассчета среднего числа смс-сообщений для каждого пользователя\n",
    "df_messages_trf = mean_serv(df_messages_trf)\n",
    "df_messages_trf"
   ]
  },
  {
   "cell_type": "code",
   "execution_count": 75,
   "id": "64470b12",
   "metadata": {},
   "outputs": [
    {
     "data": {
      "text/html": [
       "<div>\n",
       "<style scoped>\n",
       "    .dataframe tbody tr th:only-of-type {\n",
       "        vertical-align: middle;\n",
       "    }\n",
       "\n",
       "    .dataframe tbody tr th {\n",
       "        vertical-align: top;\n",
       "    }\n",
       "\n",
       "    .dataframe thead th {\n",
       "        text-align: right;\n",
       "    }\n",
       "</style>\n",
       "<table border=\"1\" class=\"dataframe\">\n",
       "  <thead>\n",
       "    <tr style=\"text-align: right;\">\n",
       "      <th></th>\n",
       "      <th>user_id</th>\n",
       "      <th>tariff</th>\n",
       "      <th>1</th>\n",
       "      <th>2</th>\n",
       "      <th>3</th>\n",
       "      <th>4</th>\n",
       "      <th>5</th>\n",
       "      <th>6</th>\n",
       "      <th>7</th>\n",
       "      <th>8</th>\n",
       "      <th>9</th>\n",
       "      <th>10</th>\n",
       "      <th>11</th>\n",
       "      <th>12</th>\n",
       "      <th>mean</th>\n",
       "    </tr>\n",
       "  </thead>\n",
       "  <tbody>\n",
       "    <tr>\n",
       "      <th>0</th>\n",
       "      <td>1000</td>\n",
       "      <td>ultra</td>\n",
       "      <td>0</td>\n",
       "      <td>0</td>\n",
       "      <td>0</td>\n",
       "      <td>0</td>\n",
       "      <td>0</td>\n",
       "      <td>23</td>\n",
       "      <td>14</td>\n",
       "      <td>14</td>\n",
       "      <td>15</td>\n",
       "      <td>15</td>\n",
       "      <td>15</td>\n",
       "      <td>10</td>\n",
       "      <td>15</td>\n",
       "    </tr>\n",
       "    <tr>\n",
       "      <th>1</th>\n",
       "      <td>1001</td>\n",
       "      <td>smart</td>\n",
       "      <td>0</td>\n",
       "      <td>0</td>\n",
       "      <td>0</td>\n",
       "      <td>0</td>\n",
       "      <td>0</td>\n",
       "      <td>0</td>\n",
       "      <td>0</td>\n",
       "      <td>0</td>\n",
       "      <td>0</td>\n",
       "      <td>0</td>\n",
       "      <td>0</td>\n",
       "      <td>14</td>\n",
       "      <td>14</td>\n",
       "    </tr>\n",
       "    <tr>\n",
       "      <th>2</th>\n",
       "      <td>1002</td>\n",
       "      <td>smart</td>\n",
       "      <td>0</td>\n",
       "      <td>0</td>\n",
       "      <td>0</td>\n",
       "      <td>0</td>\n",
       "      <td>0</td>\n",
       "      <td>0</td>\n",
       "      <td>18</td>\n",
       "      <td>20</td>\n",
       "      <td>17</td>\n",
       "      <td>14</td>\n",
       "      <td>19</td>\n",
       "      <td>18</td>\n",
       "      <td>17</td>\n",
       "    </tr>\n",
       "    <tr>\n",
       "      <th>3</th>\n",
       "      <td>1003</td>\n",
       "      <td>ultra</td>\n",
       "      <td>0</td>\n",
       "      <td>0</td>\n",
       "      <td>0</td>\n",
       "      <td>0</td>\n",
       "      <td>0</td>\n",
       "      <td>0</td>\n",
       "      <td>0</td>\n",
       "      <td>0</td>\n",
       "      <td>13</td>\n",
       "      <td>15</td>\n",
       "      <td>12</td>\n",
       "      <td>10</td>\n",
       "      <td>12</td>\n",
       "    </tr>\n",
       "    <tr>\n",
       "      <th>4</th>\n",
       "      <td>1004</td>\n",
       "      <td>ultra</td>\n",
       "      <td>0</td>\n",
       "      <td>0</td>\n",
       "      <td>0</td>\n",
       "      <td>0</td>\n",
       "      <td>0</td>\n",
       "      <td>18</td>\n",
       "      <td>22</td>\n",
       "      <td>28</td>\n",
       "      <td>15</td>\n",
       "      <td>19</td>\n",
       "      <td>16</td>\n",
       "      <td>18</td>\n",
       "      <td>19</td>\n",
       "    </tr>\n",
       "    <tr>\n",
       "      <th>...</th>\n",
       "      <td>...</td>\n",
       "      <td>...</td>\n",
       "      <td>...</td>\n",
       "      <td>...</td>\n",
       "      <td>...</td>\n",
       "      <td>...</td>\n",
       "      <td>...</td>\n",
       "      <td>...</td>\n",
       "      <td>...</td>\n",
       "      <td>...</td>\n",
       "      <td>...</td>\n",
       "      <td>...</td>\n",
       "      <td>...</td>\n",
       "      <td>...</td>\n",
       "      <td>...</td>\n",
       "    </tr>\n",
       "    <tr>\n",
       "      <th>495</th>\n",
       "      <td>1495</td>\n",
       "      <td>ultra</td>\n",
       "      <td>0</td>\n",
       "      <td>0</td>\n",
       "      <td>0</td>\n",
       "      <td>0</td>\n",
       "      <td>0</td>\n",
       "      <td>0</td>\n",
       "      <td>0</td>\n",
       "      <td>0</td>\n",
       "      <td>33</td>\n",
       "      <td>29</td>\n",
       "      <td>39</td>\n",
       "      <td>23</td>\n",
       "      <td>31</td>\n",
       "    </tr>\n",
       "    <tr>\n",
       "      <th>496</th>\n",
       "      <td>1496</td>\n",
       "      <td>smart</td>\n",
       "      <td>0</td>\n",
       "      <td>28</td>\n",
       "      <td>25</td>\n",
       "      <td>21</td>\n",
       "      <td>24</td>\n",
       "      <td>20</td>\n",
       "      <td>24</td>\n",
       "      <td>23</td>\n",
       "      <td>27</td>\n",
       "      <td>28</td>\n",
       "      <td>25</td>\n",
       "      <td>21</td>\n",
       "      <td>24</td>\n",
       "    </tr>\n",
       "    <tr>\n",
       "      <th>497</th>\n",
       "      <td>1497</td>\n",
       "      <td>smart</td>\n",
       "      <td>0</td>\n",
       "      <td>0</td>\n",
       "      <td>0</td>\n",
       "      <td>0</td>\n",
       "      <td>0</td>\n",
       "      <td>0</td>\n",
       "      <td>0</td>\n",
       "      <td>0</td>\n",
       "      <td>0</td>\n",
       "      <td>0</td>\n",
       "      <td>14</td>\n",
       "      <td>20</td>\n",
       "      <td>17</td>\n",
       "    </tr>\n",
       "    <tr>\n",
       "      <th>498</th>\n",
       "      <td>1498</td>\n",
       "      <td>smart</td>\n",
       "      <td>0</td>\n",
       "      <td>0</td>\n",
       "      <td>0</td>\n",
       "      <td>0</td>\n",
       "      <td>0</td>\n",
       "      <td>0</td>\n",
       "      <td>0</td>\n",
       "      <td>24</td>\n",
       "      <td>22</td>\n",
       "      <td>0</td>\n",
       "      <td>0</td>\n",
       "      <td>0</td>\n",
       "      <td>23</td>\n",
       "    </tr>\n",
       "    <tr>\n",
       "      <th>499</th>\n",
       "      <td>1499</td>\n",
       "      <td>smart</td>\n",
       "      <td>0</td>\n",
       "      <td>0</td>\n",
       "      <td>0</td>\n",
       "      <td>0</td>\n",
       "      <td>0</td>\n",
       "      <td>0</td>\n",
       "      <td>0</td>\n",
       "      <td>0</td>\n",
       "      <td>0</td>\n",
       "      <td>18</td>\n",
       "      <td>18</td>\n",
       "      <td>13</td>\n",
       "      <td>16</td>\n",
       "    </tr>\n",
       "  </tbody>\n",
       "</table>\n",
       "<p>500 rows × 15 columns</p>\n",
       "</div>"
      ],
      "text/plain": [
       "     user_id tariff  1   2   3   4   5   6   7   8   9  10  11  12  mean\n",
       "0       1000  ultra  0   0   0   0   0  23  14  14  15  15  15  10    15\n",
       "1       1001  smart  0   0   0   0   0   0   0   0   0   0   0  14    14\n",
       "2       1002  smart  0   0   0   0   0   0  18  20  17  14  19  18    17\n",
       "3       1003  ultra  0   0   0   0   0   0   0   0  13  15  12  10    12\n",
       "4       1004  ultra  0   0   0   0   0  18  22  28  15  19  16  18    19\n",
       "..       ...    ... ..  ..  ..  ..  ..  ..  ..  ..  ..  ..  ..  ..   ...\n",
       "495     1495  ultra  0   0   0   0   0   0   0   0  33  29  39  23    31\n",
       "496     1496  smart  0  28  25  21  24  20  24  23  27  28  25  21    24\n",
       "497     1497  smart  0   0   0   0   0   0   0   0   0   0  14  20    17\n",
       "498     1498  smart  0   0   0   0   0   0   0  24  22   0   0   0    23\n",
       "499     1499  smart  0   0   0   0   0   0   0   0   0  18  18  13    16\n",
       "\n",
       "[500 rows x 15 columns]"
      ]
     },
     "execution_count": 75,
     "metadata": {},
     "output_type": "execute_result"
    }
   ],
   "source": [
    "# рассчет функции для рассчета среднего объема интернет-траффика для каждого пользователя\n",
    "df_internet_trf = mean_serv(df_internet_trf)\n",
    "df_internet_trf"
   ]
  },
  {
   "cell_type": "code",
   "execution_count": 76,
   "id": "9f4bae41",
   "metadata": {},
   "outputs": [
    {
     "data": {
      "text/html": [
       "<div>\n",
       "<style scoped>\n",
       "    .dataframe tbody tr th:only-of-type {\n",
       "        vertical-align: middle;\n",
       "    }\n",
       "\n",
       "    .dataframe tbody tr th {\n",
       "        vertical-align: top;\n",
       "    }\n",
       "\n",
       "    .dataframe thead th {\n",
       "        text-align: right;\n",
       "    }\n",
       "</style>\n",
       "<table border=\"1\" class=\"dataframe\">\n",
       "  <thead>\n",
       "    <tr style=\"text-align: right;\">\n",
       "      <th></th>\n",
       "      <th>user_id</th>\n",
       "      <th>tariff</th>\n",
       "      <th>1</th>\n",
       "      <th>2</th>\n",
       "      <th>3</th>\n",
       "      <th>4</th>\n",
       "      <th>5</th>\n",
       "      <th>6</th>\n",
       "      <th>7</th>\n",
       "      <th>8</th>\n",
       "      <th>9</th>\n",
       "      <th>10</th>\n",
       "      <th>11</th>\n",
       "      <th>12</th>\n",
       "      <th>mean</th>\n",
       "    </tr>\n",
       "  </thead>\n",
       "  <tbody>\n",
       "    <tr>\n",
       "      <th>0</th>\n",
       "      <td>1000</td>\n",
       "      <td>ultra</td>\n",
       "      <td>0</td>\n",
       "      <td>0</td>\n",
       "      <td>0</td>\n",
       "      <td>0</td>\n",
       "      <td>0</td>\n",
       "      <td>1950</td>\n",
       "      <td>1950</td>\n",
       "      <td>1950</td>\n",
       "      <td>1950</td>\n",
       "      <td>1950</td>\n",
       "      <td>1950</td>\n",
       "      <td>1950</td>\n",
       "      <td>1950</td>\n",
       "    </tr>\n",
       "    <tr>\n",
       "      <th>1</th>\n",
       "      <td>1001</td>\n",
       "      <td>smart</td>\n",
       "      <td>0</td>\n",
       "      <td>0</td>\n",
       "      <td>0</td>\n",
       "      <td>0</td>\n",
       "      <td>0</td>\n",
       "      <td>0</td>\n",
       "      <td>0</td>\n",
       "      <td>0</td>\n",
       "      <td>0</td>\n",
       "      <td>0</td>\n",
       "      <td>0</td>\n",
       "      <td>550</td>\n",
       "      <td>550</td>\n",
       "    </tr>\n",
       "    <tr>\n",
       "      <th>2</th>\n",
       "      <td>1002</td>\n",
       "      <td>smart</td>\n",
       "      <td>0</td>\n",
       "      <td>0</td>\n",
       "      <td>0</td>\n",
       "      <td>0</td>\n",
       "      <td>0</td>\n",
       "      <td>0</td>\n",
       "      <td>1150</td>\n",
       "      <td>1550</td>\n",
       "      <td>950</td>\n",
       "      <td>550</td>\n",
       "      <td>1350</td>\n",
       "      <td>1150</td>\n",
       "      <td>1116</td>\n",
       "    </tr>\n",
       "    <tr>\n",
       "      <th>3</th>\n",
       "      <td>1003</td>\n",
       "      <td>ultra</td>\n",
       "      <td>0</td>\n",
       "      <td>0</td>\n",
       "      <td>0</td>\n",
       "      <td>0</td>\n",
       "      <td>0</td>\n",
       "      <td>0</td>\n",
       "      <td>0</td>\n",
       "      <td>0</td>\n",
       "      <td>1950</td>\n",
       "      <td>1950</td>\n",
       "      <td>1950</td>\n",
       "      <td>1950</td>\n",
       "      <td>1950</td>\n",
       "    </tr>\n",
       "    <tr>\n",
       "      <th>4</th>\n",
       "      <td>1004</td>\n",
       "      <td>ultra</td>\n",
       "      <td>0</td>\n",
       "      <td>0</td>\n",
       "      <td>0</td>\n",
       "      <td>0</td>\n",
       "      <td>0</td>\n",
       "      <td>1950</td>\n",
       "      <td>1950</td>\n",
       "      <td>1950</td>\n",
       "      <td>1950</td>\n",
       "      <td>1950</td>\n",
       "      <td>1950</td>\n",
       "      <td>1950</td>\n",
       "      <td>1950</td>\n",
       "    </tr>\n",
       "    <tr>\n",
       "      <th>...</th>\n",
       "      <td>...</td>\n",
       "      <td>...</td>\n",
       "      <td>...</td>\n",
       "      <td>...</td>\n",
       "      <td>...</td>\n",
       "      <td>...</td>\n",
       "      <td>...</td>\n",
       "      <td>...</td>\n",
       "      <td>...</td>\n",
       "      <td>...</td>\n",
       "      <td>...</td>\n",
       "      <td>...</td>\n",
       "      <td>...</td>\n",
       "      <td>...</td>\n",
       "      <td>...</td>\n",
       "    </tr>\n",
       "    <tr>\n",
       "      <th>495</th>\n",
       "      <td>1495</td>\n",
       "      <td>ultra</td>\n",
       "      <td>0</td>\n",
       "      <td>0</td>\n",
       "      <td>0</td>\n",
       "      <td>0</td>\n",
       "      <td>0</td>\n",
       "      <td>0</td>\n",
       "      <td>0</td>\n",
       "      <td>0</td>\n",
       "      <td>2400</td>\n",
       "      <td>1950</td>\n",
       "      <td>3300</td>\n",
       "      <td>1950</td>\n",
       "      <td>2400</td>\n",
       "    </tr>\n",
       "    <tr>\n",
       "      <th>496</th>\n",
       "      <td>1496</td>\n",
       "      <td>smart</td>\n",
       "      <td>0</td>\n",
       "      <td>3432</td>\n",
       "      <td>2721</td>\n",
       "      <td>1813</td>\n",
       "      <td>2350</td>\n",
       "      <td>1715</td>\n",
       "      <td>2596</td>\n",
       "      <td>2231</td>\n",
       "      <td>2950</td>\n",
       "      <td>3150</td>\n",
       "      <td>3036</td>\n",
       "      <td>1807</td>\n",
       "      <td>2527</td>\n",
       "    </tr>\n",
       "    <tr>\n",
       "      <th>497</th>\n",
       "      <td>1497</td>\n",
       "      <td>smart</td>\n",
       "      <td>0</td>\n",
       "      <td>0</td>\n",
       "      <td>0</td>\n",
       "      <td>0</td>\n",
       "      <td>0</td>\n",
       "      <td>0</td>\n",
       "      <td>0</td>\n",
       "      <td>0</td>\n",
       "      <td>0</td>\n",
       "      <td>0</td>\n",
       "      <td>550</td>\n",
       "      <td>1685</td>\n",
       "      <td>1117</td>\n",
       "    </tr>\n",
       "    <tr>\n",
       "      <th>498</th>\n",
       "      <td>1498</td>\n",
       "      <td>smart</td>\n",
       "      <td>0</td>\n",
       "      <td>0</td>\n",
       "      <td>0</td>\n",
       "      <td>0</td>\n",
       "      <td>0</td>\n",
       "      <td>0</td>\n",
       "      <td>0</td>\n",
       "      <td>2386</td>\n",
       "      <td>1950</td>\n",
       "      <td>0</td>\n",
       "      <td>0</td>\n",
       "      <td>0</td>\n",
       "      <td>2168</td>\n",
       "    </tr>\n",
       "    <tr>\n",
       "      <th>499</th>\n",
       "      <td>1499</td>\n",
       "      <td>smart</td>\n",
       "      <td>0</td>\n",
       "      <td>0</td>\n",
       "      <td>0</td>\n",
       "      <td>0</td>\n",
       "      <td>0</td>\n",
       "      <td>0</td>\n",
       "      <td>0</td>\n",
       "      <td>0</td>\n",
       "      <td>0</td>\n",
       "      <td>1150</td>\n",
       "      <td>1513</td>\n",
       "      <td>598</td>\n",
       "      <td>1087</td>\n",
       "    </tr>\n",
       "  </tbody>\n",
       "</table>\n",
       "<p>500 rows × 15 columns</p>\n",
       "</div>"
      ],
      "text/plain": [
       "     user_id tariff  1     2     3     4     5     6     7     8     9    10  \\\n",
       "0       1000  ultra  0     0     0     0     0  1950  1950  1950  1950  1950   \n",
       "1       1001  smart  0     0     0     0     0     0     0     0     0     0   \n",
       "2       1002  smart  0     0     0     0     0     0  1150  1550   950   550   \n",
       "3       1003  ultra  0     0     0     0     0     0     0     0  1950  1950   \n",
       "4       1004  ultra  0     0     0     0     0  1950  1950  1950  1950  1950   \n",
       "..       ...    ... ..   ...   ...   ...   ...   ...   ...   ...   ...   ...   \n",
       "495     1495  ultra  0     0     0     0     0     0     0     0  2400  1950   \n",
       "496     1496  smart  0  3432  2721  1813  2350  1715  2596  2231  2950  3150   \n",
       "497     1497  smart  0     0     0     0     0     0     0     0     0     0   \n",
       "498     1498  smart  0     0     0     0     0     0     0  2386  1950     0   \n",
       "499     1499  smart  0     0     0     0     0     0     0     0     0  1150   \n",
       "\n",
       "       11    12  mean  \n",
       "0    1950  1950  1950  \n",
       "1       0   550   550  \n",
       "2    1350  1150  1116  \n",
       "3    1950  1950  1950  \n",
       "4    1950  1950  1950  \n",
       "..    ...   ...   ...  \n",
       "495  3300  1950  2400  \n",
       "496  3036  1807  2527  \n",
       "497   550  1685  1117  \n",
       "498     0     0  2168  \n",
       "499  1513   598  1087  \n",
       "\n",
       "[500 rows x 15 columns]"
      ]
     },
     "execution_count": 76,
     "metadata": {},
     "output_type": "execute_result"
    }
   ],
   "source": [
    "# рассчет функции для рассчета среднего объема интернет-траффика для каждого пользователя\n",
    "df_total_revenue = mean_serv(df_total_revenue)\n",
    "df_total_revenue"
   ]
  },
  {
   "cell_type": "markdown",
   "id": "635a3eef",
   "metadata": {},
   "source": [
    "Для сравнителного анализа выручки клиентов из Москвы и других городов, присоединим методом merge из таблицы по клиентам колонку с наименованием города к таблице с помесячной и средней выручкой."
   ]
  },
  {
   "cell_type": "code",
   "execution_count": 77,
   "id": "dd681c07",
   "metadata": {},
   "outputs": [
    {
     "data": {
      "text/html": [
       "<div>\n",
       "<style scoped>\n",
       "    .dataframe tbody tr th:only-of-type {\n",
       "        vertical-align: middle;\n",
       "    }\n",
       "\n",
       "    .dataframe tbody tr th {\n",
       "        vertical-align: top;\n",
       "    }\n",
       "\n",
       "    .dataframe thead th {\n",
       "        text-align: right;\n",
       "    }\n",
       "</style>\n",
       "<table border=\"1\" class=\"dataframe\">\n",
       "  <thead>\n",
       "    <tr style=\"text-align: right;\">\n",
       "      <th></th>\n",
       "      <th>user_id</th>\n",
       "      <th>city</th>\n",
       "    </tr>\n",
       "  </thead>\n",
       "  <tbody>\n",
       "    <tr>\n",
       "      <th>0</th>\n",
       "      <td>1000</td>\n",
       "      <td>Краснодар</td>\n",
       "    </tr>\n",
       "    <tr>\n",
       "      <th>1</th>\n",
       "      <td>1001</td>\n",
       "      <td>Москва</td>\n",
       "    </tr>\n",
       "    <tr>\n",
       "      <th>2</th>\n",
       "      <td>1002</td>\n",
       "      <td>Стерлитамак</td>\n",
       "    </tr>\n",
       "    <tr>\n",
       "      <th>3</th>\n",
       "      <td>1003</td>\n",
       "      <td>Москва</td>\n",
       "    </tr>\n",
       "    <tr>\n",
       "      <th>4</th>\n",
       "      <td>1004</td>\n",
       "      <td>Новокузнецк</td>\n",
       "    </tr>\n",
       "    <tr>\n",
       "      <th>...</th>\n",
       "      <td>...</td>\n",
       "      <td>...</td>\n",
       "    </tr>\n",
       "    <tr>\n",
       "      <th>495</th>\n",
       "      <td>1495</td>\n",
       "      <td>Иркутск</td>\n",
       "    </tr>\n",
       "    <tr>\n",
       "      <th>496</th>\n",
       "      <td>1496</td>\n",
       "      <td>Вологда</td>\n",
       "    </tr>\n",
       "    <tr>\n",
       "      <th>497</th>\n",
       "      <td>1497</td>\n",
       "      <td>Челябинск</td>\n",
       "    </tr>\n",
       "    <tr>\n",
       "      <th>498</th>\n",
       "      <td>1498</td>\n",
       "      <td>Владикавказ</td>\n",
       "    </tr>\n",
       "    <tr>\n",
       "      <th>499</th>\n",
       "      <td>1499</td>\n",
       "      <td>Пермь</td>\n",
       "    </tr>\n",
       "  </tbody>\n",
       "</table>\n",
       "<p>500 rows × 2 columns</p>\n",
       "</div>"
      ],
      "text/plain": [
       "     user_id         city\n",
       "0       1000    Краснодар\n",
       "1       1001       Москва\n",
       "2       1002  Стерлитамак\n",
       "3       1003       Москва\n",
       "4       1004  Новокузнецк\n",
       "..       ...          ...\n",
       "495     1495      Иркутск\n",
       "496     1496      Вологда\n",
       "497     1497    Челябинск\n",
       "498     1498  Владикавказ\n",
       "499     1499        Пермь\n",
       "\n",
       "[500 rows x 2 columns]"
      ]
     },
     "execution_count": 77,
     "metadata": {},
     "output_type": "execute_result"
    }
   ],
   "source": [
    "# декомпозиция датафрейма с клиентами\n",
    "df_city = df_users[['user_id', 'city']]\n",
    "df_city"
   ]
  },
  {
   "cell_type": "code",
   "execution_count": 78,
   "id": "41f3c161",
   "metadata": {},
   "outputs": [
    {
     "data": {
      "text/html": [
       "<div>\n",
       "<style scoped>\n",
       "    .dataframe tbody tr th:only-of-type {\n",
       "        vertical-align: middle;\n",
       "    }\n",
       "\n",
       "    .dataframe tbody tr th {\n",
       "        vertical-align: top;\n",
       "    }\n",
       "\n",
       "    .dataframe thead th {\n",
       "        text-align: right;\n",
       "    }\n",
       "</style>\n",
       "<table border=\"1\" class=\"dataframe\">\n",
       "  <thead>\n",
       "    <tr style=\"text-align: right;\">\n",
       "      <th></th>\n",
       "      <th>user_id</th>\n",
       "      <th>tariff</th>\n",
       "      <th>1</th>\n",
       "      <th>2</th>\n",
       "      <th>3</th>\n",
       "      <th>4</th>\n",
       "      <th>5</th>\n",
       "      <th>6</th>\n",
       "      <th>7</th>\n",
       "      <th>8</th>\n",
       "      <th>9</th>\n",
       "      <th>10</th>\n",
       "      <th>11</th>\n",
       "      <th>12</th>\n",
       "      <th>mean</th>\n",
       "      <th>city</th>\n",
       "    </tr>\n",
       "  </thead>\n",
       "  <tbody>\n",
       "    <tr>\n",
       "      <th>0</th>\n",
       "      <td>1000</td>\n",
       "      <td>ultra</td>\n",
       "      <td>0</td>\n",
       "      <td>0</td>\n",
       "      <td>0</td>\n",
       "      <td>0</td>\n",
       "      <td>0</td>\n",
       "      <td>1950</td>\n",
       "      <td>1950</td>\n",
       "      <td>1950</td>\n",
       "      <td>1950</td>\n",
       "      <td>1950</td>\n",
       "      <td>1950</td>\n",
       "      <td>1950</td>\n",
       "      <td>1950</td>\n",
       "      <td>Краснодар</td>\n",
       "    </tr>\n",
       "    <tr>\n",
       "      <th>1</th>\n",
       "      <td>1001</td>\n",
       "      <td>smart</td>\n",
       "      <td>0</td>\n",
       "      <td>0</td>\n",
       "      <td>0</td>\n",
       "      <td>0</td>\n",
       "      <td>0</td>\n",
       "      <td>0</td>\n",
       "      <td>0</td>\n",
       "      <td>0</td>\n",
       "      <td>0</td>\n",
       "      <td>0</td>\n",
       "      <td>0</td>\n",
       "      <td>550</td>\n",
       "      <td>550</td>\n",
       "      <td>Москва</td>\n",
       "    </tr>\n",
       "    <tr>\n",
       "      <th>2</th>\n",
       "      <td>1002</td>\n",
       "      <td>smart</td>\n",
       "      <td>0</td>\n",
       "      <td>0</td>\n",
       "      <td>0</td>\n",
       "      <td>0</td>\n",
       "      <td>0</td>\n",
       "      <td>0</td>\n",
       "      <td>1150</td>\n",
       "      <td>1550</td>\n",
       "      <td>950</td>\n",
       "      <td>550</td>\n",
       "      <td>1350</td>\n",
       "      <td>1150</td>\n",
       "      <td>1116</td>\n",
       "      <td>Стерлитамак</td>\n",
       "    </tr>\n",
       "    <tr>\n",
       "      <th>3</th>\n",
       "      <td>1003</td>\n",
       "      <td>ultra</td>\n",
       "      <td>0</td>\n",
       "      <td>0</td>\n",
       "      <td>0</td>\n",
       "      <td>0</td>\n",
       "      <td>0</td>\n",
       "      <td>0</td>\n",
       "      <td>0</td>\n",
       "      <td>0</td>\n",
       "      <td>1950</td>\n",
       "      <td>1950</td>\n",
       "      <td>1950</td>\n",
       "      <td>1950</td>\n",
       "      <td>1950</td>\n",
       "      <td>Москва</td>\n",
       "    </tr>\n",
       "    <tr>\n",
       "      <th>4</th>\n",
       "      <td>1004</td>\n",
       "      <td>ultra</td>\n",
       "      <td>0</td>\n",
       "      <td>0</td>\n",
       "      <td>0</td>\n",
       "      <td>0</td>\n",
       "      <td>0</td>\n",
       "      <td>1950</td>\n",
       "      <td>1950</td>\n",
       "      <td>1950</td>\n",
       "      <td>1950</td>\n",
       "      <td>1950</td>\n",
       "      <td>1950</td>\n",
       "      <td>1950</td>\n",
       "      <td>1950</td>\n",
       "      <td>Новокузнецк</td>\n",
       "    </tr>\n",
       "    <tr>\n",
       "      <th>5</th>\n",
       "      <td>1005</td>\n",
       "      <td>smart</td>\n",
       "      <td>0</td>\n",
       "      <td>550</td>\n",
       "      <td>886</td>\n",
       "      <td>1186</td>\n",
       "      <td>835</td>\n",
       "      <td>886</td>\n",
       "      <td>775</td>\n",
       "      <td>949</td>\n",
       "      <td>556</td>\n",
       "      <td>1219</td>\n",
       "      <td>694</td>\n",
       "      <td>838</td>\n",
       "      <td>852</td>\n",
       "      <td>Набережные Челны</td>\n",
       "    </tr>\n",
       "    <tr>\n",
       "      <th>6</th>\n",
       "      <td>1006</td>\n",
       "      <td>smart</td>\n",
       "      <td>0</td>\n",
       "      <td>0</td>\n",
       "      <td>950</td>\n",
       "      <td>550</td>\n",
       "      <td>550</td>\n",
       "      <td>550</td>\n",
       "      <td>1550</td>\n",
       "      <td>1350</td>\n",
       "      <td>750</td>\n",
       "      <td>1550</td>\n",
       "      <td>550</td>\n",
       "      <td>1350</td>\n",
       "      <td>970</td>\n",
       "      <td>Ульяновск</td>\n",
       "    </tr>\n",
       "    <tr>\n",
       "      <th>7</th>\n",
       "      <td>1007</td>\n",
       "      <td>smart</td>\n",
       "      <td>0</td>\n",
       "      <td>0</td>\n",
       "      <td>0</td>\n",
       "      <td>0</td>\n",
       "      <td>1150</td>\n",
       "      <td>685</td>\n",
       "      <td>981</td>\n",
       "      <td>1750</td>\n",
       "      <td>1015</td>\n",
       "      <td>550</td>\n",
       "      <td>990</td>\n",
       "      <td>550</td>\n",
       "      <td>958</td>\n",
       "      <td>Москва</td>\n",
       "    </tr>\n",
       "    <tr>\n",
       "      <th>8</th>\n",
       "      <td>1008</td>\n",
       "      <td>smart</td>\n",
       "      <td>0</td>\n",
       "      <td>0</td>\n",
       "      <td>0</td>\n",
       "      <td>0</td>\n",
       "      <td>0</td>\n",
       "      <td>0</td>\n",
       "      <td>0</td>\n",
       "      <td>0</td>\n",
       "      <td>0</td>\n",
       "      <td>0</td>\n",
       "      <td>0</td>\n",
       "      <td>0</td>\n",
       "      <td>0</td>\n",
       "      <td>Челябинск</td>\n",
       "    </tr>\n",
       "    <tr>\n",
       "      <th>9</th>\n",
       "      <td>1009</td>\n",
       "      <td>smart</td>\n",
       "      <td>0</td>\n",
       "      <td>0</td>\n",
       "      <td>0</td>\n",
       "      <td>550</td>\n",
       "      <td>550</td>\n",
       "      <td>750</td>\n",
       "      <td>2550</td>\n",
       "      <td>2350</td>\n",
       "      <td>1950</td>\n",
       "      <td>1550</td>\n",
       "      <td>950</td>\n",
       "      <td>1350</td>\n",
       "      <td>1394</td>\n",
       "      <td>Пермь</td>\n",
       "    </tr>\n",
       "    <tr>\n",
       "      <th>10</th>\n",
       "      <td>1010</td>\n",
       "      <td>smart</td>\n",
       "      <td>0</td>\n",
       "      <td>0</td>\n",
       "      <td>0</td>\n",
       "      <td>0</td>\n",
       "      <td>0</td>\n",
       "      <td>0</td>\n",
       "      <td>0</td>\n",
       "      <td>0</td>\n",
       "      <td>750</td>\n",
       "      <td>550</td>\n",
       "      <td>1350</td>\n",
       "      <td>1350</td>\n",
       "      <td>1000</td>\n",
       "      <td>Тюмень</td>\n",
       "    </tr>\n",
       "    <tr>\n",
       "      <th>11</th>\n",
       "      <td>1011</td>\n",
       "      <td>smart</td>\n",
       "      <td>0</td>\n",
       "      <td>0</td>\n",
       "      <td>0</td>\n",
       "      <td>1150</td>\n",
       "      <td>1150</td>\n",
       "      <td>950</td>\n",
       "      <td>1356</td>\n",
       "      <td>1795</td>\n",
       "      <td>1950</td>\n",
       "      <td>1540</td>\n",
       "      <td>2553</td>\n",
       "      <td>2150</td>\n",
       "      <td>1621</td>\n",
       "      <td>Самара</td>\n",
       "    </tr>\n",
       "    <tr>\n",
       "      <th>12</th>\n",
       "      <td>1012</td>\n",
       "      <td>smart</td>\n",
       "      <td>0</td>\n",
       "      <td>0</td>\n",
       "      <td>0</td>\n",
       "      <td>950</td>\n",
       "      <td>2750</td>\n",
       "      <td>2550</td>\n",
       "      <td>2150</td>\n",
       "      <td>1950</td>\n",
       "      <td>1350</td>\n",
       "      <td>3350</td>\n",
       "      <td>1950</td>\n",
       "      <td>550</td>\n",
       "      <td>1950</td>\n",
       "      <td>Санкт-Петербург</td>\n",
       "    </tr>\n",
       "    <tr>\n",
       "      <th>13</th>\n",
       "      <td>1013</td>\n",
       "      <td>ultra</td>\n",
       "      <td>0</td>\n",
       "      <td>0</td>\n",
       "      <td>0</td>\n",
       "      <td>0</td>\n",
       "      <td>0</td>\n",
       "      <td>0</td>\n",
       "      <td>0</td>\n",
       "      <td>0</td>\n",
       "      <td>0</td>\n",
       "      <td>0</td>\n",
       "      <td>0</td>\n",
       "      <td>1950</td>\n",
       "      <td>1950</td>\n",
       "      <td>Иваново</td>\n",
       "    </tr>\n",
       "    <tr>\n",
       "      <th>14</th>\n",
       "      <td>1014</td>\n",
       "      <td>smart</td>\n",
       "      <td>0</td>\n",
       "      <td>0</td>\n",
       "      <td>0</td>\n",
       "      <td>0</td>\n",
       "      <td>0</td>\n",
       "      <td>2550</td>\n",
       "      <td>3150</td>\n",
       "      <td>2750</td>\n",
       "      <td>2750</td>\n",
       "      <td>2153</td>\n",
       "      <td>2550</td>\n",
       "      <td>2559</td>\n",
       "      <td>2637</td>\n",
       "      <td>Чебоксары</td>\n",
       "    </tr>\n",
       "    <tr>\n",
       "      <th>15</th>\n",
       "      <td>1015</td>\n",
       "      <td>smart</td>\n",
       "      <td>0</td>\n",
       "      <td>0</td>\n",
       "      <td>0</td>\n",
       "      <td>0</td>\n",
       "      <td>1019</td>\n",
       "      <td>3040</td>\n",
       "      <td>1838</td>\n",
       "      <td>3004</td>\n",
       "      <td>1004</td>\n",
       "      <td>1235</td>\n",
       "      <td>1983</td>\n",
       "      <td>1622</td>\n",
       "      <td>1843</td>\n",
       "      <td>Челябинск</td>\n",
       "    </tr>\n",
       "    <tr>\n",
       "      <th>16</th>\n",
       "      <td>1016</td>\n",
       "      <td>ultra</td>\n",
       "      <td>0</td>\n",
       "      <td>0</td>\n",
       "      <td>0</td>\n",
       "      <td>0</td>\n",
       "      <td>0</td>\n",
       "      <td>0</td>\n",
       "      <td>0</td>\n",
       "      <td>0</td>\n",
       "      <td>0</td>\n",
       "      <td>0</td>\n",
       "      <td>0</td>\n",
       "      <td>1950</td>\n",
       "      <td>1950</td>\n",
       "      <td>Омск</td>\n",
       "    </tr>\n",
       "    <tr>\n",
       "      <th>17</th>\n",
       "      <td>1017</td>\n",
       "      <td>smart</td>\n",
       "      <td>0</td>\n",
       "      <td>0</td>\n",
       "      <td>0</td>\n",
       "      <td>0</td>\n",
       "      <td>0</td>\n",
       "      <td>950</td>\n",
       "      <td>1350</td>\n",
       "      <td>950</td>\n",
       "      <td>1150</td>\n",
       "      <td>1750</td>\n",
       "      <td>1750</td>\n",
       "      <td>750</td>\n",
       "      <td>1235</td>\n",
       "      <td>Краснодар</td>\n",
       "    </tr>\n",
       "    <tr>\n",
       "      <th>18</th>\n",
       "      <td>1018</td>\n",
       "      <td>ultra</td>\n",
       "      <td>0</td>\n",
       "      <td>0</td>\n",
       "      <td>0</td>\n",
       "      <td>0</td>\n",
       "      <td>1950</td>\n",
       "      <td>1950</td>\n",
       "      <td>1950</td>\n",
       "      <td>1950</td>\n",
       "      <td>1950</td>\n",
       "      <td>1950</td>\n",
       "      <td>1950</td>\n",
       "      <td>1950</td>\n",
       "      <td>1950</td>\n",
       "      <td>Уфа</td>\n",
       "    </tr>\n",
       "    <tr>\n",
       "      <th>19</th>\n",
       "      <td>1019</td>\n",
       "      <td>ultra</td>\n",
       "      <td>0</td>\n",
       "      <td>0</td>\n",
       "      <td>0</td>\n",
       "      <td>0</td>\n",
       "      <td>0</td>\n",
       "      <td>1950</td>\n",
       "      <td>1950</td>\n",
       "      <td>1950</td>\n",
       "      <td>1950</td>\n",
       "      <td>0</td>\n",
       "      <td>0</td>\n",
       "      <td>0</td>\n",
       "      <td>1950</td>\n",
       "      <td>Томск</td>\n",
       "    </tr>\n",
       "  </tbody>\n",
       "</table>\n",
       "</div>"
      ],
      "text/plain": [
       "    user_id tariff  1    2    3     4     5     6     7     8     9    10  \\\n",
       "0      1000  ultra  0    0    0     0     0  1950  1950  1950  1950  1950   \n",
       "1      1001  smart  0    0    0     0     0     0     0     0     0     0   \n",
       "2      1002  smart  0    0    0     0     0     0  1150  1550   950   550   \n",
       "3      1003  ultra  0    0    0     0     0     0     0     0  1950  1950   \n",
       "4      1004  ultra  0    0    0     0     0  1950  1950  1950  1950  1950   \n",
       "5      1005  smart  0  550  886  1186   835   886   775   949   556  1219   \n",
       "6      1006  smart  0    0  950   550   550   550  1550  1350   750  1550   \n",
       "7      1007  smart  0    0    0     0  1150   685   981  1750  1015   550   \n",
       "8      1008  smart  0    0    0     0     0     0     0     0     0     0   \n",
       "9      1009  smart  0    0    0   550   550   750  2550  2350  1950  1550   \n",
       "10     1010  smart  0    0    0     0     0     0     0     0   750   550   \n",
       "11     1011  smart  0    0    0  1150  1150   950  1356  1795  1950  1540   \n",
       "12     1012  smart  0    0    0   950  2750  2550  2150  1950  1350  3350   \n",
       "13     1013  ultra  0    0    0     0     0     0     0     0     0     0   \n",
       "14     1014  smart  0    0    0     0     0  2550  3150  2750  2750  2153   \n",
       "15     1015  smart  0    0    0     0  1019  3040  1838  3004  1004  1235   \n",
       "16     1016  ultra  0    0    0     0     0     0     0     0     0     0   \n",
       "17     1017  smart  0    0    0     0     0   950  1350   950  1150  1750   \n",
       "18     1018  ultra  0    0    0     0  1950  1950  1950  1950  1950  1950   \n",
       "19     1019  ultra  0    0    0     0     0  1950  1950  1950  1950     0   \n",
       "\n",
       "      11    12  mean              city  \n",
       "0   1950  1950  1950         Краснодар  \n",
       "1      0   550   550            Москва  \n",
       "2   1350  1150  1116       Стерлитамак  \n",
       "3   1950  1950  1950            Москва  \n",
       "4   1950  1950  1950       Новокузнецк  \n",
       "5    694   838   852  Набережные Челны  \n",
       "6    550  1350   970         Ульяновск  \n",
       "7    990   550   958            Москва  \n",
       "8      0     0     0         Челябинск  \n",
       "9    950  1350  1394             Пермь  \n",
       "10  1350  1350  1000            Тюмень  \n",
       "11  2553  2150  1621            Самара  \n",
       "12  1950   550  1950   Санкт-Петербург  \n",
       "13     0  1950  1950           Иваново  \n",
       "14  2550  2559  2637         Чебоксары  \n",
       "15  1983  1622  1843         Челябинск  \n",
       "16     0  1950  1950              Омск  \n",
       "17  1750   750  1235         Краснодар  \n",
       "18  1950  1950  1950               Уфа  \n",
       "19     0     0  1950             Томск  "
      ]
     },
     "execution_count": 78,
     "metadata": {},
     "output_type": "execute_result"
    }
   ],
   "source": [
    "# присоединение к датафрейму с выручкой по клиентам информации по городам\n",
    "df_total_revenue_a = df_total_revenue.merge(df_city, on='user_id')\n",
    "df_total_revenue_a.head(20)"
   ]
  },
  {
   "cell_type": "markdown",
   "id": "8f40d3a0",
   "metadata": {},
   "source": [
    "Укрупним категории городов, оставим 2 категории: город \"Москва\" и \"Провинция\"."
   ]
  },
  {
   "cell_type": "code",
   "execution_count": 79,
   "id": "09ac28fc",
   "metadata": {},
   "outputs": [
    {
     "data": {
      "text/html": [
       "<div>\n",
       "<style scoped>\n",
       "    .dataframe tbody tr th:only-of-type {\n",
       "        vertical-align: middle;\n",
       "    }\n",
       "\n",
       "    .dataframe tbody tr th {\n",
       "        vertical-align: top;\n",
       "    }\n",
       "\n",
       "    .dataframe thead th {\n",
       "        text-align: right;\n",
       "    }\n",
       "</style>\n",
       "<table border=\"1\" class=\"dataframe\">\n",
       "  <thead>\n",
       "    <tr style=\"text-align: right;\">\n",
       "      <th></th>\n",
       "      <th>user_id</th>\n",
       "      <th>tariff</th>\n",
       "      <th>1</th>\n",
       "      <th>2</th>\n",
       "      <th>3</th>\n",
       "      <th>4</th>\n",
       "      <th>5</th>\n",
       "      <th>6</th>\n",
       "      <th>7</th>\n",
       "      <th>8</th>\n",
       "      <th>9</th>\n",
       "      <th>10</th>\n",
       "      <th>11</th>\n",
       "      <th>12</th>\n",
       "      <th>mean</th>\n",
       "      <th>city</th>\n",
       "    </tr>\n",
       "  </thead>\n",
       "  <tbody>\n",
       "    <tr>\n",
       "      <th>0</th>\n",
       "      <td>1000</td>\n",
       "      <td>ultra</td>\n",
       "      <td>0</td>\n",
       "      <td>0</td>\n",
       "      <td>0</td>\n",
       "      <td>0</td>\n",
       "      <td>0</td>\n",
       "      <td>1950</td>\n",
       "      <td>1950</td>\n",
       "      <td>1950</td>\n",
       "      <td>1950</td>\n",
       "      <td>1950</td>\n",
       "      <td>1950</td>\n",
       "      <td>1950</td>\n",
       "      <td>1950</td>\n",
       "      <td>Провинция</td>\n",
       "    </tr>\n",
       "    <tr>\n",
       "      <th>1</th>\n",
       "      <td>1001</td>\n",
       "      <td>smart</td>\n",
       "      <td>0</td>\n",
       "      <td>0</td>\n",
       "      <td>0</td>\n",
       "      <td>0</td>\n",
       "      <td>0</td>\n",
       "      <td>0</td>\n",
       "      <td>0</td>\n",
       "      <td>0</td>\n",
       "      <td>0</td>\n",
       "      <td>0</td>\n",
       "      <td>0</td>\n",
       "      <td>550</td>\n",
       "      <td>550</td>\n",
       "      <td>Москва</td>\n",
       "    </tr>\n",
       "    <tr>\n",
       "      <th>2</th>\n",
       "      <td>1002</td>\n",
       "      <td>smart</td>\n",
       "      <td>0</td>\n",
       "      <td>0</td>\n",
       "      <td>0</td>\n",
       "      <td>0</td>\n",
       "      <td>0</td>\n",
       "      <td>0</td>\n",
       "      <td>1150</td>\n",
       "      <td>1550</td>\n",
       "      <td>950</td>\n",
       "      <td>550</td>\n",
       "      <td>1350</td>\n",
       "      <td>1150</td>\n",
       "      <td>1116</td>\n",
       "      <td>Провинция</td>\n",
       "    </tr>\n",
       "    <tr>\n",
       "      <th>3</th>\n",
       "      <td>1003</td>\n",
       "      <td>ultra</td>\n",
       "      <td>0</td>\n",
       "      <td>0</td>\n",
       "      <td>0</td>\n",
       "      <td>0</td>\n",
       "      <td>0</td>\n",
       "      <td>0</td>\n",
       "      <td>0</td>\n",
       "      <td>0</td>\n",
       "      <td>1950</td>\n",
       "      <td>1950</td>\n",
       "      <td>1950</td>\n",
       "      <td>1950</td>\n",
       "      <td>1950</td>\n",
       "      <td>Москва</td>\n",
       "    </tr>\n",
       "    <tr>\n",
       "      <th>4</th>\n",
       "      <td>1004</td>\n",
       "      <td>ultra</td>\n",
       "      <td>0</td>\n",
       "      <td>0</td>\n",
       "      <td>0</td>\n",
       "      <td>0</td>\n",
       "      <td>0</td>\n",
       "      <td>1950</td>\n",
       "      <td>1950</td>\n",
       "      <td>1950</td>\n",
       "      <td>1950</td>\n",
       "      <td>1950</td>\n",
       "      <td>1950</td>\n",
       "      <td>1950</td>\n",
       "      <td>1950</td>\n",
       "      <td>Провинция</td>\n",
       "    </tr>\n",
       "    <tr>\n",
       "      <th>5</th>\n",
       "      <td>1005</td>\n",
       "      <td>smart</td>\n",
       "      <td>0</td>\n",
       "      <td>550</td>\n",
       "      <td>886</td>\n",
       "      <td>1186</td>\n",
       "      <td>835</td>\n",
       "      <td>886</td>\n",
       "      <td>775</td>\n",
       "      <td>949</td>\n",
       "      <td>556</td>\n",
       "      <td>1219</td>\n",
       "      <td>694</td>\n",
       "      <td>838</td>\n",
       "      <td>852</td>\n",
       "      <td>Провинция</td>\n",
       "    </tr>\n",
       "    <tr>\n",
       "      <th>6</th>\n",
       "      <td>1006</td>\n",
       "      <td>smart</td>\n",
       "      <td>0</td>\n",
       "      <td>0</td>\n",
       "      <td>950</td>\n",
       "      <td>550</td>\n",
       "      <td>550</td>\n",
       "      <td>550</td>\n",
       "      <td>1550</td>\n",
       "      <td>1350</td>\n",
       "      <td>750</td>\n",
       "      <td>1550</td>\n",
       "      <td>550</td>\n",
       "      <td>1350</td>\n",
       "      <td>970</td>\n",
       "      <td>Провинция</td>\n",
       "    </tr>\n",
       "    <tr>\n",
       "      <th>7</th>\n",
       "      <td>1007</td>\n",
       "      <td>smart</td>\n",
       "      <td>0</td>\n",
       "      <td>0</td>\n",
       "      <td>0</td>\n",
       "      <td>0</td>\n",
       "      <td>1150</td>\n",
       "      <td>685</td>\n",
       "      <td>981</td>\n",
       "      <td>1750</td>\n",
       "      <td>1015</td>\n",
       "      <td>550</td>\n",
       "      <td>990</td>\n",
       "      <td>550</td>\n",
       "      <td>958</td>\n",
       "      <td>Москва</td>\n",
       "    </tr>\n",
       "    <tr>\n",
       "      <th>8</th>\n",
       "      <td>1008</td>\n",
       "      <td>smart</td>\n",
       "      <td>0</td>\n",
       "      <td>0</td>\n",
       "      <td>0</td>\n",
       "      <td>0</td>\n",
       "      <td>0</td>\n",
       "      <td>0</td>\n",
       "      <td>0</td>\n",
       "      <td>0</td>\n",
       "      <td>0</td>\n",
       "      <td>0</td>\n",
       "      <td>0</td>\n",
       "      <td>0</td>\n",
       "      <td>0</td>\n",
       "      <td>Провинция</td>\n",
       "    </tr>\n",
       "    <tr>\n",
       "      <th>9</th>\n",
       "      <td>1009</td>\n",
       "      <td>smart</td>\n",
       "      <td>0</td>\n",
       "      <td>0</td>\n",
       "      <td>0</td>\n",
       "      <td>550</td>\n",
       "      <td>550</td>\n",
       "      <td>750</td>\n",
       "      <td>2550</td>\n",
       "      <td>2350</td>\n",
       "      <td>1950</td>\n",
       "      <td>1550</td>\n",
       "      <td>950</td>\n",
       "      <td>1350</td>\n",
       "      <td>1394</td>\n",
       "      <td>Провинция</td>\n",
       "    </tr>\n",
       "    <tr>\n",
       "      <th>10</th>\n",
       "      <td>1010</td>\n",
       "      <td>smart</td>\n",
       "      <td>0</td>\n",
       "      <td>0</td>\n",
       "      <td>0</td>\n",
       "      <td>0</td>\n",
       "      <td>0</td>\n",
       "      <td>0</td>\n",
       "      <td>0</td>\n",
       "      <td>0</td>\n",
       "      <td>750</td>\n",
       "      <td>550</td>\n",
       "      <td>1350</td>\n",
       "      <td>1350</td>\n",
       "      <td>1000</td>\n",
       "      <td>Провинция</td>\n",
       "    </tr>\n",
       "    <tr>\n",
       "      <th>11</th>\n",
       "      <td>1011</td>\n",
       "      <td>smart</td>\n",
       "      <td>0</td>\n",
       "      <td>0</td>\n",
       "      <td>0</td>\n",
       "      <td>1150</td>\n",
       "      <td>1150</td>\n",
       "      <td>950</td>\n",
       "      <td>1356</td>\n",
       "      <td>1795</td>\n",
       "      <td>1950</td>\n",
       "      <td>1540</td>\n",
       "      <td>2553</td>\n",
       "      <td>2150</td>\n",
       "      <td>1621</td>\n",
       "      <td>Провинция</td>\n",
       "    </tr>\n",
       "    <tr>\n",
       "      <th>12</th>\n",
       "      <td>1012</td>\n",
       "      <td>smart</td>\n",
       "      <td>0</td>\n",
       "      <td>0</td>\n",
       "      <td>0</td>\n",
       "      <td>950</td>\n",
       "      <td>2750</td>\n",
       "      <td>2550</td>\n",
       "      <td>2150</td>\n",
       "      <td>1950</td>\n",
       "      <td>1350</td>\n",
       "      <td>3350</td>\n",
       "      <td>1950</td>\n",
       "      <td>550</td>\n",
       "      <td>1950</td>\n",
       "      <td>Провинция</td>\n",
       "    </tr>\n",
       "    <tr>\n",
       "      <th>13</th>\n",
       "      <td>1013</td>\n",
       "      <td>ultra</td>\n",
       "      <td>0</td>\n",
       "      <td>0</td>\n",
       "      <td>0</td>\n",
       "      <td>0</td>\n",
       "      <td>0</td>\n",
       "      <td>0</td>\n",
       "      <td>0</td>\n",
       "      <td>0</td>\n",
       "      <td>0</td>\n",
       "      <td>0</td>\n",
       "      <td>0</td>\n",
       "      <td>1950</td>\n",
       "      <td>1950</td>\n",
       "      <td>Провинция</td>\n",
       "    </tr>\n",
       "    <tr>\n",
       "      <th>14</th>\n",
       "      <td>1014</td>\n",
       "      <td>smart</td>\n",
       "      <td>0</td>\n",
       "      <td>0</td>\n",
       "      <td>0</td>\n",
       "      <td>0</td>\n",
       "      <td>0</td>\n",
       "      <td>2550</td>\n",
       "      <td>3150</td>\n",
       "      <td>2750</td>\n",
       "      <td>2750</td>\n",
       "      <td>2153</td>\n",
       "      <td>2550</td>\n",
       "      <td>2559</td>\n",
       "      <td>2637</td>\n",
       "      <td>Провинция</td>\n",
       "    </tr>\n",
       "    <tr>\n",
       "      <th>15</th>\n",
       "      <td>1015</td>\n",
       "      <td>smart</td>\n",
       "      <td>0</td>\n",
       "      <td>0</td>\n",
       "      <td>0</td>\n",
       "      <td>0</td>\n",
       "      <td>1019</td>\n",
       "      <td>3040</td>\n",
       "      <td>1838</td>\n",
       "      <td>3004</td>\n",
       "      <td>1004</td>\n",
       "      <td>1235</td>\n",
       "      <td>1983</td>\n",
       "      <td>1622</td>\n",
       "      <td>1843</td>\n",
       "      <td>Провинция</td>\n",
       "    </tr>\n",
       "    <tr>\n",
       "      <th>16</th>\n",
       "      <td>1016</td>\n",
       "      <td>ultra</td>\n",
       "      <td>0</td>\n",
       "      <td>0</td>\n",
       "      <td>0</td>\n",
       "      <td>0</td>\n",
       "      <td>0</td>\n",
       "      <td>0</td>\n",
       "      <td>0</td>\n",
       "      <td>0</td>\n",
       "      <td>0</td>\n",
       "      <td>0</td>\n",
       "      <td>0</td>\n",
       "      <td>1950</td>\n",
       "      <td>1950</td>\n",
       "      <td>Провинция</td>\n",
       "    </tr>\n",
       "    <tr>\n",
       "      <th>17</th>\n",
       "      <td>1017</td>\n",
       "      <td>smart</td>\n",
       "      <td>0</td>\n",
       "      <td>0</td>\n",
       "      <td>0</td>\n",
       "      <td>0</td>\n",
       "      <td>0</td>\n",
       "      <td>950</td>\n",
       "      <td>1350</td>\n",
       "      <td>950</td>\n",
       "      <td>1150</td>\n",
       "      <td>1750</td>\n",
       "      <td>1750</td>\n",
       "      <td>750</td>\n",
       "      <td>1235</td>\n",
       "      <td>Провинция</td>\n",
       "    </tr>\n",
       "    <tr>\n",
       "      <th>18</th>\n",
       "      <td>1018</td>\n",
       "      <td>ultra</td>\n",
       "      <td>0</td>\n",
       "      <td>0</td>\n",
       "      <td>0</td>\n",
       "      <td>0</td>\n",
       "      <td>1950</td>\n",
       "      <td>1950</td>\n",
       "      <td>1950</td>\n",
       "      <td>1950</td>\n",
       "      <td>1950</td>\n",
       "      <td>1950</td>\n",
       "      <td>1950</td>\n",
       "      <td>1950</td>\n",
       "      <td>1950</td>\n",
       "      <td>Провинция</td>\n",
       "    </tr>\n",
       "    <tr>\n",
       "      <th>19</th>\n",
       "      <td>1019</td>\n",
       "      <td>ultra</td>\n",
       "      <td>0</td>\n",
       "      <td>0</td>\n",
       "      <td>0</td>\n",
       "      <td>0</td>\n",
       "      <td>0</td>\n",
       "      <td>1950</td>\n",
       "      <td>1950</td>\n",
       "      <td>1950</td>\n",
       "      <td>1950</td>\n",
       "      <td>0</td>\n",
       "      <td>0</td>\n",
       "      <td>0</td>\n",
       "      <td>1950</td>\n",
       "      <td>Провинция</td>\n",
       "    </tr>\n",
       "  </tbody>\n",
       "</table>\n",
       "</div>"
      ],
      "text/plain": [
       "    user_id tariff  1    2    3     4     5     6     7     8     9    10  \\\n",
       "0      1000  ultra  0    0    0     0     0  1950  1950  1950  1950  1950   \n",
       "1      1001  smart  0    0    0     0     0     0     0     0     0     0   \n",
       "2      1002  smart  0    0    0     0     0     0  1150  1550   950   550   \n",
       "3      1003  ultra  0    0    0     0     0     0     0     0  1950  1950   \n",
       "4      1004  ultra  0    0    0     0     0  1950  1950  1950  1950  1950   \n",
       "5      1005  smart  0  550  886  1186   835   886   775   949   556  1219   \n",
       "6      1006  smart  0    0  950   550   550   550  1550  1350   750  1550   \n",
       "7      1007  smart  0    0    0     0  1150   685   981  1750  1015   550   \n",
       "8      1008  smart  0    0    0     0     0     0     0     0     0     0   \n",
       "9      1009  smart  0    0    0   550   550   750  2550  2350  1950  1550   \n",
       "10     1010  smart  0    0    0     0     0     0     0     0   750   550   \n",
       "11     1011  smart  0    0    0  1150  1150   950  1356  1795  1950  1540   \n",
       "12     1012  smart  0    0    0   950  2750  2550  2150  1950  1350  3350   \n",
       "13     1013  ultra  0    0    0     0     0     0     0     0     0     0   \n",
       "14     1014  smart  0    0    0     0     0  2550  3150  2750  2750  2153   \n",
       "15     1015  smart  0    0    0     0  1019  3040  1838  3004  1004  1235   \n",
       "16     1016  ultra  0    0    0     0     0     0     0     0     0     0   \n",
       "17     1017  smart  0    0    0     0     0   950  1350   950  1150  1750   \n",
       "18     1018  ultra  0    0    0     0  1950  1950  1950  1950  1950  1950   \n",
       "19     1019  ultra  0    0    0     0     0  1950  1950  1950  1950     0   \n",
       "\n",
       "      11    12  mean       city  \n",
       "0   1950  1950  1950  Провинция  \n",
       "1      0   550   550     Москва  \n",
       "2   1350  1150  1116  Провинция  \n",
       "3   1950  1950  1950     Москва  \n",
       "4   1950  1950  1950  Провинция  \n",
       "5    694   838   852  Провинция  \n",
       "6    550  1350   970  Провинция  \n",
       "7    990   550   958     Москва  \n",
       "8      0     0     0  Провинция  \n",
       "9    950  1350  1394  Провинция  \n",
       "10  1350  1350  1000  Провинция  \n",
       "11  2553  2150  1621  Провинция  \n",
       "12  1950   550  1950  Провинция  \n",
       "13     0  1950  1950  Провинция  \n",
       "14  2550  2559  2637  Провинция  \n",
       "15  1983  1622  1843  Провинция  \n",
       "16     0  1950  1950  Провинция  \n",
       "17  1750   750  1235  Провинция  \n",
       "18  1950  1950  1950  Провинция  \n",
       "19     0     0  1950  Провинция  "
      ]
     },
     "execution_count": 79,
     "metadata": {},
     "output_type": "execute_result"
    }
   ],
   "source": [
    "# создание категории \"Провинция\" в столбце с наименованием города при помощи метода where\n",
    "df_total_revenue_a['city'] = df_total_revenue_a['city'].where(df_total_revenue_a['city'] == 'Москва', 'Провинция')\n",
    "df_total_revenue_a.head(20)"
   ]
  },
  {
   "cell_type": "markdown",
   "id": "437ca450",
   "metadata": {},
   "source": [
    "## Шаг 3. Анализ поведения клиентов."
   ]
  },
  {
   "cell_type": "markdown",
   "id": "02c8711f",
   "metadata": {},
   "source": [
    "Построим гистограммы распределения средних параметров по пользователям тарифов \"smart\" и \"ultra\", а также вычислим основные статистические показатели по ним."
   ]
  },
  {
   "cell_type": "code",
   "execution_count": 80,
   "id": "6d4f7980",
   "metadata": {},
   "outputs": [],
   "source": [
    "# создание функции для построения гистограммы распределения\n",
    "def hist_serv(data, name_title, x_lab):\n",
    "    data['mean'][(data['tariff'] == 'smart') & \n",
    "                     (data['mean'] != 0) ].hist(bins=50, alpha=0.3, rwidth=0.9, figsize=(12, 6), grid=True)\n",
    "    data['mean'][(data['tariff'] == 'ultra') & \n",
    "                         (data['mean'] != 0) ].hist(bins=50, alpha=0.5, rwidth=0.9, figsize=(12, 6), grid=True)\n",
    "    plt.title('распределение сред{}'.format(name_title), size=20)\n",
    "    plt.xlabel(x_lab, size=15)\n",
    "    plt.ylabel('частота', size=15)\n",
    "    plt.legend(['smart', 'ultra'])"
   ]
  },
  {
   "cell_type": "code",
   "execution_count": 81,
   "id": "18364025",
   "metadata": {},
   "outputs": [
    {
     "data": {
      "image/png": "[encoded data removed]",
      "text/plain": [
       "<Figure size 864x432 with 1 Axes>"
      ]
     },
     "metadata": {
      "needs_background": "light"
     },
     "output_type": "display_data"
    }
   ],
   "source": [
    "# вызов функции для построения гистограммы распределения по продолжительности звонков\n",
    "hist_serv(df_calls_trf, 'ней длительности звонков в месяц', 'минуты')"
   ]
  },
  {
   "cell_type": "markdown",
   "id": "ffb10aac",
   "metadata": {},
   "source": [
    "Распределение длительности звонков на тарифе \"smart\" близкое к нормальному. Основная часть пользователей тарифа \"smart\" используют от 200 до 750 минут разговоров в месяц. В среднем длительность звонков составляет 473 минуты разговоров, что укладывается в лимит АП(абон. платы), именно максимальное число клиентов стараются израсходовать почти все включенные в АП минуты более дешевого тарифа. Распределение длительности звонков клиентов на тарифе \"ultra\" несколько больше растянуто по оси X. У них средние звонки в районе 600 минут, но дастаточно много разговаривают до 1000 минут и более. Но в отличие от дешевого тарифа, все клиенты выборки укладываются в лимит звонков по АП. "
   ]
  },
  {
   "cell_type": "code",
   "execution_count": 82,
   "id": "fd499628",
   "metadata": {},
   "outputs": [],
   "source": [
    "# создание функции для расчета среднего размера услуг в месяц по тарифам\n",
    "def mean_serv_tar(data, name_mean):\n",
    "    print('Средн{} в месяц у клиентов на тарифе смарт: {:.0f}.'.format(name_mean, (data['mean']\n",
    "                                        [(data['tariff'] == 'smart') & (data['mean'] != 0) ]).mean()))\n",
    "    print('Средн{} в месяц у клиентов на тарифе ультра: {:.0f}.'.format(name_mean, \n",
    "                            (data['mean'][(data['tariff'] == 'ultra') & (data['mean'] != 0) ]).mean()))"
   ]
  },
  {
   "cell_type": "code",
   "execution_count": 83,
   "id": "93507d65",
   "metadata": {},
   "outputs": [
    {
     "name": "stdout",
     "output_type": "stream",
     "text": [
      "Средняя продолжительность звонков в месяц у клиентов на тарифе смарт: 473.\n",
      "Средняя продолжительность звонков в месяц у клиентов на тарифе ультра: 610.\n"
     ]
    }
   ],
   "source": [
    "# вызов функции для рассчета средней продолжительности звонков вмесяц\n",
    "mean_serv_tar(df_calls_trf, 'яя продолжительность звонков')"
   ]
  },
  {
   "cell_type": "code",
   "execution_count": 84,
   "id": "7e8ed4c9",
   "metadata": {},
   "outputs": [],
   "source": [
    "# создание функции для расчета дисперсии среднего размера услуг в месяц по тарифам\n",
    "def disper_serv_tar(data, name_disp):\n",
    "    variance_smart = np.var((data['mean'][(data['tariff'] == 'smart') & \n",
    "                                                   (data['mean'] != 0)]), ddof=1)\n",
    "    print('Дисперсия по {} в месяц у клиентов на тарифе смарт: {:.2f}'.format(name_disp, variance_smart))\n",
    "    variance_ultra = np.var((data['mean'][(data['tariff'] == 'ultra') & \n",
    "                                                   (data['mean'] != 0)]), ddof=1)\n",
    "    print('Дисперсия по {} в месяц у клиентов на тарифе ультра: {:.2f}'.format(name_disp, variance_ultra))"
   ]
  },
  {
   "cell_type": "code",
   "execution_count": 85,
   "id": "66d487af",
   "metadata": {},
   "outputs": [
    {
     "name": "stdout",
     "output_type": "stream",
     "text": [
      "Дисперсия по продолжительности звонков в месяц у клиентов на тарифе смарт: 31345.14\n",
      "Дисперсия по продолжительности звонков в месяц у клиентов на тарифе ультра: 97427.91\n"
     ]
    }
   ],
   "source": [
    "# вызов функции для рассчета дисперсии по продолжительности звонков вмесяц\n",
    "disper_serv_tar(df_calls_trf, 'продолжительности звонков',)"
   ]
  },
  {
   "cell_type": "code",
   "execution_count": 86,
   "id": "ff1d33fb",
   "metadata": {},
   "outputs": [],
   "source": [
    "# создание функции для расчета стандартного отклонения среднего размера услуг в месяц по тарифам\n",
    "def std_serv_tar(data, name_std):\n",
    "    std_dev_smart = np.std((data['mean'][(data['tariff'] == 'smart') & \n",
    "                                                   (data['mean'] != 0)]), ddof=1)\n",
    "    print('Стандартное отклонение по {} в месяц у клиентов на тарифе смарт: {:.2f}'\n",
    "      .format(name_std, std_dev_smart))\n",
    "    std_dev_ultra = np.std((data['mean'][(data['tariff'] == 'ultra') & \n",
    "                                                   (data['mean'] != 0)]), ddof=1)\n",
    "    print('Стандартное отклонение по {} в месяц у клиентов на тарифе ультра: {:.2f}'\n",
    "      .format(name_std, std_dev_ultra))"
   ]
  },
  {
   "cell_type": "code",
   "execution_count": 87,
   "id": "7219508e",
   "metadata": {},
   "outputs": [
    {
     "name": "stdout",
     "output_type": "stream",
     "text": [
      "Стандартное отклонение по продолжительности звонков в месяц у клиентов на тарифе смарт: 177.05\n",
      "Стандартное отклонение по продолжительности звонков в месяц у клиентов на тарифе ультра: 312.13\n"
     ]
    }
   ],
   "source": [
    "# вызов функции для рассчета стандартного отклонения по продолжительности звонков вмесяц\n",
    "std_serv_tar(df_calls_trf, 'продолжительности звонков',)"
   ]
  },
  {
   "cell_type": "markdown",
   "id": "4de18ee1",
   "metadata": {},
   "source": [
    "Как видим, статистические показатели по двум тарифам в категории длительности звонков отличаются существенно, разница в средней продолжительности около 20 %, а стандартное отклонение более чем на 40 %. Это можно объяснить отчасти значительно большей свободой абонентов на тарифе \"ultra\", где они даже не выходят за лимиты тарифа, и наоборот низким лимитом на звонки  абонентов тарифа \"smart\"."
   ]
  },
  {
   "cell_type": "code",
   "execution_count": 88,
   "id": "ebb336fc",
   "metadata": {},
   "outputs": [
    {
     "data": {
      "image/png": "[encoded data removed]",
      "text/plain": [
       "<Figure size 864x432 with 1 Axes>"
      ]
     },
     "metadata": {
      "needs_background": "light"
     },
     "output_type": "display_data"
    }
   ],
   "source": [
    "# вызов функции для построения гистограммы распределения по количеству сообщений\n",
    "hist_serv(df_messages_trf, 'нему количеству смс-сообщений в месяц', 'число сообщений')"
   ]
  },
  {
   "cell_type": "markdown",
   "id": "4cdd9e7e",
   "metadata": {},
   "source": [
    "Распределение среднего количества сообщений в месяц по абонентам смещено влево к меньшему числу. У абонентов тарифа \"smart\" наблюдаются пики распределения в районе от нуля до примерно 30 сообщений, а также в районе лимита АП, как и у звонков, редко клиенты дешевого тарифа пересылают более 100 сообщений в месяц. Количество сообщений пересылаемых абонентами \"ultra\" также в редких случаях переваливает за 100, но очень редко отсылают до 200 сообщений, хотя среднее количество сообщений почти в 2 раза больше чем у клиентов \"smart\" Опять таки сказывается высокий порог лимита по АП на дорогом тарифе, при этом использование сообщений по-полной не наблюдается, что скорее всего объясняется более удобными альтернативами использования интернет-мессенджеров."
   ]
  },
  {
   "cell_type": "code",
   "execution_count": 89,
   "id": "d8f3abbd",
   "metadata": {},
   "outputs": [
    {
     "name": "stdout",
     "output_type": "stream",
     "text": [
      "Среднее количество сообщений в месяц у клиентов на тарифе смарт: 42.\n",
      "Среднее количество сообщений в месяц у клиентов на тарифе ультра: 71.\n"
     ]
    }
   ],
   "source": [
    "# вызов функции для рассчета среднего количества сообщений вмесяц\n",
    "mean_serv_tar(df_messages_trf, 'ее количество сообщений',)"
   ]
  },
  {
   "cell_type": "code",
   "execution_count": 90,
   "id": "28d6f96c",
   "metadata": {},
   "outputs": [
    {
     "name": "stdout",
     "output_type": "stream",
     "text": [
      "Дисперсия по количеству сообщений в месяц у клиентов на тарифе смарт: 769.84\n",
      "Дисперсия по количеству сообщений в месяц у клиентов на тарифе ультра: 2267.62\n"
     ]
    }
   ],
   "source": [
    "# вызов функции для рассчета дисперсии по среднему количеству сообщений вмесяц\n",
    "disper_serv_tar(df_messages_trf, 'количеству сообщений',)"
   ]
  },
  {
   "cell_type": "code",
   "execution_count": 91,
   "id": "342c9744",
   "metadata": {},
   "outputs": [
    {
     "name": "stdout",
     "output_type": "stream",
     "text": [
      "Стандартное отклонение по количеству сообщений в месяц у клиентов на тарифе смарт: 27.75\n",
      "Стандартное отклонение по количеству сообщений в месяц у клиентов на тарифе ультра: 47.62\n"
     ]
    }
   ],
   "source": [
    "# вызов функции для рассчета стандартного отклонения по среднему количеству сообщений вмесяц\n",
    "std_serv_tar(df_messages_trf, 'количеству сообщений',)"
   ]
  },
  {
   "cell_type": "code",
   "execution_count": 92,
   "id": "75791515",
   "metadata": {},
   "outputs": [
    {
     "data": {
      "image/png": "[encoded data removed]",
      "text/plain": [
       "<Figure size 864x432 with 1 Axes>"
      ]
     },
     "metadata": {
      "needs_background": "light"
     },
     "output_type": "display_data"
    }
   ],
   "source": [
    "# вызов функции для построения гистограммы распределения по объему интернет-траффика\n",
    "hist_serv(df_internet_trf, 'него объема интернет-траффика в месяц', 'гигабайты')"
   ]
  },
  {
   "cell_type": "markdown",
   "id": "02872e9c",
   "metadata": {},
   "source": [
    "Распределение объема интернет-траффика по обоим тарифам близко к симметричному, но с некоторыми пропусками, скорее всего сказывается округление объема до целого числа гигабайт. В отличие от звонков и сообщений основная доля абонентов на \"smart\"использует интернет сверх лимита АП. Более высокий лимит на тарифе \"ultra\" позволяет более редко выходить клиенту за пределы лимита АП. Но случаи превышения лимита траффика на дорогом тарифе нередки. Средний объем траффика на обоих тарифах отличается примерно на 20 %.  Но разброс данных в разы больше у абонентов \"ultra\". "
   ]
  },
  {
   "cell_type": "code",
   "execution_count": 93,
   "id": "c42eaa84",
   "metadata": {},
   "outputs": [
    {
     "name": "stdout",
     "output_type": "stream",
     "text": [
      "Средний объем интернет-траффика в месяц у клиентов на тарифе смарт: 18.\n",
      "Средний объем интернет-траффика в месяц у клиентов на тарифе ультра: 22.\n"
     ]
    }
   ],
   "source": [
    "# вызов функции для рассчета среднего объема интернет-траффика вмесяц\n",
    "mean_serv_tar(df_internet_trf, 'ий объем интернет-траффика',)"
   ]
  },
  {
   "cell_type": "code",
   "execution_count": 94,
   "id": "91f2fa1a",
   "metadata": {},
   "outputs": [
    {
     "name": "stdout",
     "output_type": "stream",
     "text": [
      "Дисперсия по объему интернет-траффика в месяц у клиентов на тарифе смарт: 21.96\n",
      "Дисперсия по объему интернет-траффика в месяц у клиентов на тарифе ультра: 84.43\n"
     ]
    }
   ],
   "source": [
    "# вызов функции для рассчета дисперсии по среднему объему интернет-траффика вмесяц\n",
    "disper_serv_tar(df_internet_trf, 'объему интернет-траффика',)"
   ]
  },
  {
   "cell_type": "code",
   "execution_count": 95,
   "id": "047051a5",
   "metadata": {},
   "outputs": [
    {
     "name": "stdout",
     "output_type": "stream",
     "text": [
      "Стандартное отклонение по объему интернет-траффика в месяц у клиентов на тарифе смарт: 4.69\n",
      "Стандартное отклонение по объему интернет-траффика в месяц у клиентов на тарифе ультра: 9.19\n"
     ]
    }
   ],
   "source": [
    "# вызов функции для рассчета стандартного отклонения по среднему объему интернет-траффика вмесяц\n",
    "std_serv_tar(df_internet_trf, 'объему интернет-траффика',)"
   ]
  },
  {
   "cell_type": "markdown",
   "id": "a6c8150c",
   "metadata": {},
   "source": [
    "Выполним обзор и анализ распределения данных помесячной выручки с абонентов  по тарифам и сравним распределение в столице и регионах."
   ]
  },
  {
   "cell_type": "code",
   "execution_count": 96,
   "id": "8fdbeb9a",
   "metadata": {},
   "outputs": [
    {
     "data": {
      "image/png": "[encoded data removed]",
      "text/plain": [
       "<Figure size 864x432 with 1 Axes>"
      ]
     },
     "metadata": {
      "needs_background": "light"
     },
     "output_type": "display_data"
    }
   ],
   "source": [
    "# вызов функции для построения гистограммы распределения по выручке в месяц\n",
    "hist_serv(df_total_revenue_a, 'ей выручки в месяц по тарифам', 'рубли')"
   ]
  },
  {
   "cell_type": "markdown",
   "id": "347f1ff1",
   "metadata": {},
   "source": [
    "Как видим, данные по месячной выручке с обоих тарифов имеют неравномерное распределение и левое смещение в сторону меньших значений. Минимальные выручки у всех клиентов каждого из тарифов одинаковые и обусловлены обязательной АП. Но как видно из графика, клиенты тарифа \"smart\" очень часто тратят на связь гораздо больше размера АП, даже в редких случаях больше, чем абоненты \"ultra\". Такое положение дел можно объяснить низкими порогами лимитов на связь и высокими сверхлимитными тарифами. Абоненты \"ultra\" напротив, крайне редко тратят больше, чем размер АП, а при превышении порога тратят в три раза меньше на связь, чем при такой ситуации клиенты тарифа \"smart\". Выходит тариф \"smart\" не такой уж и дешевый."
   ]
  },
  {
   "cell_type": "code",
   "execution_count": 97,
   "id": "0ae41c37",
   "metadata": {},
   "outputs": [
    {
     "name": "stdout",
     "output_type": "stream",
     "text": [
      "Средняя выручка в месяц у клиентов на тарифе смарт: 1557.\n",
      "Средняя выручка в месяц у клиентов на тарифе ультра: 2149.\n"
     ]
    }
   ],
   "source": [
    "# вызов функции для рассчета средней выручки у клиентов вмесяц\n",
    "mean_serv_tar(df_total_revenue_a, 'яя выручка',)"
   ]
  },
  {
   "cell_type": "code",
   "execution_count": 98,
   "id": "937597a7",
   "metadata": {},
   "outputs": [
    {
     "name": "stdout",
     "output_type": "stream",
     "text": [
      "Дисперсия по средней выручке в месяц у клиентов на тарифе смарт: 795077.10\n",
      "Дисперсия по средней выручке в месяц у клиентов на тарифе ультра: 201676.99\n"
     ]
    }
   ],
   "source": [
    "# вызов функции для рассчета дисперсии по среднеей выручке у клиентов вмесяц\n",
    "disper_serv_tar(df_total_revenue_a, 'средней выручке',)"
   ]
  },
  {
   "cell_type": "code",
   "execution_count": 99,
   "id": "d0989bc6",
   "metadata": {},
   "outputs": [
    {
     "name": "stdout",
     "output_type": "stream",
     "text": [
      "Стандартное отклонение по средней выручке в месяц у клиентов на тарифе смарт: 891.67\n",
      "Стандартное отклонение по средней выручке в месяц у клиентов на тарифе ультра: 449.08\n"
     ]
    }
   ],
   "source": [
    "# вызов функции для рассчета стандартного отклонения по средней выручке у клиентов вмесяц\n",
    "std_serv_tar(df_total_revenue_a, 'средней выручке',)"
   ]
  },
  {
   "cell_type": "markdown",
   "id": "4fda1cd0",
   "metadata": {},
   "source": [
    "Из расчетов понятно, что разброс в данных по тарифу \"smart\" в два раза больше, чем на втором тарифе. Пользователи \"smart\" часто выходят за рамки лимитов АП, а тарифы при этом в 3 раза дороже, чем на \"ultra\". Сравним распределение выручки в Москве и в Провинции."
   ]
  },
  {
   "cell_type": "code",
   "execution_count": 100,
   "id": "6cdec370",
   "metadata": {},
   "outputs": [
    {
     "data": {
      "text/plain": [
       "<matplotlib.legend.Legend at 0x1b05e5a3d88>"
      ]
     },
     "execution_count": 100,
     "metadata": {},
     "output_type": "execute_result"
    },
    {
     "data": {
      "image/png": "[encoded data removed]",
      "text/plain": [
       "<Figure size 864x432 with 1 Axes>"
      ]
     },
     "metadata": {
      "needs_background": "light"
     },
     "output_type": "display_data"
    }
   ],
   "source": [
    "# построение гистрограммы распределения средней выручки с клиентов в Москве и в Провинции\n",
    "df_total_revenue_a['mean'][(df_total_revenue_a['city'] == 'Провинция') & \n",
    "                     (df_total_revenue_a['mean'] != 0) ].hist(bins=50, alpha=0.4, rwidth=0.9, figsize=(12, 6), grid=True)\n",
    "df_total_revenue_a['mean'][(df_total_revenue_a['city'] == 'Москва') & \n",
    "                     (df_total_revenue_a['mean'] != 0) ].hist(bins=50, alpha=0.6, rwidth=0.9, figsize=(12, 6), grid=True)\n",
    "plt.title('распределение средней выручки в месяц по городам', size=20)\n",
    "plt.xlabel('рубли', size=15)\n",
    "plt.ylabel('частота', size=15)\n",
    "plt.legend(['Провинция', 'Москва'])"
   ]
  },
  {
   "cell_type": "markdown",
   "id": "f1a0c184",
   "metadata": {},
   "source": [
    "Исходя из графика распределение данных среднемесячной выручки в Москве и Провинции выглядит похожим образом и смещено влево. Выделяются данные на отметке около 2000 руб. - в основном это выручка с АП по тарифу \"ultra\". **Проверим далее гипотезы о равенстве выручки с каждого клиента по тарифам и ее равенстве в Москве и регионах.** "
   ]
  },
  {
   "cell_type": "code",
   "execution_count": 101,
   "id": "c3810a65",
   "metadata": {},
   "outputs": [
    {
     "name": "stdout",
     "output_type": "stream",
     "text": [
      "Средняя выручка у клиентов в Москве: 1709 рублей.\n",
      "Средняя выручка в месяц у клиентов в Провинции: 1745 рублей.\n"
     ]
    }
   ],
   "source": [
    "# расчет средней выручки с клиентов в месяц в Москве и Провинции\n",
    "print('Средняя выручка у клиентов в Москве: {:.0f} рублей.'.format((df_total_revenue_a['mean']\n",
    "                             [(df_total_revenue_a['city'] == 'Москва') & (df_total_revenue_a['mean'] != 0) ]).mean()))\n",
    "print('Средняя выручка в месяц у клиентов в Провинции: {:.0f} рублей.'.format((df_total_revenue_a['mean']\n",
    "                            [(df_total_revenue_a['city'] == 'Провинция') & (df_total_revenue_a['mean'] != 0) ]).mean()))"
   ]
  },
  {
   "cell_type": "code",
   "execution_count": 102,
   "id": "6e44bf20",
   "metadata": {},
   "outputs": [
    {
     "name": "stdout",
     "output_type": "stream",
     "text": [
      "Дисперсия по средней выручке в месяц у клиентов из Москвы: 568164\n",
      "Дисперсия по средней выручке в месяц у клиентов из Провинции: 717985\n"
     ]
    }
   ],
   "source": [
    "# расчет дисперсии по среднемесячной выручке с клиентов в Москве и Провинции\n",
    "variance_revenue_city_msk = np.var((df_total_revenue_a['mean'][(df_total_revenue_a['city'] == 'Москва') & \n",
    "                                                   (df_total_revenue_a['mean'] != 0)]), ddof=1)\n",
    "print('Дисперсия по средней выручке в месяц у клиентов из Москвы: {:.0f}'.format(variance_revenue_city_msk))\n",
    "variance_revenue_city_prv = np.var((df_total_revenue_a['mean'][(df_total_revenue_a['city'] == 'Провинция') & \n",
    "                                                   (df_total_revenue_a['mean'] != 0)]), ddof=1)\n",
    "print('Дисперсия по средней выручке в месяц у клиентов из Провинции: {:.0f}'.format(variance_revenue_city_prv))"
   ]
  },
  {
   "cell_type": "code",
   "execution_count": 103,
   "id": "6455085f",
   "metadata": {},
   "outputs": [
    {
     "name": "stdout",
     "output_type": "stream",
     "text": [
      "Стандартное отклонение по выручке у клиентов из Москвы: 753.77\n",
      "Стандартное отклонение по выручке у клиентов из Провинции: 847.34\n"
     ]
    }
   ],
   "source": [
    "# расчет стандартного отклонения по средней месячной выручке с клиентов в Москве и Провинции\n",
    "std_dev_revenue_city_msk = np.std((df_total_revenue_a['mean'][(df_total_revenue_a['city'] == 'Москва') & \n",
    "                                                   (df_total_revenue_a['mean'] != 0)]), ddof=1)\n",
    "print('Стандартное отклонение по выручке у клиентов из Москвы: {:.2f}'\n",
    "      .format(std_dev_revenue_city_msk))\n",
    "std_dev_revenue_city_prv = np.std((df_total_revenue_a['mean'][(df_total_revenue_a['city'] == 'Провинция') & \n",
    "                                                   (df_total_revenue_a['mean'] != 0)]), ddof=1)\n",
    "print('Стандартное отклонение по выручке у клиентов из Провинции: {:.2f}'\n",
    "      .format(std_dev_revenue_city_prv))"
   ]
  },
  {
   "cell_type": "markdown",
   "id": "5b4797e3",
   "metadata": {},
   "source": [
    "## Шаг 4. Проверка гипотез."
   ]
  },
  {
   "cell_type": "markdown",
   "id": "13594971",
   "metadata": {},
   "source": [
    "### Шаг 4.1. Гипотеза о равенстве средней выручки по тарифам."
   ]
  },
  {
   "cell_type": "markdown",
   "id": "70c0e0ee",
   "metadata": {},
   "source": [
    "Нулевую гипотезу обычно формулируют исходя из равенства значений сравниваемых совокупных выборок. Поэтому сформулируем нулевую гипотезу следующим образом:"
   ]
  },
  {
   "cell_type": "markdown",
   "id": "23d75e79",
   "metadata": {},
   "source": [
    "**Проверка первой гипотезы. H0: средняя выручка пользователей тарифов \"smart\" и \"ultra\" равны.**\n",
    "Альтернативную гипотезу сформулируем как двухстороннюю:\n",
    "**Н1: средняя выручка пользователей тарифов \"smart\" и \"ultra\" различаются.**\n",
    "Для того, чтобы отвергнуть или подтвердить гипотезу по 2-м выборкам будем использовать метод для проверки гипотезы о равенстве среднего двух генеральных совокупностей по взятым из них выборкам, то есть двухсторонний ttest методом scipy.stats.ttest_ind(array1, array2, equal_var). Дисперсии распределения у тарифов сильно отличаются, поэтому укажем параметр equal_var=False. Предварительно запишем массивы выборок по тарифам в отдельные переменные. Определим параметр значимости alpha = 0.05."
   ]
  },
  {
   "cell_type": "code",
   "execution_count": 104,
   "id": "2a14d73d",
   "metadata": {},
   "outputs": [],
   "source": [
    "# запись данных по среднемесячной выручке абонентов в переменные\n",
    "smart_revenue = df_total_revenue_a[df_total_revenue_a['tariff'] == 'smart']\n",
    "smart_revenue = smart_revenue.iloc[:,2:14]\n",
    "ultra_revenue = df_total_revenue_a[df_total_revenue_a['tariff'] == 'ultra']\n",
    "ultra_revenue = ultra_revenue.iloc[:,2:14]"
   ]
  },
  {
   "cell_type": "code",
   "execution_count": 105,
   "id": "3ad910da",
   "metadata": {
    "scrolled": true
   },
   "outputs": [
    {
     "data": {
      "text/plain": [
       "array([[   0,    0,    0, ...,    0,    0,  550],\n",
       "       [   0,    0,    0, ...,  550, 1350, 1150],\n",
       "       [   0,  550,  886, ..., 1219,  694,  838],\n",
       "       ...,\n",
       "       [   0,    0,    0, ...,    0,  550, 1685],\n",
       "       [   0,    0,    0, ...,    0,    0,    0],\n",
       "       [   0,    0,    0, ..., 1150, 1513,  598]], dtype=int64)"
      ]
     },
     "execution_count": 105,
     "metadata": {},
     "output_type": "execute_result"
    }
   ],
   "source": [
    "# конвертация датафрейма данных с тарифом \"smart\" в numpy()\n",
    "smart_revenue_a = np.array(smart_revenue)\n",
    "smart_revenue_a"
   ]
  },
  {
   "cell_type": "code",
   "execution_count": 106,
   "id": "07069562",
   "metadata": {},
   "outputs": [],
   "source": [
    "# изменение формы массива в одну строку данных с тарифом \"smart\" \n",
    "smart_revenue_a = smart_revenue_a.ravel()"
   ]
  },
  {
   "cell_type": "code",
   "execution_count": 107,
   "id": "44c0008c",
   "metadata": {},
   "outputs": [
    {
     "data": {
      "text/plain": [
       "array([ 550, 1150, 1550, ..., 1150, 1513,  598], dtype=int64)"
      ]
     },
     "execution_count": 107,
     "metadata": {},
     "output_type": "execute_result"
    }
   ],
   "source": [
    "# удаление нолей в массиве с данными по тарифу \"smart\" \n",
    "smart_revenue_a = smart_revenue_a[smart_revenue_a != 0]\n",
    "smart_revenue_a"
   ]
  },
  {
   "cell_type": "code",
   "execution_count": 108,
   "id": "006ce83e",
   "metadata": {},
   "outputs": [
    {
     "data": {
      "text/plain": [
       "array([[   0,    0,    0, ..., 1950, 1950, 1950],\n",
       "       [   0,    0,    0, ..., 1950, 1950, 1950],\n",
       "       [   0,    0,    0, ..., 1950, 1950, 1950],\n",
       "       ...,\n",
       "       [   0,    0,    0, ..., 1950, 1950, 1950],\n",
       "       [   0,    0,    0, ...,    0,    0, 3750],\n",
       "       [   0,    0,    0, ..., 1950, 3300, 1950]], dtype=int64)"
      ]
     },
     "execution_count": 108,
     "metadata": {},
     "output_type": "execute_result"
    }
   ],
   "source": [
    "# конвертация датафрейма данных с тарифом \"ultra\" в numpy()\n",
    "ultra_revenue_a = np.array(ultra_revenue)\n",
    "ultra_revenue_a"
   ]
  },
  {
   "cell_type": "code",
   "execution_count": 109,
   "id": "d349af56",
   "metadata": {},
   "outputs": [],
   "source": [
    "# изменение формы массива в одну строку данных с тарифом \"ultra\" \n",
    "ultra_revenue_a = ultra_revenue_a.ravel()"
   ]
  },
  {
   "cell_type": "code",
   "execution_count": 110,
   "id": "5ea033e0",
   "metadata": {},
   "outputs": [
    {
     "data": {
      "text/plain": [
       "array([1950, 1950, 1950, 1950, 1950, 1950, 1950, 1950, 1950, 1950, 1950,\n",
       "       1950, 1950, 1950, 1950, 1950, 1950, 1950, 1950, 1950, 1950, 1950,\n",
       "       1950, 1950, 1950, 1950, 1950, 1950, 1950, 1950, 1950, 1950, 1950,\n",
       "       1950, 1950, 1950, 1950, 1950, 1950, 1950, 3900, 2850, 1950, 1950,\n",
       "       1950, 1950, 1950, 1950, 1950, 1950, 1950, 1950, 1950, 1950, 1950,\n",
       "       1950, 1950, 1950, 1950, 1950, 1950, 1950, 1950, 2700, 1950, 1950,\n",
       "       1950, 1950, 1950, 1950, 1950, 1950, 1950, 1950, 1950, 1950, 1950,\n",
       "       1950, 3900, 1950, 1950, 1950, 1950, 1950, 1950, 1950, 1950, 1950,\n",
       "       1950, 1950, 1950, 1950, 1950, 1950, 1950, 1950, 1950, 1950, 1950,\n",
       "       1950, 1950, 1950, 1950, 1950, 1950, 1950, 1950, 1950, 1950, 1950,\n",
       "       1950, 1950, 1950, 1950, 1950, 1950, 1950, 1950, 1950, 1950, 1950,\n",
       "       1950, 1950, 1950, 1950, 1950, 1950, 1950, 1950, 1950, 1950, 1950,\n",
       "       1950, 1950, 1950, 1950, 1950, 1950, 1950, 1950, 1950, 1950, 1950,\n",
       "       1950, 1950, 1950, 1950, 1950, 1950, 1950, 1950, 1950, 1950, 1950,\n",
       "       1950, 1950, 1950, 1950, 1950, 1950, 1950, 1950, 1950, 1950, 1950,\n",
       "       1950, 1950, 1950, 1950, 1950, 1950, 1950, 1950, 1950, 1950, 1950,\n",
       "       1950, 1950, 1950, 1950, 1950, 1950, 1950, 1950, 1950, 1950, 1950,\n",
       "       1950, 1950, 4800, 2850, 3300, 1950, 1950, 1950, 1950, 1950, 1950,\n",
       "       1950, 1950, 1950, 1950, 2400, 1950, 1950, 1950, 1950, 1950, 1950,\n",
       "       1950, 1950, 2550, 2250, 2700, 2550, 2400, 2250, 3150, 2850, 1950,\n",
       "       1950, 1950, 1950, 1950, 1950, 1950, 1950, 1950, 1950, 1950, 1950,\n",
       "       1950, 1950, 1950, 1950, 1950, 1950, 3750, 2250, 1950, 1950, 1950,\n",
       "       1950, 1950, 1950, 1950, 1950, 2400, 1950, 1950, 2250, 1950, 1950,\n",
       "       1950, 2850, 2250, 1950, 3000, 2100, 2850, 1950, 2550, 2400, 1950,\n",
       "       3900, 1950, 1950, 2100, 1950, 2250, 3300, 3150, 3750, 3750, 3150,\n",
       "       3450, 3300, 1950, 1950, 1950, 1950, 1950, 2400, 1950, 1950, 1950,\n",
       "       1950, 1950, 1950, 1950, 1950, 1950, 1950, 1950, 1950, 1950, 1950,\n",
       "       1950, 1950, 1950, 1950, 1950, 1950, 1950, 1950, 1950, 1950, 1950,\n",
       "       1950, 1950, 1950, 1950, 1950, 1950, 1950, 1950, 1950, 1950, 1950,\n",
       "       1950, 1950, 1950, 1950, 1950, 1950, 1950, 1950, 1950, 1950, 1950,\n",
       "       1950, 1950, 1950, 2250, 2400, 2100, 1950, 2250, 1950, 2850, 3900,\n",
       "       2700, 3600, 4650, 2100, 2550, 2250, 3900, 1950, 1950, 1950, 1950,\n",
       "       2100, 1950, 1950, 1950, 1950, 1950, 1950, 1950, 1950, 1950, 1950,\n",
       "       1950, 1950, 1950, 1950, 2100, 3000, 3750, 3000, 4200, 3600, 1950,\n",
       "       1950, 1950, 1950, 1950, 1950, 1950, 3150, 3000, 3000, 1950, 1950,\n",
       "       1950, 1950, 1950, 1950, 1950, 1950, 1950, 1950, 1950, 1950, 1950,\n",
       "       1950, 1950, 1950, 1950, 1950, 1950, 1950, 1950, 1950, 1950, 1950,\n",
       "       1950, 1950, 1950, 1950, 1950, 1950, 1950, 1950, 1950, 1950, 1950,\n",
       "       1950, 1950, 1950, 1950, 1950, 2550, 2250, 1950, 1950, 3450, 2550,\n",
       "       2550, 2400, 1950, 2850, 1950, 1950, 1950, 1950, 1950, 1950, 1950,\n",
       "       1950, 1950, 1950, 2550, 2400, 3150, 4050, 2700, 1950, 1950, 1950,\n",
       "       1950, 1950, 3750, 1950, 1950, 1950, 1950, 1950, 1950, 1950, 1950,\n",
       "       1950, 1950, 1950, 1950, 1950, 1950, 1950, 1950, 1950, 1950, 1950,\n",
       "       1950, 1950, 1950, 1950, 1950, 1950, 2100, 2700, 3300, 1950, 2400,\n",
       "       1950, 1950, 1950, 2550, 1950, 1950, 1950, 2250, 1950, 2400, 2250,\n",
       "       1950, 2400, 1950, 1950, 2550, 1950, 1950, 1950, 1950, 1950, 1950,\n",
       "       1950, 1950, 1950, 1950, 1950, 2250, 2550, 2100, 1950, 1950, 1950,\n",
       "       1950, 1950, 1950, 1950, 1950, 1950, 1950, 1950, 1950, 1950, 1950,\n",
       "       1950, 1950, 1950, 1950, 1950, 1950, 1950, 1950, 1950, 1950, 1950,\n",
       "       1950, 1950, 1950, 1950, 1950, 3750, 3300, 1950, 1950, 1950, 2400,\n",
       "       1950, 3300, 1950, 1950, 1950, 1950, 1950, 1950, 1950, 1950, 1950,\n",
       "       1950, 1950, 1950, 1950, 1950, 1950, 1950, 1950, 1950, 1950, 1950,\n",
       "       1950, 1950, 1950, 1950, 1950, 1950, 1950, 1950, 1950, 1950, 1950,\n",
       "       1950, 1950, 1950, 1950, 1950, 1950, 1950, 1950, 1950, 1950, 1950,\n",
       "       1950, 1950, 1950, 1950, 1950, 1950, 1950, 1950, 1950, 1950, 1950,\n",
       "       3450, 1950, 3750, 3150, 2400, 1950, 3000, 2250, 3900, 1950, 1950,\n",
       "       1950, 1950, 1950, 1950, 1950, 2250, 1950, 1950, 1950, 1950, 1950,\n",
       "       1950, 1950, 1950, 1950, 1950, 1950, 1950, 2250, 2100, 1950, 1950,\n",
       "       1950, 3000, 2700, 2550, 1950, 2550, 3150, 1950, 1950, 2700, 1950,\n",
       "       1950, 1950, 1950, 1950, 1950, 1950, 1950, 1950, 1950, 1950, 1950,\n",
       "       1950, 1950, 1950, 1950, 1950, 1950, 1950, 1950, 1950, 1950, 1950,\n",
       "       1950, 1950, 2100, 1950, 1950, 1950, 1950, 2100, 3000, 1950, 1950,\n",
       "       2250, 2700, 1950, 1950, 1950, 3450, 3000, 1950, 3150, 3300, 2250,\n",
       "       1950, 2250, 3000, 1950, 1950, 1950, 1950, 1950, 1950, 1950, 2250,\n",
       "       1950, 1950, 1950, 1950, 3150, 1950, 1950, 1950, 1950, 1950, 1950,\n",
       "       1950, 1950, 1950, 1950, 1950, 1950, 1950, 2100, 1950, 1950, 1950,\n",
       "       1950, 1950, 1950, 1950, 1950, 1950, 3300, 1950, 1950, 1950, 1950,\n",
       "       1950, 1950, 1950, 1950, 1950, 1950, 1950, 1950, 1950, 1950, 1950,\n",
       "       1950, 1950, 1950, 1950, 1950, 1950, 1950, 1950, 1950, 1950, 1950,\n",
       "       1950, 1950, 1950, 1950, 1950, 1950, 1950, 1950, 1950, 1950, 1950,\n",
       "       1950, 1950, 1950, 1950, 1950, 1950, 1950, 1950, 1950, 1950, 1950,\n",
       "       1950, 2400, 2400, 2400, 2700, 1950, 1950, 1950, 1950, 1950, 1950,\n",
       "       1950, 1950, 1950, 1950, 1950, 1950, 1950, 1950, 1950, 3750, 1950,\n",
       "       1950, 1950, 1950, 1950, 1950, 1950, 1950, 1950, 1950, 1950, 1950,\n",
       "       1950, 1950, 1950, 1950, 3750, 2400, 1950, 3300, 1950], dtype=int64)"
      ]
     },
     "execution_count": 110,
     "metadata": {},
     "output_type": "execute_result"
    }
   ],
   "source": [
    "# удаление нолей в массиве с данными по тарифу \"ultra\" \n",
    "ultra_revenue_a = ultra_revenue_a[ultra_revenue_a != 0]\n",
    "ultra_revenue_a"
   ]
  },
  {
   "cell_type": "code",
   "execution_count": 111,
   "id": "9fe18f4a",
   "metadata": {},
   "outputs": [
    {
     "name": "stdout",
     "output_type": "stream",
     "text": [
      "p-значение: 2.8225982252018058e-157\n",
      "Отвергаем нулевую гипотезу о равенстве средней выручки пользователей тарифов \"ultra\" и \"smart\".\n"
     ]
    }
   ],
   "source": [
    "# проверка двусторонней гипотезы методом st.ttest_ind\n",
    "alpha = 0.05,\n",
    "results = st.ttest_ind(smart_revenue_a, ultra_revenue_a, equal_var=False)\n",
    "\n",
    "print('p-значение:', results.pvalue)\n",
    "\n",
    "if results.pvalue < alpha:\n",
    "    print('Отвергаем нулевую гипотезу о равенстве средней выручки пользователей тарифов \"ultra\" и \"smart\".')\n",
    "else:\n",
    "    print('Не получилось отвергнуть нулевую гипотезу о равенстве средней выручки пользователей тарифов \"ultra\" и \"smart\".')"
   ]
  },
  {
   "cell_type": "markdown",
   "id": "a778f3de",
   "metadata": {},
   "source": [
    "Нулевую гипотезу о равенстве средней выручки абонентов на тарифах \"smart\" и \"ultra\" ***отклоняем***, так как значение pvalue сильно ниже порогового значения, а значит вероятность равенства средней выручки по разным тарифам исчезающе мала. "
   ]
  },
  {
   "cell_type": "markdown",
   "id": "f0957f88",
   "metadata": {},
   "source": [
    "### Шаг 4.2. Гипотеза о равенстве средней выручки по городам."
   ]
  },
  {
   "cell_type": "markdown",
   "id": "2624164f",
   "metadata": {},
   "source": [
    "**Проверка второй гипотезы. H0: средние выручки пользователей \"Мегалайн\" в Москве и в Провинции равны.**\n",
    "Альтернативную гипотезу сформулируем как двухстороннюю:\n",
    "**Н1: средние выручки пользователей \"Мегалайн\" в Москве и в Провинции различаются.**\n",
    "Для того, чтобы отвергнуть или подтвердить гипотезу по 2-м выборкам будем использовать метод для проверки гипотезы о равенстве среднего двух генеральных совокупностей по взятым из них выборкам, а именно двухсторонний ttest методом scipy.stats.ttest_ind(array1, array2, equal_var). Дисперсии распределения у тарифов отличаются, но не так сильно как в предыдущем примере, все же укажем параметр equal_var=False. Предварительно запишем массивы выборок по тарифам в отдельные переменные. Определим параметр значимости alpha = 0.01, так как из анализа гистограммы распределение близкое по Москве и Провинции, поэтому порог значимости можно задать ниже."
   ]
  },
  {
   "cell_type": "code",
   "execution_count": 112,
   "id": "05667123",
   "metadata": {},
   "outputs": [],
   "source": [
    "# запись данных по среднемесячной выручке абонентов в переменные\n",
    "msk_revenue = df_total_revenue_a[df_total_revenue_a['city'] == 'Москва']\n",
    "msk_revenue = msk_revenue.iloc[:,2:14]\n",
    "prv_revenue = df_total_revenue_a[df_total_revenue_a['city'] == 'Провинция']\n",
    "prv_revenue = prv_revenue.iloc[:,2:14]"
   ]
  },
  {
   "cell_type": "code",
   "execution_count": 113,
   "id": "685b1562",
   "metadata": {},
   "outputs": [
    {
     "data": {
      "text/plain": [
       "array([[   0,    0,    0, ...,    0,    0,  550],\n",
       "       [   0,    0,    0, ..., 1950, 1950, 1950],\n",
       "       [   0,    0,    0, ...,  550,  990,  550],\n",
       "       ...,\n",
       "       [   0,    0,    0, ..., 1950, 1950, 1950],\n",
       "       [   0,    0, 1150, ..., 1150, 1550,  950],\n",
       "       [   0,    0,    0, ..., 1750, 1350,  750]], dtype=int64)"
      ]
     },
     "execution_count": 113,
     "metadata": {},
     "output_type": "execute_result"
    }
   ],
   "source": [
    "# конвертация датафрейма данных с городом Москва в numpy()\n",
    "msk_revenue_a = np.array(msk_revenue)\n",
    "msk_revenue_a"
   ]
  },
  {
   "cell_type": "code",
   "execution_count": 114,
   "id": "a813e409",
   "metadata": {},
   "outputs": [],
   "source": [
    "# изменение формы массива в одну строку данных с городом Москва \n",
    "msk_revenue_a = msk_revenue_a.ravel()"
   ]
  },
  {
   "cell_type": "code",
   "execution_count": 115,
   "id": "b8812777",
   "metadata": {},
   "outputs": [
    {
     "data": {
      "text/plain": [
       "array([ 550, 1950, 1950, 1950, 1950, 1150,  685,  981, 1750, 1015,  550,\n",
       "        990,  550,  736, 2031, 2831, 1640, 2616, 1816,  550,  950, 3233,\n",
       "       1950, 1950, 1950, 1950, 1950, 1950, 1950, 1950, 1950,  601, 1750,\n",
       "       2150,  550, 1950, 1950, 1950, 1950, 1950, 1950, 1950, 1950, 1950,\n",
       "       2601, 3375, 2210, 1807, 2605, 3195, 1954, 2234,  619,  976,  589,\n",
       "        550,  712,  592,  604,  634, 2916, 1942, 3375, 2550,  798, 1908,\n",
       "       3202,  871,  826, 1009,  859,  550,  730,  784, 1950, 1950, 1950,\n",
       "       1950, 1950, 1950, 1950, 1950, 1950, 1950, 1950, 1950, 1950, 1016,\n",
       "        721, 1864, 1350, 1954, 1470, 1750, 2268, 1350,  934, 1006,  550,\n",
       "        550,  916,  751,  882, 1277,  750, 2950, 1950, 2550, 1350, 1150,\n",
       "       1670, 2950, 1350, 3150, 1950,  750, 1174,  826, 1000, 1141, 1036,\n",
       "       1354, 1078, 1479,  670, 1750, 1750,  550,  550, 1950,  950, 1750,\n",
       "       2350,  550,  646, 1150,  733,  550,  550,  883, 3000, 2100, 2850,\n",
       "       1950, 2550, 2400, 1950, 3900, 1950, 1950,  550,  550, 1950, 1950,\n",
       "       1950, 1950, 1950, 1950, 1950, 1950, 1950, 1950, 1950, 1950, 1550,\n",
       "       2100, 1350, 1150, 1550, 2950, 1750, 1350, 2150, 1550, 2150, 1550,\n",
       "       2950, 3266, 4116,  798, 1529, 2361,  831, 1662, 1739, 2046, 3037,\n",
       "       1716, 2291, 1950, 1950, 1950, 2550, 2182, 2150, 1550, 1150, 1150,\n",
       "       1473, 1675, 1270, 2651, 3028, 2431, 1558, 2074, 1950, 1950, 1950,\n",
       "       1950, 1950, 1950, 1267, 1398, 1669,  604, 1666, 1753, 1750,  550,\n",
       "        550, 1350,  950,  777, 1350,  750,  819,  550,  550, 1350,  550,\n",
       "        550, 1950, 1950, 1550, 1350, 2150, 5321, 1950, 1950, 1950, 1482,\n",
       "        700, 1140,  550, 1082,  550,  628,  802,  718, 1162,  750,  550,\n",
       "        550,  550,  750,  550, 2550, 2400, 3150, 4050, 2700, 2962, 2185,\n",
       "        550, 1350,  950, 1550,  550,  950,  550, 1150,  550,  550, 1950,\n",
       "       1227,  750, 1684, 1573, 1177,  550,  550, 1150,  550, 1550, 1777,\n",
       "        750, 1150, 1350, 1150, 1950, 2400, 2250, 1950, 2400, 1950, 1950,\n",
       "       2550, 1859, 1350, 1350,  950,  971, 2073, 1150, 1950, 1950, 1950,\n",
       "       1950, 1950, 1950, 1950, 1950, 1950,  950, 2150,  950, 1350,  950,\n",
       "        550, 1150, 1550, 1666, 2667, 2101, 1950, 1950, 2250, 2550, 2100,\n",
       "       1950,  550, 2350,  550, 1550,  950,  550, 1950, 1950, 1950, 3750,\n",
       "       3300, 1950, 1950, 1950, 2400, 1950, 3300, 1093,  613, 1263, 1673,\n",
       "       1828, 1950, 1950, 1950, 3450, 1950, 1950, 1950, 1950, 1950, 1950,\n",
       "       1950, 1950, 2250, 1950, 1950, 1950, 2250, 2100, 1950, 1950, 1950,\n",
       "       3000, 2700, 2550, 1950, 2550, 3150, 1950,  550, 1350,  750,  950,\n",
       "        802, 2254, 1821,  550, 1673,  882, 1445,  559, 2017, 1761, 1131,\n",
       "       1353, 3125, 2822, 2295,  550,  750,  550,  550,  550,  583,  550,\n",
       "        550,  550,  568,  550, 1950, 2250, 3000, 1950, 1950, 1950,  550,\n",
       "       2250, 1950, 1950, 1950, 1950, 3150, 1750, 1150, 2150,  750, 1550,\n",
       "       1350, 2150, 1350, 1750, 2150, 1950, 1950, 1950, 1950, 1950, 2100,\n",
       "       1950, 1950, 1950, 1950, 1950, 1950, 1950, 1950, 1950, 1806, 1824,\n",
       "       3148, 1014, 1192,  993, 1923,  925, 1634,  891, 1950, 1950, 1950,\n",
       "       1950, 1950, 1950, 1950, 1950, 1950, 1950, 1950, 1950, 1950, 1950,\n",
       "       1950, 1950, 1950, 1950, 1950, 1950, 1950, 1950, 1950, 1950, 1950,\n",
       "       1950, 1150, 1550, 1150,  550, 1350, 1750,  950, 1150, 1550,  950,\n",
       "       1750, 1550,  586,  950,  550, 1750, 1350,  750], dtype=int64)"
      ]
     },
     "execution_count": 115,
     "metadata": {},
     "output_type": "execute_result"
    }
   ],
   "source": [
    "# удаление нолей в массиве с данными по городу Москва\n",
    "msk_revenue_a = msk_revenue_a[msk_revenue_a != 0]\n",
    "msk_revenue_a"
   ]
  },
  {
   "cell_type": "code",
   "execution_count": 116,
   "id": "4a3d0e07",
   "metadata": {},
   "outputs": [
    {
     "data": {
      "text/plain": [
       "array([[   0,    0,    0, ..., 1950, 1950, 1950],\n",
       "       [   0,    0,    0, ...,  550, 1350, 1150],\n",
       "       [   0,    0,    0, ..., 1950, 1950, 1950],\n",
       "       ...,\n",
       "       [   0,    0,    0, ...,    0,  550, 1685],\n",
       "       [   0,    0,    0, ...,    0,    0,    0],\n",
       "       [   0,    0,    0, ..., 1150, 1513,  598]], dtype=int64)"
      ]
     },
     "execution_count": 116,
     "metadata": {},
     "output_type": "execute_result"
    }
   ],
   "source": [
    "# конвертация датафрейма данных с городами Провинции в numpy()\n",
    "prv_revenue_a = np.array(prv_revenue)\n",
    "prv_revenue_a"
   ]
  },
  {
   "cell_type": "code",
   "execution_count": 117,
   "id": "70bf8d5c",
   "metadata": {},
   "outputs": [],
   "source": [
    "# изменение формы массива в одну строку данных с городами Провинции\n",
    "prv_revenue_a = prv_revenue_a.ravel()"
   ]
  },
  {
   "cell_type": "code",
   "execution_count": 118,
   "id": "c305f8a4",
   "metadata": {},
   "outputs": [
    {
     "data": {
      "text/plain": [
       "array([1950, 1950, 1950, ..., 1150, 1513,  598], dtype=int64)"
      ]
     },
     "execution_count": 118,
     "metadata": {},
     "output_type": "execute_result"
    }
   ],
   "source": [
    "# удаление нолей в массиве с данными по городам Провинции\n",
    "prv_revenue_a = prv_revenue_a[prv_revenue_a != 0]\n",
    "prv_revenue_a"
   ]
  },
  {
   "cell_type": "code",
   "execution_count": 119,
   "id": "954a0e57",
   "metadata": {},
   "outputs": [
    {
     "name": "stdout",
     "output_type": "stream",
     "text": [
      "p-значение: 0.38\n",
      "Не получилось отвергнуть нулевую гипотезу о равенстве средней выручки пользователей из Москвы и Провинции.\n"
     ]
    }
   ],
   "source": [
    "# проверка двусторонней гипотезы методом st.ttest_ind\n",
    "alpha = 0.01,\n",
    "results_a = st.ttest_ind(msk_revenue_a, prv_revenue_a, equal_var=False)\n",
    "\n",
    "print('p-значение:', '{:.2f}'.format(results_a.pvalue))\n",
    "\n",
    "if results_a.pvalue < alpha:\n",
    "    print('Отвергаем нулевую гипотезу о равенстве средней выручки пользователей из Москвы и Провинции.')\n",
    "else:\n",
    "    print('Не получилось отвергнуть нулевую гипотезу о равенстве средней выручки пользователей из Москвы и Провинции.')"
   ]
  },
  {
   "cell_type": "markdown",
   "id": "3331fe11",
   "metadata": {},
   "source": [
    "Нулевую гипотезу о равенстве средней выручки абонентов из Москвы и других регионов ***не отклоняем***, так как значение pvalue сильно выше порогового значения, а значит вероятность равенства размера средней выручки в генеральных совокупностях по пользователям из столицы и провинции достаточно велика, около 38 %. "
   ]
  },
  {
   "cell_type": "markdown",
   "id": "1b948ae3",
   "metadata": {},
   "source": [
    "## Шаг 5. Итоги исследования."
   ]
  },
  {
   "cell_type": "markdown",
   "id": "d6bcd585",
   "metadata": {},
   "source": [
    "### Шаг 5.1. Описание хода исследования."
   ]
  },
  {
   "cell_type": "markdown",
   "id": "d7fd47a0",
   "metadata": {},
   "source": [
    "**Целью исследования было определить какой тариф оператора связи \"Мегалайн\" лучше, при этом проверив гипотезы равенства выручки по тарифам \"smart\" и \"ultra\".** \n",
    "Предварительно опишем ход исследования:\n",
    "- После обзора датасетов выяснили, что в них почти нет пропусков, но присутствуют данные в неудобных для работы с данными форматах.\n",
    "- На этапе предобработки данных поменяли формат столбцов с датами методом to_datetime(), данные с плавающей точкой в целочисленный формат методом astype(). Удалили лишний столбец методом  drop(). Затем удалили данные с неполными месяцами(месяцами подключения и отключения абонентов) по причине искажения таких данных дальнейшего исследования. Округлили секунды разговоров до минут в большую сторону методом np.ceil().\n",
    "- Построили сводные таблицы, индексы в которых - id пользователей, колонки - месяцы пользования тарифом, а данные заполнили суммой минут разговоров, количества сообщений, гигабайт интернет-траффика за соответствующие месяцы. Также округлили мегабайты интернет-сессий за месяц до гигабайт в большую сторну методом np.ceil().\n",
    "- В двойных циклах рассчитали помесячные суммы за пользование услугами связи при превышении лимита абонентской платы. Также занесли данные в таблицу по общей помесячной выручке с учетом АП по каждому клиенту. Затем рассчитали среднемесячную выручку по каждому пользователю и занесли ее в датафрейм.\n",
    "- Присоединили методом merge() столбец с городом абонента к общему датасету по выручке. Затем укрупнили категории городов с применением метода where.\n",
    "- Построили гистограммы распределения данных по длительности звонков, количеству сообщениий, объему интернет-траффика, среднемесячной выручки по тарифам и сравнили эту выручку по клиентам из Москвы и других регионов.\n",
    "- Затем проверили двусторонние гипотезы методом scipy.stats.ttest_ind(array1, array2, equal_var) о равенстве среднемесячной выручки по тарифам и выручки клиентов из Москвы и других регионов. Исходя из этого можно сделать выводы."
   ]
  },
  {
   "cell_type": "markdown",
   "id": "723aabb2",
   "metadata": {},
   "source": [
    "### Шаг 5.2. Общий вывод."
   ]
  },
  {
   "cell_type": "markdown",
   "id": "28f71935",
   "metadata": {},
   "source": [
    "Выручка с тарифов \"smart\" и \"ultra\" отличается, что подтверждает гипотеза о неравенстве средней выручки из выборок абонентов этих тарифов. Абоненты \"Мегалайн\" на тарифе \"smart\" очень часто превышают лимиты связи, установленные в рамках абонентской платы. Несмотря на то, что АП более чем в 3 раза меньше, тратят они на связь немногим менее, чем абоненты на тарифе \"ultra\". Но клиенты на втором тарифе все же приносят в среднем больше денег оператору, при этом не сдерживают себя в общении. Тариф \"smart\" все же выбирают больше абонентов(из выборки это около 70 %) и он лучше покрывает потребности различных пользователей, а у клиентов на тарифе \"ultra\" остается чрезмерно много неизрасходованных минут и сообщений. Что не скажешь про лимиты на интернет, котрые превышаются пользователями обоих тарифов. При этом на чистоту эксперимента с тарифами не оказывает влияние геогафия использования тарифов, что подтверждается гипотезой о равенстве выручки в регионах и Москве. \n",
    "**Можно обобщить, что выручки приносит больше тариф \"ultra\", но при этом больше возможностей регулировать свои расходы на связь дает тариф \"smart\". Возможно оператору следует подумать о создании нового тарифа, который бы сочетал разумные лимиты на связь без чрезмерного запаса как на тарифе \"ultra\" и усредненные по тарифам \"smart\" и \"ultra\" расценки за их превышение.**"
   ]
  },
  {
   "cell_type": "code",
   "execution_count": null,
   "id": "4f9b8cb4",
   "metadata": {},
   "outputs": [],
   "source": []
  }
 ],
 "metadata": {
  "ExecuteTimeLog": [
   {
    "duration": 1241,
    "start_time": "2022-04-20T19:41:36.345Z"
   },
   {
    "duration": 458,
    "start_time": "2022-04-20T19:41:37.588Z"
   },
   {
    "duration": 0,
    "start_time": "2022-04-20T19:41:38.051Z"
   },
   {
    "duration": 0,
    "start_time": "2022-04-20T19:41:38.052Z"
   },
   {
    "duration": 0,
    "start_time": "2022-04-20T19:41:38.053Z"
   },
   {
    "duration": 0,
    "start_time": "2022-04-20T19:41:38.054Z"
   },
   {
    "duration": 0,
    "start_time": "2022-04-20T19:41:38.055Z"
   },
   {
    "duration": 0,
    "start_time": "2022-04-20T19:41:38.056Z"
   },
   {
    "duration": 0,
    "start_time": "2022-04-20T19:41:38.073Z"
   },
   {
    "duration": 0,
    "start_time": "2022-04-20T19:41:38.074Z"
   },
   {
    "duration": 0,
    "start_time": "2022-04-20T19:41:38.075Z"
   },
   {
    "duration": 0,
    "start_time": "2022-04-20T19:41:38.076Z"
   },
   {
    "duration": 0,
    "start_time": "2022-04-20T19:41:38.077Z"
   },
   {
    "duration": 0,
    "start_time": "2022-04-20T19:41:38.078Z"
   },
   {
    "duration": 0,
    "start_time": "2022-04-20T19:41:38.079Z"
   },
   {
    "duration": 0,
    "start_time": "2022-04-20T19:41:38.081Z"
   },
   {
    "duration": 0,
    "start_time": "2022-04-20T19:41:38.082Z"
   },
   {
    "duration": 0,
    "start_time": "2022-04-20T19:41:38.083Z"
   },
   {
    "duration": 0,
    "start_time": "2022-04-20T19:41:38.084Z"
   },
   {
    "duration": 0,
    "start_time": "2022-04-20T19:41:38.085Z"
   },
   {
    "duration": 0,
    "start_time": "2022-04-20T19:41:38.086Z"
   },
   {
    "duration": 0,
    "start_time": "2022-04-20T19:41:38.088Z"
   },
   {
    "duration": 0,
    "start_time": "2022-04-20T19:41:38.089Z"
   },
   {
    "duration": 0,
    "start_time": "2022-04-20T19:41:38.089Z"
   },
   {
    "duration": 1,
    "start_time": "2022-04-20T19:41:38.090Z"
   },
   {
    "duration": 0,
    "start_time": "2022-04-20T19:41:38.092Z"
   },
   {
    "duration": 0,
    "start_time": "2022-04-20T19:41:38.093Z"
   },
   {
    "duration": 0,
    "start_time": "2022-04-20T19:41:38.094Z"
   },
   {
    "duration": 0,
    "start_time": "2022-04-20T19:41:38.095Z"
   },
   {
    "duration": 0,
    "start_time": "2022-04-20T19:41:38.096Z"
   },
   {
    "duration": 0,
    "start_time": "2022-04-20T19:41:38.097Z"
   },
   {
    "duration": 0,
    "start_time": "2022-04-20T19:41:38.097Z"
   },
   {
    "duration": 0,
    "start_time": "2022-04-20T19:41:38.098Z"
   },
   {
    "duration": 0,
    "start_time": "2022-04-20T19:41:38.099Z"
   },
   {
    "duration": 0,
    "start_time": "2022-04-20T19:41:38.101Z"
   },
   {
    "duration": 0,
    "start_time": "2022-04-20T19:41:38.102Z"
   },
   {
    "duration": 0,
    "start_time": "2022-04-20T19:41:38.103Z"
   },
   {
    "duration": 0,
    "start_time": "2022-04-20T19:41:38.104Z"
   },
   {
    "duration": 0,
    "start_time": "2022-04-20T19:41:38.105Z"
   },
   {
    "duration": 0,
    "start_time": "2022-04-20T19:41:38.106Z"
   },
   {
    "duration": 0,
    "start_time": "2022-04-20T19:41:38.107Z"
   },
   {
    "duration": 0,
    "start_time": "2022-04-20T19:41:38.109Z"
   },
   {
    "duration": 0,
    "start_time": "2022-04-20T19:41:38.110Z"
   },
   {
    "duration": 0,
    "start_time": "2022-04-20T19:41:38.111Z"
   },
   {
    "duration": 0,
    "start_time": "2022-04-20T19:41:38.112Z"
   },
   {
    "duration": 0,
    "start_time": "2022-04-20T19:41:38.174Z"
   },
   {
    "duration": 0,
    "start_time": "2022-04-20T19:41:38.175Z"
   },
   {
    "duration": 0,
    "start_time": "2022-04-20T19:41:38.176Z"
   },
   {
    "duration": 0,
    "start_time": "2022-04-20T19:41:38.177Z"
   },
   {
    "duration": 0,
    "start_time": "2022-04-20T19:41:38.178Z"
   },
   {
    "duration": 0,
    "start_time": "2022-04-20T19:41:38.179Z"
   },
   {
    "duration": 0,
    "start_time": "2022-04-20T19:41:38.180Z"
   },
   {
    "duration": 0,
    "start_time": "2022-04-20T19:41:38.181Z"
   },
   {
    "duration": 0,
    "start_time": "2022-04-20T19:41:38.182Z"
   },
   {
    "duration": 0,
    "start_time": "2022-04-20T19:41:38.183Z"
   },
   {
    "duration": 0,
    "start_time": "2022-04-20T19:41:38.184Z"
   },
   {
    "duration": 0,
    "start_time": "2022-04-20T19:41:38.185Z"
   },
   {
    "duration": 0,
    "start_time": "2022-04-20T19:41:38.185Z"
   },
   {
    "duration": 0,
    "start_time": "2022-04-20T19:41:38.186Z"
   },
   {
    "duration": 0,
    "start_time": "2022-04-20T19:41:38.187Z"
   },
   {
    "duration": 0,
    "start_time": "2022-04-20T19:41:38.188Z"
   },
   {
    "duration": 0,
    "start_time": "2022-04-20T19:41:38.189Z"
   },
   {
    "duration": 0,
    "start_time": "2022-04-20T19:41:38.190Z"
   },
   {
    "duration": 0,
    "start_time": "2022-04-20T19:41:38.191Z"
   },
   {
    "duration": 0,
    "start_time": "2022-04-20T19:41:38.192Z"
   },
   {
    "duration": 0,
    "start_time": "2022-04-20T19:41:38.194Z"
   },
   {
    "duration": 0,
    "start_time": "2022-04-20T19:41:38.194Z"
   },
   {
    "duration": 0,
    "start_time": "2022-04-20T19:41:38.195Z"
   },
   {
    "duration": 0,
    "start_time": "2022-04-20T19:41:38.196Z"
   },
   {
    "duration": 0,
    "start_time": "2022-04-20T19:41:38.197Z"
   },
   {
    "duration": 0,
    "start_time": "2022-04-20T19:41:38.198Z"
   },
   {
    "duration": 0,
    "start_time": "2022-04-20T19:41:38.199Z"
   },
   {
    "duration": 0,
    "start_time": "2022-04-20T19:41:38.201Z"
   },
   {
    "duration": 0,
    "start_time": "2022-04-20T19:41:38.201Z"
   },
   {
    "duration": 0,
    "start_time": "2022-04-20T19:41:38.202Z"
   },
   {
    "duration": 0,
    "start_time": "2022-04-20T19:41:38.203Z"
   },
   {
    "duration": 0,
    "start_time": "2022-04-20T19:41:38.205Z"
   },
   {
    "duration": 0,
    "start_time": "2022-04-20T19:41:38.206Z"
   },
   {
    "duration": 0,
    "start_time": "2022-04-20T19:41:38.206Z"
   },
   {
    "duration": 0,
    "start_time": "2022-04-20T19:41:38.207Z"
   },
   {
    "duration": 0,
    "start_time": "2022-04-20T19:41:38.273Z"
   },
   {
    "duration": 0,
    "start_time": "2022-04-20T19:41:38.275Z"
   },
   {
    "duration": 0,
    "start_time": "2022-04-20T19:41:38.276Z"
   },
   {
    "duration": 0,
    "start_time": "2022-04-20T19:41:38.277Z"
   },
   {
    "duration": 0,
    "start_time": "2022-04-20T19:41:38.278Z"
   },
   {
    "duration": 0,
    "start_time": "2022-04-20T19:41:38.279Z"
   },
   {
    "duration": 1,
    "start_time": "2022-04-20T19:41:38.279Z"
   },
   {
    "duration": 0,
    "start_time": "2022-04-20T19:41:38.280Z"
   },
   {
    "duration": 0,
    "start_time": "2022-04-20T19:41:38.281Z"
   },
   {
    "duration": 0,
    "start_time": "2022-04-20T19:41:38.282Z"
   },
   {
    "duration": 0,
    "start_time": "2022-04-20T19:41:38.284Z"
   },
   {
    "duration": 0,
    "start_time": "2022-04-20T19:41:38.285Z"
   },
   {
    "duration": 0,
    "start_time": "2022-04-20T19:41:38.286Z"
   },
   {
    "duration": 0,
    "start_time": "2022-04-20T19:41:38.287Z"
   },
   {
    "duration": 0,
    "start_time": "2022-04-20T19:41:38.288Z"
   },
   {
    "duration": 0,
    "start_time": "2022-04-20T19:41:38.289Z"
   },
   {
    "duration": 0,
    "start_time": "2022-04-20T19:41:38.290Z"
   },
   {
    "duration": 0,
    "start_time": "2022-04-20T19:41:38.291Z"
   },
   {
    "duration": 0,
    "start_time": "2022-04-20T19:41:38.292Z"
   },
   {
    "duration": 0,
    "start_time": "2022-04-20T19:41:38.293Z"
   },
   {
    "duration": 0,
    "start_time": "2022-04-20T19:41:38.294Z"
   },
   {
    "duration": 0,
    "start_time": "2022-04-20T19:41:38.295Z"
   },
   {
    "duration": 0,
    "start_time": "2022-04-20T19:41:38.296Z"
   },
   {
    "duration": 0,
    "start_time": "2022-04-20T19:41:38.297Z"
   },
   {
    "duration": 0,
    "start_time": "2022-04-20T19:41:38.298Z"
   },
   {
    "duration": 386,
    "start_time": "2022-04-20T19:49:05.648Z"
   },
   {
    "duration": 3,
    "start_time": "2022-04-20T19:49:19.501Z"
   },
   {
    "duration": 414,
    "start_time": "2022-04-20T19:49:19.506Z"
   },
   {
    "duration": 11,
    "start_time": "2022-04-20T19:49:19.922Z"
   },
   {
    "duration": 29,
    "start_time": "2022-04-20T19:49:19.935Z"
   },
   {
    "duration": 9,
    "start_time": "2022-04-20T19:49:19.967Z"
   },
   {
    "duration": 32,
    "start_time": "2022-04-20T19:49:19.978Z"
   },
   {
    "duration": 9,
    "start_time": "2022-04-20T19:49:20.013Z"
   },
   {
    "duration": 25,
    "start_time": "2022-04-20T19:49:20.024Z"
   },
   {
    "duration": 27,
    "start_time": "2022-04-20T19:49:20.052Z"
   },
   {
    "duration": 19,
    "start_time": "2022-04-20T19:49:20.082Z"
   },
   {
    "duration": 31,
    "start_time": "2022-04-20T19:49:20.105Z"
   },
   {
    "duration": 19,
    "start_time": "2022-04-20T19:49:20.138Z"
   },
   {
    "duration": 16,
    "start_time": "2022-04-20T19:49:20.159Z"
   },
   {
    "duration": 15,
    "start_time": "2022-04-20T19:49:20.177Z"
   },
   {
    "duration": 20,
    "start_time": "2022-04-20T19:49:20.193Z"
   },
   {
    "duration": 13,
    "start_time": "2022-04-20T19:49:20.215Z"
   },
   {
    "duration": 27,
    "start_time": "2022-04-20T19:49:20.230Z"
   },
   {
    "duration": 15,
    "start_time": "2022-04-20T19:49:20.259Z"
   },
   {
    "duration": 12,
    "start_time": "2022-04-20T19:49:20.276Z"
   },
   {
    "duration": 25,
    "start_time": "2022-04-20T19:49:20.289Z"
   },
   {
    "duration": 32,
    "start_time": "2022-04-20T19:49:20.316Z"
   },
   {
    "duration": 32,
    "start_time": "2022-04-20T19:49:20.350Z"
   },
   {
    "duration": 14,
    "start_time": "2022-04-20T19:49:20.383Z"
   },
   {
    "duration": 14,
    "start_time": "2022-04-20T19:49:20.398Z"
   },
   {
    "duration": 8,
    "start_time": "2022-04-20T19:49:20.413Z"
   },
   {
    "duration": 8,
    "start_time": "2022-04-20T19:49:20.422Z"
   },
   {
    "duration": 42,
    "start_time": "2022-04-20T19:49:20.432Z"
   },
   {
    "duration": 4,
    "start_time": "2022-04-20T19:49:20.476Z"
   },
   {
    "duration": 30,
    "start_time": "2022-04-20T19:49:20.486Z"
   },
   {
    "duration": 13,
    "start_time": "2022-04-20T19:49:20.517Z"
   },
   {
    "duration": 12,
    "start_time": "2022-04-20T19:49:20.532Z"
   },
   {
    "duration": 76,
    "start_time": "2022-04-20T19:49:20.546Z"
   },
   {
    "duration": 35,
    "start_time": "2022-04-20T19:49:20.623Z"
   },
   {
    "duration": 16,
    "start_time": "2022-04-20T19:49:20.660Z"
   },
   {
    "duration": 20,
    "start_time": "2022-04-20T19:49:20.677Z"
   },
   {
    "duration": 25,
    "start_time": "2022-04-20T19:49:20.698Z"
   },
   {
    "duration": 14,
    "start_time": "2022-04-20T19:49:20.725Z"
   },
   {
    "duration": 4,
    "start_time": "2022-04-20T19:49:20.741Z"
   },
   {
    "duration": 63,
    "start_time": "2022-04-20T19:49:20.746Z"
   },
   {
    "duration": 16,
    "start_time": "2022-04-20T19:49:20.811Z"
   },
   {
    "duration": 48,
    "start_time": "2022-04-20T19:49:20.828Z"
   },
   {
    "duration": 6,
    "start_time": "2022-04-20T19:49:20.878Z"
   },
   {
    "duration": 19,
    "start_time": "2022-04-20T19:49:20.886Z"
   },
   {
    "duration": 11,
    "start_time": "2022-04-20T19:49:20.907Z"
   },
   {
    "duration": 17,
    "start_time": "2022-04-20T19:49:20.919Z"
   },
   {
    "duration": 65,
    "start_time": "2022-04-20T19:49:20.937Z"
   },
   {
    "duration": 35,
    "start_time": "2022-04-20T19:49:21.004Z"
   },
   {
    "duration": 37,
    "start_time": "2022-04-20T19:49:21.041Z"
   },
   {
    "duration": 28,
    "start_time": "2022-04-20T19:49:21.080Z"
   },
   {
    "duration": 26,
    "start_time": "2022-04-20T19:49:21.110Z"
   },
   {
    "duration": 63,
    "start_time": "2022-04-20T19:49:21.137Z"
   },
   {
    "duration": 4,
    "start_time": "2022-04-20T19:49:21.202Z"
   },
   {
    "duration": 23,
    "start_time": "2022-04-20T19:49:21.207Z"
   },
   {
    "duration": 7,
    "start_time": "2022-04-20T19:49:21.232Z"
   },
   {
    "duration": 33,
    "start_time": "2022-04-20T19:49:21.241Z"
   },
   {
    "duration": 18,
    "start_time": "2022-04-20T19:49:21.276Z"
   },
   {
    "duration": 17,
    "start_time": "2022-04-20T19:49:21.295Z"
   },
   {
    "duration": 3,
    "start_time": "2022-04-20T19:49:21.313Z"
   },
   {
    "duration": 10,
    "start_time": "2022-04-20T19:49:21.318Z"
   },
   {
    "duration": 7,
    "start_time": "2022-04-20T19:49:21.329Z"
   },
   {
    "duration": 1526,
    "start_time": "2022-04-20T19:49:21.337Z"
   },
   {
    "duration": 20,
    "start_time": "2022-04-20T19:49:22.865Z"
   },
   {
    "duration": 2194,
    "start_time": "2022-04-20T19:49:22.886Z"
   },
   {
    "duration": 14,
    "start_time": "2022-04-20T19:49:25.082Z"
   },
   {
    "duration": 1500,
    "start_time": "2022-04-20T19:49:25.098Z"
   },
   {
    "duration": 14,
    "start_time": "2022-04-20T19:49:26.600Z"
   },
   {
    "duration": 24,
    "start_time": "2022-04-20T19:49:26.615Z"
   },
   {
    "duration": 17,
    "start_time": "2022-04-20T19:49:26.641Z"
   },
   {
    "duration": 1345,
    "start_time": "2022-04-20T19:49:26.659Z"
   },
   {
    "duration": 14,
    "start_time": "2022-04-20T19:49:28.005Z"
   },
   {
    "duration": 28,
    "start_time": "2022-04-20T19:49:28.021Z"
   },
   {
    "duration": 29,
    "start_time": "2022-04-20T19:49:28.072Z"
   },
   {
    "duration": 27,
    "start_time": "2022-04-20T19:49:28.103Z"
   },
   {
    "duration": 50,
    "start_time": "2022-04-20T19:49:28.132Z"
   },
   {
    "duration": 10,
    "start_time": "2022-04-20T19:49:28.183Z"
   },
   {
    "duration": 32,
    "start_time": "2022-04-20T19:49:28.194Z"
   },
   {
    "duration": 25,
    "start_time": "2022-04-20T19:49:28.228Z"
   },
   {
    "duration": 327,
    "start_time": "2022-04-20T19:49:28.255Z"
   },
   {
    "duration": 6,
    "start_time": "2022-04-20T19:49:28.584Z"
   },
   {
    "duration": 12,
    "start_time": "2022-04-20T19:49:28.592Z"
   },
   {
    "duration": 9,
    "start_time": "2022-04-20T19:49:28.605Z"
   },
   {
    "duration": 327,
    "start_time": "2022-04-20T19:49:28.615Z"
   },
   {
    "duration": 7,
    "start_time": "2022-04-20T19:49:28.947Z"
   },
   {
    "duration": 27,
    "start_time": "2022-04-20T19:49:28.955Z"
   },
   {
    "duration": 9,
    "start_time": "2022-04-20T19:49:28.984Z"
   },
   {
    "duration": 344,
    "start_time": "2022-04-20T19:49:28.995Z"
   },
   {
    "duration": 6,
    "start_time": "2022-04-20T19:49:29.340Z"
   },
   {
    "duration": 26,
    "start_time": "2022-04-20T19:49:29.348Z"
   },
   {
    "duration": 6,
    "start_time": "2022-04-20T19:49:29.376Z"
   },
   {
    "duration": 362,
    "start_time": "2022-04-20T19:49:29.384Z"
   },
   {
    "duration": 6,
    "start_time": "2022-04-20T19:49:29.748Z"
   },
   {
    "duration": 20,
    "start_time": "2022-04-20T19:49:29.756Z"
   },
   {
    "duration": 11,
    "start_time": "2022-04-20T19:49:29.778Z"
   },
   {
    "duration": 337,
    "start_time": "2022-04-20T19:49:29.790Z"
   },
   {
    "duration": 6,
    "start_time": "2022-04-20T19:49:30.129Z"
   },
   {
    "duration": 23,
    "start_time": "2022-04-20T19:49:30.137Z"
   },
   {
    "duration": 17,
    "start_time": "2022-04-20T19:49:30.162Z"
   },
   {
    "duration": 23,
    "start_time": "2022-04-20T19:49:30.181Z"
   },
   {
    "duration": 18,
    "start_time": "2022-04-20T19:49:30.205Z"
   },
   {
    "duration": 18,
    "start_time": "2022-04-20T19:49:30.225Z"
   },
   {
    "duration": 10,
    "start_time": "2022-04-20T19:49:30.245Z"
   },
   {
    "duration": 16,
    "start_time": "2022-04-20T19:49:30.257Z"
   },
   {
    "duration": 14,
    "start_time": "2022-04-20T19:49:30.275Z"
   },
   {
    "duration": 16,
    "start_time": "2022-04-20T19:49:30.290Z"
   },
   {
    "duration": 12,
    "start_time": "2022-04-20T19:49:30.307Z"
   },
   {
    "duration": 1204,
    "start_time": "2022-04-20T20:12:53.184Z"
   },
   {
    "duration": 396,
    "start_time": "2022-04-20T20:12:54.390Z"
   },
   {
    "duration": 13,
    "start_time": "2022-04-20T20:12:54.787Z"
   },
   {
    "duration": 26,
    "start_time": "2022-04-20T20:12:54.802Z"
   },
   {
    "duration": 13,
    "start_time": "2022-04-20T20:12:54.830Z"
   },
   {
    "duration": 36,
    "start_time": "2022-04-20T20:12:54.845Z"
   },
   {
    "duration": 9,
    "start_time": "2022-04-20T20:12:54.883Z"
   },
   {
    "duration": 24,
    "start_time": "2022-04-20T20:12:54.894Z"
   },
   {
    "duration": 8,
    "start_time": "2022-04-20T20:12:54.919Z"
   },
   {
    "duration": 14,
    "start_time": "2022-04-20T20:12:54.929Z"
   },
   {
    "duration": 39,
    "start_time": "2022-04-20T20:12:54.945Z"
   },
   {
    "duration": 18,
    "start_time": "2022-04-20T20:12:54.985Z"
   },
   {
    "duration": 19,
    "start_time": "2022-04-20T20:12:55.005Z"
   },
   {
    "duration": 17,
    "start_time": "2022-04-20T20:12:55.025Z"
   },
   {
    "duration": 19,
    "start_time": "2022-04-20T20:12:55.044Z"
   },
   {
    "duration": 17,
    "start_time": "2022-04-20T20:12:55.065Z"
   },
   {
    "duration": 27,
    "start_time": "2022-04-20T20:12:55.083Z"
   },
   {
    "duration": 4,
    "start_time": "2022-04-20T20:12:55.112Z"
   },
   {
    "duration": 9,
    "start_time": "2022-04-20T20:12:55.117Z"
   },
   {
    "duration": 46,
    "start_time": "2022-04-20T20:12:55.127Z"
   },
   {
    "duration": 34,
    "start_time": "2022-04-20T20:12:55.175Z"
   },
   {
    "duration": 18,
    "start_time": "2022-04-20T20:12:55.211Z"
   },
   {
    "duration": 15,
    "start_time": "2022-04-20T20:12:55.231Z"
   },
   {
    "duration": 40,
    "start_time": "2022-04-20T20:12:55.247Z"
   },
   {
    "duration": 7,
    "start_time": "2022-04-20T20:12:55.289Z"
   },
   {
    "duration": 10,
    "start_time": "2022-04-20T20:12:55.298Z"
   },
   {
    "duration": 9,
    "start_time": "2022-04-20T20:12:55.310Z"
   },
   {
    "duration": 4,
    "start_time": "2022-04-20T20:12:55.323Z"
   },
   {
    "duration": 58,
    "start_time": "2022-04-20T20:12:55.329Z"
   },
   {
    "duration": 14,
    "start_time": "2022-04-20T20:12:55.389Z"
   },
   {
    "duration": 6,
    "start_time": "2022-04-20T20:12:55.405Z"
   },
   {
    "duration": 114,
    "start_time": "2022-04-20T20:12:55.412Z"
   },
   {
    "duration": 56,
    "start_time": "2022-04-20T20:12:55.528Z"
   },
   {
    "duration": 5,
    "start_time": "2022-04-20T20:12:55.586Z"
   },
   {
    "duration": 14,
    "start_time": "2022-04-20T20:12:55.593Z"
   },
   {
    "duration": 26,
    "start_time": "2022-04-20T20:12:55.608Z"
   },
   {
    "duration": 40,
    "start_time": "2022-04-20T20:12:55.635Z"
   },
   {
    "duration": 4,
    "start_time": "2022-04-20T20:12:55.676Z"
   },
   {
    "duration": 39,
    "start_time": "2022-04-20T20:12:55.682Z"
   },
   {
    "duration": 15,
    "start_time": "2022-04-20T20:12:55.723Z"
   },
   {
    "duration": 45,
    "start_time": "2022-04-20T20:12:55.740Z"
   },
   {
    "duration": 5,
    "start_time": "2022-04-20T20:12:55.787Z"
   },
   {
    "duration": 24,
    "start_time": "2022-04-20T20:12:55.794Z"
   },
   {
    "duration": 11,
    "start_time": "2022-04-20T20:12:55.819Z"
   },
   {
    "duration": 16,
    "start_time": "2022-04-20T20:12:55.832Z"
   },
   {
    "duration": 45,
    "start_time": "2022-04-20T20:12:55.873Z"
   },
   {
    "duration": 36,
    "start_time": "2022-04-20T20:12:55.919Z"
   },
   {
    "duration": 17,
    "start_time": "2022-04-20T20:12:55.972Z"
   },
   {
    "duration": 32,
    "start_time": "2022-04-20T20:12:55.991Z"
   },
   {
    "duration": 58,
    "start_time": "2022-04-20T20:12:56.025Z"
   },
   {
    "duration": 34,
    "start_time": "2022-04-20T20:12:56.086Z"
   },
   {
    "duration": 5,
    "start_time": "2022-04-20T20:12:56.122Z"
   },
   {
    "duration": 14,
    "start_time": "2022-04-20T20:12:56.129Z"
   },
   {
    "duration": 29,
    "start_time": "2022-04-20T20:12:56.145Z"
   },
   {
    "duration": 19,
    "start_time": "2022-04-20T20:12:56.176Z"
   },
   {
    "duration": 19,
    "start_time": "2022-04-20T20:12:56.197Z"
   },
   {
    "duration": 18,
    "start_time": "2022-04-20T20:12:56.218Z"
   },
   {
    "duration": 36,
    "start_time": "2022-04-20T20:12:56.237Z"
   },
   {
    "duration": 4,
    "start_time": "2022-04-20T20:12:56.275Z"
   },
   {
    "duration": 16,
    "start_time": "2022-04-20T20:12:56.281Z"
   },
   {
    "duration": 1498,
    "start_time": "2022-04-20T20:12:56.299Z"
   },
   {
    "duration": 15,
    "start_time": "2022-04-20T20:12:57.799Z"
   },
   {
    "duration": 1953,
    "start_time": "2022-04-20T20:12:57.816Z"
   },
   {
    "duration": 16,
    "start_time": "2022-04-20T20:12:59.773Z"
   },
   {
    "duration": 1484,
    "start_time": "2022-04-20T20:12:59.791Z"
   },
   {
    "duration": 16,
    "start_time": "2022-04-20T20:13:01.277Z"
   },
   {
    "duration": 17,
    "start_time": "2022-04-20T20:13:05.019Z"
   },
   {
    "duration": 1779,
    "start_time": "2022-04-20T20:20:25.683Z"
   },
   {
    "duration": 4,
    "start_time": "2022-04-20T20:20:32.624Z"
   },
   {
    "duration": 485,
    "start_time": "2022-04-20T20:20:32.631Z"
   },
   {
    "duration": 9,
    "start_time": "2022-04-20T20:20:33.118Z"
   },
   {
    "duration": 31,
    "start_time": "2022-04-20T20:20:33.129Z"
   },
   {
    "duration": 10,
    "start_time": "2022-04-20T20:20:33.162Z"
   },
   {
    "duration": 30,
    "start_time": "2022-04-20T20:20:33.173Z"
   },
   {
    "duration": 8,
    "start_time": "2022-04-20T20:20:33.204Z"
   },
   {
    "duration": 31,
    "start_time": "2022-04-20T20:20:33.213Z"
   },
   {
    "duration": 11,
    "start_time": "2022-04-20T20:20:33.247Z"
   },
   {
    "duration": 24,
    "start_time": "2022-04-20T20:20:33.260Z"
   },
   {
    "duration": 23,
    "start_time": "2022-04-20T20:20:33.287Z"
   },
   {
    "duration": 41,
    "start_time": "2022-04-20T20:20:33.312Z"
   },
   {
    "duration": 27,
    "start_time": "2022-04-20T20:20:33.355Z"
   },
   {
    "duration": 12,
    "start_time": "2022-04-20T20:20:33.385Z"
   },
   {
    "duration": 19,
    "start_time": "2022-04-20T20:20:33.399Z"
   },
   {
    "duration": 9,
    "start_time": "2022-04-20T20:20:33.420Z"
   },
   {
    "duration": 54,
    "start_time": "2022-04-20T20:20:33.431Z"
   },
   {
    "duration": 4,
    "start_time": "2022-04-20T20:20:33.487Z"
   },
   {
    "duration": 8,
    "start_time": "2022-04-20T20:20:33.493Z"
   },
   {
    "duration": 24,
    "start_time": "2022-04-20T20:20:33.503Z"
   },
   {
    "duration": 52,
    "start_time": "2022-04-20T20:20:33.528Z"
   },
   {
    "duration": 15,
    "start_time": "2022-04-20T20:20:33.582Z"
   },
   {
    "duration": 15,
    "start_time": "2022-04-20T20:20:33.599Z"
   },
   {
    "duration": 15,
    "start_time": "2022-04-20T20:20:33.615Z"
   },
   {
    "duration": 8,
    "start_time": "2022-04-20T20:20:33.632Z"
   },
   {
    "duration": 6,
    "start_time": "2022-04-20T20:20:33.674Z"
   },
   {
    "duration": 10,
    "start_time": "2022-04-20T20:20:33.682Z"
   },
   {
    "duration": 15,
    "start_time": "2022-04-20T20:20:33.695Z"
   },
   {
    "duration": 30,
    "start_time": "2022-04-20T20:20:33.712Z"
   },
   {
    "duration": 42,
    "start_time": "2022-04-20T20:20:33.744Z"
   },
   {
    "duration": 9,
    "start_time": "2022-04-20T20:20:33.787Z"
   },
   {
    "duration": 57,
    "start_time": "2022-04-20T20:20:33.798Z"
   },
   {
    "duration": 44,
    "start_time": "2022-04-20T20:20:33.857Z"
   },
   {
    "duration": 6,
    "start_time": "2022-04-20T20:20:33.903Z"
   },
   {
    "duration": 16,
    "start_time": "2022-04-20T20:20:33.910Z"
   },
   {
    "duration": 46,
    "start_time": "2022-04-20T20:20:33.928Z"
   },
   {
    "duration": 17,
    "start_time": "2022-04-20T20:20:33.976Z"
   },
   {
    "duration": 3,
    "start_time": "2022-04-20T20:20:33.995Z"
   },
   {
    "duration": 44,
    "start_time": "2022-04-20T20:20:34.000Z"
   },
   {
    "duration": 42,
    "start_time": "2022-04-20T20:20:34.046Z"
   },
   {
    "duration": 25,
    "start_time": "2022-04-20T20:20:34.093Z"
   },
   {
    "duration": 7,
    "start_time": "2022-04-20T20:20:34.120Z"
   },
   {
    "duration": 48,
    "start_time": "2022-04-20T20:20:34.129Z"
   },
   {
    "duration": 16,
    "start_time": "2022-04-20T20:20:34.179Z"
   },
   {
    "duration": 18,
    "start_time": "2022-04-20T20:20:34.197Z"
   },
   {
    "duration": 71,
    "start_time": "2022-04-20T20:20:34.217Z"
   },
   {
    "duration": 37,
    "start_time": "2022-04-20T20:20:34.290Z"
   },
   {
    "duration": 18,
    "start_time": "2022-04-20T20:20:34.329Z"
   },
   {
    "duration": 54,
    "start_time": "2022-04-20T20:20:34.349Z"
   },
   {
    "duration": 24,
    "start_time": "2022-04-20T20:20:34.404Z"
   },
   {
    "duration": 54,
    "start_time": "2022-04-20T20:20:34.430Z"
   },
   {
    "duration": 4,
    "start_time": "2022-04-20T20:20:34.486Z"
   },
   {
    "duration": 16,
    "start_time": "2022-04-20T20:20:34.491Z"
   },
   {
    "duration": 13,
    "start_time": "2022-04-20T20:20:34.510Z"
   },
   {
    "duration": 23,
    "start_time": "2022-04-20T20:20:34.525Z"
   },
   {
    "duration": 47,
    "start_time": "2022-04-20T20:20:34.550Z"
   },
   {
    "duration": 19,
    "start_time": "2022-04-20T20:20:34.599Z"
   },
   {
    "duration": 3,
    "start_time": "2022-04-20T20:20:34.620Z"
   },
   {
    "duration": 8,
    "start_time": "2022-04-20T20:20:34.625Z"
   },
   {
    "duration": 8,
    "start_time": "2022-04-20T20:20:34.634Z"
   },
   {
    "duration": 1574,
    "start_time": "2022-04-20T20:20:34.644Z"
   },
   {
    "duration": 14,
    "start_time": "2022-04-20T20:20:36.220Z"
   },
   {
    "duration": 1542,
    "start_time": "2022-04-20T20:20:36.236Z"
   },
   {
    "duration": 15,
    "start_time": "2022-04-20T20:20:37.779Z"
   },
   {
    "duration": 1609,
    "start_time": "2022-04-20T20:20:37.795Z"
   },
   {
    "duration": 17,
    "start_time": "2022-04-20T20:20:39.405Z"
   },
   {
    "duration": 17,
    "start_time": "2022-04-20T20:20:39.423Z"
   },
   {
    "duration": 33,
    "start_time": "2022-04-20T20:20:39.442Z"
   },
   {
    "duration": 1399,
    "start_time": "2022-04-20T20:20:39.476Z"
   },
   {
    "duration": 15,
    "start_time": "2022-04-20T20:20:40.877Z"
   },
   {
    "duration": 28,
    "start_time": "2022-04-20T20:20:40.893Z"
   },
   {
    "duration": 52,
    "start_time": "2022-04-20T20:20:40.922Z"
   },
   {
    "duration": 30,
    "start_time": "2022-04-20T20:20:40.976Z"
   },
   {
    "duration": 31,
    "start_time": "2022-04-20T20:20:41.008Z"
   },
   {
    "duration": 5,
    "start_time": "2022-04-20T20:20:46.723Z"
   },
   {
    "duration": 13,
    "start_time": "2022-04-20T20:22:29.825Z"
   },
   {
    "duration": 12,
    "start_time": "2022-04-20T20:22:36.232Z"
   },
   {
    "duration": 18,
    "start_time": "2022-04-20T20:22:57.483Z"
   },
   {
    "duration": 12,
    "start_time": "2022-04-20T20:23:25.531Z"
   },
   {
    "duration": 14,
    "start_time": "2022-04-20T20:23:49.005Z"
   },
   {
    "duration": 8,
    "start_time": "2022-04-20T20:23:53.458Z"
   },
   {
    "duration": 8,
    "start_time": "2022-04-20T20:23:58.295Z"
   },
   {
    "duration": 47,
    "start_time": "2022-04-20T20:38:42.569Z"
   },
   {
    "duration": 6,
    "start_time": "2022-04-20T20:38:47.419Z"
   },
   {
    "duration": 0,
    "start_time": "2022-04-20T20:38:47.427Z"
   },
   {
    "duration": 9,
    "start_time": "2022-04-20T20:38:47.432Z"
   },
   {
    "duration": 0,
    "start_time": "2022-04-20T20:38:47.443Z"
   },
   {
    "duration": 0,
    "start_time": "2022-04-20T20:38:47.445Z"
   },
   {
    "duration": 0,
    "start_time": "2022-04-20T20:38:47.446Z"
   },
   {
    "duration": 0,
    "start_time": "2022-04-20T20:38:47.447Z"
   },
   {
    "duration": 0,
    "start_time": "2022-04-20T20:38:47.448Z"
   },
   {
    "duration": 0,
    "start_time": "2022-04-20T20:38:47.449Z"
   },
   {
    "duration": 0,
    "start_time": "2022-04-20T20:38:47.450Z"
   },
   {
    "duration": 0,
    "start_time": "2022-04-20T20:38:47.452Z"
   },
   {
    "duration": 0,
    "start_time": "2022-04-20T20:38:47.453Z"
   },
   {
    "duration": 0,
    "start_time": "2022-04-20T20:38:47.454Z"
   },
   {
    "duration": 9,
    "start_time": "2022-04-20T20:38:47.456Z"
   },
   {
    "duration": 8,
    "start_time": "2022-04-20T20:38:47.473Z"
   },
   {
    "duration": 0,
    "start_time": "2022-04-20T20:38:47.482Z"
   },
   {
    "duration": 0,
    "start_time": "2022-04-20T20:38:47.484Z"
   },
   {
    "duration": 0,
    "start_time": "2022-04-20T20:38:47.485Z"
   },
   {
    "duration": 0,
    "start_time": "2022-04-20T20:38:47.486Z"
   },
   {
    "duration": 7,
    "start_time": "2022-04-20T20:38:47.488Z"
   },
   {
    "duration": 0,
    "start_time": "2022-04-20T20:38:47.497Z"
   },
   {
    "duration": 0,
    "start_time": "2022-04-20T20:38:47.498Z"
   },
   {
    "duration": 0,
    "start_time": "2022-04-20T20:38:47.499Z"
   },
   {
    "duration": 11,
    "start_time": "2022-04-20T20:38:47.500Z"
   },
   {
    "duration": 0,
    "start_time": "2022-04-20T20:38:47.513Z"
   },
   {
    "duration": 0,
    "start_time": "2022-04-20T20:38:47.514Z"
   },
   {
    "duration": 5,
    "start_time": "2022-04-20T20:38:47.516Z"
   },
   {
    "duration": 46,
    "start_time": "2022-04-20T20:38:47.529Z"
   },
   {
    "duration": 0,
    "start_time": "2022-04-20T20:38:47.577Z"
   },
   {
    "duration": 1140,
    "start_time": "2022-04-20T20:38:49.829Z"
   },
   {
    "duration": 365,
    "start_time": "2022-04-20T20:38:50.971Z"
   },
   {
    "duration": 12,
    "start_time": "2022-04-20T20:38:51.337Z"
   },
   {
    "duration": 25,
    "start_time": "2022-04-20T20:38:51.351Z"
   },
   {
    "duration": 9,
    "start_time": "2022-04-20T20:38:51.377Z"
   },
   {
    "duration": 22,
    "start_time": "2022-04-20T20:38:51.387Z"
   },
   {
    "duration": 7,
    "start_time": "2022-04-20T20:38:51.411Z"
   },
   {
    "duration": 20,
    "start_time": "2022-04-20T20:38:51.419Z"
   },
   {
    "duration": 34,
    "start_time": "2022-04-20T20:38:51.440Z"
   },
   {
    "duration": 10,
    "start_time": "2022-04-20T20:38:51.477Z"
   },
   {
    "duration": 12,
    "start_time": "2022-04-20T20:38:51.489Z"
   },
   {
    "duration": 15,
    "start_time": "2022-04-20T20:38:51.503Z"
   },
   {
    "duration": 11,
    "start_time": "2022-04-20T20:38:51.520Z"
   },
   {
    "duration": 17,
    "start_time": "2022-04-20T20:38:51.532Z"
   },
   {
    "duration": 33,
    "start_time": "2022-04-20T20:38:51.551Z"
   },
   {
    "duration": 11,
    "start_time": "2022-04-20T20:38:51.586Z"
   },
   {
    "duration": 34,
    "start_time": "2022-04-20T20:38:51.598Z"
   },
   {
    "duration": 4,
    "start_time": "2022-04-20T20:38:51.634Z"
   },
   {
    "duration": 7,
    "start_time": "2022-04-20T20:38:51.639Z"
   },
   {
    "duration": 38,
    "start_time": "2022-04-20T20:38:51.648Z"
   },
   {
    "duration": 32,
    "start_time": "2022-04-20T20:38:51.688Z"
   },
   {
    "duration": 56,
    "start_time": "2022-04-20T20:38:51.721Z"
   },
   {
    "duration": 15,
    "start_time": "2022-04-20T20:38:51.779Z"
   },
   {
    "duration": 16,
    "start_time": "2022-04-20T20:38:51.796Z"
   },
   {
    "duration": 8,
    "start_time": "2022-04-20T20:38:51.813Z"
   },
   {
    "duration": 7,
    "start_time": "2022-04-20T20:38:51.822Z"
   },
   {
    "duration": 10,
    "start_time": "2022-04-20T20:38:51.831Z"
   },
   {
    "duration": 5,
    "start_time": "2022-04-20T20:38:51.876Z"
   },
   {
    "duration": 35,
    "start_time": "2022-04-20T20:38:51.883Z"
   },
   {
    "duration": 14,
    "start_time": "2022-04-20T20:38:51.920Z"
   },
   {
    "duration": 4,
    "start_time": "2022-04-20T20:38:51.935Z"
   },
   {
    "duration": 77,
    "start_time": "2022-04-20T20:38:51.941Z"
   },
   {
    "duration": 36,
    "start_time": "2022-04-20T20:38:52.020Z"
   },
   {
    "duration": 19,
    "start_time": "2022-04-20T20:38:52.058Z"
   },
   {
    "duration": 14,
    "start_time": "2022-04-20T20:38:52.079Z"
   },
   {
    "duration": 25,
    "start_time": "2022-04-20T20:38:52.095Z"
   },
   {
    "duration": 16,
    "start_time": "2022-04-20T20:38:52.122Z"
   },
   {
    "duration": 34,
    "start_time": "2022-04-20T20:38:52.140Z"
   },
   {
    "duration": 36,
    "start_time": "2022-04-20T20:38:52.177Z"
   },
   {
    "duration": 15,
    "start_time": "2022-04-20T20:38:52.215Z"
   },
   {
    "duration": 43,
    "start_time": "2022-04-20T20:38:52.232Z"
   },
   {
    "duration": 5,
    "start_time": "2022-04-20T20:38:52.277Z"
   },
   {
    "duration": 20,
    "start_time": "2022-04-20T20:38:52.284Z"
   },
   {
    "duration": 10,
    "start_time": "2022-04-20T20:38:52.305Z"
   },
   {
    "duration": 17,
    "start_time": "2022-04-20T20:38:52.316Z"
   },
   {
    "duration": 71,
    "start_time": "2022-04-20T20:38:52.334Z"
   },
   {
    "duration": 33,
    "start_time": "2022-04-20T20:38:52.406Z"
   },
   {
    "duration": 15,
    "start_time": "2022-04-20T20:38:52.440Z"
   },
   {
    "duration": 28,
    "start_time": "2022-04-20T20:38:52.474Z"
   },
   {
    "duration": 24,
    "start_time": "2022-04-20T20:38:52.504Z"
   },
   {
    "duration": 52,
    "start_time": "2022-04-20T20:38:52.530Z"
   },
   {
    "duration": 4,
    "start_time": "2022-04-20T20:38:52.583Z"
   },
   {
    "duration": 13,
    "start_time": "2022-04-20T20:38:52.589Z"
   },
   {
    "duration": 7,
    "start_time": "2022-04-20T20:38:52.603Z"
   },
   {
    "duration": 19,
    "start_time": "2022-04-20T20:38:52.611Z"
   },
   {
    "duration": 47,
    "start_time": "2022-04-20T20:38:52.632Z"
   },
   {
    "duration": 18,
    "start_time": "2022-04-20T20:38:52.680Z"
   },
   {
    "duration": 2,
    "start_time": "2022-04-20T20:38:52.700Z"
   },
   {
    "duration": 12,
    "start_time": "2022-04-20T20:38:52.704Z"
   },
   {
    "duration": 7,
    "start_time": "2022-04-20T20:38:52.717Z"
   },
   {
    "duration": 1450,
    "start_time": "2022-04-20T20:38:52.726Z"
   },
   {
    "duration": 15,
    "start_time": "2022-04-20T20:38:54.178Z"
   },
   {
    "duration": 2016,
    "start_time": "2022-04-20T20:38:54.195Z"
   },
   {
    "duration": 17,
    "start_time": "2022-04-20T20:38:56.212Z"
   },
   {
    "duration": 1420,
    "start_time": "2022-04-20T20:38:56.231Z"
   },
   {
    "duration": 21,
    "start_time": "2022-04-20T20:38:57.653Z"
   },
   {
    "duration": 15,
    "start_time": "2022-04-20T20:38:57.676Z"
   },
   {
    "duration": 14,
    "start_time": "2022-04-20T20:38:57.693Z"
   },
   {
    "duration": 1417,
    "start_time": "2022-04-20T20:38:57.709Z"
   },
   {
    "duration": 15,
    "start_time": "2022-04-20T20:38:59.128Z"
   },
   {
    "duration": 43,
    "start_time": "2022-04-20T20:38:59.144Z"
   },
   {
    "duration": 29,
    "start_time": "2022-04-20T20:38:59.189Z"
   },
   {
    "duration": 30,
    "start_time": "2022-04-20T20:38:59.220Z"
   },
   {
    "duration": 50,
    "start_time": "2022-04-20T20:38:59.252Z"
   },
   {
    "duration": 65,
    "start_time": "2022-04-20T20:38:59.304Z"
   },
   {
    "duration": 20,
    "start_time": "2022-04-20T20:38:59.371Z"
   },
   {
    "duration": 15,
    "start_time": "2022-04-20T20:38:59.393Z"
   },
   {
    "duration": 25,
    "start_time": "2022-04-20T20:38:59.410Z"
   },
   {
    "duration": 370,
    "start_time": "2022-04-20T20:38:59.438Z"
   },
   {
    "duration": 7,
    "start_time": "2022-04-20T20:38:59.810Z"
   },
   {
    "duration": 14,
    "start_time": "2022-04-20T20:38:59.819Z"
   },
   {
    "duration": 18,
    "start_time": "2022-04-20T20:38:59.839Z"
   },
   {
    "duration": 431,
    "start_time": "2022-04-20T20:38:59.859Z"
   },
   {
    "duration": 8,
    "start_time": "2022-04-20T20:39:00.293Z"
   },
   {
    "duration": 75,
    "start_time": "2022-04-20T20:39:00.303Z"
   },
   {
    "duration": 31,
    "start_time": "2022-04-20T20:39:00.381Z"
   },
   {
    "duration": 793,
    "start_time": "2022-04-20T20:39:00.414Z"
   },
   {
    "duration": 8,
    "start_time": "2022-04-20T20:39:01.209Z"
   },
   {
    "duration": 59,
    "start_time": "2022-04-20T20:39:01.219Z"
   },
   {
    "duration": 47,
    "start_time": "2022-04-20T20:39:01.280Z"
   },
   {
    "duration": 623,
    "start_time": "2022-04-20T20:39:01.329Z"
   },
   {
    "duration": 7,
    "start_time": "2022-04-20T20:39:01.954Z"
   },
   {
    "duration": 28,
    "start_time": "2022-04-20T20:39:01.973Z"
   },
   {
    "duration": 47,
    "start_time": "2022-04-20T20:39:02.003Z"
   },
   {
    "duration": 349,
    "start_time": "2022-04-20T20:39:02.052Z"
   },
   {
    "duration": 9,
    "start_time": "2022-04-20T20:39:02.403Z"
   },
   {
    "duration": 16,
    "start_time": "2022-04-20T20:39:02.414Z"
   },
   {
    "duration": 15,
    "start_time": "2022-04-20T20:39:02.431Z"
   },
   {
    "duration": 18,
    "start_time": "2022-04-20T20:39:02.448Z"
   },
   {
    "duration": 19,
    "start_time": "2022-04-20T20:39:02.467Z"
   },
   {
    "duration": 10,
    "start_time": "2022-04-20T20:39:02.488Z"
   },
   {
    "duration": 26,
    "start_time": "2022-04-20T20:39:02.500Z"
   },
   {
    "duration": 13,
    "start_time": "2022-04-20T20:39:02.527Z"
   },
   {
    "duration": 20,
    "start_time": "2022-04-20T20:39:02.542Z"
   },
   {
    "duration": 12,
    "start_time": "2022-04-20T20:39:02.564Z"
   },
   {
    "duration": 9,
    "start_time": "2022-04-20T20:39:02.578Z"
   },
   {
    "duration": 9,
    "start_time": "2022-04-20T20:39:15.879Z"
   },
   {
    "duration": 10,
    "start_time": "2022-04-20T20:39:23.282Z"
   },
   {
    "duration": 10,
    "start_time": "2022-04-20T20:40:03.227Z"
   },
   {
    "duration": 8,
    "start_time": "2022-04-20T20:40:26.740Z"
   },
   {
    "duration": 7,
    "start_time": "2022-04-20T20:40:40.460Z"
   },
   {
    "duration": 8,
    "start_time": "2022-04-20T20:43:02.811Z"
   }
  ],
  "kernelspec": {
   "display_name": "Python 3 (ipykernel)",
   "language": "python",
   "name": "python3"
  },
  "language_info": {
   "codemirror_mode": {
    "name": "ipython",
    "version": 3
   },
   "file_extension": ".py",
   "mimetype": "text/x-python",
   "name": "python",
   "nbconvert_exporter": "python",
   "pygments_lexer": "ipython3",
   "version": "3.7.8"
  },
  "toc": {
   "base_numbering": 1,
   "nav_menu": {},
   "number_sections": false,
   "sideBar": true,
   "skip_h1_title": true,
   "title_cell": "Содержание",
   "title_sidebar": "Contents",
   "toc_cell": true,
   "toc_position": {},
   "toc_section_display": true,
   "toc_window_display": false
  }
 },
 "nbformat": 4,
 "nbformat_minor": 5
}
